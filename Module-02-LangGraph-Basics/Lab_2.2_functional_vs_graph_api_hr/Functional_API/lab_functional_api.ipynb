{
  "cells": [
    {
      "cell_type": "code",
      "metadata": {
        "id": "ffa42b57"
      },
      "source": [
        "!pip install langgraph"
      ],
      "execution_count": null,
      "outputs": []
    },
    {
      "cell_type": "code",
      "source": [
        "from typing import TypedDict\n",
        "from langgraph.graph import StateGraph # Corrected import\n",
        "from langgraph.graph.message import add_messages\n",
        "\n",
        "class ResumeState(TypedDict):\n",
        "    resume_text: str\n",
        "    skills: list[str]\n",
        "    score: int\n",
        "    decision: str\n",
        "\n",
        "def parse_resume(state: ResumeState) -> dict:\n",
        "    print(\"--- Executing Node: parse_resume ---\")\n",
        "    resume = state[\"resume_text\"]\n",
        "    skills = []\n",
        "    if \"python\" in resume.lower():\n",
        "        skills.append(\"Python\")\n",
        "    if \"java\" in resume.lower():\n",
        "        skills.append(\"Java\")\n",
        "    if \"management\" in resume.lower():\n",
        "        skills.append(\"Management\")\n",
        "    return {\"skills\": skills}\n",
        "\n",
        "def score_candidate(state: ResumeState) -> dict:\n",
        "    print(\"--- Executing Node: score_candidate ---\")\n",
        "    score = len(state.get(\"skills\", [])) * 20\n",
        "    return {\"score\": score}\n",
        "\n",
        "def make_decision(state: ResumeState) -> dict:\n",
        "    print(\"--- Executing Node: make_decision ---\")\n",
        "    score = state.get(\"score\", 0)\n",
        "    if score >= 60:\n",
        "        decision = \"Interview\"\n",
        "    elif score >= 40:\n",
        "        decision = \"Second Review\"\n",
        "    else:\n",
        "        decision = \"Reject\"\n",
        "    return {\"decision\": decision}\n",
        "\n",
        "# Changed from Graph to StateGraph\n",
        "graph = StateGraph(ResumeState) # Changed from Graph to StateGraph\n",
        "graph.add_node(\"parse\", parse_resume)\n",
        "graph.add_node(\"score\", score_candidate)\n",
        "graph.add_node(\"decide\", make_decision)\n",
        "\n",
        "graph.set_entry_point(\"parse\")\n",
        "graph.add_edge(\"parse\", \"score\")\n",
        "graph.add_edge(\"score\", \"decide\")\n",
        "graph.set_finish_point(\"decide\")\n",
        "\n",
        "app = graph.compile()\n",
        "\n",
        "initial_state = {\n",
        "    \"resume_text\": \"Experienced Python developer with Java and management experience\"\n",
        "}\n",
        "final_state = app.invoke(initial_state)\n",
        "\n",
        "print(\"\\n\" + \"=\"*50)\n",
        "print(\"FUNCTIONAL API - FINAL STATE:\")\n",
        "print(final_state)\n",
        "print(\"=\"*50)"
      ],
      "outputs": [
        {
          "output_type": "stream",
          "name": "stdout",
          "text": [
            "--- Executing Node: parse_resume ---\n",
            "--- Executing Node: score_candidate ---\n",
            "--- Executing Node: make_decision ---\n",
            "\n",
            "==================================================\n",
            "FUNCTIONAL API - FINAL STATE:\n",
            "{'resume_text': 'Experienced Python developer with Java and management experience', 'skills': ['Python', 'Java', 'Management'], 'score': 60, 'decision': 'Interview'}\n",
            "==================================================\n"
          ]
        }
      ],
      "execution_count": 2,
      "metadata": {
        "colab": {
          "base_uri": "https://localhost:8080/"
        },
        "id": "1xEP0ER91Yqm",
        "outputId": "88e4a79b-27dc-427c-ad92-5560bffd60db"
      }
    }
  ],
  "metadata": {
    "colab": {
      "provenance": []
    },
    "kernelspec": {
      "display_name": "Python 3",
      "name": "python3"
    }
  },
  "nbformat": 4,
  "nbformat_minor": 0
}