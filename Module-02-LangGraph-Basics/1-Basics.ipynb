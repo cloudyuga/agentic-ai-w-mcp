{
  "cells": [
    {
      "cell_type": "markdown",
      "metadata": {},
      "source": [
        "# Module 2: LangGraph Fundamentals - HR Agent Labs (LangChain 1.0)\n",
        "\n",
        "**Updated for LangChain 1.0 Alpha**\n",
        "\n",
        "**Building on Module 1**: In Module 1, you built three HR agents. Now we'll learn LangGraph - the foundation that powers those agents.\n",
        "\n",
        "**Why learn LangGraph?** Understanding LangGraph gives you:\n",
        "- Full control over agent workflows\n",
        "- Ability to create custom patterns\n",
        "- Better debugging and optimization\n",
        "- Foundation for advanced agentic systems\n",
        "\n",
        "**Time:** 2-3 hours"
      ]
    },
    {
      "cell_type": "markdown",
      "metadata": {},
      "source": [
        "## Setup: Install Dependencies"
      ]
    },
    {
      "cell_type": "code",
      "execution_count": null,
      "metadata": {},
      "outputs": [],
      "source": [
        "# Install required packages for LangChain 1.0\n",
        "!pip install --pre -U langchain langchain-openai langgraph"
      ]
    },
    {
      "cell_type": "markdown",
      "metadata": {},
      "source": [
        "## Setup: Configure OpenAI API Key"
      ]
    },
    {
      "cell_type": "code",
      "execution_count": null,
      "metadata": {},
      "outputs": [],
      "source": [
        "import os\n",
        "\n",
        "# Set your OpenAI API key\n",
        "# Option 1: For Google Colab\n",
        "# from google.colab import userdata\n",
        "# OPENAI_API_KEY = userdata.get('OPENAI_API_KEY')\n",
        "# os.environ['OPENAI_API_KEY'] = OPENAI_API_KEY\n",
        "\n",
        "# Option 2: Set directly (not recommended for production)\n",
        "os.environ['OPENAI_API_KEY'] = 'your-api-key-here'\n",
        "\n",
        "print(\"✅ API Key configured!\")"
      ]
    },
    {
      "cell_type": "markdown",
      "metadata": {},
      "source": [
        "---\n",
        "# Lab 1: Your First LangGraph - Linear Workflow\n",
        "\n",
        "**Objective:** Build a simple linear workflow using LangGraph's core concepts: State, Nodes, Edges, START, and END.\n",
        "\n",
        "**Scenario:** Create an employee onboarding workflow that processes new hires step by step.\n",
        "\n",
        "**Key Concepts:**\n",
        "- **State**: Data that flows through the graph\n",
        "- **Nodes**: Functions that do work\n",
        "- **Edges**: Connections between nodes\n",
        "- **START**: Entry point\n",
        "- **END**: Exit point"
      ]
    },
    {
      "cell_type": "markdown",
      "metadata": {},
      "source": [
        "## Imports"
      ]
    },
    {
      "cell_type": "code",
      "execution_count": null,
      "metadata": {},
      "outputs": [],
      "source": [
        "from typing import TypedDict, Annotated\n",
        "from langgraph.graph import StateGraph, START, END\n",
        "from langgraph.graph.message import add_messages\n",
        "from langchain_openai import ChatOpenAI\n",
        "\n",
        "# Initialize LLM\n",
        "llm = ChatOpenAI(model=\"gpt-4o-mini\", temperature=0)\n",
        "\n",
        "print(\"✅ Imports successful!\")"
      ]
    },
    {
      "cell_type": "markdown",
      "metadata": {},
      "source": [
        "## Part 1: Understanding State\n",
        "\n",
        "**State** is the data structure that flows through your graph. It's like a shared clipboard that every node can read and update."
      ]
    },
    {
      "cell_type": "code",
      "execution_count": null,
      "metadata": {},
      "outputs": [],
      "source": [
        "class OnboardingState(TypedDict):\n",
        "    \"\"\"State for employee onboarding workflow\"\"\"\n",
        "    employee_name: str\n",
        "    employee_id: str\n",
        "    department: str\n",
        "    messages: Annotated[list, add_messages]\n",
        "    validation_status: str\n",
        "    tasks_completed: list\n",
        "\n",
        "print(\"✅ OnboardingState defined!\")\n",
        "print(\"\\nState fields:\")\n",
        "print(\"  - employee_name: Employee's full name\")\n",
        "print(\"  - employee_id: Unique employee ID\")\n",
        "print(\"  - department: Department name\")\n",
        "print(\"  - messages: Conversation history\")\n",
        "print(\"  - validation_status: Validation result\")\n",
        "print(\"  - tasks_completed: List of completed tasks\")"
      ]
    },
    {
      "cell_type": "markdown",
      "metadata": {},
      "source": [
        "## Part 2: Creating Nodes\n",
        "\n",
        "**Nodes** are functions that do work. Each node receives state, processes it, and returns updates."
      ]
    },
    {
      "cell_type": "code",
      "execution_count": null,
      "metadata": {},
      "outputs": [],
      "source": [
        "def validate_employee(state: OnboardingState):\n",
        "    \"\"\"Node 1: Validate employee information\"\"\"\n",
        "    print(f\"📋 Step 1: Validating employee {state['employee_name']}...\")\n",
        "    \n",
        "    # Simple validation\n",
        "    if state['employee_name'] and state['employee_id']:\n",
        "        return {\n",
        "            \"validation_status\": \"✅ Validated\",\n",
        "            \"messages\": [(\"assistant\", f\"Employee {state['employee_name']} (ID: {state['employee_id']}) validated successfully\")]\n",
        "        }\n",
        "    else:\n",
        "        return {\n",
        "            \"validation_status\": \"❌ Failed\",\n",
        "            \"messages\": [(\"assistant\", \"Validation failed: Missing information\")]\n",
        "        }\n",
        "\n",
        "def assign_equipment(state: OnboardingState):\n",
        "    \"\"\"Node 2: Assign equipment based on department\"\"\"\n",
        "    print(f\"💻 Step 2: Assigning equipment for {state['department']} department...\")\n",
        "    \n",
        "    equipment = {\n",
        "        \"Engineering\": [\"Laptop (MacBook Pro)\", \"Monitor\", \"Keyboard\", \"Mouse\"],\n",
        "        \"HR\": [\"Laptop (ThinkPad)\", \"Headset\"],\n",
        "        \"Sales\": [\"Laptop (MacBook Air)\", \"Phone\", \"CRM Access\"],\n",
        "        \"Marketing\": [\"Laptop (MacBook Pro)\", \"Design Software License\"]\n",
        "    }\n",
        "    \n",
        "    dept_equipment = equipment.get(state['department'], [\"Standard Laptop\"])\n",
        "    \n",
        "    return {\n",
        "        \"tasks_completed\": state['tasks_completed'] + [\"Equipment assigned\"],\n",
        "        \"messages\": [(\"assistant\", f\"Assigned equipment: {', '.join(dept_equipment)}\")]\n",
        "    }\n",
        "\n",
        "def setup_accounts(state: OnboardingState):\n",
        "    \"\"\"Node 3: Set up employee accounts\"\"\"\n",
        "    print(f\"🔐 Step 3: Setting up accounts for {state['employee_name']}...\")\n",
        "    \n",
        "    accounts = [\"Email\", \"Slack\", \"HR Portal\", \"Leave Management System\"]\n",
        "    \n",
        "    return {\n",
        "        \"tasks_completed\": state['tasks_completed'] + [\"Accounts created\"],\n",
        "        \"messages\": [(\"assistant\", f\"Created accounts: {', '.join(accounts)}\")]\n",
        "    }\n",
        "\n",
        "def send_welcome_email(state: OnboardingState):\n",
        "    \"\"\"Node 4: Send welcome email\"\"\"\n",
        "    print(f\"📧 Step 4: Sending welcome email...\")\n",
        "    \n",
        "    return {\n",
        "        \"tasks_completed\": state['tasks_completed'] + [\"Welcome email sent\"],\n",
        "        \"messages\": [(\"assistant\", f\"Welcome email sent to {state['employee_name']}@company.com\")]\n",
        "    }\n",
        "\n",
        "print(\"✅ All nodes defined!\")"
      ]
    },
    {
      "cell_type": "markdown",
      "metadata": {},
      "source": [
        "## Part 3: Building the Graph\n",
        "\n",
        "Now we connect everything using **Edges**."
      ]
    },
    {
      "cell_type": "code",
      "execution_count": null,
      "metadata": {},
      "outputs": [],
      "source": [
        "# Create the graph\n",
        "workflow = StateGraph(OnboardingState)\n",
        "\n",
        "# Add nodes\n",
        "workflow.add_node(\"validate\", validate_employee)\n",
        "workflow.add_node(\"assign_equipment\", assign_equipment)\n",
        "workflow.add_node(\"setup_accounts\", setup_accounts)\n",
        "workflow.add_node(\"send_welcome\", send_welcome_email)\n",
        "\n",
        "# Add edges (define the flow)\n",
        "workflow.add_edge(START, \"validate\")  # START → validate\n",
        "workflow.add_edge(\"validate\", \"assign_equipment\")  # validate → assign_equipment\n",
        "workflow.add_edge(\"assign_equipment\", \"setup_accounts\")  # assign_equipment → setup_accounts\n",
        "workflow.add_edge(\"setup_accounts\", \"send_welcome\")  # setup_accounts → send_welcome\n",
        "workflow.add_edge(\"send_welcome\", END)  # send_welcome → END\n",
        "\n",
        "# Compile the graph\n",
        "onboarding_app = workflow.compile()\n",
        "\n",
        "print(\"✅ Onboarding workflow created!\")\n",
        "print(\"\\nWorkflow: START → validate → assign_equipment → setup_accounts → send_welcome → END\")"
      ]
    },
    {
      "cell_type": "markdown",
      "metadata": {},
      "source": [
        "## Part 4: Visualize the Graph (Optional)"
      ]
    },
    {
      "cell_type": "code",
      "execution_count": null,
      "metadata": {},
      "outputs": [],
      "source": [
        "# Visualize the workflow\n",
        "from IPython.display import Image, display\n",
        "\n",
        "try:\n",
        "    display(Image(onboarding_app.get_graph().draw_mermaid_png()))\n",
        "except Exception as e:\n",
        "    print(f\"Visualization not available: {e}\")\n",
        "    print(\"But the workflow works perfectly!\")"
      ]
    },
    {
      "cell_type": "markdown",
      "metadata": {},
      "source": [
        "## Part 5: Run the Workflow"
      ]
    },
    {
      "cell_type": "code",
      "execution_count": null,
      "metadata": {},
      "outputs": [],
      "source": [
        "# Test the workflow\n",
        "initial_state = {\n",
        "    \"employee_name\": \"Karan Singh\",\n",
        "    \"employee_id\": \"106\",\n",
        "    \"department\": \"Engineering\",\n",
        "    \"messages\": [],\n",
        "    \"validation_status\": \"\",\n",
        "    \"tasks_completed\": []\n",
        "}\n",
        "\n",
        "print(\"=\"*70)\n",
        "print(\"STARTING ONBOARDING WORKFLOW\")\n",
        "print(\"=\"*70)\n",
        "\n",
        "result = onboarding_app.invoke(initial_state)\n",
        "\n",
        "print(\"\\n\" + \"=\"*70)\n",
        "print(\"ONBOARDING COMPLETE!\")\n",
        "print(\"=\"*70)\n",
        "print(f\"\\nEmployee: {result['employee_name']}\")\n",
        "print(f\"Status: {result['validation_status']}\")\n",
        "print(f\"Tasks completed: {len(result['tasks_completed'])}\")\n",
        "print(f\"\\nAll steps:\")\n",
        "for task in result['tasks_completed']:\n",
        "    print(f\"  ✓ {task}\")"
      ]
    },
    {
      "cell_type": "markdown",
      "metadata": {},
      "source": [
        "## 🎯 Exercise 1.1: Add an Orientation Node\n",
        "\n",
        "Add a new node `schedule_orientation` that:\n",
        "- Comes after `send_welcome` and before `END`\n",
        "- Adds \"Orientation scheduled\" to tasks_completed\n",
        "- Prints orientation date (e.g., \"Orientation scheduled for [next Monday]\")"
      ]
    },
    {
      "cell_type": "code",
      "execution_count": null,
      "metadata": {},
      "outputs": [],
      "source": [
        "# Your code here\n",
        "def schedule_orientation(state: OnboardingState):\n",
        "    \"\"\"TODO: Implement this node\"\"\"\n",
        "    pass\n",
        "\n",
        "# TODO: Create new workflow with the orientation node\n",
        "# TODO: Test it"
      ]
    },
    {
      "cell_type": "markdown",
      "metadata": {},
      "source": [
        "---\n",
        "# Lab 2: Using LangChain Agents - Simple Approach\n",
        "\n",
        "**Objective:** Learn the simple way to create agents using LangChain 1.0.\n",
        "\n",
        "**Key Concept:** Use `create_agent` with `system_prompt` for simple cases."
      ]
    },
    {
      "cell_type": "markdown",
      "metadata": {},
      "source": [
        "## Part 1: Create a Simple Tool"
      ]
    },
    {
      "cell_type": "code",
      "execution_count": null,
      "metadata": {},
      "outputs": [],
      "source": [
        "from langchain_core.tools import tool\n",
        "\n",
        "# Employee database\n",
        "leave_balances = {\n",
        "    \"101\": 12,\n",
        "    \"102\": 8,\n",
        "    \"103\": 15,\n",
        "    \"104\": 10,\n",
        "    \"105\": 5\n",
        "}\n",
        "\n",
        "@tool\n",
        "def check_leave_balance(employee_id: str) -> str:\n",
        "    \"\"\"Check the leave balance for an employee.\n",
        "    \n",
        "    Args:\n",
        "        employee_id: The employee's ID number as a string\n",
        "    \n",
        "    Returns:\n",
        "        A message with the employee's leave balance\n",
        "    \"\"\"\n",
        "    balance = leave_balances.get(employee_id, 0)\n",
        "    return f\"Employee {employee_id} has {balance} days of leave available.\"\n",
        "\n",
        "print(\"✅ Tool created!\")"
      ]
    },
    {
      "cell_type": "markdown",
      "metadata": {},
      "source": [
        "## Part 2: Create Agent with Simple System Prompt (LangChain 1.0 Way)"
      ]
    },
    {
      "cell_type": "code",
      "execution_count": null,
      "metadata": {},
      "outputs": [],
      "source": [
        "from langchain.agents import create_agent\n",
        "\n",
        "# Create agent with system_prompt (NEW in LangChain 1.0)\n",
        "hr_agent = create_agent(\n",
        "    model=llm,\n",
        "    tools=[check_leave_balance],\n",
        "    system_prompt=\"\"\"You are a helpful HR assistant. \n",
        "    When users ask about leave balance, use the check_leave_balance tool.\n",
        "    Be friendly and professional.\"\"\"\n",
        ")\n",
        "\n",
        "print(\"✅ HR Agent created with system_prompt!\")"
      ]
    },
    {
      "cell_type": "markdown",
      "metadata": {},
      "source": [
        "## Part 3: Use the Agent"
      ]
    },
    {
      "cell_type": "code",
      "execution_count": null,
      "metadata": {},
      "outputs": [],
      "source": [
        "# Human messages go in the invoke\n",
        "response = hr_agent.invoke({\n",
        "    \"messages\": [\n",
        "        {\"role\": \"user\", \"content\": \"What's my leave balance? My ID is 101\"}\n",
        "    ]\n",
        "})\n",
        "\n",
        "# Print the response\n",
        "print(response[\"messages\"][-1].content)"
      ]
    },
    {
      "cell_type": "markdown",
      "metadata": {},
      "source": [
        "## Part 4: Try Multiple Queries"
      ]
    },
    {
      "cell_type": "code",
      "execution_count": null,
      "metadata": {},
      "outputs": [],
      "source": [
        "# Test different queries\n",
        "queries = [\n",
        "    \"Check leave balance for employee 102\",\n",
        "    \"How many days does employee 103 have?\",\n",
        "    \"Tell me about employee 105's leave\"\n",
        "]\n",
        "\n",
        "for query in queries:\n",
        "    print(f\"\\n❓ Query: {query}\")\n",
        "    response = hr_agent.invoke({\"messages\": [{\"role\": \"user\", \"content\": query}]})\n",
        "    print(f\"🤖 Response: {response['messages'][-1].content}\")"
      ]
    },
    {
      "cell_type": "markdown",
      "metadata": {},
      "source": [
        "## 🎯 Exercise 2.1: Add More Tools\n",
        "\n",
        "Create additional tools for the HR agent:\n",
        "1. `get_employee_info(employee_id)` - Returns name and department\n",
        "2. `request_leave(employee_id, days)` - Submits a leave request\n",
        "\n",
        "Update the agent with these new tools."
      ]
    },
    {
      "cell_type": "code",
      "execution_count": null,
      "metadata": {},
      "outputs": [],
      "source": [
        "# Your code here\n",
        "employees = {\n",
        "    \"101\": {\"name\": \"Priya Sharma\", \"department\": \"Engineering\"},\n",
        "    \"102\": {\"name\": \"Rahul Verma\", \"department\": \"Engineering\"},\n",
        "    \"103\": {\"name\": \"Anjali Patel\", \"department\": \"HR\"},\n",
        "}\n",
        "\n",
        "@tool\n",
        "def get_employee_info(employee_id: str) -> str:\n",
        "    \"\"\"TODO: Implement this\"\"\"\n",
        "    pass\n",
        "\n",
        "# TODO: Create request_leave tool\n",
        "# TODO: Create new agent with all three tools"
      ]
    },
    {
      "cell_type": "markdown",
      "metadata": {},
      "source": [
        "---\n",
        "## Summary\n",
        "\n",
        "### Key Takeaways:\n",
        "\n",
        "1. **LangChain 1.0 Changes:**\n",
        "   - Use `system_prompt` instead of `prompt` parameter\n",
        "   - System prompt = Agent's role and behavior (string)\n",
        "   - Human messages = User queries (passed in invoke)\n",
        "\n",
        "2. **Simple Pattern:**\n",
        "   ```python\n",
        "   agent = create_agent(\n",
        "       model=llm,\n",
        "       tools=[...],\n",
        "       system_prompt=\"You are a helpful assistant...\"\n",
        "   )\n",
        "   \n",
        "   response = agent.invoke({\n",
        "       \"messages\": [{\"role\": \"user\", \"content\": \"...\"}]\n",
        "   })\n",
        "   ```\n",
        "\n",
        "3. **When You Need More:**\n",
        "   - For dynamic prompts based on state → Use prompt functions\n",
        "   - For complex workflows → Use LangGraph StateGraph\n",
        "   - For simple agents → Use create_agent with system_prompt\n",
        "\n",
        "### Next Steps:\n",
        "- Complete the exercises\n",
        "- Experiment with different system prompts\n",
        "- Try creating your own tools\n",
        "- Build a complete HR workflow combining LangGraph + Agents"
      ]
    }
  ],
  "metadata": {
    "kernelspec": {
      "display_name": "Python 3",
      "language": "python",
      "name": "python3"
    },
    "language_info": {
      "name": "python",
      "version": "3.11.0"
    }
  },
  "nbformat": 4,
  "nbformat_minor": 4
}
