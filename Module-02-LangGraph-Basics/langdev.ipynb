{
  "nbformat": 4,
  "nbformat_minor": 0,
  "metadata": {
    "colab": {
      "provenance": [],
      "collapsed_sections": []
    },
    "kernelspec": {
      "name": "python3",
      "display_name": "Python 3"
    },
    "language_info": {
      "name": "python"
    }
  },
  "cells": [
    {
      "cell_type": "markdown",
      "source": [
        "# 🚀 LangGraph Studio 1.0 (Alpha) on Google Colab\n",
        "\n",
        "This notebook sets up **LangGraph Studio v1.0-alpha** with tunneling to run in Google Colab.\n",
        "\n",
        "## 📋 Prerequisites\n",
        "\n",
        "You'll need:\n",
        "1. **LangSmith API Key** - Get from [smith.langchain.com/settings](https://smith.langchain.com/settings) (free signup)\n",
        "2. **OpenAI API Key** - Get from [platform.openai.com](https://platform.openai.com)\n",
        "\n",
        "## ⚠️ Note\n",
        "LangGraph 1.0 is currently in **alpha** - APIs may change before stable release.\n",
        "\n",
        "---"
      ],
      "metadata": {
        "id": "header"
      }
    },
    {
      "cell_type": "markdown",
      "source": [
        "## Step 1: Install LangGraph 1.0 Alpha"
      ],
      "metadata": {
        "id": "step1"
      }
    },
    {
      "cell_type": "code",
      "source": [
        "print(\"📦 Installing LangGraph 1.0 (alpha) and dependencies...\")\n",
        "!pip install -q --pre \"langgraph>=1.0.0a0\" \"langgraph-cli>=1.0.0a0\" langchain-openai langchain-core\n",
        "\n",
        "print(\"\\n✅ Installation complete!\")\n",
        "print(\"\\nℹ️  LangGraph 1.0 is currently in alpha. API may change.\")"
      ],
      "metadata": {
        "id": "install"
      },
      "execution_count": null,
      "outputs": []
    },
    {
      "cell_type": "markdown",
      "source": [
        "## Step 2: Set Up API Keys\n",
        "\n",
        "### Option A: Using Colab Secrets (Recommended)\n",
        "1. Click the 🔑 icon in the left sidebar\n",
        "2. Add `LANGSMITH_API_KEY`\n",
        "3. Add `OPENAI_API_KEY`\n",
        "4. Enable notebook access for both\n",
        "\n",
        "### Option B: Manual Entry (Run the cell below and uncomment)"
      ],
      "metadata": {
        "id": "step2"
      }
    },
    {
      "cell_type": "code",
      "source": [
        "import os\n",
        "from google.colab import userdata\n",
        "\n",
        "# Option A: Try to load from Colab secrets\n",
        "try:\n",
        "    os.environ['LANGSMITH_API_KEY'] = userdata.get('LANGSMITH_API_KEY')\n",
        "    os.environ['OPENAI_API_KEY'] = userdata.get('OPENAI_API_KEY')\n",
        "    print(\"✅ API keys loaded from Colab secrets\")\nexcept:\n",
        "    print(\"⚠️  Could not load from secrets. Using manual entry...\")\n",
        "    \n",
        "    # Option B: Manual entry (uncomment and add your keys)\n",
        "    # os.environ['LANGSMITH_API_KEY'] = 'lsv2_pt_...'  # Your LangSmith API key\n",
        "    # os.environ['OPENAI_API_KEY'] = 'sk-...'  # Your OpenAI API key\n",
        "    # print(\"✅ API keys set manually\")\n",
        "    \n",
        "    print(\"\\n❌ Please set your API keys using Option A or B above!\")\n",
        "\n",
        "# Set additional environment variables\n",
        "os.environ['LANGCHAIN_TRACING_V2'] = 'true'\n",
        "os.environ['LANGCHAIN_PROJECT'] = 'langgraph-v1-colab'\n",
        "\n",
        "print(\"\\n📊 LangSmith tracing enabled\")\n",
        "print(f\"📁 Project: {os.environ.get('LANGCHAIN_PROJECT')}\")"
      ],
      "metadata": {
        "id": "api_keys"
      },
      "execution_count": null,
      "outputs": []
    },
    {
      "cell_type": "markdown",
      "source": [
        "## Step 3: Create Project Structure"
      ],
      "metadata": {
        "id": "step3"
      }
    },
    {
      "cell_type": "code",
      "source": [
        "import os\n",
        "\n",
        "# Create project directory\n",
        "project_dir = '/content/langgraph_app'\n",
        "os.makedirs(project_dir, exist_ok=True)\n",
        "\n",
        "print(f\"✅ Project directory created: {project_dir}\")"
      ],
      "metadata": {
        "id": "create_dir"
      },
      "execution_count": null,
      "outputs": []
    },
    {
      "cell_type": "markdown",
      "source": [
        "## Step 4: Create Agent Code (v1.0 API)"
      ],
      "metadata": {
        "id": "step4"
      }
    },
    {
      "cell_type": "code",
      "source": [
        "agent_code = '''from langchain_openai import ChatOpenAI\n",
        "from langgraph.graph import StateGraph, MessagesState, START, END\n",
        "from langgraph.prebuilt import ToolNode, tools_condition\n",
        "\n",
        "def create_agent():\n",
        "    \"\"\"Create a simple LangGraph v1.0 agent with tools\"\"\"\n",
        "    \n",
        "    # Define simple tools\n",
        "    def get_weather(location: str) -> str:\n",
        "        \"\"\"Get the weather for a location.\n",
        "        \n",
        "        Args:\n",
        "            location: The city or location to get weather for\n",
        "        \"\"\"\n",
        "        # Mock weather data\n",
        "        weather_data = {\n",
        "            \"san francisco\": \"Foggy and 55°F\",\n",
        "            \"new york\": \"Sunny and 68°F\",\n",
        "            \"london\": \"Rainy and 52°F\",\n",
        "            \"tokyo\": \"Clear and 72°F\"\n",
        "        }\n",
        "        location_lower = location.lower()\n",
        "        return weather_data.get(location_lower, f\"The weather in {location} is sunny and 70°F\")\n",
        "    \n",
        "    def multiply(a: float, b: float) -> float:\n",
        "        \"\"\"Multiply two numbers.\n",
        "        \n",
        "        Args:\n",
        "            a: First number\n",
        "            b: Second number\n",
        "        \"\"\"\n",
        "        return a * b\n",
        "    \n",
        "    def search_web(query: str) -> str:\n",
        "        \"\"\"Search the web for information.\n",
        "        \n",
        "        Args:\n",
        "            query: The search query\n",
        "        \"\"\"\n",
        "        return f\"Here are some results for '{query}': [Mock search results]\"       \n",
        "    \n",
        "    tools = [get_weather, multiply, search_web]\n",
        "    \n",
        "    # Create LLM with tools\n",
        "    llm = ChatOpenAI(model=\"gpt-4o-mini\", temperature=0)\n",
        "    llm_with_tools = llm.bind_tools(tools)\n",
        "    \n",
        "    # Define the agent node\n",
        "    def call_model(state: MessagesState):\n",
        "        response = llm_with_tools.invoke(state[\"messages\"])\n",
        "        return {\"messages\": [response]}\n",
        "    \n",
        "    # Build the graph using v1.0 API\n",
        "    builder = StateGraph(MessagesState)\n",
        "    \n",
        "    # Add nodes\n",
        "    builder.add_node(\"agent\", call_model)\n",
        "    builder.add_node(\"tools\", ToolNode(tools))\n",
        "    \n",
        "    # Add edges\n",
        "    builder.add_edge(START, \"agent\")\n",
        "    builder.add_conditional_edges(\"agent\", tools_condition)\n",
        "    builder.add_edge(\"tools\", \"agent\")\n",
        "    \n",
        "    # Compile and return the graph\n",
        "    return builder.compile()\n",
        "'''\n",
        "\n",
        "# Write agent code to file\n",
        "with open(f'{project_dir}/agent.py', 'w') as f:\n",
        "    f.write(agent_code)\n",
        "\n",
        "print(\"✅ Agent code created at /content/langgraph_app/agent.py\")\n",
        "print(\"\\n🤖 Agent includes tools for:\")\n",
        "print(\"   - Weather lookup\")\n",
        "print(\"   - Mathematical operations\")\n",
        "print(\"   - Web search (mock)\")"
      ],
      "metadata": {
        "id": "create_agent"
      },
      "execution_count": null,
      "outputs": []
    },
    {
      "cell_type": "markdown",
      "source": [
        "## Step 5: Create Configuration Files"
      ],
      "metadata": {
        "id": "step5"
      }
    },
    {
      "cell_type": "code",
      "source": [
        "import json\n",
        "\n",
        "# Create langgraph.json configuration\n",
        "config = {\n",
        "    \"dependencies\": [\".\"],\n",
        "    \"graphs\": {\n",
        "        \"agent\": \"./agent.py:create_agent\"\n",
        "    },\n",
        "    \"env\": \".env\"\n",
        "}\n",
        "\n",
        "with open(f'{project_dir}/langgraph.json', 'w') as f:\n",
        "    json.dump(config, f, indent=2)\n",
        "\n",
        "print(\"✅ langgraph.json created\")\n",
        "\n",
        "# Create .env file\n",
        "env_content = f\"\"\"LANGSMITH_API_KEY={os.environ.get('LANGSMITH_API_KEY', '')}\n",
        "OPENAI_API_KEY={os.environ.get('OPENAI_API_KEY', '')}\n",
        "LANGCHAIN_TRACING_V2=true\n",
        "LANGCHAIN_PROJECT=langgraph-v1-colab\n",
        "\"\"\"\n",
        "\n",
        "with open(f'{project_dir}/.env', 'w') as f:\n",
        "    f.write(env_content)\n",
        "\n",
        "print(\"✅ .env file created\")\n",
        "print(\"\\n📁 Project structure:\")\n",
        "print(\"   langgraph_app/\")\n",
        "print(\"   ├── agent.py\")\n",
        "print(\"   ├── langgraph.json\")\n",
        "print(\"   └── .env\")"
      ],
      "metadata": {
        "id": "create_config"
      },
      "execution_count": null,
      "outputs": []
    },
    {
      "cell_type": "markdown",
      "source": [
        "## Step 6: Verify Setup"
      ],
      "metadata": {
        "id": "step6"
      }
    },
    {
      "cell_type": "code",
      "source": [
        "import os\n",
        "\n",
        "print(\"🔍 Verifying setup...\\n\")\n",
        "\n",
        "# Check files\n",
        "files_to_check = ['agent.py', 'langgraph.json', '.env']\n",
        "all_files_exist = True\n",
        "\n",
        "for file in files_to_check:\n",
        "    file_path = f'{project_dir}/{file}'\n",
        "    if os.path.exists(file_path):\n",
        "        print(f\"✅ {file} exists\")\n",
        "    else:\n",
        "        print(f\"❌ {file} missing\")\n",
        "        all_files_exist = False\n",
        "\n",
        "# Check API keys\n",
        "print(\"\\n🔑 Checking API keys...\")\n",
        "if os.environ.get('LANGSMITH_API_KEY'):\n",
        "    print(\"✅ LANGSMITH_API_KEY is set\")\n",
        "else:\n",
        "    print(\"❌ LANGSMITH_API_KEY is missing\")\n",
        "    all_files_exist = False\n",
        "\n",
        "if os.environ.get('OPENAI_API_KEY'):\n",
        "    print(\"✅ OPENAI_API_KEY is set\")\n",
        "else:\n",
        "    print(\"❌ OPENAI_API_KEY is missing\")\n",
        "    all_files_exist = False\n",
        "\n",
        "if all_files_exist:\n",
        "    print(\"\\n\" + \"=\"*60)\n",
        "    print(\"✨ Setup complete! Ready to start LangGraph Studio\")\n",
        "    print(\"=\"*60)\n",
        "else:\n",
        "    print(\"\\n\" + \"=\"*60)\n",
        "    print(\"⚠️  Setup incomplete. Please fix the issues above.\")\n",
        "    print(\"=\"*60)"
      ],
      "metadata": {
        "id": "verify"
      },
      "execution_count": null,
      "outputs": []
    },
    {
      "cell_type": "markdown",
      "source": [
        "## Step 7: Start LangGraph Studio with Tunnel\n",
        "\n",
        "⚠️ **Important Notes:**\n",
        "- This cell will run indefinitely until you stop it\n",
        "- The tunnel URL will be displayed in the output\n",
        "- Click the URL to access Studio UI\n",
        "- To stop the server: Click the ⏹️ stop button or press Ctrl+C\n",
        "- Colab may timeout after ~12 hours of inactivity"
      ],
      "metadata": {
        "id": "step7"
      }
    },
    {
      "cell_type": "code",
      "source": [
        "import os\n",
        "\n",
        "# Change to project directory\n",
        "os.chdir(project_dir)\n",
        "\n",
        "print(\"🚀 Starting LangGraph Studio with tunnel...\")\n",
        "print(\"\\n\" + \"=\"*60)\n",
        "print(\"⏳ This may take a minute to start up...\")\n",
        "print(\"📺 Look for the tunnel URL in the output below\")\n",
        "print(\"🔗 Click the URL to access Studio UI\")\n",
        "print(\"=\"*60 + \"\\n\")\n",
        "\n",
        "# Start the server with tunnel\n",
        "!langgraph dev --tunnel"
      ],
      "metadata": {
        "id": "start_server"
      },
      "execution_count": null,
      "outputs": []
    },
    {
      "cell_type": "markdown",
      "source": [
        "## 🎉 Success!\n",
        "\n",
        "If everything worked, you should see:\n",
        "1. A tunnel URL (like `https://xxxxx.loca.lt`)\n",
        "2. A Studio UI URL\n",
        "\n",
        "### What you can do in Studio:\n",
        "- 💬 Chat with your agent\n",
        "- 🔍 See the graph visualization\n",
        "- 🐛 Debug tool calls and agent decisions\n",
        "- 📊 View traces in LangSmith\n",
        "\n",
        "### Example prompts to try:\n",
        "- \"What's the weather in San Francisco?\"\n",
        "- \"Calculate 123 times 456\"\n",
        "- \"Search for information about LangGraph\"\n",
        "\n",
        "---\n",
        "\n",
        "## 📚 Resources\n",
        "- [LangGraph v1 Docs](https://docs.langchain.com/oss/python/langgraph/studio)\n",
        "- [LangSmith](https://smith.langchain.com)\n",
        "- [LangGraph GitHub](https://github.com/langchain-ai/langgraph)\n",
        "\n",
        "## ⚠️ Troubleshooting\n",
        "\n",
        "**If the server won't start:**\n",
        "- Check that API keys are set correctly\n",
        "- Verify all files were created in Step 6\n",
        "- Try restarting the runtime (Runtime → Restart runtime)\n",
        "\n",
        "**If you can't access the tunnel URL:**\n",
        "- Some networks block tunnel services\n",
        "- Try from a different network or device\n",
        "- Check if the URL has expired (tunnels timeout)\n",
        "\n",
        "**If you get import errors:**\n",
        "- Re-run Step 1 to reinstall packages\n",
        "- Make sure you're using Python 3.10+"
      ],
      "metadata": {
        "id": "success"
      }
    }
  ]
}
