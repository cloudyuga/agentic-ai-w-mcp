{
  "cells": [
    {
      "cell_type": "code",
      "metadata": {
        "id": "70d618bd"
      },
      "source": [
        "%pip install -U langgraph"
      ],
      "execution_count": null,
      "outputs": []
    },
    {
      "cell_type": "code",
      "source": [
        "from langgraph.func import entrypoint, task\n",
        "from langgraph.types import interrupt, Command\n",
        "from langgraph.checkpoint.memory import MemorySaver\n",
        "import os\n",
        "\n",
        "# from google.colab import userdata\n",
        "# os.environ[\"OPENAI_API_KEY\"] = userdata.get('OPENAI_API_KEY')\n",
        "\n",
        "@task\n",
        "def screen_resume(resume: str) -> dict:\n",
        "    print(\"--- TASK: AI screening resume ---\")\n",
        "    skills = []\n",
        "    for skill in [\"Python\", \"Java\", \"Leadership\"]:\n",
        "        if skill.lower() in resume.lower():\n",
        "            skills.append(skill)\n",
        "\n",
        "    score = len(skills) * 30\n",
        "    recommendation = \"Interview\" if score >= 60 else \"Reject\"\n",
        "\n",
        "    print(f\"    AI Recommendation: {recommendation} (Score: {score})\")\n",
        "\n",
        "    return {\n",
        "        \"skills\": skills,\n",
        "        \"score\": score,\n",
        "        \"ai_recommendation\": recommendation\n",
        "    }\n",
        "\n",
        "@entrypoint(checkpointer=MemorySaver())\n",
        "def hiring_workflow(resume: str) -> str:\n",
        "    print(\"\\n--- WORKFLOW: Starting hiring process ---\")\n",
        "\n",
        "    screening_result = screen_resume(resume)\n",
        "\n",
        "    print(\"--- WORKFLOW: Pausing for human approval ---\")\n",
        "    human_decision = interrupt(\"Do you approve this candidate? (yes/no)\")\n",
        "\n",
        "    print(f\"--- WORKFLOW: Resuming with human decision: '{human_decision}' ---\")\n",
        "\n",
        "    if human_decision == \"yes\":\n",
        "        final_decision = f\"HIRED - AI recommended '{screening_result['ai_recommendation']}'\"\n",
        "    else:\n",
        "        final_decision = \"REJECTED - Human override\"\n",
        "\n",
        "    print(f\"--- WORKFLOW: Final decision is '{final_decision}' ---\")\n",
        "    return final_decision\n",
        "\n",
        "if __name__ == \"__main__\":\n",
        "    thread_config = {\"thread_id\": \"hire_001\"}\n",
        "    resume_text = \"Senior Python developer with Java and leadership skills\"\n",
        "\n",
        "    print(\"=\"*60)\n",
        "    print(\"STEP 1: RUNNING UNTIL INTERRUPT\")\n",
        "    print(\"=\"*60)\n",
        "    hiring_workflow.invoke(resume_text, config=thread_config)\n",
        "\n",
        "    print(\"\\n\" + \"=\"*60)\n",
        "    print(\"STEP 2: RESUMING WITH HUMAN INPUT ('yes')\")\n",
        "    print(\"=\"*60)\n",
        "\n",
        "    final_result = hiring_workflow.invoke(\n",
        "        None,\n",
        "        config=thread_config,\n",
        "        resume=Command(resume=\"yes\")\n",
        "    )\n",
        "\n",
        "    print(f\"\\n--- FINAL RESULT ---\")\n",
        "    print(final_result)"
      ],
      "outputs": [
        {
          "output_type": "stream",
          "name": "stdout",
          "text": [
            "============================================================\n",
            "STEP 1: RUNNING UNTIL INTERRUPT\n",
            "============================================================\n",
            "\n",
            "--- WORKFLOW: Starting hiring process ---\n",
            "--- WORKFLOW: Pausing for human approval ---\n",
            "--- TASK: AI screening resume ---\n",
            "    AI Recommendation: Interview (Score: 90)\n",
            "\n",
            "============================================================\n",
            "STEP 2: RESUMING WITH HUMAN INPUT ('yes')\n",
            "============================================================\n",
            "\n",
            "--- WORKFLOW: Starting hiring process ---\n",
            "--- WORKFLOW: Pausing for human approval ---\n",
            "\n",
            "--- FINAL RESULT ---\n",
            "{'__interrupt__': [Interrupt(value='Do you approve this candidate? (yes/no)', id='b25ac9acd55afa10eca5497e9bb0a99a')]}\n"
          ]
        }
      ],
      "execution_count": 3,
      "metadata": {
        "colab": {
          "base_uri": "https://localhost:8080/"
        },
        "id": "tjScDHSw_Jem",
        "outputId": "642c556d-4b8c-4967-d32a-4cbecebadb53"
      }
    }
  ],
  "metadata": {
    "colab": {
      "provenance": []
    },
    "kernelspec": {
      "display_name": "Python 3",
      "name": "python3"
    }
  },
  "nbformat": 4,
  "nbformat_minor": 0
}