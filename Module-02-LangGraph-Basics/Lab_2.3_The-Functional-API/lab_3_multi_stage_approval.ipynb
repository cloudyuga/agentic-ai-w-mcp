{
  "cells": [
    {
      "cell_type": "code",
      "metadata": {
        "id": "1cb0ed0c"
      },
      "source": [
        "%pip install langgraph langchain"
      ],
      "execution_count": null,
      "outputs": []
    },
    {
      "cell_type": "code",
      "metadata": {
        "colab": {
          "base_uri": "https://localhost:8080/"
        },
        "id": "1c8e97e3",
        "outputId": "14538735-3683-463d-dd5c-dc91b9c87cb0"
      },
      "source": [
        "from langgraph.func import entrypoint, task\n",
        "from langgraph.types import interrupt, Command\n",
        "from langgraph.checkpoint.memory import MemorySaver\n",
        "import os\n",
        "\n",
        "from google.colab import userdata\n",
        "os.environ[\"OPENAI_API_KEY\"] = userdata.get('OPENAI_API_KEY')\n",
        "\n",
        "@task\n",
        "def initial_screening(resume: str) -> dict:\n",
        "    print(\"--- TASK: AI doing initial screening ---\")\n",
        "    return {\"score\": 85, \"recommendation\": \"Strong candidate\"}\n",
        "\n",
        "@task\n",
        "def technical_test(candidate_id: str) -> dict:\n",
        "    print(f\"--- TASK: {candidate_id} running technical test ---\")\n",
        "    return {\"test_score\": 90, \"passed\": True}\n",
        "\n",
        "@entrypoint(checkpointer=MemorySaver())\n",
        "def multi_approval_workflow(candidate_data: dict) -> str:\n",
        "    candidate_name = candidate_data[\"name\"]\n",
        "    resume = candidate_data[\"resume\"]\n",
        "\n",
        "    print(f\"\\n--- WORKFLOW: Processing candidate: {candidate_name} ---\")\n",
        "\n",
        "    screening = initial_screening(resume)\n",
        "\n",
        "    print(\"--- WORKFLOW: PAUSE 1 - Awaiting HR approval ---\")\n",
        "    hr_approval = interrupt(\"HR: Approve initial screening? (yes/no)\")\n",
        "\n",
        "    if hr_approval != \"yes\":\n",
        "        return f\"REJECTED at HR screening for {candidate_name}\"\n",
        "\n",
        "    print(f\"--- WORKFLOW: HR approved {candidate_name}. Proceeding. ---\")\n",
        "\n",
        "    tech_result = technical_test(candidate_name)\n",
        "\n",
        "    print(\"--- WORKFLOW: PAUSE 2 - Awaiting Manager approval ---\")\n",
        "    manager_approval = interrupt(\"Manager: Approve for hire? (yes/no)\")\n",
        "\n",
        "    if manager_approval != \"yes\":\n",
        "        return f\"REJECTED by Manager for {candidate_name}\"\n",
        "\n",
        "    print(f\"--- WORKFLOW: Manager approved {candidate_name}. ---\")\n",
        "\n",
        "    return f\"HIRED - {candidate_name}\"\n",
        "\n",
        "if __name__ == \"__main__\":\n",
        "    thread_config = {\"thread_id\": \"jane_002\"}\n",
        "    candidate_payload = {\"name\": \"Jane Smith\", \"resume\": \"Python expert\"}\n",
        "\n",
        "    print(\"=\"*60)\n",
        "    print(\"RUN 1: To first interrupt (HR Approval)\")\n",
        "    print(\"=\"*60)\n",
        "    multi_approval_workflow.invoke(candidate_payload, config=thread_config)\n",
        "\n",
        "    print(\"\\n\" + \"=\"*60)\n",
        "    print(\"RUN 2: HR approves, to second interrupt (Manager Approval)\")\n",
        "    print(\"=\"*60)\n",
        "    multi_approval_workflow.invoke(None, config=thread_config, resume=Command(resume=\"yes\"))\n",
        "\n",
        "    print(\"\\n\" + \"=\"*60)\n",
        "    print(\"RUN 3: Manager approves, to completion\")\n",
        "    print(\"=\"*60)\n",
        "    final_status = multi_approval_workflow.invoke(None, config=thread_config, resume=Command(resume=\"yes\"))\n",
        "\n",
        "    print(f\"\\n--- FINAL STATUS ---\")\n",
        "    print(final_status)"
      ],
      "execution_count": 5,
      "outputs": [
        {
          "output_type": "stream",
          "name": "stdout",
          "text": [
            "============================================================\n",
            "RUN 1: To first interrupt (HR Approval)\n",
            "============================================================\n",
            "\n",
            "--- WORKFLOW: Processing candidate: Jane Smith ---\n",
            "--- WORKFLOW: PAUSE 1 - Awaiting HR approval ---\n",
            "--- TASK: AI doing initial screening ---\n",
            "\n",
            "============================================================\n",
            "RUN 2: HR approves, to second interrupt (Manager Approval)\n",
            "============================================================\n",
            "\n",
            "--- WORKFLOW: Processing candidate: Jane Smith ---\n",
            "--- WORKFLOW: PAUSE 1 - Awaiting HR approval ---\n",
            "\n",
            "============================================================\n",
            "RUN 3: Manager approves, to completion\n",
            "============================================================\n",
            "\n",
            "--- WORKFLOW: Processing candidate: Jane Smith ---\n",
            "--- WORKFLOW: PAUSE 1 - Awaiting HR approval ---\n",
            "\n",
            "--- FINAL STATUS ---\n",
            "{'__interrupt__': [Interrupt(value='HR: Approve initial screening? (yes/no)', id='5d5d6eda05d5c3dd16f556ab0ddedaaa')]}\n"
          ]
        }
      ]
    }
  ],
  "metadata": {
    "colab": {
      "provenance": []
    },
    "kernelspec": {
      "display_name": "Python 3",
      "name": "python3"
    }
  },
  "nbformat": 4,
  "nbformat_minor": 0
}