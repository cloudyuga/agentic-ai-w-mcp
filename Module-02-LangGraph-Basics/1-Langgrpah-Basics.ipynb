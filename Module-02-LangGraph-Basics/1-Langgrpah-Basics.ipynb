{
  "cells": [
    {
      "cell_type": "markdown",
      "metadata": {},
      "source": [
        "# Module 2: LangGraph Fundamentals - HR Agent Labs\n",
        "\n",
        "**Updated for LangChain 1.0 Alpha**\n",
        "\n",
        "**Building on Module 1**: In Module 1, you built three HR agents using LangChain's high-level functions. Now we'll peek under the hood and learn LangGraph - the foundation that powers those agents.\n",
        "\n",
        "**Why learn LangGraph?** Understanding LangGraph gives you:\n",
        "- Full control over agent workflows\n",
        "- Ability to create custom patterns\n",
        "- Better debugging and optimization\n",
        "- Foundation for advanced agentic systems\n",
        "\n",
        "**Time:** 2-3 hours"
      ]
    },
    {
      "cell_type": "markdown",
      "metadata": {},
      "source": [
        "## Setup: Install Dependencies"
      ]
    },
    {
      "cell_type": "code",
      "execution_count": null,
      "metadata": {},
      "outputs": [],
      "source": [
        "# Install required packages\n",
        "!pip install --pre -U langchain langchain-openai langgraph"
      ]
    },
    {
      "cell_type": "markdown",
      "metadata": {},
      "source": [
        "## Setup: Configure OpenAI API Key"
      ]
    },
    {
      "cell_type": "code",
      "execution_count": null,
      "metadata": {},
      "outputs": [],
      "source": [
        "# Retrieve the API key from Colab's secrets\n",
        "from google.colab import userdata\n",
        "import os\n",
        "\n",
        "OPENAI_API_KEY = userdata.get('OPENAI_API_KEY')\n",
        "os.environ['OPENAI_API_KEY'] = OPENAI_API_KEY\n",
        "\n",
        "print(\"✅ API Key configured!\")"
      ]
    },
    {
      "cell_type": "markdown",
      "metadata": {},
      "source": [
        "---\n",
        "# Lab 1: Your First LangGraph - Linear Workflow\n",
        "\n",
        "**Objective:** Build a simple linear workflow using LangGraph's core concepts: State, Nodes, Edges, START, and END.\n",
        "\n",
        "**Scenario:** Create an employee onboarding workflow that processes new hires step by step.\n",
        "\n",
        "**Key Concepts:**\n",
        "- **State**: Data that flows through the graph\n",
        "- **Nodes**: Functions that do work\n",
        "- **Edges**: Connections between nodes\n",
        "- **START**: Entry point\n",
        "- **END**: Exit point"
      ]
    },
    {
      "cell_type": "markdown",
      "metadata": {},
      "source": [
        "## Imports"
      ]
    },
    {
      "cell_type": "code",
      "execution_count": null,
      "metadata": {},
      "outputs": [],
      "source": [
        "from typing import TypedDict, Annotated\n",
        "from langgraph.graph import StateGraph, START, END\n",
        "from langgraph.graph.message import add_messages\n",
        "from langchain_openai import ChatOpenAI\n",
        "\n",
        "# Initialize LLM\n",
        "llm = ChatOpenAI(model=\"gpt-4o-mini\", temperature=0)\n",
        "\n",
        "print(\"✅ Imports successful!\")"
      ]
    },
    {
      "cell_type": "markdown",
      "metadata": {},
      "source": [
        "## Part 1: Understanding State\n",
        "\n",
        "**State** is the data structure that flows through your graph. It's like a shared clipboard that every node can read and update."
      ]
    },
    {
      "cell_type": "code",
      "execution_count": null,
      "metadata": {},
      "outputs": [],
      "source": [
        "class OnboardingState(TypedDict):\n",
        "    \"\"\"State for employee onboarding workflow\"\"\"\n",
        "    employee_name: str\n",
        "    employee_id: str\n",
        "    department: str\n",
        "    messages: Annotated[list, add_messages]\n",
        "    validation_status: str\n",
        "    tasks_completed: list\n",
        "\n",
        "print(\"✅ OnboardingState defined!\")\n",
        "print(\"\\nState fields:\")\n",
        "print(\"  - employee_name: Employee's full name\")\n",
        "print(\"  - employee_id: Unique employee ID\")\n",
        "print(\"  - department: Department name\")\n",
        "print(\"  - messages: Conversation history\")\n",
        "print(\"  - validation_status: Validation result\")\n",
        "print(\"  - tasks_completed: List of completed tasks\")"
      ]
    },
    {
      "cell_type": "markdown",
      "metadata": {},
      "source": [
        "## Part 2: Creating Nodes\n",
        "\n",
        "**Nodes** are functions that do work. Each node receives state, processes it, and returns updates."
      ]
    },
    {
      "cell_type": "code",
      "execution_count": null,
      "metadata": {},
      "outputs": [],
      "source": [
        "def validate_employee(state: OnboardingState):\n",
        "    \"\"\"Node 1: Validate employee information\"\"\"\n",
        "    print(f\"📋 Step 1: Validating employee {state['employee_name']}...\")\n",
        "    \n",
        "    # Simple validation\n",
        "    if state['employee_name'] and state['employee_id']:\n",
        "        return {\n",
        "            \"validation_status\": \"✅ Validated\",\n",
        "            \"messages\": [(\"assistant\", f\"Employee {state['employee_name']} (ID: {state['employee_id']}) validated successfully\")]\n",
        "        }\n",
        "    else:\n",
        "        return {\n",
        "            \"validation_status\": \"❌ Failed\",\n",
        "            \"messages\": [(\"assistant\", \"Validation failed: Missing information\")]\n",
        "        }\n",
        "\n",
        "def assign_equipment(state: OnboardingState):\n",
        "    \"\"\"Node 2: Assign equipment based on department\"\"\"\n",
        "    print(f\"💻 Step 2: Assigning equipment for {state['department']} department...\")\n",
        "    \n",
        "    equipment = {\n",
        "        \"Engineering\": [\"Laptop (MacBook Pro)\", \"Monitor\", \"Keyboard\", \"Mouse\"],\n",
        "        \"HR\": [\"Laptop (ThinkPad)\", \"Headset\"],\n",
        "        \"Sales\": [\"Laptop (MacBook Air)\", \"Phone\", \"CRM Access\"],\n",
        "        \"Marketing\": [\"Laptop (MacBook Pro)\", \"Design Software License\"]\n",
        "    }\n",
        "    \n",
        "    dept_equipment = equipment.get(state['department'], [\"Standard Laptop\"])\n",
        "    \n",
        "    return {\n",
        "        \"tasks_completed\": state['tasks_completed'] + [\"Equipment assigned\"],\n",
        "        \"messages\": [(\"assistant\", f\"Assigned equipment: {', '.join(dept_equipment)}\")]\n",
        "    }\n",
        "\n",
        "def setup_accounts(state: OnboardingState):\n",
        "    \"\"\"Node 3: Set up employee accounts\"\"\"\n",
        "    print(f\"🔐 Step 3: Setting up accounts for {state['employee_name']}...\")\n",
        "    \n",
        "    accounts = [\"Email\", \"Slack\", \"HR Portal\", \"Leave Management System\"]\n",
        "    \n",
        "    return {\n",
        "        \"tasks_completed\": state['tasks_completed'] + [\"Accounts created\"],\n",
        "        \"messages\": [(\"assistant\", f\"Created accounts: {', '.join(accounts)}\")]\n",
        "    }\n",
        "\n",
        "def send_welcome_email(state: OnboardingState):\n",
        "    \"\"\"Node 4: Send welcome email\"\"\"\n",
        "    print(f\"📧 Step 4: Sending welcome email...\")\n",
        "    \n",
        "    return {\n",
        "        \"tasks_completed\": state['tasks_completed'] + [\"Welcome email sent\"],\n",
        "        \"messages\": [(\"assistant\", f\"Welcome email sent to {state['employee_name']}@company.com\")]\n",
        "    }\n",
        "\n",
        "print(\"✅ All nodes defined!\")"
      ]
    },
    {
      "cell_type": "markdown",
      "metadata": {},
      "source": [
        "## Part 3: Building the Graph\n",
        "\n",
        "Now we connect everything using **Edges**."
      ]
    },
    {
      "cell_type": "code",
      "execution_count": null,
      "metadata": {},
      "outputs": [],
      "source": [
        "# Create the graph\n",
        "workflow = StateGraph(OnboardingState)\n",
        "\n",
        "# Add nodes\n",
        "workflow.add_node(\"validate\", validate_employee)\n",
        "workflow.add_node(\"assign_equipment\", assign_equipment)\n",
        "workflow.add_node(\"setup_accounts\", setup_accounts)\n",
        "workflow.add_node(\"send_welcome\", send_welcome_email)\n",
        "\n",
        "# Add edges (define the flow)\n",
        "workflow.add_edge(START, \"validate\")\n",
        "workflow.add_edge(\"validate\", \"assign_equipment\")\n",
        "workflow.add_edge(\"assign_equipment\", \"setup_accounts\")\n",
        "workflow.add_edge(\"setup_accounts\", \"send_welcome\")\n",
        "workflow.add_edge(\"send_welcome\", END)\n",
        "\n",
        "# Compile the graph\n",
        "onboarding_app = workflow.compile()\n",
        "\n",
        "print(\"✅ Onboarding workflow created!\")\n",
        "print(\"\\nWorkflow: START → validate → assign_equipment → setup_accounts → send_welcome → END\")"
      ]
    },
    {
      "cell_type": "markdown",
      "metadata": {},
      "source": [
        "## Part 4: Visualize the Graph (Optional)"
      ]
    },
    {
      "cell_type": "code",
      "execution_count": null,
      "metadata": {},
      "outputs": [],
      "source": [
        "from IPython.display import Image, display\n",
        "\n",
        "try:\n",
        "    display(Image(onboarding_app.get_graph().draw_mermaid_png()))\n",
        "except Exception as e:\n",
        "    print(f\"Visualization not available: {e}\")\n",
        "    print(\"But the workflow works perfectly!\")"
      ]
    },
    {
      "cell_type": "markdown",
      "metadata": {},
      "source": [
        "## Part 5: Run the Workflow"
      ]
    },
    {
      "cell_type": "code",
      "execution_count": null,
      "metadata": {},
      "outputs": [],
      "source": [
        "# Test the workflow\n",
        "initial_state = {\n",
        "    \"employee_name\": \"Karan Singh\",\n",
        "    \"employee_id\": \"106\",\n",
        "    \"department\": \"Engineering\",\n",
        "    \"messages\": [],\n",
        "    \"validation_status\": \"\",\n",
        "    \"tasks_completed\": []\n",
        "}\n",
        "\n",
        "print(\"=\"*70)\n",
        "print(\"STARTING ONBOARDING WORKFLOW\")\n",
        "print(\"=\"*70)\n",
        "\n",
        "result = onboarding_app.invoke(initial_state)\n",
        "\n",
        "print(\"\\n\" + \"=\"*70)\n",
        "print(\"ONBOARDING COMPLETE!\")\n",
        "print(\"=\"*70)\n",
        "print(f\"\\nEmployee: {result['employee_name']}\")\n",
        "print(f\"Status: {result['validation_status']}\")\n",
        "print(f\"Tasks completed: {len(result['tasks_completed'])}\")\n",
        "print(f\"\\nAll steps:\")\n",
        "for task in result['tasks_completed']:\n",
        "    print(f\"  ✓ {task}\")"
      ]
    },
    {
      "cell_type": "markdown",
      "metadata": {},
      "source": [
        "## 🎯 Exercise 1.1: Add an Orientation Node\n",
        "\n",
        "Add a new node `schedule_orientation` that:\n",
        "- Comes after `send_welcome` and before `END`\n",
        "- Adds \"Orientation scheduled\" to tasks_completed\n",
        "- Prints orientation date (e.g., \"Orientation scheduled for [next Monday]\")"
      ]
    },
    {
      "cell_type": "code",
      "execution_count": null,
      "metadata": {},
      "outputs": [],
      "source": [
        "# Your code here\n",
        "def schedule_orientation(state: OnboardingState):\n",
        "    \"\"\"TODO: Implement this node\"\"\"\n",
        "    pass\n",
        "\n",
        "# TODO: Create new workflow with the orientation node\n",
        "# TODO: Test it"
      ]
    },
    {
      "cell_type": "markdown",
      "metadata": {},
      "source": [
        "---\n",
        "# Lab 2: Conditional Routing - Smart Leave Approval\n",
        "\n",
        "**Objective:** Learn conditional edges to route based on state.\n",
        "\n",
        "**Scenario:** Automatically route leave requests based on duration:\n",
        "- Short leaves (≤3 days) → Auto-approved\n",
        "- Long leaves (>3 days) → Manager review\n",
        "- Insufficient balance → Rejected\n",
        "\n",
        "**Key Concept:** Conditional edges allow dynamic routing based on state"
      ]
    },
    {
      "cell_type": "markdown",
      "metadata": {},
      "source": [
        "## Setup - Employee Database"
      ]
    },
    {
      "cell_type": "code",
      "execution_count": null,
      "metadata": {},
      "outputs": [],
      "source": [
        "from typing import Literal\n",
        "\n",
        "# Employee database from Module 1\n",
        "employees = {\n",
        "    \"101\": {\"name\": \"Priya Sharma\", \"department\": \"Engineering\", \"manager\": \"102\"},\n",
        "    \"102\": {\"name\": \"Rahul Verma\", \"department\": \"Engineering\", \"manager\": \"103\"},\n",
        "    \"103\": {\"name\": \"Anjali Patel\", \"department\": \"HR\", \"manager\": None},\n",
        "    \"104\": {\"name\": \"Arjun Reddy\", \"department\": \"Sales\", \"manager\": \"103\"},\n",
        "    \"105\": {\"name\": \"Sneha Gupta\", \"department\": \"Marketing\", \"manager\": \"103\"}\n",
        "}\n",
        "\n",
        "leave_balances = {\n",
        "    \"101\": 12, \"102\": 8, \"103\": 15, \"104\": 10, \"105\": 5\n",
        "}\n",
        "\n",
        "print(\"✅ Employee database loaded!\")"
      ]
    },
    {
      "cell_type": "markdown",
      "metadata": {},
      "source": [
        "## Part 1: Define State"
      ]
    },
    {
      "cell_type": "code",
      "execution_count": null,
      "metadata": {},
      "outputs": [],
      "source": [
        "class LeaveRequestState(TypedDict):\n",
        "    \"\"\"State for leave approval workflow\"\"\"\n",
        "    employee_id: str\n",
        "    employee_name: str\n",
        "    days_requested: int\n",
        "    leave_balance: int\n",
        "    reason: str\n",
        "    approval_status: str\n",
        "    messages: Annotated[list, add_messages]\n",
        "    requires_manager_approval: bool\n",
        "\n",
        "print(\"✅ LeaveRequestState defined!\")"
      ]
    },
    {
      "cell_type": "markdown",
      "metadata": {},
      "source": [
        "## Part 2: Create Nodes"
      ]
    },
    {
      "cell_type": "code",
      "execution_count": null,
      "metadata": {},
      "outputs": [],
      "source": [
        "def check_leave_balance(state: LeaveRequestState):\n",
        "    \"\"\"Node: Check if employee has enough leave\"\"\"\n",
        "    print(f\"\\n📊 Checking leave balance for {state['employee_name']}...\")\n",
        "    \n",
        "    employee_id = state['employee_id']\n",
        "    balance = leave_balances.get(employee_id, 0)\n",
        "    days = state['days_requested']\n",
        "    \n",
        "    if days > balance:\n",
        "        return {\n",
        "            \"leave_balance\": balance,\n",
        "            \"approval_status\": \"❌ Rejected - Insufficient balance\",\n",
        "            \"messages\": [(\"assistant\", f\"Request denied: You have {balance} days, but requested {days} days\")]\n",
        "        }\n",
        "    \n",
        "    return {\n",
        "        \"leave_balance\": balance,\n",
        "        \"messages\": [(\"assistant\", f\"Balance check passed: {balance} days available, {days} days requested\")]\n",
        "    }\n",
        "\n",
        "def auto_approve(state: LeaveRequestState):\n",
        "    \"\"\"Node: Auto-approve short leaves (≤3 days)\"\"\"\n",
        "    print(f\"✅ Auto-approving leave for {state['employee_name']}...\")\n",
        "    \n",
        "    return {\n",
        "        \"approval_status\": \"✅ Auto-Approved\",\n",
        "        \"messages\": [(\"assistant\", f\"Leave request for {state['days_requested']} days has been auto-approved!\")]\n",
        "    }\n",
        "\n",
        "def manager_review(state: LeaveRequestState):\n",
        "    \"\"\"Node: Send to manager for approval (>3 days)\"\"\"\n",
        "    print(f\"👔 Sending to manager for review...\")\n",
        "    \n",
        "    emp_id = state['employee_id']\n",
        "    manager_id = employees.get(emp_id, {}).get(\"manager\", \"Unknown\")\n",
        "    manager_name = employees.get(manager_id, {}).get(\"name\", \"Manager\")\n",
        "    \n",
        "    return {\n",
        "        \"approval_status\": \"⏳ Pending Manager Approval\",\n",
        "        \"messages\": [(\"assistant\", f\"Leave request for {state['days_requested']} days sent to {manager_name} for approval\")]\n",
        "    }\n",
        "\n",
        "def reject_request(state: LeaveRequestState):\n",
        "    \"\"\"Node: Reject request due to insufficient balance\"\"\"\n",
        "    print(f\"❌ Rejecting leave request...\")\n",
        "    return state  # Status already set in check_leave_balance\n",
        "\n",
        "print(\"✅ All nodes defined!\")"
      ]
    },
    {
      "cell_type": "markdown",
      "metadata": {},
      "source": [
        "## Part 3: Create Routing Function\n",
        "\n",
        "**This is the key concept!** A routing function decides which node to go to next based on the state."
      ]
    },
    {
      "cell_type": "code",
      "execution_count": null,
      "metadata": {},
      "outputs": [],
      "source": [
        "def route_after_balance_check(state: LeaveRequestState) -> Literal[\"approve\", \"manager\", \"reject\"]:\n",
        "    \"\"\"\n",
        "    Routing function: Decides next node based on state\n",
        "    \n",
        "    Returns:\n",
        "        - \"reject\" if insufficient balance\n",
        "        - \"approve\" if ≤3 days and sufficient balance\n",
        "        - \"manager\" if >3 days and sufficient balance\n",
        "    \"\"\"\n",
        "    # Check if already rejected due to insufficient balance\n",
        "    if \"Rejected\" in state.get(\"approval_status\", \"\"):\n",
        "        return \"reject\"\n",
        "    \n",
        "    # Route based on duration\n",
        "    days = state['days_requested']\n",
        "    if days <= 3:\n",
        "        return \"approve\"\n",
        "    else:\n",
        "        return \"manager\"\n",
        "\n",
        "print(\"✅ Routing function defined!\")\n",
        "print(\"\\nRouting logic:\")\n",
        "print(\"  - Insufficient balance → reject\")\n",
        "print(\"  - ≤3 days + sufficient → approve\")\n",
        "print(\"  - >3 days + sufficient → manager\")"
      ]
    },
    {
      "cell_type": "markdown",
      "metadata": {},
      "source": [
        "## Part 4: Build Graph with Conditional Routing"
      ]
    },
    {
      "cell_type": "code",
      "execution_count": null,
      "metadata": {},
      "outputs": [],
      "source": [
        "# Create workflow\n",
        "leave_workflow = StateGraph(LeaveRequestState)\n",
        "\n",
        "# Add nodes\n",
        "leave_workflow.add_node(\"check_balance\", check_leave_balance)\n",
        "leave_workflow.add_node(\"approve\", auto_approve)\n",
        "leave_workflow.add_node(\"manager\", manager_review)\n",
        "leave_workflow.add_node(\"reject\", reject_request)\n",
        "\n",
        "# Set entry point\n",
        "leave_workflow.add_edge(START, \"check_balance\")\n",
        "\n",
        "# Add conditional edge - THIS IS THE KEY!\n",
        "leave_workflow.add_conditional_edges(\n",
        "    \"check_balance\",  # From this node\n",
        "    route_after_balance_check,  # Use this function to decide\n",
        "    {  # Map return values to node names\n",
        "        \"approve\": \"approve\",\n",
        "        \"manager\": \"manager\",\n",
        "        \"reject\": \"reject\"\n",
        "    }\n",
        ")\n",
        "\n",
        "# All paths lead to END\n",
        "leave_workflow.add_edge(\"approve\", END)\n",
        "leave_workflow.add_edge(\"manager\", END)\n",
        "leave_workflow.add_edge(\"reject\", END)\n",
        "\n",
        "# Compile\n",
        "leave_app = leave_workflow.compile()\n",
        "\n",
        "print(\"✅ Leave approval workflow with conditional routing created!\")"
      ]
    },
    {
      "cell_type": "markdown",
      "metadata": {},
      "source": [
        "## Part 5: Test Different Scenarios"
      ]
    },
    {
      "cell_type": "code",
      "execution_count": null,
      "metadata": {},
      "outputs": [],
      "source": [
        "# Test cases\n",
        "test_cases = [\n",
        "    # Case 1: Short leave with sufficient balance → Auto-approve\n",
        "    {\n",
        "        \"employee_id\": \"101\",\n",
        "        \"employee_name\": \"Priya Sharma\",\n",
        "        \"days_requested\": 2,\n",
        "        \"reason\": \"Family function\",\n",
        "        \"messages\": [],\n",
        "        \"approval_status\": \"\",\n",
        "        \"leave_balance\": 0,\n",
        "        \"requires_manager_approval\": False\n",
        "    },\n",
        "    # Case 2: Long leave with sufficient balance → Manager review\n",
        "    {\n",
        "        \"employee_id\": \"102\",\n",
        "        \"employee_name\": \"Rahul Verma\",\n",
        "        \"days_requested\": 5,\n",
        "        \"reason\": \"Vacation\",\n",
        "        \"messages\": [],\n",
        "        \"approval_status\": \"\",\n",
        "        \"leave_balance\": 0,\n",
        "        \"requires_manager_approval\": False\n",
        "    },\n",
        "    # Case 3: Insufficient balance → Reject\n",
        "    {\n",
        "        \"employee_id\": \"105\",\n",
        "        \"employee_name\": \"Sneha Gupta\",\n",
        "        \"days_requested\": 7,\n",
        "        \"reason\": \"Personal\",\n",
        "        \"messages\": [],\n",
        "        \"approval_status\": \"\",\n",
        "        \"leave_balance\": 0,\n",
        "        \"requires_manager_approval\": False\n",
        "    }\n",
        "]\n",
        "\n",
        "for i, test_case in enumerate(test_cases, 1):\n",
        "    print(\"\\n\" + \"=\"*70)\n",
        "    print(f\"TEST CASE {i}: {test_case['employee_name']} - {test_case['days_requested']} days\")\n",
        "    print(\"=\"*70)\n",
        "    \n",
        "    result = leave_app.invoke(test_case)\n",
        "    \n",
        "    print(f\"\\n📋 Final Status: {result['approval_status']}\")\n",
        "    print(f\"💼 Employee: {result['employee_name']}\")\n",
        "    print(f\"📅 Days Requested: {result['days_requested']}\")\n",
        "    print(f\"🏦 Leave Balance: {result['leave_balance']}\")"
      ]
    },
    {
      "cell_type": "markdown",
      "metadata": {},
      "source": [
        "## 🎯 Exercise 2.1: Add Emergency Leave Path\n",
        "\n",
        "Modify the routing function to add a new path:\n",
        "- If reason contains \"emergency\" → Auto-approve regardless of days\n",
        "- Add an `emergency_approve` node\n",
        "- Update the routing function and graph"
      ]
    },
    {
      "cell_type": "code",
      "execution_count": null,
      "metadata": {},
      "outputs": [],
      "source": [
        "# Your code here\n",
        "def emergency_approve(state: LeaveRequestState):\n",
        "    \"\"\"TODO: Implement emergency approval\"\"\"\n",
        "    pass\n",
        "\n",
        "# TODO: Update routing function\n",
        "# TODO: Rebuild graph with emergency path"
      ]
    },
    {
      "cell_type": "markdown",
      "metadata": {},
      "source": [
        "---\n",
        "# Lab 3: Parallel Execution\n",
        "\n",
        "**Objective:** Learn how to execute multiple nodes in parallel.\n",
        "\n",
        "**Scenario:** During employee onboarding, some tasks can happen simultaneously:\n",
        "- IT setup (equipment + accounts)\n",
        "- HR paperwork\n",
        "- Facilities access\n",
        "\n",
        "**Key Concept:** Parallel execution speeds up workflows when tasks are independent"
      ]
    },
    {
      "cell_type": "markdown",
      "metadata": {},
      "source": [
        "## Part 1: Define State for Parallel Workflow"
      ]
    },
    {
      "cell_type": "code",
      "execution_count": null,
      "metadata": {},
      "outputs": [],
      "source": [
        "import time\n",
        "\n",
        "class ParallelOnboardingState(TypedDict):\n",
        "    \"\"\"State for parallel onboarding workflow\"\"\"\n",
        "    employee_name: str\n",
        "    employee_id: str\n",
        "    department: str\n",
        "    it_setup_complete: bool\n",
        "    hr_paperwork_complete: bool\n",
        "    facilities_complete: bool\n",
        "    messages: Annotated[list, add_messages]\n",
        "\n",
        "print(\"✅ ParallelOnboardingState defined!\")"
      ]
    },
    {
      "cell_type": "markdown",
      "metadata": {},
      "source": [
        "## Part 2: Create Parallel Nodes\n",
        "\n",
        "These nodes will execute simultaneously!"
      ]
    },
    {
      "cell_type": "code",
      "execution_count": null,
      "metadata": {},
      "outputs": [],
      "source": [
        "def it_setup(state: ParallelOnboardingState):\n",
        "    \"\"\"Node: IT Setup (takes 2 seconds)\"\"\"\n",
        "    print(f\"💻 Starting IT setup for {state['employee_name']}...\")\n",
        "    time.sleep(2)  # Simulate work\n",
        "    print(f\"✅ IT setup complete!\")\n",
        "    \n",
        "    return {\n",
        "        \"it_setup_complete\": True,\n",
        "        \"messages\": [(\"assistant\", \"IT setup: Laptop, email, and accounts configured\")]\n",
        "    }\n",
        "\n",
        "def hr_paperwork(state: ParallelOnboardingState):\n",
        "    \"\"\"Node: HR Paperwork (takes 2 seconds)\"\"\"\n",
        "    print(f\"📄 Starting HR paperwork for {state['employee_name']}...\")\n",
        "    time.sleep(2)  # Simulate work\n",
        "    print(f\"✅ HR paperwork complete!\")\n",
        "    \n",
        "    return {\n",
        "        \"hr_paperwork_complete\": True,\n",
        "        \"messages\": [(\"assistant\", \"HR paperwork: Contracts, policies, and benefits enrolled\")]\n",
        "    }\n",
        "\n",
        "def facilities_access(state: ParallelOnboardingState):\n",
        "    \"\"\"Node: Facilities Access (takes 2 seconds)\"\"\"\n",
        "    print(f\"🏢 Setting up facilities access for {state['employee_name']}...\")\n",
        "    time.sleep(2)  # Simulate work\n",
        "    print(f\"✅ Facilities access complete!\")\n",
        "    \n",
        "    return {\n",
        "        \"facilities_complete\": True,\n",
        "        \"messages\": [(\"assistant\", \"Facilities: Building access card and parking assigned\")]\n",
        "    }\n",
        "\n",
        "def finalize_onboarding(state: ParallelOnboardingState):\n",
        "    \"\"\"Node: Finalize after all parallel tasks complete\"\"\"\n",
        "    print(f\"\\n🎉 Finalizing onboarding for {state['employee_name']}...\")\n",
        "    \n",
        "    return {\n",
        "        \"messages\": [(\"assistant\", f\"All onboarding tasks complete! Welcome aboard, {state['employee_name']}!\")]\n",
        "    }\n",
        "\n",
        "print(\"✅ All parallel nodes defined!\")"
      ]
    },
    {
      "cell_type": "markdown",
      "metadata": {},
      "source": [
        "## Part 3: Build Graph with Parallel Execution"
      ]
    },
    {
      "cell_type": "code",
      "execution_count": null,
      "metadata": {},
      "outputs": [],
      "source": [
        "# Create workflow\n",
        "parallel_workflow = StateGraph(ParallelOnboardingState)\n",
        "\n",
        "# Add nodes\n",
        "parallel_workflow.add_node(\"it_setup\", it_setup)\n",
        "parallel_workflow.add_node(\"hr_paperwork\", hr_paperwork)\n",
        "parallel_workflow.add_node(\"facilities_access\", facilities_access)\n",
        "parallel_workflow.add_node(\"finalize\", finalize_onboarding)\n",
        "\n",
        "# Connect START to all three parallel nodes\n",
        "parallel_workflow.add_edge(START, \"it_setup\")\n",
        "parallel_workflow.add_edge(START, \"hr_paperwork\")\n",
        "parallel_workflow.add_edge(START, \"facilities_access\")\n",
        "\n",
        "# All parallel nodes connect to finalize\n",
        "parallel_workflow.add_edge(\"it_setup\", \"finalize\")\n",
        "parallel_workflow.add_edge(\"hr_paperwork\", \"finalize\")\n",
        "parallel_workflow.add_edge(\"facilities_access\", \"finalize\")\n",
        "\n",
        "# Finalize connects to END\n",
        "parallel_workflow.add_edge(\"finalize\", END)\n",
        "\n",
        "# Compile\n",
        "parallel_app = parallel_workflow.compile()\n",
        "\n",
        "print(\"✅ Parallel onboarding workflow created!\")\n",
        "print(\"\\n📊 Workflow structure:\")\n",
        "print(\"         START\")\n",
        "print(\"        /  |  \\\\\")\n",
        "print(\"      IT  HR  Facilities\")\n",
        "print(\"        \\\\  |  /\")\n",
        "print(\"       Finalize\")\n",
        "print(\"          |\")\n",
        "print(\"         END\")"
      ]
    },
    {
      "cell_type": "markdown",
      "metadata": {},
      "source": [
        "## Part 4: Test Parallel Execution\n",
        "\n",
        "Watch how all three tasks run simultaneously!"
      ]
    },
    {
      "cell_type": "code",
      "execution_count": null,
      "metadata": {},
      "outputs": [],
      "source": [
        "import time\n",
        "\n",
        "initial_state = {\n",
        "    \"employee_name\": \"Vikram Mehta\",\n",
        "    \"employee_id\": \"110\",\n",
        "    \"department\": \"Sales\",\n",
        "    \"it_setup_complete\": False,\n",
        "    \"hr_paperwork_complete\": False,\n",
        "    \"facilities_complete\": False,\n",
        "    \"messages\": []\n",
        "}\n",
        "\n",
        "print(\"=\"*70)\n",
        "print(\"STARTING PARALLEL ONBOARDING\")\n",
        "print(\"=\"*70)\n",
        "print(\"⏱️  Each task takes 2 seconds\")\n",
        "print(\"🚀 Running in parallel...\\n\")\n",
        "\n",
        "start_time = time.time()\n",
        "result = parallel_app.invoke(initial_state)\n",
        "end_time = time.time()\n",
        "\n",
        "print(\"\\n\" + \"=\"*70)\n",
        "print(\"PARALLEL ONBOARDING COMPLETE!\")\n",
        "print(\"=\"*70)\n",
        "print(f\"\\n⏱️  Total time: {end_time - start_time:.2f} seconds\")\n",
        "print(\"📊 Notice: ~2 seconds total, not 6 seconds!\")\n",
        "print(\"\\n✅ Status:\")\n",
        "print(f\"  - IT Setup: {result['it_setup_complete']}\")\n",
        "print(f\"  - HR Paperwork: {result['hr_paperwork_complete']}\")\n",
        "print(f\"  - Facilities: {result['facilities_complete']}\")"
      ]
    },
    {
      "cell_type": "markdown",
      "metadata": {},
      "source": [
        "## 🎯 Exercise 3.1: Add Background Check\n",
        "\n",
        "Add a new parallel task:\n",
        "1. Create `background_check(state)` node (simulate 3 seconds)\n",
        "2. Add it to the parallel execution\n",
        "3. Update the state to track background_check_complete\n",
        "4. Compare total execution time"
      ]
    },
    {
      "cell_type": "code",
      "execution_count": null,
      "metadata": {},
      "outputs": [],
      "source": [
        "# Your code here\n",
        "def background_check(state: ParallelOnboardingState):\n",
        "    \"\"\"TODO: Implement background check\"\"\"\n",
        "    pass\n",
        "\n",
        "# TODO: Update state schema\n",
        "# TODO: Rebuild graph with background check"
      ]
    },
    {
      "cell_type": "markdown",
      "metadata": {},
      "source": [
        "---\n",
        "# Lab 4: Combining LangGraph with LangChain Agents\n",
        "\n",
        "**Objective:** Use LangChain agents within LangGraph nodes.\n",
        "\n",
        "**Scenario:** Create an HR assistant that uses tools within a workflow.\n",
        "\n",
        "**Key Concept:** Agents can be nodes in a graph!"
      ]
    },
    {
      "cell_type": "markdown",
      "metadata": {},
      "source": [
        "## Part 1: Create Tools (LangChain 1.0 Way)"
      ]
    },
    {
      "cell_type": "code",
      "execution_count": null,
      "metadata": {},
      "outputs": [],
      "source": [
        "from langchain_core.tools import tool\n",
        "\n",
        "@tool\n",
        "def check_leave_balance_tool(employee_id: str) -> str:\n",
        "    \"\"\"Check the leave balance for an employee.\n",
        "    \n",
        "    Args:\n",
        "        employee_id: The employee's ID number\n",
        "    \n",
        "    Returns:\n",
        "        A message with the employee's leave balance\n",
        "    \"\"\"\n",
        "    balance = leave_balances.get(employee_id, 0)\n",
        "    return f\"Employee {employee_id} has {balance} days of leave available.\"\n",
        "\n",
        "@tool\n",
        "def get_employee_info_tool(employee_id: str) -> str:\n",
        "    \"\"\"Get information about an employee.\n",
        "    \n",
        "    Args:\n",
        "        employee_id: The employee's ID number\n",
        "    \n",
        "    Returns:\n",
        "        Employee information including name and department\n",
        "    \"\"\"\n",
        "    emp = employees.get(employee_id, {})\n",
        "    if emp:\n",
        "        return f\"Name: {emp['name']}, Department: {emp['department']}\"\n",
        "    return f\"Employee {employee_id} not found.\"\n",
        "\n",
        "print(\"✅ Tools created!\")"
      ]
    },
    {
      "cell_type": "markdown",
      "metadata": {},
      "source": [
        "## Part 2: Create Agent (LangChain 1.0 - Updated!)\n",
        "\n",
        "**Note:** Using `system_prompt` parameter instead of `prompt` (LangChain 1.0 change)"
      ]
    },
    {
      "cell_type": "code",
      "execution_count": null,
      "metadata": {},
      "outputs": [],
      "source": [
        "from langchain.agents import create_agent\n",
        "\n",
        "# Create agent with system_prompt (NEW in LangChain 1.0)\n",
        "hr_agent = create_agent(\n",
        "    model=llm,\n",
        "    tools=[check_leave_balance_tool, get_employee_info_tool],\n",
        "    system_prompt=\"\"\"You are a helpful HR assistant. \n",
        "    Use the available tools to help employees with:\n",
        "    - Checking leave balances\n",
        "    - Getting employee information\n",
        "    \n",
        "    Be friendly and professional in your responses.\"\"\"\n",
        ")\n",
        "\n",
        "print(\"✅ HR Agent created with system_prompt (LangChain 1.0)!\")"
      ]
    },
    {
      "cell_type": "markdown",
      "metadata": {},
      "source": [
        "## Part 3: Use Agent in a LangGraph Node"
      ]
    },
    {
      "cell_type": "code",
      "execution_count": null,
      "metadata": {},
      "outputs": [],
      "source": [
        "class HRWorkflowState(TypedDict):\n",
        "    \"\"\"State for HR workflow with agent\"\"\"\n",
        "    user_query: str\n",
        "    agent_response: str\n",
        "    messages: Annotated[list, add_messages]\n",
        "\n",
        "def agent_node(state: HRWorkflowState):\n",
        "    \"\"\"Node that runs the agent\"\"\"\n",
        "    print(f\"\\n🤖 Processing query: {state['user_query']}\")\n",
        "    \n",
        "    # Invoke agent with user query\n",
        "    response = hr_agent.invoke({\n",
        "        \"messages\": [{\"role\": \"user\", \"content\": state['user_query']}]\n",
        "    })\n",
        "    \n",
        "    # Extract the agent's response\n",
        "    agent_response = response[\"messages\"][-1].content\n",
        "    \n",
        "    return {\n",
        "        \"agent_response\": agent_response,\n",
        "        \"messages\": [(\"assistant\", agent_response)]\n",
        "    }\n",
        "\n",
        "# Create simple workflow\n",
        "agent_workflow = StateGraph(HRWorkflowState)\n",
        "agent_workflow.add_node(\"agent\", agent_node)\n",
        "agent_workflow.add_edge(START, \"agent\")\n",
        "agent_workflow.add_edge(\"agent\", END)\n",
        "\n",
        "agent_app = agent_workflow.compile()\n",
        "\n",
        "print(\"✅ Agent integrated into LangGraph!\")"
      ]
    },
    {
      "cell_type": "markdown",
      "metadata": {},
      "source": [
        "## Part 4: Test the Agent Workflow"
      ]
    },
    {
      "cell_type": "code",
      "execution_count": null,
      "metadata": {},
      "outputs": [],
      "source": [
        "# Test queries\n",
        "queries = [\n",
        "    \"What's the leave balance for employee 101?\",\n",
        "    \"Tell me about employee 103\",\n",
        "    \"Check leave balance and info for employee 102\"\n",
        "]\n",
        "\n",
        "for query in queries:\n",
        "    print(\"\\n\" + \"=\"*70)\n",
        "    result = agent_app.invoke({\n",
        "        \"user_query\": query,\n",
        "        \"agent_response\": \"\",\n",
        "        \"messages\": []\n",
        "    })\n",
        "    print(f\"\\n📋 Response:\\n{result['agent_response']}\")"
      ]
    },
    {
      "cell_type": "markdown",
      "metadata": {},
      "source": [
        "---\n",
        "## Summary\n",
        "\n",
        "### What You Learned:\n",
        "\n",
        "1. **Lab 1 - Linear Workflows:**\n",
        "   - State, Nodes, Edges, START, END\n",
        "   - Building sequential processes\n",
        "\n",
        "2. **Lab 2 - Conditional Routing:**\n",
        "   - Routing functions that return node names\n",
        "   - `add_conditional_edges()` for dynamic flows\n",
        "   - Decision logic based on state\n",
        "\n",
        "3. **Lab 3 - Parallel Execution:**\n",
        "   - Multiple edges from START\n",
        "   - Independent tasks running simultaneously\n",
        "   - Performance benefits of parallelization\n",
        "\n",
        "4. **Lab 4 - Agents in Graphs:**\n",
        "   - **LangChain 1.0 Change:** Use `system_prompt` instead of `prompt`\n",
        "   - Agents as nodes in workflows\n",
        "   - Combining structured workflows with intelligent agents\n",
        "\n",
        "### Key LangChain 1.0 Update:\n",
        "\n",
        "```python\n",
        "# OLD (pre-1.0) - ❌ Will error in 1.0\n",
        "agent = create_agent(model, tools, prompt=prompt_template)\n",
        "\n",
        "# NEW (1.0) - ✅ Correct syntax\n",
        "agent = create_agent(\n",
        "    model=llm,\n",
        "    tools=[...],\n",
        "    system_prompt=\"You are a helpful assistant...\"\n",
        ")\n",
        "```\n",
        "\n",
        "### Next Steps:\n",
        "- Complete all exercises\n",
        "- Combine concepts (e.g., parallel + conditional)\n",
        "- Build your own HR workflow\n",
        "- Explore human-in-the-loop patterns"
      ]
    }
  ],
  "metadata": {
    "kernelspec": {
      "display_name": "Python 3",
      "language": "python",
      "name": "python3"
    },
    "language_info": {
      "name": "python",
      "version": "3.11.0"
    }
  },
  "nbformat": 4,
  "nbformat_minor": 4
}
