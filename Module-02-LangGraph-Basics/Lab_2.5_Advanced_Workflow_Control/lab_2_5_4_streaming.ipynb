{
  "cells": [
    {
      "cell_type": "code",
      "source": [
        "# ==============================================================================\n",
        "# 1. SETUP - INSTALL AND IMPORT LIBS\n",
        "# ==============================================================================\n",
        "!pip install langgraph langchain_core==0.1.52 --quiet\n",
        "\n",
        "from langgraph.graph import StateGraph, START, END\n",
        "from typing import TypedDict\n",
        "import time\n",
        "\n",
        "# ==============================================================================\n",
        "# 2. DEFINE THE STATE AND WORKFLOW LOGIC\n",
        "# ==============================================================================\n",
        "class StreamingState(TypedDict):\n",
        "    input: str\n",
        "    result_a: str\n",
        "    result_b: str\n",
        "    final_result: str\n",
        "\n",
        "def process_a(state: StreamingState) -> dict:\n",
        "    print(\"  (Executing Node A...)\")\n",
        "    time.sleep(1)\n",
        "    return {\"result_a\": f\"A({state['input']})\"}\n",
        "\n",
        "def process_b(state: StreamingState) -> dict:\n",
        "    print(\"  (Executing Node B...)\")\n",
        "    time.sleep(1)\n",
        "    return {\"result_b\": f\"B({state['result_a']})\"}\n",
        "\n",
        "def final_process(state: StreamingState) -> dict:\n",
        "    print(\"  (Executing Final Node...)\")\n",
        "    time.sleep(1)\n",
        "    return {\"final_result\": f\"Final({state['result_b']})\"}\n",
        "\n",
        "# ==============================================================================\n",
        "# 3. BUILD AND COMPILE THE WORKFLOW\n",
        "# ==============================================================================\n",
        "def create_streaming_workflow():\n",
        "    workflow = StateGraph(StreamingState)\n",
        "    workflow.add_node(\"A\", process_a)\n",
        "    workflow.add_node(\"B\", process_b)\n",
        "    workflow.add_node(\"Final\", final_process)\n",
        "    workflow.add_edge(START, \"A\")\n",
        "    workflow.add_edge(\"A\", \"B\")\n",
        "    workflow.add_edge(\"B\", \"Final\")\n",
        "    workflow.add_edge(\"Final\", END)\n",
        "    return workflow.compile()\n",
        "\n",
        "# ==============================================================================\n",
        "# 4. RUN THE WORKFLOW AND DEMONSTRATE STREAMING\n",
        "# ==============================================================================\n",
        "if __name__ == \"__main__\":\n",
        "    app = create_streaming_workflow()\n",
        "    initial_input = {\"input\": \"start\"}\n",
        "\n",
        "    print(\"--- Part 1: Streaming results as they are produced using .stream() ---\")\n",
        "    # .stream() yields the output of each node as it completes.\n",
        "    for chunk in app.stream(initial_input):\n",
        "        node, output = next(iter(chunk.items()))\n",
        "        print(f\"Streaming Output from Node '{node}':\")\n",
        "        print(f\"  {output}\\n\")\n",
        "\n",
        "    print(\"\\n--- Part 2: For comparison, the standard .invoke() method ---\")\n",
        "    # .invoke() blocks until the entire graph is finished and only returns the final state.\n",
        "    final_output = app.invoke(initial_input)\n",
        "    print(\"Invoke only returns the complete, final state:\")\n",
        "    print(f\"  {final_output}\")"
      ],
      "outputs": [
        {
          "output_type": "stream",
          "name": "stdout",
          "text": [
            "--- Part 1: Streaming results as they are produced using .stream() ---\n",
            "  (Executing Node A...)\n",
            "Streaming Output from Node 'A':\n",
            "  {'result_a': 'A(start)'}\n",
            "\n",
            "  (Executing Node B...)\n",
            "Streaming Output from Node 'B':\n",
            "  {'result_b': 'B(A(start))'}\n",
            "\n",
            "  (Executing Final Node...)\n",
            "Streaming Output from Node 'Final':\n",
            "  {'final_result': 'Final(B(A(start)))'}\n",
            "\n",
            "\n",
            "--- Part 2: For comparison, the standard .invoke() method ---\n",
            "  (Executing Node A...)\n",
            "  (Executing Node B...)\n",
            "  (Executing Final Node...)\n",
            "Invoke only returns the complete, final state:\n",
            "  {'input': 'start', 'result_a': 'A(start)', 'result_b': 'B(A(start))', 'final_result': 'Final(B(A(start)))'}\n"
          ]
        }
      ],
      "execution_count": 2,
      "metadata": {
        "colab": {
          "base_uri": "https://localhost:8080/"
        },
        "id": "hiVJ0Dg1o85d",
        "outputId": "a242d01a-6b74-47e1-c18e-f7067bf0cad4"
      }
    }
  ],
  "metadata": {
    "colab": {
      "provenance": []
    },
    "kernelspec": {
      "display_name": "Python 3",
      "name": "python3"
    }
  },
  "nbformat": 4,
  "nbformat_minor": 0
}