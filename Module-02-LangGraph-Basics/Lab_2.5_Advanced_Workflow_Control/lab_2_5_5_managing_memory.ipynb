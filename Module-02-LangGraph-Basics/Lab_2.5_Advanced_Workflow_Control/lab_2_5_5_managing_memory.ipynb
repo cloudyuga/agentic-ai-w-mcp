{
  "cells": [
    {
      "cell_type": "code",
      "source": [
        "# ==============================================================================\n",
        "# 1. SETUP - INSTALL AND IMPORT LIBS\n",
        "# ==============================================================================\n",
        "!pip install langgraph langchain_core==0.1.52 --quiet\n",
        "\n",
        "from langgraph.graph import StateGraph, START, END\n",
        "from langgraph.checkpoint.sqlite import SqliteSaver\n",
        "from typing import TypedDict, Annotated\n",
        "from langchain_core.messages import AnyMessage, HumanMessage, AIMessage\n",
        "import operator\n",
        "\n",
        "# ==============================================================================\n",
        "# 2. DEFINE THE STATE AND WORKFLOW LOGIC\n",
        "# ==============================================================================\n",
        "# The key to managing memory:\n",
        "# Using Annotated with operator.add tells LangGraph to append to the 'messages' list\n",
        "# instead of overwriting it. This builds the conversation history.\n",
        "class ChatState(TypedDict):\n",
        "    messages: Annotated[list[AnyMessage], operator.add]\n",
        "\n",
        "def chatbot_node(state: ChatState) -> dict:\n",
        "    last_message = state[\"messages\"][-1].content\n",
        "    print(f\"  User said: '{last_message}'\")\n",
        "\n",
        "    response = f\"I acknowledge your message: '{last_message}'. How can I help further?\"\n",
        "    print(f\"  AI says: '{response}'\")\n",
        "\n",
        "    return {\"messages\": [AIMessage(content=response)]}\n",
        "\n",
        "# ==============================================================================\n",
        "# 3. BUILD AND COMPILE THE WORKFLOW\n",
        "# ==============================================================================\n",
        "def create_chatbot_workflow():\n",
        "    workflow = StateGraph(ChatState)\n",
        "    workflow.add_node(\"chatbot\", chatbot_node)\n",
        "    workflow.add_edge(START, \"chatbot\")\n",
        "    workflow.add_edge(\"chatbot\", END)\n",
        "\n",
        "    memory = SqliteSaver.from_conn_string(\":memory:\")\n",
        "    return workflow.compile(checkpointer=memory), memory\n",
        "\n",
        "# ==============================================================================\n",
        "# 4. RUN THE WORKFLOW AND DEMONSTRATE MEMORY\n",
        "# ==============================================================================\n",
        "if __name__ == \"__main__\":\n",
        "    app, memory = create_chatbot_workflow()\n",
        "\n",
        "    # ✅ FIX: wrap thread_id inside configurable\n",
        "    thread_config = {\"configurable\": {\"thread_id\": \"chat-session-1\"}}\n",
        "\n",
        "    print(\"--- Turn 1 ---\")\n",
        "    app.invoke({\"messages\": [HumanMessage(content=\"Hello, is anyone there?\")]}, config=thread_config)\n",
        "\n",
        "    print(\"\\n--- Turn 2 ---\")\n",
        "    app.invoke({\"messages\": [HumanMessage(content=\"I need help with my account.\")]}, config=thread_config)\n",
        "\n",
        "    print(\"\\n--- Turn 3 ---\")\n",
        "    app.invoke({\"messages\": [HumanMessage(content=\"The issue is with my password.\")]}, config=thread_config)\n",
        "\n",
        "    print(\"\\n\" + \"=\"*50)\n",
        "    print(\"--- Retrieving full conversation history from the checkpointer ---\")\n",
        "\n",
        "    # ✅ FIX: get state using proper thread_config\n",
        "    final_state = app.get_state(config=thread_config)\n",
        "\n",
        "    for message in final_state.values[\"messages\"]:\n",
        "        print(f\"  [{message.type.upper()}] {message.content}\")\n"
      ],
      "outputs": [
        {
          "output_type": "stream",
          "name": "stdout",
          "text": [
            "--- Turn 1 ---\n",
            "  User said: 'Hello, is anyone there?'\n",
            "  AI says: 'I acknowledge your message: 'Hello, is anyone there?'. How can I help further?'\n",
            "\n",
            "--- Turn 2 ---\n",
            "  User said: 'I need help with my account.'\n",
            "  AI says: 'I acknowledge your message: 'I need help with my account.'. How can I help further?'\n",
            "\n",
            "--- Turn 3 ---\n",
            "  User said: 'The issue is with my password.'\n",
            "  AI says: 'I acknowledge your message: 'The issue is with my password.'. How can I help further?'\n",
            "\n",
            "==================================================\n",
            "--- Retrieving full conversation history from the checkpointer ---\n",
            "  [HUMAN] Hello, is anyone there?\n",
            "  [AI] I acknowledge your message: 'Hello, is anyone there?'. How can I help further?\n",
            "  [HUMAN] I need help with my account.\n",
            "  [AI] I acknowledge your message: 'I need help with my account.'. How can I help further?\n",
            "  [HUMAN] The issue is with my password.\n",
            "  [AI] I acknowledge your message: 'The issue is with my password.'. How can I help further?\n"
          ]
        }
      ],
      "execution_count": 3,
      "metadata": {
        "colab": {
          "base_uri": "https://localhost:8080/"
        },
        "id": "v-wI_tZZpb6I",
        "outputId": "f92d187c-64d6-4947-d766-a71fffa8f079"
      }
    }
  ],
  "metadata": {
    "colab": {
      "provenance": []
    },
    "kernelspec": {
      "display_name": "Python 3",
      "name": "python3"
    }
  },
  "nbformat": 4,
  "nbformat_minor": 0
}