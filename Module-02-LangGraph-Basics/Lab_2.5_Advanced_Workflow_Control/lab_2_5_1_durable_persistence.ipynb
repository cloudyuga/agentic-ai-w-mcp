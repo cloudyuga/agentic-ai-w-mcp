{
  "cells": [
    {
      "cell_type": "code",
      "source": [
        "# ==============================================================================\n",
        "# 1. SETUP - INSTALL AND IMPORT LIBS\n",
        "# ==============================================================================\n",
        "# This cell will install the necessary libraries for this lab.\n",
        "# We are using a specific version of langchain_core to ensure compatibility.\n",
        "!pip install langgraph langchain_core==0.1.52 --quiet\n",
        "\n",
        "from langgraph.graph import StateGraph, START, END\n",
        "from langgraph.checkpoint.sqlite import SqliteSaver\n",
        "from typing import TypedDict\n",
        "\n",
        "# ==============================================================================\n",
        "# 2. DEFINE THE STATE AND WORKFLOW LOGIC\n",
        "# ==============================================================================\n",
        "# Define the state schema for our workflow.\n",
        "class DurableState(TypedDict):\n",
        "    name: str\n",
        "    status: str\n",
        "    step: int\n",
        "\n",
        "# Define the functions that will act as nodes in our graph.\n",
        "def step_one(state: DurableState) -> dict:\n",
        "    print(f\"Executing Step 1 for {state['name']}...\")\n",
        "    return {\"status\": \"Step 1 Complete\", \"step\": 1}\n",
        "\n",
        "def step_two(state: DurableState) -> dict:\n",
        "    print(f\"Executing Step 2 for {state['name']}...\")\n",
        "    return {\"status\": \"Step 2 Complete\", \"step\": 2}\n",
        "\n",
        "# ==============================================================================\n",
        "# 3. BUILD AND COMPILE THE WORKFLOW\n",
        "# ==============================================================================\n",
        "# This function encapsulates the graph creation and compilation.\n",
        "def create_durable_workflow():\n",
        "    workflow = StateGraph(DurableState)\n",
        "    workflow.add_node(\"step_one\", step_one)\n",
        "    workflow.add_node(\"step_two\", step_two)\n",
        "    workflow.add_edge(START, \"step_one\")\n",
        "    workflow.add_edge(\"step_one\", \"step_two\")\n",
        "    workflow.add_edge(\"step_two\", END)\n",
        "\n",
        "    # The key to persistence: SqliteSaver with an in-memory database.\n",
        "    # For true durability across runs, replace \":memory:\" with a file path like \"checkpoint.sqlite\".\n",
        "    memory = SqliteSaver.from_conn_string(\":memory:\")\n",
        "\n",
        "    return workflow.compile(checkpointer=memory)\n",
        "\n",
        "# ==============================================================================\n",
        "# 4. RUN THE WORKFLOW AND DEMONSTRATE PERSISTENCE\n",
        "# ==============================================================================\n",
        "if __name__ == \"__main__\":\n",
        "    app = create_durable_workflow()\n",
        "\n",
        "    # A unique identifier for this specific workflow run.\n",
        "    # The checkpointer requires the configurable key to be present.\n",
        "    thread_config = {\"configurable\": {\"thread_id\": \"candidate-123\"}}\n",
        "    initial_state = {\"name\": \"John Doe\", \"status\": \"Not Started\", \"step\": 0}\n",
        "\n",
        "    print(\"--- Part 1: Running the workflow until the end ---\")\n",
        "    final_result = app.invoke(initial_state, config=thread_config)\n",
        "    print(f\"Final Result: {final_result}\\n\")\n",
        "\n",
        "    print(\"--- Part 2: Checking the persisted state from the checkpointer ---\")\n",
        "    # We can retrieve the state at any time using the thread_id.\n",
        "    persisted_state = app.get_state(config=thread_config)\n",
        "    print(f\"Retrieved State: {persisted_state.values}\\n\")\n",
        "\n",
        "    print(\"--- Part 3: Manually modifying and updating the persisted state ---\")\n",
        "    # We can also directly update the state.\n",
        "    app.update_state(thread_config, {\"status\": \"Manually Updated by Admin\"})\n",
        "    updated_state = app.get_state(config=thread_config)\n",
        "    print(f\"Updated State after manual change: {updated_state.values}\")"
      ],
      "outputs": [
        {
          "output_type": "stream",
          "name": "stdout",
          "text": [
            "--- Part 1: Running the workflow until the end ---\n",
            "Executing Step 1 for John Doe...\n",
            "Executing Step 2 for John Doe...\n",
            "Final Result: {'name': 'John Doe', 'status': 'Step 2 Complete', 'step': 2}\n",
            "\n",
            "--- Part 2: Checking the persisted state from the checkpointer ---\n",
            "Retrieved State: {'name': 'John Doe', 'status': 'Step 2 Complete', 'step': 2}\n",
            "\n",
            "--- Part 3: Manually modifying and updating the persisted state ---\n",
            "Updated State after manual change: {'name': 'John Doe', 'status': 'Manually Updated by Admin', 'step': 2}\n"
          ]
        }
      ],
      "execution_count": 2,
      "metadata": {
        "colab": {
          "base_uri": "https://localhost:8080/"
        },
        "id": "E5AM4KKn56SJ",
        "outputId": "548ca0c9-2c44-4538-a8cc-258a790c695f"
      }
    }
  ],
  "metadata": {
    "colab": {
      "provenance": []
    },
    "kernelspec": {
      "display_name": "Python 3",
      "name": "python3"
    }
  },
  "nbformat": 4,
  "nbformat_minor": 0
}