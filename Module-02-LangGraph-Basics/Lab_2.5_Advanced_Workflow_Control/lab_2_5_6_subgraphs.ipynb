{
  "cells": [
    {
      "cell_type": "code",
      "source": [
        "# ==============================================================================\n",
        "# 1. SETUP - INSTALL AND IMPORT LIBS\n",
        "# ==============================================================================\n",
        "!pip install langgraph langchain_core==0.1.52 --quiet\n",
        "\n",
        "from langgraph.graph import StateGraph, START, END\n",
        "from typing import TypedDict, List\n",
        "\n",
        "# ==============================================================================\n",
        "# 2. DEFINE AND BUILD THE SUBGRAPH\n",
        "# ==============================================================================\n",
        "# This is a self-contained workflow that we can reuse.\n",
        "class SubgraphState(TypedDict):\n",
        "    data: str\n",
        "    sub_history: List[str]\n",
        "\n",
        "def sub_step_1(state: SubgraphState) -> dict:\n",
        "    print(\"  (Subgraph Step 1 running)\")\n",
        "    return {\"sub_history\": state[\"sub_history\"] + [\"Sub1 Ran\"]}\n",
        "\n",
        "def sub_step_2(state: SubgraphState) -> dict:\n",
        "    print(\"  (Subgraph Step 2 running)\")\n",
        "    return {\"sub_history\": state[\"sub_history\"] + [\"Sub2 Ran\"]}\n",
        "\n",
        "def create_subgraph():\n",
        "    sub_workflow = StateGraph(SubgraphState)\n",
        "    sub_workflow.add_node(\"sub1\", sub_step_1)\n",
        "    sub_workflow.add_node(\"sub2\", sub_step_2)\n",
        "    sub_workflow.add_edge(START, \"sub1\")\n",
        "    sub_workflow.add_edge(\"sub1\", \"sub2\")\n",
        "    sub_workflow.add_edge(\"sub2\", END)\n",
        "    return sub_workflow.compile()\n",
        "\n",
        "# ==============================================================================\n",
        "# 3. DEFINE AND BUILD THE MAIN (PARENT) GRAPH\n",
        "# ==============================================================================\n",
        "class MainGraphState(TypedDict):\n",
        "    input: str\n",
        "    main_history: List[str]\n",
        "\n",
        "def main_step_before(state: MainGraphState) -> dict:\n",
        "    print(\"Executing Main Graph Step BEFORE Subgraph\")\n",
        "    return {\"main_history\": state[\"main_history\"] + [\"Before Subgraph\"]}\n",
        "\n",
        "def main_step_after(state: MainGraphState) -> dict:\n",
        "    print(\"Executing Main Graph Step AFTER Subgraph\")\n",
        "    return {\"main_history\": state[\"main_history\"] + [\"After Subgraph\"]}\n",
        "\n",
        "# This node is responsible for invoking the subgraph.\n",
        "def run_subgraph_node(state: MainGraphState) -> dict:\n",
        "    print(\"--- Entering Subgraph ---\")\n",
        "    subgraph_app = create_subgraph()\n",
        "    sub_input_state = {\"data\": state[\"input\"], \"sub_history\": []}\n",
        "    subgraph_result = subgraph_app.invoke(sub_input_state)\n",
        "    print(\"--- Exiting Subgraph ---\")\n",
        "\n",
        "    # We can pass the result of the subgraph into the main graph's state.\n",
        "    subgraph_summary = f\"Subgraph completed with history: {subgraph_result['sub_history']}\"\n",
        "    return {\"main_history\": state[\"main_history\"] + [subgraph_summary]}\n",
        "\n",
        "# ==============================================================================\n",
        "# 4. RUN THE MAIN GRAPH\n",
        "# ==============================================================================\n",
        "if __name__ == \"__main__\":\n",
        "    main_workflow = StateGraph(MainGraphState)\n",
        "    main_workflow.add_node(\"before\", main_step_before)\n",
        "    main_workflow.add_node(\"subgraph_node\", run_subgraph_node)\n",
        "    main_workflow.add_node(\"after\", main_step_after)\n",
        "    main_workflow.add_edge(START, \"before\")\n",
        "    main_workflow.add_edge(\"before\", \"subgraph_node\")\n",
        "    main_workflow.add_edge(\"subgraph_node\", \"after\")\n",
        "    main_workflow.add_edge(\"after\", END)\n",
        "    app = main_workflow.compile()\n",
        "\n",
        "    initial_state = {\"input\": \"start data\", \"main_history\": []}\n",
        "    final_result = app.invoke(initial_state)\n",
        "\n",
        "    print(\"\\n--- Final Main Graph State ---\")\n",
        "    for i, step in enumerate(final_result['main_history']):\n",
        "        print(f\"Step {i+1}: {step}\")"
      ],
      "outputs": [
        {
          "output_type": "stream",
          "name": "stdout",
          "text": [
            "Executing Main Graph Step BEFORE Subgraph\n",
            "--- Entering Subgraph ---\n",
            "  (Subgraph Step 1 running)\n",
            "  (Subgraph Step 2 running)\n",
            "--- Exiting Subgraph ---\n",
            "Executing Main Graph Step AFTER Subgraph\n",
            "\n",
            "--- Final Main Graph State ---\n",
            "Step 1: Before Subgraph\n",
            "Step 2: Subgraph completed with history: ['Sub1 Ran', 'Sub2 Ran']\n",
            "Step 3: After Subgraph\n"
          ]
        }
      ],
      "execution_count": 2,
      "metadata": {
        "colab": {
          "base_uri": "https://localhost:8080/"
        },
        "id": "5svdPa6MqHHQ",
        "outputId": "1c30460d-4c23-4998-9e46-1f824a20eb0d"
      }
    }
  ],
  "metadata": {
    "colab": {
      "provenance": []
    },
    "kernelspec": {
      "display_name": "Python 3",
      "name": "python3"
    }
  },
  "nbformat": 4,
  "nbformat_minor": 0
}