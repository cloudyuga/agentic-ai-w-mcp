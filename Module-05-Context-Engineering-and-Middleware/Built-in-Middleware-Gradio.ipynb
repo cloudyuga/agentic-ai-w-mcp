{
  "cells": [
    {
      "cell_type": "markdown",
      "metadata": {},
      "source": [
        "# 🤖 HR Agent with Built-in Middleware - Gradio App\n",
        "\n",
        "This notebook demonstrates LangChain 1.0's built-in middleware with an interactive Gradio interface:\n",
        "\n",
        "- 📝 **SummarizationMiddleware**: Auto-summarizes long conversations\n",
        "- 👤 **HumanInTheLoopMiddleware**: Requires approval for critical operations\n",
        "\n",
        "---"
      ]
    },
    {
      "cell_type": "markdown",
      "metadata": {},
      "source": [
        "## Step 1: Install Dependencies"
      ]
    },
    {
      "cell_type": "code",
      "execution_count": null,
      "metadata": {},
      "outputs": [],
      "source": [
        "# Install required packages\n",
        "!pip install -q gradio langchain langchain-openai langgraph"
      ]
    },
    {
      "cell_type": "markdown",
      "metadata": {},
      "source": [
        "## Step 2: Configure API Key"
      ]
    },
    {
      "cell_type": "code",
      "execution_count": null,
      "metadata": {},
      "outputs": [],
      "source": [
        "import os\n",
        "\n",
        "# For Google Colab\n",
        "try:\n",
        "    from google.colab import userdata\n",
        "    os.environ['OPENAI_API_KEY'] = userdata.get('OPENAI_API_KEY')\n",
        "    print(\"✅ API Key loaded from Colab secrets\")\n",
        "except:\n",
        "    # For local Jupyter\n",
        "    # Uncomment and add your key:\n",
        "    # os.environ['OPENAI_API_KEY'] = 'your-api-key-here'\n",
        "    print(\"⚠️ Please set your OPENAI_API_KEY\")"
      ]
    },
    {
      "cell_type": "markdown",
      "metadata": {},
      "source": [
        "## Step 3: Import Required Libraries"
      ]
    },
    {
      "cell_type": "code",
      "execution_count": null,
      "metadata": {},
      "outputs": [],
      "source": [
        "import gradio as gr\n",
        "from typing import Annotated\n",
        "import json\n",
        "\n",
        "from langchain.agents import create_agent\n",
        "from langchain.agents.middleware import SummarizationMiddleware, HumanInTheLoopMiddleware\n",
        "from langchain_core.tools import tool\n",
        "from langgraph.checkpoint.memory import InMemorySaver\n",
        "from langgraph.types import Command\n",
        "\n",
        "print(\"✅ All libraries imported successfully\")"
      ]
    },
    {
      "cell_type": "markdown",
      "metadata": {},
      "source": [
        "## Step 4: Define Employee Database"
      ]
    },
    {
      "cell_type": "code",
      "execution_count": null,
      "metadata": {},
      "outputs": [],
      "source": [
        "# Employee Database\n",
        "EMPLOYEES = {\n",
        "    \"101\": {\n",
        "        \"name\": \"Priya Sharma\",\n",
        "        \"department\": \"Engineering\",\n",
        "        \"role\": \"Senior Developer\",\n",
        "        \"salary\": 120000,\n",
        "        \"leave_balance\": 12\n",
        "    },\n",
        "    \"102\": {\n",
        "        \"name\": \"Rahul Verma\",\n",
        "        \"department\": \"Engineering\",\n",
        "        \"role\": \"Engineering Manager\",\n",
        "        \"salary\": 180000,\n",
        "        \"leave_balance\": 8\n",
        "    },\n",
        "    \"103\": {\n",
        "        \"name\": \"Anjali Patel\",\n",
        "        \"department\": \"HR\",\n",
        "        \"role\": \"HR Director\",\n",
        "        \"salary\": 200000,\n",
        "        \"leave_balance\": 15\n",
        "    }\n",
        "}\n",
        "\n",
        "print(f\"✅ Employee database loaded with {len(EMPLOYEES)} employees\")\n",
        "for emp_id, emp in EMPLOYEES.items():\n",
        "    print(f\"   {emp_id}: {emp['name']} - {emp['role']}\")"
      ]
    },
    {
      "cell_type": "markdown",
      "metadata": {},
      "source": [
        "## Step 5: Define HR Tools"
      ]
    },
    {
      "cell_type": "code",
      "execution_count": null,
      "metadata": {},
      "outputs": [],
      "source": [
        "@tool\n",
        "def get_employee_info(employee_id: Annotated[str, \"Employee ID\"]) -> str:\n",
        "    \"\"\"Get employee information by ID.\"\"\"\n",
        "    if employee_id in EMPLOYEES:\n",
        "        emp = EMPLOYEES[employee_id]\n",
        "        return f\"{emp['name']} - {emp['department']} - {emp['role']}\"\n",
        "    return f\"Employee {employee_id} not found\"\n",
        "\n",
        "@tool\n",
        "def check_leave_balance(employee_id: Annotated[str, \"Employee ID\"]) -> str:\n",
        "    \"\"\"Check leave balance for an employee.\"\"\"\n",
        "    if employee_id in EMPLOYEES:\n",
        "        return f\"{EMPLOYEES[employee_id]['name']} has {EMPLOYEES[employee_id]['leave_balance']} days remaining\"\n",
        "    return f\"Employee {employee_id} not found\"\n",
        "\n",
        "@tool\n",
        "def update_salary(\n",
        "    employee_id: Annotated[str, \"Employee ID\"],\n",
        "    new_salary: Annotated[int, \"New salary\"]\n",
        ") -> str:\n",
        "    \"\"\"Update employee salary. REQUIRES APPROVAL.\"\"\"\n",
        "    if employee_id in EMPLOYEES:\n",
        "        old = EMPLOYEES[employee_id]['salary']\n",
        "        EMPLOYEES[employee_id]['salary'] = new_salary\n",
        "        return f\"✅ Updated {EMPLOYEES[employee_id]['name']}: ₹{old:,} → ₹{new_salary:,}\"\n",
        "    return f\"Employee {employee_id} not found\"\n",
        "\n",
        "@tool\n",
        "def approve_leave(\n",
        "    employee_id: Annotated[str, \"Employee ID\"],\n",
        "    days: Annotated[int, \"Days\"]\n",
        ") -> str:\n",
        "    \"\"\"Approve leave request. REQUIRES APPROVAL.\"\"\"\n",
        "    if employee_id in EMPLOYEES:\n",
        "        emp = EMPLOYEES[employee_id]\n",
        "        if emp['leave_balance'] >= days:\n",
        "            EMPLOYEES[employee_id]['leave_balance'] -= days\n",
        "            return f\"✅ Approved {days} days for {emp['name']}. Remaining: {EMPLOYEES[employee_id]['leave_balance']}\"\n",
        "        return f\"❌ Insufficient balance: {emp['leave_balance']} days\"\n",
        "    return f\"Employee {employee_id} not found\"\n",
        "\n",
        "print(\"✅ HR tools defined:\")\n",
        "print(\"   - get_employee_info (no approval)\")\n",
        "print(\"   - check_leave_balance (no approval)\")\n",
        "print(\"   - update_salary (requires approval)\")\n",
        "print(\"   - approve_leave (requires approval)\")"
      ]
    },
    {
      "cell_type": "markdown",
      "metadata": {},
      "source": [
        "## Step 6: Create Agent with Middleware"
      ]
    },
    {
      "cell_type": "code",
      "execution_count": null,
      "metadata": {},
      "outputs": [],
      "source": [
        "# Create agent with both middlewares\n",
        "agent = create_agent(\n",
        "    model=\"openai:gpt-4o-mini\",\n",
        "    tools=[get_employee_info, check_leave_balance, update_salary, approve_leave],\n",
        "    middleware=[\n",
        "        # Summarization Middleware\n",
        "        SummarizationMiddleware(\n",
        "            model=\"openai:gpt-4o-mini\",\n",
        "            max_tokens_before_summary=1500,  # Trigger at 1500 tokens\n",
        "            messages_to_keep=8,  # Keep last 8 messages\n",
        "            summary_prompt=\"Summarize the HR conversation concisely, preserving key details.\"\n",
        "        ),\n",
        "        # Human-in-the-Loop Middleware\n",
        "        HumanInTheLoopMiddleware(\n",
        "            interrupt_on={\n",
        "                \"update_salary\": True,  # Require approval\n",
        "                \"approve_leave\": True   # Require approval\n",
        "            }\n",
        "        )\n",
        "    ],\n",
        "    checkpointer=InMemorySaver(),  # Required for interrupts\n",
        "    system_prompt=\"\"\"You are a professional HR assistant.\n",
        "    \n",
        "    Help with:\n",
        "    - Employee information lookup\n",
        "    - Leave balance inquiries\n",
        "    - Salary/leave requests (require manager approval)\n",
        "    \n",
        "    Be friendly and professional.\"\"\"\n",
        ")\n",
        "\n",
        "print(\"✅ Agent created with middleware:\")\n",
        "print(\"   📝 SummarizationMiddleware (triggers at 1500 tokens)\")\n",
        "print(\"   👤 HumanInTheLoopMiddleware (for salary/leave operations)\")"
      ]
    },
    {
      "cell_type": "markdown",
      "metadata": {},
      "source": [
        "## Step 7: Define Application State"
      ]
    },
    {
      "cell_type": "code",
      "execution_count": null,
      "metadata": {},
      "outputs": [],
      "source": [
        "# Global state for managing interrupts\n",
        "class AppState:\n",
        "    def __init__(self):\n",
        "        self.pending_interrupt = None\n",
        "        self.current_config = None\n",
        "\n",
        "state = AppState()\n",
        "\n",
        "print(\"✅ Application state initialized\")"
      ]
    },
    {
      "cell_type": "markdown",
      "metadata": {},
      "source": [
        "## Step 8: Define Handler Functions"
      ]
    },
    {
      "cell_type": "code",
      "execution_count": null,
      "metadata": {},
      "outputs": [],
      "source": [
        "def chat(message, history, thread_id):\n",
        "    \"\"\"Process chat message\"\"\"\n",
        "    if not message.strip():\n",
        "        return history, \"\", None, gr.update(visible=False), \"\"\n",
        "    \n",
        "    config = {\"configurable\": {\"thread_id\": thread_id}}\n",
        "    state.current_config = config\n",
        "    \n",
        "    try:\n",
        "        result = agent.invoke(\n",
        "            {\"messages\": [{\"role\": \"user\", \"content\": message}]},\n",
        "            config\n",
        "        )\n",
        "        \n",
        "        # Check for interrupt (approval needed)\n",
        "        if '__interrupt__' in result:\n",
        "            state.pending_interrupt = result['__interrupt__'][0]\n",
        "            action = state.pending_interrupt.value['action_requests'][0]\n",
        "            \n",
        "            interrupt_msg = f\"\"\"**🔔 Approval Required**\n",
        "\n",
        "**Tool:** `{action['name']}`\n",
        "**Arguments:** \n",
        "```json\n",
        "{json.dumps(action['arguments'], indent=2)}\n",
        "```\n",
        "\"\"\"\n",
        "            args_json = json.dumps(action['arguments'], indent=2)\n",
        "            \n",
        "            history.append([message, \"⏸️ **Operation paused** - Manager approval required\"])\n",
        "            return history, \"\", interrupt_msg, gr.update(visible=True), args_json\n",
        "        \n",
        "        # Normal response (no interrupt)\n",
        "        response = result['messages'][-1].content\n",
        "        \n",
        "        # Check if summarization occurred\n",
        "        if any('summary' in str(msg).lower() for msg in result.get('messages', [])[:3]):\n",
        "            response += \"\\n\\n📝 *Note: Earlier messages were summarized*\"\n",
        "        \n",
        "        history.append([message, response])\n",
        "        return history, \"\", None, gr.update(visible=False), \"\"\n",
        "        \n",
        "    except Exception as e:\n",
        "        history.append([message, f\"❌ Error: {str(e)}\"])\n",
        "        return history, \"\", None, gr.update(visible=False), \"\"\n",
        "\n",
        "\n",
        "def approve():\n",
        "    \"\"\"Approve pending action\"\"\"\n",
        "    if not state.pending_interrupt:\n",
        "        return \"No pending approval\", gr.update(visible=False)\n",
        "    \n",
        "    try:\n",
        "        result = agent.invoke(\n",
        "            Command(resume={\"decisions\": [{\"type\": \"approve\"}]}),\n",
        "            state.current_config\n",
        "        )\n",
        "        state.pending_interrupt = None\n",
        "        return f\"✅ **Approved**\\n\\n{result['messages'][-1].content}\", gr.update(visible=False)\n",
        "    except Exception as e:\n",
        "        return f\"❌ Error: {str(e)}\", gr.update(visible=False)\n",
        "\n",
        "\n",
        "def reject(reason):\n",
        "    \"\"\"Reject pending action\"\"\"\n",
        "    if not state.pending_interrupt:\n",
        "        return \"No pending approval\", gr.update(visible=False)\n",
        "    \n",
        "    try:\n",
        "        result = agent.invoke(\n",
        "            Command(resume={\n",
        "                \"decisions\": [{\n",
        "                    \"type\": \"reject\",\n",
        "                    \"feedback\": reason or \"Rejected by manager\"\n",
        "                }]\n",
        "            }),\n",
        "            state.current_config\n",
        "        )\n",
        "        state.pending_interrupt = None\n",
        "        return f\"❌ **Rejected**\\n\\nReason: {reason}\\n\\n{result['messages'][-1].content}\", gr.update(visible=False)\n",
        "    except Exception as e:\n",
        "        return f\"❌ Error: {str(e)}\", gr.update(visible=False)\n",
        "\n",
        "\n",
        "def edit_approve(args_json):\n",
        "    \"\"\"Edit arguments and approve\"\"\"\n",
        "    if not state.pending_interrupt:\n",
        "        return \"No pending approval\", gr.update(visible=False)\n",
        "    \n",
        "    try:\n",
        "        args = json.loads(args_json)\n",
        "        result = agent.invoke(\n",
        "            Command(resume={\n",
        "                \"decisions\": [{\n",
        "                    \"type\": \"edit\",\n",
        "                    \"args\": args\n",
        "                }]\n",
        "            }),\n",
        "            state.current_config\n",
        "        )\n",
        "        state.pending_interrupt = None\n",
        "        return f\"✏️ **Edited & Approved**\\n\\nNew args:\\n```json\\n{json.dumps(args, indent=2)}\\n```\\n\\n{result['messages'][-1].content}\", gr.update(visible=False)\n",
        "    except json.JSONDecodeError:\n",
        "        return \"❌ Invalid JSON format\", gr.update(visible=True)\n",
        "    except Exception as e:\n",
        "        return f\"❌ Error: {str(e)}\", gr.update(visible=False)\n",
        "\n",
        "\n",
        "print(\"✅ Handler functions defined\")"
      ]
    },
    {
      "cell_type": "markdown",
      "metadata": {},
      "source": [
        "## Step 9: Create Gradio Interface"
      ]
    },
    {
      "cell_type": "code",
      "execution_count": null,
      "metadata": {},
      "outputs": [],
      "source": [
        "# Create Gradio interface\n",
        "with gr.Blocks(theme=gr.themes.Soft(), title=\"HR Agent with Middleware\") as demo:\n",
        "    \n",
        "    gr.Markdown(\"\"\"\n",
        "    # 🤖 HR Agent with Built-in Middleware\n",
        "    \n",
        "    **Features:**\n",
        "    - 📝 **SummarizationMiddleware**: Auto-summarizes conversations after 1500 tokens\n",
        "    - 👤 **HumanInTheLoopMiddleware**: Requires approval for salary/leave operations\n",
        "    \n",
        "    **Try these queries:**\n",
        "    - \"Show info for employee 101\"\n",
        "    - \"Update salary for employee 101 to ₹150,000\" (requires approval)\n",
        "    \"\"\")\n",
        "    \n",
        "    with gr.Row():\n",
        "        # Left Column: Chat Interface\n",
        "        with gr.Column(scale=2):\n",
        "            gr.Markdown(\"### 💬 Chat with HR Agent\")\n",
        "            \n",
        "            chatbot = gr.Chatbot(\n",
        "                height=450,\n",
        "                label=\"Conversation\",\n",
        "                show_label=True\n",
        "            )\n",
        "            \n",
        "            msg = gr.Textbox(\n",
        "                placeholder=\"Type your message here...\",\n",
        "                show_label=False,\n",
        "                lines=2\n",
        "            )\n",
        "            \n",
        "            with gr.Row():\n",
        "                send_btn = gr.Button(\"Send\", variant=\"primary\", scale=2)\n",
        "                clear_btn = gr.Button(\"Clear\", variant=\"secondary\", scale=1)\n",
        "            \n",
        "            thread_id = gr.Textbox(\n",
        "                value=\"session_1\",\n",
        "                label=\"Thread ID\",\n",
        "                info=\"Change to start a new conversation\"\n",
        "            )\n",
        "        \n",
        "        # Right Column: Approval Panel\n",
        "        with gr.Column(scale=1):\n",
        "            gr.Markdown(\"### ✋ Approval Panel\")\n",
        "            \n",
        "            approval_box = gr.Column(visible=False)\n",
        "            \n",
        "            with approval_box:\n",
        "                interrupt_display = gr.Markdown(\"No pending approvals\")\n",
        "                \n",
        "                gr.Markdown(\"#### Edit Arguments (Optional)\")\n",
        "                args_editor = gr.Code(\n",
        "                    language=\"json\",\n",
        "                    label=\"Arguments\",\n",
        "                    lines=4\n",
        "                )\n",
        "                \n",
        "                with gr.Row():\n",
        "                    approve_btn = gr.Button(\"✅ Approve\", size=\"sm\", variant=\"primary\")\n",
        "                    edit_btn = gr.Button(\"✏️ Edit & Approve\", size=\"sm\", variant=\"primary\")\n",
        "                \n",
        "                gr.Markdown(\"#### Or Reject\")\n",
        "                reject_reason = gr.Textbox(\n",
        "                    placeholder=\"Reason for rejection\",\n",
        "                    label=\"Reason\",\n",
        "                    lines=2\n",
        "                )\n",
        "                reject_btn = gr.Button(\"❌ Reject\", variant=\"stop\")\n",
        "                \n",
        "                gr.Markdown(\"---\")\n",
        "                result_display = gr.Markdown(\"Waiting for decision...\")\n",
        "    \n",
        "    # Example Queries\n",
        "    gr.Examples(\n",
        "        examples=[\n",
        "            [\"Show info for employee 101\"],\n",
        "            [\"Check leave balance for employee 102\"],\n",
        "            [\"What's the salary for employee 103?\"],\n",
        "            [\"Update salary for employee 101 to ₹150,000\"],\n",
        "            [\"Approve 5 days leave for employee 103\"]\n",
        "        ],\n",
        "        inputs=msg,\n",
        "        label=\"Example Queries\"\n",
        "    )\n",
        "    \n",
        "    gr.Markdown(\"\"\"\n",
        "    ---\n",
        "    ### 📊 How It Works\n",
        "    \n",
        "    **Normal Operations** (get_employee_info, check_leave_balance):\n",
        "    - Execute immediately without approval\n",
        "    \n",
        "    **Sensitive Operations** (update_salary, approve_leave):\n",
        "    1. Agent attempts to call the tool\n",
        "    2. HumanInTheLoopMiddleware intercepts and pauses\n",
        "    3. Approval panel appears on the right\n",
        "    4. Manager can: Approve, Edit & Approve, or Reject\n",
        "    5. Agent resumes with the decision\n",
        "    \n",
        "    **Long Conversations**:\n",
        "    - SummarizationMiddleware automatically summarizes after ~1500 tokens\n",
        "    - Keeps last 8 messages for context\n",
        "    \"\"\")\n",
        "    \n",
        "    # Event Handlers\n",
        "    msg.submit(\n",
        "        chat,\n",
        "        inputs=[msg, chatbot, thread_id],\n",
        "        outputs=[chatbot, msg, interrupt_display, approval_box, args_editor]\n",
        "    )\n",
        "    \n",
        "    send_btn.click(\n",
        "        chat,\n",
        "        inputs=[msg, chatbot, thread_id],\n",
        "        outputs=[chatbot, msg, interrupt_display, approval_box, args_editor]\n",
        "    )\n",
        "    \n",
        "    approve_btn.click(\n",
        "        approve,\n",
        "        inputs=None,\n",
        "        outputs=[result_display, approval_box]\n",
        "    )\n",
        "    \n",
        "    reject_btn.click(\n",
        "        reject,\n",
        "        inputs=[reject_reason],\n",
        "        outputs=[result_display, approval_box]\n",
        "    )\n",
        "    \n",
        "    edit_btn.click(\n",
        "        edit_approve,\n",
        "        inputs=[args_editor],\n",
        "        outputs=[result_display, approval_box]\n",
        "    )\n",
        "    \n",
        "    clear_btn.click(\n",
        "        lambda: ([], None, gr.update(visible=False)),\n",
        "        inputs=None,\n",
        "        outputs=[chatbot, interrupt_display, approval_box]\n",
        "    )\n",
        "\n",
        "print(\"✅ Gradio interface created\")"
      ]
    },
    {
      "cell_type": "markdown",
      "metadata": {},
      "source": [
        "## Step 10: Launch the Application"
      ]
    },
    {
      "cell_type": "markdown",
      "metadata": {},
      "source": [
        "### Optional: Test Agent Directly (Before Launching UI)\n",
        "\n",
        "Run this cell to test if the agent works correctly:"
      ]
    },
    {
      "cell_type": "code",
      "execution_count": null,
      "metadata": {},
      "outputs": [],
      "source": [
        "# Test the agent directly\n",
        "print(\"Testing agent...\\n\")\n",
        "\n",
        "test_config = {\"configurable\": {\"thread_id\": \"test_123\"}}\n",
        "\n",
        "try:\n",
        "    # Test with proper message format\n",
        "    test_result = agent.invoke(\n",
        "        {\"messages\": [HumanMessage(content=\"Show me info for employee 101\")]},\n",
        "        test_config\n",
        "    )\n",
        "    \n",
        "    print(\"✅ Agent test successful!\")\n",
        "    print(f\"\\nResponse: {test_result['messages'][-1].content}\")\n",
        "    \n",
        "except Exception as e:\n",
        "    print(f\"❌ Agent test failed: {str(e)}\")\n",
        "    print(\"\\nTroubleshooting tips:\")\n",
        "    print(\"1. Make sure OPENAI_API_KEY is set correctly\")\n",
        "    print(\"2. Check your internet connection\")\n",
        "    print(\"3. Verify all previous cells ran successfully\")"
      ]
    },
    {
      "cell_type": "markdown",
      "metadata": {},
      "source": [
        "### Launch Gradio Interface"
      ]
    },
    {
      "cell_type": "code",
      "execution_count": null,
      "metadata": {},
      "outputs": [],
      "source": [
        "# Launch the Gradio app\n",
        "demo.launch(\n",
        "    server_port=7860,\n",
        "    share=True,  # Creates a public URL (for Colab)\n",
        "    debug=True\n",
        ")"
      ]
    },
    {
      "cell_type": "markdown",
      "metadata": {},
      "source": [
        "---\n",
        "\n",
        "## 🎯 Usage Guide\n",
        "\n",
        "### Safe Operations (No Approval Required)\n",
        "These operations execute immediately:\n",
        "- \"Show info for employee 101\"\n",
        "- \"Check leave balance for employee 102\"\n",
        "- \"What's the salary for employee 103?\"\n",
        "\n",
        "### Operations Requiring Approval\n",
        "These operations will pause and show the approval panel:\n",
        "- \"Update salary for employee 101 to ₹150,000\"\n",
        "- \"Approve 5 days leave for employee 103\"\n",
        "\n",
        "### Approval Workflow\n",
        "When an operation requires approval:\n",
        "\n",
        "1. **Chat shows**: \"⏸️ Operation paused - Manager approval required\"\n",
        "2. **Approval panel appears** with:\n",
        "   - Tool name and arguments\n",
        "   - Editable JSON (if you want to modify)\n",
        "   - Three buttons:\n",
        "     - ✅ **Approve**: Execute as-is\n",
        "     - ✏️ **Edit & Approve**: Modify the JSON and execute\n",
        "     - ❌ **Reject**: Cancel with optional reason\n",
        "\n",
        "3. **After decision**: Agent continues and shows the result\n",
        "\n",
        "### Testing Summarization\n",
        "To see SummarizationMiddleware in action:\n",
        "1. Have a long conversation (10+ message exchanges)\n",
        "2. Look for the note: \"📝 *Note: Earlier messages were summarized*\"\n",
        "3. The agent maintains context despite summarization\n",
        "\n",
        "---\n",
        "\n",
        "## 🔧 Customization\n",
        "\n",
        "### Adjust Summarization Threshold\n",
        "In Step 6, modify:\n",
        "```python\n",
        "SummarizationMiddleware(\n",
        "    max_tokens_before_summary=1500,  # Change this value\n",
        "    messages_to_keep=8  # Change number of messages to keep\n",
        ")\n",
        "```\n",
        "\n",
        "### Configure Approval Requirements\n",
        "In Step 6, modify:\n",
        "```python\n",
        "HumanInTheLoopMiddleware(\n",
        "    interrupt_on={\n",
        "        \"update_salary\": True,  # All decisions\n",
        "        \"approve_leave\": {\"allowed_decisions\": [\"approve\", \"reject\"]},  # No editing\n",
        "        \"get_employee_info\": False  # No approval needed\n",
        "    }\n",
        ")\n",
        "```\n",
        "\n",
        "### Add New Tools\n",
        "In Step 5, add a new tool:\n",
        "```python\n",
        "@tool\n",
        "def your_custom_tool(param: Annotated[str, \"Description\"]) -> str:\n",
        "    \"\"\"Tool description\"\"\"\n",
        "    # Your logic here\n",
        "    return \"Result\"\n",
        "```\n",
        "\n",
        "Then add it to the agent's tools list in Step 6.\n",
        "\n",
        "---\n",
        "\n",
        "## 🐛 Troubleshooting

### Issue: "Data incompatible with messages format"

**Solution:** Make sure you're using `HumanMessage` objects, not dictionaries:

```python
# ✅ Correct
from langchain_core.messages import HumanMessage
result = agent.invoke(
    {"messages": [HumanMessage(content="your message")]},
    config
)

# ❌ Incorrect
result = agent.invoke(
    {"messages": [{"role": "user", "content": "your message"}]},
    config
)
```

### Issue: "No module named 'langchain.agents'"

**Solution:** Make sure you installed the pre-release version:
```bash
pip install --pre -U langchain
```

### Issue: API Key Not Found

**Solution:** 
- For Colab: Add `OPENAI_API_KEY` to Colab secrets
- For Jupyter: Uncomment and set the key in Step 2

### Issue: Gradio Interface Not Loading

**Solution:**
1. Check if all previous cells ran successfully
2. Try restarting the kernel and running all cells again
3. Make sure port 7860 is not already in use

### Issue: Agent Doesn't Respond

**Solution:**
1. Run the test cell before Step 10 to verify the agent works
2. Check your OpenAI API key is valid
3. Verify internet connection

---\n",
        "\n",
        "- **Thread ID**: Change to start a fresh conversation\n",
        "- **Public URL**: The `share=True` parameter creates a temporary public link (great for Colab)\n",
        "- **Persistence**: Conversations are stored in memory per thread ID\n",
        "- **Employee IDs**: Currently supports 101, 102, and 103\n",
        "\n",
        "## 🎓 Learning Resources\n",
        "\n",
        "- [LangChain Middleware Docs](https://docs.langchain.com/oss/python/langchain/middleware)\n",
        "- [Human-in-the-Loop Guide](https://docs.langchain.com/oss/python/langchain/human-in-the-loop)\n",
        "- [Gradio Documentation](https://www.gradio.app/docs)\n",
        "- [LangGraph Documentation](https://langchain-ai.github.io/langgraph/)\n",
        "\n",
        "---\n",
        "\n",
        "**Enjoy exploring LangChain 1.0's built-in middleware! 🚀**"
      ]
    }
  ],
  "metadata": {
    "kernelspec": {
      "display_name": "Python 3",
      "language": "python",
      "name": "python3"
    },
    "language_info": {
      "codemirror_mode": {
        "name": "ipython",
        "version": 3
      },
      "file_extension": ".py",
      "mimetype": "text/x-python",
      "name": "python",
      "nbconvert_exporter": "python",
      "pygments_lexer": "ipython3",
      "version": "3.10.0"
    },
    "colab": {
      "provenance": []
    }
  },
  "nbformat": 4,
  "nbformat_minor": 0
}
