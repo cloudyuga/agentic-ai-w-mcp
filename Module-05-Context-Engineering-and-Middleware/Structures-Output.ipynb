{
  "cells": [
    {
      "cell_type": "markdown",
      "metadata": {},
      "source": [
        "# HR Structured Outputs with LangChain 1.0\n",
        "\n",
        "**Module:** Working with Structured Response Formats\n",
        "\n",
        "**Learning Objectives:**\n",
        "- Understand 4 different ways to define structured outputs\n",
        "- Compare Pydantic, Dataclass, TypedDict, and JSON Schema\n",
        "- Build production-ready HR agents with structured responses\n",
        "- Apply best practices for data extraction\n",
        "\n",
        "**Use Case:** Extract structured employee information from unstructured text\n",
        "\n",
        "**Time:** 2-3 hours"
      ]
    },
    {
      "cell_type": "markdown",
      "metadata": {},
      "source": [
        "---\n",
        "## Setup: Install Dependencies"
      ]
    },
    {
      "cell_type": "code",
      "execution_count": null,
      "metadata": {},
      "outputs": [],
      "source": [
        "# Install LangChain 1.0 alpha packages\n",
        "!pip install --pre -U langchain langchain-openai pydantic"
      ]
    },
    {
      "cell_type": "markdown",
      "metadata": {},
      "source": [
        "## Setup: Configure OpenAI API Key"
      ]
    },
    {
      "cell_type": "code",
      "execution_count": null,
      "metadata": {},
      "outputs": [],
      "source": [
        "# For Google Colab\n",
        "from google.colab import userdata\n",
        "import os\n",
        "\n",
        "OPENAI_API_KEY = userdata.get('OPENAI_API_KEY')\n",
        "os.environ['OPENAI_API_KEY'] = OPENAI_API_KEY\n",
        "\n",
        "print(\"✅ API Key configured!\")"
      ]
    },
    {
      "cell_type": "code",
      "execution_count": null,
      "metadata": {},
      "outputs": [],
      "source": [
        "# Alternative: For local Jupyter or other environments\n",
        "# import os\n",
        "# os.environ['OPENAI_API_KEY'] = 'your-api-key-here'\n",
        "# print(\"✅ API Key configured!\")"
      ]
    },
    {
      "cell_type": "markdown",
      "metadata": {},
      "source": [
        "## Import Required Libraries"
      ]
    },
    {
      "cell_type": "code",
      "execution_count": null,
      "metadata": {},
      "outputs": [],
      "source": [
        "from typing import Optional, List\n",
        "from dataclasses import dataclass\n",
        "from typing_extensions import TypedDict\n",
        "from pydantic import BaseModel, Field\n",
        "from langchain.agents import create_agent\n",
        "from langchain_core.tools import tool\n",
        "\n",
        "print(\"✅ All imports successful!\")"
      ]
    },
    {
      "cell_type": "markdown",
      "metadata": {},
      "source": [
        "---\n",
        "# Lab 1: Pydantic BaseModel (⭐ Recommended)\n",
        "\n",
        "**Objective:** Use Pydantic BaseModel for structured output\n",
        "\n",
        "**Benefits:**\n",
        "- Automatic validation\n",
        "- Rich field descriptions\n",
        "- IDE autocomplete support\n",
        "- Easy serialization\n",
        "- Best integration with LangChain"
      ]
    },
    {
      "cell_type": "markdown",
      "metadata": {},
      "source": [
        "## Step 1: Define Pydantic Model"
      ]
    },
    {
      "cell_type": "code",
      "execution_count": null,
      "metadata": {},
      "outputs": [],
      "source": [
        "class EmployeeInfo(BaseModel):\n",
        "    \"\"\"Structured employee information using Pydantic.\"\"\"\n",
        "    \n",
        "    employee_id: str = Field(\n",
        "        description=\"Unique employee identifier (e.g., EMP001)\"\n",
        "    )\n",
        "    full_name: str = Field(\n",
        "        description=\"Full name of the employee\"\n",
        "    )\n",
        "    email: str = Field(\n",
        "        description=\"Work email address\"\n",
        "    )\n",
        "    phone: str = Field(\n",
        "        description=\"Contact phone number\"\n",
        "    )\n",
        "    department: str = Field(\n",
        "        description=\"Department name (e.g., Engineering, HR, Sales)\"\n",
        "    )\n",
        "    position: str = Field(\n",
        "        description=\"Job title/position\"\n",
        "    )\n",
        "    salary: Optional[float] = Field(\n",
        "        default=None,\n",
        "        description=\"Annual salary in INR (optional)\"\n",
        "    )\n",
        "    joining_date: Optional[str] = Field(\n",
        "        default=None,\n",
        "        description=\"Date of joining in YYYY-MM-DD format\"\n",
        "    )\n",
        "    skills: Optional[List[str]] = Field(\n",
        "        default=None,\n",
        "        description=\"List of key skills\"\n",
        "    )\n",
        "\n",
        "print(\"✅ EmployeeInfo Pydantic model defined!\")\n",
        "print(f\"\\nModel fields: {list(EmployeeInfo.model_fields.keys())}\")"
      ]
    },
    {
      "cell_type": "markdown",
      "metadata": {},
      "source": [
        "## Step 2: Create Agent with Pydantic Response Format"
      ]
    },
    {
      "cell_type": "code",
      "execution_count": null,
      "metadata": {},
      "outputs": [],
      "source": [
        "# Define a simple tool (optional - for demonstration)\n",
        "@tool\n",
        "def get_employee_database(query: str) -> str:\n",
        "    \"\"\"Search employee database for information.\"\"\"\n",
        "    return \"Database contains employee records...\"\n",
        "\n",
        "# Create agent with Pydantic response format\n",
        "tools = [get_employee_database]\n",
        "\n",
        "agent_pydantic = create_agent(\n",
        "    model=\"openai:gpt-4o-mini\",\n",
        "    tools=tools,\n",
        "    response_format=EmployeeInfo  # Auto-selects ProviderStrategy\n",
        ")\n",
        "\n",
        "print(\"✅ Agent created with Pydantic response format!\")"
      ]
    },
    {
      "cell_type": "markdown",
      "metadata": {},
      "source": [
        "## Step 3: Test the Agent"
      ]
    },
    {
      "cell_type": "code",
      "execution_count": null,
      "metadata": {},
      "outputs": [],
      "source": [
        "# Sample unstructured employee data\n",
        "input_text = \"\"\"\n",
        "Extract employee info: Priya Sharma, EMP101, works in Engineering \n",
        "department as Senior Developer. Email: priya.sharma@company.com, \n",
        "Phone: +91-9876543210. Joined on 2020-05-15. Salary: 1200000 INR.\n",
        "Skills: Python, Django, AWS, Docker.\n",
        "\"\"\"\n",
        "\n",
        "result = agent_pydantic.invoke({\n",
        "    \"messages\": [{\"role\": \"user\", \"content\": input_text}]\n",
        "})\n",
        "\n",
        "employee = result[\"structured_response\"]\n",
        "\n",
        "print(\"=\" * 70)\n",
        "print(\"PYDANTIC BASEMODEL RESULT\")\n",
        "print(\"=\" * 70)\n",
        "print(f\"Type: {type(employee)}\")\n",
        "print(f\"\\nEmployee ID: {employee.employee_id}\")\n",
        "print(f\"Name: {employee.full_name}\")\n",
        "print(f\"Email: {employee.email}\")\n",
        "print(f\"Phone: {employee.phone}\")\n",
        "print(f\"Department: {employee.department}\")\n",
        "print(f\"Position: {employee.position}\")\n",
        "if employee.salary:\n",
        "    print(f\"Salary: ₹{employee.salary:,.2f}\")\n",
        "if employee.joining_date:\n",
        "    print(f\"Joining Date: {employee.joining_date}\")\n",
        "if employee.skills:\n",
        "    print(f\"Skills: {', '.join(employee.skills)}\")\n",
        "\n",
        "print(\"\\n✅ Pydantic provides validation, serialization, and IDE support!\")"
      ]
    },
    {
      "cell_type": "markdown",
      "metadata": {},
      "source": [
        "## Bonus: Serialize to Dictionary/JSON"
      ]
    },
    {
      "cell_type": "code",
      "execution_count": null,
      "metadata": {},
      "outputs": [],
      "source": [
        "import json\n",
        "\n",
        "# Convert to dictionary\n",
        "employee_dict = employee.model_dump()\n",
        "print(\"As Dictionary:\")\n",
        "print(employee_dict)\n",
        "\n",
        "# Convert to JSON\n",
        "employee_json = employee.model_dump_json(indent=2)\n",
        "print(\"\\nAs JSON:\")\n",
        "print(employee_json)"
      ]
    },
    {
      "cell_type": "markdown",
      "metadata": {},
      "source": [
        "---\n",
        "# Lab 2: Python Dataclass\n",
        "\n",
        "**Objective:** Use Python's built-in dataclass for structured output\n",
        "\n",
        "**Benefits:**\n",
        "- Built into Python 3.7+\n",
        "- No external dependencies\n",
        "- Simple and lightweight\n",
        "- Good for prototypes"
      ]
    },
    {
      "cell_type": "markdown",
      "metadata": {},
      "source": [
        "## Step 1: Define Dataclass"
      ]
    },
    {
      "cell_type": "code",
      "execution_count": null,
      "metadata": {},
      "outputs": [],
      "source": [
        "@dataclass\n",
        "class EmployeeInfoDataclass:\n",
        "    \"\"\"Structured employee information using dataclass.\"\"\"\n",
        "    \n",
        "    employee_id: str\n",
        "    full_name: str\n",
        "    email: str\n",
        "    phone: str\n",
        "    department: str\n",
        "    position: str\n",
        "    salary: Optional[float] = None\n",
        "    joining_date: Optional[str] = None\n",
        "    skills: Optional[List[str]] = None\n",
        "\n",
        "print(\"✅ EmployeeInfoDataclass defined!\")"
      ]
    },
    {
      "cell_type": "markdown",
      "metadata": {},
      "source": [
        "## Step 2: Create Agent with Dataclass Response Format"
      ]
    },
    {
      "cell_type": "code",
      "execution_count": null,
      "metadata": {},
      "outputs": [],
      "source": [
        "agent_dataclass = create_agent(\n",
        "    model=\"openai:gpt-4o-mini\",\n",
        "    tools=tools,\n",
        "    response_format=EmployeeInfoDataclass\n",
        ")\n",
        "\n",
        "print(\"✅ Agent created with Dataclass response format!\")"
      ]
    },
    {
      "cell_type": "markdown",
      "metadata": {},
      "source": [
        "## Step 3: Test the Agent"
      ]
    },
    {
      "cell_type": "code",
      "execution_count": null,
      "metadata": {},
      "outputs": [],
      "source": [
        "input_text = \"\"\"\n",
        "Extract info: Rahul Verma (EMP102) - Engineering Manager\n",
        "Contact: rahul.verma@company.com, +91-9876543211\n",
        "Joined: 2018-03-20, Salary: 1800000 INR\n",
        "Skills: Team Management, System Design, Kubernetes\n",
        "\"\"\"\n",
        "\n",
        "result = agent_dataclass.invoke({\n",
        "    \"messages\": [{\"role\": \"user\", \"content\": input_text}]\n",
        "})\n",
        "\n",
        "employee = result[\"structured_response\"]\n",
        "\n",
        "print(\"=\" * 70)\n",
        "print(\"PYTHON DATACLASS RESULT\")\n",
        "print(\"=\" * 70)\n",
        "print(f\"Type: {type(employee)}\")\n",
        "print(f\"\\nEmployee ID: {employee.employee_id}\")\n",
        "print(f\"Name: {employee.full_name}\")\n",
        "print(f\"Email: {employee.email}\")\n",
        "print(f\"Phone: {employee.phone}\")\n",
        "print(f\"Department: {employee.department}\")\n",
        "print(f\"Position: {employee.position}\")\n",
        "if employee.salary:\n",
        "    print(f\"Salary: ₹{employee.salary:,.2f}\")\n",
        "if employee.skills:\n",
        "    print(f\"Skills: {', '.join(employee.skills)}\")\n",
        "\n",
        "print(\"\\n✅ Dataclass is simple and built into Python!\")"
      ]
    },
    {
      "cell_type": "markdown",
      "metadata": {},
      "source": [
        "---\n",
        "# Lab 3: TypedDict\n",
        "\n",
        "**Objective:** Use TypedDict for dictionary-based structured output\n",
        "\n",
        "**Benefits:**\n",
        "- Dictionary-based access\n",
        "- Type hints for IDEs\n",
        "- Flexible structure\n",
        "- Works well with dict workflows"
      ]
    },
    {
      "cell_type": "markdown",
      "metadata": {},
      "source": [
        "## Step 1: Define TypedDict"
      ]
    },
    {
      "cell_type": "code",
      "execution_count": null,
      "metadata": {},
      "outputs": [],
      "source": [
        "class EmployeeInfoTypedDict(TypedDict):\n",
        "    \"\"\"Structured employee information using TypedDict.\"\"\"\n",
        "    \n",
        "    employee_id: str\n",
        "    full_name: str\n",
        "    email: str\n",
        "    phone: str\n",
        "    department: str\n",
        "    position: str\n",
        "    salary: Optional[float]\n",
        "    joining_date: Optional[str]\n",
        "    skills: Optional[List[str]]\n",
        "\n",
        "print(\"✅ EmployeeInfoTypedDict defined!\")"
      ]
    },
    {
      "cell_type": "markdown",
      "metadata": {},
      "source": [
        "## Step 2: Create Agent with TypedDict Response Format"
      ]
    },
    {
      "cell_type": "code",
      "execution_count": null,
      "metadata": {},
      "outputs": [],
      "source": [
        "agent_typeddict = create_agent(\n",
        "    model=\"openai:gpt-4o-mini\",\n",
        "    tools=tools,\n",
        "    response_format=EmployeeInfoTypedDict\n",
        ")\n",
        "\n",
        "print(\"✅ Agent created with TypedDict response format!\")"
      ]
    },
    {
      "cell_type": "markdown",
      "metadata": {},
      "source": [
        "## Step 3: Test the Agent"
      ]
    },
    {
      "cell_type": "code",
      "execution_count": null,
      "metadata": {},
      "outputs": [],
      "source": [
        "input_text = \"\"\"\n",
        "Employee details: Anjali Patel, ID: EMP103\n",
        "HR Director, anjali.patel@company.com\n",
        "Phone: +91-9876543212, Joined: 2015-01-10\n",
        "Annual compensation: 2500000 INR\n",
        "Key skills: Recruitment, Policy Development, Employee Relations\n",
        "\"\"\"\n",
        "\n",
        "result = agent_typeddict.invoke({\n",
        "    \"messages\": [{\"role\": \"user\", \"content\": input_text}]\n",
        "})\n",
        "\n",
        "employee = result[\"structured_response\"]\n",
        "\n",
        "print(\"=\" * 70)\n",
        "print(\"TYPEDDICT RESULT\")\n",
        "print(\"=\" * 70)\n",
        "print(f\"Type: {type(employee)}\")\n",
        "print(f\"\\nEmployee ID: {employee['employee_id']}\")\n",
        "print(f\"Name: {employee['full_name']}\")\n",
        "print(f\"Email: {employee['email']}\")\n",
        "print(f\"Phone: {employee['phone']}\")\n",
        "print(f\"Department: {employee['department']}\")\n",
        "print(f\"Position: {employee['position']}\")\n",
        "if employee.get('salary'):\n",
        "    print(f\"Salary: ₹{employee['salary']:,.2f}\")\n",
        "if employee.get('skills'):\n",
        "    print(f\"Skills: {', '.join(employee['skills'])}\")\n",
        "\n",
        "print(\"\\n✅ TypedDict returns a dictionary with type hints!\")"
      ]
    },
    {
      "cell_type": "markdown",
      "metadata": {},
      "source": [
        "---\n",
        "# Lab 4: JSON Schema\n",
        "\n",
        "**Objective:** Use JSON Schema for structured output\n",
        "\n",
        "**Benefits:**\n",
        "- Language-agnostic\n",
        "- Fine-grained validation\n",
        "- Enum constraints\n",
        "- Cross-platform compatibility"
      ]
    },
    {
      "cell_type": "markdown",
      "metadata": {},
      "source": [
        "## Step 1: Define JSON Schema"
      ]
    },
    {
      "cell_type": "code",
      "execution_count": null,
      "metadata": {},
      "outputs": [],
      "source": [
        "EMPLOYEE_INFO_JSON_SCHEMA = {\n",
        "    \"type\": \"object\",\n",
        "    \"title\": \"EmployeeInfo\",\n",
        "    \"description\": \"Structured employee information using JSON Schema\",\n",
        "    \"properties\": {\n",
        "        \"employee_id\": {\n",
        "            \"type\": \"string\",\n",
        "            \"description\": \"Unique employee identifier (e.g., EMP001)\"\n",
        "        },\n",
        "        \"full_name\": {\n",
        "            \"type\": \"string\",\n",
        "            \"description\": \"Full name of the employee\"\n",
        "        },\n",
        "        \"email\": {\n",
        "            \"type\": \"string\",\n",
        "            \"description\": \"Work email address\",\n",
        "            \"format\": \"email\"\n",
        "        },\n",
        "        \"phone\": {\n",
        "            \"type\": \"string\",\n",
        "            \"description\": \"Contact phone number\"\n",
        "        },\n",
        "        \"department\": {\n",
        "            \"type\": \"string\",\n",
        "            \"description\": \"Department name\",\n",
        "            \"enum\": [\"Engineering\", \"HR\", \"Sales\", \"Marketing\", \"Finance\", \"Operations\"]\n",
        "        },\n",
        "        \"position\": {\n",
        "            \"type\": \"string\",\n",
        "            \"description\": \"Job title/position\"\n",
        "        },\n",
        "        \"salary\": {\n",
        "            \"type\": [\"number\", \"null\"],\n",
        "            \"description\": \"Annual salary in INR\"\n",
        "        },\n",
        "        \"joining_date\": {\n",
        "            \"type\": [\"string\", \"null\"],\n",
        "            \"description\": \"Date of joining in YYYY-MM-DD format\",\n",
        "            \"format\": \"date\"\n",
        "        },\n",
        "        \"skills\": {\n",
        "            \"type\": [\"array\", \"null\"],\n",
        "            \"description\": \"List of key skills\",\n",
        "            \"items\": {\n",
        "                \"type\": \"string\"\n",
        "            }\n",
        "        }\n",
        "    },\n",
        "    \"required\": [\"employee_id\", \"full_name\", \"email\", \"phone\", \"department\", \"position\"],\n",
        "    \"additionalProperties\": False\n",
        "}\n",
        "\n",
        "print(\"✅ JSON Schema defined!\")\n",
        "import json\n",
        "print(\"\\nSchema preview:\")\n",
        "print(json.dumps(EMPLOYEE_INFO_JSON_SCHEMA, indent=2)[:500] + \"...\")"
      ]
    },
    {
      "cell_type": "markdown",
      "metadata": {},
      "source": [
        "## Step 2: Create Agent with JSON Schema Response Format"
      ]
    },
    {
      "cell_type": "code",
      "execution_count": null,
      "metadata": {},
      "outputs": [],
      "source": [
        "agent_json_schema = create_agent(\n",
        "    model=\"openai:gpt-4o-mini\",\n",
        "    tools=tools,\n",
        "    response_format=EMPLOYEE_INFO_JSON_SCHEMA\n",
        ")\n",
        "\n",
        "print(\"✅ Agent created with JSON Schema response format!\")"
      ]
    },
    {
      "cell_type": "markdown",
      "metadata": {},
      "source": [
        "## Step 3: Test the Agent"
      ]
    },
    {
      "cell_type": "code",
      "execution_count": null,
      "metadata": {},
      "outputs": [],
      "source": [
        "input_text = \"\"\"\n",
        "Parse employee info: Arjun Reddy (EMP104), Sales Team Lead\n",
        "Email: arjun.reddy@company.com, Mobile: +91-9876543213\n",
        "Department: Sales, Joining: 2019-07-01\n",
        "CTC: 1500000 per annum\n",
        "Expertise: B2B Sales, CRM Management, Negotiation\n",
        "\"\"\"\n",
        "\n",
        "result = agent_json_schema.invoke({\n",
        "    \"messages\": [{\"role\": \"user\", \"content\": input_text}]\n",
        "})\n",
        "\n",
        "employee = result[\"structured_response\"]\n",
        "\n",
        "print(\"=\" * 70)\n",
        "print(\"JSON SCHEMA RESULT\")\n",
        "print(\"=\" * 70)\n",
        "print(f\"Type: {type(employee)}\")\n",
        "print(f\"\\nEmployee ID: {employee['employee_id']}\")\n",
        "print(f\"Name: {employee['full_name']}\")\n",
        "print(f\"Email: {employee['email']}\")\n",
        "print(f\"Phone: {employee['phone']}\")\n",
        "print(f\"Department: {employee['department']}\")\n",
        "print(f\"Position: {employee['position']}\")\n",
        "if employee.get('salary'):\n",
        "    print(f\"Salary: ₹{employee['salary']:,.2f}\")\n",
        "if employee.get('skills'):\n",
        "    print(f\"Skills: {', '.join(employee['skills'])}\")\n",
        "\n",
        "print(\"\\n✅ JSON Schema provides fine-grained validation and is language-agnostic!\")"
      ]
    },
    {
      "cell_type": "markdown",
      "metadata": {},
      "source": [
        "---\n",
        "# Lab 5: Advanced Example - Batch Processing with Nested Models\n",
        "\n",
        "**Objective:** Process multiple employees with nested Pydantic models\n",
        "\n",
        "**Use Case:** Batch employee onboarding"
      ]
    },
    {
      "cell_type": "code",
      "execution_count": null,
      "metadata": {},
      "outputs": [],
      "source": [
        "class EmployeeBatch(BaseModel):\n",
        "    \"\"\"Process multiple employees at once.\"\"\"\n",
        "    \n",
        "    employees: List[EmployeeInfo] = Field(\n",
        "        description=\"List of employee records to process\"\n",
        "    )\n",
        "    processed_count: int = Field(\n",
        "        description=\"Total number of employees processed\"\n",
        "    )\n",
        "    department_summary: dict = Field(\n",
        "        description=\"Count of employees by department\"\n",
        "    )\n",
        "\n",
        "print(\"✅ EmployeeBatch model with nested EmployeeInfo defined!\")"
      ]
    },
    {
      "cell_type": "code",
      "execution_count": null,
      "metadata": {},
      "outputs": [],
      "source": [
        "agent_batch = create_agent(\n",
        "    model=\"openai:gpt-4o-mini\",\n",
        "    tools=tools,\n",
        "    response_format=EmployeeBatch\n",
        ")\n",
        "\n",
        "input_text = \"\"\"\n",
        "Process these employees:\n",
        "\n",
        "1. Sneha Gupta (EMP105), Marketing Specialist\n",
        "   Email: sneha.gupta@company.com, +91-9876543214\n",
        "   Joined: 2021-09-15, Salary: 900000\n",
        "   Skills: Digital Marketing, SEO, Content Strategy\n",
        "\n",
        "2. Vikram Singh (EMP106), Finance Analyst\n",
        "   Email: vikram.singh@company.com, +91-9876543215\n",
        "   Joined: 2020-11-01, Salary: 1100000\n",
        "   Skills: Financial Modeling, Excel, Power BI\n",
        "\n",
        "3. Meera Krishnan (EMP107), Operations Manager\n",
        "   Email: meera.krishnan@company.com, +91-9876543216\n",
        "   Joined: 2017-06-20, Salary: 1600000\n",
        "   Skills: Process Optimization, Supply Chain, Six Sigma\n",
        "\n",
        "Generate a summary by department.\n",
        "\"\"\"\n",
        "\n",
        "result = agent_batch.invoke({\n",
        "    \"messages\": [{\"role\": \"user\", \"content\": input_text}]\n",
        "})\n",
        "\n",
        "batch_data = result[\"structured_response\"]\n",
        "\n",
        "print(\"=\" * 70)\n",
        "print(\"BATCH PROCESSING WITH NESTED MODELS\")\n",
        "print(\"=\" * 70)\n",
        "print(f\"Total Employees Processed: {batch_data.processed_count}\")\n",
        "print(f\"\\nDepartment Summary:\")\n",
        "for dept, count in batch_data.department_summary.items():\n",
        "    print(f\"  {dept}: {count} employee(s)\")\n",
        "\n",
        "print(\"\\nEmployee Details:\")\n",
        "print(\"-\" * 70)\n",
        "\n",
        "for emp in batch_data.employees:\n",
        "    print(f\"\\n{emp.full_name} ({emp.employee_id})\")\n",
        "    print(f\"  Department: {emp.department}\")\n",
        "    print(f\"  Position: {emp.position}\")\n",
        "    print(f\"  Email: {emp.email}\")\n",
        "    if emp.salary:\n",
        "        print(f\"  Salary: ₹{emp.salary:,.2f}\")\n",
        "    if emp.skills:\n",
        "        print(f\"  Skills: {', '.join(emp.skills)}\")\n",
        "\n",
        "print(\"\\n✅ Nested Pydantic models enable complex structured outputs!\")"
      ]
    },
    {
      "cell_type": "markdown",
      "metadata": {},
      "source": [
        "---\n",
        "# Comparison Summary\n",
        "\n",
        "Let's compare all four approaches side by side."
      ]
    },
    {
      "cell_type": "code",
      "execution_count": null,
      "metadata": {},
      "outputs": [],
      "source": [
        "import pandas as pd\n",
        "\n",
        "comparison_data = {\n",
        "    \"Format\": [\"Pydantic BaseModel\", \"Python Dataclass\", \"TypedDict\", \"JSON Schema\"],\n",
        "    \"Validation\": [\"✅ Rich\", \"⚠️ Basic\", \"❌ None\", \"✅ Rich\"],\n",
        "    \"Complexity\": [\"Medium\", \"Low\", \"Low\", \"High\"],\n",
        "    \"Dependencies\": [\"External\", \"Built-in\", \"Built-in\", \"None\"],\n",
        "    \"IDE Support\": [\"✅ Excellent\", \"✅ Good\", \"✅ Good\", \"❌ Limited\"],\n",
        "    \"Documentation\": [\"✅ Field-level\", \"❌ Class-only\", \"❌ Class-only\", \"✅ Property-level\"],\n",
        "    \"Best For\": [\"Production\", \"Simple cases\", \"Dict workflows\", \"Cross-platform\"]\n",
        "}\n",
        "\n",
        "df = pd.DataFrame(comparison_data)\n",
        "print(\"\\n\" + \"=\" * 80)\n",
        "print(\"COMPARISON: STRUCTURED OUTPUT FORMATS\")\n",
        "print(\"=\" * 80)\n",
        "print(df.to_string(index=False))\n",
        "print(\"\\n\" + \"=\" * 80)\n",
        "print(\"RECOMMENDATION: Use Pydantic BaseModel for most HR use cases!\")\n",
        "print(\"=\" * 80)"
      ]
    },
    {
      "cell_type": "markdown",
      "metadata": {},
      "source": [
        "---\n",
        "# Exercises\n",
        "\n",
        "## Exercise 1: Create a Leave Request Model\n",
        "\n",
        "Create a Pydantic model for leave requests that includes:\n",
        "- employee_id\n",
        "- leave_type (Casual/Sick/Earned)\n",
        "- start_date\n",
        "- end_date\n",
        "- reason\n",
        "- days_requested\n",
        "\n",
        "Then create an agent that extracts this information from text."
      ]
    },
    {
      "cell_type": "code",
      "execution_count": null,
      "metadata": {},
      "outputs": [],
      "source": [
        "# Your code here\n",
        "class LeaveRequest(BaseModel):\n",
        "    \"\"\"TODO: Define the leave request model.\"\"\"\n",
        "    pass\n",
        "\n",
        "# TODO: Create agent and test"
      ]
    },
    {
      "cell_type": "markdown",
      "metadata": {},
      "source": [
        "## Exercise 2: Performance Review Model\n",
        "\n",
        "Create a model for performance reviews with:\n",
        "- employee_id\n",
        "- reviewer_id\n",
        "- review_period\n",
        "- technical_rating (1-5)\n",
        "- communication_rating (1-5)\n",
        "- achievements (list)\n",
        "- areas_of_improvement (list)\n",
        "- promotion_recommended (boolean)\n",
        "\n",
        "Add validation to ensure ratings are between 1-5."
      ]
    },
    {
      "cell_type": "code",
      "execution_count": null,
      "metadata": {},
      "outputs": [],
      "source": [
        "# Your code here\n",
        "class PerformanceReview(BaseModel):\n",
        "    \"\"\"TODO: Define the performance review model.\"\"\"\n",
        "    pass\n",
        "\n",
        "# TODO: Add validation constraints\n",
        "# Hint: Use Field(ge=1, le=5) for ratings"
      ]
    },
    {
      "cell_type": "markdown",
      "metadata": {},
      "source": [
        "## Exercise 3: Compare All Four Formats\n",
        "\n",
        "For the same input text, extract employee information using all four formats and compare:\n",
        "1. Execution time\n",
        "2. Response structure\n",
        "3. Ease of access to fields\n",
        "\n",
        "Which format would you choose for a production HR system?"
      ]
    },
    {
      "cell_type": "code",
      "execution_count": null,
      "metadata": {},
      "outputs": [],
      "source": [
        "# Your code here\n",
        "import time\n",
        "\n",
        "test_input = \"Your test employee data here\"\n",
        "\n",
        "# TODO: Test all four formats and measure time\n",
        "# TODO: Compare results"
      ]
    },
    {
      "cell_type": "markdown",
      "metadata": {},
      "source": [
        "## 🌟 Bonus Challenge: Multi-Department Report\n",
        "\n",
        "Create a complex nested model that can:\n",
        "1. Process employees from multiple departments\n",
        "2. Calculate average salary per department\n",
        "3. List top skills across all employees\n",
        "4. Identify departments that are understaffed (< 3 employees)\n",
        "5. Generate an executive summary\n",
        "\n",
        "Test with at least 10 employees across 4 departments."
      ]
    },
    {
      "cell_type": "code",
      "execution_count": null,
      "metadata": {},
      "outputs": [],
      "source": [
        "# Your code here - Be creative!\n",
        "class DepartmentReport(BaseModel):\n",
        "    \"\"\"TODO: Design your comprehensive report model.\"\"\"\n",
        "    pass"
      ]
    },
    {
      "cell_type": "markdown",
      "metadata": {},
      "source": [
        "---\n",
        "# Conclusion\n",
        "\n",
        "**What you learned:**\n",
        "1. ✅ Four different ways to define structured outputs in LangChain 1.0\n",
        "2. ✅ Using Pydantic BaseModel for production-ready extraction\n",
        "3. ✅ Python Dataclass for simple, lightweight schemas\n",
        "4. ✅ TypedDict for dictionary-based workflows\n",
        "5. ✅ JSON Schema for language-agnostic specifications\n",
        "6. ✅ Nested models for complex data structures\n",
        "7. ✅ Best practices for HR data extraction\n",
        "\n",
        "**Key Takeaways:**\n",
        "- **Pydantic** is the recommended choice for most production use cases\n",
        "- **Field descriptions** are critical for LLM understanding\n",
        "- **Validation** catches errors early and ensures data quality\n",
        "- **Nested models** enable complex hierarchical data structures\n",
        "\n",
        "**Next Steps:**\n",
        "- Integrate with actual HR databases\n",
        "- Add more complex validation rules\n",
        "- Build end-to-end HR automation workflows\n",
        "- Deploy as production API services\n",
        "\n",
        "---\n",
        "**Created with:** LangChain 1.0 + OpenAI + Pydantic\n",
        "\n",
        "**References:**\n",
        "- [LangChain Documentation](https://python.langchain.com/)\n",
        "- [Pydantic Documentation](https://docs.pydantic.dev/)\n",
        "- [JSON Schema](https://json-schema.org/)"
      ]
    }
  ],
  "metadata": {
    "kernelspec": {
      "display_name": "Python 3",
      "language": "python",
      "name": "python3"
    },
    "language_info": {
      "codemirror_mode": {
        "name": "ipython",
        "version": 3
      },
      "file_extension": ".py",
      "mimetype": "text/x-python",
      "name": "python",
      "nbconvert_exporter": "python",
      "pygments_lexer": "ipython3",
      "version": "3.11.0"
    },
    "colab": {
      "provenance": []
    }
  },
  "nbformat": 4,
  "nbformat_minor": 0
}
