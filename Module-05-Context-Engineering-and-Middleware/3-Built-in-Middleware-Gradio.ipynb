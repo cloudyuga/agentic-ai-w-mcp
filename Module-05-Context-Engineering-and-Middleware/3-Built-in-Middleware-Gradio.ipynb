{
  "cells": [
    {
      "cell_type": "markdown",
      "metadata": {},
      "source": [
        "# 🤖 HR Agent with Built-in Middleware - Gradio App\n",
        "\n",
        "This notebook demonstrates LangChain 1.0's built-in middleware with an interactive Gradio interface:\n",
        "\n",
        "- 📝 **SummarizationMiddleware**: Auto-summarizes long conversations\n",
        "- 👤 **HumanInTheLoopMiddleware**: Requires approval for critical operations"
      ]
    },
    {
      "cell_type": "markdown",
      "metadata": {},
      "source": [
        "## Step 1: Install Dependencies"
      ]
    },
    {
      "cell_type": "code",
      "execution_count": null,
      "metadata": {},
      "outputs": [],
      "source": [
        "!pip install -q gradio langchain langchain-openai langgraph"
      ]
    },
    {
      "cell_type": "markdown",
      "metadata": {},
      "source": [
        "## Step 2: Configure API Key"
      ]
    },
    {
      "cell_type": "code",
      "execution_count": null,
      "metadata": {},
      "outputs": [],
      "source": [
        "import os\n",
        "\n",
        "# For Google Colab\n",
        "try:\n",
        "    from google.colab import userdata\n",
        "    os.environ['OPENAI_API_KEY'] = userdata.get('OPENAI_API_KEY')\n",
        "    print(\"✅ API Key loaded from Colab secrets\")\n",
        "except:\n",
        "    # For local Jupyter - uncomment and add your key:\n",
        "    # os.environ['OPENAI_API_KEY'] = 'your-api-key-here'\n",
        "    print(\"⚠️ Please set your OPENAI_API_KEY\")"
      ]
    },
    {
      "cell_type": "markdown",
      "metadata": {},
      "source": [
        "## Step 3: Import Libraries"
      ]
    },
    {
      "cell_type": "code",
      "execution_count": null,
      "metadata": {},
      "outputs": [],
      "source": [
        "import gradio as gr\n",
        "from typing import Annotated\n",
        "import json\n",
        "\n",
        "from langchain.agents import create_agent\n",
        "from langchain.agents.middleware import SummarizationMiddleware, HumanInTheLoopMiddleware\n",
        "from langchain_core.tools import tool\n",
        "from langchain_core.messages import HumanMessage\n",
        "from langgraph.checkpoint.memory import InMemorySaver\n",
        "from langgraph.types import Command\n",
        "\n",
        "print(\"✅ All libraries imported\")"
      ]
    },
    {
      "cell_type": "markdown",
      "metadata": {},
      "source": [
        "## Step 4: Define Employee Database"
      ]
    },
    {
      "cell_type": "code",
      "execution_count": null,
      "metadata": {},
      "outputs": [],
      "source": [
        "EMPLOYEES = {\n",
        "    \"101\": {\"name\": \"Priya Sharma\", \"department\": \"Engineering\", \"role\": \"Senior Developer\", \"salary\": 120000, \"leave_balance\": 12},\n",
        "    \"102\": {\"name\": \"Rahul Verma\", \"department\": \"Engineering\", \"role\": \"Engineering Manager\", \"salary\": 180000, \"leave_balance\": 8},\n",
        "    \"103\": {\"name\": \"Anjali Patel\", \"department\": \"HR\", \"role\": \"HR Director\", \"salary\": 200000, \"leave_balance\": 15}\n",
        "}\n",
        "\n",
        "print(f\"✅ Database loaded: {len(EMPLOYEES)} employees\")"
      ]
    },
    {
      "cell_type": "markdown",
      "metadata": {},
      "source": [
        "## Step 5: Define HR Tools"
      ]
    },
    {
      "cell_type": "code",
      "execution_count": null,
      "metadata": {},
      "outputs": [],
      "source": [
        "@tool\n",
        "def get_employee_info(employee_id: Annotated[str, \"Employee ID\"]) -> str:\n",
        "    \"\"\"Get employee information by ID.\"\"\"\n",
        "    if employee_id in EMPLOYEES:\n",
        "        emp = EMPLOYEES[employee_id]\n",
        "        return f\"{emp['name']} - {emp['department']} - {emp['role']}\"\n",
        "    return f\"Employee {employee_id} not found\"\n",
        "\n",
        "@tool\n",
        "def check_leave_balance(employee_id: Annotated[str, \"Employee ID\"]) -> str:\n",
        "    \"\"\"Check leave balance for an employee.\"\"\"\n",
        "    if employee_id in EMPLOYEES:\n",
        "        return f\"{EMPLOYEES[employee_id]['name']} has {EMPLOYEES[employee_id]['leave_balance']} days remaining\"\n",
        "    return f\"Employee {employee_id} not found\"\n",
        "\n",
        "@tool\n",
        "def update_salary(employee_id: Annotated[str, \"Employee ID\"], new_salary: Annotated[int, \"New salary\"]) -> str:\n",
        "    \"\"\"Update employee salary. REQUIRES APPROVAL.\"\"\"\n",
        "    if employee_id in EMPLOYEES:\n",
        "        old = EMPLOYEES[employee_id]['salary']\n",
        "        EMPLOYEES[employee_id]['salary'] = new_salary\n",
        "        return f\"✅ Updated {EMPLOYEES[employee_id]['name']}: ₹{old:,} → ₹{new_salary:,}\"\n",
        "    return f\"Employee {employee_id} not found\"\n",
        "\n",
        "@tool\n",
        "def approve_leave(employee_id: Annotated[str, \"Employee ID\"], days: Annotated[int, \"Days\"]) -> str:\n",
        "    \"\"\"Approve leave request. REQUIRES APPROVAL.\"\"\"\n",
        "    if employee_id in EMPLOYEES:\n",
        "        emp = EMPLOYEES[employee_id]\n",
        "        if emp['leave_balance'] >= days:\n",
        "            EMPLOYEES[employee_id]['leave_balance'] -= days\n",
        "            return f\"✅ Approved {days} days for {emp['name']}. Remaining: {EMPLOYEES[employee_id]['leave_balance']}\"\n",
        "        return f\"❌ Insufficient balance: {emp['leave_balance']} days\"\n",
        "    return f\"Employee {employee_id} not found\"\n",
        "\n",
        "print(\"✅ Tools defined\")"
      ]
    },
    {
      "cell_type": "markdown",
      "metadata": {},
      "source": [
        "## Step 6: Create Agent with Middleware"
      ]
    },
    {
      "cell_type": "code",
      "execution_count": null,
      "metadata": {},
      "outputs": [],
      "source": [
        "agent = create_agent(\n",
        "    model=\"openai:gpt-4o-mini\",\n",
        "    tools=[get_employee_info, check_leave_balance, update_salary, approve_leave],\n",
        "    middleware=[\n",
        "        SummarizationMiddleware(\n",
        "            model=\"openai:gpt-4o-mini\",\n",
        "            max_tokens_before_summary=1500,\n",
        "            messages_to_keep=8,\n",
        "            summary_prompt=\"Summarize the HR conversation concisely.\"\n",
        "        ),\n",
        "        HumanInTheLoopMiddleware(\n",
        "            interrupt_on={\n",
        "                \"update_salary\": True,\n",
        "                \"approve_leave\": True\n",
        "            }\n",
        "        )\n",
        "    ],\n",
        "    checkpointer=InMemorySaver(),\n",
        "    system_prompt=\"You are an HR assistant. Help with employee info, leave balance, and salary/leave requests (which require approval).\"\n",
        ")\n",
        "\n",
        "print(\"✅ Agent created with middleware\")"
      ]
    },
    {
      "cell_type": "markdown",
      "metadata": {},
      "source": [
        "## Step 7: Define Application State"
      ]
    },
    {
      "cell_type": "code",
      "execution_count": null,
      "metadata": {},
      "outputs": [],
      "source": [
        "class AppState:\n",
        "    def __init__(self):\n",
        "        self.pending_interrupt = None\n",
        "        self.current_config = None\n",
        "\n",
        "state = AppState()\n",
        "print(\"✅ State initialized\")"
      ]
    },
    {
      "cell_type": "markdown",
      "metadata": {},
      "source": [
        "## Step 8: Define Handler Functions"
      ]
    },
    {
      "cell_type": "code",
      "execution_count": null,
      "metadata": {},
      "outputs": [],
      "source": [
        "def chat(message, history, thread_id):\n",
        "    if not message.strip():\n",
        "        return history, \"\", None, gr.update(visible=False), \"\"\n",
        "    \n",
        "    config = {\"configurable\": {\"thread_id\": thread_id}}\n",
        "    state.current_config = config\n",
        "    \n",
        "    try:\n",
        "        result = agent.invoke(\n",
        "            {\"messages\": [HumanMessage(content=message)]},\n",
        "            config\n",
        "        )\n",
        "        \n",
        "        if '__interrupt__' in result:\n",
        "            state.pending_interrupt = result['__interrupt__'][0]\n",
        "            action = state.pending_interrupt.value['action_requests'][0]\n",
        "            \n",
        "            interrupt_msg = f\"**🔔 Approval Required**\\n\\n**Tool:** `{action['name']}`\\n**Args:** `{action['arguments']}`\"\n",
        "            args_json = json.dumps(action['arguments'], indent=2)\n",
        "            \n",
        "            history.append([message, \"⏸️ Operation paused - approval required\"])\n",
        "            return history, \"\", interrupt_msg, gr.update(visible=True), args_json\n",
        "        \n",
        "        response = result['messages'][-1].content\n",
        "        if any('summary' in str(msg).lower() for msg in result.get('messages', [])[:3]):\n",
        "            response += \"\\n\\n📝 *Earlier messages were summarized*\"\n",
        "        \n",
        "        history.append([message, response])\n",
        "        return history, \"\", None, gr.update(visible=False), \"\"\n",
        "        \n",
        "    except Exception as e:\n",
        "        history.append([message, f\"❌ Error: {str(e)}\"])\n",
        "        return history, \"\", None, gr.update(visible=False), \"\"\n",
        "\n",
        "def approve():\n",
        "    if not state.pending_interrupt:\n",
        "        return \"No pending approval\", gr.update(visible=False)\n",
        "    try:\n",
        "        result = agent.invoke(\n",
        "            Command(resume={\"decisions\": [{\"type\": \"approve\"}]}),\n",
        "            state.current_config\n",
        "        )\n",
        "        state.pending_interrupt = None\n",
        "        return f\"✅ Approved\\n\\n{result['messages'][-1].content}\", gr.update(visible=False)\n",
        "    except Exception as e:\n",
        "        return f\"❌ Error: {str(e)}\", gr.update(visible=False)\n",
        "\n",
        "def reject(reason):\n",
        "    if not state.pending_interrupt:\n",
        "        return \"No pending approval\", gr.update(visible=False)\n",
        "    try:\n",
        "        result = agent.invoke(\n",
        "            Command(resume={\"decisions\": [{\"type\": \"reject\", \"feedback\": reason or \"Rejected\"}]}),\n",
        "            state.current_config\n",
        "        )\n",
        "        state.pending_interrupt = None\n",
        "        return f\"❌ Rejected: {reason}\", gr.update(visible=False)\n",
        "    except Exception as e:\n",
        "        return f\"❌ Error: {str(e)}\", gr.update(visible=False)\n",
        "\n",
        "def edit_approve(args_json):\n",
        "    if not state.pending_interrupt:\n",
        "        return \"No pending approval\", gr.update(visible=False)\n",
        "    try:\n",
        "        args = json.loads(args_json)\n",
        "        result = agent.invoke(\n",
        "            Command(resume={\"decisions\": [{\"type\": \"edit\", \"args\": args}]}),\n",
        "            state.current_config\n",
        "        )\n",
        "        state.pending_interrupt = None\n",
        "        return f\"✏️ Edited & Approved\\n\\n{result['messages'][-1].content}\", gr.update(visible=False)\n",
        "    except:\n",
        "        return \"❌ Invalid JSON\", gr.update(visible=True)\n",
        "\n",
        "print(\"✅ Handlers defined\")"
      ]
    },
    {
      "cell_type": "markdown",
      "metadata": {},
      "source": [
        "## Step 9: Create Gradio Interface"
      ]
    },
    {
      "cell_type": "code",
      "execution_count": null,
      "metadata": {},
      "outputs": [],
      "source": [
        "with gr.Blocks(theme=gr.themes.Soft(), title=\"HR Agent\") as demo:\n",
        "    gr.Markdown(\"# 🤖 HR Agent with Built-in Middleware\\n\\n**Try:** Update salary for employee 101 to ₹150,000\")\n",
        "    \n",
        "    with gr.Row():\n",
        "        with gr.Column(scale=2):\n",
        "            chatbot = gr.Chatbot(height=400, label=\"Chat\")\n",
        "            msg = gr.Textbox(placeholder=\"Type message...\", show_label=False)\n",
        "            with gr.Row():\n",
        "                send = gr.Button(\"Send\", variant=\"primary\")\n",
        "                clear = gr.Button(\"Clear\")\n",
        "            thread_id = gr.Textbox(value=\"session_1\", label=\"Thread ID\")\n",
        "        \n",
        "        with gr.Column(scale=1):\n",
        "            gr.Markdown(\"### ✋ Approval Panel\")\n",
        "            approval_box = gr.Column(visible=False)\n",
        "            with approval_box:\n",
        "                interrupt_display = gr.Markdown()\n",
        "                args_editor = gr.Code(language=\"json\", label=\"Args\", lines=4)\n",
        "                with gr.Row():\n",
        "                    approve_btn = gr.Button(\"✅ Approve\", size=\"sm\")\n",
        "                    edit_btn = gr.Button(\"✏️ Edit\", size=\"sm\")\n",
        "                reject_reason = gr.Textbox(placeholder=\"Reason\", label=\"Reject\")\n",
        "                reject_btn = gr.Button(\"❌ Reject\", variant=\"stop\")\n",
        "                result_display = gr.Markdown()\n",
        "    \n",
        "    gr.Examples([\n",
        "        [\"Show info for employee 101\"],\n",
        "        [\"Update salary for employee 101 to ₹150,000\"]\n",
        "    ], inputs=msg)\n",
        "    \n",
        "    send.click(chat, [msg, chatbot, thread_id], [chatbot, msg, interrupt_display, approval_box, args_editor])\n",
        "    msg.submit(chat, [msg, chatbot, thread_id], [chatbot, msg, interrupt_display, approval_box, args_editor])\n",
        "    approve_btn.click(approve, None, [result_display, approval_box])\n",
        "    reject_btn.click(reject, [reject_reason], [result_display, approval_box])\n",
        "    edit_btn.click(edit_approve, [args_editor], [result_display, approval_box])\n",
        "    clear.click(lambda: ([], None, gr.update(visible=False)), None, [chatbot, interrupt_display, approval_box])\n",
        "\n",
        "print(\"✅ Interface created\")"
      ]
    },
    {
      "cell_type": "markdown",
      "metadata": {},
      "source": [
        "## Step 10: Launch the App"
      ]
    },
    {
      "cell_type": "markdown",
      "metadata": {},
      "source": [
        "### 📱 How to Use the Tabbed Interface\n",
        "\n",
        "The app has **2 tabs**:\n",
        "\n",
        "#### 1️⃣ **Chat Tab** (Main Interface)\n",
        "- Send messages to the HR agent\n",
        "- View conversation history\n",
        "- Try example queries\n",
        "- When approval is needed, you'll be notified to switch tabs\n",
        "\n",
        "#### 2️⃣ **Approval Panel Tab** (Manager Actions)\n",
        "- Review pending approval requests\n",
        "- See tool name and arguments\n",
        "- Three decision options:\n",
        "  - **✅ Approve**: Execute as-is\n",
        "  - **✏️ Edit & Approve**: Modify JSON arguments first\n",
        "  - **❌ Reject**: Cancel with optional reason\n",
        "\n",
        "### 🔄 Workflow:\n",
        "1. **Chat Tab**: Send request (e.g., \"Update salary for employee 101 to ₹150,000\")\n",
        "2. Agent responds: \"Operation Paused - Go to Approval Panel tab\"\n",
        "3. **Switch to Approval Panel Tab**\n",
        "4. Review the request details\n",
        "5. Click **Approve**, **Edit & Approve**, or **Reject**\n",
        "6. **Switch back to Chat Tab** to continue conversation\n",
        "\n",
        "### ⚠️ Important Notes:\n",
        "- **DO NOT** send new chat messages when approval is pending\n",
        "- **ALWAYS** use the Approval Panel tab buttons for decisions\n",
        "- The status bar shows if there's a pending approval\n",
        "- After approval/rejection, you can continue chatting normally\n",
        "\n",
        "---"
      ]
    },
    {
      "cell_type": "code",
      "execution_count": null,
      "metadata": {},
      "outputs": [],
      "source": [
        "demo.launch(share=True, debug=True)"
      ]
    }
  ],
  "metadata": {
    "kernelspec": {
      "display_name": "Python 3",
      "language": "python",
      "name": "python3"
    },
    "language_info": {
      "codemirror_mode": {
        "name": "ipython",
        "version": 3
      },
      "file_extension": ".py",
      "mimetype": "text/x-python",
      "name": "python",
      "nbconvert_exporter": "python",
      "pygments_lexer": "ipython3",
      "version": "3.10.0"
    }
  },
  "nbformat": 4,
  "nbformat_minor": 0
}
