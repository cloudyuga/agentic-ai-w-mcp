{
  "cells": [
    {
      "cell_type": "markdown",
      "metadata": {
        "id": "wJsoQA1dRQ6K"
      },
      "source": [
        "# Dynamic Prompts & Long-Term Memory for HR Agents - LangChain 1.0\n",
        "\n",
        "**Module:** Context Engineering - Dynamic Prompts & Persistent Memory\n",
        "\n",
        "**Based on:** https://docs.langchain.com/oss/python/langchain/context-engineering\n",
        "\n",
        "**What you'll learn:**\n",
        "- 🎯 **Dynamic Prompts** with `@dynamic_prompt` middleware\n",
        "- 📚 **Read** long-term memory in tools\n",
        "- ✍️ **Write** long-term memory in tools\n",
        "- 💾 **Store** user preferences across sessions\n",
        "- 🔍 **Query** stored memories with namespaces\n",
        "- 🎨 **Combine** both for personalized experiences\n",
        "\n",
        "**HR Use Cases:**\n",
        "- Personalized greetings based on stored preferences\n",
        "- Remember employee communication styles\n",
        "- Store and retrieve work schedule preferences\n",
        "- Track career goals and development plans\n",
        "\n",
        "**Time:** 2-3 hours\n",
        "\n",
        "---"
      ]
    },
    {
      "cell_type": "markdown",
      "metadata": {
        "id": "b6l9Al1ORQ6M"
      },
      "source": [
        "## Setup: Install Dependencies"
      ]
    },
    {
      "cell_type": "code",
      "execution_count": 19,
      "metadata": {
        "id": "dpeqKvAmRQ6M",
        "outputId": "2fa09552-2b29-4ee4-c904-d4e58c1eb8d9",
        "colab": {
          "base_uri": "https://localhost:8080/"
        }
      },
      "outputs": [
        {
          "output_type": "stream",
          "name": "stdout",
          "text": [
            "Requirement already satisfied: langchain in /usr/local/lib/python3.12/dist-packages (1.0.0)\n",
            "Requirement already satisfied: langchain-openai in /usr/local/lib/python3.12/dist-packages (1.0.0)\n",
            "Requirement already satisfied: langgraph in /usr/local/lib/python3.12/dist-packages (1.0.0)\n",
            "Requirement already satisfied: langchain-core<2.0.0,>=1.0.0 in /usr/local/lib/python3.12/dist-packages (from langchain) (1.0.0)\n",
            "Requirement already satisfied: pydantic<3.0.0,>=2.7.4 in /usr/local/lib/python3.12/dist-packages (from langchain) (2.11.10)\n",
            "Requirement already satisfied: openai<3.0.0,>=1.109.1 in /usr/local/lib/python3.12/dist-packages (from langchain-openai) (1.109.1)\n",
            "Requirement already satisfied: tiktoken<1.0.0,>=0.7.0 in /usr/local/lib/python3.12/dist-packages (from langchain-openai) (0.12.0)\n",
            "Requirement already satisfied: langgraph-checkpoint<3.0.0,>=2.1.0 in /usr/local/lib/python3.12/dist-packages (from langgraph) (2.1.2)\n",
            "Requirement already satisfied: langgraph-prebuilt<1.1.0,>=1.0.0 in /usr/local/lib/python3.12/dist-packages (from langgraph) (1.0.0)\n",
            "Requirement already satisfied: langgraph-sdk<0.3.0,>=0.2.2 in /usr/local/lib/python3.12/dist-packages (from langgraph) (0.2.9)\n",
            "Requirement already satisfied: xxhash>=3.5.0 in /usr/local/lib/python3.12/dist-packages (from langgraph) (3.6.0)\n",
            "Requirement already satisfied: jsonpatch<2.0.0,>=1.33.0 in /usr/local/lib/python3.12/dist-packages (from langchain-core<2.0.0,>=1.0.0->langchain) (1.33)\n",
            "Requirement already satisfied: langsmith<1.0.0,>=0.3.45 in /usr/local/lib/python3.12/dist-packages (from langchain-core<2.0.0,>=1.0.0->langchain) (0.4.35)\n",
            "Requirement already satisfied: packaging<26.0.0,>=23.2.0 in /usr/local/lib/python3.12/dist-packages (from langchain-core<2.0.0,>=1.0.0->langchain) (25.0)\n",
            "Requirement already satisfied: pyyaml<7.0.0,>=5.3.0 in /usr/local/lib/python3.12/dist-packages (from langchain-core<2.0.0,>=1.0.0->langchain) (6.0.3)\n",
            "Requirement already satisfied: tenacity!=8.4.0,<10.0.0,>=8.1.0 in /usr/local/lib/python3.12/dist-packages (from langchain-core<2.0.0,>=1.0.0->langchain) (8.5.0)\n",
            "Requirement already satisfied: typing-extensions<5.0.0,>=4.7.0 in /usr/local/lib/python3.12/dist-packages (from langchain-core<2.0.0,>=1.0.0->langchain) (4.15.0)\n",
            "Requirement already satisfied: ormsgpack>=1.10.0 in /usr/local/lib/python3.12/dist-packages (from langgraph-checkpoint<3.0.0,>=2.1.0->langgraph) (1.11.0)\n",
            "Requirement already satisfied: httpx>=0.25.2 in /usr/local/lib/python3.12/dist-packages (from langgraph-sdk<0.3.0,>=0.2.2->langgraph) (0.28.1)\n",
            "Requirement already satisfied: orjson>=3.10.1 in /usr/local/lib/python3.12/dist-packages (from langgraph-sdk<0.3.0,>=0.2.2->langgraph) (3.11.3)\n",
            "Requirement already satisfied: anyio<5,>=3.5.0 in /usr/local/lib/python3.12/dist-packages (from openai<3.0.0,>=1.109.1->langchain-openai) (4.11.0)\n",
            "Requirement already satisfied: distro<2,>=1.7.0 in /usr/local/lib/python3.12/dist-packages (from openai<3.0.0,>=1.109.1->langchain-openai) (1.9.0)\n",
            "Requirement already satisfied: jiter<1,>=0.4.0 in /usr/local/lib/python3.12/dist-packages (from openai<3.0.0,>=1.109.1->langchain-openai) (0.11.0)\n",
            "Requirement already satisfied: sniffio in /usr/local/lib/python3.12/dist-packages (from openai<3.0.0,>=1.109.1->langchain-openai) (1.3.1)\n",
            "Requirement already satisfied: tqdm>4 in /usr/local/lib/python3.12/dist-packages (from openai<3.0.0,>=1.109.1->langchain-openai) (4.67.1)\n",
            "Requirement already satisfied: annotated-types>=0.6.0 in /usr/local/lib/python3.12/dist-packages (from pydantic<3.0.0,>=2.7.4->langchain) (0.7.0)\n",
            "Requirement already satisfied: pydantic-core==2.33.2 in /usr/local/lib/python3.12/dist-packages (from pydantic<3.0.0,>=2.7.4->langchain) (2.33.2)\n",
            "Requirement already satisfied: typing-inspection>=0.4.0 in /usr/local/lib/python3.12/dist-packages (from pydantic<3.0.0,>=2.7.4->langchain) (0.4.2)\n",
            "Requirement already satisfied: regex>=2022.1.18 in /usr/local/lib/python3.12/dist-packages (from tiktoken<1.0.0,>=0.7.0->langchain-openai) (2024.11.6)\n",
            "Requirement already satisfied: requests>=2.26.0 in /usr/local/lib/python3.12/dist-packages (from tiktoken<1.0.0,>=0.7.0->langchain-openai) (2.32.4)\n",
            "Requirement already satisfied: idna>=2.8 in /usr/local/lib/python3.12/dist-packages (from anyio<5,>=3.5.0->openai<3.0.0,>=1.109.1->langchain-openai) (3.11)\n",
            "Requirement already satisfied: certifi in /usr/local/lib/python3.12/dist-packages (from httpx>=0.25.2->langgraph-sdk<0.3.0,>=0.2.2->langgraph) (2025.10.5)\n",
            "Requirement already satisfied: httpcore==1.* in /usr/local/lib/python3.12/dist-packages (from httpx>=0.25.2->langgraph-sdk<0.3.0,>=0.2.2->langgraph) (1.0.9)\n",
            "Requirement already satisfied: h11>=0.16 in /usr/local/lib/python3.12/dist-packages (from httpcore==1.*->httpx>=0.25.2->langgraph-sdk<0.3.0,>=0.2.2->langgraph) (0.16.0)\n",
            "Requirement already satisfied: jsonpointer>=1.9 in /usr/local/lib/python3.12/dist-packages (from jsonpatch<2.0.0,>=1.33.0->langchain-core<2.0.0,>=1.0.0->langchain) (3.0.0)\n",
            "Requirement already satisfied: requests-toolbelt>=1.0.0 in /usr/local/lib/python3.12/dist-packages (from langsmith<1.0.0,>=0.3.45->langchain-core<2.0.0,>=1.0.0->langchain) (1.0.0)\n",
            "Requirement already satisfied: zstandard>=0.23.0 in /usr/local/lib/python3.12/dist-packages (from langsmith<1.0.0,>=0.3.45->langchain-core<2.0.0,>=1.0.0->langchain) (0.25.0)\n",
            "Requirement already satisfied: charset_normalizer<4,>=2 in /usr/local/lib/python3.12/dist-packages (from requests>=2.26.0->tiktoken<1.0.0,>=0.7.0->langchain-openai) (3.4.4)\n",
            "Requirement already satisfied: urllib3<3,>=1.21.1 in /usr/local/lib/python3.12/dist-packages (from requests>=2.26.0->tiktoken<1.0.0,>=0.7.0->langchain-openai) (2.5.0)\n",
            "Requirement already satisfied: langgraph-checkpoint-sqlite in /usr/local/lib/python3.12/dist-packages (2.0.11)\n",
            "Requirement already satisfied: aiosqlite>=0.20 in /usr/local/lib/python3.12/dist-packages (from langgraph-checkpoint-sqlite) (0.21.0)\n",
            "Requirement already satisfied: langgraph-checkpoint<3.0.0,>=2.0.21 in /usr/local/lib/python3.12/dist-packages (from langgraph-checkpoint-sqlite) (2.1.2)\n",
            "Requirement already satisfied: sqlite-vec>=0.1.6 in /usr/local/lib/python3.12/dist-packages (from langgraph-checkpoint-sqlite) (0.1.6)\n",
            "Requirement already satisfied: typing_extensions>=4.0 in /usr/local/lib/python3.12/dist-packages (from aiosqlite>=0.20->langgraph-checkpoint-sqlite) (4.15.0)\n",
            "Requirement already satisfied: langchain-core>=0.2.38 in /usr/local/lib/python3.12/dist-packages (from langgraph-checkpoint<3.0.0,>=2.0.21->langgraph-checkpoint-sqlite) (1.0.0)\n",
            "Requirement already satisfied: ormsgpack>=1.10.0 in /usr/local/lib/python3.12/dist-packages (from langgraph-checkpoint<3.0.0,>=2.0.21->langgraph-checkpoint-sqlite) (1.11.0)\n",
            "Requirement already satisfied: jsonpatch<2.0.0,>=1.33.0 in /usr/local/lib/python3.12/dist-packages (from langchain-core>=0.2.38->langgraph-checkpoint<3.0.0,>=2.0.21->langgraph-checkpoint-sqlite) (1.33)\n",
            "Requirement already satisfied: langsmith<1.0.0,>=0.3.45 in /usr/local/lib/python3.12/dist-packages (from langchain-core>=0.2.38->langgraph-checkpoint<3.0.0,>=2.0.21->langgraph-checkpoint-sqlite) (0.4.35)\n",
            "Requirement already satisfied: packaging<26.0.0,>=23.2.0 in /usr/local/lib/python3.12/dist-packages (from langchain-core>=0.2.38->langgraph-checkpoint<3.0.0,>=2.0.21->langgraph-checkpoint-sqlite) (25.0)\n",
            "Requirement already satisfied: pydantic<3.0.0,>=2.7.4 in /usr/local/lib/python3.12/dist-packages (from langchain-core>=0.2.38->langgraph-checkpoint<3.0.0,>=2.0.21->langgraph-checkpoint-sqlite) (2.11.10)\n",
            "Requirement already satisfied: pyyaml<7.0.0,>=5.3.0 in /usr/local/lib/python3.12/dist-packages (from langchain-core>=0.2.38->langgraph-checkpoint<3.0.0,>=2.0.21->langgraph-checkpoint-sqlite) (6.0.3)\n",
            "Requirement already satisfied: tenacity!=8.4.0,<10.0.0,>=8.1.0 in /usr/local/lib/python3.12/dist-packages (from langchain-core>=0.2.38->langgraph-checkpoint<3.0.0,>=2.0.21->langgraph-checkpoint-sqlite) (8.5.0)\n",
            "Requirement already satisfied: jsonpointer>=1.9 in /usr/local/lib/python3.12/dist-packages (from jsonpatch<2.0.0,>=1.33.0->langchain-core>=0.2.38->langgraph-checkpoint<3.0.0,>=2.0.21->langgraph-checkpoint-sqlite) (3.0.0)\n",
            "Requirement already satisfied: httpx<1,>=0.23.0 in /usr/local/lib/python3.12/dist-packages (from langsmith<1.0.0,>=0.3.45->langchain-core>=0.2.38->langgraph-checkpoint<3.0.0,>=2.0.21->langgraph-checkpoint-sqlite) (0.28.1)\n",
            "Requirement already satisfied: orjson>=3.9.14 in /usr/local/lib/python3.12/dist-packages (from langsmith<1.0.0,>=0.3.45->langchain-core>=0.2.38->langgraph-checkpoint<3.0.0,>=2.0.21->langgraph-checkpoint-sqlite) (3.11.3)\n",
            "Requirement already satisfied: requests-toolbelt>=1.0.0 in /usr/local/lib/python3.12/dist-packages (from langsmith<1.0.0,>=0.3.45->langchain-core>=0.2.38->langgraph-checkpoint<3.0.0,>=2.0.21->langgraph-checkpoint-sqlite) (1.0.0)\n",
            "Requirement already satisfied: requests>=2.0.0 in /usr/local/lib/python3.12/dist-packages (from langsmith<1.0.0,>=0.3.45->langchain-core>=0.2.38->langgraph-checkpoint<3.0.0,>=2.0.21->langgraph-checkpoint-sqlite) (2.32.4)\n",
            "Requirement already satisfied: zstandard>=0.23.0 in /usr/local/lib/python3.12/dist-packages (from langsmith<1.0.0,>=0.3.45->langchain-core>=0.2.38->langgraph-checkpoint<3.0.0,>=2.0.21->langgraph-checkpoint-sqlite) (0.25.0)\n",
            "Requirement already satisfied: annotated-types>=0.6.0 in /usr/local/lib/python3.12/dist-packages (from pydantic<3.0.0,>=2.7.4->langchain-core>=0.2.38->langgraph-checkpoint<3.0.0,>=2.0.21->langgraph-checkpoint-sqlite) (0.7.0)\n",
            "Requirement already satisfied: pydantic-core==2.33.2 in /usr/local/lib/python3.12/dist-packages (from pydantic<3.0.0,>=2.7.4->langchain-core>=0.2.38->langgraph-checkpoint<3.0.0,>=2.0.21->langgraph-checkpoint-sqlite) (2.33.2)\n",
            "Requirement already satisfied: typing-inspection>=0.4.0 in /usr/local/lib/python3.12/dist-packages (from pydantic<3.0.0,>=2.7.4->langchain-core>=0.2.38->langgraph-checkpoint<3.0.0,>=2.0.21->langgraph-checkpoint-sqlite) (0.4.2)\n",
            "Requirement already satisfied: anyio in /usr/local/lib/python3.12/dist-packages (from httpx<1,>=0.23.0->langsmith<1.0.0,>=0.3.45->langchain-core>=0.2.38->langgraph-checkpoint<3.0.0,>=2.0.21->langgraph-checkpoint-sqlite) (4.11.0)\n",
            "Requirement already satisfied: certifi in /usr/local/lib/python3.12/dist-packages (from httpx<1,>=0.23.0->langsmith<1.0.0,>=0.3.45->langchain-core>=0.2.38->langgraph-checkpoint<3.0.0,>=2.0.21->langgraph-checkpoint-sqlite) (2025.10.5)\n",
            "Requirement already satisfied: httpcore==1.* in /usr/local/lib/python3.12/dist-packages (from httpx<1,>=0.23.0->langsmith<1.0.0,>=0.3.45->langchain-core>=0.2.38->langgraph-checkpoint<3.0.0,>=2.0.21->langgraph-checkpoint-sqlite) (1.0.9)\n",
            "Requirement already satisfied: idna in /usr/local/lib/python3.12/dist-packages (from httpx<1,>=0.23.0->langsmith<1.0.0,>=0.3.45->langchain-core>=0.2.38->langgraph-checkpoint<3.0.0,>=2.0.21->langgraph-checkpoint-sqlite) (3.11)\n",
            "Requirement already satisfied: h11>=0.16 in /usr/local/lib/python3.12/dist-packages (from httpcore==1.*->httpx<1,>=0.23.0->langsmith<1.0.0,>=0.3.45->langchain-core>=0.2.38->langgraph-checkpoint<3.0.0,>=2.0.21->langgraph-checkpoint-sqlite) (0.16.0)\n",
            "Requirement already satisfied: charset_normalizer<4,>=2 in /usr/local/lib/python3.12/dist-packages (from requests>=2.0.0->langsmith<1.0.0,>=0.3.45->langchain-core>=0.2.38->langgraph-checkpoint<3.0.0,>=2.0.21->langgraph-checkpoint-sqlite) (3.4.4)\n",
            "Requirement already satisfied: urllib3<3,>=1.21.1 in /usr/local/lib/python3.12/dist-packages (from requests>=2.0.0->langsmith<1.0.0,>=0.3.45->langchain-core>=0.2.38->langgraph-checkpoint<3.0.0,>=2.0.21->langgraph-checkpoint-sqlite) (2.5.0)\n",
            "Requirement already satisfied: sniffio>=1.1 in /usr/local/lib/python3.12/dist-packages (from anyio->httpx<1,>=0.23.0->langsmith<1.0.0,>=0.3.45->langchain-core>=0.2.38->langgraph-checkpoint<3.0.0,>=2.0.21->langgraph-checkpoint-sqlite) (1.3.1)\n"
          ]
        }
      ],
      "source": [
        "!pip install --pre -U langchain langchain-openai langgraph\n",
        "!pip install langgraph-checkpoint-sqlite"
      ]
    },
    {
      "cell_type": "markdown",
      "metadata": {
        "id": "VFaO0R8gRQ6N"
      },
      "source": [
        "## Setup: Configure API Key"
      ]
    },
    {
      "cell_type": "code",
      "execution_count": 20,
      "metadata": {
        "id": "-QFjH7ziRQ6N",
        "outputId": "10d785ce-8260-4c32-91dd-2218c18b1af6",
        "colab": {
          "base_uri": "https://localhost:8080/"
        }
      },
      "outputs": [
        {
          "output_type": "stream",
          "name": "stdout",
          "text": [
            "✅ API Key configured!\n"
          ]
        }
      ],
      "source": [
        "from google.colab import userdata\n",
        "import os\n",
        "\n",
        "OPENAI_API_KEY = userdata.get('OPENAI_API_KEY')\n",
        "os.environ['OPENAI_API_KEY'] = OPENAI_API_KEY\n",
        "\n",
        "print(\"✅ API Key configured!\")"
      ]
    },
    {
      "cell_type": "markdown",
      "metadata": {
        "id": "Q9mcwQ5xRQ6N"
      },
      "source": [
        "## Import Libraries"
      ]
    },
    {
      "cell_type": "code",
      "execution_count": 21,
      "metadata": {
        "id": "suzkTsfQRQ6N",
        "outputId": "e6135093-1ee1-4e0c-b1f8-8542821528c7",
        "colab": {
          "base_uri": "https://localhost:8080/"
        }
      },
      "outputs": [
        {
          "output_type": "stream",
          "name": "stdout",
          "text": [
            "✅ Imports successful!\n"
          ]
        }
      ],
      "source": [
        "from typing import Annotated\n",
        "from dataclasses import dataclass\n",
        "\n",
        "# Core LangChain\n",
        "from langchain.agents import create_agent\n",
        "from langchain.agents.middleware import dynamic_prompt, ModelRequest\n",
        "from langchain_core.tools import tool\n",
        "from langchain_core.runnables import RunnableConfig\n",
        "\n",
        "# LangGraph\n",
        "from langgraph.store.memory import InMemoryStore\n",
        "\n",
        "# Utilities\n",
        "from datetime import datetime\n",
        "import json\n",
        "import logging\n",
        "\n",
        "# Enable debug logging\n",
        "logging.basicConfig(level=logging.INFO)\n",
        "\n",
        "print(\"✅ Imports successful!\")"
      ]
    },
    {
      "cell_type": "markdown",
      "metadata": {
        "id": "Ex0GHzZnRQ6N"
      },
      "source": [
        "## Setup: Employee Database"
      ]
    },
    {
      "cell_type": "code",
      "execution_count": 22,
      "metadata": {
        "id": "SNIhZU7PRQ6N",
        "outputId": "c290bfae-51f9-4902-9458-d617293048d3",
        "colab": {
          "base_uri": "https://localhost:8080/"
        }
      },
      "outputs": [
        {
          "output_type": "stream",
          "name": "stdout",
          "text": [
            "✅ Loaded 3 employees\n"
          ]
        }
      ],
      "source": [
        "# Basic employee database\n",
        "EMPLOYEE_DB = {\n",
        "    \"EMP101\": {\n",
        "        \"name\": \"Priya Sharma\",\n",
        "        \"department\": \"Engineering\",\n",
        "        \"role\": \"Senior Developer\",\n",
        "        \"leave_balance\": 12\n",
        "    },\n",
        "    \"EMP102\": {\n",
        "        \"name\": \"Rahul Verma\",\n",
        "        \"department\": \"Engineering\",\n",
        "        \"role\": \"Engineering Manager\",\n",
        "        \"leave_balance\": 8\n",
        "    },\n",
        "    \"EMP103\": {\n",
        "        \"name\": \"Anjali Patel\",\n",
        "        \"department\": \"HR\",\n",
        "        \"role\": \"HR Director\",\n",
        "        \"leave_balance\": 15\n",
        "    }\n",
        "}\n",
        "\n",
        "print(f\"✅ Loaded {len(EMPLOYEE_DB)} employees\")"
      ]
    },
    {
      "cell_type": "markdown",
      "metadata": {
        "id": "Q-POQ05wRQ6N"
      },
      "source": [
        "---\n",
        "# Part 1: Long-Term Memory Store Setup\n",
        "\n",
        "**First, let's set up the memory store and verify it works correctly.**"
      ]
    },
    {
      "cell_type": "markdown",
      "metadata": {
        "id": "uA1mYq-zRQ6O"
      },
      "source": [
        "## Step 1: Initialize Memory Store with Sample Data"
      ]
    },
    {
      "cell_type": "code",
      "execution_count": 23,
      "metadata": {
        "id": "MpaA2LSTRQ6O",
        "outputId": "348a68ad-8224-478e-c1d1-e45600a15ebf",
        "colab": {
          "base_uri": "https://localhost:8080/"
        }
      },
      "outputs": [
        {
          "output_type": "stream",
          "name": "stdout",
          "text": [
            "✅ Memory store initialized!\n",
            "\n",
            "Stored preferences:\n",
            "  • EMP101: communication_style, notification_settings, work_schedule, career goals\n",
            "  • EMP102: communication_style, notification_settings\n"
          ]
        }
      ],
      "source": [
        "# Create in-memory store (in production, use PostgresStore or other persistent storage)\n",
        "memory_store = InMemoryStore()\n",
        "\n",
        "# Pre-populate with sample preferences\n",
        "# Namespace format: (\"category\", \"identifier\")\n",
        "\n",
        "# Employee 1: Priya - Communication preferences\n",
        "memory_store.put(\n",
        "    namespace=(\"employee_preferences\", \"EMP101\"),\n",
        "    key=\"communication_style\",\n",
        "    value={\n",
        "        \"style\": \"detailed\",\n",
        "        \"language\": \"English\",\n",
        "        \"response_format\": \"paragraphs\",\n",
        "        \"last_updated\": \"2025-01-15\"\n",
        "    }\n",
        ")\n",
        "\n",
        "# Employee 1: Priya - Notification settings\n",
        "memory_store.put(\n",
        "    namespace=(\"employee_preferences\", \"EMP101\"),\n",
        "    key=\"notification_settings\",\n",
        "    value={\n",
        "        \"email_notifications\": True,\n",
        "        \"slack_notifications\": True,\n",
        "        \"sms_notifications\": False,\n",
        "        \"frequency\": \"daily\"\n",
        "    }\n",
        ")\n",
        "\n",
        "# Employee 1: Priya - Work schedule\n",
        "memory_store.put(\n",
        "    namespace=(\"employee_preferences\", \"EMP101\"),\n",
        "    key=\"work_schedule\",\n",
        "    value={\n",
        "        \"preferred_hours\": \"9AM-5PM\",\n",
        "        \"flexible\": True,\n",
        "        \"remote_days\": [\"Monday\", \"Wednesday\", \"Friday\"],\n",
        "        \"timezone\": \"Asia/Kolkata\"\n",
        "    }\n",
        ")\n",
        "\n",
        "# Employee 2: Rahul - Different preferences\n",
        "memory_store.put(\n",
        "    namespace=(\"employee_preferences\", \"EMP102\"),\n",
        "    key=\"communication_style\",\n",
        "    value={\n",
        "        \"style\": \"concise\",\n",
        "        \"language\": \"English\",\n",
        "        \"response_format\": \"bullet_points\"\n",
        "    }\n",
        ")\n",
        "\n",
        "memory_store.put(\n",
        "    namespace=(\"employee_preferences\", \"EMP102\"),\n",
        "    key=\"notification_settings\",\n",
        "    value={\n",
        "        \"email_notifications\": True,\n",
        "        \"slack_notifications\": False,\n",
        "        \"sms_notifications\": True,\n",
        "        \"frequency\": \"real-time\"\n",
        "    }\n",
        ")\n",
        "\n",
        "# Career goals\n",
        "memory_store.put(\n",
        "    namespace=(\"employee_career\", \"EMP101\"),\n",
        "    key=\"goals\",\n",
        "    value={\n",
        "        \"short_term\": [\"Learn Kubernetes\", \"Complete AWS certification\"],\n",
        "        \"long_term\": [\"Become Tech Lead\", \"Mentor junior developers\"],\n",
        "        \"last_updated\": \"2025-01-10\"\n",
        "    }\n",
        ")\n",
        "\n",
        "print(\"✅ Memory store initialized!\")\n",
        "print(\"\\nStored preferences:\")\n",
        "print(\"  • EMP101: communication_style, notification_settings, work_schedule, career goals\")\n",
        "print(\"  • EMP102: communication_style, notification_settings\")"
      ]
    },
    {
      "cell_type": "markdown",
      "metadata": {
        "id": "pu4XtlM6RQ6O"
      },
      "source": [
        "## Step 2: Verify Store Data\n",
        "\n",
        "**Let's verify the data is actually stored correctly before creating tools**"
      ]
    },
    {
      "cell_type": "code",
      "execution_count": 24,
      "metadata": {
        "id": "MVw3__wYRQ6O",
        "outputId": "04c9e25b-0758-4e25-ba13-a69c0ca929c6",
        "colab": {
          "base_uri": "https://localhost:8080/"
        }
      },
      "outputs": [
        {
          "output_type": "stream",
          "name": "stdout",
          "text": [
            "======================================================================\n",
            "VERIFYING STORE DATA\n",
            "======================================================================\n",
            "\n",
            "📂 Namespace: ('employee_preferences', 'EMP101')\n",
            "✅ Found 3 items:\n",
            "\n",
            "  🔑 Key: communication_style\n",
            "  📄 Value: {\n",
            "    \"style\": \"detailed\",\n",
            "    \"language\": \"English\",\n",
            "    \"response_format\": \"paragraphs\",\n",
            "    \"last_updated\": \"2025-01-15\"\n",
            "}\n",
            "\n",
            "  🔑 Key: notification_settings\n",
            "  📄 Value: {\n",
            "    \"email_notifications\": true,\n",
            "    \"slack_notifications\": true,\n",
            "    \"sms_notifications\": false,\n",
            "    \"frequency\": \"daily\"\n",
            "}\n",
            "\n",
            "  🔑 Key: work_schedule\n",
            "  📄 Value: {\n",
            "    \"preferred_hours\": \"9AM-5PM\",\n",
            "    \"flexible\": true,\n",
            "    \"remote_days\": [\n",
            "        \"Monday\",\n",
            "        \"Wednesday\",\n",
            "        \"Friday\"\n",
            "    ],\n",
            "    \"timezone\": \"Asia/Kolkata\"\n",
            "}\n",
            "\n",
            "======================================================================\n",
            "DIRECT GET TEST\n",
            "======================================================================\n",
            "✅ Found notification_settings:\n",
            "{\n",
            "  \"email_notifications\": true,\n",
            "  \"slack_notifications\": true,\n",
            "  \"sms_notifications\": false,\n",
            "  \"frequency\": \"daily\"\n",
            "}\n",
            "\n",
            "✅ Store verification complete!\n"
          ]
        }
      ],
      "source": [
        "print(\"=\" * 70)\n",
        "print(\"VERIFYING STORE DATA\")\n",
        "print(\"=\" * 70)\n",
        "\n",
        "# Check EMP101 preferences\n",
        "namespace = (\"employee_preferences\", \"EMP101\")\n",
        "print(f\"\\n📂 Namespace: {namespace}\")\n",
        "\n",
        "items = list(memory_store.search(namespace))\n",
        "print(f\"✅ Found {len(items)} items:\")\n",
        "\n",
        "for item in items:\n",
        "    print(f\"\\n  🔑 Key: {item.key}\")\n",
        "    print(f\"  📄 Value: {json.dumps(item.value, indent=4)}\")\n",
        "\n",
        "# Try direct get\n",
        "print(\"\\n\" + \"=\" * 70)\n",
        "print(\"DIRECT GET TEST\")\n",
        "print(\"=\" * 70)\n",
        "\n",
        "item = memory_store.get(namespace, \"notification_settings\")\n",
        "if item:\n",
        "    print(f\"✅ Found notification_settings:\")\n",
        "    print(json.dumps(item.value, indent=2))\n",
        "else:\n",
        "    print(\"❌ notification_settings not found\")\n",
        "\n",
        "print(\"\\n✅ Store verification complete!\")"
      ]
    },
    {
      "cell_type": "markdown",
      "metadata": {
        "id": "tG_J3NRiRQ6O"
      },
      "source": [
        "---\n",
        "# Part 2: Context Schema & Dynamic Prompt\n",
        "\n",
        "**Now let's set up the dynamic prompt that uses memory**"
      ]
    },
    {
      "cell_type": "markdown",
      "metadata": {
        "id": "QIiCaT3QRQ6O"
      },
      "source": [
        "## Step 1: Define Context Schema"
      ]
    },
    {
      "cell_type": "code",
      "execution_count": 25,
      "metadata": {
        "id": "mnIwxGXIRQ6O",
        "outputId": "d9f0cd1a-620e-454b-bc59-e52b41057b0c",
        "colab": {
          "base_uri": "https://localhost:8080/"
        }
      },
      "outputs": [
        {
          "output_type": "stream",
          "name": "stdout",
          "text": [
            "✅ Context schema defined: HRContext(employee_id)\n"
          ]
        }
      ],
      "source": [
        "# Define context schema that will be passed at runtime\n",
        "@dataclass\n",
        "class HRContext:\n",
        "    \"\"\"Runtime context for HR agent.\"\"\"\n",
        "    employee_id: str\n",
        "\n",
        "print(\"✅ Context schema defined: HRContext(employee_id)\")"
      ]
    },
    {
      "cell_type": "markdown",
      "metadata": {
        "id": "KNq-O7bfRQ6O"
      },
      "source": [
        "## Step 2: Create @dynamic_prompt Middleware\n",
        "\n",
        "This function generates personalized prompts using:\n",
        "1. **Runtime context** - Employee ID\n",
        "2. **Long-term memory** - Stored preferences\n",
        "3. **Session state** - Conversation length"
      ]
    },
    {
      "cell_type": "code",
      "execution_count": 26,
      "metadata": {
        "id": "WxQWcbYDRQ6P",
        "outputId": "4fa66ca2-3937-490b-d977-1fbcc9dbd2ac",
        "colab": {
          "base_uri": "https://localhost:8080/"
        }
      },
      "outputs": [
        {
          "output_type": "stream",
          "name": "stdout",
          "text": [
            "✅ Dynamic prompt middleware created!\n",
            "\n",
            "This prompt will:\n",
            "  • Greet user based on time of day\n",
            "  • Include employee context\n",
            "  • Load communication preferences from memory\n",
            "  • Adapt based on conversation length\n"
          ]
        }
      ],
      "source": [
        "@dynamic_prompt\n",
        "def personalized_hr_prompt(request: ModelRequest) -> str:\n",
        "    \"\"\"\n",
        "    Generate personalized HR prompt based on:\n",
        "    - Runtime context (employee_id)\n",
        "    - Long-term memory (preferences)\n",
        "    - Session state (message count)\n",
        "    \"\"\"\n",
        "    # 1. Access runtime context\n",
        "    employee_id = request.runtime.context.employee_id\n",
        "\n",
        "    # 2. Access long-term memory store\n",
        "    store = request.runtime.store\n",
        "\n",
        "    # 3. Access session state\n",
        "    message_count = len(request.state.get(\"messages\", []))\n",
        "\n",
        "    # Look up employee info from database\n",
        "    employee = EMPLOYEE_DB.get(employee_id, {})\n",
        "\n",
        "    if not employee:\n",
        "        return \"You are a helpful HR assistant.\"\n",
        "\n",
        "    name = employee.get(\"name\", \"Employee\")\n",
        "    department = employee.get(\"department\", \"Unknown\")\n",
        "    role = employee.get(\"role\", \"Unknown\")\n",
        "    leave_balance = employee.get(\"leave_balance\", 0)\n",
        "\n",
        "    # Time-based greeting\n",
        "    hour = datetime.now().hour\n",
        "    if hour < 12:\n",
        "        greeting = \"Good morning\"\n",
        "    elif hour < 17:\n",
        "        greeting = \"Good afternoon\"\n",
        "    else:\n",
        "        greeting = \"Good evening\"\n",
        "\n",
        "    # Base prompt\n",
        "    prompt = f\"\"\"{greeting}! You are an AI HR assistant helping {name} ({employee_id}).\n",
        "\n",
        "**Employee Context:**\n",
        "- Name: {name}\n",
        "- Department: {department}\n",
        "- Role: {role}\n",
        "- Leave Balance: {leave_balance} days\n",
        "\"\"\"\n",
        "\n",
        "    # Try to get communication preferences from long-term memory\n",
        "    try:\n",
        "        namespace = (\"employee_preferences\", employee_id)\n",
        "        comm_prefs = store.get(namespace, \"communication_style\")\n",
        "\n",
        "        if comm_prefs:\n",
        "            style = comm_prefs.value.get(\"style\", \"balanced\")\n",
        "            response_format = comm_prefs.value.get(\"response_format\", \"paragraphs\")\n",
        "\n",
        "            prompt += f\"\\n**Communication Preferences (from memory):**\"\n",
        "            prompt += f\"\\n- Style: {style}\"\n",
        "            prompt += f\"\\n- Format: {response_format}\"\n",
        "\n",
        "            # Add style-specific instructions\n",
        "            if style == \"concise\":\n",
        "                prompt += \"\\n\\n**Instructions:** Provide brief, to-the-point responses. Use bullet points.\"\n",
        "            elif style == \"detailed\":\n",
        "                prompt += \"\\n\\n**Instructions:** Provide comprehensive explanations with examples.\"\n",
        "            elif style == \"formal\":\n",
        "                prompt += \"\\n\\n**Instructions:** Maintain professional and formal tone.\"\n",
        "        else:\n",
        "            prompt += \"\\n\\n**Instructions:** Be helpful and professional.\"\n",
        "\n",
        "    except Exception as e:\n",
        "        prompt += \"\\n\\n**Instructions:** Be helpful and professional.\"\n",
        "\n",
        "    # Add conversation length context\n",
        "    if message_count > 10:\n",
        "        prompt += \"\\n\\n*Note: This is a long conversation. Focus on recent context and be concise.*\"\n",
        "\n",
        "    return prompt\n",
        "\n",
        "print(\"✅ Dynamic prompt middleware created!\")\n",
        "print(\"\\nThis prompt will:\")\n",
        "print(\"  • Greet user based on time of day\")\n",
        "print(\"  • Include employee context\")\n",
        "print(\"  • Load communication preferences from memory\")\n",
        "print(\"  • Adapt based on conversation length\")"
      ]
    },
    {
      "cell_type": "markdown",
      "metadata": {
        "id": "sd6AB0CORQ6P"
      },
      "source": [
        "---\n",
        "# Part 3: Create Tools with Closure Pattern\n",
        "\n",
        "**Using closure pattern to avoid InjectedStore issues**\n",
        "\n",
        "This pattern captures the store at tool creation time, making tools more reliable."
      ]
    },
    {
      "cell_type": "code",
      "execution_count": 27,
      "metadata": {
        "id": "ZbA9_X7tRQ6P",
        "outputId": "41b49525-2c5e-40a2-97c6-d17f28c72fa1",
        "colab": {
          "base_uri": "https://localhost:8080/"
        }
      },
      "outputs": [
        {
          "output_type": "stream",
          "name": "stdout",
          "text": [
            "✅ Memory tools created using closure pattern!\n",
            "\n",
            "Created 7 tools:\n",
            "  • get_notification_settings\n",
            "  • get_communication_style\n",
            "  • get_work_schedule\n",
            "  • get_all_preferences\n",
            "  • get_career_goals\n",
            "  • update_notification_settings\n",
            "  • add_career_goal\n"
          ]
        }
      ],
      "source": [
        "def create_memory_tools(store: InMemoryStore):\n",
        "    \"\"\"\n",
        "    Factory function that creates tools with store captured in closure.\n",
        "    This avoids InjectedStore issues and is more reliable.\n",
        "    \"\"\"\n",
        "\n",
        "    # READ TOOLS\n",
        "\n",
        "    @tool\n",
        "    def get_notification_settings(config: RunnableConfig) -> str:\n",
        "        \"\"\"Get notification settings for the current employee from long-term memory.\"\"\"\n",
        "        employee_id = config.get(\"configurable\", {}).get(\"employee_id\", \"UNKNOWN\")\n",
        "        employee = EMPLOYEE_DB.get(employee_id, {})\n",
        "        name = employee.get(\"name\", \"Employee\")\n",
        "\n",
        "        namespace = (\"employee_preferences\", employee_id)\n",
        "        item = store.get(namespace, \"notification_settings\")\n",
        "\n",
        "        if item:\n",
        "            return f\"\"\"✅ **{name}'s Notification Settings:**\n",
        "\n",
        "```json\n",
        "{json.dumps(item.value, indent=2)}\n",
        "```\n",
        "\n",
        "*Retrieved from long-term memory*\"\"\"\n",
        "        return f\"❌ No notification settings found for {name}\"\n",
        "\n",
        "    @tool\n",
        "    def get_communication_style(config: RunnableConfig) -> str:\n",
        "        \"\"\"Get communication style preference from long-term memory.\"\"\"\n",
        "        employee_id = config.get(\"configurable\", {}).get(\"employee_id\", \"UNKNOWN\")\n",
        "        employee = EMPLOYEE_DB.get(employee_id, {})\n",
        "        name = employee.get(\"name\", \"Employee\")\n",
        "\n",
        "        namespace = (\"employee_preferences\", employee_id)\n",
        "        item = store.get(namespace, \"communication_style\")\n",
        "\n",
        "        if item:\n",
        "            return f\"\"\"✅ **{name}'s Communication Style:**\n",
        "\n",
        "```json\n",
        "{json.dumps(item.value, indent=2)}\n",
        "```\n",
        "\n",
        "*Retrieved from long-term memory*\"\"\"\n",
        "        return f\"❌ No communication style found for {name}\"\n",
        "\n",
        "    @tool\n",
        "    def get_work_schedule(config: RunnableConfig) -> str:\n",
        "        \"\"\"Get work schedule preferences from long-term memory.\"\"\"\n",
        "        employee_id = config.get(\"configurable\", {}).get(\"employee_id\", \"UNKNOWN\")\n",
        "        employee = EMPLOYEE_DB.get(employee_id, {})\n",
        "        name = employee.get(\"name\", \"Employee\")\n",
        "\n",
        "        namespace = (\"employee_preferences\", employee_id)\n",
        "        item = store.get(namespace, \"work_schedule\")\n",
        "\n",
        "        if item:\n",
        "            return f\"\"\"✅ **{name}'s Work Schedule:**\n",
        "\n",
        "```json\n",
        "{json.dumps(item.value, indent=2)}\n",
        "```\n",
        "\n",
        "*Retrieved from long-term memory*\"\"\"\n",
        "        return f\"❌ No work schedule found for {name}\"\n",
        "\n",
        "    @tool\n",
        "    def get_all_preferences(config: RunnableConfig) -> str:\n",
        "        \"\"\"Get ALL preferences for the current employee from long-term memory.\"\"\"\n",
        "        employee_id = config.get(\"configurable\", {}).get(\"employee_id\", \"UNKNOWN\")\n",
        "        employee = EMPLOYEE_DB.get(employee_id, {})\n",
        "        name = employee.get(\"name\", \"Employee\")\n",
        "\n",
        "        namespace = (\"employee_preferences\", employee_id)\n",
        "        items = list(store.search(namespace))\n",
        "\n",
        "        if items:\n",
        "            result = f\"**All preferences for {name}:**\\n\\n\"\n",
        "\n",
        "            for item in items:\n",
        "                result += f\"### {item.key.replace('_', ' ').title()}\\n\"\n",
        "                result += f\"```json\\n{json.dumps(item.value, indent=2)}\\n```\\n\\n\"\n",
        "\n",
        "            result += f\"*Total: {len(items)} preference sets*\"\n",
        "            return result\n",
        "        return f\"No preferences found for {name}.\"\n",
        "\n",
        "    @tool\n",
        "    def get_career_goals(config: RunnableConfig) -> str:\n",
        "        \"\"\"Get career development goals from long-term memory.\"\"\"\n",
        "        employee_id = config.get(\"configurable\", {}).get(\"employee_id\", \"UNKNOWN\")\n",
        "        employee = EMPLOYEE_DB.get(employee_id, {})\n",
        "        name = employee.get(\"name\", \"Employee\")\n",
        "\n",
        "        namespace = (\"employee_career\", employee_id)\n",
        "        item = store.get(namespace, \"goals\")\n",
        "\n",
        "        if item:\n",
        "            goals = item.value\n",
        "            result = f\"**{name}'s Career Goals:**\\n\\n\"\n",
        "            result += f\"**Short-term goals:**\\n\"\n",
        "            for goal in goals.get(\"short_term\", []):\n",
        "                result += f\"  • {goal}\\n\"\n",
        "            result += f\"\\n**Long-term goals:**\\n\"\n",
        "            for goal in goals.get(\"long_term\", []):\n",
        "                result += f\"  • {goal}\\n\"\n",
        "            result += f\"\\n*Last updated: {goals.get('last_updated', 'Unknown')}*\"\n",
        "            return result\n",
        "        return f\"No career goals set for {name}.\"\n",
        "\n",
        "    # WRITE TOOLS\n",
        "\n",
        "    @tool\n",
        "    def update_notification_settings(\n",
        "        email: Annotated[bool, \"Enable email notifications\"],\n",
        "        slack: Annotated[bool, \"Enable Slack notifications\"],\n",
        "        frequency: Annotated[str, \"Frequency: daily, weekly, real-time\"],\n",
        "        config: RunnableConfig\n",
        "    ) -> str:\n",
        "        \"\"\"Update notification settings in long-term memory.\"\"\"\n",
        "        employee_id = config.get(\"configurable\", {}).get(\"employee_id\", \"UNKNOWN\")\n",
        "        employee = EMPLOYEE_DB.get(employee_id, {})\n",
        "        name = employee.get(\"name\", \"Employee\")\n",
        "\n",
        "        new_settings = {\n",
        "            \"email_notifications\": email,\n",
        "            \"slack_notifications\": slack,\n",
        "            \"frequency\": frequency,\n",
        "            \"last_updated\": datetime.now().isoformat()\n",
        "        }\n",
        "\n",
        "        namespace = (\"employee_preferences\", employee_id)\n",
        "        store.put(namespace, \"notification_settings\", new_settings)\n",
        "\n",
        "        return f\"\"\"✅ **Updated notification settings for {name}:**\n",
        "\n",
        "```json\n",
        "{json.dumps(new_settings, indent=2)}\n",
        "```\n",
        "\n",
        "*Saved to long-term memory*\"\"\"\n",
        "\n",
        "    @tool\n",
        "    def add_career_goal(\n",
        "        goal: Annotated[str, \"Career goal to add\"],\n",
        "        term: Annotated[str, \"short_term or long_term\"],\n",
        "        config: RunnableConfig\n",
        "    ) -> str:\n",
        "        \"\"\"Add a career goal to long-term memory.\"\"\"\n",
        "        employee_id = config.get(\"configurable\", {}).get(\"employee_id\", \"UNKNOWN\")\n",
        "        employee = EMPLOYEE_DB.get(employee_id, {})\n",
        "        name = employee.get(\"name\", \"Employee\")\n",
        "\n",
        "        if term not in [\"short_term\", \"long_term\"]:\n",
        "            return \"❌ Term must be 'short_term' or 'long_term'\"\n",
        "\n",
        "        namespace = (\"employee_career\", employee_id)\n",
        "        existing = store.get(namespace, \"goals\")\n",
        "\n",
        "        if existing:\n",
        "            goals = existing.value.copy()\n",
        "        else:\n",
        "            goals = {\"short_term\": [], \"long_term\": []}\n",
        "\n",
        "        if goal not in goals[term]:\n",
        "            goals[term].append(goal)\n",
        "            goals[\"last_updated\"] = datetime.now().isoformat()\n",
        "            store.put(namespace, \"goals\", goals)\n",
        "\n",
        "            return f\"✅ Added {term.replace('_', '-')} goal for {name}: '{goal}'\\n\\n*Saved to long-term memory*\"\n",
        "        return f\"⚠️ Goal '{goal}' already exists\"\n",
        "\n",
        "    return [\n",
        "        # Read tools\n",
        "        get_notification_settings,\n",
        "        get_communication_style,\n",
        "        get_work_schedule,\n",
        "        get_all_preferences,\n",
        "        get_career_goals,\n",
        "        # Write tools\n",
        "        update_notification_settings,\n",
        "        add_career_goal\n",
        "    ]\n",
        "\n",
        "# Create tools with store captured in closure\n",
        "memory_tools = create_memory_tools(memory_store)\n",
        "\n",
        "print(\"✅ Memory tools created using closure pattern!\")\n",
        "print(f\"\\nCreated {len(memory_tools)} tools:\")\n",
        "for t in memory_tools:\n",
        "    print(f\"  • {t.name}\")"
      ]
    },
    {
      "cell_type": "markdown",
      "metadata": {
        "id": "Iot0AjZvRQ6P"
      },
      "source": [
        "## Create Basic Tools"
      ]
    },
    {
      "cell_type": "code",
      "execution_count": 28,
      "metadata": {
        "id": "lKpxFbLNRQ6P",
        "outputId": "1f305c95-0bd4-4ee1-9b0d-086557740e43",
        "colab": {
          "base_uri": "https://localhost:8080/"
        }
      },
      "outputs": [
        {
          "output_type": "stream",
          "name": "stdout",
          "text": [
            "✅ Basic tools created!\n"
          ]
        }
      ],
      "source": [
        "@tool\n",
        "def check_leave_balance(config: RunnableConfig) -> str:\n",
        "    \"\"\"Check the current employee's leave balance.\"\"\"\n",
        "    employee_id = config.get(\"configurable\", {}).get(\"employee_id\", \"UNKNOWN\")\n",
        "    employee = EMPLOYEE_DB.get(employee_id, {})\n",
        "\n",
        "    if employee:\n",
        "        name = employee.get(\"name\")\n",
        "        balance = employee.get(\"leave_balance\")\n",
        "        return f\"{name} has {balance} days of leave remaining.\"\n",
        "    return \"Employee not found.\"\n",
        "\n",
        "print(\"✅ Basic tools created!\")"
      ]
    },
    {
      "cell_type": "markdown",
      "metadata": {
        "id": "2crFBsZcRQ6Q"
      },
      "source": [
        "---\n",
        "# Part 4: Create the Complete Agent"
      ]
    },
    {
      "cell_type": "code",
      "execution_count": 29,
      "metadata": {
        "id": "tAaZS8SURQ6Q",
        "outputId": "f8bb8d0f-2d36-4084-893b-064111a3b0af",
        "colab": {
          "base_uri": "https://localhost:8080/"
        }
      },
      "outputs": [
        {
          "output_type": "stream",
          "name": "stdout",
          "text": [
            "✅ Complete HR Agent created!\n",
            "\n",
            "Features:\n",
            "  🎯 Dynamic prompts - Personalized based on user and memory\n",
            "  📚 Long-term memory - Read preferences\n",
            "  ✍️ Memory updates - Write preferences\n",
            "  🔍 Memory search - Find all preferences\n",
            "  🗂️ Closure pattern - Reliable tool execution\n"
          ]
        }
      ],
      "source": [
        "# Combine all tools\n",
        "all_tools = memory_tools + [check_leave_balance]\n",
        "\n",
        "# Create agent with dynamic prompt and memory tools\n",
        "hr_agent = create_agent(\n",
        "    model=\"openai:gpt-4o-mini\",\n",
        "    tools=all_tools,\n",
        "    middleware=[personalized_hr_prompt],  # ✅ Dynamic prompt\n",
        "    context_schema=HRContext,              # ✅ Context schema\n",
        "    store=memory_store                     # ✅ Store for dynamic prompt\n",
        ")\n",
        "\n",
        "print(\"✅ Complete HR Agent created!\")\n",
        "print(\"\\nFeatures:\")\n",
        "print(\"  🎯 Dynamic prompts - Personalized based on user and memory\")\n",
        "print(\"  📚 Long-term memory - Read preferences\")\n",
        "print(\"  ✍️ Memory updates - Write preferences\")\n",
        "print(\"  🔍 Memory search - Find all preferences\")\n",
        "print(\"  🗂️ Closure pattern - Reliable tool execution\")"
      ]
    },
    {
      "cell_type": "markdown",
      "metadata": {
        "id": "wEcc54LCRQ6Q"
      },
      "source": [
        "---\n",
        "# Part 5: Testing the Complete System"
      ]
    },
    {
      "cell_type": "markdown",
      "metadata": {
        "id": "zAUxROqGRQ6Q"
      },
      "source": [
        "## Test 1: Dynamic Prompt with Memory-Based Personalization"
      ]
    },
    {
      "cell_type": "code",
      "execution_count": 30,
      "metadata": {
        "id": "ky_vCAuQRQ6Q",
        "outputId": "d18494f7-a060-4665-fae1-c954df8b1c2d",
        "colab": {
          "base_uri": "https://localhost:8080/"
        }
      },
      "outputs": [
        {
          "output_type": "stream",
          "name": "stdout",
          "text": [
            "======================================================================\n",
            "TEST 1: Priya (Detailed Style from Memory)\n",
            "======================================================================\n",
            "\n",
            "🤖 Response:\n",
            "You currently have a total of 12 leave days available. If you need assistance with planning your leave or have any specific requests, feel free to ask!\n",
            "\n",
            "💡 Notice: Response is detailed because Priya's preference (from memory) is 'detailed'\n"
          ]
        }
      ],
      "source": [
        "print(\"=\" * 70)\n",
        "print(\"TEST 1: Priya (Detailed Style from Memory)\")\n",
        "print(\"=\" * 70)\n",
        "\n",
        "result = hr_agent.invoke(\n",
        "    {\"messages\": [{\"role\": \"user\", \"content\": \"Hi! How many leave days do I have?\"}]},\n",
        "    context=HRContext(employee_id=\"EMP101\")\n",
        ")\n",
        "\n",
        "print(f\"\\n🤖 Response:\\n{result['messages'][-1].content}\")\n",
        "print(\"\\n💡 Notice: Response is detailed because Priya's preference (from memory) is 'detailed'\")"
      ]
    },
    {
      "cell_type": "markdown",
      "metadata": {
        "id": "Mzp7SVWjRQ6Q"
      },
      "source": [
        "## Test 2: Different User with Different Preferences"
      ]
    },
    {
      "cell_type": "code",
      "execution_count": 31,
      "metadata": {
        "id": "EUoQAm3iRQ6Q",
        "outputId": "3b32eac0-d0a6-4908-a866-69c5443f20a3",
        "colab": {
          "base_uri": "https://localhost:8080/"
        }
      },
      "outputs": [
        {
          "output_type": "stream",
          "name": "stdout",
          "text": [
            "\n",
            "======================================================================\n",
            "TEST 2: Rahul (Concise Style from Memory)\n",
            "======================================================================\n",
            "\n",
            "🤖 Response:\n",
            "- You have 8 leave days remaining.\n",
            "\n",
            "💡 Notice: Response is concise because Rahul's preference (from memory) is 'concise'\n"
          ]
        }
      ],
      "source": [
        "print(\"\\n\" + \"=\" * 70)\n",
        "print(\"TEST 2: Rahul (Concise Style from Memory)\")\n",
        "print(\"=\" * 70)\n",
        "\n",
        "result = hr_agent.invoke(\n",
        "    {\"messages\": [{\"role\": \"user\", \"content\": \"Hi! How many leave days do I have?\"}]},\n",
        "    context=HRContext(employee_id=\"EMP102\")\n",
        ")\n",
        "\n",
        "print(f\"\\n🤖 Response:\\n{result['messages'][-1].content}\")\n",
        "print(\"\\n💡 Notice: Response is concise because Rahul's preference (from memory) is 'concise'\")"
      ]
    },
    {
      "cell_type": "markdown",
      "metadata": {
        "id": "g9ZOwdfhRQ6Q"
      },
      "source": [
        "## Test 3: Read Preferences from Memory"
      ]
    },
    {
      "cell_type": "code",
      "execution_count": 36,
      "metadata": {
        "id": "gDdcBn22RQ6Q",
        "outputId": "1b8379e7-9650-41a9-b9d8-9876888b98a9",
        "colab": {
          "base_uri": "https://localhost:8080/"
        }
      },
      "outputs": [
        {
          "output_type": "stream",
          "name": "stdout",
          "text": [
            "\n",
            "======================================================================\n",
            "======================================================================\n",
            "{'messages': [HumanMessage(content='What are my notification settings for EMP101?', additional_kwargs={}, response_metadata={}, id='031ef07c-6d16-4644-a866-641b42de50a1'), AIMessage(content='', additional_kwargs={'refusal': None}, response_metadata={'token_usage': {'completion_tokens': 11, 'prompt_tokens': 314, 'total_tokens': 325, 'completion_tokens_details': {'accepted_prediction_tokens': 0, 'audio_tokens': 0, 'reasoning_tokens': 0, 'rejected_prediction_tokens': 0}, 'prompt_tokens_details': {'audio_tokens': 0, 'cached_tokens': 0}}, 'model_provider': 'openai', 'model_name': 'gpt-4o-mini-2024-07-18', 'system_fingerprint': 'fp_560af6e559', 'id': 'chatcmpl-CSQUZRhdkqHVN1SZ7PUED1XlRh05q', 'service_tier': 'default', 'finish_reason': 'tool_calls', 'logprobs': None}, id='lc_run--06af60d4-1a1b-40d3-8bd8-48bda33be710-0', tool_calls=[{'name': 'get_notification_settings', 'args': {}, 'id': 'call_FVwFu4cOoqHqZEC2zEzZjefX', 'type': 'tool_call'}], usage_metadata={'input_tokens': 314, 'output_tokens': 11, 'total_tokens': 325, 'input_token_details': {'audio': 0, 'cache_read': 0}, 'output_token_details': {'audio': 0, 'reasoning': 0}}), ToolMessage(content='❌ No notification settings found for Employee', name='get_notification_settings', id='75d83c83-3581-4079-8eb4-8f9cb9e10304', tool_call_id='call_FVwFu4cOoqHqZEC2zEzZjefX'), AIMessage(content='It appears that there are currently no notification settings recorded for you, Priya Sharma (EMP101). This means that you might not be receiving updates or alerts regarding important information related to your role or your department. \\n\\nIf you would like to set up your notification preferences, please let me know how you would like to receive notifications. For example, you can choose to receive notifications via email or Slack, and specify how often you would like to receive them (daily, weekly, or in real-time).', additional_kwargs={'refusal': None}, response_metadata={'token_usage': {'completion_tokens': 101, 'prompt_tokens': 342, 'total_tokens': 443, 'completion_tokens_details': {'accepted_prediction_tokens': 0, 'audio_tokens': 0, 'reasoning_tokens': 0, 'rejected_prediction_tokens': 0}, 'prompt_tokens_details': {'audio_tokens': 0, 'cached_tokens': 0}}, 'model_provider': 'openai', 'model_name': 'gpt-4o-mini-2024-07-18', 'system_fingerprint': 'fp_560af6e559', 'id': 'chatcmpl-CSQUakrjcWGzkx8i6tUMfUQJfZ7AX', 'service_tier': 'default', 'finish_reason': 'stop', 'logprobs': None}, id='lc_run--b51269f9-6f71-4cdb-8c47-152af8cd136e-0', usage_metadata={'input_tokens': 342, 'output_tokens': 101, 'total_tokens': 443, 'input_token_details': {'audio': 0, 'cache_read': 0}, 'output_token_details': {'audio': 0, 'reasoning': 0}})]}\n",
            "\n",
            "🤖 Response:\n",
            "It appears that there are currently no notification settings recorded for you, Priya Sharma (EMP101). This means that you might not be receiving updates or alerts regarding important information related to your role or your department. \n",
            "\n",
            "If you would like to set up your notification preferences, please let me know how you would like to receive notifications. For example, you can choose to receive notifications via email or Slack, and specify how often you would like to receive them (daily, weekly, or in real-time).\n",
            "\n",
            "✅ Successfully retrieved from long-term memory!\n"
          ]
        }
      ],
      "source": [
        "print(\"\\n\" + \"=\" * 70)\n",
        "print(\"=\" * 70)\n",
        "\n",
        "result = hr_agent.invoke(\n",
        "    {\"messages\": [{\"role\": \"user\", \"content\": \"What are my notification settings for EMP101?\"}]},\n",
        "    context=HRContext(employee_id=\"EMP101\")\n",
        ")\n",
        "\n",
        "print(result)\n",
        "\n",
        "print(f\"\\n🤖 Response:\\n{result['messages'][-1].content}\")\n",
        "print(\"\\n✅ Successfully retrieved from long-term memory!\")"
      ]
    },
    {
      "cell_type": "markdown",
      "metadata": {
        "id": "Wj0xu_hKRQ6R"
      },
      "source": [
        "## Test 4: Get All Preferences"
      ]
    },
    {
      "cell_type": "code",
      "execution_count": 37,
      "metadata": {
        "id": "fvQc5Rw5RQ6R",
        "outputId": "e5405db7-a6c6-4a9e-89bd-f12189263c3d",
        "colab": {
          "base_uri": "https://localhost:8080/"
        }
      },
      "outputs": [
        {
          "output_type": "stream",
          "name": "stdout",
          "text": [
            "\n",
            "======================================================================\n",
            "TEST 4: Get All Stored Preferences\n",
            "======================================================================\n",
            "\n",
            "🤖 Response:\n",
            "It appears that there are currently no preferences recorded for you in the system. This might include aspects like communication style, notification settings, or work schedule preferences.\n",
            "\n",
            "If you would like to establish some preferences, please let me know which areas you want to focus on, such as how you wish to receive notifications, your preferred communication style, or any specific work schedule you have in mind. This will help in tailoring your experience and ensuring that you receive the right information in a manner that suits you best.\n"
          ]
        }
      ],
      "source": [
        "print(\"\\n\" + \"=\" * 70)\n",
        "print(\"TEST 4: Get All Stored Preferences\")\n",
        "print(\"=\" * 70)\n",
        "\n",
        "result = hr_agent.invoke(\n",
        "    {\"messages\": [{\"role\": \"user\", \"content\": \"Show me all my preferences\"}]},\n",
        "    context=HRContext(employee_id=\"EMP101\")\n",
        ")\n",
        "\n",
        "print(f\"\\n🤖 Response:\\n{result['messages'][-1].content}\")"
      ]
    },
    {
      "cell_type": "markdown",
      "metadata": {
        "id": "KGfd0g4pRQ6R"
      },
      "source": [
        "## Test 5: Update Preferences (Write to Memory)"
      ]
    },
    {
      "cell_type": "code",
      "execution_count": 38,
      "metadata": {
        "id": "h6Dg7dbiRQ6R",
        "outputId": "731e9d55-17f5-4dd6-920b-9fa76c9e376f",
        "colab": {
          "base_uri": "https://localhost:8080/"
        }
      },
      "outputs": [
        {
          "output_type": "stream",
          "name": "stdout",
          "text": [
            "\n",
            "======================================================================\n",
            "TEST 5: Update Notification Settings in Long-Term Memory\n",
            "======================================================================\n",
            "\n",
            "🤖 Response:\n",
            "Your email notifications have been successfully turned off, and the notification frequency is now set to weekly. If you have any further adjustments or preferences you'd like to discuss, feel free to let me know!\n"
          ]
        }
      ],
      "source": [
        "print(\"\\n\" + \"=\" * 70)\n",
        "print(\"TEST 5: Update Notification Settings in Long-Term Memory\")\n",
        "print(\"=\" * 70)\n",
        "\n",
        "result = hr_agent.invoke(\n",
        "    {\"messages\": [{\"role\": \"user\", \"content\": \"Turn off my email notifications and set frequency to weekly\"}]},\n",
        "    context=HRContext(employee_id=\"EMP101\")\n",
        ")\n",
        "\n",
        "print(f\"\\n🤖 Response:\\n{result['messages'][-1].content}\")"
      ]
    },
    {
      "cell_type": "code",
      "source": [
        "print(\"\\n\" + \"=\" * 70)\n",
        "print(\"=\" * 70)\n",
        "\n",
        "result = hr_agent.invoke(\n",
        "    {\"messages\": [{\"role\": \"user\", \"content\": \"What are my notification settings for EMP101?\"}]},\n",
        "    context=HRContext(employee_id=\"EMP101\")\n",
        ")\n",
        "\n",
        "print(result)\n",
        "\n",
        "print(f\"\\n🤖 Response:\\n{result['messages'][-1].content}\")\n",
        "print(\"\\n✅ Successfully retrieved from long-term memory!\")"
      ],
      "metadata": {
        "id": "Ty-xX4ncSc0f",
        "outputId": "63501c44-b52a-4e3f-b202-5172ac8cc9e8",
        "colab": {
          "base_uri": "https://localhost:8080/"
        }
      },
      "execution_count": 39,
      "outputs": [
        {
          "output_type": "stream",
          "name": "stdout",
          "text": [
            "\n",
            "======================================================================\n",
            "======================================================================\n",
            "{'messages': [HumanMessage(content='What are my notification settings for EMP101?', additional_kwargs={}, response_metadata={}, id='d794b182-2127-4774-83ea-ff92f5ec534e'), AIMessage(content='', additional_kwargs={'refusal': None}, response_metadata={'token_usage': {'completion_tokens': 11, 'prompt_tokens': 314, 'total_tokens': 325, 'completion_tokens_details': {'accepted_prediction_tokens': 0, 'audio_tokens': 0, 'reasoning_tokens': 0, 'rejected_prediction_tokens': 0}, 'prompt_tokens_details': {'audio_tokens': 0, 'cached_tokens': 0}}, 'model_provider': 'openai', 'model_name': 'gpt-4o-mini-2024-07-18', 'system_fingerprint': 'fp_560af6e559', 'id': 'chatcmpl-CSQVGfDA4Kr4orIWZKEiuJfDE2ee4', 'service_tier': 'default', 'finish_reason': 'tool_calls', 'logprobs': None}, id='lc_run--14abbe33-7a00-4eec-aab1-1ccc349a34b3-0', tool_calls=[{'name': 'get_notification_settings', 'args': {}, 'id': 'call_WRMFmjvEvWyHZ2AJujIwPyHx', 'type': 'tool_call'}], usage_metadata={'input_tokens': 314, 'output_tokens': 11, 'total_tokens': 325, 'input_token_details': {'audio': 0, 'cache_read': 0}, 'output_token_details': {'audio': 0, 'reasoning': 0}}), ToolMessage(content='✅ **Employee\\'s Notification Settings:**\\n\\n```json\\n{\\n  \"email_notifications\": false,\\n  \"slack_notifications\": false,\\n  \"frequency\": \"weekly\",\\n  \"last_updated\": \"2025-10-19T16:24:34.780844\"\\n}\\n```\\n\\n*Retrieved from long-term memory*', name='get_notification_settings', id='d5b51933-c859-4a5f-accf-0b2663184349', tool_call_id='call_WRMFmjvEvWyHZ2AJujIwPyHx'), AIMessage(content='Your current notification settings are as follows:\\n\\n- **Email Notifications:** Disabled (not receiving email notifications).\\n- **Slack Notifications:** Disabled (not receiving notifications on Slack).\\n- **Frequency of Notifications:** Weekly (if notifications were enabled).\\n\\nThese settings were last updated on October 19, 2025. If you would like to alter any of these preferences, feel free to let me know!', additional_kwargs={'refusal': None}, response_metadata={'token_usage': {'completion_tokens': 79, 'prompt_tokens': 400, 'total_tokens': 479, 'completion_tokens_details': {'accepted_prediction_tokens': 0, 'audio_tokens': 0, 'reasoning_tokens': 0, 'rejected_prediction_tokens': 0}, 'prompt_tokens_details': {'audio_tokens': 0, 'cached_tokens': 0}}, 'model_provider': 'openai', 'model_name': 'gpt-4o-mini-2024-07-18', 'system_fingerprint': 'fp_560af6e559', 'id': 'chatcmpl-CSQVHgZySFwf4QBEsRNAa9JHOos48', 'service_tier': 'default', 'finish_reason': 'stop', 'logprobs': None}, id='lc_run--d41c3b51-f158-44d5-b4d2-d1e972919b10-0', usage_metadata={'input_tokens': 400, 'output_tokens': 79, 'total_tokens': 479, 'input_token_details': {'audio': 0, 'cache_read': 0}, 'output_token_details': {'audio': 0, 'reasoning': 0}})]}\n",
            "\n",
            "🤖 Response:\n",
            "Your current notification settings are as follows:\n",
            "\n",
            "- **Email Notifications:** Disabled (not receiving email notifications).\n",
            "- **Slack Notifications:** Disabled (not receiving notifications on Slack).\n",
            "- **Frequency of Notifications:** Weekly (if notifications were enabled).\n",
            "\n",
            "These settings were last updated on October 19, 2025. If you would like to alter any of these preferences, feel free to let me know!\n",
            "\n",
            "✅ Successfully retrieved from long-term memory!\n"
          ]
        }
      ]
    },
    {
      "cell_type": "markdown",
      "metadata": {
        "id": "JA__qXKhRQ6R"
      },
      "source": [
        "## Test 6: Verify Update Persisted"
      ]
    },
    {
      "cell_type": "code",
      "execution_count": 40,
      "metadata": {
        "id": "nfjGnoXaRQ6S",
        "outputId": "66a3ae70-df5e-446e-81b7-d0338b2ad010",
        "colab": {
          "base_uri": "https://localhost:8080/"
        }
      },
      "outputs": [
        {
          "output_type": "stream",
          "name": "stdout",
          "text": [
            "\n",
            "======================================================================\n",
            "TEST 6: Verify Changes Were Saved to Memory\n",
            "======================================================================\n",
            "\n",
            "🤖 Response:\n",
            "Currently, your notification settings are as follows:\n",
            "\n",
            "- **Email Notifications:** Disabled \n",
            "- **Slack Notifications:** Disabled \n",
            "- **Notification Frequency:** Weekly\n",
            "\n",
            "The last update to these settings was made on October 19, 2025. If you would like to make any changes, such as enabling notifications or adjusting the frequency, please let me know!\n",
            "\n",
            "✅ Changes persisted in long-term memory!\n"
          ]
        }
      ],
      "source": [
        "print(\"\\n\" + \"=\" * 70)\n",
        "print(\"TEST 6: Verify Changes Were Saved to Memory\")\n",
        "print(\"=\" * 70)\n",
        "\n",
        "result = hr_agent.invoke(\n",
        "    {\"messages\": [{\"role\": \"user\", \"content\": \"What are my notification settings now?\"}]},\n",
        "    context=HRContext(employee_id=\"EMP101\")\n",
        ")\n",
        "\n",
        "print(f\"\\n🤖 Response:\\n{result['messages'][-1].content}\")\n",
        "print(\"\\n✅ Changes persisted in long-term memory!\")"
      ]
    },
    {
      "cell_type": "markdown",
      "metadata": {
        "id": "RwfgGYsARQ6S"
      },
      "source": [
        "## Test 7: Career Goals"
      ]
    },
    {
      "cell_type": "code",
      "execution_count": 41,
      "metadata": {
        "id": "yrLm3rjeRQ6S",
        "outputId": "cf07788d-a7f8-4f17-eaba-d7efa3cbaa1e",
        "colab": {
          "base_uri": "https://localhost:8080/"
        }
      },
      "outputs": [
        {
          "output_type": "stream",
          "name": "stdout",
          "text": [
            "\n",
            "======================================================================\n",
            "TEST 7: Career Goals from Memory\n",
            "======================================================================\n",
            "\n",
            "🤖 Response:\n",
            "It appears that you haven't set any career goals yet. Establishing career goals is an essential step in guiding your professional development and can help you focus on what you want to achieve in your career.\n",
            "\n",
            "To get started, consider the following types of goals:\n",
            "\n",
            "1. **Short-Term Goals**: These can include skills you want to develop in the next 6 to 12 months, such as mastering a specific programming language or leading a smaller project team. \n",
            "\n",
            "2. **Long-Term Goals**: These might be aspirations you have in the next 3 to 5 years, such as moving into a managerial role, becoming a subject matter expert, or contributing to innovative projects that impact the company or industry.\n",
            "\n",
            "If you have specific goals in mind, I can help you add them to your profile. Would you like to define some career goals now?\n"
          ]
        }
      ],
      "source": [
        "print(\"\\n\" + \"=\" * 70)\n",
        "print(\"TEST 7: Career Goals from Memory\")\n",
        "print(\"=\" * 70)\n",
        "\n",
        "result = hr_agent.invoke(\n",
        "    {\"messages\": [{\"role\": \"user\", \"content\": \"What are my career goals?\"}]},\n",
        "    context=HRContext(employee_id=\"EMP101\")\n",
        ")\n",
        "\n",
        "print(f\"\\n🤖 Response:\\n{result['messages'][-1].content}\")"
      ]
    },
    {
      "cell_type": "markdown",
      "metadata": {
        "id": "-kiFzD0tRQ6T"
      },
      "source": [
        "## Test 8: Add New Career Goal"
      ]
    },
    {
      "cell_type": "code",
      "execution_count": null,
      "metadata": {
        "id": "5n8tTZYjRQ6T"
      },
      "outputs": [],
      "source": [
        "print(\"\\n\" + \"=\" * 70)\n",
        "print(\"TEST 8: Add New Career Goal to Memory\")\n",
        "print(\"=\" * 70)\n",
        "\n",
        "result = hr_agent.invoke(\n",
        "    {\"messages\": [{\"role\": \"user\", \"content\": \"Add a short-term goal: Complete Python advanced certification\"}]},\n",
        "    context=HRContext(employee_id=\"EMP101\")\n",
        ")\n",
        "\n",
        "print(f\"\\n🤖 Response:\\n{result['messages'][-1].content}\")\n",
        "\n",
        "# Verify it was added\n",
        "print(\"\\n\" + \"-\" * 70)\n",
        "print(\"Verification:\")\n",
        "result = hr_agent.invoke(\n",
        "    {\"messages\": [{\"role\": \"user\", \"content\": \"What are my career goals now?\"}]},\n",
        "    context=HRContext(employee_id=\"EMP101\")\n",
        ")\n",
        "\n",
        "print(f\"\\n🤖 Response:\\n{result['messages'][-1].content}\")\n",
        "print(\"\\n✅ New goal persisted in long-term memory!\")"
      ]
    },
    {
      "cell_type": "markdown",
      "metadata": {
        "id": "OWICnmYiRQ6T"
      },
      "source": [
        "---\n",
        "# Summary\n",
        "\n",
        "## Key Patterns Learned\n",
        "\n",
        "### 1. Dynamic Prompts with @dynamic_prompt\n",
        "```python\n",
        "@dynamic_prompt\n",
        "def my_prompt(request: ModelRequest) -> str:\n",
        "    # Access runtime context\n",
        "    user_id = request.runtime.context.user_id\n",
        "    \n",
        "    # Access long-term memory\n",
        "    store = request.runtime.store\n",
        "    prefs = store.get((\"prefs\", user_id), \"style\")\n",
        "    \n",
        "    # Access session state\n",
        "    msg_count = len(request.state[\"messages\"])\n",
        "    \n",
        "    return f\"Personalized prompt\"\n",
        "\n",
        "agent = create_agent(\n",
        "    middleware=[my_prompt],\n",
        "    context_schema=MyContext,\n",
        "    store=memory_store\n",
        ")\n",
        "```\n",
        "\n",
        "### 2. Closure Pattern for Tools (Recommended)\n",
        "```python\n",
        "def create_memory_tools(store: InMemoryStore):\n",
        "    @tool\n",
        "    def read_memory(config: RunnableConfig) -> str:\n",
        "        user_id = config.get(\"configurable\", {}).get(\"user_id\")\n",
        "        item = store.get((\"category\", user_id), \"key\")\n",
        "        return item.value if item else \"Not found\"\n",
        "    \n",
        "    return [read_memory]\n",
        "\n",
        "tools = create_memory_tools(memory_store)\n",
        "```\n",
        "\n",
        "### 3. Write to Memory\n",
        "```python\n",
        "@tool\n",
        "def write_memory(config: RunnableConfig) -> str:\n",
        "    user_id = config.get(\"configurable\", {}).get(\"user_id\")\n",
        "    store.put((\"category\", user_id), \"key\", {\"data\": \"value\"})\n",
        "    return \"Saved!\"\n",
        "```\n",
        "\n",
        "## Why Closure Pattern?\n",
        "\n",
        "✅ **Advantages:**\n",
        "- More reliable than InjectedStore\n",
        "- Store is captured at tool creation time\n",
        "- No dependency injection issues\n",
        "- Easier to debug\n",
        "\n",
        "⚠️ **InjectedStore Alternative:**\n",
        "- Can still use `InjectedStore` if needed\n",
        "- May have compatibility issues in some setups\n",
        "- Closure pattern is production-proven\n",
        "\n",
        "## Production Checklist\n",
        "\n",
        "- [x] Dynamic prompts personalize experience\n",
        "- [x] Long-term memory stores preferences\n",
        "- [x] Tools read from memory (closure pattern)\n",
        "- [x] Tools write to memory (closure pattern)\n",
        "- [x] Namespaces organize data\n",
        "- [ ] Use persistent storage (PostgreSQL, Redis)\n",
        "- [ ] Add error handling and retries\n",
        "- [ ] Implement data validation\n",
        "- [ ] Add audit logging\n",
        "- [ ] Set up backup strategy\n",
        "\n",
        "---\n",
        "\n",
        "**Congratulations!** You now have a working HR agent with dynamic prompts and long-term memory using the reliable closure pattern! 🎉"
      ]
    }
  ],
  "metadata": {
    "kernelspec": {
      "display_name": "Python 3",
      "language": "python",
      "name": "python3"
    },
    "language_info": {
      "codemirror_mode": {
        "name": "ipython",
        "version": 3
      },
      "file_extension": ".py",
      "mimetype": "text/x-python",
      "name": "python",
      "nbconvert_exporter": "python",
      "pygments_lexer": "ipython3",
      "version": "3.11.0"
    },
    "colab": {
      "provenance": []
    }
  },
  "nbformat": 4,
  "nbformat_minor": 0
}