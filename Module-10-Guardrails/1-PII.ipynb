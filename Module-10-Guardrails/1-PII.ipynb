{
  "cells": [
    {
      "cell_type": "markdown",
      "metadata": {
        "id": "Kc5pkBacMyg6"
      },
      "source": [
        "# LangChain 1.0 Built-in PII Middleware for HR Systems\n",
        "\n",
        "**Module:** Using LangChain's Built-in PIIMiddleware\n",
        "\n",
        "**What you'll learn:**\n",
        "- 🔒 How to use LangChain's built-in `PIIMiddleware`\n",
        "- 🚫 **REDACT** strategy - Complete PII removal\n",
        "- 🎭 **MASK** strategy - Partial obscuring\n",
        "- #️⃣ **HASH** strategy - Deterministic hashing\n",
        "- ⛔ **BLOCK** strategy - Zero-tolerance blocking\n",
        "- 🎯 Configuration options and best practices\n",
        "\n",
        "**Built-in PII Types:**\n",
        "- `email` - Email addresses\n",
        "- `credit_card` - Credit card numbers (Luhn validated)\n",
        "- `ip` - IP addresses\n",
        "- `mac_address` - MAC addresses\n",
        "- `url` - URLs\n",
        "- Custom regex patterns\n",
        "\n",
        "**Time:** 1-2 hours\n",
        "\n",
        "---\n",
        "\n",
        "## 📚 PII Strategy Comparison\n",
        "\n",
        "| Strategy | Description | Example | Best For |\n",
        "|----------|-------------|---------|----------|\n",
        "| `redact` | Replace with `[REDACTED_TYPE]` | `[REDACTED_EMAIL]` | Audit logs, complete anonymization |\n",
        "| `mask` | Partially obscure | `****-****-****-1234` | User-facing UI, verification |\n",
        "| `hash` | Deterministic hash | `a8f5f167...` | Analytics without identity |\n",
        "| `block` | Raise exception | Operation blocked | Zero-tolerance compliance |\n",
        "\n",
        "---"
      ]
    },
    {
      "cell_type": "markdown",
      "metadata": {
        "id": "m8ybYwWjMyg-"
      },
      "source": [
        "## Setup: Install Dependencies"
      ]
    },
    {
      "cell_type": "code",
      "execution_count": 16,
      "metadata": {
        "id": "0U5M3-KdMyg-",
        "outputId": "a651db7f-7ce7-4e11-fc51-b52e656349af",
        "colab": {
          "base_uri": "https://localhost:8080/"
        }
      },
      "outputs": [
        {
          "output_type": "stream",
          "name": "stdout",
          "text": [
            "Requirement already satisfied: langchain in /usr/local/lib/python3.12/dist-packages (1.0.0)\n",
            "Requirement already satisfied: langchain-openai in /usr/local/lib/python3.12/dist-packages (1.0.0)\n",
            "Requirement already satisfied: langgraph in /usr/local/lib/python3.12/dist-packages (1.0.0)\n",
            "Requirement already satisfied: langchain-core<2.0.0,>=1.0.0 in /usr/local/lib/python3.12/dist-packages (from langchain) (1.0.0)\n",
            "Requirement already satisfied: pydantic<3.0.0,>=2.7.4 in /usr/local/lib/python3.12/dist-packages (from langchain) (2.11.10)\n",
            "Requirement already satisfied: openai<3.0.0,>=1.109.1 in /usr/local/lib/python3.12/dist-packages (from langchain-openai) (1.109.1)\n",
            "Requirement already satisfied: tiktoken<1.0.0,>=0.7.0 in /usr/local/lib/python3.12/dist-packages (from langchain-openai) (0.12.0)\n",
            "Requirement already satisfied: langgraph-checkpoint<3.0.0,>=2.1.0 in /usr/local/lib/python3.12/dist-packages (from langgraph) (2.1.2)\n",
            "Requirement already satisfied: langgraph-prebuilt<1.1.0,>=1.0.0 in /usr/local/lib/python3.12/dist-packages (from langgraph) (1.0.0)\n",
            "Requirement already satisfied: langgraph-sdk<0.3.0,>=0.2.2 in /usr/local/lib/python3.12/dist-packages (from langgraph) (0.2.9)\n",
            "Requirement already satisfied: xxhash>=3.5.0 in /usr/local/lib/python3.12/dist-packages (from langgraph) (3.6.0)\n",
            "Requirement already satisfied: jsonpatch<2.0.0,>=1.33.0 in /usr/local/lib/python3.12/dist-packages (from langchain-core<2.0.0,>=1.0.0->langchain) (1.33)\n",
            "Requirement already satisfied: langsmith<1.0.0,>=0.3.45 in /usr/local/lib/python3.12/dist-packages (from langchain-core<2.0.0,>=1.0.0->langchain) (0.4.35)\n",
            "Requirement already satisfied: packaging<26.0.0,>=23.2.0 in /usr/local/lib/python3.12/dist-packages (from langchain-core<2.0.0,>=1.0.0->langchain) (25.0)\n",
            "Requirement already satisfied: pyyaml<7.0.0,>=5.3.0 in /usr/local/lib/python3.12/dist-packages (from langchain-core<2.0.0,>=1.0.0->langchain) (6.0.3)\n",
            "Requirement already satisfied: tenacity!=8.4.0,<10.0.0,>=8.1.0 in /usr/local/lib/python3.12/dist-packages (from langchain-core<2.0.0,>=1.0.0->langchain) (8.5.0)\n",
            "Requirement already satisfied: typing-extensions<5.0.0,>=4.7.0 in /usr/local/lib/python3.12/dist-packages (from langchain-core<2.0.0,>=1.0.0->langchain) (4.15.0)\n",
            "Requirement already satisfied: ormsgpack>=1.10.0 in /usr/local/lib/python3.12/dist-packages (from langgraph-checkpoint<3.0.0,>=2.1.0->langgraph) (1.11.0)\n",
            "Requirement already satisfied: httpx>=0.25.2 in /usr/local/lib/python3.12/dist-packages (from langgraph-sdk<0.3.0,>=0.2.2->langgraph) (0.28.1)\n",
            "Requirement already satisfied: orjson>=3.10.1 in /usr/local/lib/python3.12/dist-packages (from langgraph-sdk<0.3.0,>=0.2.2->langgraph) (3.11.3)\n",
            "Requirement already satisfied: anyio<5,>=3.5.0 in /usr/local/lib/python3.12/dist-packages (from openai<3.0.0,>=1.109.1->langchain-openai) (4.11.0)\n",
            "Requirement already satisfied: distro<2,>=1.7.0 in /usr/local/lib/python3.12/dist-packages (from openai<3.0.0,>=1.109.1->langchain-openai) (1.9.0)\n",
            "Requirement already satisfied: jiter<1,>=0.4.0 in /usr/local/lib/python3.12/dist-packages (from openai<3.0.0,>=1.109.1->langchain-openai) (0.11.0)\n",
            "Requirement already satisfied: sniffio in /usr/local/lib/python3.12/dist-packages (from openai<3.0.0,>=1.109.1->langchain-openai) (1.3.1)\n",
            "Requirement already satisfied: tqdm>4 in /usr/local/lib/python3.12/dist-packages (from openai<3.0.0,>=1.109.1->langchain-openai) (4.67.1)\n",
            "Requirement already satisfied: annotated-types>=0.6.0 in /usr/local/lib/python3.12/dist-packages (from pydantic<3.0.0,>=2.7.4->langchain) (0.7.0)\n",
            "Requirement already satisfied: pydantic-core==2.33.2 in /usr/local/lib/python3.12/dist-packages (from pydantic<3.0.0,>=2.7.4->langchain) (2.33.2)\n",
            "Requirement already satisfied: typing-inspection>=0.4.0 in /usr/local/lib/python3.12/dist-packages (from pydantic<3.0.0,>=2.7.4->langchain) (0.4.2)\n",
            "Requirement already satisfied: regex>=2022.1.18 in /usr/local/lib/python3.12/dist-packages (from tiktoken<1.0.0,>=0.7.0->langchain-openai) (2024.11.6)\n",
            "Requirement already satisfied: requests>=2.26.0 in /usr/local/lib/python3.12/dist-packages (from tiktoken<1.0.0,>=0.7.0->langchain-openai) (2.32.4)\n",
            "Requirement already satisfied: idna>=2.8 in /usr/local/lib/python3.12/dist-packages (from anyio<5,>=3.5.0->openai<3.0.0,>=1.109.1->langchain-openai) (3.11)\n",
            "Requirement already satisfied: certifi in /usr/local/lib/python3.12/dist-packages (from httpx>=0.25.2->langgraph-sdk<0.3.0,>=0.2.2->langgraph) (2025.10.5)\n",
            "Requirement already satisfied: httpcore==1.* in /usr/local/lib/python3.12/dist-packages (from httpx>=0.25.2->langgraph-sdk<0.3.0,>=0.2.2->langgraph) (1.0.9)\n",
            "Requirement already satisfied: h11>=0.16 in /usr/local/lib/python3.12/dist-packages (from httpcore==1.*->httpx>=0.25.2->langgraph-sdk<0.3.0,>=0.2.2->langgraph) (0.16.0)\n",
            "Requirement already satisfied: jsonpointer>=1.9 in /usr/local/lib/python3.12/dist-packages (from jsonpatch<2.0.0,>=1.33.0->langchain-core<2.0.0,>=1.0.0->langchain) (3.0.0)\n",
            "Requirement already satisfied: requests-toolbelt>=1.0.0 in /usr/local/lib/python3.12/dist-packages (from langsmith<1.0.0,>=0.3.45->langchain-core<2.0.0,>=1.0.0->langchain) (1.0.0)\n",
            "Requirement already satisfied: zstandard>=0.23.0 in /usr/local/lib/python3.12/dist-packages (from langsmith<1.0.0,>=0.3.45->langchain-core<2.0.0,>=1.0.0->langchain) (0.25.0)\n",
            "Requirement already satisfied: charset_normalizer<4,>=2 in /usr/local/lib/python3.12/dist-packages (from requests>=2.26.0->tiktoken<1.0.0,>=0.7.0->langchain-openai) (3.4.4)\n",
            "Requirement already satisfied: urllib3<3,>=1.21.1 in /usr/local/lib/python3.12/dist-packages (from requests>=2.26.0->tiktoken<1.0.0,>=0.7.0->langchain-openai) (2.5.0)\n",
            "Requirement already satisfied: langgraph-checkpoint-sqlite in /usr/local/lib/python3.12/dist-packages (2.0.11)\n",
            "Requirement already satisfied: aiosqlite>=0.20 in /usr/local/lib/python3.12/dist-packages (from langgraph-checkpoint-sqlite) (0.21.0)\n",
            "Requirement already satisfied: langgraph-checkpoint<3.0.0,>=2.0.21 in /usr/local/lib/python3.12/dist-packages (from langgraph-checkpoint-sqlite) (2.1.2)\n",
            "Requirement already satisfied: sqlite-vec>=0.1.6 in /usr/local/lib/python3.12/dist-packages (from langgraph-checkpoint-sqlite) (0.1.6)\n",
            "Requirement already satisfied: typing_extensions>=4.0 in /usr/local/lib/python3.12/dist-packages (from aiosqlite>=0.20->langgraph-checkpoint-sqlite) (4.15.0)\n",
            "Requirement already satisfied: langchain-core>=0.2.38 in /usr/local/lib/python3.12/dist-packages (from langgraph-checkpoint<3.0.0,>=2.0.21->langgraph-checkpoint-sqlite) (1.0.0)\n",
            "Requirement already satisfied: ormsgpack>=1.10.0 in /usr/local/lib/python3.12/dist-packages (from langgraph-checkpoint<3.0.0,>=2.0.21->langgraph-checkpoint-sqlite) (1.11.0)\n",
            "Requirement already satisfied: jsonpatch<2.0.0,>=1.33.0 in /usr/local/lib/python3.12/dist-packages (from langchain-core>=0.2.38->langgraph-checkpoint<3.0.0,>=2.0.21->langgraph-checkpoint-sqlite) (1.33)\n",
            "Requirement already satisfied: langsmith<1.0.0,>=0.3.45 in /usr/local/lib/python3.12/dist-packages (from langchain-core>=0.2.38->langgraph-checkpoint<3.0.0,>=2.0.21->langgraph-checkpoint-sqlite) (0.4.35)\n",
            "Requirement already satisfied: packaging<26.0.0,>=23.2.0 in /usr/local/lib/python3.12/dist-packages (from langchain-core>=0.2.38->langgraph-checkpoint<3.0.0,>=2.0.21->langgraph-checkpoint-sqlite) (25.0)\n",
            "Requirement already satisfied: pydantic<3.0.0,>=2.7.4 in /usr/local/lib/python3.12/dist-packages (from langchain-core>=0.2.38->langgraph-checkpoint<3.0.0,>=2.0.21->langgraph-checkpoint-sqlite) (2.11.10)\n",
            "Requirement already satisfied: pyyaml<7.0.0,>=5.3.0 in /usr/local/lib/python3.12/dist-packages (from langchain-core>=0.2.38->langgraph-checkpoint<3.0.0,>=2.0.21->langgraph-checkpoint-sqlite) (6.0.3)\n",
            "Requirement already satisfied: tenacity!=8.4.0,<10.0.0,>=8.1.0 in /usr/local/lib/python3.12/dist-packages (from langchain-core>=0.2.38->langgraph-checkpoint<3.0.0,>=2.0.21->langgraph-checkpoint-sqlite) (8.5.0)\n",
            "Requirement already satisfied: jsonpointer>=1.9 in /usr/local/lib/python3.12/dist-packages (from jsonpatch<2.0.0,>=1.33.0->langchain-core>=0.2.38->langgraph-checkpoint<3.0.0,>=2.0.21->langgraph-checkpoint-sqlite) (3.0.0)\n",
            "Requirement already satisfied: httpx<1,>=0.23.0 in /usr/local/lib/python3.12/dist-packages (from langsmith<1.0.0,>=0.3.45->langchain-core>=0.2.38->langgraph-checkpoint<3.0.0,>=2.0.21->langgraph-checkpoint-sqlite) (0.28.1)\n",
            "Requirement already satisfied: orjson>=3.9.14 in /usr/local/lib/python3.12/dist-packages (from langsmith<1.0.0,>=0.3.45->langchain-core>=0.2.38->langgraph-checkpoint<3.0.0,>=2.0.21->langgraph-checkpoint-sqlite) (3.11.3)\n",
            "Requirement already satisfied: requests-toolbelt>=1.0.0 in /usr/local/lib/python3.12/dist-packages (from langsmith<1.0.0,>=0.3.45->langchain-core>=0.2.38->langgraph-checkpoint<3.0.0,>=2.0.21->langgraph-checkpoint-sqlite) (1.0.0)\n",
            "Requirement already satisfied: requests>=2.0.0 in /usr/local/lib/python3.12/dist-packages (from langsmith<1.0.0,>=0.3.45->langchain-core>=0.2.38->langgraph-checkpoint<3.0.0,>=2.0.21->langgraph-checkpoint-sqlite) (2.32.4)\n",
            "Requirement already satisfied: zstandard>=0.23.0 in /usr/local/lib/python3.12/dist-packages (from langsmith<1.0.0,>=0.3.45->langchain-core>=0.2.38->langgraph-checkpoint<3.0.0,>=2.0.21->langgraph-checkpoint-sqlite) (0.25.0)\n",
            "Requirement already satisfied: annotated-types>=0.6.0 in /usr/local/lib/python3.12/dist-packages (from pydantic<3.0.0,>=2.7.4->langchain-core>=0.2.38->langgraph-checkpoint<3.0.0,>=2.0.21->langgraph-checkpoint-sqlite) (0.7.0)\n",
            "Requirement already satisfied: pydantic-core==2.33.2 in /usr/local/lib/python3.12/dist-packages (from pydantic<3.0.0,>=2.7.4->langchain-core>=0.2.38->langgraph-checkpoint<3.0.0,>=2.0.21->langgraph-checkpoint-sqlite) (2.33.2)\n",
            "Requirement already satisfied: typing-inspection>=0.4.0 in /usr/local/lib/python3.12/dist-packages (from pydantic<3.0.0,>=2.7.4->langchain-core>=0.2.38->langgraph-checkpoint<3.0.0,>=2.0.21->langgraph-checkpoint-sqlite) (0.4.2)\n",
            "Requirement already satisfied: anyio in /usr/local/lib/python3.12/dist-packages (from httpx<1,>=0.23.0->langsmith<1.0.0,>=0.3.45->langchain-core>=0.2.38->langgraph-checkpoint<3.0.0,>=2.0.21->langgraph-checkpoint-sqlite) (4.11.0)\n",
            "Requirement already satisfied: certifi in /usr/local/lib/python3.12/dist-packages (from httpx<1,>=0.23.0->langsmith<1.0.0,>=0.3.45->langchain-core>=0.2.38->langgraph-checkpoint<3.0.0,>=2.0.21->langgraph-checkpoint-sqlite) (2025.10.5)\n",
            "Requirement already satisfied: httpcore==1.* in /usr/local/lib/python3.12/dist-packages (from httpx<1,>=0.23.0->langsmith<1.0.0,>=0.3.45->langchain-core>=0.2.38->langgraph-checkpoint<3.0.0,>=2.0.21->langgraph-checkpoint-sqlite) (1.0.9)\n",
            "Requirement already satisfied: idna in /usr/local/lib/python3.12/dist-packages (from httpx<1,>=0.23.0->langsmith<1.0.0,>=0.3.45->langchain-core>=0.2.38->langgraph-checkpoint<3.0.0,>=2.0.21->langgraph-checkpoint-sqlite) (3.11)\n",
            "Requirement already satisfied: h11>=0.16 in /usr/local/lib/python3.12/dist-packages (from httpcore==1.*->httpx<1,>=0.23.0->langsmith<1.0.0,>=0.3.45->langchain-core>=0.2.38->langgraph-checkpoint<3.0.0,>=2.0.21->langgraph-checkpoint-sqlite) (0.16.0)\n",
            "Requirement already satisfied: charset_normalizer<4,>=2 in /usr/local/lib/python3.12/dist-packages (from requests>=2.0.0->langsmith<1.0.0,>=0.3.45->langchain-core>=0.2.38->langgraph-checkpoint<3.0.0,>=2.0.21->langgraph-checkpoint-sqlite) (3.4.4)\n",
            "Requirement already satisfied: urllib3<3,>=1.21.1 in /usr/local/lib/python3.12/dist-packages (from requests>=2.0.0->langsmith<1.0.0,>=0.3.45->langchain-core>=0.2.38->langgraph-checkpoint<3.0.0,>=2.0.21->langgraph-checkpoint-sqlite) (2.5.0)\n",
            "Requirement already satisfied: sniffio>=1.1 in /usr/local/lib/python3.12/dist-packages (from anyio->httpx<1,>=0.23.0->langsmith<1.0.0,>=0.3.45->langchain-core>=0.2.38->langgraph-checkpoint<3.0.0,>=2.0.21->langgraph-checkpoint-sqlite) (1.3.1)\n"
          ]
        }
      ],
      "source": [
        "!pip install --pre -U langchain langchain-openai langgraph\n",
        "!pip install langgraph-checkpoint-sqlite"
      ]
    },
    {
      "cell_type": "markdown",
      "metadata": {
        "id": "_uycLL9SMyg_"
      },
      "source": [
        "## Setup: Imports and Configuration"
      ]
    },
    {
      "cell_type": "code",
      "execution_count": 17,
      "metadata": {
        "id": "esRVm_hPMyhA",
        "outputId": "91b9c472-3b8d-4e7c-e299-154bd15f12b2",
        "colab": {
          "base_uri": "https://localhost:8080/"
        }
      },
      "outputs": [
        {
          "output_type": "stream",
          "name": "stdout",
          "text": [
            "✅ Setup complete!\n",
            "✅ Using LangChain's built-in PIIMiddleware\n"
          ]
        }
      ],
      "source": [
        "from google.colab import userdata\n",
        "import os\n",
        "\n",
        "os.environ['OPENAI_API_KEY'] = userdata.get('OPENAI_API_KEY')\n",
        "\n",
        "# Core imports\n",
        "from langchain.agents import create_agent\n",
        "from langchain.agents.middleware import PIIMiddleware  # ⭐ Built-in!\n",
        "from langchain_core.tools import tool\n",
        "from typing import Annotated\n",
        "\n",
        "print(\"✅ Setup complete!\")\n",
        "print(\"✅ Using LangChain's built-in PIIMiddleware\")"
      ]
    },
    {
      "cell_type": "markdown",
      "metadata": {
        "id": "1lJacVuPMyhA"
      },
      "source": [
        "## Setup: HR Database and Tools"
      ]
    },
    {
      "cell_type": "code",
      "execution_count": 18,
      "metadata": {
        "id": "jmc-ZwG-MyhA",
        "outputId": "965b1564-8035-4c28-d28d-aab7cf2937a0",
        "colab": {
          "base_uri": "https://localhost:8080/"
        }
      },
      "outputs": [
        {
          "output_type": "stream",
          "name": "stdout",
          "text": [
            "✅ Loaded 3 employees with PII data\n"
          ]
        }
      ],
      "source": [
        "# HR Employee Database with PII\n",
        "EMPLOYEES = {\n",
        "    \"101\": {\n",
        "        \"name\": \"Priya Sharma\",\n",
        "        \"email\": \"priya.sharma@company.com\",\n",
        "        \"phone\": \"+91-9876543210\",\n",
        "        \"ssn\": \"123-45-6789\",\n",
        "        \"credit_card\": \"4532-1234-5678-9012\",\n",
        "        \"ip_address\": \"192.168.1.100\",\n",
        "        \"department\": \"Engineering\",\n",
        "        \"role\": \"Senior Developer\",\n",
        "        \"salary\": 120000\n",
        "    },\n",
        "    \"102\": {\n",
        "        \"name\": \"Rahul Verma\",\n",
        "        \"email\": \"rahul.verma@company.com\",\n",
        "        \"phone\": \"+91-9876543211\",\n",
        "        \"ssn\": \"987-65-4321\",\n",
        "        \"credit_card\": \"5412-3456-7890-1234\",\n",
        "        \"ip_address\": \"192.168.1.101\",\n",
        "        \"department\": \"Engineering\",\n",
        "        \"role\": \"Engineering Manager\",\n",
        "        \"salary\": 180000\n",
        "    },\n",
        "    \"103\": {\n",
        "        \"name\": \"Anjali Patel\",\n",
        "        \"email\": \"anjali.patel@company.com\",\n",
        "        \"phone\": \"+91-9876543212\",\n",
        "        \"ssn\": \"456-78-9012\",\n",
        "        \"credit_card\": \"3782-822463-10005\",\n",
        "        \"ip_address\": \"192.168.1.102\",\n",
        "        \"department\": \"HR\",\n",
        "        \"role\": \"HR Director\",\n",
        "        \"salary\": 200000\n",
        "    }\n",
        "}\n",
        "\n",
        "# HR Tools\n",
        "@tool\n",
        "def get_employee_info(employee_id: Annotated[str, \"Employee ID\"]) -> str:\n",
        "    \"\"\"Get employee contact information.\"\"\"\n",
        "    if employee_id in EMPLOYEES:\n",
        "        emp = EMPLOYEES[employee_id]\n",
        "        return f\"\"\"Employee: {emp['name']}\n",
        "Email: {emp['email']}\n",
        "Phone: {emp['phone']}\n",
        "Department: {emp['department']}\n",
        "Role: {emp['role']}\n",
        "IP Address: {emp['ip_address']}\"\"\"\n",
        "    return f\"Employee {employee_id} not found\"\n",
        "\n",
        "@tool\n",
        "def get_financial_info(employee_id: Annotated[str, \"Employee ID\"]) -> str:\n",
        "    \"\"\"Get financial information. SENSITIVE.\"\"\"\n",
        "    if employee_id in EMPLOYEES:\n",
        "        emp = EMPLOYEES[employee_id]\n",
        "        return f\"\"\"Financial Info - {emp['name']}:\n",
        "Annual Salary: ₹{emp['salary']:,}\n",
        "Payment Card: {emp['credit_card']}\n",
        "SSN: {emp['ssn']}\"\"\"\n",
        "    return f\"Employee {employee_id} not found\"\n",
        "\n",
        "print(f\"✅ Loaded {len(EMPLOYEES)} employees with PII data\")"
      ]
    },
    {
      "cell_type": "markdown",
      "metadata": {
        "id": "JGLoovrBMyhB"
      },
      "source": [
        "---\n",
        "# Understanding PIIMiddleware Configuration\n",
        "\n",
        "## Basic Syntax\n",
        "\n",
        "```python\n",
        "PIIMiddleware(\n",
        "    pii_type=\"email\",              # Type of PII to detect\n",
        "    strategy=\"redact\",             # How to handle: redact/mask/hash/block\n",
        "    apply_to_input=True,           # Check user messages\n",
        "    apply_to_output=False,         # Check AI messages\n",
        "    apply_to_tool_results=False,   # Check tool outputs\n",
        ")\n",
        "```\n",
        "\n",
        "## Parameters\n",
        "\n",
        "| Parameter | Type | Description | Default |\n",
        "|-----------|------|-------------|----------|\n",
        "| `pii_type` | str | Built-in type: `email`, `credit_card`, `ip`, etc. | Required |\n",
        "| `strategy` | str | `redact`, `mask`, `hash`, or `block` | `\"redact\"` |\n",
        "| `detector` | str | Custom regex pattern (overrides built-in) | None |\n",
        "| `apply_to_input` | bool | Process user messages before model | `True` |\n",
        "| `apply_to_output` | bool | Process AI responses after model | `False` |\n",
        "| `apply_to_tool_results` | bool | Process tool outputs | `False` |\n",
        "\n",
        "## Built-in PII Types\n",
        "\n",
        "- `email` - Email addresses\n",
        "- `credit_card` - Credit card numbers (Luhn algorithm validated)\n",
        "- `ip` - IP addresses (IPv4/IPv6)\n",
        "- `mac_address` - MAC addresses\n",
        "- `url` - URLs\n",
        "\n",
        "---"
      ]
    },
    {
      "cell_type": "markdown",
      "metadata": {
        "id": "hpeFL5F8MyhB"
      },
      "source": [
        "---\n",
        "# Example 1: REDACT Strategy 🚫\n",
        "\n",
        "## What is Redaction?\n",
        "\n",
        "Complete removal with type markers:\n",
        "```\n",
        "Input:  \"Email: john@company.com\"\n",
        "Output: \"Email: [REDACTED_EMAIL]\"\n",
        "```\n",
        "\n",
        "**Use Cases:** Audit logs, public data, training datasets, GDPR compliance\n",
        "\n",
        "---"
      ]
    },
    {
      "cell_type": "markdown",
      "metadata": {
        "id": "dhVmIW8FMyhB"
      },
      "source": [
        "## Lab 1.1: Redact Email and IP Addresses"
      ]
    },
    {
      "cell_type": "code",
      "execution_count": 20,
      "metadata": {
        "id": "TzRna4oQMyhB",
        "outputId": "cc19613a-29d6-420e-a8ae-4b2ea7426248",
        "colab": {
          "base_uri": "https://localhost:8080/"
        }
      },
      "outputs": [
        {
          "output_type": "stream",
          "name": "stdout",
          "text": [
            "✅ Agent with REDACT strategy created!\n"
          ]
        }
      ],
      "source": [
        "# Create agent with REDACT strategy\n",
        "redact_agent = create_agent(\n",
        "    model=\"openai:gpt-4o-mini\",\n",
        "    tools=[get_employee_info],\n",
        "    middleware=[\n",
        "        # Redact emails in tool outputs\n",
        "        PIIMiddleware(\n",
        "            pii_type=\"email\",\n",
        "            strategy=\"redact\",\n",
        "            apply_to_input=False,\n",
        "            apply_to_output=True,          # Check AI responses\n",
        "            apply_to_tool_results=True,    # Check tool outputs\n",
        "        ),\n",
        "        # Redact IP addresses\n",
        "        PIIMiddleware(\n",
        "            pii_type=\"ip\",\n",
        "            strategy=\"redact\",\n",
        "            apply_to_input=False,\n",
        "            apply_to_output=True,\n",
        "            apply_to_tool_results=True,\n",
        "        ),\n",
        "    ],\n",
        "    system_prompt=\"\"\"You are an HR assistant. Provide employee information.\n",
        "    Note: Emails and IPs are automatically redacted for compliance.\"\"\"\n",
        ")\n",
        "\n",
        "print(\"✅ Agent with REDACT strategy created!\")"
      ]
    },
    {
      "cell_type": "markdown",
      "metadata": {
        "id": "_dRVZi57MyhB"
      },
      "source": [
        "## Lab 1.2: Test REDACT Strategy"
      ]
    },
    {
      "cell_type": "code",
      "execution_count": 21,
      "metadata": {
        "id": "DZ0qHOnQMyhC",
        "outputId": "ebf9db62-7024-401a-ca22-e901b0ed518d",
        "colab": {
          "base_uri": "https://localhost:8080/"
        }
      },
      "outputs": [
        {
          "output_type": "stream",
          "name": "stdout",
          "text": [
            "======================================================================\n",
            "EXAMPLE 1: REDACT STRATEGY\n",
            "======================================================================\n",
            "\n",
            "🤖 Agent Response (Emails and IPs redacted):\n",
            "Here is the contact information for employee 101:\n",
            "\n",
            "- **Name:** Priya Sharma\n",
            "- **Email:** [REDACTED_EMAIL]\n",
            "- **Phone:** +91-9876543210\n",
            "- **Department:** Engineering\n",
            "- **Role:** Senior Developer\n",
            "\n",
            "✅ Notice: Email and IP addresses are replaced with [REDACTED_TYPE]\n"
          ]
        }
      ],
      "source": [
        "print(\"=\" * 70)\n",
        "print(\"EXAMPLE 1: REDACT STRATEGY\")\n",
        "print(\"=\" * 70)\n",
        "\n",
        "result = redact_agent.invoke({\n",
        "    \"messages\": [{\"role\": \"user\", \"content\": \"Get contact information for employee 101\"}]\n",
        "})\n",
        "\n",
        "print(\"\\n🤖 Agent Response (Emails and IPs redacted):\")\n",
        "print(result['messages'][-1].content)\n",
        "\n",
        "print(\"\\n✅ Notice: Email and IP addresses are replaced with [REDACTED_TYPE]\")"
      ]
    },
    {
      "cell_type": "markdown",
      "metadata": {
        "id": "XdBA4wL2MyhC"
      },
      "source": [
        "---\n",
        "# Example 2: MASK Strategy 🎭\n",
        "\n",
        "## What is Masking?\n",
        "\n",
        "Partial obscuring with last digits visible:\n",
        "```\n",
        "Input:  \"Card: 4532-1234-5678-9012\"\n",
        "Output: \"Card: ****-****-****-9012\"\n",
        "```\n",
        "\n",
        "**Use Cases:** Customer service UI, payment confirmations, account verification\n",
        "\n",
        "---"
      ]
    },
    {
      "cell_type": "markdown",
      "metadata": {
        "id": "KffeCtfyMyhC"
      },
      "source": [
        "## Lab 2.1: Mask Credit Card Numbers"
      ]
    },
    {
      "cell_type": "code",
      "execution_count": 24,
      "metadata": {
        "id": "p_UtQx8FMyhC",
        "outputId": "d881899d-5c40-4a83-8104-53b7ebd8e622",
        "colab": {
          "base_uri": "https://localhost:8080/"
        }
      },
      "outputs": [
        {
          "output_type": "stream",
          "name": "stdout",
          "text": [
            "✅ Agent with MASK strategy created!\n"
          ]
        }
      ],
      "source": [
        "# Create agent with MASK strategy\n",
        "mask_agent = create_agent(\n",
        "    model=\"openai:gpt-4o-mini\",\n",
        "    tools=[get_financial_info],\n",
        "    middleware=[\n",
        "        # Mask credit card numbers (show last 4 digits)\n",
        "        PIIMiddleware(\n",
        "            pii_type=\"credit_card\",\n",
        "            strategy=\"mask\",\n",
        "            apply_to_input=False,\n",
        "            apply_to_output=True,\n",
        "            apply_to_tool_results=True,\n",
        "        ),\n",
        "    ],\n",
        "    system_prompt=\"\"\"You are an HR assistant handling financial information.\n",
        "    Note: Credit card numbers are partially masked for security.\"\"\"\n",
        ")\n",
        "\n",
        "print(\"✅ Agent with MASK strategy created!\")"
      ]
    },
    {
      "cell_type": "markdown",
      "metadata": {
        "id": "EaruAJwiMyhC"
      },
      "source": [
        "## Lab 2.2: Test MASK Strategy"
      ]
    },
    {
      "cell_type": "code",
      "execution_count": 25,
      "metadata": {
        "id": "Vm3jtPYQMyhC",
        "outputId": "80b84533-87d3-4b17-85fc-9c4c7df61101",
        "colab": {
          "base_uri": "https://localhost:8080/"
        }
      },
      "outputs": [
        {
          "output_type": "stream",
          "name": "stdout",
          "text": [
            "======================================================================\n",
            "EXAMPLE 2: MASK STRATEGY\n",
            "======================================================================\n",
            "\n",
            "🤖 Agent Response (Credit cards masked):\n",
            "Here is the financial information for employee 102, Rahul Verma:\n",
            "\n",
            "- **Annual Salary:** ₹180,000\n",
            "- **Payment Card:** 5412-****-****-1234\n",
            "- **SSN:** 987-65-4321\n",
            "\n",
            "If you need any further information, feel free to ask!\n",
            "\n",
            "✅ Notice: Credit card shows only last 4 digits: ****-****-****-1234\n"
          ]
        }
      ],
      "source": [
        "print(\"=\" * 70)\n",
        "print(\"EXAMPLE 2: MASK STRATEGY\")\n",
        "print(\"=\" * 70)\n",
        "\n",
        "result = mask_agent.invoke({\n",
        "    \"messages\": [{\"role\": \"user\", \"content\": \"Get financial info for employee 102\"}]\n",
        "})\n",
        "\n",
        "print(\"\\n🤖 Agent Response (Credit cards masked):\")\n",
        "print(result['messages'][-1].content)\n",
        "\n",
        "print(\"\\n✅ Notice: Credit card shows only last 4 digits: ****-****-****-1234\")"
      ]
    },
    {
      "cell_type": "markdown",
      "metadata": {
        "id": "NaPKqg8zMyhD"
      },
      "source": [
        "---\n",
        "# Example 3: HASH Strategy #️⃣\n",
        "\n",
        "## What is Hashing?\n",
        "\n",
        "Deterministic one-way transformation:\n",
        "```\n",
        "Input:  \"Email: john@company.com\"\n",
        "Output: \"Email: a8f5f167f44f4964...\"\n",
        "```\n",
        "\n",
        "**Properties:**\n",
        "- Same input → Same hash (deterministic)\n",
        "- Cannot reverse to original\n",
        "- Good for analytics and tracking\n",
        "\n",
        "**Use Cases:** Analytics without identity, user tracking, de-duplication\n",
        "\n",
        "---"
      ]
    },
    {
      "cell_type": "markdown",
      "metadata": {
        "id": "SciukHGDMyhD"
      },
      "source": [
        "## Lab 3.1: Hash Email Addresses"
      ]
    },
    {
      "cell_type": "code",
      "execution_count": 26,
      "metadata": {
        "id": "95VwyE0xMyhD",
        "outputId": "c211b7ff-940e-4662-d113-3dd035811676",
        "colab": {
          "base_uri": "https://localhost:8080/"
        }
      },
      "outputs": [
        {
          "output_type": "stream",
          "name": "stdout",
          "text": [
            "✅ Agent with HASH strategy created!\n"
          ]
        }
      ],
      "source": [
        "# Create agent with HASH strategy\n",
        "hash_agent = create_agent(\n",
        "    model=\"openai:gpt-4o-mini\",\n",
        "    tools=[get_employee_info],\n",
        "    middleware=[\n",
        "        # Hash email addresses for analytics\n",
        "        PIIMiddleware(\n",
        "            pii_type=\"email\",\n",
        "            strategy=\"hash\",\n",
        "            apply_to_input=False,\n",
        "            apply_to_output=True,\n",
        "            apply_to_tool_results=True,\n",
        "        ),\n",
        "    ],\n",
        "    system_prompt=\"\"\"You are an HR analytics assistant.\n",
        "    Note: Emails are hashed for analytics while maintaining referential integrity.\"\"\"\n",
        ")\n",
        "\n",
        "print(\"✅ Agent with HASH strategy created!\")"
      ]
    },
    {
      "cell_type": "markdown",
      "metadata": {
        "id": "WU8i4eyqMyhD"
      },
      "source": [
        "## Lab 3.2: Test HASH Strategy"
      ]
    },
    {
      "cell_type": "code",
      "execution_count": 27,
      "metadata": {
        "id": "rsfl_Z5rMyhD",
        "outputId": "a88c1ca5-79eb-4ba9-b1fe-c15af2334532",
        "colab": {
          "base_uri": "https://localhost:8080/"
        }
      },
      "outputs": [
        {
          "output_type": "stream",
          "name": "stdout",
          "text": [
            "======================================================================\n",
            "EXAMPLE 3: HASH STRATEGY\n",
            "======================================================================\n",
            "\n",
            "Query 1: Employee 103\n",
            "Response: Here is the contact information for employee 103:\n",
            "\n",
            "- **Name:** Anjali Patel\n",
            "- **Email:** (hashed)\n",
            "- **Phone:** +91-9876543212\n",
            "- **Department:** HR\n",
            "- **Role:** HR Director\n",
            "- **IP Address:** 192.168.1.102\n",
            "\n",
            "======================================================================\n",
            "Query 2: Same employee (103) again\n",
            "Response: Here is the information for employee 103:\n",
            "\n",
            "- **Name:** Anjali Patel\n",
            "- **Email:** (hashed) `<email_hash:6e30e32c>`\n",
            "- **Phone:** +91-9876543212\n",
            "- **Department:** HR\n",
            "- **Role:** HR Director\n",
            "- **IP Address:** 192.168.1.102\n",
            "\n",
            "✅ Notice: Same email produces same hash (deterministic)\n"
          ]
        }
      ],
      "source": [
        "print(\"=\" * 70)\n",
        "print(\"EXAMPLE 3: HASH STRATEGY\")\n",
        "print(\"=\" * 70)\n",
        "\n",
        "# First query\n",
        "print(\"\\nQuery 1: Employee 103\")\n",
        "result1 = hash_agent.invoke({\n",
        "    \"messages\": [{\"role\": \"user\", \"content\": \"Get contact info for employee 103\"}]\n",
        "})\n",
        "print(f\"Response: {result1['messages'][-1].content}\")\n",
        "\n",
        "# Second query - same employee\n",
        "print(\"\\n\" + \"=\"*70)\n",
        "print(\"Query 2: Same employee (103) again\")\n",
        "result2 = hash_agent.invoke({\n",
        "    \"messages\": [{\"role\": \"user\", \"content\": \"Show me employee 103 info again\"}]\n",
        "})\n",
        "print(f\"Response: {result2['messages'][-1].content}\")\n",
        "\n",
        "print(\"\\n✅ Notice: Same email produces same hash (deterministic)\")"
      ]
    },
    {
      "cell_type": "markdown",
      "metadata": {
        "id": "LVNBV2aBMyhD"
      },
      "source": [
        "---\n",
        "# Example 4: BLOCK Strategy ⛔\n",
        "\n",
        "## What is Blocking?\n",
        "\n",
        "Immediately stop execution when PII detected:\n",
        "```\n",
        "Input: \"My SSN is 123-45-6789\"\n",
        "Result: ⛔ Error - PII detected, operation blocked!\n",
        "```\n",
        "\n",
        "**Use Cases:** Zero-tolerance compliance, HIPAA, PCI-DSS, systems that log everything\n",
        "\n",
        "---"
      ]
    },
    {
      "cell_type": "markdown",
      "metadata": {
        "id": "Ok2G237PMyhD"
      },
      "source": [
        "## Lab 4.1: Block SSN in User Input"
      ]
    },
    {
      "cell_type": "code",
      "execution_count": 29,
      "metadata": {
        "id": "fPrCo7cVMyhE",
        "outputId": "2673aa52-3bbd-4dda-ddda-b6df2caf6379",
        "colab": {
          "base_uri": "https://localhost:8080/"
        }
      },
      "outputs": [
        {
          "output_type": "stream",
          "name": "stdout",
          "text": [
            "✅ Agent with BLOCK strategy created!\n"
          ]
        }
      ],
      "source": [
        "# Create agent with BLOCK strategy\n",
        "block_agent = create_agent(\n",
        "    model=\"openai:gpt-4o-mini\",\n",
        "    tools=[get_employee_info],\n",
        "    middleware=[\n",
        "        # Block SSN in user input (custom regex for SSN)\n",
        "        PIIMiddleware(\n",
        "            pii_type=\"ssn\",\n",
        "            detector=r\"\\b\\d{3}-\\d{2}-\\d{4}\\b\",  # Custom SSN pattern\n",
        "            strategy=\"block\",\n",
        "            apply_to_input=True,   # Check user input!\n",
        "            apply_to_output=False,\n",
        "        ),\n",
        "        # Block credit cards in user input\n",
        "        PIIMiddleware(\n",
        "            pii_type=\"credit_card\",\n",
        "            strategy=\"block\",\n",
        "            apply_to_input=True,\n",
        "            apply_to_output=False,\n",
        "        ),\n",
        "    ],\n",
        "    system_prompt=\"\"\"You are an HR assistant with strict PII protection.\n",
        "    Note: SSN and Credit Cards in user input are BLOCKED (zero-tolerance).\"\"\"\n",
        ")\n",
        "\n",
        "print(\"✅ Agent with BLOCK strategy created!\")"
      ]
    },
    {
      "cell_type": "markdown",
      "metadata": {
        "id": "BdIj0SNjMyhE"
      },
      "source": [
        "## Lab 4.2: Test BLOCK Strategy"
      ]
    },
    {
      "cell_type": "code",
      "execution_count": 30,
      "metadata": {
        "id": "HjMr5ZANMyhE",
        "outputId": "bf9ad14f-77ef-4ef0-e876-47a409e71c36",
        "colab": {
          "base_uri": "https://localhost:8080/"
        }
      },
      "outputs": [
        {
          "output_type": "stream",
          "name": "stdout",
          "text": [
            "======================================================================\n",
            "EXAMPLE 4: BLOCK STRATEGY\n",
            "======================================================================\n",
            "\n",
            "Test 1: Normal query without PII (ALLOWED)\n",
            "======================================================================\n",
            "✅ Query allowed - No PII detected\n",
            "Response: Employee 101, Priya Sharma, is part of the Engineering department and holds the role of Senior Developer. If you need further details, feel free to as...\n",
            "\n",
            "======================================================================\n",
            "Test 2: Query with SSN (BLOCKED)\n",
            "======================================================================\n",
            "⛔ BLOCKED: PIIDetectionError\n",
            "Error: Detected 1 instance(s) of ssn in text content\n",
            "\n",
            "======================================================================\n",
            "Test 3: Query with Credit Card (BLOCKED)\n",
            "======================================================================\n",
            "Response: I'm sorry, but I can't process credit card information. If you need assistance with a different request, feel free to let me know!\n",
            "\n",
            "✅ BLOCK strategy prevents processing when critical PII detected\n"
          ]
        }
      ],
      "source": [
        "print(\"=\" * 70)\n",
        "print(\"EXAMPLE 4: BLOCK STRATEGY\")\n",
        "print(\"=\" * 70)\n",
        "\n",
        "# Test 1: Normal query (no PII) - Should work\n",
        "print(\"\\nTest 1: Normal query without PII (ALLOWED)\")\n",
        "print(\"=\"*70)\n",
        "\n",
        "try:\n",
        "    result = block_agent.invoke({\n",
        "        \"messages\": [{\"role\": \"user\", \"content\": \"Tell me about employee 101's department\"}]\n",
        "    })\n",
        "    print(\"✅ Query allowed - No PII detected\")\n",
        "    print(f\"Response: {result['messages'][-1].content[:150]}...\")\n",
        "except Exception as e:\n",
        "    print(f\"❌ Blocked: {e}\")\n",
        "\n",
        "# Test 2: Query with SSN - Should be BLOCKED\n",
        "print(\"\\n\" + \"=\"*70)\n",
        "print(\"Test 2: Query with SSN (BLOCKED)\")\n",
        "print(\"=\"*70)\n",
        "\n",
        "try:\n",
        "    result = block_agent.invoke({\n",
        "        \"messages\": [{\"role\": \"user\", \"content\": \"My SSN is 123-45-6789, can you help?\"}]\n",
        "    })\n",
        "    print(\"Response:\", result['messages'][-1].content)\n",
        "except Exception as e:\n",
        "    print(f\"⛔ BLOCKED: {type(e).__name__}\")\n",
        "    print(f\"Error: {str(e)}\")\n",
        "\n",
        "# Test 3: Query with Credit Card - Should be BLOCKED\n",
        "print(\"\\n\" + \"=\"*70)\n",
        "print(\"Test 3: Query with Credit Card (BLOCKED)\")\n",
        "print(\"=\"*70)\n",
        "\n",
        "try:\n",
        "    result = block_agent.invoke({\n",
        "        \"messages\": [{\"role\": \"user\", \"content\": \"Update card to 4532-1234-5678-9012\"}]\n",
        "    })\n",
        "    print(\"Response:\", result['messages'][-1].content)\n",
        "except Exception as e:\n",
        "    print(f\"⛔ BLOCKED: {type(e).__name__}\")\n",
        "    print(f\"Error: {str(e)}\")\n",
        "\n",
        "print(\"\\n✅ BLOCK strategy prevents processing when critical PII detected\")"
      ]
    },
    {
      "cell_type": "markdown",
      "metadata": {
        "id": "EpUmPRzSMyhE"
      },
      "source": [
        "---\n",
        "# Production Pattern: Multi-Layer Protection\n",
        "\n",
        "## Best Practice: Combine Multiple Strategies\n",
        "\n",
        "In production, use **layered protection**:\n",
        "- **BLOCK** critical PII in input (SSN, Credit Cards)\n",
        "- **MASK** or **REDACT** moderate PII in output (Emails, Phones)\n",
        "\n",
        "---"
      ]
    },
    {
      "cell_type": "markdown",
      "metadata": {
        "id": "fwG4Y2fpMyhE"
      },
      "source": [
        "## Lab 5: Production-Ready Multi-Layer Protection"
      ]
    },
    {
      "cell_type": "code",
      "execution_count": 32,
      "metadata": {
        "id": "SxSJveR-MyhE",
        "outputId": "b23f2835-5bff-4dd1-b054-8b2132279895",
        "colab": {
          "base_uri": "https://localhost:8080/"
        }
      },
      "outputs": [
        {
          "output_type": "stream",
          "name": "stdout",
          "text": [
            "======================================================================\n",
            "PRODUCTION: Multi-Layer PII Protection\n",
            "======================================================================\n",
            "\n",
            "Test: Get employee info (emails redacted, IPs masked)\n",
            "\n",
            "🤖 Response:\n",
            "Here is the contact information for employee 101:\n",
            "\n",
            "- **Name:** Priya Sharma\n",
            "- **Email:** [REDACTED]\n",
            "- **Phone:** +91-9876543210\n",
            "- **Department:** Engineering\n",
            "- **Role:** Senior Developer\n",
            "- **IP Address:** *.*.*.100 (masked for privacy)\n",
            "\n",
            "✅ Production agent with defense-in-depth PII protection!\n"
          ]
        }
      ],
      "source": [
        "# Create production agent with layered PII protection\n",
        "production_agent = create_agent(\n",
        "    model=\"openai:gpt-4o-mini\",\n",
        "    tools=[get_employee_info, get_financial_info],\n",
        "    middleware=[\n",
        "        # Layer 1: BLOCK critical PII in user input (zero-tolerance)\n",
        "        PIIMiddleware(\n",
        "            pii_type=\"ssn\",\n",
        "            detector=r\"\\b\\d{3}-\\d{2}-\\d{4}\\b\",\n",
        "            strategy=\"block\",\n",
        "            apply_to_input=True,\n",
        "        ),\n",
        "        PIIMiddleware(\n",
        "            pii_type=\"credit_card\",\n",
        "            strategy=\"block\",\n",
        "            apply_to_input=True,\n",
        "        ),\n",
        "\n",
        "        # Layer 2: REDACT emails in output (audit-friendly)\n",
        "        PIIMiddleware(\n",
        "            pii_type=\"email\",\n",
        "            strategy=\"redact\",\n",
        "            apply_to_output=True,\n",
        "            apply_to_tool_results=True,\n",
        "        ),\n",
        "\n",
        "        # Layer 3: MASK IPs in output (partial visibility)\n",
        "        PIIMiddleware(\n",
        "            pii_type=\"ip\",\n",
        "            strategy=\"mask\",\n",
        "            apply_to_output=True,\n",
        "            apply_to_tool_results=True,\n",
        "        ),\n",
        "    ],\n",
        "    system_prompt=\"\"\"You are a production HR assistant with multi-layer PII protection:\n",
        "\n",
        "    Layer 1 (Input): SSN/Credit Cards → BLOCKED (zero-tolerance)\n",
        "    Layer 2 (Output): Emails → REDACTED (compliance)\n",
        "    Layer 3 (Output): IPs → MASKED (partial visibility)\n",
        "\n",
        "    Provide helpful information while maintaining security.\"\"\"\n",
        ")\n",
        "\n",
        "print(\"=\" * 70)\n",
        "print(\"PRODUCTION: Multi-Layer PII Protection\")\n",
        "print(\"=\" * 70)\n",
        "\n",
        "# Test: Normal query should work with redaction/masking\n",
        "print(\"\\nTest: Get employee info (emails redacted, IPs masked)\")\n",
        "result = production_agent.invoke({\n",
        "    \"messages\": [{\"role\": \"user\", \"content\": \"Get contact information for employee 101\"}]\n",
        "})\n",
        "\n",
        "print(\"\\n🤖 Response:\")\n",
        "print(result['messages'][-1].content)\n",
        "\n",
        "print(\"\\n✅ Production agent with defense-in-depth PII protection!\")"
      ]
    },
    {
      "cell_type": "markdown",
      "metadata": {
        "id": "1yEF9py5MyhF"
      },
      "source": [
        "---\n",
        "# Advanced: Custom PII Detector\n",
        "\n",
        "## Using Custom Regex Patterns\n",
        "\n",
        "You can define custom PII types with regex:\n",
        "\n",
        "---"
      ]
    },
    {
      "cell_type": "markdown",
      "metadata": {
        "id": "JSsQfTl3MyhF"
      },
      "source": [
        "## Lab 6: Custom API Key Detection"
      ]
    },
    {
      "cell_type": "code",
      "execution_count": 34,
      "metadata": {
        "id": "AHiQNPXrMyhF",
        "outputId": "8b8780d7-00a9-4e40-855f-32319b80c0c0",
        "colab": {
          "base_uri": "https://localhost:8080/"
        }
      },
      "outputs": [
        {
          "output_type": "stream",
          "name": "stdout",
          "text": [
            "======================================================================\n",
            "ADVANCED: Custom PII Detection\n",
            "======================================================================\n",
            "\n",
            "Test: Query with fake API key (BLOCKED)\n",
            "⛔ BLOCKED: PIIDetectionError\n",
            "Reason: API key detected in user input\n",
            "\n",
            "✅ Custom regex patterns allow organization-specific PII detection\n"
          ]
        }
      ],
      "source": [
        "# Agent that blocks API keys\n",
        "api_key_agent = create_agent(\n",
        "    model=\"openai:gpt-4o-mini\",\n",
        "    tools=[get_employee_info],\n",
        "    middleware=[\n",
        "        # Block OpenAI-style API keys\n",
        "        PIIMiddleware(\n",
        "            pii_type=\"api_key\",\n",
        "            detector=r\"sk-[a-zA-Z0-9]{48}\",  # Custom pattern\n",
        "            strategy=\"block\",\n",
        "            apply_to_input=True,\n",
        "        ),\n",
        "        # Block AWS-style access keys\n",
        "        PIIMiddleware(\n",
        "            pii_type=\"aws_key\",\n",
        "            detector=r\"AKIA[0-9A-Z]{16}\",  # AWS pattern\n",
        "            strategy=\"block\",\n",
        "            apply_to_input=True,\n",
        "        ),\n",
        "    ],\n",
        "    system_prompt=\"You are an assistant that blocks API keys for security.\"\n",
        ")\n",
        "\n",
        "print(\"=\" * 70)\n",
        "print(\"ADVANCED: Custom PII Detection\")\n",
        "print(\"=\" * 70)\n",
        "\n",
        "# Test with mock API key\n",
        "print(\"\\nTest: Query with fake API key (BLOCKED)\")\n",
        "try:\n",
        "    result = api_key_agent.invoke({\n",
        "        \"messages\": [{\"role\": \"user\", \"content\": \"My key is sk-\" + \"a\"*48}]\n",
        "    })\n",
        "    print(\"Response:\", result['messages'][-1].content)\n",
        "except Exception as e:\n",
        "    print(f\"⛔ BLOCKED: {type(e).__name__}\")\n",
        "    print(f\"Reason: API key detected in user input\")\n",
        "\n",
        "print(\"\\n✅ Custom regex patterns allow organization-specific PII detection\")"
      ]
    },
    {
      "cell_type": "markdown",
      "metadata": {
        "id": "kP2mHfqCMyhF"
      },
      "source": [
        "---\n",
        "# Summary\n",
        "\n",
        "## Built-in PIIMiddleware Benefits\n",
        "\n",
        "✅ **No custom code needed** - Just configure and use  \n",
        "✅ **Multiple strategies** - Redact, Mask, Hash, Block  \n",
        "✅ **Flexible application** - Input, output, or tool results  \n",
        "✅ **Custom patterns** - Use regex for organization-specific PII  \n",
        "✅ **Composable** - Stack multiple middleware for layered protection  \n",
        "\n",
        "## Strategy Selection Guide\n",
        "\n",
        "| Scenario | Strategy | Configuration |\n",
        "|----------|----------|---------------|\n",
        "| **Audit logs** | REDACT | `apply_to_output=True` |\n",
        "| **Customer UI** | MASK | `apply_to_output=True` |\n",
        "| **Analytics** | HASH | `apply_to_output=True` |\n",
        "| **Compliance** | BLOCK | `apply_to_input=True` |\n",
        "| **Production** | BLOCK + REDACT/MASK | Both layers |\n",
        "\n",
        "## Configuration Quick Reference\n",
        "\n",
        "```python\n",
        "PIIMiddleware(\n",
        "    pii_type=\"email\",           # Built-in: email, credit_card, ip, etc.\n",
        "    strategy=\"redact\",          # redact, mask, hash, block\n",
        "    detector=r\"custom pattern\", # Optional: override built-in\n",
        "    apply_to_input=True,        # Check user messages\n",
        "    apply_to_output=False,      # Check AI responses\n",
        "    apply_to_tool_results=False # Check tool outputs\n",
        ")\n",
        "```\n",
        "\n",
        "## Production Checklist\n",
        "\n",
        "- [ ] Identify all PII types in your system\n",
        "- [ ] Map compliance requirements to strategies\n",
        "- [ ] Layer BLOCK for input + REDACT/MASK for output\n",
        "- [ ] Test with sample PII data\n",
        "- [ ] Add custom detectors for organization-specific PII\n",
        "- [ ] Document configuration for compliance audits\n",
        "- [ ] Regular review and updates\n",
        "\n",
        "---\n",
        "\n",
        "**Congratulations!** 🎉 You now know how to use LangChain's built-in PIIMiddleware for comprehensive PII protection!"
      ]
    }
  ],
  "metadata": {
    "kernelspec": {
      "display_name": "Python 3",
      "language": "python",
      "name": "python3"
    },
    "language_info": {
      "codemirror_mode": {
        "name": "ipython",
        "version": 3
      },
      "file_extension": ".py",
      "mimetype": "text/x-python",
      "name": "python",
      "nbconvert_exporter": "python",
      "pygments_lexer": "ipython3",
      "version": "3.11.0"
    },
    "colab": {
      "provenance": []
    }
  },
  "nbformat": 4,
  "nbformat_minor": 0
}