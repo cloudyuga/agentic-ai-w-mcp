{
  "cells": [
    {
      "cell_type": "code",
      "metadata": {
        "id": "a95b6fdb"
      },
      "source": [
        "%pip install -U langgraph"
      ],
      "execution_count": null,
      "outputs": []
    },
    {
      "cell_type": "code",
      "source": [
        "from langgraph.func import entrypoint, task\n",
        "from langgraph.checkpoint.memory import MemorySaver\n",
        "import time\n",
        "import os\n",
        "\n",
        "# from google.colab import userdata\n",
        "# os.environ[\"OPENAI_API_KEY\"] = userdata.get('OPENAI_API_KEY')\n",
        "\n",
        "@task\n",
        "def call_background_check_api(candidate_id: str) -> dict:\n",
        "    print(f\"--- TASK: Calling background check API for {candidate_id} ($25 charge) ---\")\n",
        "    time.sleep(2)\n",
        "    return {\n",
        "        \"criminal_record\": \"clear\",\n",
        "        \"employment_verified\": True,\n",
        "    }\n",
        "\n",
        "@task\n",
        "def call_reference_check_service(candidate_id: str) -> list:\n",
        "    print(f\"--- TASK: Calling reference check service for {candidate_id} (10 min wait) ---\")\n",
        "    time.sleep(1)\n",
        "    return [\n",
        "        {\"reference\": \"Manager A\", \"rating\": 5},\n",
        "        {\"reference\": \"Colleague B\", \"rating\": 4}\n",
        "    ]\n",
        "\n",
        "@entrypoint(checkpointer=MemorySaver())\n",
        "def complete_screening(candidate_id: str) -> dict:\n",
        "    print(f\"\\n--- WORKFLOW: Starting complete screening for {candidate_id} ---\")\n",
        "\n",
        "    background = call_background_check_api(candidate_id).result()\n",
        "    references = call_reference_check_service(candidate_id).result()\n",
        "\n",
        "    decision = \"Approved\" if background[\"criminal_record\"] == \"clear\" else \"Rejected\"\n",
        "\n",
        "    print(f\"--- WORKFLOW: Decision for {candidate_id} is {decision} ---\")\n",
        "\n",
        "    return {\n",
        "        \"candidate_id\": candidate_id,\n",
        "        \"background\": background,\n",
        "        \"references\": references,\n",
        "        \"decision\": decision\n",
        "    }\n",
        "\n",
        "if __name__ == \"__main__\":\n",
        "    thread_config = {\"thread_id\": \"screening_007\"}\n",
        "\n",
        "    print(\"=\"*60)\n",
        "    print(\"RUN 1: Executing all expensive tasks...\")\n",
        "    print(\"=\"*60)\n",
        "    result1 = complete_screening.invoke(\"CAND_12345\", config=thread_config)\n",
        "\n",
        "    print(\"\\n\" + \"=\"*60)\n",
        "    print(\"RUN 2: Using cached results from checkpoints...\")\n",
        "    print(\"=\"*60)\n",
        "    result2 = complete_screening.invoke(\"CAND_12345\", config=thread_config)\n",
        "\n",
        "    print(\"\\n--- FINAL DECISION ---\")\n",
        "    print(result2.get(\"decision\"))"
      ],
      "outputs": [
        {
          "output_type": "stream",
          "name": "stdout",
          "text": [
            "============================================================\n",
            "RUN 1: Executing all expensive tasks...\n",
            "============================================================\n",
            "\n",
            "--- WORKFLOW: Starting complete screening for CAND_12345 ---\n",
            "--- TASK: Calling background check API for CAND_12345 ($25 charge) ---\n",
            "--- TASK: Calling reference check service for CAND_12345 (10 min wait) ---\n",
            "--- WORKFLOW: Decision for CAND_12345 is Approved ---\n",
            "\n",
            "============================================================\n",
            "RUN 2: Using cached results from checkpoints...\n",
            "============================================================\n",
            "\n",
            "--- WORKFLOW: Starting complete screening for CAND_12345 ---\n",
            "--- TASK: Calling background check API for CAND_12345 ($25 charge) ---\n",
            "--- TASK: Calling reference check service for CAND_12345 (10 min wait) ---\n",
            "--- WORKFLOW: Decision for CAND_12345 is Approved ---\n",
            "\n",
            "--- FINAL DECISION ---\n",
            "Approved\n"
          ]
        }
      ],
      "execution_count": 5,
      "metadata": {
        "colab": {
          "base_uri": "https://localhost:8080/"
        },
        "id": "GiFOxqqJ-hIM",
        "outputId": "f6c64296-f87d-4a9e-d383-90f48291490c"
      }
    }
  ],
  "metadata": {
    "colab": {
      "provenance": []
    },
    "kernelspec": {
      "display_name": "Python 3",
      "name": "python3"
    }
  },
  "nbformat": 4,
  "nbformat_minor": 0
}