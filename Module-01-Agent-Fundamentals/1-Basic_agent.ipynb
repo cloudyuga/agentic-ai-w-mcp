{
  "cells": [
    {
      "cell_type": "markdown",
      "metadata": {},
      "source": [
        "# Lab 1: Three Basic HR Agents (Updated for LangChain 1.0)\n",
        "\n",
        "**Learning Objectives:**\n",
        "- Build Agent 1: No tools, No memory (Basic chatbot)\n",
        "- Build Agent 2: With tools, No memory (Data lookup)\n",
        "- Build Agent 3: With tools, With memory (Full conversational agent)\n",
        "\n",
        "**What's New in LangChain 1.0:**\n",
        "- Using `system_prompt` parameter instead of `prompt`\n",
        "- Clearer separation between system instructions and user messages\n",
        "\n",
        "**Time:** 30 minutes"
      ]
    },
    {
      "cell_type": "markdown",
      "metadata": {},
      "source": [
        "## Setup: Install Dependencies"
      ]
    },
    {
      "cell_type": "code",
      "execution_count": null,
      "metadata": {},
      "outputs": [],
      "source": [
        "!pip install --pre -U langchain langchain-openai langgraph"
      ]
    },
    {
      "cell_type": "markdown",
      "metadata": {},
      "source": [
        "## Setup: Configure OpenAI API Key"
      ]
    },
    {
      "cell_type": "code",
      "execution_count": null,
      "metadata": {},
      "outputs": [],
      "source": [
        "# Retrieve the API key from Colab's secrets\n",
        "from google.colab import userdata\n",
        "OPENAI_API_KEY = userdata.get('OPENAI_API_KEY')"
      ]
    },
    {
      "cell_type": "code",
      "execution_count": null,
      "metadata": {},
      "outputs": [],
      "source": [
        "# Set OPENAI_API_KEY as an ENV\n",
        "import os\n",
        "os.environ['OPENAI_API_KEY'] = OPENAI_API_KEY"
      ]
    },
    {
      "cell_type": "markdown",
      "metadata": {},
      "source": [
        "---\n",
        "# Agent 1: WITHOUT Tools and WITHOUT Memory\n",
        "\n",
        "**Features:**\n",
        "- ❌ No tools\n",
        "- ❌ No memory\n",
        "- ✅ Can answer general questions using LLM knowledge\n",
        "\n",
        "**LangChain 1.0 Change:** Using `system_prompt` parameter"
      ]
    },
    {
      "cell_type": "code",
      "execution_count": null,
      "metadata": {},
      "outputs": [],
      "source": [
        "from langchain.agents import create_agent\n",
        "\n",
        "# Create Agent 1: No tools, No memory\n",
        "agent_1 = create_agent(\n",
        "    model=\"openai:gpt-4o-mini\",\n",
        "    tools=[],  # Empty list = No tools!\n",
        "    system_prompt=\"You are an HR assistant. You can chat and answer general HR questions.\"  # UPDATED: system_prompt instead of prompt\n",
        ")\n",
        "\n",
        "print(\"✅ Agent 1 created: NO tools, NO memory\")\n",
        "print(\"=\"*60)"
      ]
    },
    {
      "cell_type": "markdown",
      "metadata": {},
      "source": [
        "### Test Agent 1"
      ]
    },
    {
      "cell_type": "code",
      "execution_count": null,
      "metadata": {},
      "outputs": [],
      "source": [
        "# Test Agent 1 with a general HR question\n",
        "result = agent_1.invoke({\n",
        "    \"messages\": [{\"role\": \"user\", \"content\": \"What are common HR policies?\"}]\n",
        "})\n",
        "\n",
        "print(\"Question: What are common HR policies?\")\n",
        "print(\"\\nAgent 1 Response:\")\n",
        "print(result['messages'][-1].content)"
      ]
    },
    {
      "cell_type": "code",
      "execution_count": null,
      "metadata": {},
      "outputs": [],
      "source": [
        "# Try a follow-up question - NO MEMORY, so won't remember context\n",
        "result = agent_1.invoke({\n",
        "    \"messages\": [{\"role\": \"user\", \"content\": \"Can you give me 3 examples?\"}]\n",
        "})\n",
        "\n",
        "print(\"Question: Can you give me 3 examples?\")\n",
        "print(\"\\nAgent 1 Response:\")\n",
        "print(result['messages'][-1].content)\n",
        "print(\"\\n⚠️ Notice: Agent doesn't know what examples to give (no memory of previous question)\")"
      ]
    },
    {
      "cell_type": "markdown",
      "metadata": {},
      "source": [
        "---\n",
        "# Define Tools (for Agent 2 and 3)\n",
        "\n",
        "We'll create two simple tools:\n",
        "1. **get_employee_info** - Look up employee details\n",
        "2. **check_leave_balance** - Check leave days remaining"
      ]
    },
    {
      "cell_type": "code",
      "execution_count": null,
      "metadata": {},
      "outputs": [],
      "source": [
        "# Tool 1: Get Employee Information\n",
        "def get_employee_info(employee_id: str) -> str:\n",
        "    \"\"\"Get employee information by ID.\"\"\"\n",
        "    employees = {\n",
        "        \"101\": \"Priya Sharma - Engineering - Senior Developer\",\n",
        "        \"102\": \"Rahul Verma - Engineering - Manager\",\n",
        "        \"103\": \"Anjali Patel - HR - Director\",\n",
        "        \"104\": \"Arjun Reddy - Sales - Team Lead\",\n",
        "        \"105\": \"Sneha Gupta - Marketing - Specialist\"\n",
        "    }\n",
        "    return employees.get(employee_id, f\"Employee {employee_id} not found\")\n",
        "\n",
        "# Tool 2: Check Leave Balance\n",
        "def check_leave_balance(employee_id: str) -> str:\n",
        "    \"\"\"Check remaining leave days for an employee by ID.\"\"\"\n",
        "    leave_data = {\n",
        "        \"101\": \"Priya Sharma has 12 days of leave remaining\",\n",
        "        \"102\": \"Rahul Verma has 8 days of leave remaining\",\n",
        "        \"103\": \"Anjali Patel has 15 days of leave remaining\",\n",
        "        \"104\": \"Arjun Reddy has 10 days of leave remaining\",\n",
        "        \"105\": \"Sneha Gupta has 5 days of leave remaining\"\n",
        "    }\n",
        "    return leave_data.get(employee_id, f\"Leave data for employee {employee_id} not found\")\n",
        "\n",
        "print(\"✅ Tools defined:\")\n",
        "print(\"   1. get_employee_info - Look up employee details\")\n",
        "print(\"   2. check_leave_balance - Check leave balance\")\n",
        "print(\"\\n📋 Employee Database:\")\n",
        "print(\"   101: Priya Sharma\")\n",
        "print(\"   102: Rahul Verma\")\n",
        "print(\"   103: Anjali Patel\")\n",
        "print(\"   104: Arjun Reddy\")\n",
        "print(\"   105: Sneha Gupta\")"
      ]
    },
    {
      "cell_type": "markdown",
      "metadata": {},
      "source": [
        "---\n",
        "# Agent 2: WITH Tools but WITHOUT Memory\n",
        "\n",
        "**Features:**\n",
        "- ✅ Has tools (can access employee data)\n",
        "- ❌ No memory (each question is independent)\n",
        "- ✅ Good for one-time lookups\n",
        "\n",
        "**LangChain 1.0 Change:** Using `system_prompt` parameter"
      ]
    },
    {
      "cell_type": "code",
      "execution_count": null,
      "metadata": {},
      "outputs": [],
      "source": [
        "# Create Agent 2: With tools, No memory\n",
        "agent_2 = create_agent(\n",
        "    model=\"openai:gpt-4o-mini\",\n",
        "    tools=[get_employee_info, check_leave_balance],  # Has tools!\n",
        "    system_prompt=\"You are an HR assistant. Use tools to help users find employee information and check leave balances.\"  # UPDATED: system_prompt instead of prompt\n",
        "    # No checkpointer = No memory!\n",
        ")\n",
        "\n",
        "print(\"✅ Agent 2 created: HAS tools, NO memory\")\n",
        "print(\"=\"*60)"
      ]
    },
    {
      "cell_type": "markdown",
      "metadata": {},
      "source": [
        "### Test Agent 2 - Tool Usage"
      ]
    },
    {
      "cell_type": "code",
      "execution_count": null,
      "metadata": {},
      "outputs": [],
      "source": [
        "# Test: Ask about employee info\n",
        "result = agent_2.invoke({\n",
        "    \"messages\": [{\"role\": \"user\", \"content\": \"Who is employee 101?\"}]\n",
        "})\n",
        "\n",
        "print(\"Question: Who is employee 101?\")\n",
        "print(\"\\nAgent 2 Response:\")\n",
        "print(result['messages'][-1].content)\n",
        "print(\"\\n✅ Agent used get_employee_info tool!\")"
      ]
    },
    {
      "cell_type": "code",
      "execution_count": null,
      "metadata": {},
      "outputs": [],
      "source": [
        "# Test: Ask about leave balance\n",
        "result = agent_2.invoke({\n",
        "    \"messages\": [{\"role\": \"user\", \"content\": \"How many leave days does employee 102 have?\"}]\n",
        "})\n",
        "\n",
        "print(\"Question: How many leave days does employee 102 have?\")\n",
        "print(\"\\nAgent 2 Response:\")\n",
        "print(result['messages'][-1].content)\n",
        "print(\"\\n✅ Agent used check_leave_balance tool!\")"
      ]
    },
    {
      "cell_type": "markdown",
      "metadata": {},
      "source": [
        "### Test Agent 2 - No Memory Problem"
      ]
    },
    {
      "cell_type": "code",
      "execution_count": null,
      "metadata": {},
      "outputs": [],
      "source": [
        "# Try a follow-up question - NO MEMORY\n",
        "result = agent_2.invoke({\n",
        "    \"messages\": [{\"role\": \"user\", \"content\": \"What department is she in?\"}]\n",
        "})\n",
        "\n",
        "print(\"Question: What department is she in?\")\n",
        "print(\"\\nAgent 2 Response:\")\n",
        "print(result['messages'][-1].content)\n",
        "print(\"\\n⚠️ Problem: Agent doesn't know who 'she' refers to (no memory!)\")"
      ]
    },
    {
      "cell_type": "markdown",
      "metadata": {},
      "source": [
        "---\n",
        "# Agent 3: WITH Tools AND WITH Memory\n",
        "\n",
        "**Features:**\n",
        "- ✅ Has tools (can access employee data)\n",
        "- ✅ Has memory (remembers conversation)\n",
        "- ✅ Can handle follow-up questions\n",
        "- ✅ Best for real conversations\n",
        "\n",
        "**LangChain 1.0 Change:** Using `system_prompt` parameter"
      ]
    },
    {
      "cell_type": "code",
      "execution_count": null,
      "metadata": {},
      "outputs": [],
      "source": [
        "from langgraph.checkpoint.memory import InMemorySaver\n",
        "\n",
        "# Create memory\n",
        "checkpointer = InMemorySaver()\n",
        "\n",
        "# Create Agent 3: With tools AND with memory\n",
        "agent_3 = create_agent(\n",
        "    model=\"openai:gpt-4o-mini\",\n",
        "    tools=[get_employee_info, check_leave_balance],  # Has tools!\n",
        "    system_prompt=\"You are an HR assistant. Use tools to help users find employee information and check leave balances.\",  # UPDATED: system_prompt instead of prompt\n",
        "    checkpointer=checkpointer  # Has memory!\n",
        ")\n",
        "\n",
        "print(\"✅ Agent 3 created: HAS tools, HAS memory\")\n",
        "print(\"=\"*60)"
      ]
    },
    {
      "cell_type": "markdown",
      "metadata": {},
      "source": [
        "### Test Agent 3 - With Memory"
      ]
    },
    {
      "cell_type": "code",
      "execution_count": null,
      "metadata": {},
      "outputs": [],
      "source": [
        "# Start a conversation with thread_id\n",
        "config = {\"configurable\": {\"thread_id\": \"conversation_1\"}}\n",
        "\n",
        "# First question\n",
        "result = agent_3.invoke(\n",
        "    {\"messages\": [{\"role\": \"user\", \"content\": \"Who is employee 101?\"}]},\n",
        "    config\n",
        ")\n",
        "\n",
        "print(\"Question 1: Who is employee 101?\")\n",
        "print(\"\\nAgent 3 Response:\")\n",
        "print(result['messages'][-1].content)"
      ]
    },
    {
      "cell_type": "code",
      "execution_count": null,
      "metadata": {},
      "outputs": [],
      "source": [
        "# Follow-up question - MEMORY WORKS!\n",
        "result = agent_3.invoke(\n",
        "    {\"messages\": [{\"role\": \"user\", \"content\": \"What's her leave balance?\"}]},\n",
        "    config  # Same thread_id\n",
        ")\n",
        "\n",
        "print(\"Question 2: What's her leave balance?\")\n",
        "print(\"\\nAgent 3 Response:\")\n",
        "print(result['messages'][-1].content)\n",
        "print(\"\\n✅ Success: Agent remembers we're talking about Priya Sharma (employee 101)!\")"
      ]
    },
    {
      "cell_type": "code",
      "execution_count": null,
      "metadata": {},
      "outputs": [],
      "source": [
        "# Another follow-up\n",
        "result = agent_3.invoke(\n",
        "    {\"messages\": [{\"role\": \"user\", \"content\": \"What department is she in?\"}]},\n",
        "    config\n",
        ")\n",
        "\n",
        "print(\"Question 3: What department is she in?\")\n",
        "print(\"\\nAgent 3 Response:\")\n",
        "print(result['messages'][-1].content)\n",
        "print(\"\\n✅ Success: Agent still remembers the context!\")"
      ]
    },
    {
      "cell_type": "markdown",
      "metadata": {},
      "source": [
        "### Test Agent 3 - Complex Memory"
      ]
    },
    {
      "cell_type": "code",
      "execution_count": null,
      "metadata": {},
      "outputs": [],
      "source": [
        "# Ask about another employee\n",
        "result = agent_3.invoke(\n",
        "    {\"messages\": [{\"role\": \"user\", \"content\": \"Now tell me about employee 102\"}]},\n",
        "    config\n",
        ")\n",
        "\n",
        "print(\"Question 4: Now tell me about employee 102\")\n",
        "print(\"\\nAgent 3 Response:\")\n",
        "print(result['messages'][-1].content)"
      ]
    },
    {
      "cell_type": "code",
      "execution_count": null,
      "metadata": {},
      "outputs": [],
      "source": [
        "# Ask to compare - needs memory of BOTH employees!\n",
        "result = agent_3.invoke(\n",
        "    {\"messages\": [{\"role\": \"user\", \"content\": \"Who has more leave days, the first employee or this one?\"}]},\n",
        "    config\n",
        ")\n",
        "\n",
        "print(\"Question 5: Who has more leave days, the first employee or this one?\")\n",
        "print(\"\\nAgent 3 Response:\")\n",
        "print(result['messages'][-1].content)\n",
        "print(\"\\n✅ Amazing: Agent remembers BOTH employee 101 (Priya) AND 102 (Rahul)!\")"
      ]
    },
    {
      "cell_type": "markdown",
      "metadata": {},
      "source": [
        "---\n",
        "# Comparison: All Three Agents"
      ]
    },
    {
      "cell_type": "markdown",
      "metadata": {},
      "source": [
        "## Summary Table\n",
        "\n",
        "| Feature | Agent 1 | Agent 2 | Agent 3 |\n",
        "|---------|---------|---------|----------|\n",
        "| **Tools** | ❌ No | ✅ Yes | ✅ Yes |\n",
        "| **Memory** | ❌ No | ❌ No | ✅ Yes |\n",
        "| **Access employee data** | ❌ No | ✅ Yes | ✅ Yes |\n",
        "| **Remember conversation** | ❌ No | ❌ No | ✅ Yes |\n",
        "| **Handle follow-ups** | ❌ No | ❌ No | ✅ Yes |\n",
        "| **Use case** | General chat | One-time lookups | Full HR assistant |"
      ]
    },
    {
      "cell_type": "markdown",
      "metadata": {},
      "source": [
        "## Side-by-Side Test"
      ]
    },
    {
      "cell_type": "code",
      "execution_count": null,
      "metadata": {},
      "outputs": [],
      "source": [
        "test_question = \"Tell me about employee 103\"\n",
        "\n",
        "print(\"=\"*80)\n",
        "print(f\"Testing all agents with: '{test_question}'\")\n",
        "print(\"=\"*80)\n",
        "\n",
        "# Agent 1\n",
        "print(\"\\n🤖 Agent 1 (No tools, No memory):\")\n",
        "print(\"-\" * 60)\n",
        "result1 = agent_1.invoke({\n",
        "    \"messages\": [{\"role\": \"user\", \"content\": test_question}]\n",
        "})\n",
        "print(result1['messages'][-1].content)\n",
        "\n",
        "# Agent 2\n",
        "print(\"\\n🤖 Agent 2 (With tools, No memory):\")\n",
        "print(\"-\" * 60)\n",
        "result2 = agent_2.invoke({\n",
        "    \"messages\": [{\"role\": \"user\", \"content\": test_question}]\n",
        "})\n",
        "print(result2['messages'][-1].content)\n",
        "\n",
        "# Agent 3\n",
        "print(\"\\n🤖 Agent 3 (With tools, With memory):\")\n",
        "print(\"-\" * 60)\n",
        "test_config = {\"configurable\": {\"thread_id\": \"test_thread\"}}\n",
        "result3 = agent_3.invoke(\n",
        "    {\"messages\": [{\"role\": \"user\", \"content\": test_question}]},\n",
        "    test_config\n",
        ")\n",
        "print(result3['messages'][-1].content)\n",
        "\n",
        "print(\"\\n\" + \"=\"*80)"
      ]
    },
    {
      "cell_type": "markdown",
      "metadata": {},
      "source": [
        "## Follow-up Test (Only Agent 3 can handle this!)"
      ]
    },
    {
      "cell_type": "code",
      "execution_count": null,
      "metadata": {},
      "outputs": [],
      "source": [
        "followup_question = \"What's their leave balance?\"\n",
        "\n",
        "print(\"=\"*80)\n",
        "print(f\"Follow-up question: '{followup_question}'\")\n",
        "print(\"=\"*80)\n",
        "\n",
        "print(\"\\n🤖 Agent 3 (With tools, With memory):\")\n",
        "print(\"-\" * 60)\n",
        "result3_followup = agent_3.invoke(\n",
        "    {\"messages\": [{\"role\": \"user\", \"content\": followup_question}]},\n",
        "    test_config  # Same thread!\n",
        ")\n",
        "print(result3_followup['messages'][-1].content)\n",
        "\n",
        "print(\"\\n✅ Only Agent 3 can handle this follow-up because it has MEMORY!\")\n",
        "print(\"   It remembers we were talking about employee 103 (Anjali Patel)\")\n",
        "print(\"\\n\" + \"=\"*80)"
      ]
    },
    {
      "cell_type": "markdown",
      "metadata": {},
      "source": [
        "---\n",
        "# Try It Yourself!\n",
        "\n",
        "Now it's your turn! Try asking your own questions to each agent."
      ]
    },
    {
      "cell_type": "code",
      "execution_count": null,
      "metadata": {},
      "outputs": [],
      "source": [
        "# Customize this cell with your own questions!\n",
        "\n",
        "my_question = \"Who is employee 104?\"  # Change this to your question\n",
        "my_followup = \"What about their leave?\"  # Change this to your follow-up\n",
        "\n",
        "# Test with Agent 3 (best one)\n",
        "my_config = {\"configurable\": {\"thread_id\": \"my_conversation\"}}\n",
        "\n",
        "print(f\"Your question: {my_question}\")\n",
        "result = agent_3.invoke(\n",
        "    {\"messages\": [{\"role\": \"user\", \"content\": my_question}]},\n",
        "    my_config\n",
        ")\n",
        "print(f\"\\nResponse: {result['messages'][-1].content}\")\n",
        "\n",
        "print(f\"\\n\\nYour follow-up: {my_followup}\")\n",
        "result = agent_3.invoke(\n",
        "    {\"messages\": [{\"role\": \"user\", \"content\": my_followup}]},\n",
        "    my_config\n",
        ")\n",
        "print(f\"\\nResponse: {result['messages'][-1].content}\")"
      ]
    },
    {
      "cell_type": "markdown",
      "metadata": {},
      "source": [
        "---\n",
        "# What Changed in LangChain 1.0?\n",
        "\n",
        "## Key Update: `prompt` → `system_prompt`\n",
        "\n",
        "**Old Way (pre-1.0):**\n",
        "```python\n",
        "agent = create_agent(\n",
        "    model=\"openai:gpt-4o-mini\",\n",
        "    tools=[...],\n",
        "    prompt=\"You are an HR assistant...\"  # ❌ Old parameter\n",
        ")\n",
        "```\n",
        "\n",
        "**New Way (1.0):**\n",
        "```python\n",
        "agent = create_agent(\n",
        "    model=\"openai:gpt-4o-mini\",\n",
        "    tools=[...],\n",
        "    system_prompt=\"You are an HR assistant...\"  # ✅ New parameter\n",
        ")\n",
        "```\n",
        "\n",
        "## Why the Change?\n",
        "\n",
        "- **Clearer separation**: System prompts (agent behavior) vs user messages (queries)\n",
        "- **More intuitive**: Matches how chat models work\n",
        "- **Better practices**: Encourages proper prompt engineering\n",
        "\n",
        "## What Stays the Same?\n",
        "\n",
        "- ✅ Tools usage\n",
        "- ✅ Memory/checkpointer\n",
        "- ✅ Invoke syntax\n",
        "- ✅ All functionality"
      ]
    },
    {
      "cell_type": "markdown",
      "metadata": {},
      "source": [
        "---\n",
        "# Conclusion\n",
        "\n",
        "**What you learned:**\n",
        "1. ✅ How to create a basic agent (no tools, no memory)\n",
        "2. ✅ How to add tools to an agent (for data access)\n",
        "3. ✅ How to add memory to an agent (for conversations)\n",
        "4. ✅ The difference between each approach\n",
        "5. ✅ **NEW:** LangChain 1.0 updates (`system_prompt`)\n",
        "\n",
        "**Key Takeaways:**\n",
        "- **Tools** = Access to data/functions\n",
        "- **Memory** = Remember conversation context\n",
        "- **system_prompt** = Agent's behavior instructions (NEW in 1.0)\n",
        "- **Best practice**: Start simple, add features as needed\n",
        "\n",
        "**Next Steps:**\n",
        "- Complete the exercises below\n",
        "- Try adding more tools (e.g., update_leave_balance)\n",
        "- Connect to a real database instead of hardcoded data\n",
        "- Add more complex conversation flows\n",
        "- Deploy as a web service\n",
        "\n",
        "---\n",
        "**Created with:** LangChain 1.0 + OpenAI + LangGraph"
      ]
    },
    {
      "cell_type": "markdown",
      "metadata": {},
      "source": [
        "---\n",
        "# Exercise 1: Add More Employees\n",
        "\n",
        "## Objective: Understand how tools work by expanding the database\n",
        "\n",
        "## Tasks:\n",
        "\n",
        "- Add 5 more Indian employees to the database (IDs 106-110)\n",
        "- Include: Name, Department, Position, Leave Balance\n",
        "- Test queries with the new employees\n",
        "- Verify Agent 2 and Agent 3 can access the new data\n",
        "\n",
        "## Success Criteria:\n",
        "\n",
        "- Agent can look up all 10 employees\n",
        "- Leave balances work for all employees"
      ]
    },
    {
      "cell_type": "code",
      "execution_count": null,
      "metadata": {},
      "outputs": [],
      "source": [
        "# Your code here\n",
        "# TODO: Update get_employee_info and check_leave_balance functions\n",
        "# TODO: Add employees 106-110\n",
        "# TODO: Test with Agent 2 and Agent 3"
      ]
    },
    {
      "cell_type": "markdown",
      "metadata": {},
      "source": [
        "---\n",
        "# Exercise 2: Create a New Tool\n",
        "\n",
        "## Objective: Learn to create custom tools\n",
        "\n",
        "## Tasks:\n",
        "\n",
        "- Create a new tool: `get_employee_salary(employee_id: str)`\n",
        "- Return salary information for employees (e.g., \"Priya Sharma earns ₹12,00,000 per year\")\n",
        "- Add the tool to Agent 2 and Agent 3\n",
        "- Test with questions like \"What is employee 101's salary?\"\n",
        "\n",
        "## Sample Data\n",
        "\n",
        "```python\n",
        "salaries = {\n",
        "    \"101\": \"₹12,00,000\",\n",
        "    \"102\": \"₹18,00,000\",\n",
        "    \"103\": \"₹25,00,000\",\n",
        "    ...\n",
        "}\n",
        "```\n",
        "\n",
        "## Success Criteria:\n",
        "\n",
        "- Agent can answer salary queries\n",
        "- Tool integrates with existing tools"
      ]
    },
    {
      "cell_type": "code",
      "execution_count": null,
      "metadata": {},
      "outputs": [],
      "source": [
        "# Your code here\n",
        "def get_employee_salary(employee_id: str) -> str:\n",
        "    \"\"\"TODO: Get employee salary by ID.\"\"\"\n",
        "    pass\n",
        "\n",
        "# TODO: Create new agents with salary tool\n",
        "# TODO: Test the new tool"
      ]
    },
    {
      "cell_type": "markdown",
      "metadata": {},
      "source": [
        "---\n",
        "# Exercise 3: Department Listing Tool\n",
        "\n",
        "## Objective: Create a tool that returns multiple results\n",
        "\n",
        "## Tasks:\n",
        "\n",
        "- Create: `list_employees_by_department(department: str)`\n",
        "- Return all employees in a given department\n",
        "- Test queries like \"Who works in Engineering?\"\n",
        "\n",
        "## Success Criteria:\n",
        "\n",
        "- Returns all employees in the department\n",
        "- Works with Agent 2 and Agent 3"
      ]
    },
    {
      "cell_type": "code",
      "execution_count": null,
      "metadata": {},
      "outputs": [],
      "source": [
        "# Your code here\n",
        "def list_employees_by_department(department: str) -> str:\n",
        "    \"\"\"TODO: List all employees in a department.\"\"\"\n",
        "    pass\n",
        "\n",
        "# TODO: Add to agents and test"
      ]
    }
  ],
  "metadata": {
    "kernelspec": {
      "display_name": "Python 3",
      "language": "python",
      "name": "python3"
    },
    "language_info": {
      "codemirror_mode": {
        "name": "ipython",
        "version": 3
      },
      "file_extension": ".py",
      "mimetype": "text/x-python",
      "name": "python",
      "nbconvert_exporter": "python",
      "pygments_lexer": "ipython3",
      "version": "3.11.0"
    }
  },
  "nbformat": 4,
  "nbformat_minor": 0
}
