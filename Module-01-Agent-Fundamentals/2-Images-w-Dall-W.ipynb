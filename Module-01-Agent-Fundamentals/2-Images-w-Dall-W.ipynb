{
  "cells": [
    {
      "cell_type": "markdown",
      "metadata": {},
      "source": [
        "# DALL-E Image Generation Agent with LangChain\n",
        "\n",
        "This notebook demonstrates how to build an AI agent that can generate images using DALL-E 3.\n",
        "\n",
        "**Features:**\n",
        "- ✅ Generate images with DALL-E 3\n",
        "- ✅ Conversational memory for iterative refinements\n",
        "- ✅ Display images directly in notebook\n",
        "- ✅ Base64 image encoding"
      ]
    },
    {
      "cell_type": "markdown",
      "metadata": {},
      "source": [
        "## Step 1: Install Required Dependencies"
      ]
    },
    {
      "cell_type": "code",
      "execution_count": null,
      "metadata": {},
      "outputs": [],
      "source": [
        "!pip install --pre -U langchain langchain-openai langgraph openai pillow matplotlib"
      ]
    },
    {
      "cell_type": "markdown",
      "metadata": {},
      "source": [
        "## Step 2: Setup OpenAI API Key\n",
        "\n",
        "Choose one of the following methods to set your OpenAI API key:"
      ]
    },
    {
      "cell_type": "code",
      "execution_count": null,
      "metadata": {},
      "outputs": [],
      "source": [
        "import os\n",
        "\n",
        "# METHOD 1: For Google Colab - Using Colab Secrets\n",
        "# Uncomment the lines below if using Google Colab\n",
        "# from google.colab import userdata\n",
        "# OPENAI_API_KEY = userdata.get('OPENAI_API_KEY')\n",
        "\n",
        "# METHOD 2: Direct input (Not recommended for production)\n",
        "# Uncomment and replace with your key\n",
        "# OPENAI_API_KEY = \"sk-your-api-key-here\"\n",
        "\n",
        "# METHOD 3: Environment variable (Recommended)\n",
        "OPENAI_API_KEY = os.getenv('OPENAI_API_KEY')\n",
        "\n",
        "# METHOD 4: Input prompt (Interactive)\n",
        "# Uncomment to enter key interactively\n",
        "# from getpass import getpass\n",
        "# OPENAI_API_KEY = getpass('Enter your OpenAI API Key: ')\n",
        "\n",
        "# Set as environment variable\n",
        "os.environ['OPENAI_API_KEY'] = OPENAI_API_KEY\n",
        "\n",
        "print(\"✅ API Key configured!\")"
      ]
    },
    {
      "cell_type": "markdown",
      "metadata": {},
      "source": [
        "## Step 3: Import Libraries"
      ]
    },
    {
      "cell_type": "code",
      "execution_count": null,
      "metadata": {},
      "outputs": [],
      "source": [
        "import base64\n",
        "from io import BytesIO\n",
        "from openai import OpenAI\n",
        "from typing import Annotated\n",
        "from langchain.agents import create_agent\n",
        "from langgraph.checkpoint.memory import InMemorySaver\n",
        "from IPython.display import Image, display\n",
        "import matplotlib.pyplot as plt\n",
        "from PIL import Image as PILImage\n",
        "\n",
        "print(\"✅ Libraries imported successfully!\")"
      ]
    },
    {
      "cell_type": "markdown",
      "metadata": {},
      "source": [
        "## Step 4: Initialize OpenAI Client"
      ]
    },
    {
      "cell_type": "code",
      "execution_count": null,
      "metadata": {},
      "outputs": [],
      "source": [
        "# Initialize OpenAI client\n",
        "client = OpenAI(api_key=OPENAI_API_KEY)\n",
        "\n",
        "# Global variable to store the last generated image\n",
        "last_image_base64 = None\n",
        "\n",
        "print(\"✅ OpenAI client initialized!\")"
      ]
    },
    {
      "cell_type": "markdown",
      "metadata": {},
      "source": [
        "## Step 5: Define DALL-E Image Generation Tool"
      ]
    },
    {
      "cell_type": "code",
      "execution_count": null,
      "metadata": {},
      "outputs": [],
      "source": [
        "def generate_image_with_dalle(prompt: Annotated[str, \"The detailed description of the image to generate\"]) -> str:\n",
        "    \"\"\"\n",
        "    Generate an image using DALL-E 3 based on a text prompt.\n",
        "    Returns base64 encoded image data.\n",
        "    \"\"\"\n",
        "    global last_image_base64\n",
        "    \n",
        "    try:\n",
        "        print(f\"🎨 Generating image with prompt: {prompt[:100]}...\")\n",
        "        \n",
        "        response = client.images.generate(\n",
        "            model=\"dall-e-3\",\n",
        "            prompt=prompt,\n",
        "            size=\"1024x1024\",\n",
        "            quality=\"standard\",\n",
        "            n=1,\n",
        "            response_format=\"b64_json\"  # Request base64 format\n",
        "        )\n",
        "        \n",
        "        # Store base64 image data\n",
        "        last_image_base64 = response.data[0].b64_json\n",
        "        \n",
        "        return f\"✅ Image generated successfully! The image has been stored and is ready to display.\"\n",
        "    \n",
        "    except Exception as e:\n",
        "        return f\"❌ Error generating image: {str(e)}\"\n",
        "\n",
        "print(\"✅ DALL-E tool function defined!\")"
      ]
    },
    {
      "cell_type": "markdown",
      "metadata": {},
      "source": [
        "## Step 6: Define Image Display Function"
      ]
    },
    {
      "cell_type": "code",
      "execution_count": null,
      "metadata": {},
      "outputs": [],
      "source": [
        "def display_last_image():\n",
        "    \"\"\"\n",
        "    Display the last generated image in the notebook.\n",
        "    \"\"\"\n",
        "    global last_image_base64\n",
        "    \n",
        "    if last_image_base64 is None:\n",
        "        print(\"⚠️ No image has been generated yet. Please generate an image first.\")\n",
        "        return\n",
        "    \n",
        "    try:\n",
        "        # Decode base64 to image\n",
        "        image_data = base64.b64decode(last_image_base64)\n",
        "        image = PILImage.open(BytesIO(image_data))\n",
        "        \n",
        "        # Display using matplotlib\n",
        "        plt.figure(figsize=(10, 10))\n",
        "        plt.imshow(image)\n",
        "        plt.axis('off')\n",
        "        plt.tight_layout()\n",
        "        plt.show()\n",
        "        \n",
        "    except Exception as e:\n",
        "        print(f\"❌ Error displaying image: {str(e)}\")\n",
        "\n",
        "print(\"✅ Display function defined!\")"
      ]
    },
    {
      "cell_type": "markdown",
      "metadata": {},
      "source": [
        "## Step 7: Create the DALL-E Agent"
      ]
    },
    {
      "cell_type": "code",
      "execution_count": null,
      "metadata": {},
      "outputs": [],
      "source": [
        "# Create memory for the agent\n",
        "checkpointer = InMemorySaver()\n",
        "\n",
        "# Create DALL-E Agent with tools and memory\n",
        "dalle_agent = create_agent(\n",
        "    model=\"openai:gpt-4o-mini\",\n",
        "    tools=[generate_image_with_dalle],\n",
        "    prompt=\"\"\"You are a creative AI assistant with image generation capabilities using DALL-E 3. \n",
        "    \n",
        "    When a user requests an image:\n",
        "    1. Use the generate_image_with_dalle tool with a detailed, creative prompt\n",
        "    2. Enhance the user's description with artistic details if needed\n",
        "    3. Remember the conversation context for follow-up modifications\n",
        "    4. After generating, inform the user the image is ready to view\n",
        "    \n",
        "    Be creative, helpful, and remember all previous images in the conversation.\"\"\",\n",
        "    checkpointer=checkpointer\n",
        ")\n",
        "\n",
        "print(\"✅ DALL-E Agent created successfully!\")\n",
        "print(\"🎨 The agent has:\")\n",
        "print(\"   - DALL-E 3 image generation capability\")\n",
        "print(\"   - Conversational memory\")\n",
        "print(\"   - Context awareness for iterations\")"
      ]
    },
    {
      "cell_type": "markdown",
      "metadata": {},
      "source": [
        "---\n",
        "## Usage Examples\n",
        "\n",
        "Now let's test the agent with various image generation requests!"
      ]
    },
    {
      "cell_type": "markdown",
      "metadata": {},
      "source": [
        "### Example 1: Generate a Simple Image"
      ]
    },
    {
      "cell_type": "code",
      "execution_count": null,
      "metadata": {},
      "outputs": [],
      "source": [
        "# Create a session configuration\n",
        "config = {\"configurable\": {\"thread_id\": \"session_1\"}}\n",
        "\n",
        "# Generate an image\n",
        "print(\"🚀 Requesting image generation...\\n\")\n",
        "result = dalle_agent.invoke(\n",
        "    {\"messages\": [{\"role\": \"user\", \"content\": \"Create an image of a cat in a space suit floating in space with Earth in the background\"}]},\n",
        "    config\n",
        ")\n",
        "\n",
        "print(\"\\n\" + \"=\"*60)\n",
        "print(\"Agent Response:\")\n",
        "print(\"=\"*60)\n",
        "print(result['messages'][-1].content)"
      ]
    },
    {
      "cell_type": "code",
      "execution_count": null,
      "metadata": {},
      "outputs": [],
      "source": [
        "# Display the generated image\n",
        "display_last_image()"
      ]
    },
    {
      "cell_type": "markdown",
      "metadata": {},
      "source": [
        "### Example 2: Iterative Refinement (Using Memory)"
      ]
    },
    {
      "cell_type": "code",
      "execution_count": null,
      "metadata": {},
      "outputs": [],
      "source": [
        "# Follow-up request - the agent remembers the previous image!\n",
        "print(\"🔄 Requesting modification...\\n\")\n",
        "result = dalle_agent.invoke(\n",
        "    {\"messages\": [{\"role\": \"user\", \"content\": \"Now add a spaceship passing by in the background\"}]},\n",
        "    config  # Same session\n",
        ")\n",
        "\n",
        "print(\"\\n\" + \"=\"*60)\n",
        "print(\"Agent Response:\")\n",
        "print(\"=\"*60)\n",
        "print(result['messages'][-1].content)"
      ]
    },
    {
      "cell_type": "code",
      "execution_count": null,
      "metadata": {},
      "outputs": [],
      "source": [
        "# Display the modified image\n",
        "display_last_image()"
      ]
    },
    {
      "cell_type": "markdown",
      "metadata": {},
      "source": [
        "### Example 3: Another Iteration"
      ]
    },
    {
      "cell_type": "code",
      "execution_count": null,
      "metadata": {},
      "outputs": [],
      "source": [
        "# Another modification\n",
        "print(\"🔄 Requesting another modification...\\n\")\n",
        "result = dalle_agent.invoke(\n",
        "    {\"messages\": [{\"role\": \"user\", \"content\": \"Make it more dramatic with nebula clouds and stars\"}]},\n",
        "    config\n",
        ")\n",
        "\n",
        "print(\"\\n\" + \"=\"*60)\n",
        "print(\"Agent Response:\")\n",
        "print(\"=\"*60)\n",
        "print(result['messages'][-1].content)"
      ]
    },
    {
      "cell_type": "code",
      "execution_count": null,
      "metadata": {},
      "outputs": [],
      "source": [
        "# Display the final image\n",
        "display_last_image()"
      ]
    },
    {
      "cell_type": "markdown",
      "metadata": {},
      "source": [
        "### Example 4: Start a New Image (New Topic)"
      ]
    },
    {
      "cell_type": "code",
      "execution_count": null,
      "metadata": {},
      "outputs": [],
      "source": [
        "# Create a completely different image\n",
        "print(\"🎨 Requesting a new image...\\n\")\n",
        "result = dalle_agent.invoke(\n",
        "    {\"messages\": [{\"role\": \"user\", \"content\": \"Create a serene Japanese garden with a koi pond at sunset\"}]},\n",
        "    config\n",
        ")\n",
        "\n",
        "print(\"\\n\" + \"=\"*60)\n",
        "print(\"Agent Response:\")\n",
        "print(\"=\"*60)\n",
        "print(result['messages'][-1].content)"
      ]
    },
    {
      "cell_type": "code",
      "execution_count": null,
      "metadata": {},
      "outputs": [],
      "source": [
        "# Display the new image\n",
        "display_last_image()"
      ]
    },
    {
      "cell_type": "markdown",
      "metadata": {},
      "source": [
        "### Example 5: Test Memory - Ask About Previous Images"
      ]
    },
    {
      "cell_type": "code",
      "execution_count": null,
      "metadata": {},
      "outputs": [],
      "source": [
        "# Test if the agent remembers what we've created\n",
        "print(\"🧠 Testing memory...\\n\")\n",
        "result = dalle_agent.invoke(\n",
        "    {\"messages\": [{\"role\": \"user\", \"content\": \"What images have we created in this session?\"}]},\n",
        "    config\n",
        ")\n",
        "\n",
        "print(\"\\n\" + \"=\"*60)\n",
        "print(\"Agent Response:\")\n",
        "print(\"=\"*60)\n",
        "print(result['messages'][-1].content)"
      ]
    },
    {
      "cell_type": "markdown",
      "metadata": {},
      "source": [
        "---\n",
        "## Your Turn!\n",
        "\n",
        "Try creating your own images below:"
      ]
    },
    {
      "cell_type": "code",
      "execution_count": null,
      "metadata": {},
      "outputs": [],
      "source": [
        "# Your custom image request\n",
        "your_prompt = \"Create an image of a robot reading a book in a cozy library\"  # Change this!\n",
        "\n",
        "result = dalle_agent.invoke(\n",
        "    {\"messages\": [{\"role\": \"user\", \"content\": your_prompt}]},\n",
        "    config\n",
        ")\n",
        "\n",
        "print(result['messages'][-1].content)"
      ]
    },
    {
      "cell_type": "code",
      "execution_count": null,
      "metadata": {},
      "outputs": [],
      "source": [
        "# Display your image\n",
        "display_last_image()"
      ]
    },
    {
      "cell_type": "markdown",
      "metadata": {},
      "source": [
        "---\n",
        "## Summary\n",
        "\n",
        "**What we built:**\n",
        "- ✅ LangChain agent with DALL-E 3 integration\n",
        "- ✅ Conversational memory for iterative refinements\n",
        "- ✅ Base64 image encoding and display\n",
        "- ✅ Context-aware image generation\n",
        "\n",
        "**Key Features:**\n",
        "- The agent remembers your conversation\n",
        "- You can iteratively refine images\n",
        "- Images are displayed directly in the notebook\n",
        "- The agent enhances your prompts for better results\n",
        "\n",
        "**Next Steps:**\n",
        "- Try different image sizes (1024x1024, 1792x1024, 1024x1792)\n",
        "- Experiment with different quality settings\n",
        "- Save images to disk\n",
        "- Build a web interface for the agent\n",
        "\n",
        "---\n",
        "**Created with:** LangChain + OpenAI DALL-E 3 + LangGraph"
      ]
    }
  ],
  "metadata": {
    "kernelspec": {
      "display_name": "Python 3",
      "language": "python",
      "name": "python3"
    },
    "language_info": {
      "codemirror_mode": {
        "name": "ipython",
        "version": 3
      },
      "file_extension": ".py",
      "mimetype": "text/x-python",
      "name": "python",
      "nbconvert_exporter": "python",
      "pygments_lexer": "ipython3",
      "version": "3.11.0"
    }
  },
  "nbformat": 4,
  "nbformat_minor": 4
}
