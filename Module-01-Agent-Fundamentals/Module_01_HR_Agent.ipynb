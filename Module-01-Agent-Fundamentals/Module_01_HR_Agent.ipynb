{
  "cells": [
    {
      "cell_type": "code",
      "source": [
        "!pip install langchain langchain-openai python-dotenv --quiet\n",
        "print(\"✅ Libraries installed.\")\n",
        "\n",
        "import os\n",
        "from langchain_openai import ChatOpenAI\n",
        "from langchain.agents import AgentExecutor, create_tool_calling_agent\n",
        "from langchain_core.prompts import ChatPromptTemplate\n",
        "from langchain_core.messages import HumanMessage, AIMessage\n",
        "from langchain_core.tools import tool\n",
        "\n",
        "# Configure the OpenAI API Key\n",
        "try:\n",
        "    from google.colab import userdata\n",
        "    os.environ[\"OPENAI_API_KEY\"] = userdata.get('OPENAI_API_KEY')\n",
        "    print(\"✅ OpenAI API Key set successfully from Colab Secrets.\")\n",
        "except (ImportError, userdata.SecretNotFoundError):\n",
        "    from dotenv import load_dotenv\n",
        "    load_dotenv()\n",
        "    if \"OPENAI_API_KEY\" in os.environ:\n",
        "        print(\"✅ OpenAI API Key set successfully from .env file.\")\n",
        "    else:\n",
        "        print(\"⚠️ API Key not found. Please set it in Colab Secrets or a .env file.\")"
      ],
      "metadata": {
        "colab": {
          "base_uri": "https://localhost:8080/"
        },
        "id": "k4sQ97G5SaJo",
        "outputId": "9f7ca8e4-7c5f-4874-b538-45514438a3c9"
      },
      "execution_count": null,
      "outputs": [
        {
          "output_type": "stream",
          "name": "stdout",
          "text": [
            "✅ Libraries installed.\n",
            "✅ OpenAI API Key set successfully from Colab Secrets.\n"
          ]
        }
      ]
    },
    {
      "cell_type": "code",
      "source": [
        "EMPLOYEES = {\n",
        "    \"EMP001\": {\n",
        "        \"name\": \"Priya Sharma\",\n",
        "        \"department\": \"Engineering\",\n",
        "        \"leave_balance\": 15,\n",
        "        \"sick_leave\": 5,\n",
        "        \"joined_date\": \"2022-01-15\"\n",
        "    },\n",
        "    \"EMP002\": {\n",
        "        \"name\": \"Rahul Verma\",\n",
        "        \"department\": \"Marketing\",\n",
        "        \"leave_balance\": 20,\n",
        "        \"sick_leave\": 8,\n",
        "        \"joined_date\": \"2021-06-01\"\n",
        "    },\n",
        "    \"EMP003\": {\n",
        "        \"name\": \"Anjali Patel\",\n",
        "        \"department\": \"HR\",\n",
        "        \"leave_balance\": 18,\n",
        "        \"sick_leave\": 6,\n",
        "        \"joined_date\": \"2020-03-10\"\n",
        "    }\n",
        "}\n",
        "\n",
        "POLICIES = {\n",
        "    \"leave_policy\": \"\"\"\n",
        "    Annual Leave Policy:\n",
        "    - Employees get 20 days of annual leave per year.\n",
        "    - Leave must be requested at least 2 weeks in advance.\n",
        "    - Maximum consecutive leave: 15 days.\n",
        "    - Unused leave carries over up to 5 days.\n",
        "    \"\"\",\n",
        "    \"work_from_home\": \"\"\"\n",
        "    Work From Home Policy:\n",
        "    - Employees can work from home up to 3 days per week.\n",
        "    - Must inform manager 1 day in advance.\n",
        "    - Core hours: 10 AM - 4 PM must be available.\n",
        "    \"\"\",\n",
        "    \"benefits\": \"\"\"\n",
        "    Employee Benefits:\n",
        "    - Health insurance (employee + family).\n",
        "    - Annual performance bonus.\n",
        "    - Professional development budget: ₹1,50,000/year.\n",
        "    - Gym membership reimbursement.\n",
        "    - Festival bonuses (Diwali, etc.).\n",
        "    \"\"\"\n",
        "}\n",
        "print(\"✅ Mock HR data and policies defined.\")"
      ],
      "metadata": {
        "colab": {
          "base_uri": "https://localhost:8080/"
        },
        "id": "Q5zPSOuTShNp",
        "outputId": "30d43e9d-293b-484b-8522-60bc3ac9c599"
      },
      "execution_count": null,
      "outputs": [
        {
          "output_type": "stream",
          "name": "stdout",
          "text": [
            "✅ Mock HR data and policies defined.\n"
          ]
        }
      ]
    },
    {
      "cell_type": "code",
      "source": [
        "@tool\n",
        "def get_leave_balance(employee_id: str) -> str:\n",
        "    \"\"\"Gets the available leave balance for a specified employee.\"\"\"\n",
        "    if employee_id in EMPLOYEES:\n",
        "        emp = EMPLOYEES[employee_id]\n",
        "        return f\"{emp['name']} has {emp['leave_balance']} annual leave days and {emp['sick_leave']} sick leave days remaining.\"\n",
        "    return f\"Employee with ID '{employee_id}' was not found in the database.\"\n",
        "\n",
        "@tool\n",
        "def get_company_policy(policy_name: str) -> str:\n",
        "    \"\"\"Retrieves the text of a specific company policy.\"\"\"\n",
        "    policy_key = policy_name.lower().replace(\" \", \"_\")\n",
        "    if policy_key in POLICIES:\n",
        "        return POLICIES[policy_key]\n",
        "    return f\"Policy '{policy_name}' not found. Available policies are: {', '.join(POLICIES.keys())}\"\n",
        "\n",
        "@tool\n",
        "def request_leave(employee_id: str, leave_days: int, start_date: str) -> str:\n",
        "    \"\"\"Submits a leave request for an employee.\"\"\"\n",
        "    if employee_id not in EMPLOYEES:\n",
        "        return f\"Employee with ID '{employee_id}' was not found.\"\n",
        "\n",
        "    emp = EMPLOYEES[employee_id]\n",
        "    if leave_days > emp['leave_balance']:\n",
        "        return f\"Leave request DENIED. {emp['name']} only has {emp['leave_balance']} days available, but requested {leave_days}.\"\n",
        "\n",
        "    if leave_days > 15:\n",
        "        return \"Leave request DENIED. The maximum number of consecutive leave days allowed is 15.\"\n",
        "\n",
        "    return f\"Leave request for {emp['name']} for {leave_days} days starting {start_date} has been successfully submitted for manager approval.\"\n",
        "\n",
        "@tool\n",
        "def get_employee_info(employee_id: str) -> str:\n",
        "    \"\"\"Gets basic information for a specified employee, such as their name, department, and joining date.\"\"\"\n",
        "    if employee_id in EMPLOYEES:\n",
        "        emp = EMPLOYEES[employee_id]\n",
        "        return f\"Employee Name: {emp['name']}\\nDepartment: {emp['department']}\\nJoined Date: {emp['joined_date']}\"\n",
        "    return f\"Employee with ID '{employee_id}' was not found.\"\n",
        "\n",
        "tools = [get_leave_balance, get_company_policy, request_leave, get_employee_info]\n",
        "print(\"✅ HR tools defined and ready for the agent.\")"
      ],
      "metadata": {
        "colab": {
          "base_uri": "https://localhost:8080/"
        },
        "id": "6Jn1ton6Sx5z",
        "outputId": "38961b5f-128a-4c17-e532-b68ab8c41f6d"
      },
      "execution_count": null,
      "outputs": [
        {
          "output_type": "stream",
          "name": "stdout",
          "text": [
            "✅ HR tools defined and ready for the agent.\n"
          ]
        }
      ]
    },
    {
      "cell_type": "code",
      "source": [
        "llm = ChatOpenAI(model=\"gpt-4o-mini\", temperature=0)\n",
        "\n",
        "prompt = ChatPromptTemplate.from_messages([\n",
        "    (\"system\", \"You are a helpful and friendly HR assistant. Your goal is to assist employees with their HR-related queries accurately and professionally. Use the available tools to find information and perform actions. If you cannot answer a question, say so politely.\"),\n",
        "    (\"placeholder\", \"{chat_history}\"),\n",
        "    (\"human\", \"{input}\"),\n",
        "    (\"placeholder\", \"{agent_scratchpad}\"),\n",
        "])\n",
        "\n",
        "agent = create_tool_calling_agent(llm, tools, prompt)\n",
        "agent_executor = AgentExecutor(agent=agent, tools=tools, verbose=True)\n",
        "\n",
        "print(\"✅ HR Agent configured and ready.\")"
      ],
      "metadata": {
        "colab": {
          "base_uri": "https://localhost:8080/"
        },
        "id": "UDYbxE_US5e-",
        "outputId": "f07500a6-06e8-4755-f50f-451d279e9ec7"
      },
      "execution_count": null,
      "outputs": [
        {
          "output_type": "stream",
          "name": "stdout",
          "text": [
            "✅ HR Agent configured and ready.\n"
          ]
        }
      ]
    },
    {
      "cell_type": "code",
      "source": [
        "def main():\n",
        "    print(\"=\"*60)\n",
        "    print(\"🤖 Welcome to the Interactive HR Assistant!\")\n",
        "    print(\"=\"*60)\n",
        "    print(\"\\nI can help you with:\")\n",
        "    print(\"- Leave balances (e.g., 'What is the leave balance for EMP001?')\")\n",
        "    print(\"- Company policies (e.g., 'Tell me about the work from home policy')\")\n",
        "    print(\"- Leave requests (e.g., 'Request 5 days of leave for EMP002 starting next Monday')\")\n",
        "    print(\"- Employee information (e.g., 'Who is EMP003?')\")\n",
        "    print(\"\\nType 'quit' or 'exit' to end the conversation.\\n\")\n",
        "\n",
        "    chat_history = []\n",
        "\n",
        "    while True:\n",
        "        user_input = input(\"You: \").strip()\n",
        "\n",
        "        if user_input.lower() in ['quit', 'exit', 'bye']:\n",
        "            print(\"\\nHR Assistant: Thank you for using the HR Assistant. Have a great day!\")\n",
        "            break\n",
        "\n",
        "        if not user_input:\n",
        "            continue\n",
        "\n",
        "        try:\n",
        "            response = agent_executor.invoke({\n",
        "                \"input\": user_input,\n",
        "                \"chat_history\": chat_history\n",
        "            })\n",
        "\n",
        "            print(f\"\\nHR Assistant: {response['output']}\\n\")\n",
        "\n",
        "            chat_history.append(HumanMessage(content=user_input))\n",
        "            chat_history.append(AIMessage(content=response['output']))\n",
        "\n",
        "        except Exception as e:\n",
        "            print(f\"\\nAn error occurred: {e}\\n\")\n",
        "\n",
        "if __name__ == \"__main__\":\n",
        "    main()"
      ],
      "metadata": {
        "colab": {
          "base_uri": "https://localhost:8080/"
        },
        "id": "o1XqUjH7S_62",
        "outputId": "0cd52a7f-7052-4262-fcb0-46620fd7fef2"
      },
      "execution_count": null,
      "outputs": [
        {
          "output_type": "stream",
          "name": "stdout",
          "text": [
            "============================================================\n",
            "🤖 Welcome to the Interactive HR Assistant!\n",
            "============================================================\n",
            "\n",
            "I can help you with:\n",
            "- Leave balances (e.g., 'What is the leave balance for EMP001?')\n",
            "- Company policies (e.g., 'Tell me about the work from home policy')\n",
            "- Leave requests (e.g., 'Request 5 days of leave for EMP002 starting next Monday')\n",
            "- Employee information (e.g., 'Who is EMP003?')\n",
            "\n",
            "Type 'quit' or 'exit' to end the conversation.\n",
            "\n",
            "You: What is the leave balance for EMP001?\n",
            "\n",
            "\n",
            "\u001b[1m> Entering new AgentExecutor chain...\u001b[0m\n",
            "\u001b[32;1m\u001b[1;3m\n",
            "Invoking: `get_leave_balance` with `{'employee_id': 'EMP001'}`\n",
            "\n",
            "\n",
            "\u001b[0m\u001b[36;1m\u001b[1;3mPriya Sharma has 15 annual leave days and 5 sick leave days remaining.\u001b[0m\u001b[32;1m\u001b[1;3mPriya Sharma has a leave balance of 15 annual leave days and 5 sick leave days remaining.\u001b[0m\n",
            "\n",
            "\u001b[1m> Finished chain.\u001b[0m\n",
            "\n",
            "HR Assistant: Priya Sharma has a leave balance of 15 annual leave days and 5 sick leave days remaining.\n",
            "\n",
            "You: Tell me about the work from home policy\n",
            "\n",
            "\n",
            "\u001b[1m> Entering new AgentExecutor chain...\u001b[0m\n",
            "\u001b[32;1m\u001b[1;3m\n",
            "Invoking: `get_company_policy` with `{'policy_name': 'work from home'}`\n",
            "\n",
            "\n",
            "\u001b[0m\u001b[33;1m\u001b[1;3m\n",
            "    Work From Home Policy:\n",
            "    - Employees can work from home up to 3 days per week.\n",
            "    - Must inform manager 1 day in advance.\n",
            "    - Core hours: 10 AM - 4 PM must be available.\n",
            "    \u001b[0m\u001b[32;1m\u001b[1;3mThe Work From Home Policy is as follows:\n",
            "\n",
            "- Employees can work from home up to 3 days per week.\n",
            "- You must inform your manager at least 1 day in advance.\n",
            "- During core hours (10 AM - 4 PM), you must be available.\n",
            "\n",
            "If you have any further questions about this policy, feel free to ask!\u001b[0m\n",
            "\n",
            "\u001b[1m> Finished chain.\u001b[0m\n",
            "\n",
            "HR Assistant: The Work From Home Policy is as follows:\n",
            "\n",
            "- Employees can work from home up to 3 days per week.\n",
            "- You must inform your manager at least 1 day in advance.\n",
            "- During core hours (10 AM - 4 PM), you must be available.\n",
            "\n",
            "If you have any further questions about this policy, feel free to ask!\n",
            "\n",
            "You: Request 5 days of leave for EMP002 starting next Monday\n",
            "\n",
            "\n",
            "\u001b[1m> Entering new AgentExecutor chain...\u001b[0m\n",
            "\u001b[32;1m\u001b[1;3m\n",
            "Invoking: `request_leave` with `{'employee_id': 'EMP002', 'leave_days': 5, 'start_date': '2023-10-30'}`\n",
            "\n",
            "\n",
            "\u001b[0m\u001b[38;5;200m\u001b[1;3mLeave request for Rahul Verma for 5 days starting 2023-10-30 has been successfully submitted for manager approval.\u001b[0m\u001b[32;1m\u001b[1;3mI have successfully submitted a leave request for Rahul Verma (EMP002) for 5 days starting from next Monday, October 30, 2023. The request is pending manager approval. If you need any further assistance, just let me know!\u001b[0m\n",
            "\n",
            "\u001b[1m> Finished chain.\u001b[0m\n",
            "\n",
            "HR Assistant: I have successfully submitted a leave request for Rahul Verma (EMP002) for 5 days starting from next Monday, October 30, 2023. The request is pending manager approval. If you need any further assistance, just let me know!\n",
            "\n",
            "You: quit\n",
            "\n",
            "HR Assistant: Thank you for using the HR Assistant. Have a great day!\n"
          ]
        }
      ]
    },
    {
      "cell_type": "markdown",
      "source": [
        "Test"
      ],
      "metadata": {
        "id": "P-5d12IsRJV-"
      }
    },
    {
      "cell_type": "code",
      "source": [],
      "metadata": {
        "id": "aO5dYYK3RIyk"
      },
      "execution_count": null,
      "outputs": []
    }
  ],
  "metadata": {
    "colab": {
      "provenance": []
    },
    "kernelspec": {
      "display_name": "Python 3",
      "name": "python3"
    }
  },
  "nbformat": 4,
  "nbformat_minor": 0
}