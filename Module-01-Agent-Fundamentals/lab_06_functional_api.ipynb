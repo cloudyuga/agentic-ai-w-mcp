{
  "cells": [
    {
      "cell_type": "code",
      "metadata": {
        "colab": {
          "base_uri": "https://localhost:8080/"
        },
        "id": "ffa42b57",
        "outputId": "79b6f2a0-4ccf-4e45-d561-879c67f85629"
      },
      "source": [
        "!pip install langgraph"
      ],
      "execution_count": 14,
      "outputs": [
        {
          "output_type": "stream",
          "name": "stdout",
          "text": [
            "Requirement already satisfied: langgraph in /usr/local/lib/python3.12/dist-packages (0.6.8)\n",
            "Requirement already satisfied: langchain-core>=0.1 in /usr/local/lib/python3.12/dist-packages (from langgraph) (0.3.76)\n",
            "Requirement already satisfied: langgraph-checkpoint<3.0.0,>=2.1.0 in /usr/local/lib/python3.12/dist-packages (from langgraph) (2.1.1)\n",
            "Requirement already satisfied: langgraph-prebuilt<0.7.0,>=0.6.0 in /usr/local/lib/python3.12/dist-packages (from langgraph) (0.6.4)\n",
            "Requirement already satisfied: langgraph-sdk<0.3.0,>=0.2.2 in /usr/local/lib/python3.12/dist-packages (from langgraph) (0.2.9)\n",
            "Requirement already satisfied: pydantic>=2.7.4 in /usr/local/lib/python3.12/dist-packages (from langgraph) (2.11.9)\n",
            "Requirement already satisfied: xxhash>=3.5.0 in /usr/local/lib/python3.12/dist-packages (from langgraph) (3.5.0)\n",
            "Requirement already satisfied: langsmith>=0.3.45 in /usr/local/lib/python3.12/dist-packages (from langchain-core>=0.1->langgraph) (0.4.28)\n",
            "Requirement already satisfied: tenacity!=8.4.0,<10.0.0,>=8.1.0 in /usr/local/lib/python3.12/dist-packages (from langchain-core>=0.1->langgraph) (8.5.0)\n",
            "Requirement already satisfied: jsonpatch<2.0,>=1.33 in /usr/local/lib/python3.12/dist-packages (from langchain-core>=0.1->langgraph) (1.33)\n",
            "Requirement already satisfied: PyYAML>=5.3 in /usr/local/lib/python3.12/dist-packages (from langchain-core>=0.1->langgraph) (6.0.2)\n",
            "Requirement already satisfied: typing-extensions>=4.7 in /usr/local/lib/python3.12/dist-packages (from langchain-core>=0.1->langgraph) (4.15.0)\n",
            "Requirement already satisfied: packaging>=23.2 in /usr/local/lib/python3.12/dist-packages (from langchain-core>=0.1->langgraph) (25.0)\n",
            "Requirement already satisfied: ormsgpack>=1.10.0 in /usr/local/lib/python3.12/dist-packages (from langgraph-checkpoint<3.0.0,>=2.1.0->langgraph) (1.10.0)\n",
            "Requirement already satisfied: httpx>=0.25.2 in /usr/local/lib/python3.12/dist-packages (from langgraph-sdk<0.3.0,>=0.2.2->langgraph) (0.28.1)\n",
            "Requirement already satisfied: orjson>=3.10.1 in /usr/local/lib/python3.12/dist-packages (from langgraph-sdk<0.3.0,>=0.2.2->langgraph) (3.11.3)\n",
            "Requirement already satisfied: annotated-types>=0.6.0 in /usr/local/lib/python3.12/dist-packages (from pydantic>=2.7.4->langgraph) (0.7.0)\n",
            "Requirement already satisfied: pydantic-core==2.33.2 in /usr/local/lib/python3.12/dist-packages (from pydantic>=2.7.4->langgraph) (2.33.2)\n",
            "Requirement already satisfied: typing-inspection>=0.4.0 in /usr/local/lib/python3.12/dist-packages (from pydantic>=2.7.4->langgraph) (0.4.1)\n",
            "Requirement already satisfied: anyio in /usr/local/lib/python3.12/dist-packages (from httpx>=0.25.2->langgraph-sdk<0.3.0,>=0.2.2->langgraph) (4.10.0)\n",
            "Requirement already satisfied: certifi in /usr/local/lib/python3.12/dist-packages (from httpx>=0.25.2->langgraph-sdk<0.3.0,>=0.2.2->langgraph) (2025.8.3)\n",
            "Requirement already satisfied: httpcore==1.* in /usr/local/lib/python3.12/dist-packages (from httpx>=0.25.2->langgraph-sdk<0.3.0,>=0.2.2->langgraph) (1.0.9)\n",
            "Requirement already satisfied: idna in /usr/local/lib/python3.12/dist-packages (from httpx>=0.25.2->langgraph-sdk<0.3.0,>=0.2.2->langgraph) (3.10)\n",
            "Requirement already satisfied: h11>=0.16 in /usr/local/lib/python3.12/dist-packages (from httpcore==1.*->httpx>=0.25.2->langgraph-sdk<0.3.0,>=0.2.2->langgraph) (0.16.0)\n",
            "Requirement already satisfied: jsonpointer>=1.9 in /usr/local/lib/python3.12/dist-packages (from jsonpatch<2.0,>=1.33->langchain-core>=0.1->langgraph) (3.0.0)\n",
            "Requirement already satisfied: requests-toolbelt>=1.0.0 in /usr/local/lib/python3.12/dist-packages (from langsmith>=0.3.45->langchain-core>=0.1->langgraph) (1.0.0)\n",
            "Requirement already satisfied: requests>=2.0.0 in /usr/local/lib/python3.12/dist-packages (from langsmith>=0.3.45->langchain-core>=0.1->langgraph) (2.32.4)\n",
            "Requirement already satisfied: zstandard>=0.23.0 in /usr/local/lib/python3.12/dist-packages (from langsmith>=0.3.45->langchain-core>=0.1->langgraph) (0.25.0)\n",
            "Requirement already satisfied: charset_normalizer<4,>=2 in /usr/local/lib/python3.12/dist-packages (from requests>=2.0.0->langsmith>=0.3.45->langchain-core>=0.1->langgraph) (3.4.3)\n",
            "Requirement already satisfied: urllib3<3,>=1.21.1 in /usr/local/lib/python3.12/dist-packages (from requests>=2.0.0->langsmith>=0.3.45->langchain-core>=0.1->langgraph) (2.5.0)\n",
            "Requirement already satisfied: sniffio>=1.1 in /usr/local/lib/python3.12/dist-packages (from anyio->httpx>=0.25.2->langgraph-sdk<0.3.0,>=0.2.2->langgraph) (1.3.1)\n"
          ]
        }
      ]
    },
    {
      "cell_type": "code",
      "source": [
        "from typing import TypedDict\n",
        "from langgraph.graph import StateGraph # Corrected import\n",
        "from langgraph.graph.message import add_messages\n",
        "\n",
        "class ResumeState(TypedDict):\n",
        "    resume_text: str\n",
        "    skills: list[str]\n",
        "    score: int\n",
        "    decision: str\n",
        "\n",
        "def parse_resume(state: ResumeState) -> dict:\n",
        "    print(\"--- Executing Node: parse_resume ---\")\n",
        "    resume = state[\"resume_text\"]\n",
        "    skills = []\n",
        "    if \"python\" in resume.lower():\n",
        "        skills.append(\"Python\")\n",
        "    if \"java\" in resume.lower():\n",
        "        skills.append(\"Java\")\n",
        "    if \"management\" in resume.lower():\n",
        "        skills.append(\"Management\")\n",
        "    return {\"skills\": skills}\n",
        "\n",
        "def score_candidate(state: ResumeState) -> dict:\n",
        "    print(\"--- Executing Node: score_candidate ---\")\n",
        "    score = len(state.get(\"skills\", [])) * 20\n",
        "    return {\"score\": score}\n",
        "\n",
        "def make_decision(state: ResumeState) -> dict:\n",
        "    print(\"--- Executing Node: make_decision ---\")\n",
        "    score = state.get(\"score\", 0)\n",
        "    if score >= 60:\n",
        "        decision = \"Interview\"\n",
        "    elif score >= 40:\n",
        "        decision = \"Second Review\"\n",
        "    else:\n",
        "        decision = \"Reject\"\n",
        "    return {\"decision\": decision}\n",
        "\n",
        "# Changed from Graph to StateGraph\n",
        "graph = StateGraph(ResumeState) # Changed from Graph to StateGraph\n",
        "graph.add_node(\"parse\", parse_resume)\n",
        "graph.add_node(\"score\", score_candidate)\n",
        "graph.add_node(\"decide\", make_decision)\n",
        "\n",
        "graph.set_entry_point(\"parse\")\n",
        "graph.add_edge(\"parse\", \"score\")\n",
        "graph.add_edge(\"score\", \"decide\")\n",
        "graph.set_finish_point(\"decide\")\n",
        "\n",
        "app = graph.compile()\n",
        "\n",
        "initial_state = {\n",
        "    \"resume_text\": \"Experienced Python developer with Java and management experience\"\n",
        "}\n",
        "final_state = app.invoke(initial_state)\n",
        "\n",
        "print(\"\\n\" + \"=\"*50)\n",
        "print(\"FUNCTIONAL API - FINAL STATE:\")\n",
        "print(final_state)\n",
        "print(\"=\"*50)"
      ],
      "outputs": [
        {
          "output_type": "stream",
          "name": "stdout",
          "text": [
            "--- Executing Node: parse_resume ---\n",
            "--- Executing Node: score_candidate ---\n",
            "--- Executing Node: make_decision ---\n",
            "\n",
            "==================================================\n",
            "FUNCTIONAL API - FINAL STATE:\n",
            "{'resume_text': 'Experienced Python developer with Java and management experience', 'skills': ['Python', 'Java', 'Management'], 'score': 60, 'decision': 'Interview'}\n",
            "==================================================\n"
          ]
        }
      ],
      "execution_count": 16,
      "metadata": {
        "colab": {
          "base_uri": "https://localhost:8080/"
        },
        "id": "1xEP0ER91Yqm",
        "outputId": "020d4a42-6641-4422-a8a6-99e30d73361f"
      }
    }
  ],
  "metadata": {
    "colab": {
      "provenance": []
    },
    "kernelspec": {
      "display_name": "Python 3",
      "name": "python3"
    }
  },
  "nbformat": 4,
  "nbformat_minor": 0
}
