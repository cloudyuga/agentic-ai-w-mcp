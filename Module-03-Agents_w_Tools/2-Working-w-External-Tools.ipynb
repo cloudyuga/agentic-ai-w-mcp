{
  "cells": [
    {
      "cell_type": "markdown",
      "metadata": {
        "id": "dUalkvFQNxE3"
      },
      "source": [
        "# Module 4: External Tools & Integrations with LangChain 1.0\n",
        "\n",
        "**Building on Previous Modules:**\n",
        "- Module 1: Built basic agents\n",
        "- Module 2: Learned LangGraph workflows\n",
        "- Module 3: Mastered @tool decorator\n",
        "- Module 4: **Connect to the real world with external integrations!**\n",
        "\n",
        "**What you'll learn:**\n",
        "- 📊 Load data from CSV files (employee records)\n",
        "- 📄 Process PDF documents (HR policies, handbooks)\n",
        "- 🔍 Perform web searches (external information)\n",
        "- 🤖 Build intelligent document Q&A systems\n",
        "- 🔧 Combine multiple data sources in one agent\n",
        "\n",
        "**Real HR Use Case:**\n",
        "Build an intelligent HR assistant that can:\n",
        "- Query employee database (CSV)\n",
        "- Answer policy questions (PDF)\n",
        "- Find external HR best practices (Web Search)\n",
        "- Provide comprehensive, multi-source answers\n",
        "\n",
        "**Time:** 2-3 hours"
      ]
    },
    {
      "cell_type": "markdown",
      "metadata": {
        "id": "DSLY3aglNxE6"
      },
      "source": [
        "## Setup: Install Dependencies"
      ]
    },
    {
      "cell_type": "code",
      "execution_count": 1,
      "metadata": {
        "id": "CUXL8n6JNxE7",
        "outputId": "52998272-4e88-4a51-9217-b3052debf731",
        "colab": {
          "base_uri": "https://localhost:8080/"
        }
      },
      "outputs": [
        {
          "output_type": "stream",
          "name": "stdout",
          "text": [
            "Requirement already satisfied: langchain in /usr/local/lib/python3.12/dist-packages (1.0.0a15)\n",
            "Requirement already satisfied: langchain-openai in /usr/local/lib/python3.12/dist-packages (1.0.0a4)\n",
            "Requirement already satisfied: langgraph in /usr/local/lib/python3.12/dist-packages (1.0.0a4)\n",
            "Requirement already satisfied: langchain-community in /usr/local/lib/python3.12/dist-packages (1.0.0a1)\n",
            "Requirement already satisfied: langchain-core<2.0.0,>=1.0.0a7 in /usr/local/lib/python3.12/dist-packages (from langchain) (1.0.0rc1)\n",
            "Requirement already satisfied: pydantic<3.0.0,>=2.7.4 in /usr/local/lib/python3.12/dist-packages (from langchain) (2.11.10)\n",
            "Requirement already satisfied: openai<3.0.0,>=1.109.1 in /usr/local/lib/python3.12/dist-packages (from langchain-openai) (1.109.1)\n",
            "Requirement already satisfied: tiktoken<1.0.0,>=0.7.0 in /usr/local/lib/python3.12/dist-packages (from langchain-openai) (0.12.0)\n",
            "Requirement already satisfied: langgraph-checkpoint<3.0.0,>=2.1.0 in /usr/local/lib/python3.12/dist-packages (from langgraph) (2.1.2)\n",
            "Requirement already satisfied: langgraph-prebuilt==0.7.0a2 in /usr/local/lib/python3.12/dist-packages (from langgraph) (0.7.0a2)\n",
            "Requirement already satisfied: langgraph-sdk<0.3.0,>=0.2.2 in /usr/local/lib/python3.12/dist-packages (from langgraph) (0.2.9)\n",
            "Requirement already satisfied: xxhash>=3.5.0 in /usr/local/lib/python3.12/dist-packages (from langgraph) (3.6.0)\n",
            "Requirement already satisfied: langchain-text-splitters<2.0.0,>=1.0.0a1 in /usr/local/lib/python3.12/dist-packages (from langchain-community) (1.0.0a1)\n",
            "Requirement already satisfied: langchain-classic<2.0.0,>=1.0.0a1 in /usr/local/lib/python3.12/dist-packages (from langchain-community) (1.0.0a1)\n",
            "Requirement already satisfied: SQLAlchemy<3.0.0,>=1.4.0 in /usr/local/lib/python3.12/dist-packages (from langchain-community) (2.0.43)\n",
            "Requirement already satisfied: requests<3.0.0,>=2.32.5 in /usr/local/lib/python3.12/dist-packages (from langchain-community) (2.32.5)\n",
            "Requirement already satisfied: PyYAML<7.0.0,>=5.3.0 in /usr/local/lib/python3.12/dist-packages (from langchain-community) (6.0.3)\n",
            "Requirement already satisfied: aiohttp<4.0.0,>=3.8.3 in /usr/local/lib/python3.12/dist-packages (from langchain-community) (3.13.0)\n",
            "Requirement already satisfied: tenacity!=8.4.0,<10.0.0,>=8.1.0 in /usr/local/lib/python3.12/dist-packages (from langchain-community) (8.5.0)\n",
            "Requirement already satisfied: dataclasses-json<0.7.0,>=0.6.7 in /usr/local/lib/python3.12/dist-packages (from langchain-community) (0.6.7)\n",
            "Requirement already satisfied: pydantic-settings<3.0.0,>=2.10.1 in /usr/local/lib/python3.12/dist-packages (from langchain-community) (2.11.0)\n",
            "Requirement already satisfied: langsmith<1.0.0,>=0.1.125 in /usr/local/lib/python3.12/dist-packages (from langchain-community) (0.4.33)\n",
            "Requirement already satisfied: httpx-sse<1.0.0,>=0.4.0 in /usr/local/lib/python3.12/dist-packages (from langchain-community) (0.4.2)\n",
            "Requirement already satisfied: numpy>=1.26.2 in /usr/local/lib/python3.12/dist-packages (from langchain-community) (2.0.2)\n",
            "Requirement already satisfied: aiohappyeyeballs>=2.5.0 in /usr/local/lib/python3.12/dist-packages (from aiohttp<4.0.0,>=3.8.3->langchain-community) (2.6.1)\n",
            "Requirement already satisfied: aiosignal>=1.4.0 in /usr/local/lib/python3.12/dist-packages (from aiohttp<4.0.0,>=3.8.3->langchain-community) (1.4.0)\n",
            "Requirement already satisfied: attrs>=17.3.0 in /usr/local/lib/python3.12/dist-packages (from aiohttp<4.0.0,>=3.8.3->langchain-community) (25.4.0)\n",
            "Requirement already satisfied: frozenlist>=1.1.1 in /usr/local/lib/python3.12/dist-packages (from aiohttp<4.0.0,>=3.8.3->langchain-community) (1.8.0)\n",
            "Requirement already satisfied: multidict<7.0,>=4.5 in /usr/local/lib/python3.12/dist-packages (from aiohttp<4.0.0,>=3.8.3->langchain-community) (6.7.0)\n",
            "Requirement already satisfied: propcache>=0.2.0 in /usr/local/lib/python3.12/dist-packages (from aiohttp<4.0.0,>=3.8.3->langchain-community) (0.3.2)\n",
            "Requirement already satisfied: yarl<2.0,>=1.17.0 in /usr/local/lib/python3.12/dist-packages (from aiohttp<4.0.0,>=3.8.3->langchain-community) (1.22.0)\n",
            "Requirement already satisfied: marshmallow<4.0.0,>=3.18.0 in /usr/local/lib/python3.12/dist-packages (from dataclasses-json<0.7.0,>=0.6.7->langchain-community) (3.26.1)\n",
            "Requirement already satisfied: typing-inspect<1,>=0.4.0 in /usr/local/lib/python3.12/dist-packages (from dataclasses-json<0.7.0,>=0.6.7->langchain-community) (0.9.0)\n",
            "Requirement already satisfied: jsonpatch<2.0.0,>=1.33.0 in /usr/local/lib/python3.12/dist-packages (from langchain-core<2.0.0,>=1.0.0a7->langchain) (1.33)\n",
            "Requirement already satisfied: packaging<26.0.0,>=23.2.0 in /usr/local/lib/python3.12/dist-packages (from langchain-core<2.0.0,>=1.0.0a7->langchain) (25.0)\n",
            "Requirement already satisfied: typing-extensions<5.0.0,>=4.7.0 in /usr/local/lib/python3.12/dist-packages (from langchain-core<2.0.0,>=1.0.0a7->langchain) (4.15.0)\n",
            "Requirement already satisfied: ormsgpack>=1.10.0 in /usr/local/lib/python3.12/dist-packages (from langgraph-checkpoint<3.0.0,>=2.1.0->langgraph) (1.11.0)\n",
            "Requirement already satisfied: httpx>=0.25.2 in /usr/local/lib/python3.12/dist-packages (from langgraph-sdk<0.3.0,>=0.2.2->langgraph) (0.28.1)\n",
            "Requirement already satisfied: orjson>=3.10.1 in /usr/local/lib/python3.12/dist-packages (from langgraph-sdk<0.3.0,>=0.2.2->langgraph) (3.11.3)\n",
            "Requirement already satisfied: requests-toolbelt>=1.0.0 in /usr/local/lib/python3.12/dist-packages (from langsmith<1.0.0,>=0.1.125->langchain-community) (1.0.0)\n",
            "Requirement already satisfied: zstandard>=0.23.0 in /usr/local/lib/python3.12/dist-packages (from langsmith<1.0.0,>=0.1.125->langchain-community) (0.25.0)\n",
            "Requirement already satisfied: anyio<5,>=3.5.0 in /usr/local/lib/python3.12/dist-packages (from openai<3.0.0,>=1.109.1->langchain-openai) (4.11.0)\n",
            "Requirement already satisfied: distro<2,>=1.7.0 in /usr/local/lib/python3.12/dist-packages (from openai<3.0.0,>=1.109.1->langchain-openai) (1.9.0)\n",
            "Requirement already satisfied: jiter<1,>=0.4.0 in /usr/local/lib/python3.12/dist-packages (from openai<3.0.0,>=1.109.1->langchain-openai) (0.11.0)\n",
            "Requirement already satisfied: sniffio in /usr/local/lib/python3.12/dist-packages (from openai<3.0.0,>=1.109.1->langchain-openai) (1.3.1)\n",
            "Requirement already satisfied: tqdm>4 in /usr/local/lib/python3.12/dist-packages (from openai<3.0.0,>=1.109.1->langchain-openai) (4.67.1)\n",
            "Requirement already satisfied: annotated-types>=0.6.0 in /usr/local/lib/python3.12/dist-packages (from pydantic<3.0.0,>=2.7.4->langchain) (0.7.0)\n",
            "Requirement already satisfied: pydantic-core==2.33.2 in /usr/local/lib/python3.12/dist-packages (from pydantic<3.0.0,>=2.7.4->langchain) (2.33.2)\n",
            "Requirement already satisfied: typing-inspection>=0.4.0 in /usr/local/lib/python3.12/dist-packages (from pydantic<3.0.0,>=2.7.4->langchain) (0.4.2)\n",
            "Requirement already satisfied: python-dotenv>=0.21.0 in /usr/local/lib/python3.12/dist-packages (from pydantic-settings<3.0.0,>=2.10.1->langchain-community) (1.1.1)\n",
            "Requirement already satisfied: charset_normalizer<4,>=2 in /usr/local/lib/python3.12/dist-packages (from requests<3.0.0,>=2.32.5->langchain-community) (3.4.3)\n",
            "Requirement already satisfied: idna<4,>=2.5 in /usr/local/lib/python3.12/dist-packages (from requests<3.0.0,>=2.32.5->langchain-community) (3.10)\n",
            "Requirement already satisfied: urllib3<3,>=1.21.1 in /usr/local/lib/python3.12/dist-packages (from requests<3.0.0,>=2.32.5->langchain-community) (2.5.0)\n",
            "Requirement already satisfied: certifi>=2017.4.17 in /usr/local/lib/python3.12/dist-packages (from requests<3.0.0,>=2.32.5->langchain-community) (2025.10.5)\n",
            "Requirement already satisfied: greenlet>=1 in /usr/local/lib/python3.12/dist-packages (from SQLAlchemy<3.0.0,>=1.4.0->langchain-community) (3.2.4)\n",
            "Requirement already satisfied: regex>=2022.1.18 in /usr/local/lib/python3.12/dist-packages (from tiktoken<1.0.0,>=0.7.0->langchain-openai) (2024.11.6)\n",
            "Requirement already satisfied: httpcore==1.* in /usr/local/lib/python3.12/dist-packages (from httpx>=0.25.2->langgraph-sdk<0.3.0,>=0.2.2->langgraph) (1.0.9)\n",
            "Requirement already satisfied: h11>=0.16 in /usr/local/lib/python3.12/dist-packages (from httpcore==1.*->httpx>=0.25.2->langgraph-sdk<0.3.0,>=0.2.2->langgraph) (0.16.0)\n",
            "Requirement already satisfied: jsonpointer>=1.9 in /usr/local/lib/python3.12/dist-packages (from jsonpatch<2.0.0,>=1.33.0->langchain-core<2.0.0,>=1.0.0a7->langchain) (3.0.0)\n",
            "Requirement already satisfied: mypy-extensions>=0.3.0 in /usr/local/lib/python3.12/dist-packages (from typing-inspect<1,>=0.4.0->dataclasses-json<0.7.0,>=0.6.7->langchain-community) (1.1.0)\n",
            "Requirement already satisfied: pypdf in /usr/local/lib/python3.12/dist-packages (6.1.1)\n",
            "Requirement already satisfied: faiss-cpu in /usr/local/lib/python3.12/dist-packages (1.12.0)\n",
            "Requirement already satisfied: numpy<3.0,>=1.25.0 in /usr/local/lib/python3.12/dist-packages (from faiss-cpu) (2.0.2)\n",
            "Requirement already satisfied: packaging in /usr/local/lib/python3.12/dist-packages (from faiss-cpu) (25.0)\n",
            "Requirement already satisfied: duckduckgo-search in /usr/local/lib/python3.12/dist-packages (8.1.1)\n",
            "Requirement already satisfied: ddgs in /usr/local/lib/python3.12/dist-packages (9.6.1)\n",
            "Requirement already satisfied: click>=8.1.8 in /usr/local/lib/python3.12/dist-packages (from duckduckgo-search) (8.3.0)\n",
            "Requirement already satisfied: primp>=0.15.0 in /usr/local/lib/python3.12/dist-packages (from duckduckgo-search) (0.15.0)\n",
            "Requirement already satisfied: lxml>=5.3.0 in /usr/local/lib/python3.12/dist-packages (from duckduckgo-search) (6.0.2)\n",
            "Requirement already satisfied: httpx>=0.28.1 in /usr/local/lib/python3.12/dist-packages (from httpx[brotli,http2,socks]>=0.28.1->ddgs) (0.28.1)\n",
            "Requirement already satisfied: anyio in /usr/local/lib/python3.12/dist-packages (from httpx>=0.28.1->httpx[brotli,http2,socks]>=0.28.1->ddgs) (4.11.0)\n",
            "Requirement already satisfied: certifi in /usr/local/lib/python3.12/dist-packages (from httpx>=0.28.1->httpx[brotli,http2,socks]>=0.28.1->ddgs) (2025.10.5)\n",
            "Requirement already satisfied: httpcore==1.* in /usr/local/lib/python3.12/dist-packages (from httpx>=0.28.1->httpx[brotli,http2,socks]>=0.28.1->ddgs) (1.0.9)\n",
            "Requirement already satisfied: idna in /usr/local/lib/python3.12/dist-packages (from httpx>=0.28.1->httpx[brotli,http2,socks]>=0.28.1->ddgs) (3.10)\n",
            "Requirement already satisfied: h11>=0.16 in /usr/local/lib/python3.12/dist-packages (from httpcore==1.*->httpx>=0.28.1->httpx[brotli,http2,socks]>=0.28.1->ddgs) (0.16.0)\n",
            "Requirement already satisfied: brotli in /usr/local/lib/python3.12/dist-packages (from httpx[brotli,http2,socks]>=0.28.1->ddgs) (1.1.0)\n",
            "Requirement already satisfied: h2<5,>=3 in /usr/local/lib/python3.12/dist-packages (from httpx[brotli,http2,socks]>=0.28.1->ddgs) (4.3.0)\n",
            "Requirement already satisfied: socksio==1.* in /usr/local/lib/python3.12/dist-packages (from httpx[brotli,http2,socks]>=0.28.1->ddgs) (1.0.0)\n",
            "Requirement already satisfied: hyperframe<7,>=6.1 in /usr/local/lib/python3.12/dist-packages (from h2<5,>=3->httpx[brotli,http2,socks]>=0.28.1->ddgs) (6.1.0)\n",
            "Requirement already satisfied: hpack<5,>=4.1 in /usr/local/lib/python3.12/dist-packages (from h2<5,>=3->httpx[brotli,http2,socks]>=0.28.1->ddgs) (4.1.0)\n",
            "Requirement already satisfied: sniffio>=1.1 in /usr/local/lib/python3.12/dist-packages (from anyio->httpx>=0.28.1->httpx[brotli,http2,socks]>=0.28.1->ddgs) (1.3.1)\n",
            "Requirement already satisfied: typing_extensions>=4.5 in /usr/local/lib/python3.12/dist-packages (from anyio->httpx>=0.28.1->httpx[brotli,http2,socks]>=0.28.1->ddgs) (4.15.0)\n"
          ]
        }
      ],
      "source": [
        "# Install LangChain 1.0 and integration packages\n",
        "!pip install --pre -U langchain langchain-openai langgraph langchain-community\n",
        "!pip install pypdf  # For PDF processing\n",
        "!pip install faiss-cpu  # For vector storage\n",
        "!pip install duckduckgo-search  ddgs # For web search (free, no API key needed!)"
      ]
    },
    {
      "cell_type": "markdown",
      "metadata": {
        "id": "EIjkx9olNxE8"
      },
      "source": [
        "## Setup: Configure API Keys"
      ]
    },
    {
      "cell_type": "code",
      "execution_count": 2,
      "metadata": {
        "id": "umOoAVWsNxE8",
        "outputId": "a638fdb1-9a00-4339-b62e-e8aeb83c49b4",
        "colab": {
          "base_uri": "https://localhost:8080/"
        }
      },
      "outputs": [
        {
          "output_type": "stream",
          "name": "stdout",
          "text": [
            "✅ API Keys configured!\n"
          ]
        }
      ],
      "source": [
        "from google.colab import userdata\n",
        "import os\n",
        "\n",
        "os.environ['OPENAI_API_KEY'] = userdata.get('OPENAI_API_KEY')\n",
        "print(\"✅ API Keys configured!\")"
      ]
    },
    {
      "cell_type": "markdown",
      "metadata": {
        "id": "O6tn_3zeNxE8"
      },
      "source": [
        "---\n",
        "# Lab 1: CSV Loader - Employee Database 📊\n",
        "\n",
        "**Objective:** Load and query employee data from CSV files.\n",
        "\n",
        "**Why CSV Loaders?**\n",
        "- Most HR systems export to CSV\n",
        "- Easy to update and maintain\n",
        "- Perfect for structured employee data"
      ]
    },
    {
      "cell_type": "markdown",
      "metadata": {
        "id": "6jSr_9h2NxE8"
      },
      "source": [
        "## Part 1: Create Sample Employee CSV"
      ]
    },
    {
      "cell_type": "code",
      "execution_count": 3,
      "metadata": {
        "id": "ijo7ZCu4NxE8",
        "outputId": "f9d4d79c-10b9-438c-d2b8-0d3eb54ba251",
        "colab": {
          "base_uri": "https://localhost:8080/"
        }
      },
      "outputs": [
        {
          "output_type": "stream",
          "name": "stdout",
          "text": [
            "✅ Employee CSV created!\n",
            "Total employees: 8\n",
            "\n",
            "File: employees.csv\n"
          ]
        }
      ],
      "source": [
        "import csv\n",
        "\n",
        "# Create sample employee data matching our HR use case\n",
        "employee_data = [\n",
        "    [\"employee_id\", \"name\", \"department\", \"position\", \"email\", \"phone\", \"hire_date\", \"salary\", \"leave_balance\"],\n",
        "    [\"101\", \"Priya Sharma\", \"Engineering\", \"Senior Developer\", \"priya.sharma@company.com\", \"+91-9876543210\", \"2020-03-15\", \"₹12,00,000\", \"12\"],\n",
        "    [\"102\", \"Rahul Verma\", \"Engineering\", \"Manager\", \"rahul.verma@company.com\", \"+91-9876543211\", \"2018-06-20\", \"₹18,00,000\", \"8\"],\n",
        "    [\"103\", \"Anjali Patel\", \"HR\", \"Director\", \"anjali.patel@company.com\", \"+91-9876543212\", \"2015-01-10\", \"₹25,00,000\", \"15\"],\n",
        "    [\"104\", \"Arjun Reddy\", \"Sales\", \"Team Lead\", \"arjun.reddy@company.com\", \"+91-9876543213\", \"2019-09-05\", \"₹15,00,000\", \"10\"],\n",
        "    [\"105\", \"Sneha Gupta\", \"Marketing\", \"Specialist\", \"sneha.gupta@company.com\", \"+91-9876543214\", \"2021-11-22\", \"₹10,00,000\", \"5\"],\n",
        "    [\"106\", \"Karan Singh\", \"Engineering\", \"Junior Developer\", \"karan.singh@company.com\", \"+91-9876543215\", \"2023-02-14\", \"₹8,00,000\", \"20\"],\n",
        "    [\"107\", \"Pooja Reddy\", \"HR\", \"Recruiter\", \"pooja.reddy@company.com\", \"+91-9876543216\", \"2022-07-01\", \"₹9,00,000\", \"18\"],\n",
        "    [\"108\", \"Vikram Patel\", \"Sales\", \"Executive\", \"vikram.patel@company.com\", \"+91-9876543217\", \"2020-12-10\", \"₹11,00,000\", \"14\"],\n",
        "]\n",
        "\n",
        "# Write to CSV file\n",
        "with open('employees.csv', 'w', newline='', encoding='utf-8') as file:\n",
        "    writer = csv.writer(file)\n",
        "    writer.writerows(employee_data)\n",
        "\n",
        "print(\"✅ Employee CSV created!\")\n",
        "print(f\"Total employees: {len(employee_data) - 1}\")\n",
        "print(\"\\nFile: employees.csv\")"
      ]
    },
    {
      "cell_type": "markdown",
      "metadata": {
        "id": "J_J_KosrNxE9"
      },
      "source": [
        "## Part 2: Load CSV with LangChain CSVLoader"
      ]
    },
    {
      "cell_type": "code",
      "execution_count": 4,
      "metadata": {
        "id": "Skm9cjUuNxE9",
        "outputId": "72c67f01-b29e-424e-f10e-b0f14618e03b",
        "colab": {
          "base_uri": "https://localhost:8080/"
        }
      },
      "outputs": [
        {
          "output_type": "stream",
          "name": "stdout",
          "text": [
            "✅ Loaded 8 employee records\n",
            "\n",
            "Sample Document:\n",
            "======================================================================\n",
            "Content:\n",
            "employee_id: 101\n",
            "name: Priya Sharma\n",
            "department: Engineering\n",
            "position: Senior Developer\n",
            "email: priya.sharma@company.com\n",
            "phone: +91-9876543210\n",
            "hire_date: 2020-03-15\n",
            "salary: ₹12,00,000\n",
            "leave_balance: 12\n",
            "\n",
            "Metadata: {'source': '101', 'row': 0}\n"
          ]
        }
      ],
      "source": [
        "from langchain_community.document_loaders import CSVLoader\n",
        "\n",
        "# Load the CSV file\n",
        "loader = CSVLoader(\n",
        "    file_path='employees.csv',\n",
        "    source_column='employee_id',  # Use employee_id as the source\n",
        "    encoding='utf-8'\n",
        ")\n",
        "\n",
        "documents = loader.load()\n",
        "\n",
        "print(f\"✅ Loaded {len(documents)} employee records\\n\")\n",
        "print(\"Sample Document:\")\n",
        "print(\"=\" * 70)\n",
        "print(f\"Content:\\n{documents[0].page_content}\")\n",
        "print(f\"\\nMetadata: {documents[0].metadata}\")"
      ]
    },
    {
      "cell_type": "markdown",
      "metadata": {
        "id": "_ijemJTBNxE9"
      },
      "source": [
        "## Part 3: Create a @tool for CSV Querying"
      ]
    },
    {
      "cell_type": "code",
      "source": [
        "## Part 3: Create a @tool for CSV Querying\n",
        "\n",
        "from langchain_core.tools import tool\n",
        "from typing import Annotated\n",
        "\n",
        "# ✅ USE THE DOCUMENTS LOADED IN PART 2!\n",
        "employee_documents = documents\n",
        "\n",
        "@tool\n",
        "def search_employee_database(\n",
        "    query: Annotated[str, \"Search query for employee information\"]\n",
        ") -> str:\n",
        "    \"\"\"Search the employee database using CSVLoader documents.\n",
        "    Returns matching employee information.\"\"\"\n",
        "\n",
        "    query_lower = query.lower()\n",
        "    results = []\n",
        "\n",
        "    # ✅ NOW WE USE THE CSVLOADER DOCUMENTS!\n",
        "    for doc in employee_documents:\n",
        "        if query_lower in doc.page_content.lower():\n",
        "            results.append(doc.page_content)\n",
        "\n",
        "    if results:\n",
        "        return \"\\n\\n\".join(results)\n",
        "    return f\"No employees found matching '{query}'\"\n",
        "\n",
        "# Test the tool\n",
        "print(\"Testing Employee Search Tool (Using CSVLoader):\")\n",
        "print(\"=\" * 70)\n",
        "result = search_employee_database.invoke({\"query\": \"Engineering\"})\n",
        "print(result)"
      ],
      "metadata": {
        "id": "1Zs2iJGeQdu3",
        "outputId": "f63342dc-f799-4e90-a36c-9919d151e865",
        "colab": {
          "base_uri": "https://localhost:8080/"
        }
      },
      "execution_count": 5,
      "outputs": [
        {
          "output_type": "stream",
          "name": "stdout",
          "text": [
            "Testing Employee Search Tool (Using CSVLoader):\n",
            "======================================================================\n",
            "employee_id: 101\n",
            "name: Priya Sharma\n",
            "department: Engineering\n",
            "position: Senior Developer\n",
            "email: priya.sharma@company.com\n",
            "phone: +91-9876543210\n",
            "hire_date: 2020-03-15\n",
            "salary: ₹12,00,000\n",
            "leave_balance: 12\n",
            "\n",
            "employee_id: 102\n",
            "name: Rahul Verma\n",
            "department: Engineering\n",
            "position: Manager\n",
            "email: rahul.verma@company.com\n",
            "phone: +91-9876543211\n",
            "hire_date: 2018-06-20\n",
            "salary: ₹18,00,000\n",
            "leave_balance: 8\n",
            "\n",
            "employee_id: 106\n",
            "name: Karan Singh\n",
            "department: Engineering\n",
            "position: Junior Developer\n",
            "email: karan.singh@company.com\n",
            "phone: +91-9876543215\n",
            "hire_date: 2023-02-14\n",
            "salary: ₹8,00,000\n",
            "leave_balance: 20\n"
          ]
        }
      ]
    },
    {
      "cell_type": "markdown",
      "metadata": {
        "id": "5kmSsbJTNxE9"
      },
      "source": [
        "---\n",
        "# Lab 2: PDF Loader - HR Policy Documents 📄\n",
        "\n",
        "**Objective:** Process PDF documents and make them queryable.\n",
        "\n",
        "**Why PDF Loaders?**\n",
        "- Company policies are usually in PDF\n",
        "- Employee handbooks, contracts\n",
        "- Need to answer questions from these documents"
      ]
    },
    {
      "cell_type": "markdown",
      "metadata": {
        "id": "MW7KUkaBNxE-"
      },
      "source": [
        "## Part 1: Create Sample HR Policy PDF\n",
        "\n"
      ]
    },
    {
      "cell_type": "code",
      "source": [
        "!pip install -q reportlab"
      ],
      "metadata": {
        "id": "3nx2lt3HRMTI"
      },
      "execution_count": 6,
      "outputs": []
    },
    {
      "cell_type": "code",
      "execution_count": 7,
      "metadata": {
        "id": "mDoR0WylNxE-",
        "outputId": "3b65be3b-0224-48ac-a159-ab343f111e94",
        "colab": {
          "base_uri": "https://localhost:8080/"
        }
      },
      "outputs": [
        {
          "output_type": "stream",
          "name": "stdout",
          "text": [
            "✅ HR Policy PDF created: hr_policy.pdf\n"
          ]
        }
      ],
      "source": [
        "from reportlab.lib.pagesizes import letter\n",
        "from reportlab.platypus import SimpleDocTemplate, Paragraph, Spacer\n",
        "from reportlab.lib.styles import getSampleStyleSheet\n",
        "\n",
        "# Install reportlab if needed\n",
        "!pip install -q reportlab\n",
        "\n",
        "# Create HR Policy PDF\n",
        "doc = SimpleDocTemplate(\"hr_policy.pdf\", pagesize=letter)\n",
        "styles = getSampleStyleSheet()\n",
        "story = []\n",
        "\n",
        "# Title\n",
        "story.append(Paragraph(\"COMPANY HR POLICIES\", styles['Title']))\n",
        "story.append(Spacer(1, 12))\n",
        "\n",
        "# Policy content\n",
        "policies = [\n",
        "    (\"Leave Policy\", \"Employees are entitled to 20 days of paid leave per year. Leave must be approved by the immediate supervisor at least 2 weeks in advance for planned absences. Sick leave requires medical documentation for absences exceeding 3 consecutive days. Unused leave can be carried forward up to 5 days to the next year.\"),\n",
        "    (\"Work From Home Policy\", \"Employees can work from home up to 2 days per week with manager approval. Remote work requires stable internet connection and dedicated workspace. Core working hours (10 AM - 4 PM) must be maintained. All communication tools must be active during working hours.\"),\n",
        "    (\"Performance Review\", \"Performance reviews are conducted bi-annually in June and December. Reviews assess goal achievement, skill development, and team contribution. Salary increments are based on performance ratings. Employees can request additional feedback sessions with managers at any time.\"),\n",
        "    (\"Benefits\", \"All full-time employees receive health insurance, life insurance, and provident fund benefits. Health insurance covers employee and immediate family. Annual health check-ups are provided. Education reimbursement up to ₹50,000 per year for job-related courses.\"),\n",
        "    (\"Code of Conduct\", \"Employees must maintain professional behavior and respect colleagues. Discrimination or harassment of any kind is strictly prohibited. Company resources should be used responsibly. Confidential information must not be shared externally.\"),\n",
        "]\n",
        "\n",
        "for title, content in policies:\n",
        "    story.append(Paragraph(f\"<b>{title}</b>\", styles['Heading2']))\n",
        "    story.append(Spacer(1, 6))\n",
        "    story.append(Paragraph(content, styles['BodyText']))\n",
        "    story.append(Spacer(1, 12))\n",
        "\n",
        "doc.build(story)\n",
        "print(\"✅ HR Policy PDF created: hr_policy.pdf\")"
      ]
    },
    {
      "cell_type": "markdown",
      "metadata": {
        "id": "nILhhIZPNxE-"
      },
      "source": [
        "## Part 2: Load and Process PDF"
      ]
    },
    {
      "cell_type": "code",
      "execution_count": 8,
      "metadata": {
        "id": "oR86c_qLNxE-",
        "outputId": "3592ce8d-738e-4125-e7d6-3bcc8564f80d",
        "colab": {
          "base_uri": "https://localhost:8080/"
        }
      },
      "outputs": [
        {
          "output_type": "stream",
          "name": "stdout",
          "text": [
            "✅ Loaded 1 pages from PDF\n",
            "\n",
            "First page content:\n",
            "======================================================================\n",
            "COMPANY HR POLICIES\n",
            "Leave Policy\n",
            "Employees are entitled to 20 days of paid leave per year. Leave must be approved by the immediate\n",
            "supervisor at least 2 weeks in advance for planned absences. Sick leave requires medical\n",
            "documentation for absences exceeding 3 consecutive days. Unused leave can be carried forward up to\n",
            "5 days to the next year.\n",
            "Work From Home Policy\n",
            "Employees can work from home up to 2 days per week with manager approval. Remote work requires\n",
            "stable internet connection and dedicate\n",
            "\n",
            "✅ Split into 4 chunks for processing\n"
          ]
        }
      ],
      "source": [
        "from langchain_community.document_loaders import PyPDFLoader\n",
        "from langchain_text_splitters import RecursiveCharacterTextSplitter\n",
        "\n",
        "# Load PDF\n",
        "pdf_loader = PyPDFLoader(\"hr_policy.pdf\")\n",
        "pdf_documents = pdf_loader.load()\n",
        "\n",
        "print(f\"✅ Loaded {len(pdf_documents)} pages from PDF\\n\")\n",
        "print(\"First page content:\")\n",
        "print(\"=\" * 70)\n",
        "print(pdf_documents[0].page_content[:500])\n",
        "\n",
        "# Split into chunks for better retrieval\n",
        "text_splitter = RecursiveCharacterTextSplitter(\n",
        "    chunk_size=500,\n",
        "    chunk_overlap=50\n",
        ")\n",
        "pdf_chunks = text_splitter.split_documents(pdf_documents)\n",
        "print(f\"\\n✅ Split into {len(pdf_chunks)} chunks for processing\")"
      ]
    },
    {
      "cell_type": "markdown",
      "metadata": {
        "id": "BsrLh3AINxE-"
      },
      "source": [
        "## Part 3: Create Vector Store for PDF Q&A"
      ]
    },
    {
      "cell_type": "code",
      "execution_count": 9,
      "metadata": {
        "id": "sm9ruI88NxE_",
        "outputId": "a8faa2be-ced4-41db-e337-36a7228c37a8",
        "colab": {
          "base_uri": "https://localhost:8080/"
        }
      },
      "outputs": [
        {
          "output_type": "stream",
          "name": "stdout",
          "text": [
            "✅ Vector store created from HR policy PDF\n",
            "Indexed 4 text chunks\n",
            "\n",
            "Test Query: 'What is the leave policy?'\n",
            "======================================================================\n",
            "Top Result:\n",
            "COMPANY HR POLICIES\n",
            "Leave Policy\n",
            "Employees are entitled to 20 days of paid leave per year. Leave must be approved by the immediate\n",
            "supervisor at least 2 weeks in advance for planned absences. Sick leave requires medical\n",
            "documentation for absences exceeding 3 consecutive days. Unused leave can be carried forward up to\n",
            "5 days to the next year.\n",
            "Work From Home Policy\n",
            "Employees can work from home up to 2 days per week with manager approval. Remote work requires\n"
          ]
        }
      ],
      "source": [
        "from langchain_openai import OpenAIEmbeddings\n",
        "from langchain_community.vectorstores import FAISS\n",
        "\n",
        "# Create embeddings and vector store\n",
        "embeddings = OpenAIEmbeddings()\n",
        "vectorstore = FAISS.from_documents(pdf_chunks, embeddings)\n",
        "\n",
        "print(\"✅ Vector store created from HR policy PDF\")\n",
        "print(f\"Indexed {len(pdf_chunks)} text chunks\")\n",
        "\n",
        "# Test retrieval\n",
        "query = \"What is the leave policy?\"\n",
        "results = vectorstore.similarity_search(query, k=2)\n",
        "\n",
        "print(f\"\\nTest Query: '{query}'\")\n",
        "print(\"=\" * 70)\n",
        "print(\"Top Result:\")\n",
        "print(results[0].page_content)"
      ]
    },
    {
      "cell_type": "markdown",
      "metadata": {
        "id": "wD8yD0SONxE_"
      },
      "source": [
        "## Part 4: Create @tool for Policy Questions"
      ]
    },
    {
      "cell_type": "code",
      "execution_count": 10,
      "metadata": {
        "id": "rIkxh8ZKNxE_",
        "outputId": "c65d2766-9d22-4d9e-a73d-adc7fb45cbdf",
        "colab": {
          "base_uri": "https://localhost:8080/"
        }
      },
      "outputs": [
        {
          "output_type": "stream",
          "name": "stdout",
          "text": [
            "Testing HR Policy Query Tool:\n",
            "======================================================================\n",
            "Employees are allowed to work from home up to 2 days per week with manager approval.\n"
          ]
        }
      ],
      "source": [
        "@tool\n",
        "def query_hr_policies(question: Annotated[str, \"Question about company HR policies\"]) -> str:\n",
        "    \"\"\"Answer questions about company HR policies including leave, work from home,\n",
        "    performance reviews, benefits, and code of conduct.\"\"\"\n",
        "\n",
        "    # Retrieve relevant policy sections\n",
        "    relevant_docs = vectorstore.similarity_search(question, k=3)\n",
        "\n",
        "    # Combine context\n",
        "    context = \"\\n\\n\".join([doc.page_content for doc in relevant_docs])\n",
        "\n",
        "    # Use LLM to answer based on context\n",
        "    from langchain_openai import ChatOpenAI\n",
        "    llm = ChatOpenAI(model=\"gpt-4o-mini\", temperature=0)\n",
        "\n",
        "    prompt = f\"\"\"Based on the following HR policy information, answer the question.\n",
        "\n",
        "Policy Information:\n",
        "{context}\n",
        "\n",
        "Question: {question}\n",
        "\n",
        "Answer concisely based only on the policy information provided:\"\"\"\n",
        "\n",
        "    response = llm.invoke(prompt)\n",
        "    return response.content\n",
        "\n",
        "# Test the tool\n",
        "print(\"Testing HR Policy Query Tool:\")\n",
        "print(\"=\" * 70)\n",
        "result = query_hr_policies.invoke({\"question\": \"How many work from home days are allowed?\"})\n",
        "print(result)"
      ]
    },
    {
      "cell_type": "markdown",
      "metadata": {
        "id": "fFXSPSQjNxE_"
      },
      "source": [
        "---\n",
        "# Lab 3: Web Search Integration 🔍\n",
        "\n",
        "**Objective:** Add web search capability for external information.\n",
        "\n",
        "**Why Web Search?**\n",
        "- Find latest HR best practices\n",
        "- Research industry standards\n",
        "- Get current information not in company docs"
      ]
    },
    {
      "cell_type": "markdown",
      "metadata": {
        "id": "4S79HP9CNxE_"
      },
      "source": [
        "## Part 1: Set up DuckDuckGo Search (Free!)"
      ]
    },
    {
      "cell_type": "code",
      "execution_count": 11,
      "metadata": {
        "id": "KYs2hSXZNxE_",
        "outputId": "f94ae925-20d0-40a9-bdb8-a4bec3c547a5",
        "colab": {
          "base_uri": "https://localhost:8080/"
        }
      },
      "outputs": [
        {
          "output_type": "stream",
          "name": "stdout",
          "text": [
            "Testing Web Search:\n",
            "======================================================================\n",
            "How to Master HR Best Practices for Remote Teams in 2025 : A Step-by-Step Guide By Katrina Ghazarian on March 8, 2025 . How to Master HR Best Practices for Remote Teams in 2025 : A Step-by-Step Guide Remote work has become mainstream, with 82% of executives now offering it as an option. Almost half of them have embraced full-time remote arrangements. Best Practices for Managing Remote Employees in Hybrid Workplaces Managers who set clear expectations, follow through consistently, and provide spa\n"
          ]
        }
      ],
      "source": [
        "from langchain_community.tools import DuckDuckGoSearchRun\n",
        "\n",
        "# Create search tool\n",
        "search = DuckDuckGoSearchRun()\n",
        "\n",
        "# Test it\n",
        "print(\"Testing Web Search:\")\n",
        "print(\"=\" * 70)\n",
        "result = search.run(\"best HR practices for remote work 2025\")\n",
        "print(result[:500])  # First 500 chars"
      ]
    },
    {
      "cell_type": "markdown",
      "metadata": {
        "id": "UQxHKJrmNxE_"
      },
      "source": [
        "## Part 2: Create Custom Search Tool"
      ]
    },
    {
      "cell_type": "code",
      "execution_count": 12,
      "metadata": {
        "id": "P_MPM9uwNxE_",
        "outputId": "b68a2230-826f-41a4-edec-7bb2b50f8ed7",
        "colab": {
          "base_uri": "https://localhost:8080/"
        }
      },
      "outputs": [
        {
          "output_type": "stream",
          "name": "stdout",
          "text": [
            "Testing HR Best Practices Search:\n",
            "======================================================================\n",
            "Web search results for 'employee wellness programs':\n",
            "\n",
            "January 28, 2025 - You can do that by: Offer a cafeteria-style benefits plan where employees can choose from a range of options to suit their individual needs. Implement a wellness program that includes both physical and mental wellbeing components, like gym membership subsidies and access to counseling services . 1 month ago - Cut burnout, lower costs, and energize teams with whole-person wellness programs proven to deliver strong ROI and happier employees . May 6, 2025 - From mental health support to flexible ... wellness programs have ev\n"
          ]
        }
      ],
      "source": [
        "@tool\n",
        "def search_hr_best_practices(topic: Annotated[str, \"HR topic to search for (e.g., 'remote work policies', 'employee benefits')\"]) -> str:\n",
        "    \"\"\"Search the web for HR best practices and industry standards on a specific topic.\n",
        "    Useful when company policies don't have information or when you need external references.\"\"\"\n",
        "\n",
        "    search_tool = DuckDuckGoSearchRun()\n",
        "    query = f\"HR best practices {topic} 2025\"\n",
        "\n",
        "    try:\n",
        "        results = search_tool.run(query)\n",
        "        return f\"Web search results for '{topic}':\\n\\n{results[:1000]}\"  # Limit to 1000 chars\n",
        "    except Exception as e:\n",
        "        return f\"Search unavailable: {str(e)}\"\n",
        "\n",
        "# Test\n",
        "print(\"Testing HR Best Practices Search:\")\n",
        "print(\"=\" * 70)\n",
        "result = search_hr_best_practices.invoke({\"topic\": \"employee wellness programs\"})\n",
        "print(result[:600])"
      ]
    },
    {
      "cell_type": "markdown",
      "metadata": {
        "id": "ZMBwmHLONxFA"
      },
      "source": [
        "---\n",
        "# Lab 4: Building the Complete HR Assistant 🤖\n",
        "\n",
        "**Objective:** Combine all tools into one intelligent HR agent.\n",
        "\n",
        "**The agent can:**\n",
        "- ✅ Search employee database (CSV)\n",
        "- ✅ Answer policy questions (PDF)\n",
        "- ✅ Find external best practices (Web)\n",
        "- ✅ Provide comprehensive, multi-source answers"
      ]
    },
    {
      "cell_type": "markdown",
      "metadata": {
        "id": "caHDK1I6NxFA"
      },
      "source": [
        "## Create the Multi-Source HR Agent"
      ]
    },
    {
      "cell_type": "code",
      "execution_count": 14,
      "metadata": {
        "id": "C2dgpNTvNxFA",
        "outputId": "74bfaa31-009d-4514-d9f9-957aa213b871",
        "colab": {
          "base_uri": "https://localhost:8080/"
        }
      },
      "outputs": [
        {
          "output_type": "stream",
          "name": "stdout",
          "text": [
            "✅ Comprehensive HR Agent created!\n",
            "\n",
            "Available tools: 3\n",
            "  - search_employee_database\n",
            "  - query_hr_policies\n",
            "  - search_hr_best_practices\n"
          ]
        }
      ],
      "source": [
        "from langchain.agents import create_agent\n",
        "from langchain_openai import ChatOpenAI\n",
        "\n",
        "# Collect all our tools\n",
        "hr_tools = [\n",
        "    search_employee_database,\n",
        "    query_hr_policies,\n",
        "    search_hr_best_practices\n",
        "]\n",
        "\n",
        "# Create the agent\n",
        "hr_agent = create_agent(\n",
        "    model=\"openai:gpt-4o-mini\",\n",
        "    tools=hr_tools,\n",
        "    system_prompt=\"\"\"You are an intelligent HR assistant with access to:\n",
        "    1. Employee database (search_employee_database)\n",
        "    2. Company HR policies (query_hr_policies)\n",
        "    3. External HR best practices (search_hr_best_practices)\n",
        "\n",
        "    When answering questions:\n",
        "    - First check if you need employee-specific information\n",
        "    - Then consult company policies for internal guidelines\n",
        "    - Use web search only for external best practices or topics not covered internally\n",
        "    - Provide comprehensive answers citing your sources\n",
        "\n",
        "    Be helpful, professional, and cite which source you're using.\"\"\"\n",
        ")\n",
        "\n",
        "print(\"✅ Comprehensive HR Agent created!\")\n",
        "print(f\"\\nAvailable tools: {len(hr_tools)}\")\n",
        "for tool in hr_tools:\n",
        "    print(f\"  - {tool.name}\")"
      ]
    },
    {
      "cell_type": "markdown",
      "metadata": {
        "id": "AxKiXX2rNxFA"
      },
      "source": [
        "## Test the Complete System"
      ]
    },
    {
      "cell_type": "code",
      "execution_count": 15,
      "metadata": {
        "id": "Rn5NlaB6NxFA",
        "outputId": "c23739bb-d024-4c78-ba63-4e4cac03b7f0",
        "colab": {
          "base_uri": "https://localhost:8080/"
        }
      },
      "outputs": [
        {
          "output_type": "stream",
          "name": "stdout",
          "text": [
            "\n",
            "======================================================================\n",
            "Question: Who are the employees in the Engineering department and how much leave do they have?\n",
            "======================================================================\n",
            "\n",
            "Here are the employees in the Engineering department along with their leave balances:\n",
            "\n",
            "1. **Priya Sharma**\n",
            "   - **Position**: Senior Developer\n",
            "   - **Email**: priya.sharma@company.com\n",
            "   - **Phone**: +91-9876543210\n",
            "   - **Hire Date**: March 15, 2020\n",
            "   - **Salary**: ₹12,00,000\n",
            "   - **Leave Balance**: 12 days\n",
            "\n",
            "2. **Rahul Verma**\n",
            "   - **Position**: Manager\n",
            "   - **Email**: rahul.verma@company.com\n",
            "   - **Phone**: +91-9876543211\n",
            "   - **Hire Date**: June 20, 2018\n",
            "   - **Salary**: ₹18,00,000\n",
            "   - **Leave Balance**: 8 days\n",
            "\n",
            "3. **Karan Singh**\n",
            "   - **Position**: Junior Developer\n",
            "   - **Email**: karan.singh@company.com\n",
            "   - **Phone**: +91-9876543215\n",
            "   - **Hire Date**: February 14, 2023\n",
            "   - **Salary**: ₹8,00,000\n",
            "   - **Leave Balance**: 20 days\n",
            "\n",
            "According to the company HR policies, employees are entitled to **20 days of paid leave per year**. This means that their leave balances may vary based on the time of the year and how much leave they have taken or accumulated. \n",
            "\n",
            "If you have any further questions or need additional information, feel free to ask!\n",
            "\n",
            "======================================================================\n",
            "\n",
            "======================================================================\n",
            "Question: What is our company's work from home policy?\n",
            "======================================================================\n",
            "\n",
            "Our company's work from home policy allows employees to work from home up to 2 days per week with manager approval. Here are the key points:\n",
            "\n",
            "- **Approval**: Working from home requires approval from your manager.\n",
            "- **Technical Requirements**: You must have a stable internet connection and a dedicated workspace.\n",
            "- **Core Working Hours**: Employees are required to maintain core working hours from 10 AM to 4 PM.\n",
            "- **Communication**: All communication tools must be active during working hours.\n",
            "\n",
            "If you have any more questions or need further details, feel free to ask!\n",
            "\n",
            "======================================================================\n",
            "\n",
            "======================================================================\n",
            "Question: How many leave days does Priya Sharma have? Is this in line with our company policy?\n",
            "======================================================================\n",
            "\n",
            "Priya Sharma currently has 12 leave days remaining. According to our company policy, employees are allocated 20 days of paid leave per year. \n",
            "\n",
            "This means Priya's leave balance is below the annual allocation, which could suggest that she has utilized some of her leave days throughout the year. If you need more details on how to manage or request leave, feel free to ask!\n",
            "\n",
            "======================================================================\n",
            "\n",
            "======================================================================\n",
            "Question: What are the current best practices for hybrid work policies in 2025?\n",
            "======================================================================\n",
            "\n",
            "In 2025, the best practices for hybrid work policies emphasize flexibility and individualization to meet the diverse needs of employees and teams. Here are some key insights and recommendations:\n",
            "\n",
            "1. **Tailored Approaches**: It's important not to adopt a one-size-fits-all policy. Hybrid work arrangements should account for the unique needs of individual employees and teams. This approach helps in building a more inclusive and effective work environment (Web Search, March 5, 2025).\n",
            "\n",
            "2. **Encouraging Face-to-Face Interaction**: While remote work offers many benefits, in-person collaboration is essential for fostering teamwork and promoting real-time interactions. Therefore, hybrid policies should encourage opportunities for employees to connect physically (Web Search, March 5, 2025).\n",
            "\n",
            "3. **Managerial Guidance**: Managers should be provided with clear guidelines to ensure equitable participation for remote team members in discussions and decision-making processes. This includes strategies to maintain a level playing field for all employees (Web Search, October 22, 2024).\n",
            "\n",
            "4. **Support for Remote Work**: Employers must provide comprehensive support for remote employees to enhance productivity. This includes access to the necessary resources and a standard policy that permits flexibility in how work is performed (Web Search, June 16, 2025).\n",
            "\n",
            "5. **Cultural Considerations**: Company culture in hybrid settings must be nurtured through consistent, transparent, and fair practices. Emphasizing performance and recognition equitably among all team members can help strengthen organizational culture (Web Search, October 22, 2024).\n",
            "\n",
            "These practices are especially relevant in today’s evolving work landscape, where hybrid models are becoming a staple for many organizations. They should help guide companies in refining their hybrid work strategies for better employee engagement and productivity.\n",
            "\n",
            "======================================================================\n"
          ]
        }
      ],
      "source": [
        "def ask_hr_agent(question: str):\n",
        "    \"\"\"Helper function to ask the HR agent a question.\"\"\"\n",
        "    print(f\"\\n{'='*70}\")\n",
        "    print(f\"Question: {question}\")\n",
        "    print(f\"{'='*70}\")\n",
        "\n",
        "    result = hr_agent.invoke({\n",
        "        \"messages\": [{\"role\": \"user\", \"content\": question}]\n",
        "    })\n",
        "\n",
        "    print(f\"\\n{result['messages'][-1].content}\")\n",
        "    print(f\"\\n{'='*70}\")\n",
        "\n",
        "# Test 1: Employee lookup\n",
        "ask_hr_agent(\"Who are the employees in the Engineering department and how much leave do they have?\")\n",
        "\n",
        "# Test 2: Policy question\n",
        "ask_hr_agent(\"What is our company's work from home policy?\")\n",
        "\n",
        "# Test 3: Combined query\n",
        "ask_hr_agent(\"How many leave days does Priya Sharma have? Is this in line with our company policy?\")\n",
        "\n",
        "# Test 4: External best practices\n",
        "ask_hr_agent(\"What are the current best practices for hybrid work policies in 2025?\")"
      ]
    },
    {
      "cell_type": "markdown",
      "metadata": {
        "id": "a-D65gkWNxFA"
      },
      "source": [
        "---\n",
        "# Lab 5: Advanced Integration - Combining with LangGraph 🔧\n",
        "\n",
        "**Objective:** Build a workflow that uses multiple document sources strategically."
      ]
    },
    {
      "cell_type": "code",
      "execution_count": 16,
      "metadata": {
        "id": "S7ihQ0pCNxFB",
        "outputId": "79105ca8-fa28-46fe-938e-fbdec55fe331",
        "colab": {
          "base_uri": "https://localhost:8080/"
        }
      },
      "outputs": [
        {
          "output_type": "stream",
          "name": "stdout",
          "text": [
            "✅ HR Workflow created!\n"
          ]
        }
      ],
      "source": [
        "from typing import TypedDict, Annotated\n",
        "from langgraph.graph import StateGraph, START, END\n",
        "from langgraph.graph.message import add_messages\n",
        "\n",
        "class HRQueryState(TypedDict):\n",
        "    \"\"\"State for HR query workflow.\"\"\"\n",
        "    query: str\n",
        "    employee_info: str\n",
        "    policy_info: str\n",
        "    external_info: str\n",
        "    final_answer: str\n",
        "    messages: Annotated[list, add_messages]\n",
        "\n",
        "# Define workflow nodes\n",
        "def check_employee_data(state: HRQueryState):\n",
        "    \"\"\"Check if query needs employee data.\"\"\"\n",
        "    query = state['query'].lower()\n",
        "    needs_employee_data = any(keyword in query for keyword in\n",
        "                             ['employee', 'priya', 'rahul', 'anjali', 'who', 'staff'])\n",
        "\n",
        "    if needs_employee_data:\n",
        "        result = search_employee_database.invoke({\"query\": state['query']})\n",
        "        return {\"employee_info\": result}\n",
        "    return {\"employee_info\": \"Not needed\"}\n",
        "\n",
        "def check_policies(state: HRQueryState):\n",
        "    \"\"\"Check company policies.\"\"\"\n",
        "    query = state['query'].lower()\n",
        "    needs_policy = any(keyword in query for keyword in\n",
        "                      ['policy', 'leave', 'work from home', 'benefits', 'review'])\n",
        "\n",
        "    if needs_policy:\n",
        "        result = query_hr_policies.invoke({\"question\": state['query']})\n",
        "        return {\"policy_info\": result}\n",
        "    return {\"policy_info\": \"Not needed\"}\n",
        "\n",
        "def check_external(state: HRQueryState):\n",
        "    \"\"\"Check external best practices if needed.\"\"\"\n",
        "    query = state['query'].lower()\n",
        "    needs_external = any(keyword in query for keyword in\n",
        "                        ['best practice', 'industry', 'standard', 'current', '2025'])\n",
        "\n",
        "    if needs_external:\n",
        "        result = search_hr_best_practices.invoke({\"topic\": state['query']})\n",
        "        return {\"external_info\": result[:500]}  # Limit length\n",
        "    return {\"external_info\": \"Not needed\"}\n",
        "\n",
        "def synthesize_answer(state: HRQueryState):\n",
        "    \"\"\"Combine all information into final answer.\"\"\"\n",
        "    from langchain_openai import ChatOpenAI\n",
        "    llm = ChatOpenAI(model=\"gpt-4o-mini\")\n",
        "\n",
        "    prompt = f\"\"\"Based on the following information, answer the user's question comprehensively.\n",
        "\n",
        "User Question: {state['query']}\n",
        "\n",
        "Employee Information: {state.get('employee_info', 'None')}\n",
        "\n",
        "Company Policy: {state.get('policy_info', 'None')}\n",
        "\n",
        "External Best Practices: {state.get('external_info', 'None')}\n",
        "\n",
        "Provide a clear, comprehensive answer citing relevant sources:\"\"\"\n",
        "\n",
        "    response = llm.invoke(prompt)\n",
        "    return {\n",
        "        \"final_answer\": response.content,\n",
        "        \"messages\": [(\"assistant\", response.content)]\n",
        "    }\n",
        "\n",
        "# Build workflow\n",
        "workflow = StateGraph(HRQueryState)\n",
        "workflow.add_node(\"check_employee\", check_employee_data)\n",
        "workflow.add_node(\"check_policy\", check_policies)\n",
        "workflow.add_node(\"check_external\", check_external)\n",
        "workflow.add_node(\"synthesize\", synthesize_answer)\n",
        "\n",
        "workflow.add_edge(START, \"check_employee\")\n",
        "workflow.add_edge(\"check_employee\", \"check_policy\")\n",
        "workflow.add_edge(\"check_policy\", \"check_external\")\n",
        "workflow.add_edge(\"check_external\", \"synthesize\")\n",
        "workflow.add_edge(\"synthesize\", END)\n",
        "\n",
        "hr_workflow = workflow.compile()\n",
        "print(\"✅ HR Workflow created!\")"
      ]
    },
    {
      "cell_type": "markdown",
      "metadata": {
        "id": "PQatu7vvNxFB"
      },
      "source": [
        "## Test the Workflow"
      ]
    },
    {
      "cell_type": "code",
      "execution_count": 17,
      "metadata": {
        "id": "T7mgDZSlNxFB",
        "outputId": "3d0b709a-c4cd-4bf7-8166-25335c35115c",
        "colab": {
          "base_uri": "https://localhost:8080/"
        }
      },
      "outputs": [
        {
          "output_type": "stream",
          "name": "stdout",
          "text": [
            "\n",
            "======================================================================\n",
            "Query: How many leave days does Rahul Verma have? Is this aligned with company policy and industry standards?\n",
            "======================================================================\n",
            "\n",
            "Final Answer:\n",
            "Rahul Verma is entitled to 20 days of paid leave per year according to the company policy. Additionally, he has the option to carry forward up to 5 unused leave days into the following year. This leave entitlement is consistent with company policy and aligns well with industry standards. \n",
            "\n",
            "In many organizations, a standard amount of paid leave typically ranges from 15 to 30 days annually, depending on various factors such as company size, culture, and geographic location. Therefore, having 20 days of paid leave is considered reasonable and competitive within the industry, as it allows employees to maintain a healthy work-life balance while ensuring that they have adequate time off for personal matters or to recharge.\n",
            "\n",
            "Furthermore, the ability to carry forward up to 5 unused days provides added flexibility and supports employee well-being by allowing them to manage their time off according to their personal and professional commitments.\n",
            "\n",
            "In summary, Rahul Verma's leave entitlements of 20 days per year, along with the carryover provision, align well with both company policy and widely accepted industry standards.\n"
          ]
        }
      ],
      "source": [
        "# Test the workflow\n",
        "test_query = \"How many leave days does Rahul Verma have? Is this aligned with company policy and industry standards?\"\n",
        "\n",
        "result = hr_workflow.invoke({\n",
        "    \"query\": test_query,\n",
        "    \"employee_info\": \"\",\n",
        "    \"policy_info\": \"\",\n",
        "    \"external_info\": \"\",\n",
        "    \"final_answer\": \"\",\n",
        "    \"messages\": []\n",
        "})\n",
        "\n",
        "print(f\"\\n{'='*70}\")\n",
        "print(f\"Query: {test_query}\")\n",
        "print(f\"{'='*70}\")\n",
        "print(f\"\\nFinal Answer:\\n{result['final_answer']}\")"
      ]
    },
    {
      "cell_type": "markdown",
      "metadata": {
        "id": "46yw5qNqNxFB"
      },
      "source": [
        "---\n",
        "# Summary & Key Learnings\n",
        "\n",
        "## What You Built:\n",
        "\n",
        "1. **CSV Loader** 📊\n",
        "   - Loaded employee database\n",
        "   - Created searchable employee records\n",
        "   - Built @tool for employee queries\n",
        "\n",
        "2. **PDF Loader** 📄\n",
        "   - Processed HR policy documents\n",
        "   - Created vector store for Q&A\n",
        "   - Built @tool for policy questions\n",
        "\n",
        "3. **Web Search** 🔍\n",
        "   - Integrated DuckDuckGo search\n",
        "   - Created tool for external best practices\n",
        "   - No API key needed!\n",
        "\n",
        "4. **Complete HR Agent** 🤖\n",
        "   - Combined all data sources\n",
        "   - Intelligent tool selection\n",
        "   - Multi-source answers\n",
        "\n",
        "5. **LangGraph Workflow** 🔧\n",
        "   - Strategic data retrieval\n",
        "   - Parallel processing\n",
        "   - Comprehensive synthesis\n",
        "\n",
        "## Integration Patterns:\n",
        "\n",
        "| Data Source | Loader | Use Case | Best For |\n",
        "|-------------|--------|----------|----------|\n",
        "| CSV | CSVLoader | Structured data | Employee records, sales data |\n",
        "| PDF | PyPDFLoader | Documents | Policies, contracts, reports |\n",
        "| Web | DuckDuckGoSearch | External info | Best practices, news |\n",
        "| Google Drive | GoogleDriveLoader | Cloud docs | Shared documents |\n",
        "\n",
        "## Best Practices:\n",
        "\n",
        "1. **Choose the Right Loader**\n",
        "   - CSV for structured tabular data\n",
        "   - PDF for formatted documents\n",
        "   - Web search for current external information\n",
        "\n",
        "2. **Optimize Vector Stores**\n",
        "   - Chunk documents appropriately (300-500 chars)\n",
        "   - Use overlap for context preservation\n",
        "   - Index strategically\n",
        "\n",
        "3. **Tool Design**\n",
        "   - Clear, specific purposes\n",
        "   - Good docstrings for LLM understanding\n",
        "   - Handle errors gracefully\n",
        "\n",
        "4. **Multi-Source Strategy**\n",
        "   - Internal data first (CSV, PDF)\n",
        "   - External when needed (Web)\n",
        "   - Synthesize comprehensively\n",
        "\n",
        "## Next Steps:\n",
        "\n",
        "- Explore more loaders: Google Docs, Notion, Confluence\n",
        "- Add more advanced retrieval (semantic search)\n",
        "- Implement caching for performance\n",
        "- Build specialized agents for different departments\n",
        "- Deploy as a production service\n",
        "\n",
        "---\n",
        "\n",
        "**More Integrations to Explore:**\n",
        "- Slack integration for team communication\n",
        "- Google Drive for document access\n",
        "- Notion for knowledge bases\n",
        "- SQL databases for live data\n",
        "- APIs for real-time information\n",
        "\n",
        "Check the [LangChain Integrations](https://docs.langchain.com/oss/python/integrations/providers/all_providers) for 200+ more!"
      ]
    },
    {
      "cell_type": "markdown",
      "metadata": {
        "id": "HIbHFhBhNxFC"
      },
      "source": [
        "# Exercises\n",
        "\n",
        "## Exercise 1: Add More Employee Data\n",
        "Create a second CSV with department information (budget, headcount, manager) and create a tool to query it.\n",
        "\n",
        "## Exercise 2: PDF Processing\n",
        "Create an employee handbook PDF and add a tool to search through it.\n",
        "\n",
        "## Exercise 3: Multi-Document Q&A\n",
        "Build a system that can answer questions requiring information from both CSV and PDF.\n",
        "\n",
        "## Exercise 4: Advanced Search\n",
        "Implement a tool that searches the web for competitive salary information for specific roles.\n",
        "\n",
        "## Bonus: Build a Complete HR Portal\n",
        "Combine all learnings from Modules 1-4 to build a comprehensive HR system with:\n",
        "- Employee management (CSV)\n",
        "- Policy Q&A (PDF)\n",
        "- External benchmarking (Web)\n",
        "- Workflow automation (LangGraph)\n",
        "- Professional tools (@tool decorator)"
      ]
    }
  ],
  "metadata": {
    "kernelspec": {
      "display_name": "Python 3",
      "language": "python",
      "name": "python3"
    },
    "language_info": {
      "name": "python",
      "version": "3.11.0"
    },
    "colab": {
      "provenance": []
    }
  },
  "nbformat": 4,
  "nbformat_minor": 0
}