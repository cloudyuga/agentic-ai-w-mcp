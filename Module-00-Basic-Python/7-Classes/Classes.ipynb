{
  "nbformat": 4,
  "nbformat_minor": 0,
  "metadata": {
    "colab": {
      "provenance": []
    },
    "kernelspec": {
      "name": "python3",
      "display_name": "Python 3"
    },
    "language_info": {
      "name": "python"
    }
  },
  "cells": [
    {
      "cell_type": "markdown",
      "source": [
        "#**Classes in Python**"
      ],
      "metadata": {
        "id": "K4TVEDlq06tV"
      }
    },
    {
      "cell_type": "markdown",
      "source": [
        "####**1. What is a Class?**\n",
        "\n",
        "A class in Python is a template for creating objects. Objects are instances of a class, and each object has its own set of attributes (variables) and methods (functions defined in the class).\n"
      ],
      "metadata": {
        "id": "xUZiNxdr1Fnq"
      }
    },
    {
      "cell_type": "markdown",
      "source": [
        "####**2. Creating a Basic Class in Python**"
      ],
      "metadata": {
        "id": "lUPM3Bv31USU"
      }
    },
    {
      "cell_type": "code",
      "execution_count": 1,
      "metadata": {
        "id": "_ZVedw_m0zN9"
      },
      "outputs": [],
      "source": [
        "class Person:\n",
        "    pass"
      ]
    },
    {
      "cell_type": "markdown",
      "source": [
        "####**3. Adding the __init__ Method**"
      ],
      "metadata": {
        "id": "UAaVpwOR1dtW"
      }
    },
    {
      "cell_type": "code",
      "source": [
        "class Person:\n",
        "    def __init__(self, name, age, gender):\n",
        "        self.name = name\n",
        "        self.age = age\n",
        "        self.gender = gender"
      ],
      "metadata": {
        "id": "oyDggo7j1hqk"
      },
      "execution_count": 2,
      "outputs": []
    },
    {
      "cell_type": "markdown",
      "source": [
        "####**5. Adding a Method to Our Class**"
      ],
      "metadata": {
        "id": "ub6WcObR1vbK"
      }
    },
    {
      "cell_type": "code",
      "source": [
        "class Person:\n",
        "    def __init__(self, name, age, gender):\n",
        "        self.name = name\n",
        "        self.age = age\n",
        "        self.gender = gender\n",
        "\n",
        "    def greet(self):\n",
        "        print(f\"Hello, my name is {self.name}.\")"
      ],
      "metadata": {
        "id": "AJF0ADTT1yuY"
      },
      "execution_count": 3,
      "outputs": []
    },
    {
      "cell_type": "markdown",
      "source": [
        "####**6. Creating an Object (Instance) of the Class**"
      ],
      "metadata": {
        "id": "PzYKwGTQ168n"
      }
    },
    {
      "cell_type": "code",
      "source": [
        "john = Person(\"John\", 30, \"Male\")"
      ],
      "metadata": {
        "id": "GDhIOD-m16EC"
      },
      "execution_count": 4,
      "outputs": []
    },
    {
      "cell_type": "markdown",
      "source": [
        "####**7. Using the Object’s Methods and Attributes**"
      ],
      "metadata": {
        "id": "3YH4pqmV2EkV"
      }
    },
    {
      "cell_type": "code",
      "source": [
        "print(john.name)\n",
        "print(john.age)\n",
        "print(john.gender)\n",
        "john.greet()"
      ],
      "metadata": {
        "colab": {
          "base_uri": "https://localhost:8080/"
        },
        "id": "tvUB9wQq2Ho-",
        "outputId": "4d07290a-1084-48da-c76d-0bba6dd1fbb2"
      },
      "execution_count": 5,
      "outputs": [
        {
          "output_type": "stream",
          "name": "stdout",
          "text": [
            "John\n",
            "30\n",
            "Male\n",
            "Hello, my name is John.\n"
          ]
        }
      ]
    },
    {
      "cell_type": "markdown",
      "source": [
        "####**8. Example: Book Class**"
      ],
      "metadata": {
        "id": "siGO_nWs2Ucc"
      }
    },
    {
      "cell_type": "code",
      "source": [
        "class Book:\n",
        "    def __init__(self, title, author, year, genre):\n",
        "        self.title = title  # Title of the book\n",
        "        self.author = author  # Author of the book\n",
        "        self.year = year  # Year of publication\n",
        "        self.genre = genre  # Genre of the book\n",
        "\n",
        "    def display_info(self):\n",
        "        print(f\"Book Details: {self.title} by {self.author}, Year: {self.year}, Genre: {self.genre}\")\n",
        "\n",
        "    def update_year(self, new_year):\n",
        "        if new_year >= self.year:\n",
        "            self.year = new_year\n",
        "            print(f\"Updated year of publication: {self.year}\")\n",
        "        else:\n",
        "            print(\"Year of publication cannot be earlier than the current year!\")\n",
        "\n",
        "    def book_age(self, current_year):\n",
        "        return current_year - self.year\n"
      ],
      "metadata": {
        "id": "bY0i7BS42Xkq"
      },
      "execution_count": 6,
      "outputs": []
    },
    {
      "cell_type": "code",
      "source": [
        "# Create an instance of the Book class\n",
        "my_book = Book(\"1984\", \"George Orwell\", 1949, \"Dystopian\")"
      ],
      "metadata": {
        "id": "_DsLIPFM2rLy"
      },
      "execution_count": 7,
      "outputs": []
    },
    {
      "cell_type": "code",
      "source": [
        "# Display book details\n",
        "my_book.display_info()\n"
      ],
      "metadata": {
        "colab": {
          "base_uri": "https://localhost:8080/"
        },
        "id": "2bMtPQJo2uja",
        "outputId": "0659b0b9-8dc7-411e-ae4a-79244e6fdcba"
      },
      "execution_count": 12,
      "outputs": [
        {
          "output_type": "stream",
          "name": "stdout",
          "text": [
            "Book Details: 1984 by George Orwell, Year: 1950, Genre: Dystopian\n"
          ]
        }
      ]
    },
    {
      "cell_type": "code",
      "source": [
        "# Update the year of publication\n",
        "my_book.update_year(1950)"
      ],
      "metadata": {
        "colab": {
          "base_uri": "https://localhost:8080/"
        },
        "id": "U-On3HHD2wFp",
        "outputId": "dae4a10f-f0cf-46d9-a93e-1c1cace2dd61"
      },
      "execution_count": 9,
      "outputs": [
        {
          "output_type": "stream",
          "name": "stdout",
          "text": [
            "Updated year of publication: 1950\n"
          ]
        }
      ]
    },
    {
      "cell_type": "code",
      "source": [
        "# Attempt to roll back the year of publication (will fail)\n",
        "my_book.update_year(1940)\n"
      ],
      "metadata": {
        "colab": {
          "base_uri": "https://localhost:8080/"
        },
        "id": "yUWPvEHC2yvF",
        "outputId": "f0561875-351d-4a11-9d4f-257490ef43d1"
      },
      "execution_count": 10,
      "outputs": [
        {
          "output_type": "stream",
          "name": "stdout",
          "text": [
            "Year of publication cannot be earlier than the current year!\n"
          ]
        }
      ]
    },
    {
      "cell_type": "code",
      "source": [
        "# Calculate and display the book's age\n",
        "current_year = 2025\n",
        "book_age = my_book.book_age(current_year)\n",
        "print(f\"The book is {book_age} years old.\")"
      ],
      "metadata": {
        "colab": {
          "base_uri": "https://localhost:8080/"
        },
        "id": "0rQEM-nX2srp",
        "outputId": "552d574f-eafa-4544-ae1b-51dd29666a34"
      },
      "execution_count": 11,
      "outputs": [
        {
          "output_type": "stream",
          "name": "stdout",
          "text": [
            "The book is 75 years old.\n"
          ]
        }
      ]
    },
    {
      "cell_type": "markdown",
      "source": [
        "####**9. Example: car Class**\n"
      ],
      "metadata": {
        "id": "PryJTI5W3hmd"
      }
    },
    {
      "cell_type": "code",
      "source": [
        "class Car:\n",
        "    # Constructor to initialize the car's attributes\n",
        "    def __init__(self, brand, model, year, mileage):\n",
        "        self.brand = brand  # Car's brand (e.g., Toyota, Honda)\n",
        "        self.model = model  # Car's model (e.g., Corolla, Civic)\n",
        "        self.year = year    # Manufacturing year\n",
        "        self.mileage = mileage  # Mileage in kilometers\n",
        "\n",
        "    # Method to display car details\n",
        "    def display_info(self):\n",
        "        print(f\"Car Details: {self.brand} {self.model}, Year: {self.year}, Mileage: {self.mileage} km\")\n",
        "\n",
        "    # Method to update the mileage\n",
        "    def update_mileage(self, new_mileage):\n",
        "        if new_mileage >= self.mileage:\n",
        "            self.mileage = new_mileage\n",
        "            print(f\"Updated mileage: {self.mileage} km\")\n",
        "        else:\n",
        "            print(\"Mileage cannot be rolled back!\")\n",
        "\n",
        "    # Method to calculate the car's age\n",
        "    def car_age(self, current_year):\n",
        "        return current_year - self.year"
      ],
      "metadata": {
        "id": "uCg1BROI3zyS"
      },
      "execution_count": 13,
      "outputs": []
    },
    {
      "cell_type": "code",
      "source": [
        "# Create an instance of the Car class\n",
        "my_car = Car(\"Toyota\", \"Corolla\", 2015, 75000)"
      ],
      "metadata": {
        "id": "d7ZpD4Cz32XT"
      },
      "execution_count": 14,
      "outputs": []
    },
    {
      "cell_type": "code",
      "source": [
        "# Display car details\n",
        "my_car.display_info()"
      ],
      "metadata": {
        "colab": {
          "base_uri": "https://localhost:8080/"
        },
        "id": "-97YN_aD35St",
        "outputId": "3d5cf018-199a-4fad-c177-9e561d8438f7"
      },
      "execution_count": 15,
      "outputs": [
        {
          "output_type": "stream",
          "name": "stdout",
          "text": [
            "Car Details: Toyota Corolla, Year: 2015, Mileage: 75000 km\n"
          ]
        }
      ]
    },
    {
      "cell_type": "code",
      "source": [
        "# Update the mileage\n",
        "my_car.update_mileage(80000)"
      ],
      "metadata": {
        "colab": {
          "base_uri": "https://localhost:8080/"
        },
        "id": "vGSdHEU83_dw",
        "outputId": "5debd439-1860-4191-d804-e6d841d869a4"
      },
      "execution_count": 16,
      "outputs": [
        {
          "output_type": "stream",
          "name": "stdout",
          "text": [
            "Updated mileage: 80000 km\n"
          ]
        }
      ]
    },
    {
      "cell_type": "code",
      "source": [
        "# Attempt to roll back mileage (will fail)\n",
        "my_car.update_mileage(70000)"
      ],
      "metadata": {
        "colab": {
          "base_uri": "https://localhost:8080/"
        },
        "id": "HsE_L79g4CQs",
        "outputId": "48a76976-be88-4c7a-e550-8d4cbc30b9ea"
      },
      "execution_count": 17,
      "outputs": [
        {
          "output_type": "stream",
          "name": "stdout",
          "text": [
            "Mileage cannot be rolled back!\n"
          ]
        }
      ]
    },
    {
      "cell_type": "code",
      "source": [
        "# Calculate and display the car's age\n",
        "current_year = 2025\n",
        "car_age = my_car.car_age(current_year)\n",
        "print(f\"The car is {car_age} years old.\")"
      ],
      "metadata": {
        "colab": {
          "base_uri": "https://localhost:8080/"
        },
        "id": "7HOOSDtc4EgH",
        "outputId": "c0939e5c-d31a-400e-f503-4be18ec48284"
      },
      "execution_count": 18,
      "outputs": [
        {
          "output_type": "stream",
          "name": "stdout",
          "text": [
            "The car is 10 years old.\n"
          ]
        }
      ]
    }
  ]
}