{
  "nbformat": 4,
  "nbformat_minor": 0,
  "metadata": {
    "colab": {
      "provenance": [],
      "toc_visible": true
    },
    "kernelspec": {
      "name": "python3",
      "display_name": "Python 3"
    },
    "language_info": {
      "name": "python"
    }
  },
  "cells": [
    {
      "cell_type": "markdown",
      "source": [
        "#**Python Functions**"
      ],
      "metadata": {
        "id": "m39AVxHZLeze"
      }
    },
    {
      "cell_type": "markdown",
      "source": [
        "####**2. Defining and calling a Function**\n"
      ],
      "metadata": {
        "id": "iDSEBZhpLsUz"
      }
    },
    {
      "cell_type": "code",
      "execution_count": 1,
      "metadata": {
        "id": "srG8CaoS76nQ"
      },
      "outputs": [],
      "source": [
        "def greet():\n",
        "    \"\"\"This function prints a greeting message.\"\"\"\n",
        "    print(\"Hello, World!\")"
      ]
    },
    {
      "cell_type": "code",
      "source": [
        "greet()"
      ],
      "metadata": {
        "colab": {
          "base_uri": "https://localhost:8080/"
        },
        "id": "sw7tQIaAL1Np",
        "outputId": "60634b59-7455-45db-e220-dedb806cd485"
      },
      "execution_count": 2,
      "outputs": [
        {
          "output_type": "stream",
          "name": "stdout",
          "text": [
            "Hello, World!\n"
          ]
        }
      ]
    },
    {
      "cell_type": "markdown",
      "source": [
        "####**3. Function Parameters**\n"
      ],
      "metadata": {
        "id": "8CN7qPoqL9AZ"
      }
    },
    {
      "cell_type": "markdown",
      "source": [
        "######**Positional Parameters**\n"
      ],
      "metadata": {
        "id": "PDDmxUmFMMHD"
      }
    },
    {
      "cell_type": "code",
      "source": [
        "def greet_person(name):\n",
        "    \"\"\"Greets a person by their name.\"\"\"\n",
        "    print(f\"Hello, {name}!\")\n",
        "\n",
        "greet_person(\"Alice\")"
      ],
      "metadata": {
        "colab": {
          "base_uri": "https://localhost:8080/"
        },
        "id": "BrLRjqYiMV41",
        "outputId": "d25a31c2-7118-48ad-dbbc-f6ff455e21e5"
      },
      "execution_count": 3,
      "outputs": [
        {
          "output_type": "stream",
          "name": "stdout",
          "text": [
            "Hello, Alice!\n"
          ]
        }
      ]
    },
    {
      "cell_type": "markdown",
      "source": [
        "######**Default Parameters**"
      ],
      "metadata": {
        "id": "y4md7oMmMc9F"
      }
    },
    {
      "cell_type": "code",
      "source": [
        "def greet_person(name=\"Guest\"):\n",
        "    print(f\"Hello, {name}!\")\n",
        "\n",
        "greet_person()\n",
        "greet_person(\"Bob\")"
      ],
      "metadata": {
        "colab": {
          "base_uri": "https://localhost:8080/"
        },
        "id": "QyTZRO7UMrgA",
        "outputId": "a372301f-8d88-4654-c464-66cf3cd00929"
      },
      "execution_count": 4,
      "outputs": [
        {
          "output_type": "stream",
          "name": "stdout",
          "text": [
            "Hello, Guest!\n",
            "Hello, Bob!\n"
          ]
        }
      ]
    },
    {
      "cell_type": "markdown",
      "source": [
        "####**4. Return Statement**\n"
      ],
      "metadata": {
        "id": "Xldx8XWSMxvw"
      }
    },
    {
      "cell_type": "code",
      "source": [
        "def add_numbers(a, b):\n",
        "    return a + b\n",
        "\n",
        "result = add_numbers(3, 5)\n",
        "print(result)"
      ],
      "metadata": {
        "colab": {
          "base_uri": "https://localhost:8080/"
        },
        "id": "sG3dbRIoM4fk",
        "outputId": "71871143-b792-4a05-d7eb-e09497c9c2b4"
      },
      "execution_count": 5,
      "outputs": [
        {
          "output_type": "stream",
          "name": "stdout",
          "text": [
            "8\n"
          ]
        }
      ]
    },
    {
      "cell_type": "markdown",
      "source": [
        "####**5. Scope and Lifetime of Variables**"
      ],
      "metadata": {
        "id": "0gwPmGogMkEM"
      }
    },
    {
      "cell_type": "code",
      "source": [
        "def calculate_area(radius):\n",
        "    pi = 3.14  # Local variable\n",
        "    return pi * radius ** 2\n",
        "\n",
        "#print(pi)  # This will raise a NameError"
      ],
      "metadata": {
        "id": "ByOHUPcGNcW7"
      },
      "execution_count": 22,
      "outputs": []
    },
    {
      "cell_type": "markdown",
      "source": [
        "As we have written the corrected code. please experiment with other local variable like,"
      ],
      "metadata": {
        "id": "GARdt3MMPiv1"
      }
    },
    {
      "cell_type": "markdown",
      "source": [
        "\n",
        "\n",
        "\n",
        "\n",
        "```\n",
        "def calculate_area(radius):\n",
        "    \n",
        "    pi = 3.14  # Local variable\n",
        "    \n",
        "    a=10;\n",
        "    \n",
        "    return pi * radius ** 2\n",
        "\n",
        "print(a)  # This will raise a NameError\n",
        "```\n",
        "\n"
      ],
      "metadata": {
        "id": "GqZtrPbfPwKs"
      }
    },
    {
      "cell_type": "markdown",
      "source": [
        "######**correct code**"
      ],
      "metadata": {
        "id": "S3bzcnYuN1gb"
      }
    },
    {
      "cell_type": "code",
      "source": [
        "#pi=3.14\n",
        "def calculate_area(radius):\n",
        "    return pi * radius ** 2\n",
        "\n",
        "print(\"pi=\",pi)  # This will raise a NameError\n",
        "print(\"Area=\",calculate_area(2))"
      ],
      "metadata": {
        "colab": {
          "base_uri": "https://localhost:8080/"
        },
        "id": "OReknploNvvq",
        "outputId": "62bd487f-d2c7-4872-afa2-92a387fc07b7"
      },
      "execution_count": 19,
      "outputs": [
        {
          "output_type": "stream",
          "name": "stdout",
          "text": [
            "pi= 3.14\n",
            "Area= 12.56\n"
          ]
        }
      ]
    },
    {
      "cell_type": "markdown",
      "source": [
        "####**6. Special Parameters: *args and **kwargs**"
      ],
      "metadata": {
        "id": "YGJDfuEeRRQD"
      }
    },
    {
      "cell_type": "markdown",
      "source": [
        "######***args (Non-Keyword Arguments)**\n",
        "\n"
      ],
      "metadata": {
        "id": "_rSUEhoFRXP2"
      }
    },
    {
      "cell_type": "code",
      "source": [
        "def sum_all(*args):\n",
        "    return sum(args)\n",
        "\n",
        "print(sum_all(1, 2, 3, 4))"
      ],
      "metadata": {
        "colab": {
          "base_uri": "https://localhost:8080/"
        },
        "id": "c51DOpq3NwJf",
        "outputId": "7897ef4e-684b-40db-88f3-a4ff5dfe0ab2"
      },
      "execution_count": 23,
      "outputs": [
        {
          "output_type": "stream",
          "name": "stdout",
          "text": [
            "10\n"
          ]
        }
      ]
    },
    {
      "cell_type": "markdown",
      "source": [
        "######****kwargs (Keyword Arguments)**\n"
      ],
      "metadata": {
        "id": "zvHaFTZ7RxMT"
      }
    },
    {
      "cell_type": "code",
      "source": [
        "def print_details(**kwargs):\n",
        "    for key, value in kwargs.items():\n",
        "        print(f\"{key}: {value}\")\n",
        "\n",
        "print_details(name=\"Aarya\", age=25, city=\"New Delhi\")"
      ],
      "metadata": {
        "colab": {
          "base_uri": "https://localhost:8080/"
        },
        "id": "fEzfOICiNwM9",
        "outputId": "4dc9329d-fb25-4854-8a56-0c30ff018e3c"
      },
      "execution_count": 24,
      "outputs": [
        {
          "output_type": "stream",
          "name": "stdout",
          "text": [
            "name: Aarya\n",
            "age: 25\n",
            "city: New Delhi\n"
          ]
        }
      ]
    },
    {
      "cell_type": "markdown",
      "source": [
        "####**7. Lambda Functions**"
      ],
      "metadata": {
        "id": "aQpiwszPSOEo"
      }
    },
    {
      "cell_type": "code",
      "source": [
        "square = lambda x: x ** 2\n",
        "print(square(5))"
      ],
      "metadata": {
        "colab": {
          "base_uri": "https://localhost:8080/"
        },
        "id": "_tHxFp2_NwRZ",
        "outputId": "4a61db15-3c7b-44d7-f0a8-2c93b234bc4d"
      },
      "execution_count": 25,
      "outputs": [
        {
          "output_type": "stream",
          "name": "stdout",
          "text": [
            "25\n"
          ]
        }
      ]
    },
    {
      "cell_type": "code",
      "source": [
        "#Experiment\n",
        "area_of_square = lambda l: l * l\n",
        "print(area_of_square(10))"
      ],
      "metadata": {
        "colab": {
          "base_uri": "https://localhost:8080/"
        },
        "id": "hgilwEI7SXDA",
        "outputId": "b9b7c081-d8f0-4a3d-afd4-07cdf19a8eaf"
      },
      "execution_count": 32,
      "outputs": [
        {
          "output_type": "stream",
          "name": "stdout",
          "text": [
            "100\n"
          ]
        }
      ]
    },
    {
      "cell_type": "code",
      "source": [
        "#Experiment\n",
        "area_of_rect = lambda length, width: length * width\n",
        "\n",
        "# Example usage:\n",
        "print(area_of_rect(5, 10))\n"
      ],
      "metadata": {
        "colab": {
          "base_uri": "https://localhost:8080/"
        },
        "id": "4hhXlvs2NwW_",
        "outputId": "efa30e16-d378-466e-9506-f4038eac4431"
      },
      "execution_count": 33,
      "outputs": [
        {
          "output_type": "stream",
          "name": "stdout",
          "text": [
            "50\n"
          ]
        }
      ]
    },
    {
      "cell_type": "markdown",
      "source": [
        "####**8. Docstrings**"
      ],
      "metadata": {
        "id": "wQycUD7RUdzw"
      }
    },
    {
      "cell_type": "code",
      "source": [
        "def multiply(a, b):\n",
        "    \"\"\"Multiplies two numbers and returns the result.\"\"\"\n",
        "    return a * b\n",
        "\n",
        "help(multiply)"
      ],
      "metadata": {
        "colab": {
          "base_uri": "https://localhost:8080/"
        },
        "id": "grNl5ufEUciB",
        "outputId": "e4da5b97-1ccc-47fe-8ef6-c58acf957b60"
      },
      "execution_count": 34,
      "outputs": [
        {
          "output_type": "stream",
          "name": "stdout",
          "text": [
            "Help on function multiply in module __main__:\n",
            "\n",
            "multiply(a, b)\n",
            "    Multiplies two numbers and returns the result.\n",
            "\n"
          ]
        }
      ]
    },
    {
      "cell_type": "markdown",
      "source": [
        "####**9. Recursive Functions**\n"
      ],
      "metadata": {
        "id": "JAm4FLzIUyrh"
      }
    },
    {
      "cell_type": "code",
      "source": [
        "def factorial(n):\n",
        "    if n == 0:\n",
        "        return 1\n",
        "    return n * factorial(n - 1)\n",
        "\n",
        "print(factorial(5))"
      ],
      "metadata": {
        "colab": {
          "base_uri": "https://localhost:8080/"
        },
        "id": "7m3VSqVVUqZ1",
        "outputId": "1c77b92a-b403-431b-dcf4-4fa2899a5b7e"
      },
      "execution_count": 35,
      "outputs": [
        {
          "output_type": "stream",
          "name": "stdout",
          "text": [
            "120\n"
          ]
        }
      ]
    },
    {
      "cell_type": "markdown",
      "source": [
        "####**Example**"
      ],
      "metadata": {
        "id": "cywc-ZmvU6Tw"
      }
    },
    {
      "cell_type": "code",
      "source": [
        "def calculate_area(width, height):\n",
        "    area = width * height\n",
        "    return area\n",
        "\n",
        "area1 = calculate_area(5, 10)\n",
        "print(\"Area of rectangle 1:\", area1)\n",
        "\n",
        "area2 = calculate_area(3, 4)\n",
        "print(\"Area of rectangle 2:\", area2)"
      ],
      "metadata": {
        "colab": {
          "base_uri": "https://localhost:8080/"
        },
        "id": "jKetL0bNVKYb",
        "outputId": "9c5cda55-d844-4a1d-99a3-92a5e1d658ba"
      },
      "execution_count": 36,
      "outputs": [
        {
          "output_type": "stream",
          "name": "stdout",
          "text": [
            "Area of rectangle 1: 50\n",
            "Area of rectangle 2: 12\n"
          ]
        }
      ]
    }
  ]
}