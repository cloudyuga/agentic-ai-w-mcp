{
  "cells": [
    {
      "cell_type": "code",
      "metadata": {
        "colab": {
          "base_uri": "https://localhost:8080/"
        },
        "id": "fc4ad86b",
        "outputId": "c4a18ef1-25fa-4749-94df-659263afe061"
      },
      "source": [
        "print(\"Running setup...\")\n",
        "!pip install langgraph --quiet"
      ],
      "execution_count": null,
      "outputs": [
        {
          "output_type": "stream",
          "name": "stdout",
          "text": [
            "Running setup...\n"
          ]
        }
      ]
    },
    {
      "cell_type": "markdown",
      "metadata": {
        "id": "b4a51c2d"
      },
      "source": [
        "### Part 1: The Problem - Manual State Updates\n",
        "\n",
        "Let's look at the standard way we've been updating state. Each node is responsible for returning a dictionary with the specific keys it wants to change. This works, but can get messy."
      ]
    },
    {
      "cell_type": "code",
      "metadata": {
        "colab": {
          "base_uri": "https://localhost:8080/"
        },
        "id": "ddf013c2",
        "outputId": "78555e16-3205-47a4-bbea-2afd9c277294"
      },
      "source": [
        "from typing import TypedDict, List\n",
        "\n",
        "class ManualState(TypedDict):\n",
        "    tasks: List[str]\n",
        "    completed_tasks: List[str]\n",
        "    step: int\n",
        "\n",
        "def add_task(state: ManualState) -> dict:\n",
        "    print(\"NODE: Adding a task\")\n",
        "    # Manually update the 'tasks' list and 'step' counter\n",
        "    new_tasks = state.get(\"tasks\", []) + [\"New Task\"]\n",
        "    return {\"tasks\": new_tasks, \"step\": state.get(\"step\", 0) + 1}\n",
        "\n",
        "def complete_task(state: ManualState) -> dict:\n",
        "    print(\"NODE: Completing a task\")\n",
        "    tasks = state.get(\"tasks\", [])\n",
        "    if not tasks:\n",
        "        return {}\n",
        "\n",
        "    completed_task = tasks[0]\n",
        "    remaining_tasks = tasks[1:]\n",
        "    completed_list = state.get(\"completed_tasks\", []) + [completed_task]\n",
        "\n",
        "    # Manually update three different keys\n",
        "    return {\n",
        "        \"tasks\": remaining_tasks,\n",
        "        \"completed_tasks\": completed_list,\n",
        "        \"step\": state.get(\"step\", 0) + 1\n",
        "    }\n",
        "\n",
        "initial_state = {\"tasks\": [], \"completed_tasks\": [], \"step\": 0}\n",
        "\n",
        "# Simulate running the nodes\n",
        "state_after_add = {**initial_state, **add_task(initial_state)}\n",
        "print(f\"State after add: {state_after_add}\")\n",
        "\n",
        "state_after_complete = {**state_after_add, **complete_task(state_after_add)}\n",
        "print(f\"State after complete: {state_after_complete}\")"
      ],
      "execution_count": null,
      "outputs": [
        {
          "output_type": "stream",
          "name": "stdout",
          "text": [
            "NODE: Adding a task\n",
            "State after add: {'tasks': ['New Task'], 'completed_tasks': [], 'step': 1}\n",
            "NODE: Completing a task\n",
            "State after complete: {'tasks': [], 'completed_tasks': ['New Task'], 'step': 2}\n"
          ]
        }
      ]
    },
    {
      "cell_type": "markdown",
      "metadata": {
        "id": "1d5b9447"
      },
      "source": [
        "### Part 2: Building a Reducer Function\n",
        "\n",
        "Now, let's centralize all that logic. We'll define a single reducer function. This function will inspect an \"action\" and decide how to update the state. The nodes will now return **actions** instead of state updates."
      ]
    },
    {
      "cell_type": "code",
      "metadata": {
        "colab": {
          "base_uri": "https://localhost:8080/"
        },
        "id": "b15fd430",
        "outputId": "24841b56-182a-48e7-93ea-08a636d386b1"
      },
      "source": [
        "from typing import TypedDict, List, Union\n",
        "import copy\n",
        "\n",
        "# Define the possible actions our system can take\n",
        "class AddTaskAction(TypedDict):\n",
        "    type: str # Should be 'ADD_TASK'\n",
        "    payload: str\n",
        "\n",
        "class CompleteTaskAction(TypedDict):\n",
        "    type: str # Should be 'COMPLETE_TASK'\n",
        "\n",
        "Action = Union[AddTaskAction, CompleteTaskAction]\n",
        "\n",
        "# Define the reducer function\n",
        "def state_reducer(state: ManualState, action: Action) -> ManualState:\n",
        "    \"\"\"Takes the current state and an action, and returns the new state.\"\"\"\n",
        "    # Always work on a copy to ensure immutability\n",
        "    new_state = copy.deepcopy(state)\n",
        "    new_state[\"step\"] += 1\n",
        "\n",
        "    if action['type'] == 'ADD_TASK':\n",
        "        new_state['tasks'].append(action['payload'])\n",
        "\n",
        "    elif action['type'] == 'COMPLETE_TASK':\n",
        "        if new_state['tasks']:\n",
        "            task_to_complete = new_state['tasks'].pop(0)\n",
        "            new_state['completed_tasks'].append(task_to_complete)\n",
        "\n",
        "    return new_state\n",
        "\n",
        "# Simulate the flow\n",
        "current_state = {\"tasks\": [], \"completed_tasks\": [], \"step\": 0}\n",
        "print(f\"Initial State: {current_state}\")\n",
        "\n",
        "# Create an action to add a task\n",
        "add_action = {\"type\": \"ADD_TASK\", \"payload\": \"Write the report\"}\n",
        "current_state = state_reducer(current_state, add_action)\n",
        "print(f\"After ADD_TASK: {current_state}\")\n",
        "\n",
        "# Create an action to complete a task\n",
        "complete_action = {\"type\": \"COMPLETE_TASK\"}\n",
        "current_state = state_reducer(current_state, complete_action)\n",
        "print(f\"After COMPLETE_TASK: {current_state}\")"
      ],
      "execution_count": null,
      "outputs": [
        {
          "output_type": "stream",
          "name": "stdout",
          "text": [
            "Initial State: {'tasks': [], 'completed_tasks': [], 'step': 0}\n",
            "After ADD_TASK: {'tasks': ['Write the report'], 'completed_tasks': [], 'step': 1}\n",
            "After COMPLETE_TASK: {'tasks': [], 'completed_tasks': ['Write the report'], 'step': 2}\n"
          ]
        }
      ]
    },
    {
      "cell_type": "markdown",
      "metadata": {
        "id": "238c1daf"
      },
      "source": [
        "### Part 3: Using a Reducer in a LangGraph `Graph`\n",
        "\n",
        "LangGraph's `Graph` class (as opposed to `StateGraph`) is designed to work perfectly with the reducer pattern. Instead of adding nodes that return dictionaries, you add a central reducer and your nodes can return **actions**.\n",
        "\n",
        "The graph will automatically call your reducer with the output of each node."
      ]
    },
    {
      "cell_type": "code",
      "metadata": {
        "colab": {
          "base_uri": "https://localhost:8080/"
        },
        "id": "2d43b85b",
        "outputId": "14805de9-7bdb-414d-dcd1-585b2c9dd8f9"
      },
      "source": [
        "from langgraph.graph import StateGraph\n",
        "from typing import TypedDict, List, Union\n",
        "import copy\n",
        "\n",
        "# -----------------------------\n",
        "# Types and Reducer\n",
        "# -----------------------------\n",
        "\n",
        "class ManualState(TypedDict, total=False):\n",
        "    tasks: List[str]\n",
        "    completed_tasks: List[str]\n",
        "    step: int\n",
        "    action: dict  # optional key to hold current action\n",
        "\n",
        "class AddTaskAction(TypedDict):\n",
        "    type: str  # 'ADD_TASK'\n",
        "    payload: str\n",
        "\n",
        "class CompleteTaskAction(TypedDict):\n",
        "    type: str  # 'COMPLETE_TASK'\n",
        "\n",
        "Action = Union[AddTaskAction, CompleteTaskAction]\n",
        "\n",
        "def state_reducer(state: ManualState, action: Action) -> ManualState:\n",
        "    new_state = copy.deepcopy(state)\n",
        "    new_state[\"step\"] += 1\n",
        "\n",
        "    if action[\"type\"] == \"ADD_TASK\":\n",
        "        new_state[\"tasks\"].append(action[\"payload\"])\n",
        "    elif action[\"type\"] == \"COMPLETE_TASK\":\n",
        "        if new_state[\"tasks\"]:\n",
        "            completed = new_state[\"tasks\"].pop(0)\n",
        "            new_state[\"completed_tasks\"].append(completed)\n",
        "\n",
        "    return new_state\n",
        "\n",
        "# -----------------------------\n",
        "# Nodes\n",
        "# -----------------------------\n",
        "\n",
        "def plan_next_step(state: ManualState) -> ManualState:\n",
        "    print(\"NODE: Planning next step...\")\n",
        "    if not state[\"tasks\"]:\n",
        "        action = {\"type\": \"ADD_TASK\", \"payload\": \"First, define the project scope.\"}\n",
        "    else:\n",
        "        action = {\"type\": \"COMPLETE_TASK\"}\n",
        "\n",
        "    return {**state, \"action\": action}\n",
        "\n",
        "def apply_reducer(state: ManualState) -> ManualState:\n",
        "    print(f\"NODE: Reducing with action {state['action']}\")\n",
        "    new_state = state_reducer(state, state[\"action\"])\n",
        "    new_state.pop(\"action\", None)  # Clean up\n",
        "    return new_state\n",
        "\n",
        "def should_continue(state: ManualState) -> str:\n",
        "    if len(state[\"completed_tasks\"]) >= 2:\n",
        "        return \"end\"\n",
        "    return \"continue\"\n",
        "\n",
        "# -----------------------------\n",
        "# Graph Assembly\n",
        "# -----------------------------\n",
        "\n",
        "builder = StateGraph(ManualState)\n",
        "\n",
        "builder.add_node(\"planner\", plan_next_step)\n",
        "builder.add_node(\"reducer\", apply_reducer)\n",
        "\n",
        "builder.set_entry_point(\"planner\")\n",
        "builder.add_edge(\"planner\", \"reducer\")\n",
        "\n",
        "builder.add_conditional_edges(\n",
        "    \"reducer\",\n",
        "    should_continue,\n",
        "    {\n",
        "        \"continue\": \"planner\",\n",
        "        \"end\": \"__end__\"\n",
        "    }\n",
        ")\n",
        "\n",
        "app = builder.compile()\n",
        "\n",
        "# -----------------------------\n",
        "# Run the app\n",
        "# -----------------------------\n",
        "\n",
        "initial_state: ManualState = {\n",
        "    \"tasks\": [],\n",
        "    \"completed_tasks\": [],\n",
        "    \"step\": 0\n",
        "}\n",
        "\n",
        "final_state = app.invoke(initial_state)\n",
        "\n",
        "print(\"\\n--- Final State from Graph ---\")\n",
        "print(final_state)\n"
      ],
      "execution_count": null,
      "outputs": [
        {
          "output_type": "stream",
          "name": "stdout",
          "text": [
            "NODE: Planning next step...\n",
            "NODE: Reducing with action {'type': 'ADD_TASK', 'payload': 'First, define the project scope.'}\n",
            "NODE: Planning next step...\n",
            "NODE: Reducing with action {'type': 'COMPLETE_TASK'}\n",
            "NODE: Planning next step...\n",
            "NODE: Reducing with action {'type': 'ADD_TASK', 'payload': 'First, define the project scope.'}\n",
            "NODE: Planning next step...\n",
            "NODE: Reducing with action {'type': 'COMPLETE_TASK'}\n",
            "\n",
            "--- Final State from Graph ---\n",
            "{'tasks': [], 'completed_tasks': ['First, define the project scope.', 'First, define the project scope.'], 'step': 4, 'action': {'type': 'COMPLETE_TASK'}}\n"
          ]
        }
      ]
    }
  ],
  "metadata": {
    "colab": {
      "provenance": []
    },
    "kernelspec": {
      "display_name": "Python 3",
      "name": "python3"
    }
  },
  "nbformat": 4,
  "nbformat_minor": 0
}