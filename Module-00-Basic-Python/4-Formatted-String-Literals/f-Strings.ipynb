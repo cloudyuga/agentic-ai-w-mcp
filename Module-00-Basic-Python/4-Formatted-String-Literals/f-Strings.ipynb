{
  "nbformat": 4,
  "nbformat_minor": 0,
  "metadata": {
    "colab": {
      "provenance": []
    },
    "kernelspec": {
      "name": "python3",
      "display_name": "Python 3"
    },
    "language_info": {
      "name": "python"
    }
  },
  "cells": [
    {
      "cell_type": "markdown",
      "source": [
        "#**f-Strings**"
      ],
      "metadata": {
        "id": "_cKyzsIcmbXM"
      }
    },
    {
      "cell_type": "markdown",
      "source": [
        "####**1. Basic f-string Example**"
      ],
      "metadata": {
        "id": "wcDMRnBRmZLj"
      }
    },
    {
      "cell_type": "code",
      "execution_count": 6,
      "metadata": {
        "colab": {
          "base_uri": "https://localhost:8080/"
        },
        "id": "IP5xEHPGmUT7",
        "outputId": "9ae80702-3e53-45a5-a24e-11123c3dedb3"
      },
      "outputs": [
        {
          "output_type": "stream",
          "name": "stdout",
          "text": [
            "Hello, my name is Aarya and I am 20 years old.\n"
          ]
        }
      ],
      "source": [
        "name = \"Aarya\"\n",
        "age = 20\n",
        "message = f\"Hello, my name is {name} and I am {age} years old.\"\n",
        "print(message)"
      ]
    },
    {
      "cell_type": "markdown",
      "source": [
        "####**2. Example with Expressions**"
      ],
      "metadata": {
        "id": "dAQpLQJAm81s"
      }
    },
    {
      "cell_type": "code",
      "source": [
        "width = 5\n",
        "height = 10\n",
        "area_message = f\"The area of a {width}x{height} rectangle is {width * height}.\"\n",
        "print(area_message)"
      ],
      "metadata": {
        "colab": {
          "base_uri": "https://localhost:8080/"
        },
        "id": "HBkIaqxznBhi",
        "outputId": "f8f8b369-708d-49fd-9f67-43f3fe777f38"
      },
      "execution_count": 3,
      "outputs": [
        {
          "output_type": "stream",
          "name": "stdout",
          "text": [
            "The area of a 5x10 rectangle is 50.\n"
          ]
        }
      ]
    },
    {
      "cell_type": "markdown",
      "source": [
        "####**3. Formatting Number**"
      ],
      "metadata": {
        "id": "ckRLoUBAnX9N"
      }
    },
    {
      "cell_type": "code",
      "source": [
        "price = 1234567.8912\n",
        "formatted_price = f\"The price is ${price:,.2f}\"\n",
        "print(formatted_price)"
      ],
      "metadata": {
        "colab": {
          "base_uri": "https://localhost:8080/"
        },
        "id": "f67hJFHPnebp",
        "outputId": "4b6166a4-3bc0-4f77-d90c-d1f03b7ded58"
      },
      "execution_count": 4,
      "outputs": [
        {
          "output_type": "stream",
          "name": "stdout",
          "text": [
            "The price is $1,234,567.89\n"
          ]
        }
      ]
    },
    {
      "cell_type": "markdown",
      "source": [
        "####**4. Formatting Dates**"
      ],
      "metadata": {
        "id": "oHlaHfHhno7B"
      }
    },
    {
      "cell_type": "code",
      "source": [
        "from datetime import datetime\n",
        "\n",
        "current_date = datetime.now()\n",
        "formatted_date = f\"Today’s date is {current_date:%B %d, %Y}.\"\n",
        "print(formatted_date)"
      ],
      "metadata": {
        "colab": {
          "base_uri": "https://localhost:8080/"
        },
        "id": "9p0XUJ9znyCn",
        "outputId": "2d9c5179-f2fa-47bd-9d5e-74445a151fc5"
      },
      "execution_count": 5,
      "outputs": [
        {
          "output_type": "stream",
          "name": "stdout",
          "text": [
            "Today’s date is January 30, 2025.\n"
          ]
        }
      ]
    }
  ]
}