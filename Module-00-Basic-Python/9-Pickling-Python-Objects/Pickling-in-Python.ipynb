{
  "nbformat": 4,
  "nbformat_minor": 0,
  "metadata": {
    "colab": {
      "provenance": []
    },
    "kernelspec": {
      "name": "python3",
      "display_name": "Python 3"
    },
    "language_info": {
      "name": "python"
    }
  },
  "cells": [
    {
      "cell_type": "markdown",
      "source": [
        "#**Pickling in Python: Saving and Loading Python Objects Efficiently**"
      ],
      "metadata": {
        "id": "Jx1qS56iZQNJ"
      }
    },
    {
      "cell_type": "markdown",
      "source": [
        "##**2. Using Pickle in Python**\n"
      ],
      "metadata": {
        "id": "ORTf2vVyZnfU"
      }
    },
    {
      "cell_type": "markdown",
      "source": [
        "####**1. Saving (Pickling) Objects to a File**"
      ],
      "metadata": {
        "id": "wAnmDEX_Zy16"
      }
    },
    {
      "cell_type": "code",
      "execution_count": 1,
      "metadata": {
        "colab": {
          "base_uri": "https://localhost:8080/"
        },
        "id": "FIYqjJ3pZCcs",
        "outputId": "664f8166-64ff-4d1b-be18-e5fd7cfb1c83"
      },
      "outputs": [
        {
          "output_type": "stream",
          "name": "stdout",
          "text": [
            "Student list has been pickled and saved.\n"
          ]
        }
      ],
      "source": [
        "import pickle\n",
        "\n",
        "# Sample list of student names\n",
        "students = [\"Alice\", \"Bob\", \"Charlie\", \"David\"]\n",
        "\n",
        "# Save to a pickle file\n",
        "with open(\"students.pkl\", \"wb\") as file:\n",
        "    pickle.dump(students, file)\n",
        "\n",
        "print(\"Student list has been pickled and saved.\")"
      ]
    },
    {
      "cell_type": "markdown",
      "source": [
        "####**2. Loading (Unpickling) Objects from a File**"
      ],
      "metadata": {
        "id": "dHo7wjAlZ2b5"
      }
    },
    {
      "cell_type": "code",
      "source": [
        "import pickle\n",
        "\n",
        "# Load the pickled data\n",
        "with open(\"students.pkl\", \"rb\") as file:\n",
        "    loaded_students = pickle.load(file)\n",
        "\n",
        "print(\"Loaded Students:\", loaded_students)"
      ],
      "metadata": {
        "colab": {
          "base_uri": "https://localhost:8080/"
        },
        "id": "bHtvZ68GZkVR",
        "outputId": "d4a082bd-69cc-47b0-9489-102a686fb0c3"
      },
      "execution_count": 2,
      "outputs": [
        {
          "output_type": "stream",
          "name": "stdout",
          "text": [
            "Loaded Students: ['Alice', 'Bob', 'Charlie', 'David']\n"
          ]
        }
      ]
    },
    {
      "cell_type": "markdown",
      "source": [
        "##**3. Using JSON for Serialization**"
      ],
      "metadata": {
        "id": "1S3dggwiaE9h"
      }
    },
    {
      "cell_type": "markdown",
      "source": [
        "####**1. Writing Data to a JSON File**\n"
      ],
      "metadata": {
        "id": "Gys4len2aLk_"
      }
    },
    {
      "cell_type": "code",
      "source": [
        "import json\n",
        "\n",
        "# Sample dictionary of employees and their ages\n",
        "employees = {\"John\": 30, \"Emma\": 28, \"Sophia\": 35}\n",
        "\n",
        "# Save to a JSON file\n",
        "with open(\"employees.json\", \"w\") as file:\n",
        "    json.dump(employees, file)\n",
        "\n",
        "print(\"Employee data has been saved in JSON format.\")"
      ],
      "metadata": {
        "colab": {
          "base_uri": "https://localhost:8080/"
        },
        "id": "M9OISsU3aO6j",
        "outputId": "a2c066a3-83df-4307-e2ce-15b08a8c3f55"
      },
      "execution_count": 3,
      "outputs": [
        {
          "output_type": "stream",
          "name": "stdout",
          "text": [
            "Employee data has been saved in JSON format.\n"
          ]
        }
      ]
    },
    {
      "cell_type": "markdown",
      "source": [
        "####**2. Reading Data from a JSON File**"
      ],
      "metadata": {
        "id": "FIWawTnPaUgL"
      }
    },
    {
      "cell_type": "code",
      "source": [
        "import json\n",
        "\n",
        "# Load JSON data\n",
        "with open(\"employees.json\", \"r\") as file:\n",
        "    loaded_employees = json.load(file)\n",
        "\n",
        "print(\"Loaded Employee Data:\", loaded_employees)"
      ],
      "metadata": {
        "colab": {
          "base_uri": "https://localhost:8080/"
        },
        "id": "7hBCeZuFaWnH",
        "outputId": "2e95f018-271a-4a62-a9d2-e5f43a962a9d"
      },
      "execution_count": 4,
      "outputs": [
        {
          "output_type": "stream",
          "name": "stdout",
          "text": [
            "Loaded Employee Data: {'John': 30, 'Emma': 28, 'Sophia': 35}\n"
          ]
        }
      ]
    }
  ]
}