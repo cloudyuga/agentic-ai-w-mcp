{
  "nbformat": 4,
  "nbformat_minor": 0,
  "metadata": {
    "colab": {
      "provenance": []
    },
    "kernelspec": {
      "name": "python3",
      "display_name": "Python 3"
    },
    "language_info": {
      "name": "python"
    }
  },
  "cells": [
    {
      "cell_type": "code",
      "execution_count": null,
      "metadata": {
        "id": "D8KfJhrrYtYJ"
      },
      "outputs": [],
      "source": []
    },
    {
      "cell_type": "markdown",
      "source": [
        "#**Python Strings: An Overview**\n"
      ],
      "metadata": {
        "id": "fcKR0mUEYyAX"
      }
    },
    {
      "cell_type": "markdown",
      "source": [
        "####**1. Basic String Manipulation in Python**"
      ],
      "metadata": {
        "id": "f_fMo60FY0nZ"
      }
    },
    {
      "cell_type": "markdown",
      "source": [
        "######**len() - Returns the length of the string**"
      ],
      "metadata": {
        "id": "CmtyricwZx21"
      }
    },
    {
      "cell_type": "code",
      "source": [
        "text = \"Hello, world!\"\n",
        "print(len(text))"
      ],
      "metadata": {
        "colab": {
          "base_uri": "https://localhost:8080/"
        },
        "id": "ta3zq3LzZwlZ",
        "outputId": "7df4cd16-8f2b-49a9-a17c-95b7a6983720"
      },
      "execution_count": 1,
      "outputs": [
        {
          "output_type": "stream",
          "name": "stdout",
          "text": [
            "13\n"
          ]
        }
      ]
    },
    {
      "cell_type": "markdown",
      "source": [
        "######**lower() - Returns the string in lowercase**"
      ],
      "metadata": {
        "id": "qDcDKmjEaHSq"
      }
    },
    {
      "cell_type": "code",
      "source": [
        "text = \"Hello, world!\"\n",
        "print(text.lower())"
      ],
      "metadata": {
        "colab": {
          "base_uri": "https://localhost:8080/"
        },
        "id": "pHYJkAlFaOjd",
        "outputId": "5e47a2b0-8c4b-4a9c-ef99-be1a73a4c06e"
      },
      "execution_count": 2,
      "outputs": [
        {
          "output_type": "stream",
          "name": "stdout",
          "text": [
            "hello, world!\n"
          ]
        }
      ]
    },
    {
      "cell_type": "markdown",
      "source": [
        "######**upper() - Returns the string in uppercase**"
      ],
      "metadata": {
        "id": "0Qd77izuac1z"
      }
    },
    {
      "cell_type": "code",
      "source": [
        "text = \"Hello, world!\"\n",
        "print(text.upper())     # \"Output: HELLO, WORLD!\""
      ],
      "metadata": {
        "colab": {
          "base_uri": "https://localhost:8080/"
        },
        "id": "qMB36576ajrS",
        "outputId": "1d540e0f-a514-4102-ab84-edd238cb4bdb"
      },
      "execution_count": 3,
      "outputs": [
        {
          "output_type": "stream",
          "name": "stdout",
          "text": [
            "HELLO, WORLD!\n"
          ]
        }
      ]
    },
    {
      "cell_type": "markdown",
      "source": [
        "######**replace() - Replaces a part of the string with another substring.**"
      ],
      "metadata": {
        "id": "l1bNsZ69apa7"
      }
    },
    {
      "cell_type": "code",
      "source": [
        "greeting = \"Hello, world!\"\n",
        "new_greeting = greeting.replace(\"world\", \"Python\")\n",
        "print(new_greeting)"
      ],
      "metadata": {
        "colab": {
          "base_uri": "https://localhost:8080/"
        },
        "id": "JjBcz4iOapA7",
        "outputId": "b1598666-462c-458f-d9f3-7201cdcc4176"
      },
      "execution_count": 4,
      "outputs": [
        {
          "output_type": "stream",
          "name": "stdout",
          "text": [
            "Hello, Python!\n"
          ]
        }
      ]
    },
    {
      "cell_type": "markdown",
      "source": [
        "######**strip() - Removes any whitespace (spaces, newlines) from the beginning and end of the string.**"
      ],
      "metadata": {
        "id": "mrDrGAXXbHdj"
      }
    },
    {
      "cell_type": "code",
      "source": [
        "messy_text = \"**Hello, world!\"\n",
        "clean_text = messy_text.strip('*')\n",
        "print(clean_text)"
      ],
      "metadata": {
        "colab": {
          "base_uri": "https://localhost:8080/"
        },
        "id": "Bkjf1K5jbNBf",
        "outputId": "0f65bbce-8dab-471e-e829-99b044e53119"
      },
      "execution_count": 8,
      "outputs": [
        {
          "output_type": "stream",
          "name": "stdout",
          "text": [
            "Hello, world!\n"
          ]
        }
      ]
    },
    {
      "cell_type": "markdown",
      "source": [
        "######**split() - Divides a string into a list of substrings based on a specified separator (default is whitespace).**"
      ],
      "metadata": {
        "id": "wXeQ0IRQb0tn"
      }
    },
    {
      "cell_type": "code",
      "source": [
        "sentence = \"Hello world Python is great\"\n",
        "words = sentence.split()\n",
        "print(words)"
      ],
      "metadata": {
        "colab": {
          "base_uri": "https://localhost:8080/"
        },
        "id": "BX-fgzNgb50y",
        "outputId": "6a454d89-ad5f-405d-ed4f-061796c81e40"
      },
      "execution_count": 9,
      "outputs": [
        {
          "output_type": "stream",
          "name": "stdout",
          "text": [
            "['Hello', 'world', 'Python', 'is', 'great']\n"
          ]
        }
      ]
    },
    {
      "cell_type": "markdown",
      "source": [
        "######**join() - Combines a list of strings into a single string, with each element separated by the string it was called on.**"
      ],
      "metadata": {
        "id": "3L9sFNZVcQ-n"
      }
    },
    {
      "cell_type": "code",
      "source": [
        "words = ['Hello', 'world', 'Python', 'is', 'great']\n",
        "sentence = \" \".join(words)\n",
        "print(sentence)"
      ],
      "metadata": {
        "colab": {
          "base_uri": "https://localhost:8080/"
        },
        "id": "F_7_CZZfefRN",
        "outputId": "da20b75d-1cbe-4e7c-eddc-d12e0c3db580"
      },
      "execution_count": 12,
      "outputs": [
        {
          "output_type": "stream",
          "name": "stdout",
          "text": [
            "Hello world Python is great\n"
          ]
        }
      ]
    },
    {
      "cell_type": "markdown",
      "source": [
        "######**Slicing - Extracts parts of a string by specifying a range of indices.**"
      ],
      "metadata": {
        "id": "Yhv6m92uervW"
      }
    },
    {
      "cell_type": "code",
      "source": [
        "text = \"Hello, world!\"\n",
        "print(text[0:5])\n",
        "print(text[-6:])"
      ],
      "metadata": {
        "colab": {
          "base_uri": "https://localhost:8080/"
        },
        "id": "uwBQmvkdewbR",
        "outputId": "2f6d9b66-0fc2-4be1-dbad-0b582251ff09"
      },
      "execution_count": 13,
      "outputs": [
        {
          "output_type": "stream",
          "name": "stdout",
          "text": [
            "Hello\n",
            "world!\n"
          ]
        }
      ]
    },
    {
      "cell_type": "markdown",
      "source": [
        "####**2. Multi-line Strings**"
      ],
      "metadata": {
        "id": "_NrHYGwJe94T"
      }
    },
    {
      "cell_type": "markdown",
      "source": [
        "######**Backslash \\**"
      ],
      "metadata": {
        "id": "uAlPJ7unfEvp"
      }
    },
    {
      "cell_type": "code",
      "source": [
        "multi_line_string = \"This is a string that is too long to fit on one line, so we continue it \\\n",
        "here without any breaks.\"\n",
        "print(multi_line_string)"
      ],
      "metadata": {
        "colab": {
          "base_uri": "https://localhost:8080/"
        },
        "id": "MohaPXKIfJAA",
        "outputId": "aa79ace9-ded9-41e0-9695-669f8368aed2"
      },
      "execution_count": 14,
      "outputs": [
        {
          "output_type": "stream",
          "name": "stdout",
          "text": [
            "This is a string that is too long to fit on one line, so we continue it here without any breaks.\n"
          ]
        }
      ]
    },
    {
      "cell_type": "markdown",
      "source": [
        "######**Triple Quotes ' ' ' or \" \" \"**"
      ],
      "metadata": {
        "id": "M4Vd_ds8fQn8"
      }
    },
    {
      "cell_type": "code",
      "source": [
        "multi_line_quote = \"\"\"This is a string\n",
        "that contains multiple lines,\n",
        "and we don't need to use a backslash.\n",
        "It also handles quotes, like \"this one\" and 'that one'.\"\"\"\n",
        "print(multi_line_quote)"
      ],
      "metadata": {
        "colab": {
          "base_uri": "https://localhost:8080/"
        },
        "id": "TWkv8n5WfaEv",
        "outputId": "da742eaf-5ada-41e1-d1d2-6c0e9d5e591b"
      },
      "execution_count": 15,
      "outputs": [
        {
          "output_type": "stream",
          "name": "stdout",
          "text": [
            "This is a string\n",
            "that contains multiple lines,\n",
            "and we don't need to use a backslash.\n",
            "It also handles quotes, like \"this one\" and 'that one'.\n"
          ]
        }
      ]
    },
    {
      "cell_type": "markdown",
      "source": [
        "####**3. Triple-Quoted Strings as Docstrings**"
      ],
      "metadata": {
        "id": "apj-7P5uflao"
      }
    },
    {
      "cell_type": "code",
      "source": [
        "def greet(name):\n",
        "    \"\"\"\n",
        "    This function takes a name as input and returns a greeting string.\n",
        "\n",
        "    Parameters:\n",
        "    name (str): The name of the person to greet.\n",
        "\n",
        "    Returns:\n",
        "    str: A greeting message.\n",
        "    \"\"\"\n",
        "    return f\"Hello, {name}!\"\n",
        "\n",
        "greet('Aarya')"
      ],
      "metadata": {
        "colab": {
          "base_uri": "https://localhost:8080/",
          "height": 35
        },
        "id": "4tgYPCWxfpAD",
        "outputId": "62c98ee2-da81-415c-98c2-a1bc65f713d3"
      },
      "execution_count": 20,
      "outputs": [
        {
          "output_type": "execute_result",
          "data": {
            "text/plain": [
              "'Hello, Aarya!'"
            ],
            "application/vnd.google.colaboratory.intrinsic+json": {
              "type": "string"
            }
          },
          "metadata": {},
          "execution_count": 20
        }
      ]
    }
  ]
}