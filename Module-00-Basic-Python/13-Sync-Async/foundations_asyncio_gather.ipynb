{
  "cells": [
    {
      "cell_type": "code",
      "source": [
        "import asyncio\n",
        "import nest_asyncio\n",
        "\n",
        "nest_asyncio.apply()\n",
        "\n",
        "async def worker_task(task_name, duration):\n",
        "    print(f\"  [{task_name}] Starting... will take {duration}s.\")\n",
        "    await asyncio.sleep(duration)\n",
        "    print(f\"  [{task_name}] ...Finished.\")\n",
        "    return f\"{task_name} Result\"\n",
        "\n",
        "async def main():\n",
        "    print(\"=\"*60)\n",
        "    print(\"PART 1: RUNNING ASYNC TASKS SEQUENTIALLY\")\n",
        "    print(\"The total time will be the SUM of all task durations.\")\n",
        "    print(\"=\"*60)\n",
        "\n",
        "    start_sequential = asyncio.get_event_loop().time()\n",
        "    result_a = await worker_task(\"Task A\", 2)\n",
        "    result_b = await worker_task(\"Task B\", 3)\n",
        "    result_c = await worker_task(\"Task C\", 1)\n",
        "    end_sequential = asyncio.get_event_loop().time()\n",
        "\n",
        "    print(f\"\\nSequential Results: {[result_a, result_b, result_c]}\")\n",
        "    print(f\"Total Sequential Time: {end_sequential - start_sequential:.1f} seconds (Expected: 2+3+1 = 6s)\")\n",
        "\n",
        "    print(\"\\n\" + \"=\"*60)\n",
        "    print(\"PART 2: RUNNING ASYNC TASKS CONCURRENTLY WITH asyncio.gather()\")\n",
        "    print(\"The total time will be the duration of the LONGEST task.\")\n",
        "    print(\"=\"*60)\n",
        "\n",
        "    start_concurrent = asyncio.get_event_loop().time()\n",
        "    all_results = await asyncio.gather(\n",
        "        worker_task(\"Task A\", 2),\n",
        "        worker_task(\"Task B\", 3),\n",
        "        worker_task(\"Task C\", 1)\n",
        "    )\n",
        "    end_concurrent = asyncio.get_event_loop().time()\n",
        "\n",
        "    print(f\"\\nConcurrent Results: {all_results}\")\n",
        "    print(f\"Total Concurrent Time: {end_concurrent - start_concurrent:.1f} seconds (Expected: max(2, 3, 1) = 3s)\")\n",
        "    print(f\"\\n✨ Speed-up vs Sequential: {(end_sequential - start_sequential) - (end_concurrent - start_concurrent):.1f} seconds faster!\")\n",
        "\n",
        "\n",
        "if __name__ == \"__main__\":\n",
        "    asyncio.run(main())"
      ],
      "outputs": [
        {
          "output_type": "stream",
          "name": "stdout",
          "text": [
            "============================================================\n",
            "PART 1: RUNNING ASYNC TASKS SEQUENTIALLY\n",
            "The total time will be the SUM of all task durations.\n",
            "============================================================\n",
            "  [Task A] Starting... will take 2s.\n",
            "  [Task A] ...Finished.\n",
            "  [Task B] Starting... will take 3s.\n",
            "  [Task B] ...Finished.\n",
            "  [Task C] Starting... will take 1s.\n",
            "  [Task C] ...Finished.\n",
            "\n",
            "Sequential Results: ['Task A Result', 'Task B Result', 'Task C Result']\n",
            "Total Sequential Time: 6.0 seconds (Expected: 2+3+1 = 6s)\n",
            "\n",
            "============================================================\n",
            "PART 2: RUNNING ASYNC TASKS CONCURRENTLY WITH asyncio.gather()\n",
            "The total time will be the duration of the LONGEST task.\n",
            "============================================================\n",
            "  [Task A] Starting... will take 2s.\n",
            "  [Task B] Starting... will take 3s.\n",
            "  [Task C] Starting... will take 1s.\n",
            "  [Task C] ...Finished.\n",
            "  [Task A] ...Finished.\n",
            "  [Task B] ...Finished.\n",
            "\n",
            "Concurrent Results: ['Task A Result', 'Task B Result', 'Task C Result']\n",
            "Total Concurrent Time: 3.0 seconds (Expected: max(2, 3, 1) = 3s)\n",
            "\n",
            "✨ Speed-up vs Sequential: 3.0 seconds faster!\n"
          ]
        }
      ],
      "execution_count": 2,
      "metadata": {
        "colab": {
          "base_uri": "https://localhost:8080/"
        },
        "id": "GnoHka2UwXxQ",
        "outputId": "3116c00a-d99f-4a0f-d65d-2ec49d07098b"
      }
    }
  ],
  "metadata": {
    "colab": {
      "provenance": []
    },
    "kernelspec": {
      "display_name": "Python 3",
      "name": "python3"
    }
  },
  "nbformat": 4,
  "nbformat_minor": 0
}