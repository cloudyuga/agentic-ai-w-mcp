{
  "cells": [
    {
      "cell_type": "code",
      "source": [
        "import time\n",
        "import asyncio\n",
        "import nest_asyncio\n",
        "\n",
        "nest_asyncio.apply()\n",
        "\n",
        "def synchronous_task(task_name, duration):\n",
        "    print(f\"SYNC:  Starting '{task_name}'...\")\n",
        "    time.sleep(duration)\n",
        "    print(f\"SYNC:  ...'{task_name}' Finished after {duration}s.\")\n",
        "\n",
        "def synchronous_main():\n",
        "    print(\"--- Running Synchronous Tasks (Blocking) ---\")\n",
        "    start_time = time.time()\n",
        "    synchronous_task(\"Task A\", 2)\n",
        "    synchronous_task(\"Task B\", 3)\n",
        "    end_time = time.time()\n",
        "    print(f\"Total SYNC Time: {end_time - start_time:.1f} seconds.\\n\")\n",
        "\n",
        "async def asynchronous_task(task_name, duration):\n",
        "    print(f\"ASYNC: Starting '{task_name}'...\")\n",
        "    await asyncio.sleep(duration)\n",
        "    print(f\"ASYNC: ...'{task_name}' Finished after {duration}s.\")\n",
        "\n",
        "async def asynchronous_main_sequential():\n",
        "    print(\"--- Running Asynchronous Tasks (Sequentially with await) ---\")\n",
        "    start_time = asyncio.get_event_loop().time()\n",
        "    await asynchronous_task(\"Task A\", 2)\n",
        "    await asynchronous_task(\"Task B\", 3)\n",
        "    end_time = asyncio.get_event_loop().time()\n",
        "    print(f\"Total ASYNC Sequential Time: {end_time - start_time:.1f} seconds.\")\n",
        "\n",
        "if __name__ == \"__main__\":\n",
        "    synchronous_main()\n",
        "    asyncio.run(asynchronous_main_sequential())"
      ],
      "outputs": [
        {
          "output_type": "stream",
          "name": "stdout",
          "text": [
            "--- Running Synchronous Tasks (Blocking) ---\n",
            "SYNC:  Starting 'Task A'...\n",
            "SYNC:  ...'Task A' Finished after 2s.\n",
            "SYNC:  Starting 'Task B'...\n",
            "SYNC:  ...'Task B' Finished after 3s.\n",
            "Total SYNC Time: 5.0 seconds.\n",
            "\n",
            "--- Running Asynchronous Tasks (Sequentially with await) ---\n",
            "ASYNC: Starting 'Task A'...\n",
            "ASYNC: ...'Task A' Finished after 2s.\n",
            "ASYNC: Starting 'Task B'...\n",
            "ASYNC: ...'Task B' Finished after 3s.\n",
            "Total ASYNC Sequential Time: 5.0 seconds.\n"
          ]
        }
      ],
      "execution_count": 1,
      "metadata": {
        "colab": {
          "base_uri": "https://localhost:8080/"
        },
        "id": "6tUAR4O_v9lz",
        "outputId": "4be32f48-bdc4-476c-b41e-ba68facf332b"
      }
    }
  ],
  "metadata": {
    "colab": {
      "provenance": []
    },
    "kernelspec": {
      "display_name": "Python 3",
      "name": "python3"
    }
  },
  "nbformat": 4,
  "nbformat_minor": 0
}