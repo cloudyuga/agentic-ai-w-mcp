{
  "nbformat": 4,
  "nbformat_minor": 0,
  "metadata": {
    "colab": {
      "provenance": []
    },
    "kernelspec": {
      "name": "python3",
      "display_name": "Python 3"
    },
    "language_info": {
      "name": "python"
    }
  },
  "cells": [
    {
      "cell_type": "markdown",
      "source": [
        "#**Lists, Dictionaries, and Sets**"
      ],
      "metadata": {
        "id": "JdwjIQdnotPu"
      }
    },
    {
      "cell_type": "markdown",
      "source": [
        "####**1. Lists**"
      ],
      "metadata": {
        "id": "F1Z1bTwSo6Ak"
      }
    },
    {
      "cell_type": "code",
      "execution_count": 1,
      "metadata": {
        "id": "Gc2EmEBNokzz"
      },
      "outputs": [],
      "source": [
        "# Creating a list of cities\n",
        "cities = [\"London\", \"Paris\", \"Tokyo\"]"
      ]
    },
    {
      "cell_type": "code",
      "source": [
        "# Accessing items\n",
        "print(cities[0])\n",
        "print(cities[2])"
      ],
      "metadata": {
        "colab": {
          "base_uri": "https://localhost:8080/"
        },
        "id": "V0dr4k2bpH1_",
        "outputId": "7cb6d39c-a589-4258-eab2-c934f1570322"
      },
      "execution_count": 2,
      "outputs": [
        {
          "output_type": "stream",
          "name": "stdout",
          "text": [
            "London\n",
            "Tokyo\n"
          ]
        }
      ]
    },
    {
      "cell_type": "code",
      "source": [
        "# Adding an item\n",
        "cities.append(\"New York\")\n",
        "print(cities)"
      ],
      "metadata": {
        "colab": {
          "base_uri": "https://localhost:8080/"
        },
        "id": "aY6hLuaEpK10",
        "outputId": "5cb3ae55-e209-4919-81ad-7df25c3141bc"
      },
      "execution_count": 4,
      "outputs": [
        {
          "output_type": "stream",
          "name": "stdout",
          "text": [
            "['London', 'Paris', 'Tokyo', 'New York']\n"
          ]
        }
      ]
    },
    {
      "cell_type": "code",
      "source": [
        "# Removing an item\n",
        "cities.remove(\"Paris\")\n",
        "print(cities)"
      ],
      "metadata": {
        "colab": {
          "base_uri": "https://localhost:8080/"
        },
        "id": "OSBMfvY2pNBL",
        "outputId": "417f74e6-1b44-4aa6-f43a-d6a01f6e715d"
      },
      "execution_count": 5,
      "outputs": [
        {
          "output_type": "stream",
          "name": "stdout",
          "text": [
            "['London', 'Tokyo', 'New York']\n"
          ]
        }
      ]
    },
    {
      "cell_type": "markdown",
      "source": [
        "####**2. Dictionaries**"
      ],
      "metadata": {
        "id": "h0VNlZxfpSj2"
      }
    },
    {
      "cell_type": "code",
      "source": [
        "# Creating a dictionary with details about a book\n",
        "book = {\n",
        "    \"title\": \"1984\",\n",
        "    \"author\": \"George Orwell\",\n",
        "    \"year\": 1949\n",
        "}"
      ],
      "metadata": {
        "id": "ssJjvDJrpDHX"
      },
      "execution_count": 6,
      "outputs": []
    },
    {
      "cell_type": "code",
      "source": [
        "# Accessing values by key\n",
        "print(book[\"title\"])\n",
        "print(book[\"year\"])"
      ],
      "metadata": {
        "colab": {
          "base_uri": "https://localhost:8080/"
        },
        "id": "ehAMgxkcpbgp",
        "outputId": "14f45f01-019c-4146-b43c-999061164e3c"
      },
      "execution_count": 7,
      "outputs": [
        {
          "output_type": "stream",
          "name": "stdout",
          "text": [
            "1984\n",
            "1949\n"
          ]
        }
      ]
    },
    {
      "cell_type": "code",
      "source": [
        "# Adding a new key-value pair\n",
        "book[\"genre\"] = \"Dystopian\"\n",
        "print(book)"
      ],
      "metadata": {
        "colab": {
          "base_uri": "https://localhost:8080/"
        },
        "id": "fiSvek-bpdw1",
        "outputId": "1038297e-c982-4632-9630-56aea2300961"
      },
      "execution_count": 8,
      "outputs": [
        {
          "output_type": "stream",
          "name": "stdout",
          "text": [
            "{'title': '1984', 'author': 'George Orwell', 'year': 1949, 'genre': 'Dystopian'}\n"
          ]
        }
      ]
    },
    {
      "cell_type": "code",
      "source": [
        "# Changing a value\n",
        "book[\"year\"] = 1950\n",
        "print(book)"
      ],
      "metadata": {
        "colab": {
          "base_uri": "https://localhost:8080/"
        },
        "id": "MAHHLMCrpf9t",
        "outputId": "384a84d9-45e0-4c43-8b61-befdec08ea28"
      },
      "execution_count": 9,
      "outputs": [
        {
          "output_type": "stream",
          "name": "stdout",
          "text": [
            "{'title': '1984', 'author': 'George Orwell', 'year': 1950, 'genre': 'Dystopian'}\n"
          ]
        }
      ]
    },
    {
      "cell_type": "markdown",
      "source": [
        "######**Using get() with Dictionaries**"
      ],
      "metadata": {
        "id": "GUqUswQ_pk6c"
      }
    },
    {
      "cell_type": "code",
      "source": [
        "# Using get() without a default value\n",
        "print(book.get(\"title\"))\n",
        "print(book.get(\"publisher\"))  # Output: None (key doesn't exist)"
      ],
      "metadata": {
        "colab": {
          "base_uri": "https://localhost:8080/"
        },
        "id": "uzS3zdz4poke",
        "outputId": "257542a7-a59e-4018-d262-99ca9ebddc79"
      },
      "execution_count": 10,
      "outputs": [
        {
          "output_type": "stream",
          "name": "stdout",
          "text": [
            "1984\n",
            "None\n"
          ]
        }
      ]
    },
    {
      "cell_type": "code",
      "source": [
        "# Using get() with a default value\n",
        "print(book.get(\"publisher\", \"Not available\"))"
      ],
      "metadata": {
        "colab": {
          "base_uri": "https://localhost:8080/"
        },
        "id": "FnurzeC7pq7D",
        "outputId": "17892671-dd45-44ad-e8f8-8c1c16f0e2bc"
      },
      "execution_count": 12,
      "outputs": [
        {
          "output_type": "stream",
          "name": "stdout",
          "text": [
            "Not available\n"
          ]
        }
      ]
    },
    {
      "cell_type": "markdown",
      "source": [
        "####**3. Sets**"
      ],
      "metadata": {
        "id": "e8BVnZFlpsYe"
      }
    },
    {
      "cell_type": "code",
      "source": [
        "# Creating a set of sports\n",
        "sports = {\"football\", \"cricket\", \"tennis\"}"
      ],
      "metadata": {
        "id": "xp_H1_wdpxdQ"
      },
      "execution_count": 13,
      "outputs": []
    },
    {
      "cell_type": "code",
      "source": [
        "# Adding an item\n",
        "sports.add(\"basketball\")\n",
        "print(sports)"
      ],
      "metadata": {
        "colab": {
          "base_uri": "https://localhost:8080/"
        },
        "id": "_JzlpSNUp28t",
        "outputId": "ac27967b-e8ca-47bf-fd2a-a4e722faee57"
      },
      "execution_count": 14,
      "outputs": [
        {
          "output_type": "stream",
          "name": "stdout",
          "text": [
            "{'tennis', 'cricket', 'basketball', 'football'}\n"
          ]
        }
      ]
    },
    {
      "cell_type": "code",
      "source": [
        "# Trying to add a duplicate item\n",
        "sports.add(\"football\")\n",
        "print(sports)  # Output: {'football', 'cricket', 'tennis', 'basketball'} (no duplicate added)"
      ],
      "metadata": {
        "colab": {
          "base_uri": "https://localhost:8080/"
        },
        "id": "YdlOpaubp5Xx",
        "outputId": "853045da-ba43-486f-8a96-bcafa340597a"
      },
      "execution_count": 15,
      "outputs": [
        {
          "output_type": "stream",
          "name": "stdout",
          "text": [
            "{'tennis', 'cricket', 'basketball', 'football'}\n"
          ]
        }
      ]
    },
    {
      "cell_type": "code",
      "source": [
        "# Removing an item\n",
        "sports.remove(\"tennis\")\n",
        "print(sports)"
      ],
      "metadata": {
        "colab": {
          "base_uri": "https://localhost:8080/"
        },
        "id": "1rP5-3ryp8jj",
        "outputId": "cf0eea31-c532-4287-fa7d-f0ae1c016370"
      },
      "execution_count": 16,
      "outputs": [
        {
          "output_type": "stream",
          "name": "stdout",
          "text": [
            "{'cricket', 'basketball', 'football'}\n"
          ]
        }
      ]
    }
  ]
}