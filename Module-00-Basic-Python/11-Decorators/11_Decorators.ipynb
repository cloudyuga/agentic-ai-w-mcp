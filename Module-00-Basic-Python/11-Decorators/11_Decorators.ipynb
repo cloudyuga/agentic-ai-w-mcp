{
  "cells": [
    {
      "cell_type": "markdown",
      "metadata": {
        "id": "fa80eb2a"
      },
      "source": [
        "# Lab: The Power of Python Decorators\n",
        "\n",
        "Welcome! Before we dive deeper into advanced LangGraph features, we need to master a core Python concept that makes frameworks like LangGraph so elegant: **Decorators**.\n",
        "\n",
        "### What is a Decorator?\n",
        "\n",
        "A decorator is a special kind of function that **takes another function as input** and **returns a modified or extended function as output**. It allows you to add new functionality to an existing function without changing its source code.\n",
        "\n",
        "Think of it like adding a turbocharger to a car's engine. The engine is still the same, but the turbocharger (the decorator) gives it extra power.\n",
        "\n",
        "**Why is this important for Agentic AI?**\n",
        "Decorators are used everywhere in modern AI frameworks to:\n",
        "- **Register functions as tools** (`@tool`)\n",
        "- **Add logging or timing** to see how long agent steps take.\n",
        "- **Implement safety checks** or moderation before or after a function runs."
      ]
    },
    {
      "cell_type": "code",
      "metadata": {
        "colab": {
          "base_uri": "https://localhost:8080/"
        },
        "id": "50aaa9d0",
        "outputId": "b868fd92-7dfa-48dd-c0de-c6307ef83cb1"
      },
      "source": [
        "print(\"Running setup...\")\n",
        "# No external libraries needed for this lab, just pure Python!"
      ],
      "execution_count": null,
      "outputs": [
        {
          "output_type": "stream",
          "name": "stdout",
          "text": [
            "Running setup...\n"
          ]
        }
      ]
    },
    {
      "cell_type": "markdown",
      "metadata": {
        "id": "71e02f50"
      },
      "source": [
        "### Part 1: Functions as Objects\n",
        "\n",
        "The first thing to understand is that in Python, functions are first-class objects. This means you can pass them around just like you would pass a string or a number."
      ]
    },
    {
      "cell_type": "code",
      "metadata": {
        "colab": {
          "base_uri": "https://localhost:8080/"
        },
        "id": "f12c64af",
        "outputId": "c729916a-0425-4bd8-fd15-bb64dacb0f95"
      },
      "source": [
        "def greet(name):\n",
        "    return f\"Hello, {name}!\"\n",
        "\n",
        "print(greet(\"Alice\"))\n",
        "\n",
        "# You can assign a function to a variable\n",
        "say_hello = greet\n",
        "print(say_hello(\"Bob\"))\n",
        "\n",
        "# You can pass a function as an argument to another function\n",
        "def process_greeting(greeter_func, person_name):\n",
        "    print(\"Processing...\")\n",
        "    print(greeter_func(person_name))\n",
        "    print(\"Done!\")\n",
        "\n",
        "process_greeting(greet, \"Charlie\")"
      ],
      "execution_count": null,
      "outputs": [
        {
          "output_type": "stream",
          "name": "stdout",
          "text": [
            "Hello, Alice!\n",
            "Hello, Bob!\n",
            "Processing...\n",
            "Hello, Charlie!\n",
            "Done!\n"
          ]
        }
      ]
    },
    {
      "cell_type": "markdown",
      "metadata": {
        "id": "44b1afe6"
      },
      "source": [
        "### Part 2: Building Our First Decorator\n",
        "\n",
        "Now, let's build a simple decorator from scratch. Our decorator will add a border of `========` characters around the output of any function it decorates."
      ]
    },
    {
      "cell_type": "code",
      "metadata": {
        "colab": {
          "base_uri": "https://localhost:8080/",
          "height": 163
        },
        "id": "26ab1c83",
        "outputId": "fa952f84-a193-4dcf-be13-1840cd01cf97"
      },
      "source": [
        "# This is the decorator function. It takes a function as input.\n",
        "def border_decorator(func_to_decorate):\n",
        "    # It defines a new 'wrapper' function inside.\n",
        "    # This wrapper is what actually gets called.\n",
        "    def wrapper(*args, **kwargs):\n",
        "        print(\"=\"*20)\n",
        "        # It calls the original function that was passed in.\n",
        "        result = func_to_decorate(*args, **kwargs)\n",
        "        print(result)\n",
        "        print(\"=\"*20)\n",
        "        return result # It's good practice to return the original result\n",
        "\n",
        "    # The decorator returns the new wrapper function.\n",
        "    return wrapper\n",
        "\n",
        "# Now, let's create a function we want to decorate\n",
        "def display_name(name, age):\n",
        "    return f\"Name: {name}, Age: {age}\"\n",
        "\n",
        "print(\"--- Calling the function normally ---\")\n",
        "print(display_name(\"David\", 30))\n",
        "\n",
        "print(\"\\n--- Calling the function after decorating it manually ---\")\n",
        "decorated_display_func = border_decorator(display_name)\n",
        "decorated_display_func(\"Eve\", 25)"
      ],
      "execution_count": null,
      "outputs": [
        {
          "output_type": "stream",
          "name": "stdout",
          "text": [
            "--- Calling the function normally ---\n",
            "Name: David, Age: 30\n",
            "\n",
            "--- Calling the function after decorating it manually ---\n",
            "====================\n",
            "Name: Eve, Age: 25\n",
            "====================\n"
          ]
        },
        {
          "output_type": "execute_result",
          "data": {
            "text/plain": [
              "'Name: Eve, Age: 25'"
            ],
            "application/vnd.google.colaboratory.intrinsic+json": {
              "type": "string"
            }
          },
          "metadata": {},
          "execution_count": 3
        }
      ]
    },
    {
      "cell_type": "markdown",
      "metadata": {
        "id": "357c5d4a"
      },
      "source": [
        "### Part 3: Using the `@` Syntactic Sugar\n",
        "\n",
        "The manual process above is a bit clunky. Python provides a much cleaner way to apply a decorator using the `@` symbol. This is called \"syntactic sugar\" because it makes the code sweeter to read!"
      ]
    },
    {
      "cell_type": "code",
      "metadata": {
        "colab": {
          "base_uri": "https://localhost:8080/",
          "height": 200
        },
        "id": "45cd8323",
        "outputId": "599bae5d-44de-4546-f06c-d9d9f0596fe0"
      },
      "source": [
        "# This does the exact same thing as the manual process before!\n",
        "@border_decorator\n",
        "def display_title(title):\n",
        "    return f\"Title: {title}\"\n",
        "\n",
        "@border_decorator\n",
        "def display_error(error_message):\n",
        "    return f\"ERROR: {error_message}\"\n",
        "\n",
        "print(\"--- Calling functions decorated with the @ symbol ---\")\n",
        "display_title(\"Senior Python Developer\")\n",
        "print(\"\\n\") # Add a newline for spacing\n",
        "display_error(\"File not found\")"
      ],
      "execution_count": null,
      "outputs": [
        {
          "output_type": "stream",
          "name": "stdout",
          "text": [
            "--- Calling functions decorated with the @ symbol ---\n",
            "====================\n",
            "Title: Senior Python Developer\n",
            "====================\n",
            "\n",
            "\n",
            "====================\n",
            "ERROR: File not found\n",
            "====================\n"
          ]
        },
        {
          "output_type": "execute_result",
          "data": {
            "text/plain": [
              "'ERROR: File not found'"
            ],
            "application/vnd.google.colaboratory.intrinsic+json": {
              "type": "string"
            }
          },
          "metadata": {},
          "execution_count": 4
        }
      ]
    },
    {
      "cell_type": "markdown",
      "metadata": {
        "id": "cb9027bd"
      },
      "source": [
        "### Part 4: Practical Example - A Tool Registry\n",
        "\n",
        "Now let's see a real-world use case that mirrors how LangChain's `@tool` decorator works. We will create a decorator that automatically registers any function it decorates into a central dictionary of available tools."
      ]
    },
    {
      "cell_type": "code",
      "metadata": {
        "colab": {
          "base_uri": "https://localhost:8080/"
        },
        "id": "c37d7f49",
        "outputId": "a596b5aa-0230-4a12-8579-9b58fa80529b"
      },
      "source": [
        "# This dictionary will act as our tool registry\n",
        "AVAILABLE_TOOLS = {}\n",
        "\n",
        "def register_tool(func):\n",
        "    \"\"\"A decorator that registers a function in our AVAILABLE_TOOLS dict.\"\"\"\n",
        "    print(f\"---> Registering tool: {func.__name__}\")\n",
        "    AVAILABLE_TOOLS[func.__name__] = func\n",
        "    return func # Return the original function, as we're not modifying it\n",
        "\n",
        "@register_tool\n",
        "def search_linkedin(candidate_name: str) -> str:\n",
        "    \"\"\"Simulates searching for a candidate on LinkedIn.\"\"\"\n",
        "    return f\"Found LinkedIn profile for {candidate_name}.\"\n",
        "\n",
        "@register_tool\n",
        "def schedule_interview(candidate_name: str, date: str) -> str:\n",
        "    \"\"\"Simulates scheduling an interview.\"\"\"\n",
        "    return f\"Interview scheduled for {candidate_name} on {date}.\"\n",
        "\n",
        "print(\"\\n--- Available tools after registration ---\")\n",
        "print(AVAILABLE_TOOLS)\n",
        "\n",
        "print(\"\\n--- Simulating an agent calling a tool ---\")\n",
        "tool_to_call = \"schedule_interview\"\n",
        "if tool_to_call in AVAILABLE_TOOLS:\n",
        "    tool_function = AVAILABLE_TOOLS[tool_to_call]\n",
        "    result = tool_function(\"Frank\", \"2025-10-15\")\n",
        "    print(f\"Tool result: {result}\")\n",
        "else:\n",
        "    print(f\"Error: Tool '{tool_to_call}' not found.\")"
      ],
      "execution_count": null,
      "outputs": [
        {
          "output_type": "stream",
          "name": "stdout",
          "text": [
            "---> Registering tool: search_linkedin\n",
            "---> Registering tool: schedule_interview\n",
            "\n",
            "--- Available tools after registration ---\n",
            "{'search_linkedin': <function search_linkedin at 0x78e0ad884a40>, 'schedule_interview': <function schedule_interview at 0x78e0ad886ac0>}\n",
            "\n",
            "--- Simulating an agent calling a tool ---\n",
            "Tool result: Interview scheduled for Frank on 2025-10-15.\n"
          ]
        }
      ]
    }
  ],
  "metadata": {
    "colab": {
      "provenance": []
    },
    "kernelspec": {
      "display_name": "Python 3",
      "name": "python3"
    }
  },
  "nbformat": 4,
  "nbformat_minor": 0
}