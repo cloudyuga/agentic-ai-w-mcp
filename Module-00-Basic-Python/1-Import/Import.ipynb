{
  "nbformat": 4,
  "nbformat_minor": 0,
  "metadata": {
    "colab": {
      "provenance": []
    },
    "kernelspec": {
      "name": "python3",
      "display_name": "Python 3"
    },
    "language_info": {
      "name": "python"
    }
  },
  "cells": [
    {
      "cell_type": "markdown",
      "source": [
        "# **Import Statement**"
      ],
      "metadata": {
        "id": "8Wl7x3jry2nj"
      }
    },
    {
      "cell_type": "markdown",
      "source": [
        "####**1. Importing an Entire Module**\n"
      ],
      "metadata": {
        "id": "IoK7HrKK0JtZ"
      }
    },
    {
      "cell_type": "code",
      "source": [
        "import math\n",
        "\n",
        "# Using the math module\n",
        "result = math.sqrt(36)\n",
        "print(result)"
      ],
      "metadata": {
        "colab": {
          "base_uri": "https://localhost:8080/"
        },
        "id": "U-NmD_ZR0hSy",
        "outputId": "d997a1a8-7a41-417a-9805-abf5426f79ff"
      },
      "execution_count": 2,
      "outputs": [
        {
          "output_type": "stream",
          "name": "stdout",
          "text": [
            "6.0\n"
          ]
        }
      ]
    },
    {
      "cell_type": "markdown",
      "source": [
        "####**2. Importing Specific Components**\n"
      ],
      "metadata": {
        "id": "Xk5hMb_n0CC7"
      }
    },
    {
      "cell_type": "code",
      "source": [
        "from math import sqrt\n",
        "# Using sqrt directly\n",
        "result = sqrt(25)\n",
        "print(result)"
      ],
      "metadata": {
        "colab": {
          "base_uri": "https://localhost:8080/"
        },
        "id": "XHado75GzPRj",
        "outputId": "58347118-16db-4930-b3d3-70af97857787"
      },
      "execution_count": 3,
      "outputs": [
        {
          "output_type": "stream",
          "name": "stdout",
          "text": [
            "5.0\n"
          ]
        }
      ]
    },
    {
      "cell_type": "markdown",
      "source": [
        "###**3. Using Aliases**"
      ],
      "metadata": {
        "id": "8mRv_j680qpS"
      }
    },
    {
      "cell_type": "code",
      "source": [
        "import numpy as np\n",
        "\n",
        "# Using the numpy alias\n",
        "array = np.array([1, 2, 3])\n",
        "print(array)"
      ],
      "metadata": {
        "colab": {
          "base_uri": "https://localhost:8080/"
        },
        "id": "Pwc5_Ga2zcSp",
        "outputId": "91a3c17a-b087-4134-b9f7-49c8d52d0cd9"
      },
      "execution_count": 4,
      "outputs": [
        {
          "output_type": "stream",
          "name": "stdout",
          "text": [
            "[1 2 3]\n"
          ]
        }
      ]
    },
    {
      "cell_type": "code",
      "source": [
        "from math import factorial as fact\n",
        "\n",
        "# Using the alias\n",
        "result = fact(5)\n",
        "print(result)"
      ],
      "metadata": {
        "colab": {
          "base_uri": "https://localhost:8080/"
        },
        "id": "mhB7yQBK1OUh",
        "outputId": "9af3ec32-b2d8-481d-a9ff-528740997d9e"
      },
      "execution_count": 5,
      "outputs": [
        {
          "output_type": "stream",
          "name": "stdout",
          "text": [
            "120\n"
          ]
        }
      ]
    },
    {
      "cell_type": "markdown",
      "source": [
        "###**4. Importing Everything with ***\n"
      ],
      "metadata": {
        "id": "caV6kCRU1ldb"
      }
    },
    {
      "cell_type": "code",
      "source": [
        "from math import *\n",
        "\n",
        "result = sin(0.5) + cos(0.5)\n",
        "print(result)"
      ],
      "metadata": {
        "colab": {
          "base_uri": "https://localhost:8080/"
        },
        "id": "wj8V6opT1k6V",
        "outputId": "d70e7ebe-750e-482a-d55f-66434803222f"
      },
      "execution_count": 6,
      "outputs": [
        {
          "output_type": "stream",
          "name": "stdout",
          "text": [
            "1.3570081004945758\n"
          ]
        }
      ]
    },
    {
      "cell_type": "markdown",
      "source": [
        "####**5. Combine Example**"
      ],
      "metadata": {
        "id": "IHOZy47n54Hm"
      }
    },
    {
      "cell_type": "code",
      "execution_count": 1,
      "metadata": {
        "colab": {
          "base_uri": "https://localhost:8080/"
        },
        "id": "ne8VdNRcx9uq",
        "outputId": "cda70773-c68e-430a-fbb2-0fc35dfd7b2a"
      },
      "outputs": [
        {
          "output_type": "stream",
          "name": "stdout",
          "text": [
            "Value of pi: 3.141592653589793\n",
            "Random integer: 8\n",
            "Array: [10 20 30]\n"
          ]
        }
      ],
      "source": [
        "import math  # Import the math module\n",
        "from random import randint  # Import only the randint function\n",
        "import numpy as np  # Import numpy with an alias\n",
        "\n",
        "# Use math.pi\n",
        "print(\"Value of pi:\", math.pi)\n",
        "\n",
        "# Generate a random integer between 1 and 10\n",
        "print(\"Random integer:\", randint(1, 10))\n",
        "\n",
        "# Use numpy to create an array\n",
        "array = np.array([10, 20, 30])\n",
        "print(\"Array:\", array)"
      ]
    }
  ]
}
