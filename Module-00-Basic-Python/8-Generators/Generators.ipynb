{
  "nbformat": 4,
  "nbformat_minor": 0,
  "metadata": {
    "colab": {
      "provenance": []
    },
    "kernelspec": {
      "name": "python3",
      "display_name": "Python 3"
    },
    "language_info": {
      "name": "python"
    }
  },
  "cells": [
    {
      "cell_type": "markdown",
      "source": [
        "#**Introduction to Generators**"
      ],
      "metadata": {
        "id": "Wj2gNkjpDk5v"
      }
    },
    {
      "cell_type": "markdown",
      "source": [
        "####**3. Creating a Simple Generator Function**"
      ],
      "metadata": {
        "id": "Zvg_khDsEdfa"
      }
    },
    {
      "cell_type": "code",
      "source": [
        "def number_generator():\n",
        "    for i in range(1, 10):\n",
        "        yield i"
      ],
      "metadata": {
        "id": "Ecl64b3fHcJE"
      },
      "execution_count": 19,
      "outputs": []
    },
    {
      "cell_type": "code",
      "source": [
        "# Create a generator\n",
        "gen = number_generator()"
      ],
      "metadata": {
        "id": "bONR6RNQHgPZ"
      },
      "execution_count": 33,
      "outputs": []
    },
    {
      "cell_type": "code",
      "source": [
        "# Use a loop to get values from the generator\n",
        "for number in gen:\n",
        "    print(number)"
      ],
      "metadata": {
        "colab": {
          "base_uri": "https://localhost:8080/"
        },
        "id": "9QpoOHzPJg2Q",
        "outputId": "9b80427b-dee2-4669-d0d2-17f5322c6e49"
      },
      "execution_count": 30,
      "outputs": [
        {
          "output_type": "stream",
          "name": "stdout",
          "text": [
            "1\n",
            "2\n",
            "3\n",
            "4\n",
            "5\n",
            "6\n",
            "7\n",
            "8\n",
            "9\n"
          ]
        }
      ]
    },
    {
      "cell_type": "code",
      "source": [
        "# use next() to get value from generator\n",
        "gen = number_generator()\n",
        "print(next(gen))\n",
        "print(next(gen))\n",
        "print(next(gen))\n",
        "print(next(gen))\n",
        "print(next(gen))\n",
        "print(next(gen))\n",
        "print(next(gen))\n",
        "print(next(gen))\n",
        "print(next(gen))\n",
        "#print(next(gen))   # This will generate StopIteration Error"
      ],
      "metadata": {
        "colab": {
          "base_uri": "https://localhost:8080/"
        },
        "id": "t3Rir3V0Hrrg",
        "outputId": "2cd94301-a4cf-4e4b-ad04-8ee811103e07"
      },
      "execution_count": 35,
      "outputs": [
        {
          "output_type": "stream",
          "name": "stdout",
          "text": [
            "1\n",
            "2\n",
            "3\n",
            "4\n",
            "5\n",
            "6\n",
            "7\n",
            "8\n",
            "9\n"
          ]
        }
      ]
    },
    {
      "cell_type": "markdown",
      "source": [
        "####**4. Using a Generator in a Loop**"
      ],
      "metadata": {
        "id": "9vwzE7ndEYpk"
      }
    },
    {
      "cell_type": "code",
      "source": [
        "def count_down(n):\n",
        "    while n > 0:\n",
        "        yield n\n",
        "        n -= 1  # Decrement n"
      ],
      "metadata": {
        "id": "3EHclgITETnz"
      },
      "execution_count": 5,
      "outputs": []
    },
    {
      "cell_type": "code",
      "source": [
        "# Using the generator in a loop\n",
        "for num in count_down(5):\n",
        "    print(num)"
      ],
      "metadata": {
        "colab": {
          "base_uri": "https://localhost:8080/"
        },
        "id": "cjNskmb2E-xg",
        "outputId": "33c7a9cb-52f2-4463-f9ca-d046b08c8dc2"
      },
      "execution_count": 6,
      "outputs": [
        {
          "output_type": "stream",
          "name": "stdout",
          "text": [
            "5\n",
            "4\n",
            "3\n",
            "2\n",
            "1\n"
          ]
        }
      ]
    },
    {
      "cell_type": "markdown",
      "source": [
        "####**6. Generator for Infinite Sequences**"
      ],
      "metadata": {
        "id": "iTRxAwa6FBu-"
      }
    },
    {
      "cell_type": "code",
      "source": [
        "def fibonacci():\n",
        "    a, b = 0, 1\n",
        "    while True:\n",
        "        yield a\n",
        "        a, b = b, a + b"
      ],
      "metadata": {
        "id": "AYIgko2xFI6F"
      },
      "execution_count": 8,
      "outputs": []
    },
    {
      "cell_type": "code",
      "source": [
        "# Generate first 10 Fibonacci numbers\n",
        "fib_gen = fibonacci()\n",
        "for _ in range(10):\n",
        "    print(next(fib_gen))"
      ],
      "metadata": {
        "colab": {
          "base_uri": "https://localhost:8080/"
        },
        "id": "aXrcwhcsFNgo",
        "outputId": "84f893d3-1844-4cf6-c95b-669bf37a18aa"
      },
      "execution_count": 9,
      "outputs": [
        {
          "output_type": "stream",
          "name": "stdout",
          "text": [
            "0\n",
            "1\n",
            "1\n",
            "2\n",
            "3\n",
            "5\n",
            "8\n",
            "13\n",
            "21\n",
            "34\n"
          ]
        }
      ]
    },
    {
      "cell_type": "markdown",
      "source": [
        "####**7. Converting a Generator to a List**"
      ],
      "metadata": {
        "id": "kF9NK5ctFXPx"
      }
    },
    {
      "cell_type": "code",
      "source": [
        "def squares(n):\n",
        "    for i in range(n):\n",
        "        yield i * i"
      ],
      "metadata": {
        "id": "JC7QBdOtFZ_M"
      },
      "execution_count": 10,
      "outputs": []
    },
    {
      "cell_type": "code",
      "source": [
        "# Convert generator output to a list\n",
        "square_list = list(squares(5))\n",
        "print(square_list)"
      ],
      "metadata": {
        "colab": {
          "base_uri": "https://localhost:8080/"
        },
        "id": "uT4ydX-FFqlI",
        "outputId": "dcf98a8a-cc57-4618-d053-6a5a3f899dfe"
      },
      "execution_count": 11,
      "outputs": [
        {
          "output_type": "stream",
          "name": "stdout",
          "text": [
            "[0, 1, 4, 9, 16]\n"
          ]
        }
      ]
    },
    {
      "cell_type": "markdown",
      "source": [
        "####**8. Using yield from for Subgenerators**"
      ],
      "metadata": {
        "id": "h7csFc42FxYm"
      }
    },
    {
      "cell_type": "code",
      "source": [
        "def sub_generator():\n",
        "    yield 1\n",
        "    yield 2\n",
        "    yield 3"
      ],
      "metadata": {
        "id": "Xu9LAqsfF14j"
      },
      "execution_count": 12,
      "outputs": []
    },
    {
      "cell_type": "code",
      "source": [
        "def main_generator():\n",
        "    yield from sub_generator()  # Delegates to sub_generator\n",
        "    yield 4  # Continues after sub_generator is done"
      ],
      "metadata": {
        "id": "wfaeSK7TF-qT"
      },
      "execution_count": 13,
      "outputs": []
    },
    {
      "cell_type": "code",
      "source": [
        "for num in main_generator():\n",
        "    print(num)"
      ],
      "metadata": {
        "colab": {
          "base_uri": "https://localhost:8080/"
        },
        "id": "t-NdZ9ctGCiq",
        "outputId": "727ea734-9d8a-4423-8591-2970a4dc54fe"
      },
      "execution_count": 14,
      "outputs": [
        {
          "output_type": "stream",
          "name": "stdout",
          "text": [
            "1\n",
            "2\n",
            "3\n",
            "4\n"
          ]
        }
      ]
    },
    {
      "cell_type": "markdown",
      "source": [
        "####**9. Real-World Use Cases of Generators**"
      ],
      "metadata": {
        "id": "44WRvepvGMZX"
      }
    },
    {
      "cell_type": "code",
      "source": [
        "def read_large_file(file_path):\n",
        "    with open(file_path, \"r\") as file:\n",
        "        for line in file:\n",
        "            yield line.strip()  # Yield each line"
      ],
      "metadata": {
        "id": "OoaoIrh8GRfh"
      },
      "execution_count": 15,
      "outputs": []
    },
    {
      "cell_type": "code",
      "source": [
        "for line in read_large_file(\"/content/generator/data.txt\"): # created a file data.txt manually\n",
        "    print(line)"
      ],
      "metadata": {
        "colab": {
          "base_uri": "https://localhost:8080/"
        },
        "id": "hjhAbl67GWJ8",
        "outputId": "e502296d-914c-4d79-94b4-89a06261d40e"
      },
      "execution_count": 17,
      "outputs": [
        {
          "output_type": "stream",
          "name": "stdout",
          "text": [
            "Artificial Intelligence in industry must meet stringent requirements\n",
            "Artificial Intelligence (AI) is rapidly changing the world, revolutionizing industries, enhancing human capabilities, and reshaping our lives. Yet, reaping AI’s benefits in industry is complex due to stringent standards, critical reliability requirements, and a shortage of skilled experts. We enable you to effectively tackle these challenges and supercharge your transformation with Industrial AI.\n",
            "Discover typical use cases\n"
          ]
        }
      ]
    }
  ]
}