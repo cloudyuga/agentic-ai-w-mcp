{
  "nbformat": 4,
  "nbformat_minor": 0,
  "metadata": {
    "colab": {
      "provenance": []
    },
    "kernelspec": {
      "name": "python3",
      "display_name": "Python 3"
    },
    "language_info": {
      "name": "python"
    }
  },
  "cells": [
    {
      "cell_type": "markdown",
      "source": [
        "#**Files**"
      ],
      "metadata": {
        "id": "N82-nMQPrXn_"
      }
    },
    {
      "cell_type": "markdown",
      "source": [
        "####**1. Using the open() Function**"
      ],
      "metadata": {
        "id": "kacXSoe9sjIZ"
      }
    },
    {
      "cell_type": "code",
      "execution_count": 6,
      "metadata": {
        "id": "5btvctznrUfa"
      },
      "outputs": [],
      "source": [
        "file = open('cloudyuga.txt', 'w', encoding='utf-8')"
      ]
    },
    {
      "cell_type": "markdown",
      "source": [
        "####**2. Using Context Managers**"
      ],
      "metadata": {
        "id": "HzWjGhWJt5rE"
      }
    },
    {
      "cell_type": "markdown",
      "source": [
        "######**Example: Writing to a File**"
      ],
      "metadata": {
        "id": "W14mQFTqu8Yu"
      }
    },
    {
      "cell_type": "code",
      "source": [
        "with open('output.txt', 'w', encoding='utf-8') as file:\n",
        "    file.write(\"Hello, World!\")"
      ],
      "metadata": {
        "id": "Swx0qg0nuLV9"
      },
      "execution_count": 10,
      "outputs": []
    },
    {
      "cell_type": "markdown",
      "source": [
        "######**Example: Reading a File**"
      ],
      "metadata": {
        "id": "6joXJJCNvPIA"
      }
    },
    {
      "cell_type": "code",
      "source": [
        "with open('output.txt', 'r', encoding='utf-8') as file:\n",
        "    content = file.read()\n",
        "    print(content)"
      ],
      "metadata": {
        "colab": {
          "base_uri": "https://localhost:8080/"
        },
        "id": "jKHNODzyt-Tm",
        "outputId": "5064d48e-caea-46cd-b4a2-4f3597fdeb57"
      },
      "execution_count": 12,
      "outputs": [
        {
          "output_type": "stream",
          "name": "stdout",
          "text": [
            "Hello, World!\n"
          ]
        }
      ]
    },
    {
      "cell_type": "markdown",
      "source": [
        "######**Example: Appending to a File**\n"
      ],
      "metadata": {
        "id": "0v9NHityvdN4"
      }
    },
    {
      "cell_type": "code",
      "source": [
        "with open('output.txt', 'a', encoding='utf-8') as file:\n",
        "    file.write(\"\\nThis is an appended line.\")"
      ],
      "metadata": {
        "id": "x8C_tj55vjUL"
      },
      "execution_count": 13,
      "outputs": []
    },
    {
      "cell_type": "code",
      "source": [
        "with open('output.txt', 'r', encoding='utf-8') as file:\n",
        "    content = file.read()\n",
        "    print(content)"
      ],
      "metadata": {
        "colab": {
          "base_uri": "https://localhost:8080/"
        },
        "id": "q-owzp-7vn4g",
        "outputId": "6892038b-46da-4f16-c614-d2ec123bb202"
      },
      "execution_count": 14,
      "outputs": [
        {
          "output_type": "stream",
          "name": "stdout",
          "text": [
            "Hello, World!\n",
            "This is an appended line.\n"
          ]
        }
      ]
    },
    {
      "cell_type": "markdown",
      "source": [
        "####**3. Reading Line by Line**"
      ],
      "metadata": {
        "id": "sMYMxloXv3Og"
      }
    },
    {
      "cell_type": "code",
      "source": [
        "with open('example.txt', 'r', encoding='utf-8') as file:\n",
        "    for line in file:\n",
        "        print(line.strip())  # Strip removes newline characters"
      ],
      "metadata": {
        "colab": {
          "base_uri": "https://localhost:8080/"
        },
        "id": "8Hk_dj0Gv0rt",
        "outputId": "4e6b3aff-abed-471f-b595-3efbea4b7d5f"
      },
      "execution_count": 15,
      "outputs": [
        {
          "output_type": "stream",
          "name": "stdout",
          "text": [
            "Artificial Intelligence in industry must meet stringent requirements\n",
            "Artificial Intelligence (AI) is rapidly changing the world, revolutionizing industries, enhancing human capabilities, and reshaping our lives. Yet, reaping AI’s benefits in industry is complex due to stringent standards, critical reliability requirements, and a shortage of skilled experts. We enable you to effectively tackle these challenges and supercharge your transformation with Industrial AI.\n"
          ]
        }
      ]
    },
    {
      "cell_type": "markdown",
      "source": [
        "####**4. Handling Paths**"
      ],
      "metadata": {
        "id": "Dn-uN2_Kwnba"
      }
    },
    {
      "cell_type": "markdown",
      "source": [
        "######**Using os.path**"
      ],
      "metadata": {
        "id": "pWF0mVd3yL04"
      }
    },
    {
      "cell_type": "code",
      "source": [
        "import os\n",
        "\n",
        "# Construct a file path\n",
        "file_path = os.path.join('python-basics', 'files', 'example.txt')\n",
        "print(file_path)"
      ],
      "metadata": {
        "colab": {
          "base_uri": "https://localhost:8080/"
        },
        "id": "3DJRc8aWwqzj",
        "outputId": "f42c659d-d9dc-4994-828b-1890b79ff21c"
      },
      "execution_count": 18,
      "outputs": [
        {
          "output_type": "stream",
          "name": "stdout",
          "text": [
            "python-basics/files/example.txt\n"
          ]
        }
      ]
    },
    {
      "cell_type": "markdown",
      "source": [
        "######**Using pathlib**"
      ],
      "metadata": {
        "id": "fWnF_kUcyQE9"
      }
    },
    {
      "cell_type": "code",
      "source": [
        "from pathlib import Path\n",
        "\n",
        "# Construct a file path\n",
        "file_path = Path('python-basics') / 'files' / 'example.txt'\n",
        "print(file_path)\n",
        "\n",
        "# Check if a file exists\n",
        "if file_path.exists():\n",
        "    print(f\"{file_path} exists!\")"
      ],
      "metadata": {
        "colab": {
          "base_uri": "https://localhost:8080/"
        },
        "id": "RF2AcXkSx49u",
        "outputId": "17b461df-984d-4755-d2f0-24594f3f8bfe"
      },
      "execution_count": 19,
      "outputs": [
        {
          "output_type": "stream",
          "name": "stdout",
          "text": [
            "python-basics/files/example.txt\n"
          ]
        }
      ]
    },
    {
      "cell_type": "markdown",
      "source": [
        "####**5. Listing Files in a Directory**\n"
      ],
      "metadata": {
        "id": "QRvjT5TuyXdh"
      }
    },
    {
      "cell_type": "code",
      "source": [
        "import glob\n",
        "\n",
        "# List all .txt files in the current directory\n",
        "txt_files = glob.glob('*.txt')\n",
        "print(txt_files)"
      ],
      "metadata": {
        "colab": {
          "base_uri": "https://localhost:8080/"
        },
        "id": "0QLNPaZtybFh",
        "outputId": "d35fe6b8-c2f6-4639-ed00-b78c5fd4be7f"
      },
      "execution_count": 22,
      "outputs": [
        {
          "output_type": "stream",
          "name": "stdout",
          "text": [
            "['cloudyuga.txt', 'example.txt', 'output.txt']\n"
          ]
        }
      ]
    },
    {
      "cell_type": "code",
      "source": [
        "# List all .txt files in current directory and subdirectories\n",
        "all_txt_files = glob.glob('**/*.txt', recursive=True)\n",
        "print(all_txt_files)"
      ],
      "metadata": {
        "colab": {
          "base_uri": "https://localhost:8080/"
        },
        "id": "_Rh3gTwAyqZu",
        "outputId": "71d51706-4195-4096-a277-b65480aa23c0"
      },
      "execution_count": 23,
      "outputs": [
        {
          "output_type": "stream",
          "name": "stdout",
          "text": [
            "['cloudyuga.txt', 'example.txt', 'output.txt', 'python-basics/files/hello.txt']\n"
          ]
        }
      ]
    },
    {
      "cell_type": "markdown",
      "source": [
        "####**6. Putting It All Together**"
      ],
      "metadata": {
        "id": "5l7I8lsczFTt"
      }
    },
    {
      "cell_type": "code",
      "source": [
        "from pathlib import Path\n",
        "import glob\n",
        "\n",
        "# Define file paths using pathlib\n",
        "input_file = Path('data') / 'input.txt'\n",
        "output_file = Path('data') / 'output.txt'\n",
        "\n",
        "# Ensure the directory exists\n",
        "output_file.parent.mkdir(parents=True, exist_ok=True)\n",
        "\n",
        "# Read the input file and write to the output file\n",
        "if input_file.exists():\n",
        "    with open(input_file, 'r', encoding='utf-8') as infile, \\\n",
        "         open(output_file, 'w', encoding='utf-8') as outfile:\n",
        "        for line in infile:\n",
        "            outfile.write(line.upper())  # Example: Write uppercase content\n",
        "else:\n",
        "    print(f\"File {input_file} not found.\")\n",
        "\n",
        "# List all text files in the directory\n",
        "txt_files = glob.glob(str(Path('data') / '*.txt'))\n",
        "print(\"Text files in the 'data' directory:\", txt_files)"
      ],
      "metadata": {
        "colab": {
          "base_uri": "https://localhost:8080/"
        },
        "id": "mV0wwJIbzA84",
        "outputId": "87906bff-db31-46c1-db13-fa16e45acae7"
      },
      "execution_count": 25,
      "outputs": [
        {
          "output_type": "stream",
          "name": "stdout",
          "text": [
            "Text files in the 'data' directory: ['data/input.txt', 'data/output.txt']\n"
          ]
        }
      ]
    },
    {
      "cell_type": "markdown",
      "source": [
        "\n",
        "\n",
        "---\n",
        "\n"
      ],
      "metadata": {
        "id": "R8S4vjXTxLwU"
      }
    }
  ]
}