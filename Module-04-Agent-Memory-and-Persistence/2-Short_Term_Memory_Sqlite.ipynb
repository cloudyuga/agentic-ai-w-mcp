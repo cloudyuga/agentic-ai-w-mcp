{
 "cells": [
  {
   "cell_type": "markdown",
   "metadata": {},
   "source": [
    "# SQLite Persistence with Pause & Resume: Complete Lab\n",
    "\n",
    "## 📚 Module Overview\n",
    "\n",
    "This standalone notebook demonstrates **file-based persistence** in LangGraph using SQLite, with full **pause and resume** capabilities.\n",
    "\n",
    "**What You'll Learn:**\n",
    "- Create file-based SQLite databases for persistence\n",
    "- Save conversation state to disk\n",
    "- Pause and close the application\n",
    "- Resume conversations after restart\n",
    "- Inspect database contents\n",
    "- Build production-ready HR onboarding agents\n",
    "\n",
    "**Real-World Scenario:**\n",
    "An HR onboarding assistant that works across multiple days:\n",
    "- **Day 1:** Employee starts onboarding, completes some steps\n",
    "- **Night:** System shuts down, state saved to database\n",
    "- **Day 2:** Employee returns, conversation continues seamlessly\n",
    "\n",
    "**Time:** 45-60 minutes\n",
    "\n",
    "---"
   ]
  },
  {
   "cell_type": "markdown",
   "metadata": {},
   "source": [
    "## 🔧 Step 1: Install LangChain & LangGraph 1.0 Alpha Packages\n",
    "\n",
    "**Important:** We're using LangChain 1.0 alpha versions for the latest features.\n",
    "\n",
    "**Note:** This may take 2-3 minutes. Run this cell first!"
   ]
  },
  {
   "cell_type": "code",
   "execution_count": null,
   "metadata": {},
   "outputs": [],
   "source": [
    "# Install LangChain 1.0 Alpha packages\n",
    "# Using --pre flag to get pre-release versions\n",
    "\n",
    "!pip install --pre -U langchain langchain-openai langgraph langchain-community --quiet\n",
    "!pip install langgraph-checkpoint-sqlite --quiet\n",
    "\n",
    "print(\"✅ All packages installed successfully!\")"
   ]
  },
  {
   "cell_type": "code",
   "execution_count": null,
   "metadata": {},
   "outputs": [],
   "source": [
    "# Verify installations\n",
    "import langchain\n",
    "import langgraph\n",
    "\n",
    "print(\"📦 Package Versions:\")\n",
    "print(f\"   - LangChain: {langchain.__version__}\")\n",
    "print(f\"   - LangGraph: {langgraph.__version__}\")\n",
    "print(\"\\n✅ All imports successful!\")\n",
    "print(\"\\n💡 Using LangChain 1.0 Alpha API\")"
   ]
  },
  {
   "cell_type": "markdown",
   "metadata": {},
   "source": [
    "## 🔑 Step 2: Configure OpenAI API Key\n",
    "\n",
    "**Choose your environment:**\n",
    "- **Google Colab:** Uses Colab secrets\n",
    "- **Jupyter/Local:** Uses environment variable or input"
   ]
  },
  {
   "cell_type": "code",
   "execution_count": null,
   "metadata": {},
   "outputs": [],
   "source": [
    "import os\n",
    "import sys\n",
    "\n",
    "# Check if running in Google Colab\n",
    "IN_COLAB = 'google.colab' in sys.modules\n",
    "\n",
    "if IN_COLAB:\n",
    "    # Google Colab - use secrets\n",
    "    try:\n",
    "        from google.colab import userdata\n",
    "        os.environ['OPENAI_API_KEY'] = userdata.get('OPENAI_API_KEY')\n",
    "        print(\"✅ API Key loaded from Colab secrets\")\n",
    "    except Exception as e:\n",
    "        print(\"⚠️  Please add OPENAI_API_KEY to Colab secrets\")\n",
    "        print(\"   Go to: 🔑 icon on left sidebar > Add new secret\")\n",
    "        raise\n",
    "else:\n",
    "    # Local Jupyter - check environment or prompt\n",
    "    if 'OPENAI_API_KEY' not in os.environ:\n",
    "        print(\"🔑 OpenAI API Key not found in environment\")\n",
    "        import getpass\n",
    "        api_key = getpass.getpass(\"Please enter your OpenAI API Key: \")\n",
    "        os.environ['OPENAI_API_KEY'] = api_key\n",
    "    print(\"✅ API Key configured\")\n",
    "\n",
    "# Verify API key is set\n",
    "if not os.environ.get('OPENAI_API_KEY'):\n",
    "    raise ValueError(\"OPENAI_API_KEY not set!\")\n",
    "\n",
    "print(\"\\n✅ OpenAI API Key configured successfully!\")"
   ]
  },
  {
   "cell_type": "markdown",
   "metadata": {},
   "source": [
    "## 📥 Step 3: Import Required Libraries"
   ]
  },
  {
   "cell_type": "code",
   "execution_count": null,
   "metadata": {},
   "outputs": [],
   "source": [
    "# Core LangChain and LangGraph imports\n",
    "from langchain.agents import create_agent\n",
    "from langchain_openai import ChatOpenAI\n",
    "from langchain_core.tools import tool\n",
    "from langchain_core.messages import HumanMessage, AIMessage, SystemMessage\n",
    "\n",
    "# LangGraph checkpointing\n",
    "from langgraph.checkpoint.sqlite import SqliteSaver\n",
    "\n",
    "# Standard library\n",
    "import sqlite3\n",
    "import os\n",
    "from typing import Annotated\n",
    "\n",
    "print(\"✅ All libraries imported successfully!\")"
   ]
  },
  {
   "cell_type": "markdown",
   "metadata": {},
   "source": [
    "## 🗄️ Step 4: Setup SQLite Database\n",
    "\n",
    "We'll create a **file-based** SQLite database that persists to disk."
   ]
  },
  {
   "cell_type": "code",
   "execution_count": null,
   "metadata": {},
   "outputs": [],
   "source": [
    "# Database file configuration\n",
    "DB_FILE = \"hr_assistant_persistent.db\"\n",
    "\n",
    "# Remove old database for fresh start (optional)\n",
    "if os.path.exists(DB_FILE):\n",
    "    os.remove(DB_FILE)\n",
    "    print(f\"🗑️  Removed existing database: {DB_FILE}\")\n",
    "\n",
    "print(f\"\\n📁 Database file: {os.path.abspath(DB_FILE)}\")\n",
    "print(\"✅ Ready to create persistent SQLite database!\")"
   ]
  },
  {
   "cell_type": "markdown",
   "metadata": {},
   "source": [
    "## 🛠️ Step 5: Define HR Onboarding Tools\n",
    "\n",
    "These tools will be used by our HR assistant agent."
   ]
  },
  {
   "cell_type": "code",
   "execution_count": null,
   "metadata": {},
   "outputs": [],
   "source": [
    "# Enhanced HR tools for onboarding workflow\n",
    "\n",
    "@tool\n",
    "def verify_documents(employee_id: Annotated[str, \"Employee ID\"]) -> str:\n",
    "    \"\"\"Verify that employee has submitted all required documents.\"\"\"\n",
    "    # Simulated document check\n",
    "    documents = [\"ID Proof\", \"Address Proof\", \"Educational Certificates\", \"Previous Employment Letter\"]\n",
    "    return f\"✅ All documents verified for employee {employee_id}: {', '.join(documents)}\"\n",
    "\n",
    "@tool\n",
    "def assign_equipment(employee_id: Annotated[str, \"Employee ID\"], \n",
    "                     department: Annotated[str, \"Department name\"]) -> str:\n",
    "    \"\"\"Assign laptop and equipment to employee based on department.\"\"\"\n",
    "    equipment = {\n",
    "        \"Engineering\": \"MacBook Pro 16\\\", Monitor, Keyboard, Mouse\",\n",
    "        \"Marketing\": \"Dell Laptop, Monitor, Marketing Kit\",\n",
    "        \"Sales\": \"Dell Laptop, Mobile Phone, Sales Materials\",\n",
    "        \"HR\": \"Dell Laptop, Monitor, HR Software Access\"\n",
    "    }\n",
    "    assigned = equipment.get(department, \"Standard Laptop Package\")\n",
    "    return f\"✅ Equipment assigned to {employee_id}: {assigned}\"\n",
    "\n",
    "@tool\n",
    "def schedule_orientation(employee_id: Annotated[str, \"Employee ID\"],\n",
    "                        employee_name: Annotated[str, \"Employee name\"]) -> str:\n",
    "    \"\"\"Schedule orientation session for new employee.\"\"\"\n",
    "    return f\"✅ Orientation scheduled for {employee_name} ({employee_id}):\\n\" \\\n",
    "           f\"   📅 Date: Monday, 9:00 AM\\n\" \\\n",
    "           f\"   📍 Location: Conference Room A\\n\" \\\n",
    "           f\"   ⏱️  Duration: 3 hours\"\n",
    "\n",
    "@tool\n",
    "def setup_accounts(employee_id: Annotated[str, \"Employee ID\"],\n",
    "                  email: Annotated[str, \"Employee email\"]) -> str:\n",
    "    \"\"\"Setup email and system accounts for employee.\"\"\"\n",
    "    return f\"✅ Accounts created for {employee_id}:\\n\" \\\n",
    "           f\"   📧 Email: {email}\\n\" \\\n",
    "           f\"   🔐 VPN Access: Enabled\\n\" \\\n",
    "           f\"   💻 System Login: Created\\n\" \\\n",
    "           f\"   📱 Slack: Account created\"\n",
    "\n",
    "# Collect all tools\n",
    "onboarding_tools = [\n",
    "    verify_documents,\n",
    "    assign_equipment,\n",
    "    schedule_orientation,\n",
    "    setup_accounts\n",
    "]\n",
    "\n",
    "print(\"✅ HR Onboarding tools defined:\")\n",
    "for tool in onboarding_tools:\n",
    "    print(f\"   - {tool.name}: {tool.description}\")"
   ]
  },
  {
   "cell_type": "markdown",
   "metadata": {},
   "source": [
    "---\n",
    "# 🚀 SESSION 1: Initial Onboarding (Day 1)\n",
    "\n",
    "**Scenario:** Employee Priya starts onboarding on Day 1"
   ]
  },
  {
   "cell_type": "markdown",
   "metadata": {},
   "source": [
    "## Step 6: Create Agent with SQLite Persistence"
   ]
  },
  {
   "cell_type": "code",
   "execution_count": null,
   "metadata": {},
   "outputs": [],
   "source": [
    "print(\"=\"*80)\n",
    "print(\"🚀 SESSION 1: Starting Employee Onboarding (Day 1)\")\n",
    "print(\"=\"*80)\n",
    "\n",
    "# Create SQLite connection to FILE (not :memory:)\n",
    "connection = sqlite3.connect(DB_FILE, check_same_thread=False)\n",
    "checkpointer = SqliteSaver(connection)\n",
    "\n",
    "print(f\"\\n✅ Connected to database: {DB_FILE}\")\n",
    "print(f\"📊 Database location: {os.path.abspath(DB_FILE)}\")\n",
    "\n",
    "# Create agent with persistent checkpointing\n",
    "# Note: NO 'prompt' parameter in LangChain 1.0 Alpha\n",
    "persistent_agent = create_agent(\n",
    "    model=\"openai:gpt-4o-mini\",\n",
    "    tools=onboarding_tools,\n",
    "    checkpointer=checkpointer\n",
    ")\n",
    "\n",
    "# Thread ID for this employee's onboarding\n",
    "config = {\"configurable\": {\"thread_id\": \"employee_priya_onboarding_2024\"}}\n",
    "\n",
    "print(f\"\\n✅ Agent created with SQLite checkpointer\")\n",
    "print(f\"🆔 Thread ID: employee_priya_onboarding_2024\")\n",
    "print(\"\\n\" + \"-\"*80)"
   ]
  },
  {
   "cell_type": "markdown",
   "metadata": {},
   "source": [
    "## Step 7: Turn 1 - Employee Introduction"
   ]
  },
  {
   "cell_type": "code",
   "execution_count": null,
   "metadata": {},
   "outputs": [],
   "source": [
    "print(\"\\n👤 TURN 1: Employee Introduction\")\n",
    "print(\"-\"*80)\n",
    "\n",
    "# First invoke - include system message to set agent behavior\n",
    "result = persistent_agent.invoke(\n",
    "    {\"messages\": [\n",
    "        {\n",
    "            \"role\": \"system\",\n",
    "            \"content\": \"\"\"You are a helpful HR Onboarding Assistant.\n",
    "            \n",
    "Your responsibilities:\n",
    "- Guide new employees through the onboarding process\n",
    "- Verify documents\n",
    "- Assign equipment\n",
    "- Schedule orientation\n",
    "- Setup accounts\n",
    "\n",
    "Be friendly, professional, and remember all conversation context.\n",
    "Guide employees step-by-step through onboarding.\"\"\"\n",
    "        },\n",
    "        {\n",
    "            \"role\": \"user\",\n",
    "            \"content\": \"Hi! I'm Priya Sharma, employee ID EMP-2024-101. I'm joining the Engineering department today and need to complete my onboarding.\"\n",
    "        }\n",
    "    ]},\n",
    "    config\n",
    ")\n",
    "\n",
    "print(f\"\\n🤖 Assistant:\")\n",
    "print(result['messages'][-1].content)\n",
    "print(f\"\\n💾 State saved to: {DB_FILE}\")"
   ]
  },
  {
   "cell_type": "markdown",
   "metadata": {},
   "source": [
    "## Step 8: Turn 2 - Document Verification"
   ]
  },
  {
   "cell_type": "code",
   "execution_count": null,
   "metadata": {},
   "outputs": [],
   "source": [
    "print(\"\\n📄 TURN 2: Document Verification\")\n",
    "print(\"-\"*80)\n",
    "\n",
    "# Subsequent turns - no need for system message (it's remembered!)\n",
    "result = persistent_agent.invoke(\n",
    "    {\"messages\": [{\n",
    "        \"role\": \"user\",\n",
    "        \"content\": \"Yes, I've uploaded all my documents. Can you verify them?\"\n",
    "    }]},\n",
    "    config\n",
    ")\n",
    "\n",
    "print(f\"\\n🤖 Assistant:\")\n",
    "print(result['messages'][-1].content)\n",
    "print(f\"\\n💾 State updated in: {DB_FILE}\")"
   ]
  },
  {
   "cell_type": "markdown",
   "metadata": {},
   "source": [
    "## Step 9: Turn 3 - Equipment Assignment"
   ]
  },
  {
   "cell_type": "code",
   "execution_count": null,
   "metadata": {},
   "outputs": [],
   "source": [
    "print(\"\\n💻 TURN 3: Equipment Assignment\")\n",
    "print(\"-\"*80)\n",
    "\n",
    "result = persistent_agent.invoke(\n",
    "    {\"messages\": [{\n",
    "        \"role\": \"user\",\n",
    "        \"content\": \"Great! Now I need my laptop and equipment for the Engineering department.\"\n",
    "    }]},\n",
    "    config\n",
    ")\n",
    "\n",
    "print(f\"\\n🤖 Assistant:\")\n",
    "print(result['messages'][-1].content)\n",
    "print(f\"\\n💾 State saved to: {DB_FILE}\")"
   ]
  },
  {
   "cell_type": "markdown",
   "metadata": {},
   "source": [
    "## Step 10: Check Current State"
   ]
  },
  {
   "cell_type": "code",
   "execution_count": null,
   "metadata": {},
   "outputs": [],
   "source": [
    "print(\"\\n\" + \"=\"*80)\n",
    "print(\"📊 CHECKING STATE BEFORE PAUSE\")\n",
    "print(\"=\"*80)\n",
    "\n",
    "# Get current state\n",
    "current_state = persistent_agent.get_state(config)\n",
    "\n",
    "print(f\"\\n✅ Current state saved successfully!\")\n",
    "print(f\"\\n📝 State Information:\")\n",
    "print(f\"   - Total messages in conversation: {len(current_state.values['messages'])}\")\n",
    "print(f\"   - Thread ID: {config['configurable']['thread_id']}\")\n",
    "\n",
    "# Show conversation summary\n",
    "print(f\"\\n💬 Conversation Summary:\")\n",
    "for i, msg in enumerate(current_state.values['messages'], 1):\n",
    "    role = msg.__class__.__name__\n",
    "    content = msg.content[:80] + \"...\" if len(msg.content) > 80 else msg.content\n",
    "    print(f\"   {i}. {role}: {content}\")"
   ]
  },
  {
   "cell_type": "markdown",
   "metadata": {},
   "source": [
    "## Step 11: PAUSE - Simulate End of Day / Application Shutdown\n",
    "\n",
    "**This simulates:**\n",
    "- Employee going home\n",
    "- Application shutting down\n",
    "- Database connection closing\n",
    "- All state saved to disk"
   ]
  },
  {
   "cell_type": "code",
   "execution_count": null,
   "metadata": {},
   "outputs": [],
   "source": [
    "print(\"\\n\" + \"=\"*80)\n",
    "print(\"⏸️  PAUSING SESSION - Simulating End of Day / Application Shutdown\")\n",
    "print(\"=\"*80)\n",
    "\n",
    "# Verify database file exists\n",
    "print(f\"\\n✅ Database file exists: {os.path.exists(DB_FILE)}\")\n",
    "print(f\"📁 File location: {os.path.abspath(DB_FILE)}\")\n",
    "print(f\"💾 File size: {os.path.getsize(DB_FILE)} bytes\")\n",
    "\n",
    "# Close connection (simulate application shutdown)\n",
    "connection.close()\n",
    "print(f\"\\n🔌 Database connection closed\")\n",
    "print(f\"\\n⏸️  SESSION 1 PAUSED\")\n",
    "print(f\"\\n💡 The conversation state is now saved to disk in: {DB_FILE}\")\n",
    "print(f\"💡 We can now restart the application and resume the conversation!\")\n",
    "\n",
    "# Clean up variables to simulate fresh start\n",
    "del persistent_agent\n",
    "del checkpointer\n",
    "print(f\"\\n🧹 Cleaned up agent and checkpointer from memory\")\n",
    "print(f\"\\n\" + \"=\"*80)"
   ]
  },
  {
   "cell_type": "markdown",
   "metadata": {},
   "source": [
    "## Step 12: (Optional) Inspect Database Contents\n",
    "\n",
    "**Let's peek inside the SQLite database to see what's stored!**"
   ]
  },
  {
   "cell_type": "code",
   "execution_count": null,
   "metadata": {},
   "outputs": [],
   "source": [
    "print(\"\\n\" + \"=\"*80)\n",
    "print(\"🔍 INSPECTING DATABASE CONTENTS\")\n",
    "print(\"=\"*80)\n",
    "\n",
    "# Open database for inspection only (read-only)\n",
    "inspect_conn = sqlite3.connect(DB_FILE)\n",
    "cursor = inspect_conn.cursor()\n",
    "\n",
    "# List all tables\n",
    "cursor.execute(\"SELECT name FROM sqlite_master WHERE type='table';\")\n",
    "tables = cursor.fetchall()\n",
    "print(f\"\\n📋 Tables in database:\")\n",
    "for table in tables:\n",
    "    print(f\"   - {table[0]}\")\n",
    "\n",
    "# Count checkpoints\n",
    "cursor.execute(\"SELECT COUNT(*) FROM checkpoints;\")\n",
    "checkpoint_count = cursor.fetchone()[0]\n",
    "print(f\"\\n💾 Total checkpoints stored: {checkpoint_count}\")\n",
    "\n",
    "# Show checkpoint details\n",
    "cursor.execute(\"\"\"\n",
    "    SELECT thread_id, checkpoint_id, parent_checkpoint_id\n",
    "    FROM checkpoints\n",
    "    ORDER BY checkpoint_id\n",
    "    LIMIT 5;\n",
    "\"\"\")\n",
    "checkpoints = cursor.fetchall()\n",
    "\n",
    "print(f\"\\n📝 Recent Checkpoints:\")\n",
    "for i, (thread_id, checkpoint_id, parent_id) in enumerate(checkpoints, 1):\n",
    "    print(f\"   {i}. Thread: {thread_id[:30]}...\")\n",
    "    print(f\"      Checkpoint: {checkpoint_id[:24]}...\")\n",
    "    print(f\"      Parent: {parent_id[:24] if parent_id else 'None'}...\\n\")\n",
    "\n",
    "# Count writes\n",
    "cursor.execute(\"SELECT COUNT(*) FROM writes;\")\n",
    "writes_count = cursor.fetchone()[0]\n",
    "print(f\"💾 Total writes stored: {writes_count}\")\n",
    "\n",
    "cursor.close()\n",
    "inspect_conn.close()\n",
    "\n",
    "print(f\"\\n✅ Database inspection complete\")\n",
    "print(f\"\\n\" + \"=\"*80)"
   ]
  },
  {
   "cell_type": "markdown",
   "metadata": {},
   "source": [
    "---\n",
    "# 🔄 SESSION 2: Resume After Restart (Day 2)\n",
    "\n",
    "**Scenario:** Next day - Employee returns, application restarts, conversation resumes"
   ]
  },
  {
   "cell_type": "markdown",
   "metadata": {},
   "source": [
    "## Step 13: Reconnect to Database and Create New Agent"
   ]
  },
  {
   "cell_type": "code",
   "execution_count": null,
   "metadata": {},
   "outputs": [],
   "source": [
    "print(\"\\n\" + \"=\"*80)\n",
    "print(\"🔄 SESSION 2: Resuming Employee Onboarding (Day 2)\")\n",
    "print(\"=\"*80)\n",
    "print(\"\\n⏰ Simulating: Next day, application restarted, employee returns...\")\n",
    "\n",
    "# Reconnect to the SAME database file\n",
    "new_connection = sqlite3.connect(DB_FILE, check_same_thread=False)\n",
    "new_checkpointer = SqliteSaver(new_connection)\n",
    "\n",
    "print(f\"\\n✅ Reconnected to database: {DB_FILE}\")\n",
    "print(f\"✅ Loaded existing checkpointer\")\n",
    "\n",
    "# Create NEW agent instance (simulating fresh application start)\n",
    "resumed_agent = create_agent(\n",
    "    model=\"openai:gpt-4o-mini\",\n",
    "    tools=onboarding_tools,\n",
    "    checkpointer=new_checkpointer  # Uses the SAME database!\n",
    ")\n",
    "\n",
    "print(f\"\\n✅ Created new agent instance (fresh start)\")\n",
    "print(f\"\\n🔗 Using SAME thread ID to resume conversation\")\n",
    "print(f\"\\n\" + \"-\"*80)"
   ]
  },
  {
   "cell_type": "markdown",
   "metadata": {},
   "source": [
    "## Step 14: Retrieve Previous State"
   ]
  },
  {
   "cell_type": "code",
   "execution_count": null,
   "metadata": {},
   "outputs": [],
   "source": [
    "print(\"\\n📥 RETRIEVING PREVIOUS STATE\")\n",
    "print(\"-\"*80)\n",
    "\n",
    "# Use the SAME config (thread_id) to retrieve state\n",
    "config = {\"configurable\": {\"thread_id\": \"employee_priya_onboarding_2024\"}}\n",
    "\n",
    "retrieved_state = resumed_agent.get_state(config)\n",
    "\n",
    "print(f\"\\n✅ Successfully retrieved previous state!\")\n",
    "print(f\"\\n📊 Retrieved State Information:\")\n",
    "print(f\"   - Messages in history: {len(retrieved_state.values['messages'])}\")\n",
    "print(f\"   - Thread ID: {config['configurable']['thread_id']}\")\n",
    "\n",
    "print(f\"\\n💬 Previous Conversation Recap (from Day 1):\")\n",
    "print(f\"-\"*80)\n",
    "for i, msg in enumerate(retrieved_state.values['messages'], 1):\n",
    "    role = msg.__class__.__name__\n",
    "    content = msg.content[:100] + \"...\" if len(msg.content) > 100 else msg.content\n",
    "    print(f\"\\n{i}. {role}:\")\n",
    "    print(f\"   {content}\")\n",
    "\n",
    "print(f\"\\n\" + \"-\"*80)\n",
    "print(f\"\\n✅ The agent remembers EVERYTHING from yesterday!\")"
   ]
  },
  {
   "cell_type": "markdown",
   "metadata": {},
   "source": [
    "## Step 15: Turn 4 - Continue Onboarding (Orientation)"
   ]
  },
  {
   "cell_type": "code",
   "execution_count": null,
   "metadata": {},
   "outputs": [],
   "source": [
    "print(\"\\n📅 TURN 4: Continuing Onboarding - Orientation Scheduling\")\n",
    "print(\"-\"*80)\n",
    "\n",
    "result = resumed_agent.invoke(\n",
    "    {\"messages\": [{\n",
    "        \"role\": \"user\",\n",
    "        \"content\": \"Thanks! I received my equipment. Can you schedule my orientation session?\"\n",
    "    }]},\n",
    "    config  # Same thread_id - continues from where we left off!\n",
    ")\n",
    "\n",
    "print(f\"\\n🤖 Assistant:\")\n",
    "print(result['messages'][-1].content)\n",
    "print(f\"\\n✅ Agent continued seamlessly from previous session!\")"
   ]
  },
  {
   "cell_type": "markdown",
   "metadata": {},
   "source": [
    "## Step 16: Turn 5 - Account Setup"
   ]
  },
  {
   "cell_type": "code",
   "execution_count": null,
   "metadata": {},
   "outputs": [],
   "source": [
    "print(\"\\n🔐 TURN 5: Account Setup\")\n",
    "print(\"-\"*80)\n",
    "\n",
    "result = resumed_agent.invoke(\n",
    "    {\"messages\": [{\n",
    "        \"role\": \"user\",\n",
    "        \"content\": \"Perfect! Now I need my email and system accounts. My email should be priya.sharma@company.com\"\n",
    "    }]},\n",
    "    config\n",
    ")\n",
    "\n",
    "print(f\"\\n🤖 Assistant:\")\n",
    "print(result['messages'][-1].content)"
   ]
  },
  {
   "cell_type": "markdown",
   "metadata": {},
   "source": [
    "## Step 17: Turn 6 - Test Memory (Recall from Day 1)"
   ]
  },
  {
   "cell_type": "code",
   "execution_count": null,
   "metadata": {},
   "outputs": [],
   "source": [
    "print(\"\\n🧠 TURN 6: Testing Memory - Recall from Day 1\")\n",
    "print(\"-\"*80)\n",
    "\n",
    "result = resumed_agent.invoke(\n",
    "    {\"messages\": [{\n",
    "        \"role\": \"user\",\n",
    "        \"content\": \"Can you remind me what we did yesterday and what my employee ID is?\"\n",
    "    }]},\n",
    "    config\n",
    ")\n",
    "\n",
    "print(f\"\\n🤖 Assistant:\")\n",
    "print(result['messages'][-1].content)\n",
    "print(f\"\\n✅ Agent remembered details from PREVIOUS SESSION (Day 1)!\")"
   ]
  },
  {
   "cell_type": "markdown",
   "metadata": {},
   "source": [
    "## Step 18: Final State Check and Cleanup"
   ]
  },
  {
   "cell_type": "code",
   "execution_count": null,
   "metadata": {},
   "outputs": [],
   "source": [
    "print(\"\\n\" + \"=\"*80)\n",
    "print(\"📊 FINAL STATE CHECK\")\n",
    "print(\"=\"*80)\n",
    "\n",
    "final_state = resumed_agent.get_state(config)\n",
    "\n",
    "print(f\"\\n✅ Onboarding Session Complete!\")\n",
    "print(f\"\\n📝 Final Statistics:\")\n",
    "print(f\"   - Total messages exchanged: {len(final_state.values['messages'])}\")\n",
    "print(f\"   - Thread ID: {config['configurable']['thread_id']}\")\n",
    "\n",
    "# Get state history to show all checkpoints\n",
    "state_history = list(resumed_agent.get_state_history(config))\n",
    "print(f\"\\n💾 Total checkpoints created: {len(state_history)}\")\n",
    "print(f\"\\n📈 Checkpoint progression:\")\n",
    "for i, state in enumerate(state_history[:5], 1):\n",
    "    msg_count = len(state.values.get('messages', []))\n",
    "    print(f\"   Checkpoint {i}: {msg_count} messages\")\n",
    "\n",
    "if len(state_history) > 5:\n",
    "    print(f\"   ... and {len(state_history) - 5} more checkpoints\")"
   ]
  },
  {
   "cell_type": "code",
   "execution_count": null,
   "metadata": {},
   "outputs": [],
   "source": [
    "# Close connection\n",
    "new_connection.close()\n",
    "print(f\"\\n🔌 Database connection closed\")\n",
    "print(f\"\\n💾 All data safely persisted in: {os.path.abspath(DB_FILE)}\")\n",
    "print(f\"\\n\" + \"=\"*80)"
   ]
  },
  {
   "cell_type": "markdown",
   "metadata": {},
   "source": [
    "## Step 19: Verification - Prove Persistence Works!"
   ]
  },
  {
   "cell_type": "code",
   "execution_count": null,
   "metadata": {},
   "outputs": [],
   "source": [
    "print(\"\\n\" + \"=\"*80)\n",
    "print(\"🔬 VERIFICATION: Demonstrating True Persistence\")\n",
    "print(\"=\"*80)\n",
    "\n",
    "print(\"\\n1️⃣ Database file still exists after closing:\")\n",
    "print(f\"   ✅ File exists: {os.path.exists(DB_FILE)}\")\n",
    "print(f\"   📁 Location: {os.path.abspath(DB_FILE)}\")\n",
    "print(f\"   💾 Size: {os.path.getsize(DB_FILE):,} bytes\")\n",
    "\n",
    "print(\"\\n2️⃣ Can read data without agent:\")\n",
    "verify_conn = sqlite3.connect(DB_FILE)\n",
    "cursor = verify_conn.cursor()\n",
    "cursor.execute(\"SELECT COUNT(*) FROM checkpoints WHERE thread_id = ?\", \n",
    "               (config['configurable']['thread_id'],))\n",
    "thread_checkpoints = cursor.fetchone()[0]\n",
    "print(f\"   ✅ Found {thread_checkpoints} checkpoints for thread: {config['configurable']['thread_id'][:30]}...\")\n",
    "cursor.close()\n",
    "verify_conn.close()\n",
    "\n",
    "print(\"\\n3️⃣ Data survives Python kernel restart:\")\n",
    "print(f\"   ✅ You can restart this notebook and reconnect to: {DB_FILE}\")\n",
    "print(f\"   ✅ All conversation history will be preserved\")\n",
    "print(f\"   ✅ Can resume from ANY checkpoint in the history\")\n",
    "\n",
    "print(\"\\n\" + \"=\"*80)\n",
    "print(\"✅ VERIFICATION COMPLETE - Persistence is working!\")\n",
    "print(\"=\"*80)"
   ]
  },
  {
   "cell_type": "markdown",
   "metadata": {},
   "source": [
    "---\n",
    "# 📚 Summary and Key Takeaways\n",
    "\n",
    "## 🎯 What We Demonstrated\n",
    "\n",
    "### Session 1 (Day 1):\n",
    "✅ Created file-based SQLite database  \n",
    "✅ Started employee onboarding conversation  \n",
    "✅ Verified documents  \n",
    "✅ Assigned equipment  \n",
    "✅ Saved state to disk  \n",
    "✅ Closed application  \n",
    "\n",
    "### Session 2 (Day 2):\n",
    "✅ Reconnected to same database file  \n",
    "✅ Retrieved complete conversation history  \n",
    "✅ Continued onboarding seamlessly  \n",
    "✅ Agent remembered all previous context  \n",
    "✅ Completed remaining steps  \n",
    "\n",
    "## 🔑 Key Concepts\n",
    "\n",
    "### 1. File-Based vs In-Memory Persistence\n",
    "\n",
    "| Feature | `:memory:` | File-Based |\n",
    "|---------|-----------|------------|\n",
    "| Storage | RAM only | Disk file |\n",
    "| Survives restart | ❌ No | ✅ Yes |\n",
    "| Use case | Testing | Production |\n",
    "| Speed | Faster | Slightly slower |\n",
    "\n",
    "### 2. Thread IDs\n",
    "- Unique identifier for each conversation\n",
    "- Use same thread_id to resume conversation\n",
    "- Different thread_ids = isolated conversations\n",
    "\n",
    "### 3. Checkpoints\n",
    "- State snapshots saved automatically\n",
    "- One checkpoint per agent turn\n",
    "- Can retrieve and resume from any checkpoint\n",
    "\n",
    "### 4. System Messages in LangChain 1.0\n",
    "- No `prompt=` parameter in `create_agent()`\n",
    "- Pass system message in first invoke\n",
    "- Checkpointer remembers system message\n",
    "\n",
    "## 🚀 Production Benefits\n",
    "\n",
    "**Real-World Applications:**\n",
    "- Multi-day onboarding processes\n",
    "- Long-running support conversations\n",
    "- Human-in-the-loop approvals\n",
    "- Audit trails and compliance\n",
    "- Resume after system failures\n",
    "\n",
    "## 💡 Best Practices\n",
    "\n",
    "1. **Always use file-based SQLite for production**\n",
    "2. **Use descriptive thread IDs** (e.g., `employee_{id}_onboarding_{year}`)\n",
    "3. **Close database connections properly**\n",
    "4. **Implement backup strategy** for database files\n",
    "5. **Consider PostgreSQL** for multi-user scenarios\n",
    "\n",
    "## 📖 Next Steps\n",
    "\n",
    "**To use in production:**\n",
    "- Add error handling for database operations\n",
    "- Implement connection pooling\n",
    "- Add authentication/authorization for threads\n",
    "- Set up database backups\n",
    "- Monitor database size and performance\n",
    "- Consider PostgreSQL for scalability\n",
    "\n",
    "**Advanced topics:**\n",
    "- State forking and branching\n",
    "- Time-travel debugging\n",
    "- Human-in-the-loop workflows\n",
    "- Multi-agent state sharing\n",
    "\n",
    "---\n",
    "\n",
    "## 🎓 Exercises\n",
    "\n",
    "### Exercise 1: Multiple Employees\n",
    "Modify this notebook to handle 3 different employees simultaneously using different thread IDs.\n",
    "\n",
    "### Exercise 2: State Inspection\n",
    "Create a function that lists all active onboarding threads in the database.\n",
    "\n",
    "### Exercise 3: Resume from Specific Checkpoint\n",
    "Use `checkpoint_id` to resume from a specific point in the conversation, not just the latest.\n",
    "\n",
    "### Exercise 4: Error Recovery\n",
    "Add try-except blocks to handle database connection errors and implement retry logic.\n",
    "\n",
    "### Exercise 5: Migration to PostgreSQL\n",
    "Research and document how to migrate this code to use PostgreSQL instead of SQLite.\n",
    "\n",
    "---\n",
    "\n",
    "## 📞 Support\n",
    "\n",
    "Questions or issues? Check:\n",
    "- LangChain Documentation: https://python.langchain.com/\n",
    "- LangGraph Documentation: https://langchain-ai.github.io/langgraph/\n",
    "- SQLite Documentation: https://www.sqlite.org/docs.html\n",
    "\n",
    "---\n",
    "\n",
    "**🎉 Congratulations!** You've successfully built a production-ready agent with file-based persistence and pause/resume capabilities!"
   ]
  }
 ],
 "metadata": {
  "kernelspec": {
   "display_name": "Python 3",
   "language": "python",
   "name": "python3"
  },
  "language_info": {
   "codemirror_mode": {
    "name": "ipython",
    "version": 3
   },
   "file_extension": ".py",
   "mimetype": "text/x-python",
   "name": "python",
   "nbconvert_exporter": "python",
   "pygments_lexer": "ipython3",
   "version": "3.11.0"
  },
  "colab": {
   "provenance": []
  }
 },
 "nbformat": 4,
 "nbformat_minor": 0
}
