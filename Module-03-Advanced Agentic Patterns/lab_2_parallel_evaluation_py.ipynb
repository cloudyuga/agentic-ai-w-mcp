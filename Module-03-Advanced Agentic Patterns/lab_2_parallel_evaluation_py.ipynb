{
  "cells": [
    {
      "cell_type": "code",
      "source": [
        "!pip install langgraph"
      ],
      "metadata": {
        "id": "6PYINnRKDKDR"
      },
      "execution_count": null,
      "outputs": []
    },
    {
      "cell_type": "code",
      "source": [
        "from langgraph.graph import StateGraph, END\n",
        "from typing import TypedDict, List\n",
        "\n",
        "class ParallelEvaluationState(TypedDict):\n",
        "    resume_text: str\n",
        "    technical_score: int\n",
        "    cultural_score: int\n",
        "    experience_score: int\n",
        "    all_evaluations: List[dict]\n",
        "    final_decision: str\n",
        "\n",
        "def evaluate_technical_skills(state: ParallelEvaluationState) -> dict:\n",
        "    print(\"Evaluating technical skills...\")\n",
        "    resume = state[\"resume_text\"]\n",
        "    tech_keywords = [\"python\", \"java\", \"sql\", \"aws\"]\n",
        "    score = sum(20 for keyword in tech_keywords if keyword in resume.lower())\n",
        "    return {\"technical_score\": score}\n",
        "\n",
        "def evaluate_cultural_fit(state: ParallelEvaluationState) -> dict:\n",
        "    print(\"Evaluating cultural fit...\")\n",
        "    resume = state[\"resume_text\"]\n",
        "    culture_keywords = [\"team\", \"collaboration\", \"leadership\", \"agile\"]\n",
        "    score = sum(20 for keyword in culture_keywords if keyword in resume.lower())\n",
        "    return {\"cultural_score\": score}\n",
        "\n",
        "def evaluate_experience(state: ParallelEvaluationState) -> dict:\n",
        "    print(\"Evaluating experience...\")\n",
        "    resume = state[\"resume_text\"]\n",
        "    if \"senior\" in resume.lower() or \"10 years\" in resume.lower():\n",
        "        score = 100\n",
        "    elif \"5 years\" in resume.lower():\n",
        "        score = 70\n",
        "    else:\n",
        "        score = 40\n",
        "    return {\"experience_score\": score}\n",
        "\n",
        "def aggregate_results(state: ParallelEvaluationState) -> dict:\n",
        "    print(\"Aggregating all evaluations...\")\n",
        "    evaluations = [\n",
        "        {\"aspect\": \"Technical\", \"score\": state[\"technical_score\"]},\n",
        "        {\"aspect\": \"Cultural\", \"score\": state[\"cultural_score\"]},\n",
        "        {\"aspect\": \"Experience\", \"score\": state[\"experience_score\"]}\n",
        "    ]\n",
        "    avg_score = sum(e[\"score\"] for e in evaluations) / len(evaluations)\n",
        "\n",
        "    if avg_score >= 70:\n",
        "        decision = \"Strong Candidate - Schedule Interview\"\n",
        "    elif avg_score >= 50:\n",
        "        decision = \"Potential Candidate - Additional Review\"\n",
        "    else:\n",
        "        decision = \"Not a Match\"\n",
        "\n",
        "    return {\"all_evaluations\": evaluations, \"final_decision\": decision}\n",
        "\n",
        "workflow = StateGraph(ParallelEvaluationState)\n",
        "workflow.add_node(\"eval_tech\", evaluate_technical_skills)\n",
        "workflow.add_node(\"eval_culture\", evaluate_cultural_fit)\n",
        "workflow.add_node(\"eval_experience\", evaluate_experience)\n",
        "workflow.add_node(\"aggregate\", aggregate_results)\n",
        "\n",
        "\n",
        "workflow.set_entry_point(\"parallel_entry\")\n",
        "workflow.add_node(\"parallel_entry\", lambda s: s)\n",
        "\n",
        "# Connect parallel entry to evaluation nodes\n",
        "workflow.add_edge(\"parallel_entry\", \"eval_tech\")\n",
        "workflow.add_edge(\"parallel_entry\", \"eval_culture\")\n",
        "workflow.add_edge(\"parallel_entry\", \"eval_experience\")\n",
        "\n",
        "# Connect evaluation nodes to the aggregate node - this implicitly handles the join\n",
        "workflow.add_edge(\"eval_tech\", \"aggregate\")\n",
        "workflow.add_edge(\"eval_culture\", \"aggregate\")\n",
        "workflow.add_edge(\"eval_experience\", \"aggregate\")\n",
        "\n",
        "\n",
        "workflow.add_edge(\"aggregate\", END)\n",
        "\n",
        "app = workflow.compile()\n",
        "\n",
        "test_resume = \"Senior Python developer with 10 years experience, strong team player, agile practitioner, AWS certified.\"\n",
        "initial_state = {\"resume_text\": test_resume}\n",
        "result = app.invoke(initial_state)\n",
        "\n",
        "print(f\"\\nFinal Decision: {result['final_decision']}\")\n",
        "print(\"Scores breakdown:\")\n",
        "for eval in result['all_evaluations']:\n",
        "    print(f\"  {eval['aspect']}: {eval['score']}\")"
      ],
      "outputs": [
        {
          "output_type": "stream",
          "name": "stdout",
          "text": [
            "Evaluating cultural fit...\n",
            "Evaluating experience...\n",
            "Evaluating technical skills...\n",
            "Aggregating all evaluations...\n",
            "\n",
            "Final Decision: Potential Candidate - Additional Review\n",
            "Scores breakdown:\n",
            "  Technical: 40\n",
            "  Cultural: 40\n",
            "  Experience: 100\n"
          ]
        }
      ],
      "execution_count": 5,
      "metadata": {
        "colab": {
          "base_uri": "https://localhost:8080/"
        },
        "id": "yg0sPudoC_u0",
        "outputId": "d41a1197-d4f6-4f02-850b-c3ef2959c854"
      }
    }
  ],
  "metadata": {
    "colab": {
      "provenance": []
    },
    "kernelspec": {
      "display_name": "Python 3",
      "name": "python3"
    }
  },
  "nbformat": 4,
  "nbformat_minor": 0
}