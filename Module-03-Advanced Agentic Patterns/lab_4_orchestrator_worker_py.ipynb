{
  "cells": [
    {
      "cell_type": "code",
      "source": [
        "!pip install langgraph"
      ],
      "metadata": {
        "id": "BNCdNFUdEBK5"
      },
      "execution_count": null,
      "outputs": []
    },
    {
      "cell_type": "code",
      "source": [
        "from langgraph.graph import StateGraph, END\n",
        "from typing import TypedDict\n",
        "\n",
        "class OnboardingState(TypedDict):\n",
        "    employee_name: str\n",
        "    job_title: str\n",
        "    department: str\n",
        "    start_date: str\n",
        "    welcome_email: str\n",
        "    it_checklist: str\n",
        "    benefits_guide: str\n",
        "    team_intro: str\n",
        "    complete_package: str\n",
        "\n",
        "def orchestrator_plan(state: OnboardingState) -> dict:\n",
        "    print(f\"Orchestrator: Planning onboarding for {state['employee_name']}\")\n",
        "    return {}\n",
        "\n",
        "def create_welcome_email(state: OnboardingState) -> dict:\n",
        "    print(\"Worker 1: Creating welcome email...\")\n",
        "    email = f\"Dear {state['employee_name']},\\n\\nWelcome to {state['department']}!\"\n",
        "    return {\"welcome_email\": email}\n",
        "\n",
        "def create_it_checklist(state: OnboardingState) -> dict:\n",
        "    print(\"Worker 2: Creating IT checklist...\")\n",
        "    checklist = f\"IT CHECKLIST for {state['employee_name']}\\n- [ ] Laptop configured\"\n",
        "    return {\"it_checklist\": checklist}\n",
        "\n",
        "def create_benefits_guide(state: OnboardingState) -> dict:\n",
        "    print(\"Worker 3: Creating benefits guide...\")\n",
        "    guide = f\"BENEFITS GUIDE for {state['employee_name']}\\n- Health Insurance\"\n",
        "    return {\"benefits_guide\": guide}\n",
        "\n",
        "def create_team_intro(state: OnboardingState) -> dict:\n",
        "    print(\"Worker 4: Creating team introduction...\")\n",
        "    intro = f\"TEAM INTRODUCTION\\n{state['employee_name']} is joining as {state['job_title']}.\"\n",
        "    return {\"team_intro\": intro}\n",
        "\n",
        "def orchestrator_synthesize(state: OnboardingState) -> dict:\n",
        "    print(\"Orchestrator: Synthesizing complete onboarding package...\")\n",
        "    package = (\n",
        "        f\"COMPLETE ONBOARDING PACKAGE for {state['employee_name']}\\n\\n\"\n",
        "        f\"{state['welcome_email']}\\n\\n\"\n",
        "        f\"{state['it_checklist']}\\n\\n\"\n",
        "        f\"{state['benefits_guide']}\\n\\n\"\n",
        "        f\"{state['team_intro']}\"\n",
        "    )\n",
        "    return {\"complete_package\": package}\n",
        "\n",
        "workflow = StateGraph(OnboardingState)\n",
        "\n",
        "workflow.add_node(\"orchestrator_plan\", orchestrator_plan)\n",
        "workflow.add_node(\"worker_email\", create_welcome_email)\n",
        "workflow.add_node(\"worker_it\", create_it_checklist)\n",
        "workflow.add_node(\"worker_benefits\", create_benefits_guide)\n",
        "workflow.add_node(\"worker_team\", create_team_intro)\n",
        "workflow.add_node(\"orchestrator_synthesize\", orchestrator_synthesize)\n",
        "\n",
        "workflow.set_entry_point(\"orchestrator_plan\")\n",
        "workflow.add_edge(\"orchestrator_plan\", \"worker_email\")\n",
        "workflow.add_edge(\"orchestrator_plan\", \"worker_it\")\n",
        "workflow.add_edge(\"orchestrator_plan\", \"worker_benefits\")\n",
        "workflow.add_edge(\"orchestrator_plan\", \"worker_team\")\n",
        "\n",
        "workflow.add_edge(\"worker_email\", \"orchestrator_synthesize\")\n",
        "workflow.add_edge(\"worker_it\", \"orchestrator_synthesize\")\n",
        "workflow.add_edge(\"worker_benefits\", \"orchestrator_synthesize\")\n",
        "workflow.add_edge(\"worker_team\", \"orchestrator_synthesize\")\n",
        "workflow.add_edge(\"orchestrator_synthesize\", END)\n",
        "\n",
        "app = workflow.compile()\n",
        "\n",
        "initial_state = {\n",
        "    \"employee_name\": \"Sarah Johnson\",\n",
        "    \"job_title\": \"Senior Software Engineer\",\n",
        "    \"department\": \"Engineering\",\n",
        "    \"start_date\": \"2025-02-01\",\n",
        "}\n",
        "\n",
        "result = app.invoke(initial_state)\n",
        "print(\"\\n\" + result[\"complete_package\"])"
      ],
      "outputs": [
        {
          "output_type": "stream",
          "name": "stdout",
          "text": [
            "Orchestrator: Planning onboarding for Sarah Johnson\n",
            "Worker 3: Creating benefits guide...\n",
            "Worker 1: Creating welcome email...\n",
            "Worker 2: Creating IT checklist...\n",
            "Worker 4: Creating team introduction...\n",
            "Orchestrator: Synthesizing complete onboarding package...\n",
            "\n",
            "COMPLETE ONBOARDING PACKAGE for Sarah Johnson\n",
            "\n",
            "Dear Sarah Johnson,\n",
            "\n",
            "Welcome to Engineering!\n",
            "\n",
            "IT CHECKLIST for Sarah Johnson\n",
            "- [ ] Laptop configured\n",
            "\n",
            "BENEFITS GUIDE for Sarah Johnson\n",
            "- Health Insurance\n",
            "\n",
            "TEAM INTRODUCTION\n",
            "Sarah Johnson is joining as Senior Software Engineer.\n"
          ]
        }
      ],
      "execution_count": 2,
      "metadata": {
        "colab": {
          "base_uri": "https://localhost:8080/"
        },
        "id": "7jUg4GaDD_vV",
        "outputId": "d98dcb2b-e2c7-42f6-ebe8-b12af7e2df6a"
      }
    }
  ],
  "metadata": {
    "colab": {
      "provenance": []
    },
    "kernelspec": {
      "display_name": "Python 3",
      "name": "python3"
    }
  },
  "nbformat": 4,
  "nbformat_minor": 0
}