{
  "cells": [
    {
      "cell_type": "code",
      "source": [
        "!pip install langgraph"
      ],
      "metadata": {
        "id": "hCFkEslLDrix"
      },
      "execution_count": null,
      "outputs": []
    },
    {
      "cell_type": "code",
      "source": [
        "from langgraph.graph import StateGraph, END\n",
        "from typing import TypedDict, Literal\n",
        "\n",
        "class RoutingState(TypedDict):\n",
        "    query: str\n",
        "    query_type: str\n",
        "    response: str\n",
        "    handled_by: str\n",
        "\n",
        "def classify_query(state: RoutingState) -> dict:\n",
        "    query = state[\"query\"].lower()\n",
        "    print(f\"Received query: {state['query']}\")\n",
        "\n",
        "    if any(k in query for k in [\"salary\", \"pay\", \"compensation\"]):\n",
        "        query_type = \"compensation\"\n",
        "    elif any(k in query for k in [\"benefit\", \"health insurance\", \"401k\"]):\n",
        "        query_type = \"benefits\"\n",
        "    elif any(k in query for k in [\"leave\", \"vacation\", \"pto\"]):\n",
        "        query_type = \"leave_policy\"\n",
        "    else:\n",
        "        query_type = \"general\"\n",
        "\n",
        "    print(f\"Classified as: {query_type}\")\n",
        "    return {\"query_type\": query_type}\n",
        "\n",
        "def handle_compensation(state: RoutingState) -> dict:\n",
        "    print(\"Routing to Compensation Team...\")\n",
        "    return {\"response\": \"Salary info is in your portal.\", \"handled_by\": \"Compensation Team\"}\n",
        "\n",
        "def handle_benefits(state: RoutingState) -> dict:\n",
        "    print(\"Routing to Benefits Team...\")\n",
        "    return {\"response\": \"Details are in your benefits booklet.\", \"handled_by\": \"Benefits Team\"}\n",
        "\n",
        "def handle_leave_policy(state: RoutingState) -> dict:\n",
        "    print(\"Routing to HR Policies...\")\n",
        "    return {\"response\": \"You have 15 days PTO per year.\", \"handled_by\": \"HR Policies\"}\n",
        "\n",
        "def handle_general(state: RoutingState) -> dict:\n",
        "    print(\"Routing to General HR...\")\n",
        "    return {\"response\": \"Please contact HR@company.com.\", \"handled_by\": \"General HR\"}\n",
        "\n",
        "def route_query(state: RoutingState) -> str:\n",
        "    return state[\"query_type\"]\n",
        "\n",
        "workflow = StateGraph(RoutingState)\n",
        "workflow.add_node(\"classify\", classify_query)\n",
        "workflow.add_node(\"compensation\", handle_compensation)\n",
        "workflow.add_node(\"benefits\", handle_benefits)\n",
        "workflow.add_node(\"leave_policy\", handle_leave_policy)\n",
        "workflow.add_node(\"general\", handle_general)\n",
        "\n",
        "workflow.set_entry_point(\"classify\")\n",
        "workflow.add_conditional_edges(\n",
        "    \"classify\",\n",
        "    route_query,\n",
        "    {\n",
        "        \"compensation\": \"compensation\",\n",
        "        \"benefits\": \"benefits\",\n",
        "        \"leave_policy\": \"leave_policy\",\n",
        "        \"general\": \"general\"\n",
        "    }\n",
        ")\n",
        "\n",
        "workflow.add_edge(\"compensation\", END)\n",
        "workflow.add_edge(\"benefits\", END)\n",
        "workflow.add_edge(\"leave_policy\", END)\n",
        "workflow.add_edge(\"general\", END)\n",
        "\n",
        "app = workflow.compile()\n",
        "\n",
        "test_queries = [\n",
        "    \"What is my current salary?\",\n",
        "    \"How do I apply for vacation?\",\n",
        "    \"What are the health insurance options?\",\n",
        "    \"Where is the coffee machine?\"\n",
        "]\n",
        "\n",
        "for query in test_queries:\n",
        "    print(\"\\n\" + \"=\"*60)\n",
        "    result = app.invoke({\"query\": query})\n",
        "    print(f\"Response: {result['response']}\")\n",
        "    print(f\"Handled by: {result['handled_by']}\")"
      ],
      "outputs": [
        {
          "output_type": "stream",
          "name": "stdout",
          "text": [
            "\n",
            "============================================================\n",
            "Received query: What is my current salary?\n",
            "Classified as: compensation\n",
            "Routing to Compensation Team...\n",
            "Response: Salary info is in your portal.\n",
            "Handled by: Compensation Team\n",
            "\n",
            "============================================================\n",
            "Received query: How do I apply for vacation?\n",
            "Classified as: leave_policy\n",
            "Routing to HR Policies...\n",
            "Response: You have 15 days PTO per year.\n",
            "Handled by: HR Policies\n",
            "\n",
            "============================================================\n",
            "Received query: What are the health insurance options?\n",
            "Classified as: benefits\n",
            "Routing to Benefits Team...\n",
            "Response: Details are in your benefits booklet.\n",
            "Handled by: Benefits Team\n",
            "\n",
            "============================================================\n",
            "Received query: Where is the coffee machine?\n",
            "Classified as: general\n",
            "Routing to General HR...\n",
            "Response: Please contact HR@company.com.\n",
            "Handled by: General HR\n"
          ]
        }
      ],
      "execution_count": 2,
      "metadata": {
        "colab": {
          "base_uri": "https://localhost:8080/"
        },
        "id": "Mc7_FEjhDoRg",
        "outputId": "f31ebb6f-fb21-4288-9ae6-19f07af56dae"
      }
    }
  ],
  "metadata": {
    "colab": {
      "provenance": []
    },
    "kernelspec": {
      "display_name": "Python 3",
      "name": "python3"
    }
  },
  "nbformat": 4,
  "nbformat_minor": 0
}