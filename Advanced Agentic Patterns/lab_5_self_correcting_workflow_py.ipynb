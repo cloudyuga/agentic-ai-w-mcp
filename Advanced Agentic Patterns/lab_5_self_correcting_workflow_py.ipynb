{
  "cells": [
    {
      "cell_type": "code",
      "source": [
        "!pip install langgraph"
      ],
      "metadata": {
        "id": "3oILodxiEP8p"
      },
      "execution_count": null,
      "outputs": []
    },
    {
      "cell_type": "code",
      "source": [
        "from langgraph.graph import StateGraph, END\n",
        "from typing import TypedDict, List, Literal\n",
        "\n",
        "class JobDescriptionState(TypedDict):\n",
        "    job_title: str\n",
        "    key_requirements: List[str]\n",
        "    draft_description: str\n",
        "    iteration_count: int\n",
        "    evaluation_score: int\n",
        "    evaluation_feedback: str\n",
        "    final_description: str\n",
        "\n",
        "def create_job_description(state: JobDescriptionState) -> dict:\n",
        "    iteration = state[\"iteration_count\"]\n",
        "    print(f\"Creating job description (Iteration {iteration + 1})...\")\n",
        "\n",
        "    if iteration == 0:\n",
        "        draft = f\"Job Title: {state['job_title']}\\n\\nWe're looking for someone great!\"\n",
        "    else:\n",
        "        feedback = state[\"evaluation_feedback\"]\n",
        "        draft = f\"Job Title: {state['job_title']}\\n\\nAbout the Role:\\nAs a {state['job_title']}, you will succeed.\\n\\n[Improved based on: {feedback}]\"\n",
        "\n",
        "    return {\"draft_description\": draft, \"iteration_count\": iteration + 1}\n",
        "\n",
        "def evaluate_job_description(state: JobDescriptionState) -> dict:\n",
        "    print(\"Evaluating job description...\")\n",
        "    draft = state[\"draft_description\"]\n",
        "    score = 0\n",
        "    feedback = []\n",
        "\n",
        "    if \"About the Role\" in draft:\n",
        "        score += 50\n",
        "    else:\n",
        "        feedback.append(\"Missing 'About the Role' section\")\n",
        "\n",
        "    if len(draft) > 100:\n",
        "        score += 50\n",
        "    else:\n",
        "        feedback.append(\"Description is too short\")\n",
        "\n",
        "    final_feedback = \"; \".join(feedback) if feedback else \"Looks good!\"\n",
        "    print(f\"Score: {score}/100 | Feedback: {final_feedback}\")\n",
        "    return {\"evaluation_score\": score, \"evaluation_feedback\": final_feedback}\n",
        "\n",
        "def finalize_description(state: JobDescriptionState) -> dict:\n",
        "    print(\"Job description approved!\")\n",
        "    return {\"final_description\": state[\"draft_description\"]}\n",
        "\n",
        "def should_continue_refining(state: JobDescriptionState) -> Literal[\"refine\", \"approve\"]:\n",
        "    if state[\"evaluation_score\"] >= 100 or state[\"iteration_count\"] >= 3:\n",
        "        return \"approve\"\n",
        "    else:\n",
        "        return \"refine\"\n",
        "\n",
        "workflow = StateGraph(JobDescriptionState)\n",
        "workflow.add_node(\"create\", create_job_description)\n",
        "workflow.add_node(\"evaluate\", evaluate_job_description)\n",
        "workflow.add_node(\"finalize\", finalize_description)\n",
        "\n",
        "workflow.set_entry_point(\"create\")\n",
        "workflow.add_edge(\"create\", \"evaluate\")\n",
        "workflow.add_conditional_edges(\n",
        "    \"evaluate\",\n",
        "    should_continue_refining,\n",
        "    {\"refine\": \"create\", \"approve\": \"finalize\"}\n",
        ")\n",
        "workflow.add_edge(\"finalize\", END)\n",
        "\n",
        "app = workflow.compile()\n",
        "\n",
        "initial_state = {\n",
        "    \"job_title\": \"Senior Python Developer\",\n",
        "    \"key_requirements\": [\"5+ years Python\", \"AWS\"],\n",
        "    \"iteration_count\": 0,\n",
        "}\n",
        "result = app.invoke(initial_state)\n",
        "\n",
        "print(\"\\n\" + \"=\"*60 + \"\\nFINAL JOB DESCRIPTION:\\n\" + \"=\"*60)\n",
        "print(result[\"final_description\"])"
      ],
      "outputs": [
        {
          "output_type": "stream",
          "name": "stdout",
          "text": [
            "Creating job description (Iteration 1)...\n",
            "Evaluating job description...\n",
            "Score: 0/100 | Feedback: Missing 'About the Role' section; Description is too short\n",
            "Creating job description (Iteration 2)...\n",
            "Evaluating job description...\n",
            "Score: 100/100 | Feedback: Looks good!\n",
            "Job description approved!\n",
            "\n",
            "============================================================\n",
            "FINAL JOB DESCRIPTION:\n",
            "============================================================\n",
            "Job Title: Senior Python Developer\n",
            "\n",
            "About the Role:\n",
            "As a Senior Python Developer, you will succeed.\n",
            "\n",
            "[Improved based on: Missing 'About the Role' section; Description is too short]\n"
          ]
        }
      ],
      "execution_count": 2,
      "metadata": {
        "colab": {
          "base_uri": "https://localhost:8080/"
        },
        "id": "F1hbyoaHEPLD",
        "outputId": "41590dd9-718a-4bcf-e952-31d856d24a4c"
      }
    }
  ],
  "metadata": {
    "colab": {
      "provenance": []
    },
    "kernelspec": {
      "display_name": "Python 3",
      "name": "python3"
    }
  },
  "nbformat": 4,
  "nbformat_minor": 0
}