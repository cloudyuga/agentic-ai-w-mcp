{
  "cells": [
    {
      "cell_type": "code",
      "metadata": {
        "id": "8cdbb7a9"
      },
      "source": [
        "!pip install langgraph"
      ],
      "execution_count": null,
      "outputs": []
    },
    {
      "cell_type": "code",
      "source": [
        "from langgraph.graph import StateGraph, END\n",
        "from typing import TypedDict\n",
        "\n",
        "class ResumeProcessingState(TypedDict):\n",
        "    original_resume: str\n",
        "    translated_resume: str\n",
        "    extracted_info: dict\n",
        "    formatted_output: str\n",
        "\n",
        "def translate_resume(state: ResumeProcessingState) -> dict:\n",
        "    original = state[\"original_resume\"]\n",
        "    print(\"Step 1: Translating resume...\")\n",
        "    translated = f\"[TRANSLATED] {original}\"\n",
        "    return {\"translated_resume\": translated}\n",
        "\n",
        "def extract_information(state: ResumeProcessingState) -> dict:\n",
        "    print(\"Step 2: Extracting structured information...\")\n",
        "    extracted = {\n",
        "        \"name\": \"John Doe\",\n",
        "        \"skills\": [\"Python\", \"Java\"],\n",
        "        \"experience_years\": 5,\n",
        "        \"education\": \"Bachelor's in Computer Science\"\n",
        "    }\n",
        "    return {\"extracted_info\": extracted}\n",
        "\n",
        "def format_output(state: ResumeProcessingState) -> dict:\n",
        "    info = state[\"extracted_info\"]\n",
        "    print(\"Step 3: Formatting output...\")\n",
        "    formatted = f\"\"\"\n",
        "CANDIDATE PROFILE\n",
        "================\n",
        "Name: {info['name']}\n",
        "Experience: {info['experience_years']} years\n",
        "Skills: {', '.join(info['skills'])}\n",
        "Education: {info['education']}\n",
        "\"\"\"\n",
        "    return {\"formatted_output\": formatted}\n",
        "\n",
        "workflow = StateGraph(ResumeProcessingState)\n",
        "workflow.add_node(\"translate\", translate_resume)\n",
        "workflow.add_node(\"extract\", extract_information)\n",
        "workflow.add_node(\"format\", format_output)\n",
        "\n",
        "workflow.set_entry_point(\"translate\")\n",
        "workflow.add_edge(\"translate\", \"extract\")\n",
        "workflow.add_edge(\"extract\", \"format\")\n",
        "workflow.add_edge(\"format\", END)\n",
        "\n",
        "app = workflow.compile()\n",
        "\n",
        "initial_state = {\n",
        "    \"original_resume\": \"Lebenslauf von John Doe, einem erfahrenen Softwareentwickler...\",\n",
        "}\n",
        "result = app.invoke(initial_state)\n",
        "print(result[\"formatted_output\"])"
      ],
      "outputs": [
        {
          "output_type": "stream",
          "name": "stdout",
          "text": [
            "Step 1: Translating resume...\n",
            "Step 2: Extracting structured information...\n",
            "Step 3: Formatting output...\n",
            "\n",
            "CANDIDATE PROFILE\n",
            "================\n",
            "Name: John Doe\n",
            "Experience: 5 years\n",
            "Skills: Python, Java\n",
            "Education: Bachelor's in Computer Science\n",
            "\n"
          ]
        }
      ],
      "execution_count": 4,
      "metadata": {
        "colab": {
          "base_uri": "https://localhost:8080/"
        },
        "id": "AxFJGY4gCd62",
        "outputId": "1acc535d-dd51-4bf1-f8c5-b2ecb2f9c32f"
      }
    }
  ],
  "metadata": {
    "colab": {
      "provenance": []
    },
    "kernelspec": {
      "display_name": "Python 3",
      "name": "python3"
    }
  },
  "nbformat": 4,
  "nbformat_minor": 0
}