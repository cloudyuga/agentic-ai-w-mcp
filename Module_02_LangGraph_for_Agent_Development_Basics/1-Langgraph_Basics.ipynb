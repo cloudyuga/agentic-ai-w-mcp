{
  "cells": [
    {
      "cell_type": "markdown",
      "metadata": {
        "id": "module2_title"
      },
      "source": [
        "# Module 2: LangGraph Fundamentals - HR Agent Labs\n",
        "\n",
        "**Building on Module 1**: In Module 1, you built three HR agents using LangChain's high-level `create_agent()` function. Now we'll peek under the hood and learn LangGraph - the foundation that powers those agents.\n",
        "\n",
        "**Why learn LangGraph?** Understanding LangGraph gives you:\n",
        "- Full control over agent workflows\n",
        "- Ability to create custom patterns\n",
        "- Better debugging and optimization\n",
        "- Foundation for advanced agentic systems\n",
        "\n",
        "**Time:** 2-3 hours"
      ]
    },
    {
      "cell_type": "markdown",
      "metadata": {
        "id": "setup_title"
      },
      "source": [
        "## Setup: Install Dependencies"
      ]
    },
    {
      "cell_type": "code",
      "execution_count": null,
      "metadata": {
        "id": "install_deps"
      },
      "outputs": [],
      "source": [
        "# Install required packages\n",
        "!pip install --pre -U langchain langchain-openai langgraph"
      ]
    },
    {
      "cell_type": "markdown",
      "metadata": {
        "id": "api_key_title"
      },
      "source": [
        "## Setup: Configure OpenAI API Key"
      ]
    },
    {
      "cell_type": "code",
      "execution_count": null,
      "metadata": {
        "id": "setup_api_key"
      },
      "outputs": [],
      "source": [
        "# Retrieve the API key from Colab's secrets\n",
        "from google.colab import userdata\n",
        "import os\n",
        "\n",
        "OPENAI_API_KEY = userdata.get('OPENAI_API_KEY')\n",
        "os.environ['OPENAI_API_KEY'] = OPENAI_API_KEY\n",
        "\n",
        "print(\"✅ API Key configured!\")"
      ]
    },
    {
      "cell_type": "markdown",
      "metadata": {
        "id": "lab1_title"
      },
      "source": [
        "---\n",
        "# Lab 1: Your First LangGraph - Linear Workflow\n",
        "\n",
        "**Objective:** Build a simple linear workflow using LangGraph's core concepts: State, Nodes, Edges, START, and END.\n",
        "\n",
        "**Scenario:** Create an employee onboarding workflow that processes new hires step by step.\n",
        "\n",
        "**Key Concepts:**\n",
        "- **State**: Data that flows through the graph\n",
        "- **Nodes**: Functions that do work\n",
        "- **Edges**: Connections between nodes\n",
        "- **START**: Entry point\n",
        "- **END**: Exit point"
      ]
    },
    {
      "cell_type": "markdown",
      "metadata": {
        "id": "lab1_imports"
      },
      "source": [
        "## Imports"
      ]
    },
    {
      "cell_type": "code",
      "execution_count": null,
      "metadata": {
        "id": "lab1_imports_code"
      },
      "outputs": [],
      "source": [
        "from typing import TypedDict, Annotated\n",
        "from langgraph.graph import StateGraph, START, END\n",
        "from langgraph.graph.message import add_messages\n",
        "from langchain_openai import ChatOpenAI\n",
        "\n",
        "# Initialize LLM\n",
        "llm = ChatOpenAI(model=\"gpt-4o-mini\", temperature=0)\n",
        "\n",
        "print(\"✅ Imports successful!\")"
      ]
    },
    {
      "cell_type": "markdown",
      "metadata": {
        "id": "lab1_state"
      },
      "source": [
        "## Part 1: Understanding State\n",
        "\n",
        "**State** is the data structure that flows through your graph. It's like a shared clipboard that every node can read and update."
      ]
    },
    {
      "cell_type": "code",
      "execution_count": null,
      "metadata": {
        "id": "lab1_state_code"
      },
      "outputs": [],
      "source": [
        "class OnboardingState(TypedDict):\n",
        "    \"\"\"State for employee onboarding workflow\"\"\"\n",
        "    employee_name: str\n",
        "    employee_id: str\n",
        "    department: str\n",
        "    messages: Annotated[list, add_messages]\n",
        "    validation_status: str\n",
        "    tasks_completed: list\n",
        "\n",
        "print(\"✅ OnboardingState defined!\")\n",
        "print(\"\\nState fields:\")\n",
        "print(\"  - employee_name: Employee's full name\")\n",
        "print(\"  - employee_id: Unique employee ID\")\n",
        "print(\"  - department: Department name\")\n",
        "print(\"  - messages: Conversation history\")\n",
        "print(\"  - validation_status: Validation result\")\n",
        "print(\"  - tasks_completed: List of completed tasks\")"
      ]
    },
    {
      "cell_type": "markdown",
      "metadata": {
        "id": "lab1_nodes"
      },
      "source": [
        "## Part 2: Creating Nodes\n",
        "\n",
        "**Nodes** are functions that do work. Each node receives state, processes it, and returns updates."
      ]
    },
    {
      "cell_type": "code",
      "execution_count": null,
      "metadata": {
        "id": "lab1_nodes_code"
      },
      "outputs": [],
      "source": [
        "def validate_employee(state: OnboardingState):\n",
        "    \"\"\"Node 1: Validate employee information\"\"\"\n",
        "    print(f\"📋 Step 1: Validating employee {state['employee_name']}...\")\n",
        "    \n",
        "    # Simple validation\n",
        "    if state['employee_name'] and state['employee_id']:\n",
        "        return {\n",
        "            \"validation_status\": \"✅ Validated\",\n",
        "            \"messages\": [(\"assistant\", f\"Employee {state['employee_name']} (ID: {state['employee_id']}) validated successfully\")]\n",
        "        }\n",
        "    else:\n",
        "        return {\n",
        "            \"validation_status\": \"❌ Failed\",\n",
        "            \"messages\": [(\"assistant\", \"Validation failed: Missing information\")]\n",
        "        }\n",
        "\n",
        "def assign_equipment(state: OnboardingState):\n",
        "    \"\"\"Node 2: Assign equipment based on department\"\"\"\n",
        "    print(f\"💻 Step 2: Assigning equipment for {state['department']} department...\")\n",
        "    \n",
        "    equipment = {\n",
        "        \"Engineering\": [\"Laptop (MacBook Pro)\", \"Monitor\", \"Keyboard\", \"Mouse\"],\n",
        "        \"HR\": [\"Laptop (ThinkPad)\", \"Headset\"],\n",
        "        \"Sales\": [\"Laptop (MacBook Air)\", \"Phone\", \"CRM Access\"],\n",
        "        \"Marketing\": [\"Laptop (MacBook Pro)\", \"Design Software License\"]\n",
        "    }\n",
        "    \n",
        "    dept_equipment = equipment.get(state['department'], [\"Standard Laptop\"])\n",
        "    \n",
        "    return {\n",
        "        \"tasks_completed\": state['tasks_completed'] + [\"Equipment assigned\"],\n",
        "        \"messages\": [(\"assistant\", f\"Assigned equipment: {', '.join(dept_equipment)}\")]\n",
        "    }\n",
        "\n",
        "def setup_accounts(state: OnboardingState):\n",
        "    \"\"\"Node 3: Set up employee accounts\"\"\"\n",
        "    print(f\"🔐 Step 3: Setting up accounts for {state['employee_name']}...\")\n",
        "    \n",
        "    accounts = [\"Email\", \"Slack\", \"HR Portal\", \"Leave Management System\"]\n",
        "    \n",
        "    return {\n",
        "        \"tasks_completed\": state['tasks_completed'] + [\"Accounts created\"],\n",
        "        \"messages\": [(\"assistant\", f\"Created accounts: {', '.join(accounts)}\")]\n",
        "    }\n",
        "\n",
        "def send_welcome_email(state: OnboardingState):\n",
        "    \"\"\"Node 4: Send welcome email\"\"\"\n",
        "    print(f\"📧 Step 4: Sending welcome email...\")\n",
        "    \n",
        "    return {\n",
        "        \"tasks_completed\": state['tasks_completed'] + [\"Welcome email sent\"],\n",
        "        \"messages\": [(\"assistant\", f\"Welcome email sent to {state['employee_name']}@company.com\")]\n",
        "    }\n",
        "\n",
        "print(\"✅ All nodes defined!\")"
      ]
    },
    {
      "cell_type": "markdown",
      "metadata": {
        "id": "lab1_graph"
      },
      "source": [
        "## Part 3: Building the Graph\n",
        "\n",
        "Now we connect everything using **Edges**."
      ]
    },
    {
      "cell_type": "code",
      "execution_count": null,
      "metadata": {
        "id": "lab1_graph_code"
      },
      "outputs": [],
      "source": [
        "# Create the graph\n",
        "workflow = StateGraph(OnboardingState)\n",
        "\n",
        "# Add nodes\n",
        "workflow.add_node(\"validate\", validate_employee)\n",
        "workflow.add_node(\"assign_equipment\", assign_equipment)\n",
        "workflow.add_node(\"setup_accounts\", setup_accounts)\n",
        "workflow.add_node(\"send_welcome\", send_welcome_email)\n",
        "\n",
        "# Add edges (define the flow)\n",
        "workflow.add_edge(START, \"validate\")  # START → validate\n",
        "workflow.add_edge(\"validate\", \"assign_equipment\")  # validate → assign_equipment\n",
        "workflow.add_edge(\"assign_equipment\", \"setup_accounts\")  # assign_equipment → setup_accounts\n",
        "workflow.add_edge(\"setup_accounts\", \"send_welcome\")  # setup_accounts → send_welcome\n",
        "workflow.add_edge(\"send_welcome\", END)  # send_welcome → END\n",
        "\n",
        "# Compile the graph\n",
        "onboarding_app = workflow.compile()\n",
        "\n",
        "print(\"✅ Onboarding workflow created!\")\n",
        "print(\"\\nWorkflow: START → validate → assign_equipment → setup_accounts → send_welcome → END\")"
      ]
    },
    {
      "cell_type": "markdown",
      "metadata": {
        "id": "lab1_run"
      },
      "source": [
        "## Part 4: Run the Workflow"
      ]
    },
    {
      "cell_type": "code",
      "execution_count": null,
      "metadata": {
        "id": "lab1_run_code"
      },
      "outputs": [],
      "source": [
        "# Test the workflow\n",
        "initial_state = {\n",
        "    \"employee_name\": \"Karan Singh\",\n",
        "    \"employee_id\": \"106\",\n",
        "    \"department\": \"Engineering\",\n",
        "    \"messages\": [],\n",
        "    \"validation_status\": \"\",\n",
        "    \"tasks_completed\": []\n",
        "}\n",
        "\n",
        "print(\"=\"*70)\n",
        "print(\"STARTING ONBOARDING WORKFLOW\")\n",
        "print(\"=\"*70)\n",
        "\n",
        "result = onboarding_app.invoke(initial_state)\n",
        "\n",
        "print(\"\\n\" + \"=\"*70)\n",
        "print(\"ONBOARDING COMPLETE!\")\n",
        "print(\"=\"*70)\n",
        "print(f\"\\nEmployee: {result['employee_name']}\")\n",
        "print(f\"Status: {result['validation_status']}\")\n",
        "print(f\"Tasks completed: {len(result['tasks_completed'])}\")\n",
        "print(f\"\\nAll steps:\")\n",
        "for task in result['tasks_completed']:\n",
        "    print(f\"  ✓ {task}\")"
      ]
    },
    {
      "cell_type": "markdown",
      "metadata": {
        "id": "lab1_viz"
      },
      "source": [
        "## Part 5: Visualize the Graph (Optional)"
      ]
    },
    {
      "cell_type": "code",
      "execution_count": null,
      "metadata": {
        "id": "lab1_viz_code"
      },
      "outputs": [],
      "source": [
        "# Visualize the workflow\n",
        "from IPython.display import Image, display\n",
        "\n",
        "try:\n",
        "    display(Image(onboarding_app.get_graph().draw_mermaid_png()))\n",
        "except Exception as e:\n",
        "    print(f\"Visualization not available: {e}\")\n",
        "    print(\"But the workflow works perfectly!\")"
      ]
    },
    {
      "cell_type": "markdown",
      "metadata": {
        "id": "lab1_ex1"
      },
      "source": [
        "## 🎯 Exercise 1.1: Add an Orientation Node\n",
        "\n",
        "Add a new node `schedule_orientation` that:\n",
        "- Comes after `send_welcome` and before `END`\n",
        "- Adds \"Orientation scheduled\" to tasks_completed\n",
        "- Prints orientation date (e.g., \"Orientation scheduled for [next Monday]\")"
      ]
    },
    {
      "cell_type": "code",
      "execution_count": null,
      "metadata": {
        "id": "lab1_ex1_code"
      },
      "outputs": [],
      "source": [
        "# Your code here\n",
        "def schedule_orientation(state: OnboardingState):\n",
        "    \"\"\"TODO: Implement this node\"\"\"\n",
        "    pass\n",
        "\n",
        "# TODO: Create new workflow with the orientation node\n",
        "# TODO: Test it"
      ]
    },
    {
      "cell_type": "markdown",
      "metadata": {
        "id": "lab1_ex2"
      },
      "source": [
        "## 🎯 Exercise 1.2: Test with Different Departments\n",
        "\n",
        "Run the workflow for employees in different departments and observe how equipment assignment changes."
      ]
    },
    {
      "cell_type": "code",
      "execution_count": null,
      "metadata": {
        "id": "lab1_ex2_code"
      },
      "outputs": [],
      "source": [
        "# Test cases\n",
        "test_employees = [\n",
        "    {\"employee_name\": \"Pooja Reddy\", \"employee_id\": \"107\", \"department\": \"HR\"},\n",
        "    {\"employee_name\": \"Vikram Patel\", \"employee_id\": \"108\", \"department\": \"Sales\"},\n",
        "    {\"employee_name\": \"Neha Kapoor\", \"employee_id\": \"109\", \"department\": \"Marketing\"}\n",
        "]\n",
        "\n",
        "# TODO: Run workflow for each employee\n",
        "for emp in test_employees:\n",
        "    # Your code here\n",
        "    pass"
      ]
    },
    {
      "cell_type": "markdown",
      "metadata": {
        "id": "lab2_title"
      },
      "source": [
        "---\n",
        "# Lab 2: Conditional Routing - Smart Leave Approval\n",
        "\n",
        "**Objective:** Learn conditional edges to route based on state.\n",
        "\n",
        "**Scenario:** Automatically route leave requests based on duration:\n",
        "- Short leaves (≤3 days) → Auto-approved\n",
        "- Long leaves (>3 days) → Manager review\n",
        "- Insufficient balance → Rejected\n",
        "\n",
        "**Key Concept:** Conditional edges allow dynamic routing based on state"
      ]
    },
    {
      "cell_type": "markdown",
      "metadata": {
        "id": "lab2_setup"
      },
      "source": [
        "## Setup - Employee Database"
      ]
    },
    {
      "cell_type": "code",
      "execution_count": null,
      "metadata": {
        "id": "lab2_setup_code"
      },
      "outputs": [],
      "source": [
        "from typing import Literal\n",
        "\n",
        "# Reuse the employee database from Module 1\n",
        "employees = {\n",
        "    \"101\": {\"name\": \"Priya Sharma\", \"department\": \"Engineering\", \"manager\": \"102\"},\n",
        "    \"102\": {\"name\": \"Rahul Verma\", \"department\": \"Engineering\", \"manager\": \"103\"},\n",
        "    \"103\": {\"name\": \"Anjali Patel\", \"department\": \"HR\", \"manager\": None},\n",
        "    \"104\": {\"name\": \"Arjun Reddy\", \"department\": \"Sales\", \"manager\": \"103\"},\n",
        "    \"105\": {\"name\": \"Sneha Gupta\", \"department\": \"Marketing\", \"manager\": \"103\"}\n",
        "}\n",
        "\n",
        "leave_balances = {\n",
        "    \"101\": 12, \"102\": 8, \"103\": 15, \"104\": 10, \"105\": 5\n",
        "}\n",
        "\n",
        "print(\"✅ Employee database loaded!\")"
      ]
    },
    {
      "cell_type": "markdown",
      "metadata": {
        "id": "lab2_state"
      },
      "source": [
        "## Part 1: Define State"
      ]
    },
    {
      "cell_type": "code",
      "execution_count": null,
      "metadata": {
        "id": "lab2_state_code"
      },
      "outputs": [],
      "source": [
        "class LeaveRequestState(TypedDict):\n",
        "    \"\"\"State for leave approval workflow\"\"\"\n",
        "    employee_id: str\n",
        "    employee_name: str\n",
        "    days_requested: int\n",
        "    leave_balance: int\n",
        "    reason: str\n",
        "    approval_status: str\n",
        "    messages: Annotated[list, add_messages]\n",
        "    requires_manager_approval: bool\n",
        "\n",
        "print(\"✅ LeaveRequestState defined!\")"
      ]
    },
    {
      "cell_type": "markdown",
      "metadata": {
        "id": "lab2_nodes"
      },
      "source": [
        "## Part 2: Create Nodes"
      ]
    },
    {
      "cell_type": "code",
      "execution_count": null,
      "metadata": {
        "id": "lab2_nodes_code"
      },
      "outputs": [],
      "source": [
        "def check_leave_balance(state: LeaveRequestState):\n",
        "    \"\"\"Node: Check if employee has enough leave\"\"\"\n",
        "    print(f\"\\n📊 Checking leave balance for {state['employee_name']}...\")\n",
        "    \n",
        "    employee_id = state['employee_id']\n",
        "    balance = leave_balances.get(employee_id, 0)\n",
        "    days = state['days_requested']\n",
        "    \n",
        "    if days > balance:\n",
        "        return {\n",
        "            \"leave_balance\": balance,\n",
        "            \"approval_status\": \"❌ Rejected - Insufficient balance\",\n",
        "            \"messages\": [(\"assistant\", f\"Request denied: You have {balance} days, but requested {days} days\")]\n",
        "        }\n",
        "    \n",
        "    return {\n",
        "        \"leave_balance\": balance,\n",
        "        \"messages\": [(\"assistant\", f\"Balance check passed: {balance} days available, {days} days requested\")]\n",
        "    }\n",
        "\n",
        "def auto_approve(state: LeaveRequestState):\n",
        "    \"\"\"Node: Auto-approve short leaves (≤3 days)\"\"\"\n",
        "    print(f\"✅ Auto-approving leave for {state['employee_name']}...\")\n",
        "    \n",
        "    return {\n",
        "        \"approval_status\": \"✅ Auto-Approved\",\n",
        "        \"messages\": [(\"assistant\", f\"Leave request for {state['days_requested']} days has been auto-approved!\")]\n",
        "    }\n",
        "\n",
        "def manager_review(state: LeaveRequestState):\n",
        "    \"\"\"Node: Send to manager for approval (>3 days)\"\"\"\n",
        "    print(f\"👔 Sending to manager for review...\")\n",
        "    \n",
        "    emp_id = state['employee_id']\n",
        "    manager_id = employees.get(emp_id, {}).get(\"manager\", \"Unknown\")\n",
        "    manager_name = employees.get(manager_id, {}).get(\"name\", \"Manager\")\n",
        "    \n",
        "    return {\n",
        "        \"approval_status\": \"⏳ Pending Manager Approval\",\n",
        "        \"messages\": [(\"assistant\", f\"Leave request for {state['days_requested']} days sent to {manager_name} for approval\")]\n",
        "    }\n",
        "\n",
        "def reject_request(state: LeaveRequestState):\n",
        "    \"\"\"Node: Reject request due to insufficient balance\"\"\"\n",
        "    print(f\"❌ Rejecting leave request...\")\n",
        "    return state  # Status already set in check_leave_balance\n",
        "\n",
        "print(\"✅ All nodes defined!\")"
      ]
    },
    {
      "cell_type": "markdown",
      "metadata": {
        "id": "lab2_router"
      },
      "source": [
        "## Part 3: Create Routing Function\n",
        "\n",
        "**This is the key concept!** A routing function decides which node to go to next based on the state."
      ]
    },
    {
      "cell_type": "code",
      "execution_count": null,
      "metadata": {
        "id": "lab2_router_code"
      },
      "outputs": [],
      "source": [
        "def route_after_balance_check(state: LeaveRequestState) -> Literal[\"approve\", \"manager\", \"reject\"]:\n",
        "    \"\"\"\n",
        "    Routing function: Decide where to go after balance check\n",
        "    \n",
        "    Returns:\n",
        "        - \"reject\" if insufficient balance\n",
        "        - \"approve\" if ≤3 days and sufficient balance\n",
        "        - \"manager\" if >3 days and sufficient balance\n",
        "    \"\"\"\n",
        "    \n",
        "    # Check if balance is insufficient\n",
        "    if \"Rejected\" in state.get(\"approval_status\", \"\"):\n",
        "        return \"reject\"\n",
        "    \n",
        "    # Route based on number of days\n",
        "    if state['days_requested'] <= 3:\n",
        "        return \"approve\"\n",
        "    else:\n",
        "        return \"manager\"\n",
        "\n",
        "print(\"✅ Routing function defined!\")\n",
        "print(\"\\nRouting logic:\")\n",
        "print(\"  - Insufficient balance → reject\")\n",
        "print(\"  - ≤3 days + sufficient → approve\")\n",
        "print(\"  - >3 days + sufficient → manager\")"
      ]
    },
    {
      "cell_type": "markdown",
      "metadata": {
        "id": "lab2_graph"
      },
      "source": [
        "## Part 4: Build Graph with Conditional Edges"
      ]
    },
    {
      "cell_type": "code",
      "execution_count": null,
      "metadata": {
        "id": "lab2_graph_code"
      },
      "outputs": [],
      "source": [
        "# Create the graph\n",
        "workflow = StateGraph(LeaveRequestState)\n",
        "\n",
        "# Add nodes\n",
        "workflow.add_node(\"check_balance\", check_leave_balance)\n",
        "workflow.add_node(\"approve\", auto_approve)\n",
        "workflow.add_node(\"manager\", manager_review)\n",
        "workflow.add_node(\"reject\", reject_request)\n",
        "\n",
        "# Add edges\n",
        "workflow.add_edge(START, \"check_balance\")\n",
        "\n",
        "# CONDITIONAL EDGE - This is the magic! 🎯\n",
        "workflow.add_conditional_edges(\n",
        "    \"check_balance\",  # From this node\n",
        "    route_after_balance_check,  # Use this function to decide\n",
        "    {\n",
        "        \"approve\": \"approve\",  # If function returns \"approve\", go to approve node\n",
        "        \"manager\": \"manager\",  # If function returns \"manager\", go to manager node\n",
        "        \"reject\": \"reject\"  # If function returns \"reject\", go to reject node\n",
        "    }\n",
        ")\n",
        "\n",
        "# All paths lead to END\n",
        "workflow.add_edge(\"approve\", END)\n",
        "workflow.add_edge(\"manager\", END)\n",
        "workflow.add_edge(\"reject\", END)\n",
        "\n",
        "# Compile\n",
        "leave_app = workflow.compile()\n",
        "\n",
        "print(\"✅ Leave approval workflow created with conditional routing!\")"
      ]
    },
    {
      "cell_type": "markdown",
      "metadata": {
        "id": "lab2_test"
      },
      "source": [
        "## Part 5: Test Different Scenarios"
      ]
    },
    {
      "cell_type": "code",
      "execution_count": null,
      "metadata": {
        "id": "lab2_test_code"
      },
      "outputs": [],
      "source": [
        "def test_leave_request(employee_id, days, reason):\n",
        "    \"\"\"Helper function to test leave requests\"\"\"\n",
        "    emp_data = employees.get(employee_id, {})\n",
        "    \n",
        "    initial_state = {\n",
        "        \"employee_id\": employee_id,\n",
        "        \"employee_name\": emp_data.get(\"name\", \"Unknown\"),\n",
        "        \"days_requested\": days,\n",
        "        \"leave_balance\": 0,\n",
        "        \"reason\": reason,\n",
        "        \"approval_status\": \"\",\n",
        "        \"messages\": [],\n",
        "        \"requires_manager_approval\": False\n",
        "    }\n",
        "    \n",
        "    print(\"=\"*70)\n",
        "    print(f\"Leave Request: {emp_data.get('name')} - {days} days - {reason}\")\n",
        "    print(\"=\"*70)\n",
        "    \n",
        "    result = leave_app.invoke(initial_state)\n",
        "    \n",
        "    print(f\"\\n📋 Final Status: {result['approval_status']}\")\n",
        "    print(f\"💬 Message: {result['messages'][-1][1]}\")\n",
        "    print(\"=\"*70)\n",
        "    print()\n",
        "    return result\n",
        "\n",
        "# Test Case 1: Short leave, sufficient balance\n",
        "print(\"\\n🧪 TEST CASE 1: Short leave (2 days)\\n\")\n",
        "test_leave_request(\"101\", 2, \"Personal work\")\n",
        "\n",
        "# Test Case 2: Long leave, sufficient balance  \n",
        "print(\"\\n🧪 TEST CASE 2: Long leave (10 days)\\n\")\n",
        "test_leave_request(\"103\", 10, \"Vacation\")\n",
        "\n",
        "# Test Case 3: Leave exceeding balance\n",
        "print(\"\\n🧪 TEST CASE 3: Exceeds balance (8 days, only has 5)\\n\")\n",
        "test_leave_request(\"105\", 8, \"Medical\")"
      ]
    },
    {
      "cell_type": "markdown",
      "metadata": {
        "id": "lab2_ex1"
      },
      "source": [
        "## 🎯 Exercise 2.1: Add an Emergency Leave Path\n",
        "\n",
        "Add a new route for emergency leaves (indicated by reason containing \"emergency\"):\n",
        "- Emergency leaves should be auto-approved regardless of duration\n",
        "- Add a new node `emergency_approve`\n",
        "- Update the routing function"
      ]
    },
    {
      "cell_type": "code",
      "execution_count": null,
      "metadata": {
        "id": "lab2_ex1_code"
      },
      "outputs": [],
      "source": [
        "# TODO: Implement emergency leave logic\n",
        "\n",
        "def emergency_approve(state: LeaveRequestState):\n",
        "    # Your code here\n",
        "    pass\n",
        "\n",
        "def route_with_emergency(state: LeaveRequestState):\n",
        "    # TODO: Check if reason contains \"emergency\"\n",
        "    # TODO: Add emergency routing logic\n",
        "    pass"
      ]
    },
    {
      "cell_type": "markdown",
      "metadata": {
        "id": "lab2_ex2"
      },
      "source": [
        "## 🎯 Exercise 2.2: Add Maximum Days Limit\n",
        "\n",
        "Modify the workflow to reject any leave request > 15 days, even if balance is sufficient."
      ]
    },
    {
      "cell_type": "code",
      "execution_count": null,
      "metadata": {
        "id": "lab2_ex2_code"
      },
      "outputs": [],
      "source": [
        "# TODO: Add this logic to the routing function or create a new node"
      ]
    },
    {
      "cell_type": "markdown",
      "metadata": {
        "id": "lab3_title"
      },
      "source": [
        "---\n",
        "# Lab 3: Parallel Execution - Employee Performance Review\n",
        "\n",
        "**Objective:** Learn to run multiple nodes in parallel.\n",
        "\n",
        "**Scenario:** When conducting performance reviews, gather feedback from multiple sources simultaneously:\n",
        "- Peer reviews\n",
        "- Manager evaluation\n",
        "- Self-assessment\n",
        "\n",
        "All three happen at the same time, then compile into final review.\n",
        "\n",
        "**Key Concept:** Parallel execution improves speed and efficiency"
      ]
    },
    {
      "cell_type": "markdown",
      "metadata": {
        "id": "lab3_state"
      },
      "source": [
        "## Part 1: Define State"
      ]
    },
    {
      "cell_type": "code",
      "execution_count": null,
      "metadata": {
        "id": "lab3_state_code"
      },
      "outputs": [],
      "source": [
        "class PerformanceReviewState(TypedDict):\n",
        "    \"\"\"State for performance review workflow\"\"\"\n",
        "    employee_id: str\n",
        "    employee_name: str\n",
        "    review_period: str\n",
        "    peer_feedback: str\n",
        "    manager_feedback: str\n",
        "    self_assessment: str\n",
        "    final_rating: str\n",
        "    messages: Annotated[list, add_messages]\n",
        "\n",
        "print(\"✅ PerformanceReviewState defined!\")"
      ]
    },
    {
      "cell_type": "markdown",
      "metadata": {
        "id": "lab3_nodes"
      },
      "source": [
        "## Part 2: Create Parallel Nodes\n",
        "\n",
        "These nodes will run simultaneously:"
      ]
    },
    {
      "cell_type": "code",
      "execution_count": null,
      "metadata": {
        "id": "lab3_nodes_code"
      },
      "outputs": [],
      "source": [
        "import time\n",
        "\n",
        "def gather_peer_feedback(state: PerformanceReviewState):\n",
        "    \"\"\"Node: Gather peer reviews\"\"\"\n",
        "    print(f\"👥 Gathering peer feedback for {state['employee_name']}...\")\n",
        "    time.sleep(1)  # Simulate processing time\n",
        "    \n",
        "    # Simulate peer feedback\n",
        "    peer_comments = [\n",
        "        \"Great team player\",\n",
        "        \"Always willing to help\",\n",
        "        \"Strong technical skills\"\n",
        "    ]\n",
        "    \n",
        "    return {\n",
        "        \"peer_feedback\": \" | \".join(peer_comments),\n",
        "        \"messages\": [(\"assistant\", \"Peer feedback collected\")]\n",
        "    }\n",
        "\n",
        "def gather_manager_feedback(state: PerformanceReviewState):\n",
        "    \"\"\"Node: Get manager evaluation\"\"\"\n",
        "    print(f\"👔 Gathering manager feedback for {state['employee_name']}...\")\n",
        "    time.sleep(1)  # Simulate processing time\n",
        "    \n",
        "    # Simulate manager feedback\n",
        "    manager_eval = \"Consistently meets expectations. Shows initiative in projects.\"\n",
        "    \n",
        "    return {\n",
        "        \"manager_feedback\": manager_eval,\n",
        "        \"messages\": [(\"assistant\", \"Manager evaluation received\")]\n",
        "    }\n",
        "\n",
        "def gather_self_assessment(state: PerformanceReviewState):\n",
        "    \"\"\"Node: Get self-assessment\"\"\"\n",
        "    print(f\"📝 Gathering self-assessment from {state['employee_name']}...\")\n",
        "    time.sleep(1)  # Simulate processing time\n",
        "    \n",
        "    # Simulate self-assessment\n",
        "    self_eval = \"Achieved all quarterly goals. Completed 3 major projects.\"\n",
        "    \n",
        "    return {\n",
        "        \"self_assessment\": self_eval,\n",
        "        \"messages\": [(\"assistant\", \"Self-assessment submitted\")]\n",
        "    }\n",
        "\n",
        "def compile_review(state: PerformanceReviewState):\n",
        "    \"\"\"Node: Compile all feedback and generate final rating\"\"\"\n",
        "    print(f\"📊 Compiling performance review...\")\n",
        "    \n",
        "    # Use LLM to generate final review\n",
        "    review_prompt = f\"\"\"Based on the following feedback for {state['employee_name']}, provide a brief performance summary and rating (1-5):\n",
        "    \n",
        "Peer Feedback: {state['peer_feedback']}\n",
        "Manager Feedback: {state['manager_feedback']}\n",
        "Self Assessment: {state['self_assessment']}\n",
        "\n",
        "Provide:\n",
        "1. Brief summary (2-3 sentences)\n",
        "2. Rating (1-5, where 5 is excellent)\n",
        "\"\"\"\n",
        "    \n",
        "    response = llm.invoke(review_prompt)\n",
        "    \n",
        "    return {\n",
        "        \"final_rating\": response.content,\n",
        "        \"messages\": [(\"assistant\", \"Performance review completed\")]\n",
        "    }\n",
        "\n",
        "print(\"✅ All nodes defined!\")"
      ]
    },
    {
      "cell_type": "markdown",
      "metadata": {
        "id": "lab3_graph"
      },
      "source": [
        "## Part 3: Build Graph with Parallel Execution"
      ]
    },
    {
      "cell_type": "code",
      "execution_count": null,
      "metadata": {
        "id": "lab3_graph_code"
      },
      "outputs": [],
      "source": [
        "# Create the graph\n",
        "workflow = StateGraph(PerformanceReviewState)\n",
        "\n",
        "# Add all nodes\n",
        "workflow.add_node(\"peer_feedback\", gather_peer_feedback)\n",
        "workflow.add_node(\"manager_feedback\", gather_manager_feedback)\n",
        "workflow.add_node(\"self_assessment\", gather_self_assessment)\n",
        "workflow.add_node(\"compile\", compile_review)\n",
        "\n",
        "# Parallel execution: START connects to THREE nodes simultaneously\n",
        "workflow.add_edge(START, \"peer_feedback\")\n",
        "workflow.add_edge(START, \"manager_feedback\")\n",
        "workflow.add_edge(START, \"self_assessment\")\n",
        "\n",
        "# All three feed into compile\n",
        "workflow.add_edge(\"peer_feedback\", \"compile\")\n",
        "workflow.add_edge(\"manager_feedback\", \"compile\")\n",
        "workflow.add_edge(\"self_assessment\", \"compile\")\n",
        "\n",
        "# Compile leads to END\n",
        "workflow.add_edge(\"compile\", END)\n",
        "\n",
        "# Compile the graph\n",
        "review_app = workflow.compile()\n",
        "\n",
        "print(\"✅ Performance review workflow created with parallel execution!\")\n",
        "print(\"\\nWorkflow Structure:\")\n",
        "print(\"                    ┌─→ peer_feedback ────┐\")\n",
        "print(\"       START ───────┼─→ manager_feedback ─┼─→ compile ──→ END\")\n",
        "print(\"                    └─→ self_assessment ───┘\")"
      ]
    },
    {
      "cell_type": "markdown",
      "metadata": {
        "id": "lab3_test"
      },
      "source": [
        "## Part 4: Run Parallel Workflow"
      ]
    },
    {
      "cell_type": "code",
      "execution_count": null,
      "metadata": {
        "id": "lab3_test_code"
      },
      "outputs": [],
      "source": [
        "initial_state = {\n",
        "    \"employee_id\": \"101\",\n",
        "    \"employee_name\": \"Priya Sharma\",\n",
        "    \"review_period\": \"Q4 2024\",\n",
        "    \"peer_feedback\": \"\",\n",
        "    \"manager_feedback\": \"\",\n",
        "    \"self_assessment\": \"\",\n",
        "    \"final_rating\": \"\",\n",
        "    \"messages\": []\n",
        "}\n",
        "\n",
        "print(\"=\"*70)\n",
        "print(\"STARTING PERFORMANCE REVIEW\")\n",
        "print(\"=\"*70)\n",
        "print(\"Note: Peer, manager, and self-assessment are gathered in parallel!\")\n",
        "print()\n",
        "\n",
        "start_time = time.time()\n",
        "result = review_app.invoke(initial_state)\n",
        "end_time = time.time()\n",
        "\n",
        "print(\"\\n\" + \"=\"*70)\n",
        "print(\"REVIEW COMPLETE!\")\n",
        "print(\"=\"*70)\n",
        "print(f\"\\nEmployee: {result['employee_name']}\")\n",
        "print(f\"Period: {result['review_period']}\")\n",
        "print(f\"\\n📊 Final Review:\")\n",
        "print(result['final_rating'])\n",
        "print(f\"\\n⏱️  Processing time: {end_time - start_time:.2f} seconds\")\n",
        "print(\"Note: With parallel execution, all three feedback sources were gathered simultaneously!\")"
      ]
    },
    {
      "cell_type": "markdown",
      "metadata": {
        "id": "lab3_ex"
      },
      "source": [
        "## 🎯 Exercise 3.1: Add Skills Assessment\n",
        "\n",
        "Add a fourth parallel node that assesses technical/professional skills."
      ]
    },
    {
      "cell_type": "code",
      "execution_count": null,
      "metadata": {
        "id": "lab3_ex_code"
      },
      "outputs": [],
      "source": [
        "# TODO: Implement skills assessment node\n",
        "# TODO: Update state TypedDict to include skills_score\n",
        "# TODO: Add node to workflow\n",
        "# TODO: Connect to compile node"
      ]
    },
    {
      "cell_type": "markdown",
      "metadata": {
        "id": "lab4_title"
      },
      "source": [
        "---\n",
        "# Lab 4: Understanding create_agent()\n",
        "\n",
        "**Objective:** Understand how LangChain's `create_agent()` uses LangGraph under the hood.\n",
        "\n",
        "**Key Insight:** The `create_agent()` function you used in Module 1 is actually creating a LangGraph workflow similar to what we've been building!"
      ]
    },
    {
      "cell_type": "markdown",
      "metadata": {
        "id": "lab4_compare"
      },
      "source": [
        "## Comparing Approaches\n",
        "\n",
        "### Approach 1: LangChain's create_agent() (Module 1)\n",
        "\n",
        "```python\n",
        "from langchain.agents import create_agent\n",
        "from langgraph.checkpoint.memory import InMemorySaver\n",
        "\n",
        "# High-level: LangChain does all the work\n",
        "agent = create_agent(\n",
        "    model=\"openai:gpt-4o-mini\",\n",
        "    tools=[get_employee_info, check_leave_balance],\n",
        "    prompt=\"You are an HR assistant.\",\n",
        "    checkpointer=InMemorySaver()\n",
        ")\n",
        "\n",
        "# Simple to use!\n",
        "result = agent.invoke(\n",
        "    {\"messages\": [{\"role\": \"user\", \"content\": \"Who is employee 101?\"}]},\n",
        "    config={\"configurable\": {\"thread_id\": \"1\"}}\n",
        ")\n",
        "```\n",
        "\n",
        "### Approach 2: Raw LangGraph (What we've been learning)\n",
        "\n",
        "See the next cells for the implementation."
      ]
    },
    {
      "cell_type": "markdown",
      "metadata": {
        "id": "lab4_tools"
      },
      "source": [
        "## Setup: Define Tools (from Module 1)"
      ]
    },
    {
      "cell_type": "code",
      "execution_count": null,
      "metadata": {
        "id": "lab4_tools_code"
      },
      "outputs": [],
      "source": [
        "from langchain.tools import tool\n",
        "\n",
        "@tool\n",
        "def get_employee_info(employee_id: str) -> str:\n",
        "    \"\"\"Get employee information by ID\"\"\"\n",
        "    employees_data = {\n",
        "        \"101\": \"Priya Sharma - Engineering - Senior Developer\",\n",
        "        \"102\": \"Rahul Verma - Engineering - Manager\",\n",
        "        \"103\": \"Anjali Patel - HR - Director\"\n",
        "    }\n",
        "    return employees_data.get(employee_id, f\"Employee {employee_id} not found\")\n",
        "\n",
        "@tool\n",
        "def check_leave_balance(employee_id: str) -> str:\n",
        "    \"\"\"Check remaining leave days for an employee\"\"\"\n",
        "    leave_data = {\n",
        "        \"101\": \"Priya Sharma has 12 days of leave remaining\",\n",
        "        \"102\": \"Rahul Verma has 8 days of leave remaining\",\n",
        "        \"103\": \"Anjali Patel has 15 days of leave remaining\"\n",
        "    }\n",
        "    return leave_data.get(employee_id, f\"Leave data for employee {employee_id} not found\")\n",
        "\n",
        "print(\"✅ Tools defined!\")"
      ]
    },
    {
      "cell_type": "markdown",
      "metadata": {
        "id": "lab4_manual"
      },
      "source": [
        "## Building Agent Manually with LangGraph"
      ]
    },
    {
      "cell_type": "code",
      "execution_count": null,
      "metadata": {
        "id": "lab4_manual_code"
      },
      "outputs": [],
      "source": [
        "from langgraph.prebuilt import ToolNode\n",
        "from langgraph.checkpoint.memory import InMemorySaver\n",
        "\n",
        "# Define agent state\n",
        "class AgentState(TypedDict):\n",
        "    messages: Annotated[list, add_messages]\n",
        "\n",
        "# Create the agent node\n",
        "def agent_node(state: AgentState):\n",
        "    \"\"\"The LLM agent that decides what to do\"\"\"\n",
        "    llm_with_tools = llm.bind_tools([get_employee_info, check_leave_balance])\n",
        "    response = llm_with_tools.invoke(state['messages'])\n",
        "    return {\"messages\": [response]}\n",
        "\n",
        "# Create routing function\n",
        "def should_continue(state: AgentState) -> Literal[\"tools\", \"end\"]:\n",
        "    \"\"\"Router: decide if we need to call tools or finish\"\"\"\n",
        "    last_message = state['messages'][-1]\n",
        "    if hasattr(last_message, 'tool_calls') and last_message.tool_calls:\n",
        "        return \"tools\"\n",
        "    return \"end\"\n",
        "\n",
        "# Build the graph\n",
        "workflow = StateGraph(AgentState)\n",
        "workflow.add_node(\"agent\", agent_node)\n",
        "workflow.add_node(\"tools\", ToolNode([get_employee_info, check_leave_balance]))\n",
        "\n",
        "workflow.add_edge(START, \"agent\")\n",
        "workflow.add_conditional_edges(\n",
        "    \"agent\",\n",
        "    should_continue,\n",
        "    {\"tools\": \"tools\", \"end\": END}\n",
        ")\n",
        "workflow.add_edge(\"tools\", \"agent\")  # After tools, go back to agent\n",
        "\n",
        "manual_agent = workflow.compile(checkpointer=InMemorySaver())\n",
        "\n",
        "print(\"✅ Manual agent created using LangGraph!\")\n",
        "print(\"\\nThis is essentially what create_agent() does internally!\")"
      ]
    },
    {
      "cell_type": "markdown",
      "metadata": {
        "id": "lab4_test"
      },
      "source": [
        "## Test the Manual Agent"
      ]
    },
    {
      "cell_type": "code",
      "execution_count": null,
      "metadata": {
        "id": "lab4_test_code"
      },
      "outputs": [],
      "source": [
        "# Test it - works just like create_agent()!\n",
        "config = {\"configurable\": {\"thread_id\": \"manual_test\"}}\n",
        "\n",
        "result = manual_agent.invoke(\n",
        "    {\"messages\": [(\"user\", \"Who is employee 101?\")]},\n",
        "    config\n",
        ")\n",
        "\n",
        "print(\"Question: Who is employee 101?\")\n",
        "print(f\"\\nResponse: {result['messages'][-1].content}\")\n",
        "\n",
        "# Follow-up with memory\n",
        "result = manual_agent.invoke(\n",
        "    {\"messages\": [(\"user\", \"What's their leave balance?\")]},\n",
        "    config\n",
        ")\n",
        "\n",
        "print(\"\\n\\nFollow-up: What's their leave balance?\")\n",
        "print(f\"\\nResponse: {result['messages'][-1].content}\")\n",
        "print(\"\\n✅ Agent remembers context from previous question!\")"
      ]
    },
    {
      "cell_type": "markdown",
      "metadata": {
        "id": "lab4_comparison"
      },
      "source": [
        "## When to Use Each Approach?\n",
        "\n",
        "| Scenario | Use | Reason |\n",
        "|----------|-----|--------|\n",
        "| **Quick prototyping** | `create_agent()` | Fast, less code |\n",
        "| **Standard agent patterns** | `create_agent()` | Built-in best practices |\n",
        "| **Custom workflow logic** | Raw LangGraph | Full control |\n",
        "| **Complex routing** | Raw LangGraph | Custom conditional logic |\n",
        "| **Non-standard patterns** | Raw LangGraph | Not available in high-level API |\n",
        "| **Learning/Understanding** | Raw LangGraph | See how it works |\n",
        "| **Production apps** | Either | Depends on complexity |"
      ]
    },
    {
      "cell_type": "markdown",
      "metadata": {
        "id": "lab4_ex"
      },
      "source": [
        "## 🎯 Exercise 4.1: Build Your Own create_agent()\n",
        "\n",
        "Create a simplified version of `create_agent()` using LangGraph."
      ]
    },
    {
      "cell_type": "code",
      "execution_count": null,
      "metadata": {
        "id": "lab4_ex_code"
      },
      "outputs": [],
      "source": [
        "def my_create_agent(llm, tools, system_prompt, use_memory=True):\n",
        "    \"\"\"\n",
        "    Simplified version of create_agent() using LangGraph\n",
        "    \n",
        "    Args:\n",
        "        llm: Language model\n",
        "        tools: List of tool functions\n",
        "        system_prompt: System instructions\n",
        "        use_memory: Whether to use checkpointer\n",
        "        \n",
        "    Returns:\n",
        "        Compiled LangGraph application\n",
        "    \"\"\"\n",
        "    \n",
        "    # TODO: Define AgentState\n",
        "    # TODO: Create agent_node with system prompt\n",
        "    # TODO: Create routing function\n",
        "    # TODO: Build graph with nodes and edges\n",
        "    # TODO: Compile with optional checkpointer\n",
        "    \n",
        "    pass\n",
        "\n",
        "# Test it\n",
        "# my_agent = my_create_agent(\n",
        "#     llm=ChatOpenAI(model=\"gpt-4o-mini\"),\n",
        "#     tools=[get_employee_info, check_leave_balance],\n",
        "#     system_prompt=\"You are an HR assistant\",\n",
        "#     use_memory=True\n",
        "# )"
      ]
    },
    {
      "cell_type": "markdown",
      "metadata": {
        "id": "summary_title"
      },
      "source": [
        "---\n",
        "# Summary: LangGraph → LangChain Journey\n",
        "\n",
        "## What You've Learned:\n",
        "\n",
        "1. **Lab 1**: Core concepts - State, Nodes, Edges, START, END\n",
        "2. **Lab 2**: Conditional routing - Dynamic workflow decisions\n",
        "3. **Lab 3**: Parallel execution - Multiple tasks simultaneously\n",
        "4. **Lab 4**: Understanding `create_agent()` - How high-level abstractions work\n",
        "\n",
        "## The Journey:\n",
        "\n",
        "```\n",
        "Module 1 (LangChain) → Module 2 (LangGraph) → Back to LangChain (with understanding!)\n",
        "\n",
        "   create_agent()   →   Learn what's inside   →   Use wisely with full knowledge\n",
        "   \"Just works\"     →   \"I know how it works\"  →   \"I can customize when needed\"\n",
        "```\n",
        "\n",
        "## When to Use What:\n",
        "\n",
        "- **Use LangChain's create_agent()** for 80% of cases - it's fast and reliable\n",
        "- **Use Raw LangGraph** when you need:\n",
        "  - Custom workflow patterns\n",
        "  - Special routing logic\n",
        "  - Fine-grained control\n",
        "  - To learn and understand deeply\n",
        "\n",
        "## Next Steps:\n",
        "\n",
        "- Module 3: Advanced agent patterns\n",
        "- Module 4: Multi-agent systems\n",
        "- Module 5: Production deployment"
      ]
    },
    {
      "cell_type": "markdown",
      "metadata": {
        "id": "cheatsheet_title"
      },
      "source": [
        "---\n",
        "# Bonus: LangGraph Cheat Sheet\n",
        "\n",
        "## Common LangGraph Patterns\n",
        "\n",
        "### 1. Linear Flow\n",
        "```python\n",
        "workflow.add_edge(START, \"step1\")\n",
        "workflow.add_edge(\"step1\", \"step2\")\n",
        "workflow.add_edge(\"step2\", END)\n",
        "```\n",
        "\n",
        "### 2. Conditional Branch\n",
        "```python\n",
        "workflow.add_conditional_edges(\n",
        "    \"decision_node\",\n",
        "    routing_function,\n",
        "    {\"option_a\": \"node_a\", \"option_b\": \"node_b\"}\n",
        ")\n",
        "```\n",
        "\n",
        "### 3. Parallel Execution\n",
        "```python\n",
        "workflow.add_edge(START, \"parallel_1\")\n",
        "workflow.add_edge(START, \"parallel_2\")\n",
        "workflow.add_edge(\"parallel_1\", \"join\")\n",
        "workflow.add_edge(\"parallel_2\", \"join\")\n",
        "```\n",
        "\n",
        "### 4. Loop\n",
        "```python\n",
        "workflow.add_conditional_edges(\n",
        "    \"check_node\",\n",
        "    lambda s: \"continue\" if s['count'] < 5 else \"end\",\n",
        "    {\"continue\": \"process_node\", \"end\": END}\n",
        ")\n",
        "workflow.add_edge(\"process_node\", \"check_node\")  # Loop back\n",
        "```\n",
        "\n",
        "## State Management Tips\n",
        "\n",
        "```python\n",
        "# Good: Use TypedDict for clarity\n",
        "class MyState(TypedDict):\n",
        "    counter: int\n",
        "    messages: Annotated[list, add_messages]  # Append messages\n",
        "    data: dict  # Replace data\n",
        "\n",
        "# Update state in nodes\n",
        "def my_node(state: MyState):\n",
        "    return {\n",
        "        \"counter\": state['counter'] + 1,  # Update\n",
        "        \"messages\": [(\"assistant\", \"New message\")]  # Append\n",
        "    }\n",
        "```"
      ]
    },
    {
      "cell_type": "markdown",
      "metadata": {
        "id": "conclusion"
      },
      "source": [
        "---\n",
        "# 🎉 Congratulations!\n",
        "\n",
        "You now understand both the high-level and low-level approaches to building agents with LangChain and LangGraph!\n",
        "\n",
        "**Keep practicing and building!** 🚀"
      ]
    }
  ],
  "metadata": {
    "colab": {
      "provenance": []
    },
    "kernelspec": {
      "display_name": "Python 3",
      "language": "python",
      "name": "python3"
    },
    "language_info": {
      "codemirror_mode": {
        "name": "ipython",
        "version": 3
      },
      "file_extension": ".py",
      "mimetype": "text/x-python",
      "name": "python",
      "nbconvert_exporter": "python",
      "pygments_lexer": "ipython3",
      "version": "3.11.0"
    }
  },
  "nbformat": 4,
  "nbformat_minor": 0
}
