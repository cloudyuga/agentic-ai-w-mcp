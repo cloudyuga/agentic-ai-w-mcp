{
  "nbformat": 4,
  "nbformat_minor": 0,
  "metadata": {
    "colab": {
      "provenance": []
    },
    "kernelspec": {
      "name": "python3",
      "display_name": "Python 3"
    },
    "language_info": {
      "name": "python"
    }
  },
  "cells": [
    {
      "cell_type": "code",
      "execution_count": null,
      "metadata": {
        "id": "sTRm-mav18ij"
      },
      "outputs": [],
      "source": [
        "pip install -U langgraph"
      ]
    },
    {
      "cell_type": "code",
      "source": [
        "from typing_extensions import TypedDict\n",
        "from langgraph.graph.state import StateGraph, START\n",
        "\n",
        "class State(TypedDict):\n",
        "    foo: str\n",
        "\n",
        "# Subgraph\n",
        "\n",
        "def subgraph_node_1(state: State):\n",
        "    return {\"foo\": \"hi! \" + state[\"foo\"]}\n",
        "\n",
        "subgraph_builder = StateGraph(State)\n",
        "subgraph_builder.add_node(subgraph_node_1)\n",
        "subgraph_builder.add_edge(START, \"subgraph_node_1\")\n",
        "subgraph = subgraph_builder.compile()\n",
        "\n",
        "# Parent graph\n",
        "\n",
        "builder = StateGraph(State)\n",
        "builder.add_node(\"node_1\", subgraph)\n",
        "builder.add_edge(START, \"node_1\")\n",
        "graph = builder.compile()"
      ],
      "metadata": {
        "id": "x12UUtDU2JUz"
      },
      "execution_count": 2,
      "outputs": []
    },
    {
      "cell_type": "code",
      "source": [
        "from typing_extensions import TypedDict\n",
        "from langgraph.graph.state import StateGraph, START\n",
        "\n",
        "# Define subgraph\n",
        "class SubgraphState(TypedDict):\n",
        "    foo: str  # (1)!\n",
        "    bar: str  # (2)!\n",
        "\n",
        "def subgraph_node_1(state: SubgraphState):\n",
        "    return {\"bar\": \"bar\"}\n",
        "\n",
        "def subgraph_node_2(state: SubgraphState):\n",
        "    # note that this node is using a state key ('bar') that is only available in the subgraph\n",
        "    # and is sending update on the shared state key ('foo')\n",
        "    return {\"foo\": state[\"foo\"] + state[\"bar\"]}\n",
        "\n",
        "subgraph_builder = StateGraph(SubgraphState)\n",
        "subgraph_builder.add_node(subgraph_node_1)\n",
        "subgraph_builder.add_node(subgraph_node_2)\n",
        "subgraph_builder.add_edge(START, \"subgraph_node_1\")\n",
        "subgraph_builder.add_edge(\"subgraph_node_1\", \"subgraph_node_2\")\n",
        "subgraph = subgraph_builder.compile()\n",
        "\n",
        "# Define parent graph\n",
        "class ParentState(TypedDict):\n",
        "    foo: str\n",
        "\n",
        "def node_1(state: ParentState):\n",
        "    return {\"foo\": \"hi! \" + state[\"foo\"]}\n",
        "\n",
        "builder = StateGraph(ParentState)\n",
        "builder.add_node(\"node_1\", node_1)\n",
        "builder.add_node(\"node_2\", subgraph)\n",
        "builder.add_edge(START, \"node_1\")\n",
        "builder.add_edge(\"node_1\", \"node_2\")\n",
        "graph = builder.compile()\n",
        "\n",
        "for chunk in graph.stream({\"foo\": \"foo\"}):\n",
        "    print(chunk)"
      ],
      "metadata": {
        "colab": {
          "base_uri": "https://localhost:8080/"
        },
        "id": "IeI4DbTE2kLp",
        "outputId": "39866891-40a2-45a4-e93b-b7313e85866f"
      },
      "execution_count": 3,
      "outputs": [
        {
          "output_type": "stream",
          "name": "stdout",
          "text": [
            "{'node_1': {'foo': 'hi! foo'}}\n",
            "{'node_2': {'foo': 'hi! foobar'}}\n"
          ]
        }
      ]
    },
    {
      "cell_type": "code",
      "source": [
        "from typing_extensions import TypedDict\n",
        "from langgraph.graph.state import StateGraph, START\n",
        "\n",
        "class SubgraphState(TypedDict):\n",
        "    bar: str\n",
        "\n",
        "# Subgraph\n",
        "\n",
        "def subgraph_node_1(state: SubgraphState):\n",
        "    return {\"bar\": \"hi! \" + state[\"bar\"]}\n",
        "\n",
        "subgraph_builder = StateGraph(SubgraphState)\n",
        "subgraph_builder.add_node(subgraph_node_1)\n",
        "subgraph_builder.add_edge(START, \"subgraph_node_1\")\n",
        "subgraph = subgraph_builder.compile()\n",
        "\n",
        "# Parent graph\n",
        "\n",
        "class State(TypedDict):\n",
        "    foo: str\n",
        "\n",
        "def call_subgraph(state: State):\n",
        "    subgraph_output = subgraph.invoke({\"bar\": state[\"foo\"]})  # (1)!\n",
        "    return {\"foo\": subgraph_output[\"bar\"]}  # (2)!\n",
        "\n",
        "builder = StateGraph(State)\n",
        "builder.add_node(\"node_1\", call_subgraph)\n",
        "builder.add_edge(START, \"node_1\")\n",
        "graph = builder.compile()"
      ],
      "metadata": {
        "id": "uLilH7zM2oUf"
      },
      "execution_count": 4,
      "outputs": []
    },
    {
      "cell_type": "code",
      "source": [
        "from typing_extensions import TypedDict\n",
        "from langgraph.graph.state import StateGraph, START\n",
        "\n",
        "# Define subgraph\n",
        "class SubgraphState(TypedDict):\n",
        "    # note that none of these keys are shared with the parent graph state\n",
        "    bar: str\n",
        "    baz: str\n",
        "\n",
        "def subgraph_node_1(state: SubgraphState):\n",
        "    return {\"baz\": \"baz\"}\n",
        "\n",
        "def subgraph_node_2(state: SubgraphState):\n",
        "    return {\"bar\": state[\"bar\"] + state[\"baz\"]}\n",
        "\n",
        "subgraph_builder = StateGraph(SubgraphState)\n",
        "subgraph_builder.add_node(subgraph_node_1)\n",
        "subgraph_builder.add_node(subgraph_node_2)\n",
        "subgraph_builder.add_edge(START, \"subgraph_node_1\")\n",
        "subgraph_builder.add_edge(\"subgraph_node_1\", \"subgraph_node_2\")\n",
        "subgraph = subgraph_builder.compile()\n",
        "\n",
        "# Define parent graph\n",
        "class ParentState(TypedDict):\n",
        "    foo: str\n",
        "\n",
        "def node_1(state: ParentState):\n",
        "    return {\"foo\": \"hi! \" + state[\"foo\"]}\n",
        "\n",
        "def node_2(state: ParentState):\n",
        "    response = subgraph.invoke({\"bar\": state[\"foo\"]})  # (1)!\n",
        "    return {\"foo\": response[\"bar\"]}  # (2)!\n",
        "\n",
        "\n",
        "builder = StateGraph(ParentState)\n",
        "builder.add_node(\"node_1\", node_1)\n",
        "builder.add_node(\"node_2\", node_2)\n",
        "builder.add_edge(START, \"node_1\")\n",
        "builder.add_edge(\"node_1\", \"node_2\")\n",
        "graph = builder.compile()\n",
        "\n",
        "for chunk in graph.stream({\"foo\": \"foo\"}, subgraphs=True):\n",
        "    print(chunk)"
      ],
      "metadata": {
        "colab": {
          "base_uri": "https://localhost:8080/"
        },
        "id": "qsak8GLZ2tW1",
        "outputId": "aadf8763-ef7b-48da-ae91-0d4a5a46ef15"
      },
      "execution_count": 5,
      "outputs": [
        {
          "output_type": "stream",
          "name": "stdout",
          "text": [
            "((), {'node_1': {'foo': 'hi! foo'}})\n",
            "(('node_2:521d7389-f29e-6eac-891e-7ceba7c7e9d4',), {'subgraph_node_1': {'baz': 'baz'}})\n",
            "(('node_2:521d7389-f29e-6eac-891e-7ceba7c7e9d4',), {'subgraph_node_2': {'bar': 'hi! foobaz'}})\n",
            "((), {'node_2': {'foo': 'hi! foobaz'}})\n"
          ]
        }
      ]
    },
    {
      "cell_type": "code",
      "source": [
        "# Grandchild graph\n",
        "from typing_extensions import TypedDict\n",
        "from langgraph.graph.state import StateGraph, START, END\n",
        "\n",
        "class GrandChildState(TypedDict):\n",
        "    my_grandchild_key: str\n",
        "\n",
        "def grandchild_1(state: GrandChildState) -> GrandChildState:\n",
        "    # NOTE: child or parent keys will not be accessible here\n",
        "    return {\"my_grandchild_key\": state[\"my_grandchild_key\"] + \", how are you\"}\n",
        "\n",
        "\n",
        "grandchild = StateGraph(GrandChildState)\n",
        "grandchild.add_node(\"grandchild_1\", grandchild_1)\n",
        "\n",
        "grandchild.add_edge(START, \"grandchild_1\")\n",
        "grandchild.add_edge(\"grandchild_1\", END)\n",
        "\n",
        "grandchild_graph = grandchild.compile()\n",
        "\n",
        "# Child graph\n",
        "class ChildState(TypedDict):\n",
        "    my_child_key: str\n",
        "\n",
        "def call_grandchild_graph(state: ChildState) -> ChildState:\n",
        "    # NOTE: parent or grandchild keys won't be accessible here\n",
        "    grandchild_graph_input = {\"my_grandchild_key\": state[\"my_child_key\"]}  # (1)!\n",
        "    grandchild_graph_output = grandchild_graph.invoke(grandchild_graph_input)\n",
        "    return {\"my_child_key\": grandchild_graph_output[\"my_grandchild_key\"] + \" today?\"}  # (2)!\n",
        "\n",
        "child = StateGraph(ChildState)\n",
        "child.add_node(\"child_1\", call_grandchild_graph)  # (3)!\n",
        "child.add_edge(START, \"child_1\")\n",
        "child.add_edge(\"child_1\", END)\n",
        "child_graph = child.compile()\n",
        "\n",
        "# Parent graph\n",
        "class ParentState(TypedDict):\n",
        "    my_key: str\n",
        "\n",
        "def parent_1(state: ParentState) -> ParentState:\n",
        "    # NOTE: child or grandchild keys won't be accessible here\n",
        "    return {\"my_key\": \"hi \" + state[\"my_key\"]}\n",
        "\n",
        "def parent_2(state: ParentState) -> ParentState:\n",
        "    return {\"my_key\": state[\"my_key\"] + \" bye!\"}\n",
        "\n",
        "def call_child_graph(state: ParentState) -> ParentState:\n",
        "    child_graph_input = {\"my_child_key\": state[\"my_key\"]}  # (4)!\n",
        "    child_graph_output = child_graph.invoke(child_graph_input)\n",
        "    return {\"my_key\": child_graph_output[\"my_child_key\"]}  # (5)!\n",
        "\n",
        "parent = StateGraph(ParentState)\n",
        "parent.add_node(\"parent_1\", parent_1)\n",
        "parent.add_node(\"child\", call_child_graph)  # (6)!\n",
        "parent.add_node(\"parent_2\", parent_2)\n",
        "\n",
        "parent.add_edge(START, \"parent_1\")\n",
        "parent.add_edge(\"parent_1\", \"child\")\n",
        "parent.add_edge(\"child\", \"parent_2\")\n",
        "parent.add_edge(\"parent_2\", END)\n",
        "\n",
        "parent_graph = parent.compile()\n",
        "\n",
        "for chunk in parent_graph.stream({\"my_key\": \"Bob\"}, subgraphs=True):\n",
        "    print(chunk)"
      ],
      "metadata": {
        "colab": {
          "base_uri": "https://localhost:8080/"
        },
        "id": "PEvIs4Ov212C",
        "outputId": "7b2897ea-1824-49d8-f45c-923f91682708"
      },
      "execution_count": 6,
      "outputs": [
        {
          "output_type": "stream",
          "name": "stdout",
          "text": [
            "((), {'parent_1': {'my_key': 'hi Bob'}})\n",
            "(('child:d8ed1a96-9efa-0e6b-21b0-58746f7ece1f', 'child_1:544e7c23-0cd1-546d-ac7d-b201b28da1f5'), {'grandchild_1': {'my_grandchild_key': 'hi Bob, how are you'}})\n",
            "(('child:d8ed1a96-9efa-0e6b-21b0-58746f7ece1f',), {'child_1': {'my_child_key': 'hi Bob, how are you today?'}})\n",
            "((), {'child': {'my_key': 'hi Bob, how are you today?'}})\n",
            "((), {'parent_2': {'my_key': 'hi Bob, how are you today? bye!'}})\n"
          ]
        }
      ]
    },
    {
      "cell_type": "code",
      "source": [
        "from langgraph.graph import START, StateGraph\n",
        "from langgraph.checkpoint.memory import MemorySaver\n",
        "from typing_extensions import TypedDict\n",
        "\n",
        "class State(TypedDict):\n",
        "    foo: str\n",
        "\n",
        "# Subgraph\n",
        "\n",
        "def subgraph_node_1(state: State):\n",
        "    return {\"foo\": state[\"foo\"] + \"bar\"}\n",
        "\n",
        "subgraph_builder = StateGraph(State)\n",
        "subgraph_builder.add_node(subgraph_node_1)\n",
        "subgraph_builder.add_edge(START, \"subgraph_node_1\")\n",
        "subgraph = subgraph_builder.compile()\n",
        "\n",
        "# Parent graph\n",
        "\n",
        "builder = StateGraph(State)\n",
        "builder.add_node(\"node_1\", subgraph)\n",
        "builder.add_edge(START, \"node_1\")\n",
        "\n",
        "checkpointer = MemorySaver()\n",
        "graph = builder.compile(checkpointer=checkpointer)"
      ],
      "metadata": {
        "id": "IJc1bjGn26bX"
      },
      "execution_count": 7,
      "outputs": []
    },
    {
      "cell_type": "code",
      "source": [
        "from typing_extensions import TypedDict\n",
        "from langgraph.graph.state import StateGraph, START\n",
        "\n",
        "# Define subgraph\n",
        "class SubgraphState(TypedDict):\n",
        "    foo: str\n",
        "    bar: str\n",
        "\n",
        "def subgraph_node_1(state: SubgraphState):\n",
        "    return {\"bar\": \"bar\"}\n",
        "\n",
        "def subgraph_node_2(state: SubgraphState):\n",
        "    # note that this node is using a state key ('bar') that is only available in the subgraph\n",
        "    # and is sending update on the shared state key ('foo')\n",
        "    return {\"foo\": state[\"foo\"] + state[\"bar\"]}\n",
        "\n",
        "subgraph_builder = StateGraph(SubgraphState)\n",
        "subgraph_builder.add_node(subgraph_node_1)\n",
        "subgraph_builder.add_node(subgraph_node_2)\n",
        "subgraph_builder.add_edge(START, \"subgraph_node_1\")\n",
        "subgraph_builder.add_edge(\"subgraph_node_1\", \"subgraph_node_2\")\n",
        "subgraph = subgraph_builder.compile()\n",
        "\n",
        "# Define parent graph\n",
        "class ParentState(TypedDict):\n",
        "    foo: str\n",
        "\n",
        "def node_1(state: ParentState):\n",
        "    return {\"foo\": \"hi! \" + state[\"foo\"]}\n",
        "\n",
        "builder = StateGraph(ParentState)\n",
        "builder.add_node(\"node_1\", node_1)\n",
        "builder.add_node(\"node_2\", subgraph)\n",
        "builder.add_edge(START, \"node_1\")\n",
        "builder.add_edge(\"node_1\", \"node_2\")\n",
        "graph = builder.compile()\n",
        "\n",
        "for chunk in graph.stream(\n",
        "    {\"foo\": \"foo\"},\n",
        "    stream_mode=\"updates\",\n",
        "    subgraphs=True, # (1)!\n",
        "):\n",
        "    print(chunk)"
      ],
      "metadata": {
        "colab": {
          "base_uri": "https://localhost:8080/"
        },
        "id": "TZR5q4Kx2--h",
        "outputId": "19aaca58-2df2-4493-e0dd-ff549dfe6038"
      },
      "execution_count": 9,
      "outputs": [
        {
          "output_type": "stream",
          "name": "stdout",
          "text": [
            "((), {'node_1': {'foo': 'hi! foo'}})\n",
            "(('node_2:5abbf12b-5bab-65a3-5d38-2e759be0d39f',), {'subgraph_node_1': {'bar': 'bar'}})\n",
            "(('node_2:5abbf12b-5bab-65a3-5d38-2e759be0d39f',), {'subgraph_node_2': {'foo': 'hi! foobar'}})\n",
            "((), {'node_2': {'foo': 'hi! foobar'}})\n"
          ]
        }
      ]
    }
  ]
}