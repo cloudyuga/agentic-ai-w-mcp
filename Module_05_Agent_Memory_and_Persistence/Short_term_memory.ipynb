{
  "nbformat": 4,
  "nbformat_minor": 0,
  "metadata": {
    "colab": {
      "provenance": []
    },
    "kernelspec": {
      "name": "python3",
      "display_name": "Python 3"
    },
    "language_info": {
      "name": "python"
    }
  },
  "cells": [
    {
      "cell_type": "markdown",
      "metadata": {
        "id": "f2066716"
      },
      "source": [
        "# LangChain Conversation with Memory 🧠💬\n",
        "\n",
        "This notebook demonstrates how to create a conversational AI using LangChain, incorporating memory to maintain context throughout the conversation. We'll be using `ConversationSummaryMemory` to summarize the conversation history, allowing the AI to remember past turns without needing to store the entire transcript.\n",
        "\n",
        "We'll also use `SQLChatMessageHistory` to persist the conversation history in a SQLite database, so you can pick up your conversation later! 💾\n",
        "\n",
        "Let's dive in! 👇"
      ]
    },
    {
      "cell_type": "code",
      "metadata": {
        "id": "eddec0df"
      },
      "source": [
        "# Install the required libraries\n",
        "!pip install langchain langchain-openai langchain-community SQLAlchemy"
      ],
      "execution_count": null,
      "outputs": []
    },
    {
      "cell_type": "markdown",
      "metadata": {
        "id": "6c06890a"
      },
      "source": [
        "## Setting up the OpenAI API Key 🔑\n",
        "\n",
        "To use LangChain with OpenAI's models, you need an OpenAI API key. We'll securely input the key using `getpass` to prevent it from being visible in the notebook output.\n",
        "\n",
        "**Note:** Make sure you have your OpenAI API key ready!"
      ]
    },
    {
      "cell_type": "code",
      "metadata": {
        "colab": {
          "base_uri": "https://localhost:8080/"
        },
        "id": "3a822379",
        "outputId": "a4ce5682-95b5-42fd-f5ae-9a1212ccdf37"
      },
      "source": [
        "import os\n",
        "from getpass import getpass\n",
        "\n",
        "# Set your OpenAI API key\n",
        "os.environ[\"OPENAI_API_KEY\"] = getpass(\"Enter your OpenAI API key: \")"
      ],
      "execution_count": 8,
      "outputs": [
        {
          "name": "stdout",
          "output_type": "stream",
          "text": [
            "Enter your OpenAI API key: ··········\n"
          ]
        }
      ]
    },
    {
      "cell_type": "markdown",
      "metadata": {
        "id": "7aada03b"
      },
      "source": [
        "## Initializing the Language Model (LLM) 🤖\n",
        "\n",
        "We'll use the `OpenAI` class from `langchain_openai` to initialize our language model. The `temperature` parameter controls the randomness of the AI's responses. A temperature of 0 means the AI will be more deterministic."
      ]
    },
    {
      "cell_type": "code",
      "metadata": {
        "id": "319f705f"
      },
      "source": [
        "from langchain_openai import OpenAI\n",
        "\n",
        "# Initialize the language model\n",
        "llm = OpenAI(temperature=0)"
      ],
      "execution_count": 9,
      "outputs": []
    },
    {
      "cell_type": "markdown",
      "metadata": {
        "id": "a0c2ab8b"
      },
      "source": [
        "## Setting up Conversation Memory with SQLite 🧠💾\n",
        "\n",
        "Here, we set up the conversation memory using `ConversationSummaryMemory` and `SQLChatMessageHistory`.\n",
        "\n",
        "- `SQLChatMessageHistory` stores the conversation history in a SQLite database file (`langchain_memory.db`). This allows us to persist the conversation across sessions.\n",
        "- `ConversationSummaryMemory` takes the chat history and uses the LLM to create a summary, which is then used as context for the next turn. This helps the AI remember the conversation without hitting context limits.\n",
        "\n",
        "We then create a `ConversationChain` that incorporates this summary memory. The `verbose=True` flag helps us see the prompt and the generated summary during the conversation."
      ]
    },
    {
      "cell_type": "code",
      "metadata": {
        "colab": {
          "base_uri": "https://localhost:8080/"
        },
        "id": "aa2be11a",
        "outputId": "78dcee19-e319-4846-c2de-a9e01dbf9dd3"
      },
      "source": [
        "from sqlalchemy import create_engine\n",
        "from langchain.chains import ConversationChain\n",
        "from langchain.memory import ConversationSummaryMemory\n",
        "from langchain_community.chat_message_histories import SQLChatMessageHistory\n",
        "\n",
        "# Define a session ID for our conversation\n",
        "session_id = \"my_conversation_session_1\"\n",
        "\n",
        "# Set up the SQLite connection using SQLAlchemy\n",
        "# The format is \"sqlite:///filename.db\"\n",
        "db_file = \"langchain_memory.db\"\n",
        "connection_string = f\"sqlite:///{db_file}\"\n",
        "engine = create_engine(connection_string)\n",
        "\n",
        "# Initialize SQLChatMessageHistory\n",
        "# We now pass the connection_string directly\n",
        "message_history = SQLChatMessageHistory(\n",
        "    session_id=session_id, connection_string=connection_string\n",
        ")\n",
        "\n",
        "# Initialize ConversationSummaryMemory with our SQLite message history\n",
        "summary_memory = ConversationSummaryMemory(\n",
        "    llm=llm,\n",
        "    chat_memory=message_history\n",
        ")\n",
        "\n",
        "# Create a new ConversationChain with summary memory\n",
        "conversation_with_summary_memory = ConversationChain(\n",
        "    llm=llm,\n",
        "    memory=summary_memory,\n",
        "    verbose=True  # Set to True to see the prompt and summary\n",
        ")\n",
        "\n",
        "# Let's have a conversation and see the summary in action\n",
        "print(conversation_with_summary_memory.predict(input=\"Hi, I'm planning a trip to Brazil.\"))\n",
        "print(conversation_with_summary_memory.predict(input=\"I want to visit Rio de Janeiro and the Amazon rainforest.\"))\n",
        "print(conversation_with_summary_memory.predict(input=\"What are some must-do activities in Rio?\"))\n",
        "\n",
        "# Let's ask a follow-up question that relies on the summary\n",
        "print(conversation_with_summary_memory.predict(input=\"Based on my plans, what's a good time of year to go?\"))"
      ],
      "execution_count": 10,
      "outputs": [
        {
          "output_type": "stream",
          "name": "stdout",
          "text": [
            "\n",
            "\n",
            "\u001b[1m> Entering new ConversationChain chain...\u001b[0m\n",
            "Prompt after formatting:\n",
            "\u001b[32;1m\u001b[1;3mThe following is a friendly conversation between a human and an AI. The AI is talkative and provides lots of specific details from its context. If the AI does not know the answer to a question, it truthfully says it does not know.\n",
            "\n",
            "Current conversation:\n",
            "\n",
            "Human: Hi, I'm planning a trip to Brazil.\n",
            "AI:\u001b[0m\n",
            "\n",
            "\u001b[1m> Finished chain.\u001b[0m\n",
            " That sounds exciting! Brazil is a beautiful country with a rich culture and diverse landscapes. Are you planning to visit any specific cities or regions? I can provide recommendations based on your interests and budget.\n",
            "\n",
            "\n",
            "\u001b[1m> Entering new ConversationChain chain...\u001b[0m\n",
            "Prompt after formatting:\n",
            "\u001b[32;1m\u001b[1;3mThe following is a friendly conversation between a human and an AI. The AI is talkative and provides lots of specific details from its context. If the AI does not know the answer to a question, it truthfully says it does not know.\n",
            "\n",
            "Current conversation:\n",
            "\n",
            "The human mentions planning a trip to Brazil. The AI expresses excitement and offers to provide recommendations based on the human's interests and budget.\n",
            "Human: I want to visit Rio de Janeiro and the Amazon rainforest.\n",
            "AI:\u001b[0m\n",
            "\n",
            "\u001b[1m> Finished chain.\u001b[0m\n",
            " That sounds like an amazing trip! Rio de Janeiro is known for its beautiful beaches, vibrant culture, and iconic landmarks like the Christ the Redeemer statue. The Amazon rainforest is a must-see for nature lovers, with its diverse wildlife and lush greenery. Would you like me to suggest specific activities or accommodations for your trip?\n",
            "\n",
            "\n",
            "\u001b[1m> Entering new ConversationChain chain...\u001b[0m\n",
            "Prompt after formatting:\n",
            "\u001b[32;1m\u001b[1;3mThe following is a friendly conversation between a human and an AI. The AI is talkative and provides lots of specific details from its context. If the AI does not know the answer to a question, it truthfully says it does not know.\n",
            "\n",
            "Current conversation:\n",
            "\n",
            "The human mentions planning a trip to Brazil. The AI expresses excitement and offers to provide recommendations based on the human's interests and budget. The human then mentions wanting to visit Rio de Janeiro and the Amazon rainforest, to which the AI responds with enthusiasm and offers to suggest specific activities or accommodations for the trip.\n",
            "Human: What are some must-do activities in Rio?\n",
            "AI:\u001b[0m\n",
            "\n",
            "\u001b[1m> Finished chain.\u001b[0m\n",
            " There are so many amazing things to do in Rio de Janeiro! Some popular activities include visiting the iconic Christ the Redeemer statue, taking a cable car ride up to Sugarloaf Mountain for stunning views of the city, and exploring the vibrant neighborhoods of Copacabana and Ipanema. If you're interested in history and culture, I would also recommend visiting the National Museum of Brazil and taking a tour of the historic Santa Teresa neighborhood. And of course, no trip to Rio is complete without experiencing the lively samba music and dance scene. Would you like me to suggest specific tours or activities for you to consider?\n",
            "\n",
            "\n",
            "\u001b[1m> Entering new ConversationChain chain...\u001b[0m\n",
            "Prompt after formatting:\n",
            "\u001b[32;1m\u001b[1;3mThe following is a friendly conversation between a human and an AI. The AI is talkative and provides lots of specific details from its context. If the AI does not know the answer to a question, it truthfully says it does not know.\n",
            "\n",
            "Current conversation:\n",
            "\n",
            "The human mentions planning a trip to Brazil. The AI expresses excitement and offers to provide recommendations based on the human's interests and budget. The human then mentions wanting to visit Rio de Janeiro and the Amazon rainforest, to which the AI responds with enthusiasm and offers to suggest specific activities or accommodations for the trip. The human asks for must-do activities in Rio, and the AI suggests visiting popular landmarks such as Christ the Redeemer and Sugarloaf Mountain, as well as exploring neighborhoods and experiencing the samba scene. The AI also offers to provide specific tour or activity recommendations.\n",
            "Human: Based on my plans, what's a good time of year to go?\n",
            "AI:\u001b[0m\n",
            "\n",
            "\u001b[1m> Finished chain.\u001b[0m\n",
            " That's a great question! The best time to visit Brazil is during their summer season, which runs from December to March. This is when the weather is warm and sunny, perfect for exploring Rio de Janeiro and the Amazon rainforest. However, keep in mind that this is also the peak tourist season, so prices may be higher and popular attractions may be more crowded. If you prefer a quieter and more budget-friendly trip, you may want to consider visiting during the shoulder seasons of April to June or September to November.\n"
          ]
        }
      ]
    }
  ]
}