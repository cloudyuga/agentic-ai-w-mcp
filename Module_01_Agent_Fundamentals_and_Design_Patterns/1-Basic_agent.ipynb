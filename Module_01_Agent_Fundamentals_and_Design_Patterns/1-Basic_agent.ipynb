{
  "cells": [
    {
      "cell_type": "markdown",
      "metadata": {
        "id": "QkcSSuRwsA9S"
      },
      "source": [
        "# Lab 1: Three Basic HR Agents\n",
        "\n",
        "**Learning Objectives:**\n",
        "- Build Agent 1: No tools, No memory (Basic chatbot)\n",
        "- Build Agent 2: With tools, No memory (Data lookup)\n",
        "- Build Agent 3: With tools, With memory (Full conversational agent)\n",
        "\n",
        "**Time:** 30 minutes"
      ]
    },
    {
      "cell_type": "markdown",
      "metadata": {
        "id": "z5DtTGzzsA9V"
      },
      "source": [
        "## Setup: Install Dependencies"
      ]
    },
    {
      "cell_type": "code",
      "execution_count": 2,
      "metadata": {
        "id": "qBL5mb80sA9W",
        "outputId": "befe3423-86ab-4ea1-da86-fbdb95cf92d3",
        "colab": {
          "base_uri": "https://localhost:8080/"
        }
      },
      "outputs": [
        {
          "output_type": "stream",
          "name": "stdout",
          "text": [
            "Requirement already satisfied: langchain in /usr/local/lib/python3.12/dist-packages (0.3.27)\n",
            "Collecting langchain\n",
            "  Downloading langchain-1.0.0a10-py3-none-any.whl.metadata (6.3 kB)\n",
            "Requirement already satisfied: langchain-openai in /usr/local/lib/python3.12/dist-packages (0.3.34)\n",
            "Collecting langchain-openai\n",
            "  Downloading langchain_openai-1.0.0a3-py3-none-any.whl.metadata (2.4 kB)\n",
            "Requirement already satisfied: langgraph in /usr/local/lib/python3.12/dist-packages (0.6.8)\n",
            "Collecting langgraph\n",
            "  Downloading langgraph-1.0.0a4-py3-none-any.whl.metadata (6.8 kB)\n",
            "Requirement already satisfied: langchain-core<2.0.0,>=0.3.75 in /usr/local/lib/python3.12/dist-packages (from langchain) (0.3.77)\n",
            "Requirement already satisfied: langchain-text-splitters<2.0.0,>=0.3.11 in /usr/local/lib/python3.12/dist-packages (from langchain) (0.3.11)\n",
            "Requirement already satisfied: pydantic<3.0.0,>=2.7.4 in /usr/local/lib/python3.12/dist-packages (from langchain) (2.11.9)\n",
            "Requirement already satisfied: langgraph-checkpoint<3.0.0,>=2.1.0 in /usr/local/lib/python3.12/dist-packages (from langgraph) (2.1.1)\n",
            "Collecting langgraph-prebuilt==0.7.0a2 (from langgraph)\n",
            "  Downloading langgraph_prebuilt-0.7.0a2-py3-none-any.whl.metadata (4.5 kB)\n",
            "Requirement already satisfied: langgraph-sdk<0.3.0,>=0.2.2 in /usr/local/lib/python3.12/dist-packages (from langgraph) (0.2.9)\n",
            "Requirement already satisfied: xxhash>=3.5.0 in /usr/local/lib/python3.12/dist-packages (from langgraph) (3.5.0)\n",
            "Collecting langchain-core<2.0.0,>=0.3.75 (from langchain)\n",
            "  Downloading langchain_core-1.0.0a6-py3-none-any.whl.metadata (3.2 kB)\n",
            "Requirement already satisfied: openai<2.0.0,>=1.109.1 in /usr/local/lib/python3.12/dist-packages (from langchain-openai) (1.109.1)\n",
            "Requirement already satisfied: tiktoken<1.0.0,>=0.7.0 in /usr/local/lib/python3.12/dist-packages (from langchain-openai) (0.11.0)\n",
            "Requirement already satisfied: langsmith<1.0.0,>=0.3.45 in /usr/local/lib/python3.12/dist-packages (from langchain-core<2.0.0,>=0.3.75->langchain) (0.4.31)\n",
            "Requirement already satisfied: tenacity!=8.4.0,<10.0.0,>=8.1.0 in /usr/local/lib/python3.12/dist-packages (from langchain-core<2.0.0,>=0.3.75->langchain) (8.5.0)\n",
            "Requirement already satisfied: jsonpatch<2.0.0,>=1.33.0 in /usr/local/lib/python3.12/dist-packages (from langchain-core<2.0.0,>=0.3.75->langchain) (1.33)\n",
            "Requirement already satisfied: PyYAML<7.0.0,>=5.3.0 in /usr/local/lib/python3.12/dist-packages (from langchain-core<2.0.0,>=0.3.75->langchain) (6.0.3)\n",
            "Requirement already satisfied: typing-extensions<5.0.0,>=4.7.0 in /usr/local/lib/python3.12/dist-packages (from langchain-core<2.0.0,>=0.3.75->langchain) (4.15.0)\n",
            "Requirement already satisfied: packaging<26.0.0,>=23.2.0 in /usr/local/lib/python3.12/dist-packages (from langchain-core<2.0.0,>=0.3.75->langchain) (25.0)\n",
            "Requirement already satisfied: ormsgpack>=1.10.0 in /usr/local/lib/python3.12/dist-packages (from langgraph-checkpoint<3.0.0,>=2.1.0->langgraph) (1.10.0)\n",
            "Requirement already satisfied: httpx>=0.25.2 in /usr/local/lib/python3.12/dist-packages (from langgraph-sdk<0.3.0,>=0.2.2->langgraph) (0.28.1)\n",
            "Requirement already satisfied: orjson>=3.10.1 in /usr/local/lib/python3.12/dist-packages (from langgraph-sdk<0.3.0,>=0.2.2->langgraph) (3.11.3)\n",
            "Requirement already satisfied: anyio<5,>=3.5.0 in /usr/local/lib/python3.12/dist-packages (from openai<2.0.0,>=1.109.1->langchain-openai) (4.11.0)\n",
            "Requirement already satisfied: distro<2,>=1.7.0 in /usr/local/lib/python3.12/dist-packages (from openai<2.0.0,>=1.109.1->langchain-openai) (1.9.0)\n",
            "Requirement already satisfied: jiter<1,>=0.4.0 in /usr/local/lib/python3.12/dist-packages (from openai<2.0.0,>=1.109.1->langchain-openai) (0.11.0)\n",
            "Requirement already satisfied: sniffio in /usr/local/lib/python3.12/dist-packages (from openai<2.0.0,>=1.109.1->langchain-openai) (1.3.1)\n",
            "Requirement already satisfied: tqdm>4 in /usr/local/lib/python3.12/dist-packages (from openai<2.0.0,>=1.109.1->langchain-openai) (4.67.1)\n",
            "Requirement already satisfied: annotated-types>=0.6.0 in /usr/local/lib/python3.12/dist-packages (from pydantic<3.0.0,>=2.7.4->langchain) (0.7.0)\n",
            "Requirement already satisfied: pydantic-core==2.33.2 in /usr/local/lib/python3.12/dist-packages (from pydantic<3.0.0,>=2.7.4->langchain) (2.33.2)\n",
            "Requirement already satisfied: typing-inspection>=0.4.0 in /usr/local/lib/python3.12/dist-packages (from pydantic<3.0.0,>=2.7.4->langchain) (0.4.2)\n",
            "Requirement already satisfied: regex>=2022.1.18 in /usr/local/lib/python3.12/dist-packages (from tiktoken<1.0.0,>=0.7.0->langchain-openai) (2024.11.6)\n",
            "Requirement already satisfied: requests>=2.26.0 in /usr/local/lib/python3.12/dist-packages (from tiktoken<1.0.0,>=0.7.0->langchain-openai) (2.32.4)\n",
            "Requirement already satisfied: idna>=2.8 in /usr/local/lib/python3.12/dist-packages (from anyio<5,>=3.5.0->openai<2.0.0,>=1.109.1->langchain-openai) (3.10)\n",
            "Requirement already satisfied: certifi in /usr/local/lib/python3.12/dist-packages (from httpx>=0.25.2->langgraph-sdk<0.3.0,>=0.2.2->langgraph) (2025.8.3)\n",
            "Requirement already satisfied: httpcore==1.* in /usr/local/lib/python3.12/dist-packages (from httpx>=0.25.2->langgraph-sdk<0.3.0,>=0.2.2->langgraph) (1.0.9)\n",
            "Requirement already satisfied: h11>=0.16 in /usr/local/lib/python3.12/dist-packages (from httpcore==1.*->httpx>=0.25.2->langgraph-sdk<0.3.0,>=0.2.2->langgraph) (0.16.0)\n",
            "Requirement already satisfied: jsonpointer>=1.9 in /usr/local/lib/python3.12/dist-packages (from jsonpatch<2.0.0,>=1.33.0->langchain-core<2.0.0,>=0.3.75->langchain) (3.0.0)\n",
            "Requirement already satisfied: requests-toolbelt>=1.0.0 in /usr/local/lib/python3.12/dist-packages (from langsmith<1.0.0,>=0.3.45->langchain-core<2.0.0,>=0.3.75->langchain) (1.0.0)\n",
            "Requirement already satisfied: zstandard>=0.23.0 in /usr/local/lib/python3.12/dist-packages (from langsmith<1.0.0,>=0.3.45->langchain-core<2.0.0,>=0.3.75->langchain) (0.25.0)\n",
            "Requirement already satisfied: charset_normalizer<4,>=2 in /usr/local/lib/python3.12/dist-packages (from requests>=2.26.0->tiktoken<1.0.0,>=0.7.0->langchain-openai) (3.4.3)\n",
            "Requirement already satisfied: urllib3<3,>=1.21.1 in /usr/local/lib/python3.12/dist-packages (from requests>=2.26.0->tiktoken<1.0.0,>=0.7.0->langchain-openai) (2.5.0)\n",
            "Downloading langchain-1.0.0a10-py3-none-any.whl (71 kB)\n",
            "\u001b[2K   \u001b[90m━━━━━━━━━━━━━━━━━━━━━━━━━━━━━━━━━━━━━━━━\u001b[0m \u001b[32m71.5/71.5 kB\u001b[0m \u001b[31m2.7 MB/s\u001b[0m eta \u001b[36m0:00:00\u001b[0m\n",
            "\u001b[?25hDownloading langgraph-1.0.0a4-py3-none-any.whl (154 kB)\n",
            "\u001b[2K   \u001b[90m━━━━━━━━━━━━━━━━━━━━━━━━━━━━━━━━━━━━━━━━\u001b[0m \u001b[32m154.9/154.9 kB\u001b[0m \u001b[31m7.8 MB/s\u001b[0m eta \u001b[36m0:00:00\u001b[0m\n",
            "\u001b[?25hDownloading langgraph_prebuilt-0.7.0a2-py3-none-any.whl (28 kB)\n",
            "Downloading langchain_openai-1.0.0a3-py3-none-any.whl (77 kB)\n",
            "\u001b[2K   \u001b[90m━━━━━━━━━━━━━━━━━━━━━━━━━━━━━━━━━━━━━━━━\u001b[0m \u001b[32m77.4/77.4 kB\u001b[0m \u001b[31m6.1 MB/s\u001b[0m eta \u001b[36m0:00:00\u001b[0m\n",
            "\u001b[?25hDownloading langchain_core-1.0.0a6-py3-none-any.whl (484 kB)\n",
            "\u001b[2K   \u001b[90m━━━━━━━━━━━━━━━━━━━━━━━━━━━━━━━━━━━━━━━━\u001b[0m \u001b[32m484.6/484.6 kB\u001b[0m \u001b[31m18.6 MB/s\u001b[0m eta \u001b[36m0:00:00\u001b[0m\n",
            "\u001b[?25hInstalling collected packages: langchain-core, langchain-openai, langgraph-prebuilt, langgraph, langchain\n",
            "  Attempting uninstall: langchain-core\n",
            "    Found existing installation: langchain-core 0.3.77\n",
            "    Uninstalling langchain-core-0.3.77:\n",
            "      Successfully uninstalled langchain-core-0.3.77\n",
            "  Attempting uninstall: langchain-openai\n",
            "    Found existing installation: langchain-openai 0.3.34\n",
            "    Uninstalling langchain-openai-0.3.34:\n",
            "      Successfully uninstalled langchain-openai-0.3.34\n",
            "  Attempting uninstall: langgraph-prebuilt\n",
            "    Found existing installation: langgraph-prebuilt 0.6.4\n",
            "    Uninstalling langgraph-prebuilt-0.6.4:\n",
            "      Successfully uninstalled langgraph-prebuilt-0.6.4\n",
            "  Attempting uninstall: langgraph\n",
            "    Found existing installation: langgraph 0.6.8\n",
            "    Uninstalling langgraph-0.6.8:\n",
            "      Successfully uninstalled langgraph-0.6.8\n",
            "  Attempting uninstall: langchain\n",
            "    Found existing installation: langchain 0.3.27\n",
            "    Uninstalling langchain-0.3.27:\n",
            "      Successfully uninstalled langchain-0.3.27\n",
            "Successfully installed langchain-1.0.0a10 langchain-core-1.0.0a6 langchain-openai-1.0.0a3 langgraph-1.0.0a4 langgraph-prebuilt-0.7.0a2\n"
          ]
        }
      ],
      "source": [
        "!pip install --pre -U langchain langchain-openai langgraph"
      ]
    },
    {
      "cell_type": "markdown",
      "metadata": {
        "id": "4hQBMgIKsA9X"
      },
      "source": [
        "## Setup: Configure OpenAI API Key"
      ]
    },
    {
      "cell_type": "code",
      "source": [
        "# Retrieve the API key from Colab's secrets\n",
        "from google.colab import userdata\n",
        "OPENAI_API_KEY = userdata.get('OPENAI_API_KEY')"
      ],
      "metadata": {
        "id": "pEjxdSrpsxCK"
      },
      "execution_count": 3,
      "outputs": []
    },
    {
      "cell_type": "code",
      "source": [
        "# Set OPENAI_API_KEY as an ENV\n",
        "import os\n",
        "os.environ['OPENAI_API_KEY'] = OPENAI_API_KEY"
      ],
      "metadata": {
        "id": "HMNtEQPfsx7p"
      },
      "execution_count": 4,
      "outputs": []
    },
    {
      "cell_type": "markdown",
      "metadata": {
        "id": "chXOu0aasA9Y"
      },
      "source": [
        "---\n",
        "# Agent 1: WITHOUT Tools and WITHOUT Memory\n",
        "\n",
        "**Features:**\n",
        "- ❌ No tools\n",
        "- ❌ No memory\n",
        "- ✅ Can answer general questions using LLM knowledge"
      ]
    },
    {
      "cell_type": "code",
      "execution_count": 5,
      "metadata": {
        "id": "3ErEDWHBsA9Y",
        "outputId": "71183c22-3bb5-4c05-b53c-9583a60a445b",
        "colab": {
          "base_uri": "https://localhost:8080/"
        }
      },
      "outputs": [
        {
          "output_type": "stream",
          "name": "stdout",
          "text": [
            "✅ Agent 1 created: NO tools, NO memory\n",
            "============================================================\n"
          ]
        }
      ],
      "source": [
        "from langchain.agents import create_agent\n",
        "\n",
        "# Create Agent 1: No tools, No memory\n",
        "agent_1 = create_agent(\n",
        "    model=\"openai:gpt-4o-mini\",\n",
        "    tools=[],  # Empty list = No tools!\n",
        "    prompt=\"You are an HR assistant. You can chat and answer general HR questions.\",\n",
        ")\n",
        "\n",
        "print(\"✅ Agent 1 created: NO tools, NO memory\")\n",
        "print(\"=\"*60)"
      ]
    },
    {
      "cell_type": "markdown",
      "metadata": {
        "id": "sqVEqQF9sA9Z"
      },
      "source": [
        "### Test Agent 1"
      ]
    },
    {
      "cell_type": "code",
      "execution_count": 6,
      "metadata": {
        "id": "lksfls8fsA9Z",
        "outputId": "84c70c57-bd94-4563-ea13-026da409a95f",
        "colab": {
          "base_uri": "https://localhost:8080/"
        }
      },
      "outputs": [
        {
          "output_type": "stream",
          "name": "stdout",
          "text": [
            "Question: What are common HR policies?\n",
            "\n",
            "Agent 1 Response:\n",
            "Common HR policies include:\n",
            "\n",
            "1. **Equal Employment Opportunity (EEO) Policy**: Ensures a workplace free from discrimination based on race, gender, age, religion, disability, or other protected characteristics.\n",
            "\n",
            "2. **Harassment Policy**: Outlines unacceptable behavior, such as sexual harassment, and procedures for reporting incidents.\n",
            "\n",
            "3. **Code of Conduct**: Sets expectations for employee behavior, including professionalism, integrity, and compliance with laws.\n",
            "\n",
            "4. **Attendance and Punctuality Policy**: Details expectations for work hours, reporting absences, and consequences for violations.\n",
            "\n",
            "5. **Leave of Absence Policy**: Covers types of leave available (e.g., sick leave, vacation, FMLA) and procedures for requesting leave.\n",
            "\n",
            "6. **Performance Review Policy**: Establishes a process for evaluating employee performance, including frequency and criteria.\n",
            "\n",
            "7. **Compensation and Benefits Policy**: Outlines how salaries, bonuses, and benefits are determined and administered.\n",
            "\n",
            "8. **Remote Work Policy**: Guidelines on eligibility, responsibilities, and expectations for employees working from home or remotely.\n",
            "\n",
            "9. **Disciplinary Action Policy**: Provides a framework for addressing employee misconduct, outlining steps for investigation and consequences.\n",
            "\n",
            "10. **Health and Safety Policy**: Ensures a safe work environment, detailing procedures for reporting injuries and workplace hazards.\n",
            "\n",
            "11. **Confidentiality and Data Protection Policy**: Addresses how employee data is handled and the importance of maintaining confidentiality.\n",
            "\n",
            "12. **Employee Training and Development Policy**: Encourages ongoing professional development and outlines available training opportunities.\n",
            "\n",
            "Each organization may tailor these policies based on its specific needs and legal requirements.\n"
          ]
        }
      ],
      "source": [
        "# Test Agent 1 with a general HR question\n",
        "result = agent_1.invoke({\n",
        "    \"messages\": [{\"role\": \"user\", \"content\": \"What are common HR policies?\"}]\n",
        "})\n",
        "\n",
        "print(\"Question: What are common HR policies?\")\n",
        "print(\"\\nAgent 1 Response:\")\n",
        "print(result['messages'][-1].content)"
      ]
    },
    {
      "cell_type": "code",
      "execution_count": 7,
      "metadata": {
        "id": "5RFhbvUQsA9Z",
        "outputId": "8d69ad70-d125-4645-a18e-2f6d45057a83",
        "colab": {
          "base_uri": "https://localhost:8080/"
        }
      },
      "outputs": [
        {
          "output_type": "stream",
          "name": "stdout",
          "text": [
            "Question: Can you give me 3 examples?\n",
            "\n",
            "Agent 1 Response:\n",
            "Sure! Could you please specify what type of examples you are looking for? For instance, are you interested in examples related to HR policies, employee engagement strategies, interview questions, or something else?\n",
            "\n",
            "⚠️ Notice: Agent doesn't know what examples to give (no memory of previous question)\n"
          ]
        }
      ],
      "source": [
        "# Try a follow-up question - NO MEMORY, so won't remember context\n",
        "result = agent_1.invoke({\n",
        "    \"messages\": [{\"role\": \"user\", \"content\": \"Can you give me 3 examples?\"}]\n",
        "})\n",
        "\n",
        "print(\"Question: Can you give me 3 examples?\")\n",
        "print(\"\\nAgent 1 Response:\")\n",
        "print(result['messages'][-1].content)\n",
        "print(\"\\n⚠️ Notice: Agent doesn't know what examples to give (no memory of previous question)\")"
      ]
    },
    {
      "cell_type": "markdown",
      "metadata": {
        "id": "-XTITvKOsA9a"
      },
      "source": [
        "---\n",
        "# Define Tools (for Agent 2 and 3)\n",
        "\n",
        "We'll create two simple tools:\n",
        "1. **get_employee_info** - Look up employee details\n",
        "2. **check_leave_balance** - Check leave days remaining"
      ]
    },
    {
      "cell_type": "code",
      "execution_count": 8,
      "metadata": {
        "id": "BcrHmGOTsA9a",
        "outputId": "3b09b58b-ff1e-41e1-cd2b-8ec7905824e2",
        "colab": {
          "base_uri": "https://localhost:8080/"
        }
      },
      "outputs": [
        {
          "output_type": "stream",
          "name": "stdout",
          "text": [
            "✅ Tools defined:\n",
            "   1. get_employee_info - Look up employee details\n",
            "   2. check_leave_balance - Check leave balance\n",
            "\n",
            "📋 Employee Database:\n",
            "   101: Priya Sharma\n",
            "   102: Rahul Verma\n",
            "   103: Anjali Patel\n",
            "   104: Arjun Reddy\n",
            "   105: Sneha Gupta\n"
          ]
        }
      ],
      "source": [
        "# Tool 1: Get Employee Information\n",
        "def get_employee_info(employee_id: str) -> str:\n",
        "    \"\"\"Get employee information by ID.\"\"\"\n",
        "    employees = {\n",
        "        \"101\": \"Priya Sharma - Engineering - Senior Developer\",\n",
        "        \"102\": \"Rahul Verma - Engineering - Manager\",\n",
        "        \"103\": \"Anjali Patel - HR - Director\",\n",
        "        \"104\": \"Arjun Reddy - Sales - Team Lead\",\n",
        "        \"105\": \"Sneha Gupta - Marketing - Specialist\"\n",
        "    }\n",
        "    return employees.get(employee_id, f\"Employee {employee_id} not found\")\n",
        "\n",
        "# Tool 2: Check Leave Balance\n",
        "def check_leave_balance(employee_id: str) -> str:\n",
        "    \"\"\"Check remaining leave days for an employee by ID.\"\"\"\n",
        "    leave_data = {\n",
        "        \"101\": \"Priya Sharma has 12 days of leave remaining\",\n",
        "        \"102\": \"Rahul Verma has 8 days of leave remaining\",\n",
        "        \"103\": \"Anjali Patel has 15 days of leave remaining\",\n",
        "        \"104\": \"Arjun Reddy has 10 days of leave remaining\",\n",
        "        \"105\": \"Sneha Gupta has 5 days of leave remaining\"\n",
        "    }\n",
        "    return leave_data.get(employee_id, f\"Leave data for employee {employee_id} not found\")\n",
        "\n",
        "print(\"✅ Tools defined:\")\n",
        "print(\"   1. get_employee_info - Look up employee details\")\n",
        "print(\"   2. check_leave_balance - Check leave balance\")\n",
        "print(\"\\n📋 Employee Database:\")\n",
        "print(\"   101: Priya Sharma\")\n",
        "print(\"   102: Rahul Verma\")\n",
        "print(\"   103: Anjali Patel\")\n",
        "print(\"   104: Arjun Reddy\")\n",
        "print(\"   105: Sneha Gupta\")"
      ]
    },
    {
      "cell_type": "markdown",
      "metadata": {
        "id": "DY-jqQ8esA9a"
      },
      "source": [
        "---\n",
        "# Agent 2: WITH Tools but WITHOUT Memory\n",
        "\n",
        "**Features:**\n",
        "- ✅ Has tools (can access employee data)\n",
        "- ❌ No memory (each question is independent)\n",
        "- ✅ Good for one-time lookups"
      ]
    },
    {
      "cell_type": "code",
      "execution_count": 9,
      "metadata": {
        "id": "7UCZMx7ZsA9b",
        "outputId": "c9f9b7f0-730a-4529-affe-740b0a81319d",
        "colab": {
          "base_uri": "https://localhost:8080/"
        }
      },
      "outputs": [
        {
          "output_type": "stream",
          "name": "stdout",
          "text": [
            "✅ Agent 2 created: HAS tools, NO memory\n",
            "============================================================\n"
          ]
        }
      ],
      "source": [
        "# Create Agent 2: With tools, No memory\n",
        "agent_2 = create_agent(\n",
        "    model=\"openai:gpt-4o-mini\",\n",
        "    tools=[get_employee_info, check_leave_balance],  # Has tools!\n",
        "    prompt=\"You are an HR assistant. Use tools to help users find employee information and check leave balances.\",\n",
        "    # No checkpointer = No memory!\n",
        ")\n",
        "\n",
        "print(\"✅ Agent 2 created: HAS tools, NO memory\")\n",
        "print(\"=\"*60)"
      ]
    },
    {
      "cell_type": "markdown",
      "metadata": {
        "id": "6OOoEBUwsA9b"
      },
      "source": [
        "### Test Agent 2 - Tool Usage"
      ]
    },
    {
      "cell_type": "code",
      "execution_count": 10,
      "metadata": {
        "id": "J3kjSxTXsA9b",
        "outputId": "3dc0ff17-988a-47b8-ac70-9a727ed9a6c4",
        "colab": {
          "base_uri": "https://localhost:8080/"
        }
      },
      "outputs": [
        {
          "output_type": "stream",
          "name": "stdout",
          "text": [
            "Question: Who is employee 101?\n",
            "\n",
            "Agent 2 Response:\n",
            "Employee 101 is Priya Sharma, who works in the Engineering department as a Senior Developer.\n",
            "\n",
            "✅ Agent used get_employee_info tool!\n"
          ]
        }
      ],
      "source": [
        "# Test: Ask about employee info\n",
        "result = agent_2.invoke({\n",
        "    \"messages\": [{\"role\": \"user\", \"content\": \"Who is employee 101?\"}]\n",
        "})\n",
        "\n",
        "print(\"Question: Who is employee 101?\")\n",
        "print(\"\\nAgent 2 Response:\")\n",
        "print(result['messages'][-1].content)\n",
        "print(\"\\n✅ Agent used get_employee_info tool!\")"
      ]
    },
    {
      "cell_type": "code",
      "execution_count": 11,
      "metadata": {
        "id": "qRA-mSUYsA9b",
        "outputId": "96b2848f-8e4a-482f-c900-87bd634b5b2e",
        "colab": {
          "base_uri": "https://localhost:8080/"
        }
      },
      "outputs": [
        {
          "output_type": "stream",
          "name": "stdout",
          "text": [
            "Question: How many leave days does employee 102 have?\n",
            "\n",
            "Agent 2 Response:\n",
            "Employee 102, Rahul Verma, has 8 days of leave remaining.\n",
            "\n",
            "✅ Agent used check_leave_balance tool!\n"
          ]
        }
      ],
      "source": [
        "# Test: Ask about leave balance\n",
        "result = agent_2.invoke({\n",
        "    \"messages\": [{\"role\": \"user\", \"content\": \"How many leave days does employee 102 have?\"}]\n",
        "})\n",
        "\n",
        "print(\"Question: How many leave days does employee 102 have?\")\n",
        "print(\"\\nAgent 2 Response:\")\n",
        "print(result['messages'][-1].content)\n",
        "print(\"\\n✅ Agent used check_leave_balance tool!\")"
      ]
    },
    {
      "cell_type": "markdown",
      "metadata": {
        "id": "PLaBCHjtsA9b"
      },
      "source": [
        "### Test Agent 2 - No Memory Problem"
      ]
    },
    {
      "cell_type": "code",
      "execution_count": 13,
      "metadata": {
        "id": "COAagzHksA9c",
        "outputId": "421ade49-587a-46bc-fea6-7f44fb57d2c3",
        "colab": {
          "base_uri": "https://localhost:8080/"
        }
      },
      "outputs": [
        {
          "output_type": "stream",
          "name": "stdout",
          "text": [
            "Question: What department is she in?\n",
            "\n",
            "Agent 2 Response:\n",
            "I can help you with that! Please provide the employee's ID so I can retrieve the information.\n",
            "\n",
            "⚠️ Problem: Agent doesn't know who 'she' refers to (no memory!)\n"
          ]
        }
      ],
      "source": [
        "# Try a follow-up question - NO MEMORY\n",
        "result = agent_2.invoke({\n",
        "    \"messages\": [{\"role\": \"user\", \"content\": \"What department is she in?\"}]\n",
        "})\n",
        "\n",
        "print(\"Question: What department is she in?\")\n",
        "print(\"\\nAgent 2 Response:\")\n",
        "print(result['messages'][-1].content)\n",
        "print(\"\\n⚠️ Problem: Agent doesn't know who 'she' refers to (no memory!)\")"
      ]
    },
    {
      "cell_type": "markdown",
      "metadata": {
        "id": "4UiW_i5EsA9c"
      },
      "source": [
        "---\n",
        "# Agent 3: WITH Tools AND WITH Memory\n",
        "\n",
        "**Features:**\n",
        "- ✅ Has tools (can access employee data)\n",
        "- ✅ Has memory (remembers conversation)\n",
        "- ✅ Can handle follow-up questions\n",
        "- ✅ Best for real conversations"
      ]
    },
    {
      "cell_type": "code",
      "execution_count": 14,
      "metadata": {
        "id": "Gk0T-LxWsA9c",
        "outputId": "2f56ca6c-d151-43f5-80e9-c1e687737b6b",
        "colab": {
          "base_uri": "https://localhost:8080/"
        }
      },
      "outputs": [
        {
          "output_type": "stream",
          "name": "stdout",
          "text": [
            "✅ Agent 3 created: HAS tools, HAS memory\n",
            "============================================================\n"
          ]
        }
      ],
      "source": [
        "from langgraph.checkpoint.memory import InMemorySaver\n",
        "\n",
        "# Create memory\n",
        "checkpointer = InMemorySaver()\n",
        "\n",
        "# Create Agent 3: With tools AND with memory\n",
        "agent_3 = create_agent(\n",
        "    model=\"openai:gpt-4o-mini\",\n",
        "    tools=[get_employee_info, check_leave_balance],  # Has tools!\n",
        "    prompt=\"You are an HR assistant. Use tools to help users find employee information and check leave balances.\",\n",
        "    checkpointer=checkpointer  # Has memory!\n",
        ")\n",
        "\n",
        "print(\"✅ Agent 3 created: HAS tools, HAS memory\")\n",
        "print(\"=\"*60)"
      ]
    },
    {
      "cell_type": "markdown",
      "metadata": {
        "id": "BRL_id8VsA9c"
      },
      "source": [
        "### Test Agent 3 - With Memory"
      ]
    },
    {
      "cell_type": "code",
      "execution_count": 15,
      "metadata": {
        "id": "-laODyIksA9c",
        "outputId": "809db0b8-7dcf-448f-9bbc-df79154cc2f8",
        "colab": {
          "base_uri": "https://localhost:8080/"
        }
      },
      "outputs": [
        {
          "output_type": "stream",
          "name": "stdout",
          "text": [
            "Question 1: Who is employee 101?\n",
            "\n",
            "Agent 3 Response:\n",
            "Employee 101 is Priya Sharma, who works in the Engineering department as a Senior Developer.\n"
          ]
        }
      ],
      "source": [
        "# Start a conversation with thread_id\n",
        "config = {\"configurable\": {\"thread_id\": \"conversation_1\"}}\n",
        "\n",
        "# First question\n",
        "result = agent_3.invoke(\n",
        "    {\"messages\": [{\"role\": \"user\", \"content\": \"Who is employee 101?\"}]},\n",
        "    config\n",
        ")\n",
        "\n",
        "print(\"Question 1: Who is employee 101?\")\n",
        "print(\"\\nAgent 3 Response:\")\n",
        "print(result['messages'][-1].content)"
      ]
    },
    {
      "cell_type": "code",
      "execution_count": 16,
      "metadata": {
        "id": "4LlRuhHXsA9d",
        "outputId": "53fd8c55-e9b0-4453-b606-c9c164152f22",
        "colab": {
          "base_uri": "https://localhost:8080/"
        }
      },
      "outputs": [
        {
          "output_type": "stream",
          "name": "stdout",
          "text": [
            "Question 2: What's her leave balance?\n",
            "\n",
            "Agent 3 Response:\n",
            "Priya Sharma has 12 days of leave remaining.\n",
            "\n",
            "✅ Success: Agent remembers we're talking about Priya Sharma (employee 101)!\n"
          ]
        }
      ],
      "source": [
        "# Follow-up question - MEMORY WORKS!\n",
        "result = agent_3.invoke(\n",
        "    {\"messages\": [{\"role\": \"user\", \"content\": \"What's her leave balance?\"}]},\n",
        "    config  # Same thread_id\n",
        ")\n",
        "\n",
        "print(\"Question 2: What's her leave balance?\")\n",
        "print(\"\\nAgent 3 Response:\")\n",
        "print(result['messages'][-1].content)\n",
        "print(\"\\n✅ Success: Agent remembers we're talking about Priya Sharma (employee 101)!\")"
      ]
    },
    {
      "cell_type": "code",
      "execution_count": 17,
      "metadata": {
        "id": "Qte5rd8AsA9d",
        "outputId": "94ba9109-8a32-4b41-f8aa-b798dd212c41",
        "colab": {
          "base_uri": "https://localhost:8080/"
        }
      },
      "outputs": [
        {
          "output_type": "stream",
          "name": "stdout",
          "text": [
            "Question 3: What department is she in?\n",
            "\n",
            "Agent 3 Response:\n",
            "Priya Sharma is in the Engineering department.\n",
            "\n",
            "✅ Success: Agent still remembers the context!\n"
          ]
        }
      ],
      "source": [
        "# Another follow-up\n",
        "result = agent_3.invoke(\n",
        "    {\"messages\": [{\"role\": \"user\", \"content\": \"What department is she in?\"}]},\n",
        "    config\n",
        ")\n",
        "\n",
        "print(\"Question 3: What department is she in?\")\n",
        "print(\"\\nAgent 3 Response:\")\n",
        "print(result['messages'][-1].content)\n",
        "print(\"\\n✅ Success: Agent still remembers the context!\")"
      ]
    },
    {
      "cell_type": "markdown",
      "metadata": {
        "id": "K7GMgx-xsA9d"
      },
      "source": [
        "### Test Agent 3 - Complex Memory"
      ]
    },
    {
      "cell_type": "code",
      "execution_count": 18,
      "metadata": {
        "id": "9Xc2gBFNsA9d",
        "outputId": "fa3b38dc-779b-4d7d-86d4-4a1935c0ca28",
        "colab": {
          "base_uri": "https://localhost:8080/"
        }
      },
      "outputs": [
        {
          "output_type": "stream",
          "name": "stdout",
          "text": [
            "Question 4: Now tell me about employee 102\n",
            "\n",
            "Agent 3 Response:\n",
            "Employee 102 is Rahul Verma, who works in the Engineering department as a Manager.\n"
          ]
        }
      ],
      "source": [
        "# Ask about another employee\n",
        "result = agent_3.invoke(\n",
        "    {\"messages\": [{\"role\": \"user\", \"content\": \"Now tell me about employee 102\"}]},\n",
        "    config\n",
        ")\n",
        "\n",
        "print(\"Question 4: Now tell me about employee 102\")\n",
        "print(\"\\nAgent 3 Response:\")\n",
        "print(result['messages'][-1].content)"
      ]
    },
    {
      "cell_type": "code",
      "execution_count": 19,
      "metadata": {
        "id": "KU67H5C_sA9d",
        "outputId": "05c8034c-5be1-4179-e195-c6cb7b020db3",
        "colab": {
          "base_uri": "https://localhost:8080/"
        }
      },
      "outputs": [
        {
          "output_type": "stream",
          "name": "stdout",
          "text": [
            "Question 5: Who has more leave days, the first employee or this one?\n",
            "\n",
            "Agent 3 Response:\n",
            "Priya Sharma (employee 101) has 12 days of leave remaining, while Rahul Verma (employee 102) has 8 days of leave remaining. Therefore, Priya Sharma has more leave days.\n",
            "\n",
            "✅ Amazing: Agent remembers BOTH employee 101 (Priya) AND 102 (Rahul)!\n"
          ]
        }
      ],
      "source": [
        "# Ask to compare - needs memory of BOTH employees!\n",
        "result = agent_3.invoke(\n",
        "    {\"messages\": [{\"role\": \"user\", \"content\": \"Who has more leave days, the first employee or this one?\"}]},\n",
        "    config\n",
        ")\n",
        "\n",
        "print(\"Question 5: Who has more leave days, the first employee or this one?\")\n",
        "print(\"\\nAgent 3 Response:\")\n",
        "print(result['messages'][-1].content)\n",
        "print(\"\\n✅ Amazing: Agent remembers BOTH employee 101 (Priya) AND 102 (Rahul)!\")"
      ]
    },
    {
      "cell_type": "markdown",
      "metadata": {
        "id": "tqT8exzHsA9e"
      },
      "source": [
        "---\n",
        "# Comparison: All Three Agents"
      ]
    },
    {
      "cell_type": "markdown",
      "metadata": {
        "id": "PEsc14EGsA9e"
      },
      "source": [
        "## Summary Table\n",
        "\n",
        "| Feature | Agent 1 | Agent 2 | Agent 3 |\n",
        "|---------|---------|---------|----------|\n",
        "| **Tools** | ❌ No | ✅ Yes | ✅ Yes |\n",
        "| **Memory** | ❌ No | ❌ No | ✅ Yes |\n",
        "| **Access employee data** | ❌ No | ✅ Yes | ✅ Yes |\n",
        "| **Remember conversation** | ❌ No | ❌ No | ✅ Yes |\n",
        "| **Handle follow-ups** | ❌ No | ❌ No | ✅ Yes |\n",
        "| **Use case** | General chat | One-time lookups | Full HR assistant |"
      ]
    },
    {
      "cell_type": "markdown",
      "metadata": {
        "id": "_GeeZwlMsA9e"
      },
      "source": [
        "## Side-by-Side Test"
      ]
    },
    {
      "cell_type": "code",
      "execution_count": 21,
      "metadata": {
        "id": "LPy5aYxesA9e",
        "outputId": "5a0d1437-77f2-476d-c255-8fd95717ed4a",
        "colab": {
          "base_uri": "https://localhost:8080/"
        }
      },
      "outputs": [
        {
          "output_type": "stream",
          "name": "stdout",
          "text": [
            "================================================================================\n",
            "Testing all agents with: 'Tell me about employee 103'\n",
            "================================================================================\n",
            "\n",
            "🤖 Agent 1 (No tools, No memory):\n",
            "------------------------------------------------------------\n",
            "I'm sorry, but I can't provide specific information about employees, including employee 103, due to privacy and confidentiality protocols. However, I can help answer general HR questions or provide information on topics like employee benefits, performance management, recruitment, and more. How can I assist you today?\n",
            "\n",
            "🤖 Agent 2 (With tools, No memory):\n",
            "------------------------------------------------------------\n",
            "Employee 103 is Anjali Patel, who holds the position of Director in the HR department.\n",
            "\n",
            "🤖 Agent 3 (With tools, With memory):\n",
            "------------------------------------------------------------\n",
            "Employee 103 is Anjali Patel, who serves as the Director in the HR department.\n",
            "\n",
            "================================================================================\n"
          ]
        }
      ],
      "source": [
        "test_question = \"Tell me about employee 103\"\n",
        "\n",
        "print(\"=\"*80)\n",
        "print(f\"Testing all agents with: '{test_question}'\")\n",
        "print(\"=\"*80)\n",
        "\n",
        "# Agent 1\n",
        "print(\"\\n🤖 Agent 1 (No tools, No memory):\")\n",
        "print(\"-\" * 60)\n",
        "result1 = agent_1.invoke({\n",
        "    \"messages\": [{\"role\": \"user\", \"content\": test_question}]\n",
        "})\n",
        "print(result1['messages'][-1].content)\n",
        "\n",
        "# Agent 2\n",
        "print(\"\\n🤖 Agent 2 (With tools, No memory):\")\n",
        "print(\"-\" * 60)\n",
        "result2 = agent_2.invoke({\n",
        "    \"messages\": [{\"role\": \"user\", \"content\": test_question}]\n",
        "})\n",
        "print(result2['messages'][-1].content)\n",
        "\n",
        "# Agent 3\n",
        "print(\"\\n🤖 Agent 3 (With tools, With memory):\")\n",
        "print(\"-\" * 60)\n",
        "test_config = {\"configurable\": {\"thread_id\": \"test_thread\"}}\n",
        "result3 = agent_3.invoke(\n",
        "    {\"messages\": [{\"role\": \"user\", \"content\": test_question}]},\n",
        "    test_config\n",
        ")\n",
        "print(result3['messages'][-1].content)\n",
        "\n",
        "print(\"\\n\" + \"=\"*80)"
      ]
    },
    {
      "cell_type": "markdown",
      "metadata": {
        "id": "ClCnq7HZsA9f"
      },
      "source": [
        "## Follow-up Test (Only Agent 3 can handle this!)"
      ]
    },
    {
      "cell_type": "code",
      "execution_count": 22,
      "metadata": {
        "id": "d2aaMMvDsA9f",
        "outputId": "796be4f2-025c-49b0-9d08-dd0e2a5a53ec",
        "colab": {
          "base_uri": "https://localhost:8080/"
        }
      },
      "outputs": [
        {
          "output_type": "stream",
          "name": "stdout",
          "text": [
            "================================================================================\n",
            "Follow-up question: 'What's their leave balance?'\n",
            "================================================================================\n",
            "\n",
            "🤖 Agent 3 (With tools, With memory):\n",
            "------------------------------------------------------------\n",
            "Anjali Patel has 15 days of leave remaining.\n",
            "\n",
            "✅ Only Agent 3 can handle this follow-up because it has MEMORY!\n",
            "   It remembers we were talking about employee 103 (Anjali Patel)\n",
            "\n",
            "================================================================================\n"
          ]
        }
      ],
      "source": [
        "followup_question = \"What's their leave balance?\"\n",
        "\n",
        "print(\"=\"*80)\n",
        "print(f\"Follow-up question: '{followup_question}'\")\n",
        "print(\"=\"*80)\n",
        "\n",
        "print(\"\\n🤖 Agent 3 (With tools, With memory):\")\n",
        "print(\"-\" * 60)\n",
        "result3_followup = agent_3.invoke(\n",
        "    {\"messages\": [{\"role\": \"user\", \"content\": followup_question}]},\n",
        "    test_config  # Same thread!\n",
        ")\n",
        "print(result3_followup['messages'][-1].content)\n",
        "\n",
        "print(\"\\n✅ Only Agent 3 can handle this follow-up because it has MEMORY!\")\n",
        "print(\"   It remembers we were talking about employee 103 (Anjali Patel)\")\n",
        "print(\"\\n\" + \"=\"*80)"
      ]
    },
    {
      "cell_type": "markdown",
      "metadata": {
        "id": "SVXSfri3sA9f"
      },
      "source": [
        "---\n",
        "# Try It Yourself!\n",
        "\n",
        "Now it's your turn! Try asking your own questions to each agent."
      ]
    },
    {
      "cell_type": "code",
      "execution_count": null,
      "metadata": {
        "id": "g6NdhpkDsA9g"
      },
      "outputs": [],
      "source": [
        "# Customize this cell with your own questions!\n",
        "\n",
        "my_question = \"Who is employee 104?\"  # Change this to your question\n",
        "my_followup = \"What about their leave?\"  # Change this to your follow-up\n",
        "\n",
        "# Test with Agent 3 (best one)\n",
        "my_config = {\"configurable\": {\"thread_id\": \"my_conversation\"}}\n",
        "\n",
        "print(f\"Your question: {my_question}\")\n",
        "result = agent_3.invoke(\n",
        "    {\"messages\": [{\"role\": \"user\", \"content\": my_question}]},\n",
        "    my_config\n",
        ")\n",
        "print(f\"\\nResponse: {result['messages'][-1].content}\")\n",
        "\n",
        "print(f\"\\n\\nYour follow-up: {my_followup}\")\n",
        "result = agent_3.invoke(\n",
        "    {\"messages\": [{\"role\": \"user\", \"content\": my_followup}]},\n",
        "    my_config\n",
        ")\n",
        "print(f\"\\nResponse: {result['messages'][-1].content}\")"
      ]
    },
    {
      "cell_type": "markdown",
      "metadata": {
        "id": "gS0So7G7sA9g"
      },
      "source": [
        "---\n",
        "# Conclusion\n",
        "\n",
        "**What you learned:**\n",
        "1. ✅ How to create a basic agent (no tools, no memory)\n",
        "2. ✅ How to add tools to an agent (for data access)\n",
        "3. ✅ How to add memory to an agent (for conversations)\n",
        "4. ✅ The difference between each approach\n",
        "\n",
        "**Key Takeaways:**\n",
        "- **Tools** = Access to data/functions\n",
        "- **Memory** = Remember conversation context\n",
        "- **Best practice**: Start simple, add features as needed\n",
        "\n",
        "**Next Steps:**\n",
        "- Try adding more tools (e.g., update_leave_balance)\n",
        "- Connect to a real database instead of hardcoded data\n",
        "- Add more complex conversation flows\n",
        "- Deploy as a web service\n",
        "\n",
        "---\n",
        "**Created with:** LangChain + OpenAI + LangGraph"
      ]
    }
  ],
  "metadata": {
    "kernelspec": {
      "display_name": "Python 3",
      "language": "python",
      "name": "python3"
    },
    "language_info": {
      "codemirror_mode": {
        "name": "ipython",
        "version": 3
      },
      "file_extension": ".py",
      "mimetype": "text/x-python",
      "name": "python",
      "nbconvert_exporter": "python",
      "pygments_lexer": "ipython3",
      "version": "3.11.0"
    },
    "colab": {
      "provenance": []
    }
  },
  "nbformat": 4,
  "nbformat_minor": 0
}