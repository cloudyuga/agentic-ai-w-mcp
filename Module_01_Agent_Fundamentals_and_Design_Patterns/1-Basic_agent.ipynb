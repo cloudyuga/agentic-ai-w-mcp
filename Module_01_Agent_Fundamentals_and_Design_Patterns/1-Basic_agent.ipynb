{
 "cells": [
  {
   "cell_type": "markdown",
   "metadata": {},
   "source": [
    "# Lab 1: Three Basic HR Agents\n",
    "\n",
    "**Learning Objectives:**\n",
    "- Build Agent 1: No tools, No memory (Basic chatbot)\n",
    "- Build Agent 2: With tools, No memory (Data lookup)\n",
    "- Build Agent 3: With tools, With memory (Full conversational agent)\n",
    "\n",
    "**Time:** 30 minutes"
   ]
  },
  {
   "cell_type": "markdown",
   "metadata": {},
   "source": [
    "## Setup: Install Dependencies"
   ]
  },
  {
   "cell_type": "code",
   "execution_count": null,
   "metadata": {},
   "outputs": [],
   "source": [
    "!pip install -qU langchain langchain-openai langgraph"
   ]
  },
  {
   "cell_type": "markdown",
   "metadata": {},
   "source": [
    "## Setup: Configure OpenAI API Key"
   ]
  },
  {
   "cell_type": "code",
   "execution_count": null,
   "metadata": {},
   "outputs": [],
   "source": [
    "import getpass\n",
    "import os\n",
    "\n",
    "# Set your OpenAI API key\n",
    "if not os.environ.get(\"OPENAI_API_KEY\"):\n",
    "    os.environ[\"OPENAI_API_KEY\"] = getpass.getpass(\"🔑 Enter your OpenAI API key: \")\n",
    "\n",
    "print(\"✅ API key configured!\")"
   ]
  },
  {
   "cell_type": "markdown",
   "metadata": {},
   "source": [
    "---\n",
    "# Agent 1: WITHOUT Tools and WITHOUT Memory\n",
    "\n",
    "**Features:**\n",
    "- ❌ No tools\n",
    "- ❌ No memory\n",
    "- ✅ Can answer general questions using LLM knowledge"
   ]
  },
  {
   "cell_type": "code",
   "execution_count": null,
   "metadata": {},
   "outputs": [],
   "source": [
    "from langchain.agents import create_agent\n",
    "\n",
    "# Create Agent 1: No tools, No memory\n",
    "agent_1 = create_agent(\n",
    "    model=\"openai:gpt-4o-mini\",\n",
    "    tools=[],  # Empty list = No tools!\n",
    "    prompt=\"You are an HR assistant. You can chat and answer general HR questions.\",\n",
    ")\n",
    "\n",
    "print(\"✅ Agent 1 created: NO tools, NO memory\")\n",
    "print(\"=\"*60)"
   ]
  },
  {
   "cell_type": "markdown",
   "metadata": {},
   "source": [
    "### Test Agent 1"
   ]
  },
  {
   "cell_type": "code",
   "execution_count": null,
   "metadata": {},
   "outputs": [],
   "source": [
    "# Test Agent 1 with a general HR question\n",
    "result = agent_1.invoke({\n",
    "    \"messages\": [{\"role\": \"user\", \"content\": \"What are common HR policies?\"}]\n",
    "})\n",
    "\n",
    "print(\"Question: What are common HR policies?\")\n",
    "print(\"\\nAgent 1 Response:\")\n",
    "print(result['messages'][-1].content)"
   ]
  },
  {
   "cell_type": "code",
   "execution_count": null,
   "metadata": {},
   "outputs": [],
   "source": [
    "# Try a follow-up question - NO MEMORY, so won't remember context\n",
    "result = agent_1.invoke({\n",
    "    \"messages\": [{\"role\": \"user\", \"content\": \"Can you give me 3 examples?\"}]\n",
    "})\n",
    "\n",
    "print(\"Question: Can you give me 3 examples?\")\n",
    "print(\"\\nAgent 1 Response:\")\n",
    "print(result['messages'][-1].content)\n",
    "print(\"\\n⚠️ Notice: Agent doesn't know what examples to give (no memory of previous question)\")"
   ]
  },
  {
   "cell_type": "markdown",
   "metadata": {},
   "source": [
    "---\n",
    "# Define Tools (for Agent 2 and 3)\n",
    "\n",
    "We'll create two simple tools:\n",
    "1. **get_employee_info** - Look up employee details\n",
    "2. **check_leave_balance** - Check leave days remaining"
   ]
  },
  {
   "cell_type": "code",
   "execution_count": null,
   "metadata": {},
   "outputs": [],
   "source": [
    "# Tool 1: Get Employee Information\n",
    "def get_employee_info(employee_id: str) -> str:\n",
    "    \"\"\"Get employee information by ID.\"\"\"\n",
    "    employees = {\n",
    "        \"101\": \"Priya Sharma - Engineering - Senior Developer\",\n",
    "        \"102\": \"Rahul Verma - Engineering - Manager\",\n",
    "        \"103\": \"Anjali Patel - HR - Director\",\n",
    "        \"104\": \"Arjun Reddy - Sales - Team Lead\",\n",
    "        \"105\": \"Sneha Gupta - Marketing - Specialist\"\n",
    "    }\n",
    "    return employees.get(employee_id, f\"Employee {employee_id} not found\")\n",
    "\n",
    "# Tool 2: Check Leave Balance\n",
    "def check_leave_balance(employee_id: str) -> str:\n",
    "    \"\"\"Check remaining leave days for an employee by ID.\"\"\"\n",
    "    leave_data = {\n",
    "        \"101\": \"Priya Sharma has 12 days of leave remaining\",\n",
    "        \"102\": \"Rahul Verma has 8 days of leave remaining\",\n",
    "        \"103\": \"Anjali Patel has 15 days of leave remaining\",\n",
    "        \"104\": \"Arjun Reddy has 10 days of leave remaining\",\n",
    "        \"105\": \"Sneha Gupta has 5 days of leave remaining\"\n",
    "    }\n",
    "    return leave_data.get(employee_id, f\"Leave data for employee {employee_id} not found\")\n",
    "\n",
    "print(\"✅ Tools defined:\")\n",
    "print(\"   1. get_employee_info - Look up employee details\")\n",
    "print(\"   2. check_leave_balance - Check leave balance\")\n",
    "print(\"\\n📋 Employee Database:\")\n",
    "print(\"   101: Priya Sharma\")\n",
    "print(\"   102: Rahul Verma\")\n",
    "print(\"   103: Anjali Patel\")\n",
    "print(\"   104: Arjun Reddy\")\n",
    "print(\"   105: Sneha Gupta\")"
   ]
  },
  {
   "cell_type": "markdown",
   "metadata": {},
   "source": [
    "---\n",
    "# Agent 2: WITH Tools but WITHOUT Memory\n",
    "\n",
    "**Features:**\n",
    "- ✅ Has tools (can access employee data)\n",
    "- ❌ No memory (each question is independent)\n",
    "- ✅ Good for one-time lookups"
   ]
  },
  {
   "cell_type": "code",
   "execution_count": null,
   "metadata": {},
   "outputs": [],
   "source": [
    "# Create Agent 2: With tools, No memory\n",
    "agent_2 = create_agent(\n",
    "    model=\"openai:gpt-4o-mini\",\n",
    "    tools=[get_employee_info, check_leave_balance],  # Has tools!\n",
    "    prompt=\"You are an HR assistant. Use tools to help users find employee information and check leave balances.\",\n",
    "    # No checkpointer = No memory!\n",
    ")\n",
    "\n",
    "print(\"✅ Agent 2 created: HAS tools, NO memory\")\n",
    "print(\"=\"*60)"
   ]
  },
  {
   "cell_type": "markdown",
   "metadata": {},
   "source": [
    "### Test Agent 2 - Tool Usage"
   ]
  },
  {
   "cell_type": "code",
   "execution_count": null,
   "metadata": {},
   "outputs": [],
   "source": [
    "# Test: Ask about employee info\n",
    "result = agent_2.invoke({\n",
    "    \"messages\": [{\"role\": \"user\", \"content\": \"Who is employee 101?\"}]\n",
    "})\n",
    "\n",
    "print(\"Question: Who is employee 101?\")\n",
    "print(\"\\nAgent 2 Response:\")\n",
    "print(result['messages'][-1].content)\n",
    "print(\"\\n✅ Agent used get_employee_info tool!\")"
   ]
  },
  {
   "cell_type": "code",
   "execution_count": null,
   "metadata": {},
   "outputs": [],
   "source": [
    "# Test: Ask about leave balance\n",
    "result = agent_2.invoke({\n",
    "    \"messages\": [{\"role\": \"user\", \"content\": \"How many leave days does employee 102 have?\"}]\n",
    "})\n",
    "\n",
    "print(\"Question: How many leave days does employee 102 have?\")\n",
    "print(\"\\nAgent 2 Response:\")\n",
    "print(result['messages'][-1].content)\n",
    "print(\"\\n✅ Agent used check_leave_balance tool!\")"
   ]
  },
  {
   "cell_type": "markdown",
   "metadata": {},
   "source": [
    "### Test Agent 2 - No Memory Problem"
   ]
  },
  {
   "cell_type": "code",
   "execution_count": null,
   "metadata": {},
   "outputs": [],
   "source": [
    "# Try a follow-up question - NO MEMORY\n",
    "result = agent_2.invoke({\n",
    "    \"messages\": [{\"role\": \"user\", \"content\": \"What department is she in?\"}]\n",
    "})\n",
    "\n",
    "print(\"Question: What department is she in?\")\n",
    "print(\"\\nAgent 2 Response:\")\n",
    "print(result['messages'][-1].content)\n",
    "print(\"\\n⚠️ Problem: Agent doesn't know who 'she' refers to (no memory!)\")"
   ]
  },
  {
   "cell_type": "markdown",
   "metadata": {},
   "source": [
    "---\n",
    "# Agent 3: WITH Tools AND WITH Memory\n",
    "\n",
    "**Features:**\n",
    "- ✅ Has tools (can access employee data)\n",
    "- ✅ Has memory (remembers conversation)\n",
    "- ✅ Can handle follow-up questions\n",
    "- ✅ Best for real conversations"
   ]
  },
  {
   "cell_type": "code",
   "execution_count": null,
   "metadata": {},
   "outputs": [],
   "source": [
    "from langgraph.checkpoint.memory import InMemorySaver\n",
    "\n",
    "# Create memory\n",
    "checkpointer = InMemorySaver()\n",
    "\n",
    "# Create Agent 3: With tools AND with memory\n",
    "agent_3 = create_agent(\n",
    "    model=\"openai:gpt-4o-mini\",\n",
    "    tools=[get_employee_info, check_leave_balance],  # Has tools!\n",
    "    prompt=\"You are an HR assistant. Use tools to help users find employee information and check leave balances.\",\n",
    "    checkpointer=checkpointer  # Has memory!\n",
    ")\n",
    "\n",
    "print(\"✅ Agent 3 created: HAS tools, HAS memory\")\n",
    "print(\"=\"*60)"
   ]
  },
  {
   "cell_type": "markdown",
   "metadata": {},
   "source": [
    "### Test Agent 3 - With Memory"
   ]
  },
  {
   "cell_type": "code",
   "execution_count": null,
   "metadata": {},
   "outputs": [],
   "source": [
    "# Start a conversation with thread_id\n",
    "config = {\"configurable\": {\"thread_id\": \"conversation_1\"}}\n",
    "\n",
    "# First question\n",
    "result = agent_3.invoke(\n",
    "    {\"messages\": [{\"role\": \"user\", \"content\": \"Who is employee 101?\"}]},\n",
    "    config\n",
    ")\n",
    "\n",
    "print(\"Question 1: Who is employee 101?\")\n",
    "print(\"\\nAgent 3 Response:\")\n",
    "print(result['messages'][-1].content)"
   ]
  },
  {
   "cell_type": "code",
   "execution_count": null,
   "metadata": {},
   "outputs": [],
   "source": [
    "# Follow-up question - MEMORY WORKS!\n",
    "result = agent_3.invoke(\n",
    "    {\"messages\": [{\"role\": \"user\", \"content\": \"What's her leave balance?\"}]},\n",
    "    config  # Same thread_id\n",
    ")\n",
    "\n",
    "print(\"Question 2: What's her leave balance?\")\n",
    "print(\"\\nAgent 3 Response:\")\n",
    "print(result['messages'][-1].content)\n",
    "print(\"\\n✅ Success: Agent remembers we're talking about Priya Sharma (employee 101)!\")"
   ]
  },
  {
   "cell_type": "code",
   "execution_count": null,
   "metadata": {},
   "outputs": [],
   "source": [
    "# Another follow-up\n",
    "result = agent_3.invoke(\n",
    "    {\"messages\": [{\"role\": \"user\", \"content\": \"What department is she in?\"}]},\n",
    "    config\n",
    ")\n",
    "\n",
    "print(\"Question 3: What department is she in?\")\n",
    "print(\"\\nAgent 3 Response:\")\n",
    "print(result['messages'][-1].content)\n",
    "print(\"\\n✅ Success: Agent still remembers the context!\")"
   ]
  },
  {
   "cell_type": "markdown",
   "metadata": {},
   "source": [
    "### Test Agent 3 - Complex Memory"
   ]
  },
  {
   "cell_type": "code",
   "execution_count": null,
   "metadata": {},
   "outputs": [],
   "source": [
    "# Ask about another employee\n",
    "result = agent_3.invoke(\n",
    "    {\"messages\": [{\"role\": \"user\", \"content\": \"Now tell me about employee 102\"}]},\n",
    "    config\n",
    ")\n",
    "\n",
    "print(\"Question 4: Now tell me about employee 102\")\n",
    "print(\"\\nAgent 3 Response:\")\n",
    "print(result['messages'][-1].content)"
   ]
  },
  {
   "cell_type": "code",
   "execution_count": null,
   "metadata": {},
   "outputs": [],
   "source": [
    "# Ask to compare - needs memory of BOTH employees!\n",
    "result = agent_3.invoke(\n",
    "    {\"messages\": [{\"role\": \"user\", \"content\": \"Who has more leave days, the first employee or this one?\"}]},\n",
    "    config\n",
    ")\n",
    "\n",
    "print(\"Question 5: Who has more leave days, the first employee or this one?\")\n",
    "print(\"\\nAgent 3 Response:\")\n",
    "print(result['messages'][-1].content)\n",
    "print(\"\\n✅ Amazing: Agent remembers BOTH employee 101 (Priya) AND 102 (Rahul)!\")"
   ]
  },
  {
   "cell_type": "markdown",
   "metadata": {},
   "source": [
    "---\n",
    "# Comparison: All Three Agents"
   ]
  },
  {
   "cell_type": "markdown",
   "metadata": {},
   "source": [
    "## Summary Table\n",
    "\n",
    "| Feature | Agent 1 | Agent 2 | Agent 3 |\n",
    "|---------|---------|---------|----------|\n",
    "| **Tools** | ❌ No | ✅ Yes | ✅ Yes |\n",
    "| **Memory** | ❌ No | ❌ No | ✅ Yes |\n",
    "| **Access employee data** | ❌ No | ✅ Yes | ✅ Yes |\n",
    "| **Remember conversation** | ❌ No | ❌ No | ✅ Yes |\n",
    "| **Handle follow-ups** | ❌ No | ❌ No | ✅ Yes |\n",
    "| **Use case** | General chat | One-time lookups | Full HR assistant |"
   ]
  },
  {
   "cell_type": "code",
   "execution_count": null,
   "metadata": {},
   "outputs": [],
   "source": [
    "# Print detailed comparison\n",
    "print(\"=\"*80)\n",
    "print(\"DETAILED COMPARISON\")\n",
    "print(\"=\"*80)\n",
    "\n",
    "print(\"\\n🤖 Agent 1: Basic Chatbot\")\n",
    "print(\"   ✅ Can answer general HR questions\")\n",
    "print(\"   ❌ Cannot access employee database\")\n",
    "print(\"   ❌ Cannot remember conversation\")\n",
    "print(\"   💡 Best for: General HR advice\")\n",
    "\n",
    "print(\"\\n🤖 Agent 2: Data Lookup Agent\")\n",
    "print(\"   ✅ Can access employee database\")\n",
    "print(\"   ✅ Can check leave balances\")\n",
    "print(\"   ❌ Cannot remember conversation\")\n",
    "print(\"   💡 Best for: One-time data queries\")\n",
    "\n",
    "print(\"\\n🤖 Agent 3: Full Conversational Agent\")\n",
    "print(\"   ✅ Can access employee database\")\n",
    "print(\"   ✅ Can check leave balances\")\n",
    "print(\"   ✅ Can remember conversation\")\n",
    "print(\"   ✅ Can handle follow-up questions\")\n",
    "print(\"   💡 Best for: Real HR assistant conversations\")\n",
    "\n",
    "print(\"\\n=\"*80)"
   ]
  },
  {
   "cell_type": "markdown",
   "metadata": {},
   "source": [
    "## Side-by-Side Test"
   ]
  },
  {
   "cell_type": "code",
   "execution_count": null,
   "metadata": {},
   "outputs": [],
   "source": [
    "test_question = \"Tell me about employee 103\"\n",
    "\n",
    "print(\"=\"*80)\n",
    "print(f\"Testing all agents with: '{test_question}'\")\n",
    "print(\"=\"*80)\n",
    "\n",
    "# Agent 1\n",
    "print(\"\\n🤖 Agent 1 (No tools, No memory):\")\n",
    "print(\"-\" * 60)\n",
    "result1 = agent_1.invoke({\n",
    "    \"messages\": [{\"role\": \"user\", \"content\": test_question}]\n",
    "})\n",
    "print(result1['messages'][-1].content)\n",
    "\n",
    "# Agent 2\n",
    "print(\"\\n🤖 Agent 2 (With tools, No memory):\")\n",
    "print(\"-\" * 60)\n",
    "result2 = agent_2.invoke({\n",
    "    \"messages\": [{\"role\": \"user\", \"content\": test_question}]\n",
    "})\n",
    "print(result2['messages'][-1].content)\n",
    "\n",
    "# Agent 3\n",
    "print(\"\\n🤖 Agent 3 (With tools, With memory):\")\n",
    "print(\"-\" * 60)\n",
    "test_config = {\"configurable\": {\"thread_id\": \"test_thread\"}}\n",
    "result3 = agent_3.invoke(\n",
    "    {\"messages\": [{\"role\": \"user\", \"content\": test_question}]},\n",
    "    test_config\n",
    ")\n",
    "print(result3['messages'][-1].content)\n",
    "\n",
    "print(\"\\n\" + \"=\"*80)"
   ]
  },
  {
   "cell_type": "markdown",
   "metadata": {},
   "source": [
    "## Follow-up Test (Only Agent 3 can handle this!)"
   ]
  },
  {
   "cell_type": "code",
   "execution_count": null,
   "metadata": {},
   "outputs": [],
   "source": [
    "followup_question = \"What's their leave balance?\"\n",
    "\n",
    "print(\"=\"*80)\n",
    "print(f\"Follow-up question: '{followup_question}'\")\n",
    "print(\"=\"*80)\n",
    "\n",
    "print(\"\\n🤖 Agent 3 (With tools, With memory):\")\n",
    "print(\"-\" * 60)\n",
    "result3_followup = agent_3.invoke(\n",
    "    {\"messages\": [{\"role\": \"user\", \"content\": followup_question}]},\n",
    "    test_config  # Same thread!\n",
    ")\n",
    "print(result3_followup['messages'][-1].content)\n",
    "\n",
    "print(\"\\n✅ Only Agent 3 can handle this follow-up because it has MEMORY!\")\n",
    "print(\"   It remembers we were talking about employee 103 (Anjali Patel)\")\n",
    "print(\"\\n\" + \"=\"*80)"
   ]
  },
  {
   "cell_type": "markdown",
   "metadata": {},
   "source": [
    "---\n",
    "# Try It Yourself!\n",
    "\n",
    "Now it's your turn! Try asking your own questions to each agent."
   ]
  },
  {
   "cell_type": "code",
   "execution_count": null,
   "metadata": {},
   "outputs": [],
   "source": [
    "# Customize this cell with your own questions!\n",
    "\n",
    "my_question = \"Who is employee 104?\"  # Change this to your question\n",
    "my_followup = \"What about their leave?\"  # Change this to your follow-up\n",
    "\n",
    "# Test with Agent 3 (best one)\n",
    "my_config = {\"configurable\": {\"thread_id\": \"my_conversation\"}}\n",
    "\n",
    "print(f\"Your question: {my_question}\")\n",
    "result = agent_3.invoke(\n",
    "    {\"messages\": [{\"role\": \"user\", \"content\": my_question}]},\n",
    "    my_config\n",
    ")\n",
    "print(f\"\\nResponse: {result['messages'][-1].content}\")\n",
    "\n",
    "print(f\"\\n\\nYour follow-up: {my_followup}\")\n",
    "result = agent_3.invoke(\n",
    "    {\"messages\": [{\"role\": \"user\", \"content\": my_followup}]},\n",
    "    my_config\n",
    ")\n",
    "print(f\"\\nResponse: {result['messages'][-1].content}\")"
   ]
  },
  {
   "cell_type": "markdown",
   "metadata": {},
   "source": [
    "---\n",
    "# Conclusion\n",
    "\n",
    "**What you learned:**\n",
    "1. ✅ How to create a basic agent (no tools, no memory)\n",
    "2. ✅ How to add tools to an agent (for data access)\n",
    "3. ✅ How to add memory to an agent (for conversations)\n",
    "4. ✅ The difference between each approach\n",
    "\n",
    "**Key Takeaways:**\n",
    "- **Tools** = Access to data/functions\n",
    "- **Memory** = Remember conversation context\n",
    "- **Best practice**: Start simple, add features as needed\n",
    "\n",
    "**Next Steps:**\n",
    "- Try adding more tools (e.g., update_leave_balance)\n",
    "- Connect to a real database instead of hardcoded data\n",
    "- Add more complex conversation flows\n",
    "- Deploy as a web service\n",
    "\n",
    "---\n",
    "**Created with:** LangChain + OpenAI + LangGraph"
   ]
  }
 ],
 "metadata": {
  "kernelspec": {
   "display_name": "Python 3",
   "language": "python",
   "name": "python3"
  },
  "language_info": {
   "codemirror_mode": {
    "name": "ipython",
    "version": 3
   },
   "file_extension": ".py",
   "mimetype": "text/x-python",
   "name": "python",
   "nbconvert_exporter": "python",
   "pygments_lexer": "ipython3",
   "version": "3.11.0"
  }
 },
 "nbformat": 4,
 "nbformat_minor": 4
}
