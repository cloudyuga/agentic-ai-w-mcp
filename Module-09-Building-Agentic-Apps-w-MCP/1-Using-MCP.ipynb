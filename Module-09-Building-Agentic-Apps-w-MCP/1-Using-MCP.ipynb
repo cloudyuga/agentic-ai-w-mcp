{
  "cells": [
    {
      "cell_type": "markdown",
      "metadata": {
        "id": "0DsWMP0ijOVi"
      },
      "source": [
        "# Model Context Protocol (MCP) Labs - PART 1 (Google Colab)\n",
        "\n",
        "## 🚀 Running on Google Colab\n",
        "\n",
        "This notebook is optimized for **Google Colab** with:\n",
        "- ✅ Node.js installation in Colab\n",
        "- ✅ MCP server setup without localhost\n",
        "- ✅ File upload for credentials\n",
        "- ✅ Environment variables via Colab secrets\n",
        "- ✅ Persistent storage via Google Drive (optional)\n",
        "\n",
        "### Part 1 Labs:\n",
        "- **Lab 0**: Complete MCP Setup for Google Colab\n",
        "- **Lab 1**: MCP Architecture\n",
        "- **Lab 2**: Filesystem MCP\n",
        "- **Lab 3**: Gmail MCP (cygenaidemo@gmail.com)\n",
        "- **Lab 4**: Google Calendar MCP\n",
        "\n",
        "### Use Cases:\n",
        "1. **HR Recruitment** - Interview invitations, scheduling\n",
        "2. **AirBnb Management** - Booking confirmations\n",
        "\n",
        "### 📧 Sender Email\n",
        "**cygenaidemo@gmail.com**"
      ]
    },
    {
      "cell_type": "markdown",
      "metadata": {
        "id": "xDBP0OCajOVl"
      },
      "source": [
        "---\n",
        "\n",
        "# LAB 0: Complete MCP Setup for Google Colab\n",
        "\n",
        "## Part A: Google Cloud Project Setup (Do this FIRST)\n",
        "\n",
        "### Step 1: Create Google Cloud Project\n",
        "\n",
        "Open this in a new tab: [Google Cloud Console](https://console.cloud.google.com/)\n",
        "\n",
        "1. Click **\"Select a project\"** → **\"New Project\"**\n",
        "2. Project Name: `mcp-colab-labs`\n",
        "3. Click **\"Create\"**\n",
        "\n",
        "### Step 2: Enable APIs\n",
        "\n",
        "In Google Cloud Console:\n",
        "\n",
        "1. Go to **\"APIs & Services\"** → **\"Library\"**\n",
        "2. Search and enable:\n",
        "   - ✅ **Gmail API**\n",
        "   - ✅ **Google Calendar API**\n",
        "\n",
        "### Step 3: Create OAuth 2.0 Credentials\n",
        "\n",
        "1. Go to **\"APIs & Services\"** → **\"Credentials\"**\n",
        "2. Click **\"Create Credentials\"** → **\"OAuth client ID\"**\n",
        "\n",
        "3. **Configure OAuth consent screen** (if first time):\n",
        "   - User Type: **External**\n",
        "   - App name: `MCP Colab Labs`\n",
        "   - User support email: `cygenaidemo@gmail.com`\n",
        "   - Developer email: `cygenaidemo@gmail.com`\n",
        "   - Click **\"Save and Continue\"**\n",
        "   \n",
        "   **Scopes** (Add these):\n",
        "   - `https://www.googleapis.com/auth/gmail.send`\n",
        "   - `https://www.googleapis.com/auth/gmail.readonly`\n",
        "   - `https://www.googleapis.com/auth/calendar`\n",
        "   - `https://www.googleapis.com/auth/calendar.events`\n",
        "   \n",
        "   **Test users** (Add this):\n",
        "   - `cygenaidemo@gmail.com`\n",
        "   \n",
        "   Click **\"Save and Continue\"** → **\"Back to Dashboard\"**\n",
        "\n",
        "4. Now create **OAuth client ID**:\n",
        "   - Application type: **Desktop app**\n",
        "   - Name: `MCP Colab Client`\n",
        "   - Click **\"Create\"**\n",
        "\n",
        "5. **Download JSON** - Click the download icon\n",
        "   - File will be named: `client_secret_xxxxx.json`\n",
        "   - **Keep this file safe!**\n",
        "\n",
        "### ✅ Before proceeding, make sure you have:\n",
        "- [ ] Google Cloud project created\n",
        "- [ ] Gmail API enabled\n",
        "- [ ] Calendar API enabled\n",
        "- [ ] OAuth credentials JSON downloaded"
      ]
    },
    {
      "cell_type": "markdown",
      "metadata": {
        "id": "dvg0RaMJjOVl"
      },
      "source": [
        "## Part B: Install Node.js in Google Colab"
      ]
    },
    {
      "cell_type": "code",
      "execution_count": 6,
      "metadata": {
        "id": "vUBF-T-PjOVm",
        "outputId": "0df661df-16b0-4e8a-e298-baaafebc1805",
        "colab": {
          "base_uri": "https://localhost:8080/"
        }
      },
      "outputs": [
        {
          "output_type": "stream",
          "name": "stdout",
          "text": [
            "📦 Installing Node.js...\n",
            "\u001b[38;5;79m2025-10-22 01:51:03 - Installing pre-requisites\u001b[0m\n",
            "Hit:1 https://cli.github.com/packages stable InRelease\n",
            "Hit:2 http://archive.ubuntu.com/ubuntu jammy InRelease\n",
            "Hit:3 http://archive.ubuntu.com/ubuntu jammy-updates InRelease\n",
            "Hit:4 http://security.ubuntu.com/ubuntu jammy-security InRelease\n",
            "Hit:5 https://cloud.r-project.org/bin/linux/ubuntu jammy-cran40/ InRelease\n",
            "Hit:6 https://developer.download.nvidia.com/compute/cuda/repos/ubuntu2204/x86_64  InRelease\n",
            "Hit:7 https://deb.nodesource.com/node_18.x nodistro InRelease\n",
            "Hit:8 http://archive.ubuntu.com/ubuntu jammy-backports InRelease\n",
            "Hit:9 https://r2u.stat.illinois.edu/ubuntu jammy InRelease\n",
            "Hit:10 https://ppa.launchpadcontent.net/deadsnakes/ppa/ubuntu jammy InRelease\n",
            "Hit:11 https://ppa.launchpadcontent.net/graphics-drivers/ppa/ubuntu jammy InRelease\n",
            "Hit:12 https://ppa.launchpadcontent.net/ubuntugis/ppa/ubuntu jammy InRelease\n",
            "Reading package lists...\n",
            "Building dependency tree...\n",
            "Reading state information...\n",
            "39 packages can be upgraded. Run 'apt list --upgradable' to see them.\n",
            "Reading package lists...\n",
            "Building dependency tree...\n",
            "Reading state information...\n",
            "ca-certificates is already the newest version (20240203~22.04.1).\n",
            "curl is already the newest version (7.81.0-1ubuntu1.21).\n",
            "gnupg is already the newest version (2.2.27-3ubuntu2.4).\n",
            "apt-transport-https is already the newest version (2.4.14).\n",
            "0 upgraded, 0 newly installed, 0 to remove and 39 not upgraded.\n",
            "Hit:1 https://cloud.r-project.org/bin/linux/ubuntu jammy-cran40/ InRelease\n",
            "Hit:2 https://developer.download.nvidia.com/compute/cuda/repos/ubuntu2204/x86_64  InRelease\n",
            "Hit:3 https://cli.github.com/packages stable InRelease\n",
            "Hit:4 http://archive.ubuntu.com/ubuntu jammy InRelease\n",
            "Get:5 https://deb.nodesource.com/node_20.x nodistro InRelease [12.1 kB]\n",
            "Hit:6 http://archive.ubuntu.com/ubuntu jammy-updates InRelease\n",
            "Hit:7 http://archive.ubuntu.com/ubuntu jammy-backports InRelease\n",
            "Hit:8 http://security.ubuntu.com/ubuntu jammy-security InRelease\n",
            "Hit:9 https://r2u.stat.illinois.edu/ubuntu jammy InRelease\n",
            "Get:10 https://deb.nodesource.com/node_20.x nodistro/main amd64 Packages [12.9 kB]\n",
            "Hit:11 https://ppa.launchpadcontent.net/deadsnakes/ppa/ubuntu jammy InRelease\n",
            "Hit:12 https://ppa.launchpadcontent.net/graphics-drivers/ppa/ubuntu jammy InRelease\n",
            "Hit:13 https://ppa.launchpadcontent.net/ubuntugis/ppa/ubuntu jammy InRelease\n",
            "Fetched 25.1 kB in 1s (18.6 kB/s)\n",
            "Reading package lists...\n",
            "Building dependency tree...\n",
            "Reading state information...\n",
            "40 packages can be upgraded. Run 'apt list --upgradable' to see them.\n",
            "\u001b[1;34m2025-10-22 01:51:17 - Repository configured successfully.\u001b[0m\n",
            "\u001b[38;5;79m2025-10-22 01:51:17 - To install Node.js, run: apt install nodejs -y\u001b[0m\n",
            "\u001b[38;5;79m2025-10-22 01:51:17 - You can use N|solid Runtime as a node.js alternative\u001b[0m\n",
            "\u001b[1;32m2025-10-22 01:51:17 - To install N|solid Runtime, run: apt install nsolid -y \n",
            "\u001b[0m\n",
            "Reading package lists...\n",
            "Building dependency tree...\n",
            "Reading state information...\n",
            "The following packages will be upgraded:\n",
            "  nodejs\n",
            "1 upgraded, 0 newly installed, 0 to remove and 39 not upgraded.\n",
            "Need to get 32.0 MB of archives.\n",
            "After this operation, 9,394 kB of additional disk space will be used.\n",
            "Get:1 https://deb.nodesource.com/node_20.x nodistro/main amd64 nodejs amd64 20.19.5-1nodesource1 [32.0 MB]\n",
            "Fetched 32.0 MB in 1s (61.9 MB/s)\n",
            "(Reading database ... \r(Reading database ... 5%\r(Reading database ... 10%\r(Reading database ... 15%\r(Reading database ... 20%\r(Reading database ... 25%\r(Reading database ... 30%\r(Reading database ... 35%\r(Reading database ... 40%\r(Reading database ... 45%\r(Reading database ... 50%\r(Reading database ... 55%\r(Reading database ... 60%\r(Reading database ... 65%\r(Reading database ... 70%\r(Reading database ... 75%\r(Reading database ... 80%\r(Reading database ... 85%\r(Reading database ... 90%\r(Reading database ... 95%\r(Reading database ... 100%\r(Reading database ... 131996 files and directories currently installed.)\r\n",
            "Preparing to unpack .../nodejs_20.19.5-1nodesource1_amd64.deb ...\r\n",
            "Detected old npm client, removing...\r\n",
            "Unpacking nodejs (20.19.5-1nodesource1) over (18.20.8-1nodesource1) ...\r\n",
            "Setting up nodejs (20.19.5-1nodesource1) ...\r\n",
            "Processing triggers for man-db (2.10.2-1) ...\r\n",
            "\n",
            "✅ Node.js installed:\n",
            "v20.19.5\n",
            "10.8.2\n"
          ]
        },
        {
          "output_type": "stream",
          "name": "stderr",
          "text": [
            "\n",
            "WARNING: apt does not have a stable CLI interface. Use with caution in scripts.\n",
            "\n",
            "W: Skipping acquire of configured file 'main/source/Sources' as repository 'https://r2u.stat.illinois.edu/ubuntu jammy InRelease' does not seem to provide it (sources.list entry misspelt?)\n",
            "\n",
            "WARNING: apt does not have a stable CLI interface. Use with caution in scripts.\n",
            "\n",
            "\n",
            "WARNING: apt does not have a stable CLI interface. Use with caution in scripts.\n",
            "\n",
            "W: Skipping acquire of configured file 'main/source/Sources' as repository 'https://r2u.stat.illinois.edu/ubuntu jammy InRelease' does not seem to provide it (sources.list entry misspelt?)\n",
            "debconf: unable to initialize frontend: Dialog\n",
            "debconf: (No usable dialog-like program is installed, so the dialog based frontend cannot be used. at /usr/share/perl5/Debconf/FrontEnd/Dialog.pm line 78, <> line 1.)\n",
            "debconf: falling back to frontend: Readline\n",
            "debconf: unable to initialize frontend: Readline\n",
            "debconf: (This frontend requires a controlling tty.)\n",
            "debconf: falling back to frontend: Teletype\n",
            "dpkg-preconfigure: unable to re-open stdin: \n"
          ]
        }
      ],
      "source": [
        "%%bash\n",
        "# Install Node.js 18.x in Colab\n",
        "echo \"📦 Installing Node.js...\"\n",
        "\n",
        "# Install Node.js using NodeSource\n",
        "curl -fsSL https://deb.nodesource.com/setup_20.x | sudo -E bash -\n",
        "sudo apt-get install -y nodejs\n",
        "\n",
        "# Verify installation\n",
        "echo \"\"\n",
        "echo \"✅ Node.js installed:\"\n",
        "node --version\n",
        "npm --version"
      ]
    },
    {
      "cell_type": "markdown",
      "metadata": {
        "id": "xLjeRAyrjOVn"
      },
      "source": [
        "## Part C: Install Python Packages"
      ]
    },
    {
      "cell_type": "code",
      "execution_count": 2,
      "metadata": {
        "id": "Rw6c-5VijOVn",
        "outputId": "34a4d228-c9e8-4c08-9e72-28f70276b637",
        "colab": {
          "base_uri": "https://localhost:8080/"
        }
      },
      "outputs": [
        {
          "output_type": "stream",
          "name": "stdout",
          "text": [
            "\u001b[?25l   \u001b[90m━━━━━━━━━━━━━━━━━━━━━━━━━━━━━━━━━━━━━━━━\u001b[0m \u001b[32m0.0/81.9 kB\u001b[0m \u001b[31m?\u001b[0m eta \u001b[36m-:--:--\u001b[0m\r\u001b[2K   \u001b[90m━━━━━━━━━━━━━━━━━━━━━━━━━━━━━━━━━━━━━━━━\u001b[0m \u001b[32m81.9/81.9 kB\u001b[0m \u001b[31m3.9 MB/s\u001b[0m eta \u001b[36m0:00:00\u001b[0m\n",
            "\u001b[?25h\u001b[?25l   \u001b[90m━━━━━━━━━━━━━━━━━━━━━━━━━━━━━━━━━━━━━━━━\u001b[0m \u001b[32m0.0/155.4 kB\u001b[0m \u001b[31m?\u001b[0m eta \u001b[36m-:--:--\u001b[0m\r\u001b[2K   \u001b[90m━━━━━━━━━━━━━━━━━━━━━━━━━━━━━━━━━━━━━━━━\u001b[0m \u001b[32m155.4/155.4 kB\u001b[0m \u001b[31m9.3 MB/s\u001b[0m eta \u001b[36m0:00:00\u001b[0m\n",
            "\u001b[?25h\u001b[?25l   \u001b[90m━━━━━━━━━━━━━━━━━━━━━━━━━━━━━━━━━━━━━━━━\u001b[0m \u001b[32m0.0/107.8 kB\u001b[0m \u001b[31m?\u001b[0m eta \u001b[36m-:--:--\u001b[0m\r\u001b[2K   \u001b[90m━━━━━━━━━━━━━━━━━━━━━━━━━━━━━━━━━━━━━━━━\u001b[0m \u001b[32m107.8/107.8 kB\u001b[0m \u001b[31m8.3 MB/s\u001b[0m eta \u001b[36m0:00:00\u001b[0m\n",
            "\u001b[2K   \u001b[90m━━━━━━━━━━━━━━━━━━━━━━━━━━━━━━━━━━━━━━━━\u001b[0m \u001b[32m467.2/467.2 kB\u001b[0m \u001b[31m27.0 MB/s\u001b[0m eta \u001b[36m0:00:00\u001b[0m\n",
            "\u001b[2K   \u001b[90m━━━━━━━━━━━━━━━━━━━━━━━━━━━━━━━━━━━━━━━━\u001b[0m \u001b[32m46.1/46.1 kB\u001b[0m \u001b[31m3.4 MB/s\u001b[0m eta \u001b[36m0:00:00\u001b[0m\n",
            "\u001b[2K   \u001b[90m━━━━━━━━━━━━━━━━━━━━━━━━━━━━━━━━━━━━━━━━\u001b[0m \u001b[32m56.8/56.8 kB\u001b[0m \u001b[31m3.9 MB/s\u001b[0m eta \u001b[36m0:00:00\u001b[0m\n",
            "\u001b[2K   \u001b[90m━━━━━━━━━━━━━━━━━━━━━━━━━━━━━━━━━━━━━━━━\u001b[0m \u001b[32m207.6/207.6 kB\u001b[0m \u001b[31m15.5 MB/s\u001b[0m eta \u001b[36m0:00:00\u001b[0m\n",
            "\u001b[?25h✅ Python packages installed\n"
          ]
        }
      ],
      "source": [
        "# Install Python packages\n",
        "!pip install -q --pre -U langchain-openai langgraph langchain\n",
        "!pip install  -q python-dotenv\n",
        "!pip install -q langchain-mcp-adapters mcp\n",
        "!pip install -q google-auth google-auth-oauthlib google-auth-httplib2\n",
        "!pip install -q google-api-python-client\n",
        "\n",
        "print(\"✅ Python packages installed\")"
      ]
    },
    {
      "cell_type": "markdown",
      "metadata": {
        "id": "mWp_Oa4ZjOVn"
      },
      "source": [
        "## Part D: Install MCP Servers"
      ]
    },
    {
      "cell_type": "code",
      "execution_count": 7,
      "metadata": {
        "id": "5iqzWJEsjOVn",
        "outputId": "e0d675e2-fdc9-4bed-a793-854d1028e9c0",
        "colab": {
          "base_uri": "https://localhost:8080/"
        }
      },
      "outputs": [
        {
          "output_type": "stream",
          "name": "stdout",
          "text": [
            "📦 Installing MCP servers...\n",
            "\n",
            "changed 129 packages in 8s\n",
            "\n",
            "33 packages are looking for funding\n",
            "  run `npm fund` for details\n",
            "\n",
            "✅ MCP servers installed:\n",
            "├── @modelcontextprotocol/server-filesystem@2025.8.21\n"
          ]
        },
        {
          "output_type": "stream",
          "name": "stderr",
          "text": [
            "npm error code E404\n",
            "npm error 404 Not Found - GET https://registry.npmjs.org/@modelcontextprotocol%2fserver-gmail - Not found\n",
            "npm error 404\n",
            "npm error 404  '@modelcontextprotocol/server-gmail@*' is not in this registry.\n",
            "npm error 404\n",
            "npm error 404 Note that you can also install from a\n",
            "npm error 404 tarball, folder, http url, or git url.\n",
            "npm error A complete log of this run can be found in: /root/.npm/_logs/2025-10-22T01_51_53_711Z-debug-0.log\n",
            "npm error code E404\n",
            "npm error 404 Not Found - GET https://registry.npmjs.org/@modelcontextprotocol%2fserver-google-calendar - Not found\n",
            "npm error 404\n",
            "npm error 404  '@modelcontextprotocol/server-google-calendar@*' is not in this registry.\n",
            "npm error 404\n",
            "npm error 404 Note that you can also install from a\n",
            "npm error 404 tarball, folder, http url, or git url.\n",
            "npm error A complete log of this run can be found in: /root/.npm/_logs/2025-10-22T01_51_54_747Z-debug-0.log\n"
          ]
        }
      ],
      "source": [
        "%%bash\n",
        "# Install MCP servers globally\n",
        "echo \"📦 Installing MCP servers...\"\n",
        "\n",
        "npm install -g @modelcontextprotocol/server-gmail\n",
        "npm install -g @modelcontextprotocol/server-google-calendar\n",
        "npm install -g @modelcontextprotocol/server-filesystem\n",
        "\n",
        "echo \"\"\n",
        "echo \"✅ MCP servers installed:\"\n",
        "npm list -g --depth=0 | grep modelcontextprotocol"
      ]
    },
    {
      "cell_type": "code",
      "source": [
        "npm install -g mcp-gsuite"
      ],
      "metadata": {
        "id": "6jgTz00qn67y",
        "outputId": "2b2a8ad7-e020-48d9-9118-2b09245ac4ac",
        "colab": {
          "base_uri": "https://localhost:8080/",
          "height": 127
        }
      },
      "execution_count": 9,
      "outputs": [
        {
          "output_type": "error",
          "ename": "SyntaxError",
          "evalue": "invalid syntax (ipython-input-3828129095.py, line 1)",
          "traceback": [
            "\u001b[0;36m  File \u001b[0;32m\"/tmp/ipython-input-3828129095.py\"\u001b[0;36m, line \u001b[0;32m1\u001b[0m\n\u001b[0;31m    npm install -g mcp-gsuite\u001b[0m\n\u001b[0m        ^\u001b[0m\n\u001b[0;31mSyntaxError\u001b[0m\u001b[0;31m:\u001b[0m invalid syntax\n"
          ]
        }
      ]
    },
    {
      "cell_type": "code",
      "source": [
        "%%bash"
      ],
      "metadata": {
        "id": "lmWL8PwToDi5",
        "outputId": "8be1255f-c40c-4c06-9ed6-22bef9995b2e",
        "colab": {
          "base_uri": "https://localhost:8080/"
        }
      },
      "execution_count": 11,
      "outputs": [
        {
          "output_type": "stream",
          "name": "stderr",
          "text": [
            "UsageError: %%bash is a cell magic, but the cell body is empty.\n"
          ]
        }
      ]
    },
    {
      "cell_type": "code",
      "source": [
        "%%bash\n",
        "npm install -g mcp-gsuite"
      ],
      "metadata": {
        "id": "sfBowLlyoHch",
        "outputId": "ebe2a94c-8817-4afe-a162-2925b7142b35",
        "colab": {
          "base_uri": "https://localhost:8080/"
        }
      },
      "execution_count": 12,
      "outputs": [
        {
          "output_type": "stream",
          "name": "stdout",
          "text": [
            "\n",
            "added 83 packages in 8s\n",
            "\n",
            "21 packages are looking for funding\n",
            "  run `npm fund` for details\n"
          ]
        }
      ]
    },
    {
      "cell_type": "markdown",
      "metadata": {
        "id": "EG9IPOt7jOVn"
      },
      "source": [
        "## Part E: Upload OAuth Credentials\n",
        "\n",
        "**IMPORTANT**: You'll upload your `client_secret_xxxxx.json` file here."
      ]
    },
    {
      "cell_type": "code",
      "execution_count": 13,
      "metadata": {
        "id": "4UzN50vOjOVo",
        "outputId": "3a98b78f-423d-4718-c25c-75cf44d1e7d3",
        "colab": {
          "base_uri": "https://localhost:8080/",
          "height": 464
        }
      },
      "outputs": [
        {
          "output_type": "stream",
          "name": "stdout",
          "text": [
            "📤 Upload your OAuth credentials JSON file\n",
            "   (The file you downloaded: client_secret_xxxxx.json)\n",
            "\n"
          ]
        },
        {
          "output_type": "display_data",
          "data": {
            "text/plain": [
              "<IPython.core.display.HTML object>"
            ],
            "text/html": [
              "\n",
              "     <input type=\"file\" id=\"files-493dd217-45f4-4895-990f-3705bcd2a42d\" name=\"files[]\" multiple disabled\n",
              "        style=\"border:none\" />\n",
              "     <output id=\"result-493dd217-45f4-4895-990f-3705bcd2a42d\">\n",
              "      Upload widget is only available when the cell has been executed in the\n",
              "      current browser session. Please rerun this cell to enable.\n",
              "      </output>\n",
              "      <script>// Copyright 2017 Google LLC\n",
              "//\n",
              "// Licensed under the Apache License, Version 2.0 (the \"License\");\n",
              "// you may not use this file except in compliance with the License.\n",
              "// You may obtain a copy of the License at\n",
              "//\n",
              "//      http://www.apache.org/licenses/LICENSE-2.0\n",
              "//\n",
              "// Unless required by applicable law or agreed to in writing, software\n",
              "// distributed under the License is distributed on an \"AS IS\" BASIS,\n",
              "// WITHOUT WARRANTIES OR CONDITIONS OF ANY KIND, either express or implied.\n",
              "// See the License for the specific language governing permissions and\n",
              "// limitations under the License.\n",
              "\n",
              "/**\n",
              " * @fileoverview Helpers for google.colab Python module.\n",
              " */\n",
              "(function(scope) {\n",
              "function span(text, styleAttributes = {}) {\n",
              "  const element = document.createElement('span');\n",
              "  element.textContent = text;\n",
              "  for (const key of Object.keys(styleAttributes)) {\n",
              "    element.style[key] = styleAttributes[key];\n",
              "  }\n",
              "  return element;\n",
              "}\n",
              "\n",
              "// Max number of bytes which will be uploaded at a time.\n",
              "const MAX_PAYLOAD_SIZE = 100 * 1024;\n",
              "\n",
              "function _uploadFiles(inputId, outputId) {\n",
              "  const steps = uploadFilesStep(inputId, outputId);\n",
              "  const outputElement = document.getElementById(outputId);\n",
              "  // Cache steps on the outputElement to make it available for the next call\n",
              "  // to uploadFilesContinue from Python.\n",
              "  outputElement.steps = steps;\n",
              "\n",
              "  return _uploadFilesContinue(outputId);\n",
              "}\n",
              "\n",
              "// This is roughly an async generator (not supported in the browser yet),\n",
              "// where there are multiple asynchronous steps and the Python side is going\n",
              "// to poll for completion of each step.\n",
              "// This uses a Promise to block the python side on completion of each step,\n",
              "// then passes the result of the previous step as the input to the next step.\n",
              "function _uploadFilesContinue(outputId) {\n",
              "  const outputElement = document.getElementById(outputId);\n",
              "  const steps = outputElement.steps;\n",
              "\n",
              "  const next = steps.next(outputElement.lastPromiseValue);\n",
              "  return Promise.resolve(next.value.promise).then((value) => {\n",
              "    // Cache the last promise value to make it available to the next\n",
              "    // step of the generator.\n",
              "    outputElement.lastPromiseValue = value;\n",
              "    return next.value.response;\n",
              "  });\n",
              "}\n",
              "\n",
              "/**\n",
              " * Generator function which is called between each async step of the upload\n",
              " * process.\n",
              " * @param {string} inputId Element ID of the input file picker element.\n",
              " * @param {string} outputId Element ID of the output display.\n",
              " * @return {!Iterable<!Object>} Iterable of next steps.\n",
              " */\n",
              "function* uploadFilesStep(inputId, outputId) {\n",
              "  const inputElement = document.getElementById(inputId);\n",
              "  inputElement.disabled = false;\n",
              "\n",
              "  const outputElement = document.getElementById(outputId);\n",
              "  outputElement.innerHTML = '';\n",
              "\n",
              "  const pickedPromise = new Promise((resolve) => {\n",
              "    inputElement.addEventListener('change', (e) => {\n",
              "      resolve(e.target.files);\n",
              "    });\n",
              "  });\n",
              "\n",
              "  const cancel = document.createElement('button');\n",
              "  inputElement.parentElement.appendChild(cancel);\n",
              "  cancel.textContent = 'Cancel upload';\n",
              "  const cancelPromise = new Promise((resolve) => {\n",
              "    cancel.onclick = () => {\n",
              "      resolve(null);\n",
              "    };\n",
              "  });\n",
              "\n",
              "  // Wait for the user to pick the files.\n",
              "  const files = yield {\n",
              "    promise: Promise.race([pickedPromise, cancelPromise]),\n",
              "    response: {\n",
              "      action: 'starting',\n",
              "    }\n",
              "  };\n",
              "\n",
              "  cancel.remove();\n",
              "\n",
              "  // Disable the input element since further picks are not allowed.\n",
              "  inputElement.disabled = true;\n",
              "\n",
              "  if (!files) {\n",
              "    return {\n",
              "      response: {\n",
              "        action: 'complete',\n",
              "      }\n",
              "    };\n",
              "  }\n",
              "\n",
              "  for (const file of files) {\n",
              "    const li = document.createElement('li');\n",
              "    li.append(span(file.name, {fontWeight: 'bold'}));\n",
              "    li.append(span(\n",
              "        `(${file.type || 'n/a'}) - ${file.size} bytes, ` +\n",
              "        `last modified: ${\n",
              "            file.lastModifiedDate ? file.lastModifiedDate.toLocaleDateString() :\n",
              "                                    'n/a'} - `));\n",
              "    const percent = span('0% done');\n",
              "    li.appendChild(percent);\n",
              "\n",
              "    outputElement.appendChild(li);\n",
              "\n",
              "    const fileDataPromise = new Promise((resolve) => {\n",
              "      const reader = new FileReader();\n",
              "      reader.onload = (e) => {\n",
              "        resolve(e.target.result);\n",
              "      };\n",
              "      reader.readAsArrayBuffer(file);\n",
              "    });\n",
              "    // Wait for the data to be ready.\n",
              "    let fileData = yield {\n",
              "      promise: fileDataPromise,\n",
              "      response: {\n",
              "        action: 'continue',\n",
              "      }\n",
              "    };\n",
              "\n",
              "    // Use a chunked sending to avoid message size limits. See b/62115660.\n",
              "    let position = 0;\n",
              "    do {\n",
              "      const length = Math.min(fileData.byteLength - position, MAX_PAYLOAD_SIZE);\n",
              "      const chunk = new Uint8Array(fileData, position, length);\n",
              "      position += length;\n",
              "\n",
              "      const base64 = btoa(String.fromCharCode.apply(null, chunk));\n",
              "      yield {\n",
              "        response: {\n",
              "          action: 'append',\n",
              "          file: file.name,\n",
              "          data: base64,\n",
              "        },\n",
              "      };\n",
              "\n",
              "      let percentDone = fileData.byteLength === 0 ?\n",
              "          100 :\n",
              "          Math.round((position / fileData.byteLength) * 100);\n",
              "      percent.textContent = `${percentDone}% done`;\n",
              "\n",
              "    } while (position < fileData.byteLength);\n",
              "  }\n",
              "\n",
              "  // All done.\n",
              "  yield {\n",
              "    response: {\n",
              "      action: 'complete',\n",
              "    }\n",
              "  };\n",
              "}\n",
              "\n",
              "scope.google = scope.google || {};\n",
              "scope.google.colab = scope.google.colab || {};\n",
              "scope.google.colab._files = {\n",
              "  _uploadFiles,\n",
              "  _uploadFilesContinue,\n",
              "};\n",
              "})(self);\n",
              "</script> "
            ]
          },
          "metadata": {}
        },
        {
          "output_type": "error",
          "ename": "KeyboardInterrupt",
          "evalue": "",
          "traceback": [
            "\u001b[0;31m---------------------------------------------------------------------------\u001b[0m",
            "\u001b[0;31mKeyboardInterrupt\u001b[0m                         Traceback (most recent call last)",
            "\u001b[0;32m/tmp/ipython-input-2224988226.py\u001b[0m in \u001b[0;36m<cell line: 0>\u001b[0;34m()\u001b[0m\n\u001b[1;32m      7\u001b[0m \u001b[0mprint\u001b[0m\u001b[0;34m(\u001b[0m\u001b[0;34m)\u001b[0m\u001b[0;34m\u001b[0m\u001b[0;34m\u001b[0m\u001b[0m\n\u001b[1;32m      8\u001b[0m \u001b[0;34m\u001b[0m\u001b[0m\n\u001b[0;32m----> 9\u001b[0;31m \u001b[0muploaded\u001b[0m \u001b[0;34m=\u001b[0m \u001b[0mfiles\u001b[0m\u001b[0;34m.\u001b[0m\u001b[0mupload\u001b[0m\u001b[0;34m(\u001b[0m\u001b[0;34m)\u001b[0m\u001b[0;34m\u001b[0m\u001b[0;34m\u001b[0m\u001b[0m\n\u001b[0m\u001b[1;32m     10\u001b[0m \u001b[0;34m\u001b[0m\u001b[0m\n\u001b[1;32m     11\u001b[0m \u001b[0;31m# Get the uploaded filename\u001b[0m\u001b[0;34m\u001b[0m\u001b[0;34m\u001b[0m\u001b[0m\n",
            "\u001b[0;32m/usr/local/lib/python3.12/dist-packages/google/colab/files.py\u001b[0m in \u001b[0;36mupload\u001b[0;34m(target_dir)\u001b[0m\n\u001b[1;32m     70\u001b[0m   \"\"\"\n\u001b[1;32m     71\u001b[0m \u001b[0;34m\u001b[0m\u001b[0m\n\u001b[0;32m---> 72\u001b[0;31m   \u001b[0muploaded_files\u001b[0m \u001b[0;34m=\u001b[0m \u001b[0m_upload_files\u001b[0m\u001b[0;34m(\u001b[0m\u001b[0mmultiple\u001b[0m\u001b[0;34m=\u001b[0m\u001b[0;32mTrue\u001b[0m\u001b[0;34m)\u001b[0m\u001b[0;34m\u001b[0m\u001b[0;34m\u001b[0m\u001b[0m\n\u001b[0m\u001b[1;32m     73\u001b[0m   \u001b[0;31m# Mapping from original filename to filename as saved locally.\u001b[0m\u001b[0;34m\u001b[0m\u001b[0;34m\u001b[0m\u001b[0m\n\u001b[1;32m     74\u001b[0m   \u001b[0mlocal_filenames\u001b[0m \u001b[0;34m=\u001b[0m \u001b[0mdict\u001b[0m\u001b[0;34m(\u001b[0m\u001b[0;34m)\u001b[0m\u001b[0;34m\u001b[0m\u001b[0;34m\u001b[0m\u001b[0m\n",
            "\u001b[0;32m/usr/local/lib/python3.12/dist-packages/google/colab/files.py\u001b[0m in \u001b[0;36m_upload_files\u001b[0;34m(multiple)\u001b[0m\n\u001b[1;32m    162\u001b[0m \u001b[0;34m\u001b[0m\u001b[0m\n\u001b[1;32m    163\u001b[0m   \u001b[0;31m# First result is always an indication that the file picker has completed.\u001b[0m\u001b[0;34m\u001b[0m\u001b[0;34m\u001b[0m\u001b[0m\n\u001b[0;32m--> 164\u001b[0;31m   result = _output.eval_js(\n\u001b[0m\u001b[1;32m    165\u001b[0m       'google.colab._files._uploadFiles(\"{input_id}\", \"{output_id}\")'.format(\n\u001b[1;32m    166\u001b[0m           \u001b[0minput_id\u001b[0m\u001b[0;34m=\u001b[0m\u001b[0minput_id\u001b[0m\u001b[0;34m,\u001b[0m \u001b[0moutput_id\u001b[0m\u001b[0;34m=\u001b[0m\u001b[0moutput_id\u001b[0m\u001b[0;34m\u001b[0m\u001b[0;34m\u001b[0m\u001b[0m\n",
            "\u001b[0;32m/usr/local/lib/python3.12/dist-packages/google/colab/output/_js.py\u001b[0m in \u001b[0;36meval_js\u001b[0;34m(script, ignore_result, timeout_sec)\u001b[0m\n\u001b[1;32m     38\u001b[0m   \u001b[0;32mif\u001b[0m \u001b[0mignore_result\u001b[0m\u001b[0;34m:\u001b[0m\u001b[0;34m\u001b[0m\u001b[0;34m\u001b[0m\u001b[0m\n\u001b[1;32m     39\u001b[0m     \u001b[0;32mreturn\u001b[0m\u001b[0;34m\u001b[0m\u001b[0;34m\u001b[0m\u001b[0m\n\u001b[0;32m---> 40\u001b[0;31m   \u001b[0;32mreturn\u001b[0m \u001b[0m_message\u001b[0m\u001b[0;34m.\u001b[0m\u001b[0mread_reply_from_input\u001b[0m\u001b[0;34m(\u001b[0m\u001b[0mrequest_id\u001b[0m\u001b[0;34m,\u001b[0m \u001b[0mtimeout_sec\u001b[0m\u001b[0;34m)\u001b[0m\u001b[0;34m\u001b[0m\u001b[0;34m\u001b[0m\u001b[0m\n\u001b[0m\u001b[1;32m     41\u001b[0m \u001b[0;34m\u001b[0m\u001b[0m\n\u001b[1;32m     42\u001b[0m \u001b[0;34m\u001b[0m\u001b[0m\n",
            "\u001b[0;32m/usr/local/lib/python3.12/dist-packages/google/colab/_message.py\u001b[0m in \u001b[0;36mread_reply_from_input\u001b[0;34m(message_id, timeout_sec)\u001b[0m\n\u001b[1;32m     94\u001b[0m     \u001b[0mreply\u001b[0m \u001b[0;34m=\u001b[0m \u001b[0m_read_next_input_message\u001b[0m\u001b[0;34m(\u001b[0m\u001b[0;34m)\u001b[0m\u001b[0;34m\u001b[0m\u001b[0;34m\u001b[0m\u001b[0m\n\u001b[1;32m     95\u001b[0m     \u001b[0;32mif\u001b[0m \u001b[0mreply\u001b[0m \u001b[0;34m==\u001b[0m \u001b[0m_NOT_READY\u001b[0m \u001b[0;32mor\u001b[0m \u001b[0;32mnot\u001b[0m \u001b[0misinstance\u001b[0m\u001b[0;34m(\u001b[0m\u001b[0mreply\u001b[0m\u001b[0;34m,\u001b[0m \u001b[0mdict\u001b[0m\u001b[0;34m)\u001b[0m\u001b[0;34m:\u001b[0m\u001b[0;34m\u001b[0m\u001b[0;34m\u001b[0m\u001b[0m\n\u001b[0;32m---> 96\u001b[0;31m       \u001b[0mtime\u001b[0m\u001b[0;34m.\u001b[0m\u001b[0msleep\u001b[0m\u001b[0;34m(\u001b[0m\u001b[0;36m0.025\u001b[0m\u001b[0;34m)\u001b[0m\u001b[0;34m\u001b[0m\u001b[0;34m\u001b[0m\u001b[0m\n\u001b[0m\u001b[1;32m     97\u001b[0m       \u001b[0;32mcontinue\u001b[0m\u001b[0;34m\u001b[0m\u001b[0;34m\u001b[0m\u001b[0m\n\u001b[1;32m     98\u001b[0m     if (\n",
            "\u001b[0;31mKeyboardInterrupt\u001b[0m: "
          ]
        }
      ],
      "source": [
        "from google.colab import files\n",
        "import json\n",
        "import os\n",
        "\n",
        "print(\"📤 Upload your OAuth credentials JSON file\")\n",
        "print(\"   (The file you downloaded: client_secret_xxxxx.json)\")\n",
        "print()\n",
        "\n",
        "uploaded = files.upload()\n",
        "\n",
        "# Get the uploaded filename\n",
        "credentials_filename = list(uploaded.keys())[0]\n",
        "\n",
        "# Create config directory\n",
        "!mkdir -p /content/mcp_config\n",
        "\n",
        "# Copy to standard location\n",
        "!cp \"{credentials_filename}\" /content/mcp_config/credentials.json\n",
        "\n",
        "# Verify\n",
        "with open('/content/mcp_config/credentials.json', 'r') as f:\n",
        "    creds = json.load(f)\n",
        "    print(f\"\\n✅ Credentials uploaded successfully!\")\n",
        "    print(f\"   Client ID: {creds['installed']['client_id'][:30]}...\")\n",
        "\n",
        "print(f\"\\n📁 Credentials saved to: /content/mcp_config/credentials.json\")"
      ]
    },
    {
      "cell_type": "markdown",
      "metadata": {
        "id": "wh5D2RM_jOVo"
      },
      "source": [
        "## Part F: Set Up Environment Variables\n",
        "\n",
        "### Option 1: Using Colab Secrets (Recommended)\n",
        "\n",
        "1. Click the **🔑 key icon** in the left sidebar\n",
        "2. Add a new secret:\n",
        "   - Name: `OPENAI_API_KEY`\n",
        "   - Value: Your OpenAI API key\n",
        "3. Toggle **\"Notebook access\"** to ON\n",
        "\n",
        "### Option 2: Direct Input (Less Secure)"
      ]
    },
    {
      "cell_type": "code",
      "execution_count": 14,
      "metadata": {
        "id": "pIcnxFJyjOVo",
        "outputId": "6a893107-1ad3-4b87-9b9a-6c17ce90a9c6",
        "colab": {
          "base_uri": "https://localhost:8080/"
        }
      },
      "outputs": [
        {
          "output_type": "stream",
          "name": "stdout",
          "text": [
            "✅ OpenAI API key loaded from Colab secrets\n",
            "\n",
            "📧 Sender Email: cygenaidemo@gmail.com\n",
            "📁 Credentials: /content/mcp_config/credentials.json\n"
          ]
        }
      ],
      "source": [
        "import os\n",
        "from getpass import getpass\n",
        "\n",
        "# Try to get from Colab secrets first\n",
        "try:\n",
        "    from google.colab import userdata\n",
        "    OPENAI_API_KEY = userdata.get('OPENAI_API_KEY')\n",
        "    print(\"✅ OpenAI API key loaded from Colab secrets\")\n",
        "except:\n",
        "    # Fallback to manual input\n",
        "    print(\"⚠️ Colab secret not found. Enter manually:\")\n",
        "    OPENAI_API_KEY = getpass(\"Enter your OpenAI API Key: \")\n",
        "\n",
        "# Set environment variable\n",
        "os.environ['OPENAI_API_KEY'] = OPENAI_API_KEY\n",
        "\n",
        "# Configuration\n",
        "SENDER_EMAIL = \"cygenaidemo@gmail.com\"\n",
        "CREDENTIALS_PATH = \"/content/mcp_config/credentials.json\"\n",
        "\n",
        "print(f\"\\n📧 Sender Email: {SENDER_EMAIL}\")\n",
        "print(f\"📁 Credentials: {CREDENTIALS_PATH}\")"
      ]
    },
    {
      "cell_type": "markdown",
      "metadata": {
        "id": "9I2i6LbCjOVo"
      },
      "source": [
        "## Part G: Authenticate Gmail & Calendar\n",
        "\n",
        "**IMPORTANT**: This will open authentication flows.\n",
        "\n",
        "For each service:\n",
        "1. A link will be displayed\n",
        "2. Click the link and authenticate with **cygenaidemo@gmail.com**\n",
        "3. Copy the authorization code\n",
        "4. Paste it back in the input box"
      ]
    },
    {
      "cell_type": "code",
      "execution_count": 17,
      "metadata": {
        "id": "enrxugfJjOVo",
        "outputId": "8589f4b7-fb6c-4a69-8fcb-025adfa26b93",
        "colab": {
          "base_uri": "https://localhost:8080/"
        }
      },
      "outputs": [
        {
          "output_type": "stream",
          "name": "stdout",
          "text": [
            "🔐 Gmail Authentication\n",
            "============================================================\n",
            "\n",
            "🌐 Please visit this URL to authorize:\n",
            "https://accounts.google.com/o/oauth2/auth?response_type=code&client_id=1092975844541-t1ckf70a6ve5iu0c514k3ifqs6o1f001.apps.googleusercontent.com&redirect_uri=urn%3Aietf%3Awg%3Aoauth%3A2.0%3Aoob&scope=https%3A%2F%2Fwww.googleapis.com%2Fauth%2Fgmail.send+https%3A%2F%2Fwww.googleapis.com%2Fauth%2Fgmail.readonly&state=EIJVlPSZLdya72XB1mWrKhk8B8hH8c&prompt=consent&access_type=offline\n",
            "\n",
            "📋 After authorizing, copy the authorization code and paste it below:\n",
            "Enter authorization code: 4/1AVGzR1CjQtSVMwwrXp2Q5q0RqkM5C89EMAqep9n-F8c8Yi4Uh2gtuC4cNao\n",
            "\n",
            "✅ Gmail authenticated!\n",
            "📁 Token saved: /content/mcp_config/gmail-token.json\n"
          ]
        }
      ],
      "source": [
        "from google_auth_oauthlib.flow import InstalledAppFlow\n",
        "import json\n",
        "\n",
        "print(\"🔐 Gmail Authentication\")\n",
        "print(\"=\"*60)\n",
        "\n",
        "GMAIL_SCOPES = [\n",
        "    'https://www.googleapis.com/auth/gmail.send',\n",
        "    'https://www.googleapis.com/auth/gmail.readonly'\n",
        "]\n",
        "\n",
        "# Create flow\n",
        "gmail_flow = InstalledAppFlow.from_client_secrets_file(\n",
        "    CREDENTIALS_PATH,\n",
        "    scopes=GMAIL_SCOPES,\n",
        "    redirect_uri='urn:ietf:wg:oauth:2.0:oob'  # For manual code entry\n",
        ")\n",
        "\n",
        "# Get authorization URL\n",
        "auth_url, _ = gmail_flow.authorization_url(prompt='consent')\n",
        "\n",
        "print(\"\\n🌐 Please visit this URL to authorize:\")\n",
        "print(auth_url)\n",
        "print(\"\\n📋 After authorizing, copy the authorization code and paste it below:\")\n",
        "\n",
        "# Get the code from user\n",
        "code = input(\"Enter authorization code: \").strip()\n",
        "\n",
        "# Exchange code for credentials\n",
        "gmail_flow.fetch_token(code=code)\n",
        "gmail_creds = gmail_flow.credentials\n",
        "\n",
        "# Save token\n",
        "gmail_token_path = '/content/mcp_config/gmail-token.json'\n",
        "with open(gmail_token_path, 'w') as token:\n",
        "    token.write(gmail_creds.to_json())\n",
        "\n",
        "print(f\"\\n✅ Gmail authenticated!\")\n",
        "print(f\"📁 Token saved: {gmail_token_path}\")"
      ]
    },
    {
      "cell_type": "code",
      "execution_count": 19,
      "metadata": {
        "id": "272CAV1pjOVo",
        "outputId": "14e857e3-f5fc-45eb-8ed3-f91ab117b70a",
        "colab": {
          "base_uri": "https://localhost:8080/"
        }
      },
      "outputs": [
        {
          "output_type": "stream",
          "name": "stdout",
          "text": [
            "\n",
            "🔐 Google Calendar Authentication\n",
            "============================================================\n",
            "\n",
            "🌐 Please visit this URL to authorize:\n",
            "https://accounts.google.com/o/oauth2/auth?response_type=code&client_id=1092975844541-t1ckf70a6ve5iu0c514k3ifqs6o1f001.apps.googleusercontent.com&redirect_uri=urn%3Aietf%3Awg%3Aoauth%3A2.0%3Aoob&scope=https%3A%2F%2Fwww.googleapis.com%2Fauth%2Fcalendar+https%3A%2F%2Fwww.googleapis.com%2Fauth%2Fcalendar.events&state=y9rZEL2rR0mEHiTvfv831nDYyZgyE2&prompt=consent&access_type=offline\n",
            "\n",
            "📋 After authorizing, copy the authorization code and paste it below:\n",
            "Enter authorization code: 4/1AVGzR1CVvd1qunuaf5HM7QZneoRn8UITYqVUNUjbAGzhgsCMFgJAYyPlSns\n",
            "\n",
            "✅ Calendar authenticated!\n",
            "📁 Token saved: /content/mcp_config/calendar-token.json\n"
          ]
        }
      ],
      "source": [
        "# Calendar Authentication\n",
        "from google_auth_oauthlib.flow import InstalledAppFlow\n",
        "import json\n",
        "\n",
        "print(\"\\n🔐 Google Calendar Authentication\")\n",
        "print(\"=\"*60)\n",
        "\n",
        "CALENDAR_SCOPES = [\n",
        "    'https://www.googleapis.com/auth/calendar',\n",
        "    'https://www.googleapis.com/auth/calendar.events'\n",
        "]\n",
        "\n",
        "# Create flow\n",
        "calendar_flow = InstalledAppFlow.from_client_secrets_file(\n",
        "    CREDENTIALS_PATH,\n",
        "    scopes=CALENDAR_SCOPES,\n",
        "    redirect_uri='urn:ietf:wg:oauth:2.0:oob'  # For manual code entry\n",
        ")\n",
        "\n",
        "# Get authorization URL\n",
        "auth_url, _ = calendar_flow.authorization_url(prompt='consent')\n",
        "\n",
        "print(\"\\n🌐 Please visit this URL to authorize:\")\n",
        "print(auth_url)\n",
        "print(\"\\n📋 After authorizing, copy the authorization code and paste it below:\")\n",
        "\n",
        "# Get the code from user\n",
        "code = input(\"Enter authorization code: \").strip()\n",
        "\n",
        "# Exchange code for credentials\n",
        "calendar_flow.fetch_token(code=code)\n",
        "calendar_creds = calendar_flow.credentials\n",
        "\n",
        "# Save token\n",
        "calendar_token_path = '/content/mcp_config/calendar-token.json'\n",
        "with open(calendar_token_path, 'w') as token:\n",
        "    token.write(calendar_creds.to_json())\n",
        "\n",
        "print(f\"\\n✅ Calendar authenticated!\")\n",
        "print(f\"📁 Token saved: {calendar_token_path}\")"
      ]
    },
    {
      "cell_type": "markdown",
      "metadata": {
        "id": "UGg4thp5jOVp"
      },
      "source": [
        "## Part H: Verify Setup"
      ]
    },
    {
      "cell_type": "code",
      "execution_count": 20,
      "metadata": {
        "id": "Y5e2NJaQjOVp",
        "outputId": "71642d66-c739-47e4-a3b5-8026945dd3bd",
        "colab": {
          "base_uri": "https://localhost:8080/"
        }
      },
      "outputs": [
        {
          "output_type": "stream",
          "name": "stdout",
          "text": [
            "🔍 Setup Verification\n",
            "============================================================\n",
            "✅ Node.js installed\n",
            "✅ npm installed\n",
            "✅ Credentials file\n",
            "✅ Gmail token\n",
            "✅ Calendar token\n",
            "✅ OpenAI API key\n",
            "\n",
            "🎉 All checks passed! Ready to proceed with labs.\n"
          ]
        }
      ],
      "source": [
        "# Verification\n",
        "import os\n",
        "\n",
        "print(\"🔍 Setup Verification\")\n",
        "print(\"=\"*60)\n",
        "\n",
        "checks = {\n",
        "    \"Node.js installed\": os.system(\"which node > /dev/null 2>&1\") == 0,\n",
        "    \"npm installed\": os.system(\"which npm > /dev/null 2>&1\") == 0,\n",
        "    \"Credentials file\": os.path.exists(CREDENTIALS_PATH),\n",
        "    \"Gmail token\": os.path.exists('/content/mcp_config/gmail-token.json'),\n",
        "    \"Calendar token\": os.path.exists('/content/mcp_config/calendar-token.json'),\n",
        "    \"OpenAI API key\": os.getenv('OPENAI_API_KEY') is not None\n",
        "}\n",
        "\n",
        "for check, passed in checks.items():\n",
        "    status = \"✅\" if passed else \"❌\"\n",
        "    print(f\"{status} {check}\")\n",
        "\n",
        "all_passed = all(checks.values())\n",
        "\n",
        "if all_passed:\n",
        "    print(\"\\n🎉 All checks passed! Ready to proceed with labs.\")\n",
        "else:\n",
        "    print(\"\\n⚠️ Some checks failed. Please review the setup steps.\")"
      ]
    },
    {
      "cell_type": "markdown",
      "metadata": {
        "id": "603ZWLdXjOVp"
      },
      "source": [
        "## Part I: Create MCP Configuration"
      ]
    },
    {
      "cell_type": "code",
      "execution_count": null,
      "metadata": {
        "id": "GqVufJ-DjOVp"
      },
      "outputs": [],
      "source": [
        "# Create MCP configuration for Colab\n",
        "import json\n",
        "\n",
        "mcp_config = {\n",
        "    \"mcpServers\": {\n",
        "        \"gmail\": {\n",
        "            \"command\": \"npx\",\n",
        "            \"args\": [\"-y\", \"@modelcontextprotocol/server-gmail\"],\n",
        "            \"transport\": \"stdio\",\n",
        "            \"env\": {\n",
        "                \"GMAIL_CREDENTIALS\": \"/content/mcp_config/credentials.json\",\n",
        "                \"GMAIL_TOKEN\": \"/content/mcp_config/gmail-token.json\",\n",
        "                \"GMAIL_USER\": SENDER_EMAIL\n",
        "            }\n",
        "        },\n",
        "        \"google_calendar\": {\n",
        "            \"command\": \"npx\",\n",
        "            \"args\": [\"-y\", \"@modelcontextprotocol/server-google-calendar\"],\n",
        "            \"transport\": \"stdio\",\n",
        "            \"env\": {\n",
        "                \"GOOGLE_CALENDAR_CREDENTIALS\": \"/content/mcp_config/credentials.json\",\n",
        "                \"GOOGLE_CALENDAR_TOKEN\": \"/content/mcp_config/calendar-token.json\",\n",
        "                \"GOOGLE_CALENDAR_USER\": SENDER_EMAIL\n",
        "            }\n",
        "        },\n",
        "        \"filesystem\": {\n",
        "            \"command\": \"npx\",\n",
        "            \"args\": [\"-y\", \"@modelcontextprotocol/server-filesystem\", \"/content/data\"],\n",
        "            \"transport\": \"stdio\"\n",
        "        }\n",
        "    }\n",
        "}\n",
        "\n",
        "# Save configuration\n",
        "config_path = '/content/mcp_config.json'\n",
        "with open(config_path, 'w') as f:\n",
        "    json.dump(mcp_config, f, indent=2)\n",
        "\n",
        "print(\"✅ MCP Configuration created\")\n",
        "print(f\"📁 Config saved: {config_path}\")\n",
        "print(\"\\n📋 Configuration:\")\n",
        "print(json.dumps(mcp_config, indent=2))"
      ]
    },
    {
      "cell_type": "markdown",
      "metadata": {
        "id": "qPNwZ8N6jOVp"
      },
      "source": [
        "---\n",
        "\n",
        "## ✅ Lab 0 Complete!\n",
        "\n",
        "You're now ready to use real Gmail and Calendar MCP servers in Colab.\n",
        "\n",
        "### What we set up:\n",
        "- ✅ Node.js in Colab\n",
        "- ✅ MCP servers installed\n",
        "- ✅ OAuth credentials configured\n",
        "- ✅ Gmail authenticated\n",
        "- ✅ Calendar authenticated\n",
        "- ✅ MCP configuration file created\n",
        "\n",
        "### ⚠️ Important Notes for Colab:\n",
        "1. **Session Persistence**: Colab sessions are temporary. If disconnected, you'll need to:\n",
        "   - Re-run setup cells (Node.js, MCP servers)\n",
        "   - Re-upload credentials OR save to Google Drive\n",
        "   - Authentication tokens should persist if saved\n",
        "\n",
        "2. **Save to Google Drive** (Optional but Recommended):"
      ]
    },
    {
      "cell_type": "code",
      "execution_count": 21,
      "metadata": {
        "id": "HGJWpUeQjOVp",
        "outputId": "5a47302b-afad-4a7f-f9cb-37df3b446c33",
        "colab": {
          "base_uri": "https://localhost:8080/",
          "height": 463
        }
      },
      "outputs": [
        {
          "name": "stdout",
          "output_type": "stream",
          "text": [
            "💾 Save setup to Google Drive for persistence?\n",
            "   This allows you to skip setup in future sessions.\n",
            "\n",
            "Save to Drive? (y/n): y\n"
          ]
        },
        {
          "output_type": "error",
          "ename": "MessageError",
          "evalue": "Error: credential propagation was unsuccessful",
          "traceback": [
            "\u001b[0;31m---------------------------------------------------------------------------\u001b[0m",
            "\u001b[0;31mMessageError\u001b[0m                              Traceback (most recent call last)",
            "\u001b[0;32m/tmp/ipython-input-2167166454.py\u001b[0m in \u001b[0;36m<cell line: 0>\u001b[0;34m()\u001b[0m\n\u001b[1;32m     10\u001b[0m \u001b[0;32mif\u001b[0m \u001b[0msave_to_drive\u001b[0m\u001b[0;34m:\u001b[0m\u001b[0;34m\u001b[0m\u001b[0;34m\u001b[0m\u001b[0m\n\u001b[1;32m     11\u001b[0m     \u001b[0;31m# Mount Google Drive\u001b[0m\u001b[0;34m\u001b[0m\u001b[0;34m\u001b[0m\u001b[0m\n\u001b[0;32m---> 12\u001b[0;31m     \u001b[0mdrive\u001b[0m\u001b[0;34m.\u001b[0m\u001b[0mmount\u001b[0m\u001b[0;34m(\u001b[0m\u001b[0;34m'/content/drive'\u001b[0m\u001b[0;34m)\u001b[0m\u001b[0;34m\u001b[0m\u001b[0;34m\u001b[0m\u001b[0m\n\u001b[0m\u001b[1;32m     13\u001b[0m \u001b[0;34m\u001b[0m\u001b[0m\n\u001b[1;32m     14\u001b[0m     \u001b[0;31m# Create directory\u001b[0m\u001b[0;34m\u001b[0m\u001b[0;34m\u001b[0m\u001b[0m\n",
            "\u001b[0;32m/usr/local/lib/python3.12/dist-packages/google/colab/drive.py\u001b[0m in \u001b[0;36mmount\u001b[0;34m(mountpoint, force_remount, timeout_ms, readonly)\u001b[0m\n\u001b[1;32m     95\u001b[0m \u001b[0;32mdef\u001b[0m \u001b[0mmount\u001b[0m\u001b[0;34m(\u001b[0m\u001b[0mmountpoint\u001b[0m\u001b[0;34m,\u001b[0m \u001b[0mforce_remount\u001b[0m\u001b[0;34m=\u001b[0m\u001b[0;32mFalse\u001b[0m\u001b[0;34m,\u001b[0m \u001b[0mtimeout_ms\u001b[0m\u001b[0;34m=\u001b[0m\u001b[0;36m120000\u001b[0m\u001b[0;34m,\u001b[0m \u001b[0mreadonly\u001b[0m\u001b[0;34m=\u001b[0m\u001b[0;32mFalse\u001b[0m\u001b[0;34m)\u001b[0m\u001b[0;34m:\u001b[0m\u001b[0;34m\u001b[0m\u001b[0;34m\u001b[0m\u001b[0m\n\u001b[1;32m     96\u001b[0m   \u001b[0;34m\"\"\"Mount your Google Drive at the specified mountpoint path.\"\"\"\u001b[0m\u001b[0;34m\u001b[0m\u001b[0;34m\u001b[0m\u001b[0m\n\u001b[0;32m---> 97\u001b[0;31m   return _mount(\n\u001b[0m\u001b[1;32m     98\u001b[0m       \u001b[0mmountpoint\u001b[0m\u001b[0;34m,\u001b[0m\u001b[0;34m\u001b[0m\u001b[0;34m\u001b[0m\u001b[0m\n\u001b[1;32m     99\u001b[0m       \u001b[0mforce_remount\u001b[0m\u001b[0;34m=\u001b[0m\u001b[0mforce_remount\u001b[0m\u001b[0;34m,\u001b[0m\u001b[0;34m\u001b[0m\u001b[0;34m\u001b[0m\u001b[0m\n",
            "\u001b[0;32m/usr/local/lib/python3.12/dist-packages/google/colab/drive.py\u001b[0m in \u001b[0;36m_mount\u001b[0;34m(mountpoint, force_remount, timeout_ms, ephemeral, readonly)\u001b[0m\n\u001b[1;32m    132\u001b[0m   )\n\u001b[1;32m    133\u001b[0m   \u001b[0;32mif\u001b[0m \u001b[0mephemeral\u001b[0m\u001b[0;34m:\u001b[0m\u001b[0;34m\u001b[0m\u001b[0;34m\u001b[0m\u001b[0m\n\u001b[0;32m--> 134\u001b[0;31m     _message.blocking_request(\n\u001b[0m\u001b[1;32m    135\u001b[0m         \u001b[0;34m'request_auth'\u001b[0m\u001b[0;34m,\u001b[0m\u001b[0;34m\u001b[0m\u001b[0;34m\u001b[0m\u001b[0m\n\u001b[1;32m    136\u001b[0m         \u001b[0mrequest\u001b[0m\u001b[0;34m=\u001b[0m\u001b[0;34m{\u001b[0m\u001b[0;34m'authType'\u001b[0m\u001b[0;34m:\u001b[0m \u001b[0;34m'dfs_ephemeral'\u001b[0m\u001b[0;34m}\u001b[0m\u001b[0;34m,\u001b[0m\u001b[0;34m\u001b[0m\u001b[0;34m\u001b[0m\u001b[0m\n",
            "\u001b[0;32m/usr/local/lib/python3.12/dist-packages/google/colab/_message.py\u001b[0m in \u001b[0;36mblocking_request\u001b[0;34m(request_type, request, timeout_sec, parent)\u001b[0m\n\u001b[1;32m    174\u001b[0m       \u001b[0mrequest_type\u001b[0m\u001b[0;34m,\u001b[0m \u001b[0mrequest\u001b[0m\u001b[0;34m,\u001b[0m \u001b[0mparent\u001b[0m\u001b[0;34m=\u001b[0m\u001b[0mparent\u001b[0m\u001b[0;34m,\u001b[0m \u001b[0mexpect_reply\u001b[0m\u001b[0;34m=\u001b[0m\u001b[0;32mTrue\u001b[0m\u001b[0;34m\u001b[0m\u001b[0;34m\u001b[0m\u001b[0m\n\u001b[1;32m    175\u001b[0m   )\n\u001b[0;32m--> 176\u001b[0;31m   \u001b[0;32mreturn\u001b[0m \u001b[0mread_reply_from_input\u001b[0m\u001b[0;34m(\u001b[0m\u001b[0mrequest_id\u001b[0m\u001b[0;34m,\u001b[0m \u001b[0mtimeout_sec\u001b[0m\u001b[0;34m)\u001b[0m\u001b[0;34m\u001b[0m\u001b[0;34m\u001b[0m\u001b[0m\n\u001b[0m",
            "\u001b[0;32m/usr/local/lib/python3.12/dist-packages/google/colab/_message.py\u001b[0m in \u001b[0;36mread_reply_from_input\u001b[0;34m(message_id, timeout_sec)\u001b[0m\n\u001b[1;32m    101\u001b[0m     ):\n\u001b[1;32m    102\u001b[0m       \u001b[0;32mif\u001b[0m \u001b[0;34m'error'\u001b[0m \u001b[0;32min\u001b[0m \u001b[0mreply\u001b[0m\u001b[0;34m:\u001b[0m\u001b[0;34m\u001b[0m\u001b[0;34m\u001b[0m\u001b[0m\n\u001b[0;32m--> 103\u001b[0;31m         \u001b[0;32mraise\u001b[0m \u001b[0mMessageError\u001b[0m\u001b[0;34m(\u001b[0m\u001b[0mreply\u001b[0m\u001b[0;34m[\u001b[0m\u001b[0;34m'error'\u001b[0m\u001b[0;34m]\u001b[0m\u001b[0;34m)\u001b[0m\u001b[0;34m\u001b[0m\u001b[0;34m\u001b[0m\u001b[0m\n\u001b[0m\u001b[1;32m    104\u001b[0m       \u001b[0;32mreturn\u001b[0m \u001b[0mreply\u001b[0m\u001b[0;34m.\u001b[0m\u001b[0mget\u001b[0m\u001b[0;34m(\u001b[0m\u001b[0;34m'data'\u001b[0m\u001b[0;34m,\u001b[0m \u001b[0;32mNone\u001b[0m\u001b[0;34m)\u001b[0m\u001b[0;34m\u001b[0m\u001b[0;34m\u001b[0m\u001b[0m\n\u001b[1;32m    105\u001b[0m \u001b[0;34m\u001b[0m\u001b[0m\n",
            "\u001b[0;31mMessageError\u001b[0m: Error: credential propagation was unsuccessful"
          ]
        }
      ],
      "source": [
        "# Optional: Save credentials to Google Drive for persistence\n",
        "from google.colab import drive\n",
        "\n",
        "print(\"💾 Save setup to Google Drive for persistence?\")\n",
        "print(\"   This allows you to skip setup in future sessions.\")\n",
        "print()\n",
        "\n",
        "save_to_drive = input(\"Save to Drive? (y/n): \").lower() == 'y'\n",
        "\n",
        "if save_to_drive:\n",
        "    # Mount Google Drive\n",
        "    drive.mount('/content/drive')\n",
        "\n",
        "    # Create directory\n",
        "    !mkdir -p /content/drive/MyDrive/mcp_labs_config\n",
        "\n",
        "    # Copy files\n",
        "    !cp -r /content/mcp_config/* /content/drive/MyDrive/mcp_labs_config/\n",
        "    !cp /content/mcp_config.json /content/drive/MyDrive/mcp_labs_config/\n",
        "\n",
        "    print(\"\\n✅ Configuration saved to Google Drive\")\n",
        "    print(\"📁 Location: /content/drive/MyDrive/mcp_labs_config/\")\n",
        "    print(\"\\n💡 Next time, you can restore with:\")\n",
        "    print(\"   !cp -r /content/drive/MyDrive/mcp_labs_config/* /content/mcp_config/\")\n",
        "else:\n",
        "    print(\"\\n⏭️ Skipped. You'll need to re-authenticate each session.\")"
      ]
    },
    {
      "cell_type": "markdown",
      "metadata": {
        "id": "AnWK2mBPjOVq"
      },
      "source": [
        "---\n",
        "\n",
        "# Core Imports and Setup"
      ]
    },
    {
      "cell_type": "code",
      "execution_count": null,
      "metadata": {
        "id": "I4KfqN75jOVq"
      },
      "outputs": [],
      "source": [
        "# Core imports\n",
        "import os\n",
        "import json\n",
        "import asyncio\n",
        "from pathlib import Path\n",
        "from typing import List, Dict, Any\n",
        "from datetime import datetime, timedelta\n",
        "\n",
        "# LangChain imports\n",
        "from langchain_openai import ChatOpenAI\n",
        "from langchain_core.messages import HumanMessage, AIMessage, ToolMessage\n",
        "from langchain_core.tools import tool\n",
        "\n",
        "# LangGraph imports\n",
        "from langgraph.graph import StateGraph, START, END, MessagesState\n",
        "from langgraph.prebuilt import create_react_agent\n",
        "\n",
        "# MCP imports\n",
        "try:\n",
        "    from langchain_mcp_adapters.client import MultiServerMCPClient\n",
        "    from mcp import ClientSession, StdioServerParameters\n",
        "    MCP_AVAILABLE = True\n",
        "except ImportError:\n",
        "    MCP_AVAILABLE = False\n",
        "    print(\"⚠️ MCP adapters not available\")\n",
        "\n",
        "# Initialize LLM\n",
        "llm = ChatOpenAI(model=\"gpt-4o\", temperature=0)\n",
        "\n",
        "print(\"✅ Imports complete\")\n",
        "print(f\"📧 Sender: {SENDER_EMAIL}\")\n",
        "print(f\"🔧 MCP Available: {MCP_AVAILABLE}\")"
      ]
    },
    {
      "cell_type": "markdown",
      "metadata": {
        "id": "AhfFSncQjOVq"
      },
      "source": [
        "## Sample Data"
      ]
    },
    {
      "cell_type": "code",
      "execution_count": null,
      "metadata": {
        "id": "uk5dNPOyjOVq"
      },
      "outputs": [],
      "source": [
        "# Create data directory\n",
        "!mkdir -p /content/data/resumes\n",
        "!mkdir -p /content/data/contracts\n",
        "\n",
        "# Sample data\n",
        "HR_DATABASE = {\n",
        "    \"candidates\": {\n",
        "        \"CAN001\": {\n",
        "            \"name\": \"Priya Sharma\",\n",
        "            \"email\": \"your-test-email@example.com\",  # ← Change for testing\n",
        "            \"position\": \"Senior Backend Engineer\",\n",
        "            \"status\": \"screening\"\n",
        "        }\n",
        "    }\n",
        "}\n",
        "\n",
        "AIRBNB_DATABASE = {\n",
        "    \"properties\": {\n",
        "        \"PROP001\": {\"name\": \"Cozy Goa Beach Villa\", \"price_per_night\": 8500}\n",
        "    },\n",
        "    \"bookings\": {\n",
        "        \"BOOK001\": {\n",
        "            \"guest_name\": \"Sarah Johnson\",\n",
        "            \"guest_email\": \"guest-test@example.com\",  # ← Change for testing\n",
        "            \"property_id\": \"PROP001\",\n",
        "            \"status\": \"confirmed\"\n",
        "        }\n",
        "    }\n",
        "}\n",
        "\n",
        "SAMPLE_RESUME = \"\"\"PRIYA SHARMA\n",
        "Senior Software Engineer | 6+ years Python/AWS experience\n",
        "Skills: FastAPI, microservices, Docker, Kubernetes\"\"\"\n",
        "\n",
        "print(\"✅ Sample data loaded\")"
      ]
    },
    {
      "cell_type": "markdown",
      "metadata": {
        "id": "FgbHpZsrjOVq"
      },
      "source": [
        "---\n",
        "\n",
        "# LAB 1: MCP Architecture"
      ]
    },
    {
      "cell_type": "code",
      "execution_count": null,
      "metadata": {
        "id": "fBxsAKQ3jOVq"
      },
      "outputs": [],
      "source": [
        "print(\"\"\"\n",
        "╔══════════════════════════════════════════════════════════════╗\n",
        "║         MCP ARCHITECTURE IN GOOGLE COLAB                     ║\n",
        "╚══════════════════════════════════════════════════════════════╝\n",
        "\n",
        "COLAB NOTEBOOK\n",
        "      │\n",
        "      │ langchain-mcp-adapters\n",
        "      ▼\n",
        "┌─────────────────────┐\n",
        "│MultiServerMCPClient │ ◄─── /content/mcp_config.json\n",
        "└─────────┬───────────┘\n",
        "          │\n",
        "    ┌─────┴─────┬──────────┐\n",
        "    │           │          │\n",
        "    ▼           ▼          ▼\n",
        "┌────────┐ ┌────────┐ ┌────────┐\n",
        "│ Gmail  │ │Calendar│ │FileSys │\n",
        "│  MCP   │ │  MCP   │ │  MCP   │\n",
        "└───┬────┘ └───┬────┘ └───┬────┘\n",
        "    │          │          │\n",
        "    ▼          ▼          ▼\n",
        "[Gmail API][GCal API][/content/data]\n",
        "\n",
        "AUTH: Tokens in /content/mcp_config/\n",
        "SENDER: cygenaidemo@gmail.com\n",
        "\"\"\")\n",
        "\n",
        "# Show actual config\n",
        "with open('/content/mcp_config.json') as f:\n",
        "    config = json.load(f)\n",
        "    print(\"📋 Your MCP Configuration:\")\n",
        "    print(json.dumps(config, indent=2))\n",
        "\n",
        "print(\"\\n✅ Lab 1 Complete!\")"
      ]
    },
    {
      "cell_type": "markdown",
      "metadata": {
        "id": "_HitBTyfjOVr"
      },
      "source": [
        "---\n",
        "\n",
        "# LAB 2: Filesystem MCP"
      ]
    },
    {
      "cell_type": "code",
      "execution_count": null,
      "metadata": {
        "id": "2D237g8ujOVr"
      },
      "outputs": [],
      "source": [
        "# Filesystem tools\n",
        "@tool\n",
        "def read_file(file_path: str) -> str:\n",
        "    \"\"\"Read file from /content/data/\"\"\"\n",
        "    if \"priya\" in file_path.lower():\n",
        "        return SAMPLE_RESUME\n",
        "    return f\"File content from {file_path}\"\n",
        "\n",
        "@tool\n",
        "def write_file(file_path: str, content: str) -> str:\n",
        "    \"\"\"Write file to /content/data/\"\"\"\n",
        "    full_path = f\"/content/data/{file_path}\" if not file_path.startswith('/content') else file_path\n",
        "    Path(full_path).parent.mkdir(parents=True, exist_ok=True)\n",
        "    with open(full_path, 'w') as f:\n",
        "        f.write(content)\n",
        "    return f\"✅ Written to {full_path}\"\n",
        "\n",
        "@tool\n",
        "def list_files(directory: str) -> str:\n",
        "    \"\"\"List files in /content/data/ directory\"\"\"\n",
        "    full_path = f\"/content/data/{directory}\" if not directory.startswith('/content') else directory\n",
        "    if os.path.exists(full_path):\n",
        "        files = os.listdir(full_path)\n",
        "        return json.dumps({\"directory\": full_path, \"files\": files}, indent=2)\n",
        "    return json.dumps({\"directory\": full_path, \"files\": []}, indent=2)\n",
        "\n",
        "filesystem_tools = [read_file, write_file, list_files]\n",
        "filesystem_agent = create_react_agent(llm, tools=filesystem_tools)\n",
        "\n",
        "print(\"✅ Filesystem Agent ready\")"
      ]
    },
    {
      "cell_type": "code",
      "execution_count": null,
      "metadata": {
        "id": "Mcpfy5jNjOVr"
      },
      "outputs": [],
      "source": [
        "# Test Filesystem\n",
        "print(\"🧪 LAB 2: Filesystem MCP\\n\" + \"=\"*80)\n",
        "\n",
        "result = filesystem_agent.invoke({\n",
        "    \"messages\": [HumanMessage(content=\"Read and summarize Priya's resume from /content/data/resumes/priya.txt\")]\n",
        "})\n",
        "\n",
        "for msg in result['messages']:\n",
        "    if isinstance(msg, AIMessage) and msg.content and not msg.tool_calls:\n",
        "        print(f\"🤖 {msg.content}\")\n",
        "        break\n",
        "\n",
        "print(\"\\n✅ Lab 2 Complete!\")"
      ]
    },
    {
      "cell_type": "markdown",
      "metadata": {
        "id": "VDgETjOnjOVr"
      },
      "source": [
        "---\n",
        "\n",
        "# LAB 3: Gmail MCP - REAL Email Sending\n",
        "\n",
        "**This will send REAL emails from cygenaidemo@gmail.com**"
      ]
    },
    {
      "cell_type": "code",
      "execution_count": null,
      "metadata": {
        "id": "gk9107rfjOVr"
      },
      "outputs": [],
      "source": [
        "# Real Gmail integration using Google API\n",
        "from googleapiclient.discovery import build\n",
        "from google.oauth2.credentials import Credentials\n",
        "from email.mime.text import MIMEText\n",
        "import base64\n",
        "\n",
        "# Load Gmail credentials\n",
        "gmail_creds = Credentials.from_authorized_user_file('/content/mcp_config/gmail-token.json')\n",
        "gmail_service = build('gmail', 'v1', credentials=gmail_creds)\n",
        "\n",
        "@tool\n",
        "def send_email_real(to: str, subject: str, body: str, cc: str = \"\") -> str:\n",
        "    \"\"\"\n",
        "    Send REAL email via Gmail API.\n",
        "\n",
        "    Args:\n",
        "        to: Recipient email\n",
        "        subject: Email subject\n",
        "        body: Email body\n",
        "        cc: CC recipients (optional)\n",
        "    \"\"\"\n",
        "    try:\n",
        "        message = MIMEText(body)\n",
        "        message['to'] = to\n",
        "        message['from'] = SENDER_EMAIL\n",
        "        message['subject'] = subject\n",
        "        if cc:\n",
        "            message['cc'] = cc\n",
        "\n",
        "        raw = base64.urlsafe_b64encode(message.as_bytes()).decode()\n",
        "        send_message = {'raw': raw}\n",
        "\n",
        "        result = gmail_service.users().messages().send(\n",
        "            userId='me',\n",
        "            body=send_message\n",
        "        ).execute()\n",
        "\n",
        "        print(f\"\"\"\n",
        "📧 REAL EMAIL SENT!\n",
        "───────────────────────────────────────\n",
        "From: {SENDER_EMAIL}\n",
        "To: {to}\n",
        "Subject: {subject}\n",
        "Message ID: {result['id']}\n",
        "───────────────────────────────────────\n",
        "\"\"\")\n",
        "\n",
        "        return f\"✅ Email sent! Message ID: {result['id']}\"\n",
        "    except Exception as e:\n",
        "        return f\"❌ Failed to send email: {str(e)}\"\n",
        "\n",
        "@tool\n",
        "def search_emails_real(query: str, max_results: int = 10) -> str:\n",
        "    \"\"\"Search Gmail messages.\"\"\"\n",
        "    try:\n",
        "        results = gmail_service.users().messages().list(\n",
        "            userId='me',\n",
        "            q=query,\n",
        "            maxResults=max_results\n",
        "        ).execute()\n",
        "\n",
        "        messages = results.get('messages', [])\n",
        "        return json.dumps({\"count\": len(messages), \"messages\": messages[:5]}, indent=2)\n",
        "    except Exception as e:\n",
        "        return f\"❌ Search failed: {str(e)}\"\n",
        "\n",
        "gmail_tools = [send_email_real, search_emails_real]\n",
        "gmail_agent = create_react_agent(llm, tools=gmail_tools, state_modifier=f\"Email Assistant. Sender: {SENDER_EMAIL}\")\n",
        "\n",
        "print(\"✅ REAL Gmail Agent ready\")\n",
        "print(f\"📧 Sender: {SENDER_EMAIL}\")"
      ]
    },
    {
      "cell_type": "code",
      "execution_count": null,
      "metadata": {
        "id": "3C0ncJ1kjOVr"
      },
      "outputs": [],
      "source": [
        "# Test Gmail - Send Interview Invitation\n",
        "print(\"🧪 LAB 3: Gmail MCP - REAL EMAIL\\n\" + \"=\"*80)\n",
        "print(\"⚠️ This will send a REAL email!\\n\")\n",
        "\n",
        "# CHANGE THIS to your test email\n",
        "TEST_EMAIL = \"your-email@example.com\"  # ← CHANGE THIS!\n",
        "\n",
        "send_test_email = input(f\"Send test email to {TEST_EMAIL}? (yes/no): \").lower() == 'yes'\n",
        "\n",
        "if send_test_email:\n",
        "    result = gmail_agent.invoke({\n",
        "        \"messages\": [HumanMessage(content=f\"\"\"\n",
        "Send interview invitation email to {TEST_EMAIL}.\n",
        "\n",
        "Details:\n",
        "- Candidate: Priya Sharma\n",
        "- Position: Senior Backend Engineer\n",
        "- Date: October 15, 2025 at 10:00 AM IST\n",
        "- Interviewers: Rahul Verma, Vikram Singh\n",
        "- Meeting: https://meet.google.com/test-interview\n",
        "\n",
        "Make it professional and welcoming.\n",
        "\"\"\")]\n",
        "    })\n",
        "    print(\"\\n✅ Check your inbox!\")\n",
        "else:\n",
        "    print(\"\\n⏭️ Skipped. Change TEST_EMAIL and run again.\")\n",
        "\n",
        "print(\"\\n✅ Lab 3 Complete!\")"
      ]
    },
    {
      "cell_type": "markdown",
      "metadata": {
        "id": "SdGY7uwyjOVs"
      },
      "source": [
        "---\n",
        "\n",
        "# LAB 4: Google Calendar MCP - REAL Events"
      ]
    },
    {
      "cell_type": "code",
      "execution_count": null,
      "metadata": {
        "id": "3bBRbnzYjOVs"
      },
      "outputs": [],
      "source": [
        "# Real Calendar integration\n",
        "calendar_creds = Credentials.from_authorized_user_file('/content/mcp_config/calendar-token.json')\n",
        "calendar_service = build('calendar', 'v3', credentials=calendar_creds)\n",
        "\n",
        "@tool\n",
        "def create_calendar_event_real(\n",
        "    summary: str,\n",
        "    start_time: str,\n",
        "    end_time: str,\n",
        "    attendees: str,\n",
        "    description: str = \"\",\n",
        "    location: str = \"\"\n",
        ") -> str:\n",
        "    \"\"\"\n",
        "    Create REAL Google Calendar event.\n",
        "\n",
        "    Args:\n",
        "        summary: Event title\n",
        "        start_time: ISO format (2025-10-15T10:00:00+05:30)\n",
        "        end_time: ISO format\n",
        "        attendees: Comma-separated emails\n",
        "        description: Event description\n",
        "        location: Location or link\n",
        "    \"\"\"\n",
        "    try:\n",
        "        event = {\n",
        "            'summary': summary,\n",
        "            'location': location,\n",
        "            'description': description,\n",
        "            'start': {'dateTime': start_time, 'timeZone': 'Asia/Kolkata'},\n",
        "            'end': {'dateTime': end_time, 'timeZone': 'Asia/Kolkata'},\n",
        "            'attendees': [{'email': email.strip()} for email in attendees.split(',')]\n",
        "        }\n",
        "\n",
        "        result = calendar_service.events().insert(\n",
        "            calendarId='primary',\n",
        "            body=event\n",
        "        ).execute()\n",
        "\n",
        "        print(f\"\"\"\n",
        "📅 REAL CALENDAR EVENT CREATED!\n",
        "───────────────────────────────────────\n",
        "Event: {summary}\n",
        "Start: {start_time}\n",
        "Event ID: {result['id']}\n",
        "Link: {result.get('htmlLink', 'N/A')}\n",
        "───────────────────────────────────────\n",
        "\"\"\")\n",
        "\n",
        "        return f\"✅ Event created! ID: {result['id']}\"\n",
        "    except Exception as e:\n",
        "        return f\"❌ Failed: {str(e)}\"\n",
        "\n",
        "@tool\n",
        "def list_upcoming_events_real(max_results: int = 10) -> str:\n",
        "    \"\"\"List upcoming calendar events.\"\"\"\n",
        "    try:\n",
        "        now = datetime.utcnow().isoformat() + 'Z'\n",
        "        events_result = calendar_service.events().list(\n",
        "            calendarId='primary',\n",
        "            timeMin=now,\n",
        "            maxResults=max_results,\n",
        "            singleEvents=True,\n",
        "            orderBy='startTime'\n",
        "        ).execute()\n",
        "\n",
        "        events = events_result.get('items', [])\n",
        "        return json.dumps([{\"summary\": e.get('summary'), \"start\": e['start'].get('dateTime')} for e in events], indent=2)\n",
        "    except Exception as e:\n",
        "        return f\"❌ Failed: {str(e)}\"\n",
        "\n",
        "calendar_tools = [create_calendar_event_real, list_upcoming_events_real]\n",
        "calendar_agent = create_react_agent(llm, tools=calendar_tools)\n",
        "\n",
        "print(\"✅ REAL Calendar Agent ready\")"
      ]
    },
    {
      "cell_type": "code",
      "execution_count": null,
      "metadata": {
        "id": "JpGb5PULjOVs"
      },
      "outputs": [],
      "source": [
        "# Test Calendar - Create Interview Event\n",
        "print(\"🧪 LAB 4: Calendar MCP - REAL EVENT\\n\" + \"=\"*80)\n",
        "print(\"⚠️ This will create a REAL calendar event!\\n\")\n",
        "\n",
        "create_test_event = input(\"Create test calendar event? (yes/no): \").lower() == 'yes'\n",
        "\n",
        "if create_test_event:\n",
        "    result = calendar_agent.invoke({\n",
        "        \"messages\": [HumanMessage(content=f\"\"\"\n",
        "Create technical interview event:\n",
        "\n",
        "- Title: Technical Interview - Priya Sharma\n",
        "- Date: October 15, 2025\n",
        "- Time: 10:00 AM - 11:30 AM IST\n",
        "- Attendees: {TEST_EMAIL}\n",
        "- Location: https://meet.google.com/test-interview\n",
        "- Description: Technical round (Python, AWS, System Design)\n",
        "\"\"\")]\n",
        "    })\n",
        "    print(\"\\n✅ Check your Google Calendar!\")\n",
        "else:\n",
        "    print(\"\\n⏭️ Skipped. Run again to create event.\")\n",
        "\n",
        "print(\"\\n✅ Lab 4 Complete!\")"
      ]
    },
    {
      "cell_type": "markdown",
      "metadata": {
        "id": "cVS6DcTSjOVt"
      },
      "source": [
        "---\n",
        "\n",
        "# 🎉 Part 1 Complete!\n",
        "\n",
        "## What You Achieved:\n",
        "\n",
        "✅ Set up complete MCP environment in Google Colab\n",
        "\n",
        "✅ Configured real Gmail API (cygenaidemo@gmail.com)\n",
        "\n",
        "✅ Configured real Google Calendar API\n",
        "\n",
        "✅ Sent actual emails and created calendar events\n",
        "\n",
        "✅ Built agents with real-world integrations\n",
        "\n",
        "## Next Steps:\n",
        "\n",
        "📌 **Part 2** will add:\n",
        "- Discord MCP\n",
        "- GitHub MCP\n",
        "- Custom MCP servers\n",
        "- Complete workflow orchestration\n",
        "\n",
        "## 💾 Save Your Work:\n",
        "\n",
        "If you mounted Google Drive, your credentials are saved!\n",
        "\n",
        "**Next session**: Just run the Drive restore command and skip OAuth.\n",
        "\n",
        "## 🎓 Key Learnings:\n",
        "\n",
        "1. **MCP in Colab** - Node.js + Python integration\n",
        "2. **OAuth flows** - Console-based authentication\n",
        "3. **Real APIs** - Gmail and Calendar integration\n",
        "4. **Agent patterns** - Tool-enabled LLM agents\n",
        "\n",
        "Ready for Part 2! 🚀"
      ]
    }
  ],
  "metadata": {
    "kernelspec": {
      "display_name": "Python 3",
      "language": "python",
      "name": "python3"
    },
    "language_info": {
      "codemirror_mode": {
        "name": "ipython",
        "version": 3
      },
      "file_extension": ".py",
      "mimetype": "text/x-python",
      "name": "python",
      "version": "3.11.0"
    },
    "colab": {
      "provenance": [],
      "name": "MCP_Labs_Part1_Colab.ipynb"
    }
  },
  "nbformat": 4,
  "nbformat_minor": 0
}